{
 "cells": [
  {
   "cell_type": "markdown",
   "metadata": {},
   "source": [
    "## **Paramount TV**\n",
    "\n",
    "### 1. Exploración y Preparación de los Datos\n",
    "\n",
    "Datos descargados de Kaggle\n",
    "\n",
    "(Mismo código en todos los notebooks de datos)"
   ]
  },
  {
   "cell_type": "code",
   "execution_count": 1,
   "metadata": {},
   "outputs": [
    {
     "data": {
      "text/html": [
       "        <script type=\"text/javascript\">\n",
       "        window.PlotlyConfig = {MathJaxConfig: 'local'};\n",
       "        if (window.MathJax && window.MathJax.Hub && window.MathJax.Hub.Config) {window.MathJax.Hub.Config({SVG: {font: \"STIX-Web\"}});}\n",
       "        if (typeof require !== 'undefined') {\n",
       "        require.undef(\"plotly\");\n",
       "        requirejs.config({\n",
       "            paths: {\n",
       "                'plotly': ['https://cdn.plot.ly/plotly-2.12.1.min']\n",
       "            }\n",
       "        });\n",
       "        require(['plotly'], function(Plotly) {\n",
       "            window._Plotly = Plotly;\n",
       "        });\n",
       "        }\n",
       "        </script>\n",
       "        "
      ]
     },
     "metadata": {},
     "output_type": "display_data"
    }
   ],
   "source": [
    "import pandas as pd\n",
    "import numpy as np\n",
    "import seaborn as sns\n",
    "\n",
    "# plotly\n",
    "# import plotly.plotly as py\n",
    "from plotly.offline import init_notebook_mode, iplot, plot\n",
    "import plotly as py\n",
    "init_notebook_mode(connected=True)\n",
    "import plotly.graph_objs as go\n",
    "import plotly.express as px\n",
    "from plotly.subplots import make_subplots\n"
   ]
  },
  {
   "cell_type": "code",
   "execution_count": 2,
   "metadata": {},
   "outputs": [
    {
     "name": "stdout",
     "output_type": "stream",
     "text": [
      "Filas, columnas: (2825, 15)\n"
     ]
    },
    {
     "data": {
      "text/html": [
       "<div>\n",
       "<style scoped>\n",
       "    .dataframe tbody tr th:only-of-type {\n",
       "        vertical-align: middle;\n",
       "    }\n",
       "\n",
       "    .dataframe tbody tr th {\n",
       "        vertical-align: top;\n",
       "    }\n",
       "\n",
       "    .dataframe thead th {\n",
       "        text-align: right;\n",
       "    }\n",
       "</style>\n",
       "<table border=\"1\" class=\"dataframe\">\n",
       "  <thead>\n",
       "    <tr style=\"text-align: right;\">\n",
       "      <th></th>\n",
       "      <th>id</th>\n",
       "      <th>title</th>\n",
       "      <th>type</th>\n",
       "      <th>description</th>\n",
       "      <th>release_year</th>\n",
       "      <th>age_certification</th>\n",
       "      <th>runtime</th>\n",
       "      <th>genres</th>\n",
       "      <th>production_countries</th>\n",
       "      <th>seasons</th>\n",
       "      <th>imdb_id</th>\n",
       "      <th>imdb_score</th>\n",
       "      <th>imdb_votes</th>\n",
       "      <th>tmdb_popularity</th>\n",
       "      <th>tmdb_score</th>\n",
       "    </tr>\n",
       "  </thead>\n",
       "  <tbody>\n",
       "    <tr>\n",
       "      <th>0</th>\n",
       "      <td>tm19248</td>\n",
       "      <td>The General</td>\n",
       "      <td>MOVIE</td>\n",
       "      <td>During America’s Civil War, Union spies steal ...</td>\n",
       "      <td>1926</td>\n",
       "      <td>NaN</td>\n",
       "      <td>78</td>\n",
       "      <td>['action', 'drama', 'war', 'western', 'comedy'...</td>\n",
       "      <td>['US']</td>\n",
       "      <td>NaN</td>\n",
       "      <td>tt0017925</td>\n",
       "      <td>8.2</td>\n",
       "      <td>89766.0</td>\n",
       "      <td>8.647</td>\n",
       "      <td>8.0</td>\n",
       "    </tr>\n",
       "    <tr>\n",
       "      <th>1</th>\n",
       "      <td>tm83884</td>\n",
       "      <td>His Girl Friday</td>\n",
       "      <td>MOVIE</td>\n",
       "      <td>Hildy, the journalist former wife of newspaper...</td>\n",
       "      <td>1940</td>\n",
       "      <td>NaN</td>\n",
       "      <td>92</td>\n",
       "      <td>['comedy', 'drama', 'romance']</td>\n",
       "      <td>['US']</td>\n",
       "      <td>NaN</td>\n",
       "      <td>tt0032599</td>\n",
       "      <td>7.8</td>\n",
       "      <td>57835.0</td>\n",
       "      <td>11.270</td>\n",
       "      <td>7.4</td>\n",
       "    </tr>\n",
       "    <tr>\n",
       "      <th>2</th>\n",
       "      <td>tm19424</td>\n",
       "      <td>Detour</td>\n",
       "      <td>MOVIE</td>\n",
       "      <td>The life of Al Roberts, a pianist in a New Yor...</td>\n",
       "      <td>1945</td>\n",
       "      <td>NaN</td>\n",
       "      <td>66</td>\n",
       "      <td>['thriller', 'drama', 'crime']</td>\n",
       "      <td>['US']</td>\n",
       "      <td>NaN</td>\n",
       "      <td>tt0037638</td>\n",
       "      <td>7.3</td>\n",
       "      <td>17233.0</td>\n",
       "      <td>7.757</td>\n",
       "      <td>7.2</td>\n",
       "    </tr>\n",
       "    <tr>\n",
       "      <th>3</th>\n",
       "      <td>tm112005</td>\n",
       "      <td>Marihuana</td>\n",
       "      <td>MOVIE</td>\n",
       "      <td>A young girl named Burma attends a beach party...</td>\n",
       "      <td>1936</td>\n",
       "      <td>NaN</td>\n",
       "      <td>57</td>\n",
       "      <td>['crime', 'drama']</td>\n",
       "      <td>['US']</td>\n",
       "      <td>NaN</td>\n",
       "      <td>tt0026683</td>\n",
       "      <td>4.0</td>\n",
       "      <td>864.0</td>\n",
       "      <td>3.748</td>\n",
       "      <td>3.6</td>\n",
       "    </tr>\n",
       "    <tr>\n",
       "      <th>4</th>\n",
       "      <td>tm22806</td>\n",
       "      <td>Intolerance: Love's Struggle Throughout the Ages</td>\n",
       "      <td>MOVIE</td>\n",
       "      <td>The story of a poor young woman, separated by ...</td>\n",
       "      <td>1916</td>\n",
       "      <td>NaN</td>\n",
       "      <td>197</td>\n",
       "      <td>['history', 'drama']</td>\n",
       "      <td>['US']</td>\n",
       "      <td>NaN</td>\n",
       "      <td>tt0006864</td>\n",
       "      <td>7.7</td>\n",
       "      <td>15242.0</td>\n",
       "      <td>9.412</td>\n",
       "      <td>7.2</td>\n",
       "    </tr>\n",
       "  </tbody>\n",
       "</table>\n",
       "</div>"
      ],
      "text/plain": [
       "         id                                             title   type  \\\n",
       "0   tm19248                                       The General  MOVIE   \n",
       "1   tm83884                                   His Girl Friday  MOVIE   \n",
       "2   tm19424                                            Detour  MOVIE   \n",
       "3  tm112005                                         Marihuana  MOVIE   \n",
       "4   tm22806  Intolerance: Love's Struggle Throughout the Ages  MOVIE   \n",
       "\n",
       "                                         description  release_year  \\\n",
       "0  During America’s Civil War, Union spies steal ...          1926   \n",
       "1  Hildy, the journalist former wife of newspaper...          1940   \n",
       "2  The life of Al Roberts, a pianist in a New Yor...          1945   \n",
       "3  A young girl named Burma attends a beach party...          1936   \n",
       "4  The story of a poor young woman, separated by ...          1916   \n",
       "\n",
       "  age_certification  runtime  \\\n",
       "0               NaN       78   \n",
       "1               NaN       92   \n",
       "2               NaN       66   \n",
       "3               NaN       57   \n",
       "4               NaN      197   \n",
       "\n",
       "                                              genres production_countries  \\\n",
       "0  ['action', 'drama', 'war', 'western', 'comedy'...               ['US']   \n",
       "1                     ['comedy', 'drama', 'romance']               ['US']   \n",
       "2                     ['thriller', 'drama', 'crime']               ['US']   \n",
       "3                                 ['crime', 'drama']               ['US']   \n",
       "4                               ['history', 'drama']               ['US']   \n",
       "\n",
       "   seasons    imdb_id  imdb_score  imdb_votes  tmdb_popularity  tmdb_score  \n",
       "0      NaN  tt0017925         8.2     89766.0            8.647         8.0  \n",
       "1      NaN  tt0032599         7.8     57835.0           11.270         7.4  \n",
       "2      NaN  tt0037638         7.3     17233.0            7.757         7.2  \n",
       "3      NaN  tt0026683         4.0       864.0            3.748         3.6  \n",
       "4      NaN  tt0006864         7.7     15242.0            9.412         7.2  "
      ]
     },
     "execution_count": 2,
     "metadata": {},
     "output_type": "execute_result"
    }
   ],
   "source": [
    "data_paramount = pd.read_csv('../src:data/Data_Paramount/datos_paramount.csv')\n",
    "\n",
    "print(\"Filas, columnas:\", data_paramount.shape)\n",
    "data_paramount.head()"
   ]
  },
  {
   "cell_type": "code",
   "execution_count": 3,
   "metadata": {},
   "outputs": [
    {
     "data": {
      "text/plain": [
       "id                       object\n",
       "title                    object\n",
       "type                     object\n",
       "description              object\n",
       "release_year              int64\n",
       "age_certification        object\n",
       "runtime                   int64\n",
       "genres                   object\n",
       "production_countries     object\n",
       "seasons                 float64\n",
       "imdb_id                  object\n",
       "imdb_score              float64\n",
       "imdb_votes              float64\n",
       "tmdb_popularity         float64\n",
       "tmdb_score              float64\n",
       "dtype: object"
      ]
     },
     "execution_count": 3,
     "metadata": {},
     "output_type": "execute_result"
    }
   ],
   "source": [
    "# Tipo de dato\n",
    "data_paramount.dtypes"
   ]
  },
  {
   "cell_type": "code",
   "execution_count": 4,
   "metadata": {},
   "outputs": [
    {
     "data": {
      "text/plain": [
       "id                         0\n",
       "title                      0\n",
       "type                       0\n",
       "description               13\n",
       "release_year               0\n",
       "age_certification       1523\n",
       "runtime                    0\n",
       "genres                     0\n",
       "production_countries       0\n",
       "seasons                 2199\n",
       "imdb_id                  159\n",
       "imdb_score               212\n",
       "imdb_votes               212\n",
       "tmdb_popularity           57\n",
       "tmdb_score               488\n",
       "dtype: int64"
      ]
     },
     "execution_count": 4,
     "metadata": {},
     "output_type": "execute_result"
    }
   ],
   "source": [
    "# Missings\n",
    "\n",
    "data_paramount.isna().sum()"
   ]
  },
  {
   "cell_type": "code",
   "execution_count": 5,
   "metadata": {},
   "outputs": [
    {
     "name": "stdout",
     "output_type": "stream",
     "text": [
      "0.0\n",
      "0.0\n",
      "0.0\n",
      "0.4601769911504424\n",
      "0.0\n",
      "53.911504424778755\n",
      "0.0\n",
      "0.0\n",
      "0.0\n",
      "77.84070796460178\n",
      "5.628318584070797\n",
      "7.504424778761062\n",
      "7.504424778761062\n",
      "2.017699115044248\n",
      "17.27433628318584\n"
     ]
    }
   ],
   "source": [
    "#Nulls en porcentaje\n",
    "for i in data_paramount.isna().sum():\n",
    "    print((i/data_paramount.shape[0])*100)\n",
    "\n",
    "#Destacamos que el 78% de los valores de la columna season son nulos, o no incluye esa información o la mayoría son películas, o las series solo tienen 1 temp (dif plat / real)\n",
    "# También destacamos que más de la mitad de los títulos no tienen edad recomendada"
   ]
  },
  {
   "cell_type": "code",
   "execution_count": 6,
   "metadata": {},
   "outputs": [
    {
     "data": {
      "text/plain": [
       "<AxesSubplot:>"
      ]
     },
     "execution_count": 6,
     "metadata": {},
     "output_type": "execute_result"
    },
    {
     "data": {
      "image/png": "[encoded data removed]",
      "text/plain": [
       "<Figure size 432x288 with 1 Axes>"
      ]
     },
     "metadata": {
      "needs_background": "light"
     },
     "output_type": "display_data"
    }
   ],
   "source": [
    "sns.heatmap(data_paramount.isnull(),cbar=False,cmap='viridis')"
   ]
  },
  {
   "cell_type": "markdown",
   "metadata": {},
   "source": [
    "1.2. Columnas\n",
    "\n",
    "- ID: ID del título en JustWatch\n",
    "\n",
    "- title: nombre del título\n",
    "\n",
    "- show type: SHOW o MOVIE - diferenciación entre pelicula o serie\n",
    "\n",
    "- description: breve descripción\n",
    "\n",
    "- release year: año de estreno\n",
    "\n",
    "- age certification: orientacion a padres de edad mínima recomendada\n",
    "\n",
    "- runtime: duración\n",
    "\n",
    "- genres: lista de géneros\n",
    "\n",
    "- production countries: lista de países que produjeron el título\n",
    "\n",
    "- seasons: número de temporadas\n",
    "\n",
    "- IMDB ID: ID del título en IMDB\n",
    "\n",
    "- IMDB Score: puntuación en IMDB\n",
    "\n",
    "- IMDB Votes: votos en IMDB\n",
    "\n",
    "- TMDB Score: puntuación en TMDB\n",
    "\n",
    "- TMDB Popularity: popularidad en TMDB\n",
    "\n",
    "    La métrica de popularidad de TMDB se mide -diariamente- en función de los parámetros:\n",
    "    - N de votos al día\n",
    "    - N vistas de pág al día    \n",
    "    - N usuarios que marcan el título como favorito    \n",
    "    - Fecha de estreno +  fecha de emisión del último/nuevo episodio    \n",
    "    - N total de votos\n",
    "    - Puntuación de los días anteriores"
   ]
  },
  {
   "cell_type": "code",
   "execution_count": 7,
   "metadata": {},
   "outputs": [
    {
     "name": "stdout",
     "output_type": "stream",
     "text": [
      "Index(['id', 'title', 'type', 'description', 'release_year',\n",
      "       'age_certification', 'runtime', 'genres', 'production_countries',\n",
      "       'seasons', 'imdb_id', 'imdb_score', 'imdb_votes', 'tmdb_popularity',\n",
      "       'tmdb_score'],\n",
      "      dtype='object')\n",
      "N columnas: 15\n"
     ]
    }
   ],
   "source": [
    "print(data_paramount.columns)\n",
    "print(\"N columnas:\", len(data_paramount.columns))"
   ]
  },
  {
   "cell_type": "code",
   "execution_count": 8,
   "metadata": {},
   "outputs": [
    {
     "name": "stdout",
     "output_type": "stream",
     "text": [
      "Tipo de dato: object\n",
      "n titulos duplicados: 15\n",
      "valores repetidos: 15\n"
     ]
    }
   ],
   "source": [
    "# Título\n",
    "# Cada título representa un contenido 'único' de la plataforma\n",
    "# Comprobamos que no haya duplicados (ya sabemos que no hay nulos)\n",
    "\n",
    "print('Tipo de dato:', data_paramount['title'].dtype)\n",
    "titulos_duplicados = data_paramount.loc[data_paramount.duplicated(['title'])]\n",
    "print(\"n titulos duplicados:\", titulos_duplicados.shape[0])\n",
    "titulos_unicos = data_paramount['title'].nunique()\n",
    "print(\"valores repetidos:\", data_paramount.shape[0] - titulos_unicos)"
   ]
  },
  {
   "cell_type": "code",
   "execution_count": 9,
   "metadata": {},
   "outputs": [
    {
     "name": "stdout",
     "output_type": "stream",
     "text": [
      "n duplicados: 0\n"
     ]
    },
    {
     "data": {
      "text/html": [
       "<div>\n",
       "<style scoped>\n",
       "    .dataframe tbody tr th:only-of-type {\n",
       "        vertical-align: middle;\n",
       "    }\n",
       "\n",
       "    .dataframe tbody tr th {\n",
       "        vertical-align: top;\n",
       "    }\n",
       "\n",
       "    .dataframe thead th {\n",
       "        text-align: right;\n",
       "    }\n",
       "</style>\n",
       "<table border=\"1\" class=\"dataframe\">\n",
       "  <thead>\n",
       "    <tr style=\"text-align: right;\">\n",
       "      <th></th>\n",
       "      <th>id</th>\n",
       "      <th>title</th>\n",
       "      <th>type</th>\n",
       "      <th>description</th>\n",
       "      <th>release_year</th>\n",
       "      <th>age_certification</th>\n",
       "      <th>runtime</th>\n",
       "      <th>genres</th>\n",
       "      <th>production_countries</th>\n",
       "      <th>seasons</th>\n",
       "      <th>imdb_id</th>\n",
       "      <th>imdb_score</th>\n",
       "      <th>imdb_votes</th>\n",
       "      <th>tmdb_popularity</th>\n",
       "      <th>tmdb_score</th>\n",
       "    </tr>\n",
       "  </thead>\n",
       "  <tbody>\n",
       "  </tbody>\n",
       "</table>\n",
       "</div>"
      ],
      "text/plain": [
       "Empty DataFrame\n",
       "Columns: [id, title, type, description, release_year, age_certification, runtime, genres, production_countries, seasons, imdb_id, imdb_score, imdb_votes, tmdb_popularity, tmdb_score]\n",
       "Index: []"
      ]
     },
     "execution_count": 9,
     "metadata": {},
     "output_type": "execute_result"
    }
   ],
   "source": [
    "# Tenemos 15 titulos duplicados, pero esto no indica que sean la misma película/serie\n",
    "# Comprobamos duplicados que coincidan en título, tipo de contenido, año de estreno y duración:\n",
    "\n",
    "print(\"n duplicados:\", data_paramount[data_paramount.duplicated(subset=['title', 'type', 'release_year', 'runtime'])].shape[0])\n",
    "data_paramount[data_paramount.duplicated(subset=['title', 'type', 'release_year', 'runtime'])]\n",
    "\n",
    "# Ningún duplicado en este dataset"
   ]
  },
  {
   "cell_type": "code",
   "execution_count": 10,
   "metadata": {},
   "outputs": [
    {
     "name": "stdout",
     "output_type": "stream",
     "text": [
      "N columnas: 13\n"
     ]
    },
    {
     "data": {
      "text/html": [
       "<div>\n",
       "<style scoped>\n",
       "    .dataframe tbody tr th:only-of-type {\n",
       "        vertical-align: middle;\n",
       "    }\n",
       "\n",
       "    .dataframe tbody tr th {\n",
       "        vertical-align: top;\n",
       "    }\n",
       "\n",
       "    .dataframe thead th {\n",
       "        text-align: right;\n",
       "    }\n",
       "</style>\n",
       "<table border=\"1\" class=\"dataframe\">\n",
       "  <thead>\n",
       "    <tr style=\"text-align: right;\">\n",
       "      <th></th>\n",
       "      <th>id</th>\n",
       "      <th>title</th>\n",
       "      <th>type</th>\n",
       "      <th>release_year</th>\n",
       "      <th>age_certification</th>\n",
       "      <th>runtime</th>\n",
       "      <th>genres</th>\n",
       "      <th>production_countries</th>\n",
       "      <th>seasons</th>\n",
       "      <th>imdb_score</th>\n",
       "      <th>imdb_votes</th>\n",
       "      <th>tmdb_popularity</th>\n",
       "      <th>tmdb_score</th>\n",
       "    </tr>\n",
       "  </thead>\n",
       "  <tbody>\n",
       "    <tr>\n",
       "      <th>0</th>\n",
       "      <td>tm19248</td>\n",
       "      <td>The General</td>\n",
       "      <td>MOVIE</td>\n",
       "      <td>1926</td>\n",
       "      <td>NaN</td>\n",
       "      <td>78</td>\n",
       "      <td>['action', 'drama', 'war', 'western', 'comedy'...</td>\n",
       "      <td>['US']</td>\n",
       "      <td>NaN</td>\n",
       "      <td>8.2</td>\n",
       "      <td>89766.0</td>\n",
       "      <td>8.647</td>\n",
       "      <td>8.0</td>\n",
       "    </tr>\n",
       "    <tr>\n",
       "      <th>1</th>\n",
       "      <td>tm83884</td>\n",
       "      <td>His Girl Friday</td>\n",
       "      <td>MOVIE</td>\n",
       "      <td>1940</td>\n",
       "      <td>NaN</td>\n",
       "      <td>92</td>\n",
       "      <td>['comedy', 'drama', 'romance']</td>\n",
       "      <td>['US']</td>\n",
       "      <td>NaN</td>\n",
       "      <td>7.8</td>\n",
       "      <td>57835.0</td>\n",
       "      <td>11.270</td>\n",
       "      <td>7.4</td>\n",
       "    </tr>\n",
       "    <tr>\n",
       "      <th>2</th>\n",
       "      <td>tm19424</td>\n",
       "      <td>Detour</td>\n",
       "      <td>MOVIE</td>\n",
       "      <td>1945</td>\n",
       "      <td>NaN</td>\n",
       "      <td>66</td>\n",
       "      <td>['thriller', 'drama', 'crime']</td>\n",
       "      <td>['US']</td>\n",
       "      <td>NaN</td>\n",
       "      <td>7.3</td>\n",
       "      <td>17233.0</td>\n",
       "      <td>7.757</td>\n",
       "      <td>7.2</td>\n",
       "    </tr>\n",
       "    <tr>\n",
       "      <th>3</th>\n",
       "      <td>tm112005</td>\n",
       "      <td>Marihuana</td>\n",
       "      <td>MOVIE</td>\n",
       "      <td>1936</td>\n",
       "      <td>NaN</td>\n",
       "      <td>57</td>\n",
       "      <td>['crime', 'drama']</td>\n",
       "      <td>['US']</td>\n",
       "      <td>NaN</td>\n",
       "      <td>4.0</td>\n",
       "      <td>864.0</td>\n",
       "      <td>3.748</td>\n",
       "      <td>3.6</td>\n",
       "    </tr>\n",
       "    <tr>\n",
       "      <th>4</th>\n",
       "      <td>tm22806</td>\n",
       "      <td>Intolerance: Love's Struggle Throughout the Ages</td>\n",
       "      <td>MOVIE</td>\n",
       "      <td>1916</td>\n",
       "      <td>NaN</td>\n",
       "      <td>197</td>\n",
       "      <td>['history', 'drama']</td>\n",
       "      <td>['US']</td>\n",
       "      <td>NaN</td>\n",
       "      <td>7.7</td>\n",
       "      <td>15242.0</td>\n",
       "      <td>9.412</td>\n",
       "      <td>7.2</td>\n",
       "    </tr>\n",
       "  </tbody>\n",
       "</table>\n",
       "</div>"
      ],
      "text/plain": [
       "         id                                             title   type  \\\n",
       "0   tm19248                                       The General  MOVIE   \n",
       "1   tm83884                                   His Girl Friday  MOVIE   \n",
       "2   tm19424                                            Detour  MOVIE   \n",
       "3  tm112005                                         Marihuana  MOVIE   \n",
       "4   tm22806  Intolerance: Love's Struggle Throughout the Ages  MOVIE   \n",
       "\n",
       "   release_year age_certification  runtime  \\\n",
       "0          1926               NaN       78   \n",
       "1          1940               NaN       92   \n",
       "2          1945               NaN       66   \n",
       "3          1936               NaN       57   \n",
       "4          1916               NaN      197   \n",
       "\n",
       "                                              genres production_countries  \\\n",
       "0  ['action', 'drama', 'war', 'western', 'comedy'...               ['US']   \n",
       "1                     ['comedy', 'drama', 'romance']               ['US']   \n",
       "2                     ['thriller', 'drama', 'crime']               ['US']   \n",
       "3                                 ['crime', 'drama']               ['US']   \n",
       "4                               ['history', 'drama']               ['US']   \n",
       "\n",
       "   seasons  imdb_score  imdb_votes  tmdb_popularity  tmdb_score  \n",
       "0      NaN         8.2     89766.0            8.647         8.0  \n",
       "1      NaN         7.8     57835.0           11.270         7.4  \n",
       "2      NaN         7.3     17233.0            7.757         7.2  \n",
       "3      NaN         4.0       864.0            3.748         3.6  \n",
       "4      NaN         7.7     15242.0            9.412         7.2  "
      ]
     },
     "execution_count": 10,
     "metadata": {},
     "output_type": "execute_result"
    }
   ],
   "source": [
    "# Eliminamos las columnas con el id de Imdb ya que no hemos sacado informacion de estas webs - más allá de la ya dada en el dataset\n",
    "# Tampoco vamos a utilizar en este análisis la descripción de las películas\n",
    "# Mantenemos tanto la valoración de imdb como de tndm porque al pertenecer imdb a amazon podría haber datos sesgados\n",
    "\n",
    "data_paramount1 = data_paramount.drop(['imdb_id', 'description'], axis=1).copy()\n",
    "print(\"N columnas:\", data_paramount1.shape[1])\n",
    "data_paramount1.head()"
   ]
  },
  {
   "cell_type": "code",
   "execution_count": 11,
   "metadata": {},
   "outputs": [
    {
     "name": "stdout",
     "output_type": "stream",
     "text": [
      "Valores unicos: 2825\n",
      "n filas: 2825\n"
     ]
    }
   ],
   "source": [
    "# Comprobamos que la columna id tiene valores únicos para cada título \n",
    "# --> por si lo necesitásemos a la hora de juntar las tablas de todas las plataformas y diferenciar por contenido exclusivo \n",
    "# (por eso no eliminamos esta columna)\n",
    "print(\"Valores unicos:\", data_paramount1['id'].nunique())\n",
    "print(\"n filas:\", data_paramount1['id'].shape[0])"
   ]
  },
  {
   "cell_type": "code",
   "execution_count": 12,
   "metadata": {},
   "outputs": [
    {
     "data": {
      "text/plain": [
       "array(['MOVIE', 'SHOW'], dtype=object)"
      ]
     },
     "execution_count": 12,
     "metadata": {},
     "output_type": "execute_result"
    }
   ],
   "source": [
    "# Comprobamos los valores de la vble type y nos aseguramos que es de tipo string\n",
    "# --> La utilizaremos para diferenciar los títulos\n",
    "data_paramount1['type'] = data_paramount1['type'].astype(str)\n",
    "data_paramount1['type'].unique()"
   ]
  },
  {
   "cell_type": "code",
   "execution_count": 13,
   "metadata": {},
   "outputs": [],
   "source": [
    "#Creamos la columna década (tiene más sentido para clasificar el contenido)\n",
    "\n",
    "decadas = (10 * (data_paramount1['release_year'] // 10)).astype(str) + 's'\n",
    "data_paramount1.insert(4, 'Decada', decadas)\n",
    "\n",
    "#Eliminamos la columna release_year\n",
    "del data_paramount1['release_year']"
   ]
  },
  {
   "cell_type": "code",
   "execution_count": 14,
   "metadata": {},
   "outputs": [
    {
     "data": {
      "text/html": [
       "<div>\n",
       "<style scoped>\n",
       "    .dataframe tbody tr th:only-of-type {\n",
       "        vertical-align: middle;\n",
       "    }\n",
       "\n",
       "    .dataframe tbody tr th {\n",
       "        vertical-align: top;\n",
       "    }\n",
       "\n",
       "    .dataframe thead th {\n",
       "        text-align: right;\n",
       "    }\n",
       "</style>\n",
       "<table border=\"1\" class=\"dataframe\">\n",
       "  <thead>\n",
       "    <tr style=\"text-align: right;\">\n",
       "      <th></th>\n",
       "      <th>Decada</th>\n",
       "      <th>total</th>\n",
       "    </tr>\n",
       "  </thead>\n",
       "  <tbody>\n",
       "    <tr>\n",
       "      <th>2010s</th>\n",
       "      <td>1113</td>\n",
       "      <td>39.40</td>\n",
       "    </tr>\n",
       "    <tr>\n",
       "      <th>2000s</th>\n",
       "      <td>270</td>\n",
       "      <td>9.56</td>\n",
       "    </tr>\n",
       "    <tr>\n",
       "      <th>1940s</th>\n",
       "      <td>241</td>\n",
       "      <td>8.53</td>\n",
       "    </tr>\n",
       "    <tr>\n",
       "      <th>1930s</th>\n",
       "      <td>225</td>\n",
       "      <td>7.96</td>\n",
       "    </tr>\n",
       "    <tr>\n",
       "      <th>2020s</th>\n",
       "      <td>218</td>\n",
       "      <td>7.72</td>\n",
       "    </tr>\n",
       "    <tr>\n",
       "      <th>1990s</th>\n",
       "      <td>165</td>\n",
       "      <td>5.84</td>\n",
       "    </tr>\n",
       "    <tr>\n",
       "      <th>1980s</th>\n",
       "      <td>150</td>\n",
       "      <td>5.31</td>\n",
       "    </tr>\n",
       "    <tr>\n",
       "      <th>1970s</th>\n",
       "      <td>132</td>\n",
       "      <td>4.67</td>\n",
       "    </tr>\n",
       "    <tr>\n",
       "      <th>1950s</th>\n",
       "      <td>127</td>\n",
       "      <td>4.50</td>\n",
       "    </tr>\n",
       "    <tr>\n",
       "      <th>1960s</th>\n",
       "      <td>118</td>\n",
       "      <td>4.18</td>\n",
       "    </tr>\n",
       "    <tr>\n",
       "      <th>1920s</th>\n",
       "      <td>50</td>\n",
       "      <td>1.77</td>\n",
       "    </tr>\n",
       "    <tr>\n",
       "      <th>1910s</th>\n",
       "      <td>16</td>\n",
       "      <td>0.57</td>\n",
       "    </tr>\n",
       "  </tbody>\n",
       "</table>\n",
       "</div>"
      ],
      "text/plain": [
       "       Decada  total\n",
       "2010s    1113  39.40\n",
       "2000s     270   9.56\n",
       "1940s     241   8.53\n",
       "1930s     225   7.96\n",
       "2020s     218   7.72\n",
       "1990s     165   5.84\n",
       "1980s     150   5.31\n",
       "1970s     132   4.67\n",
       "1950s     127   4.50\n",
       "1960s     118   4.18\n",
       "1920s      50   1.77\n",
       "1910s      16   0.57"
      ]
     },
     "execution_count": 14,
     "metadata": {},
     "output_type": "execute_result"
    }
   ],
   "source": [
    "df_decadas_paramount = pd.DataFrame(data_paramount1['Decada'].value_counts())\n",
    "total = df_decadas_paramount['Decada'].sum()\n",
    "df_decadas_paramount['total'] = [round((i/total)*100, 2) for i in df_decadas_paramount['Decada']]\n",
    "df_decadas_paramount\n",
    "\n",
    "# Algun error?? 2010s como en el resto de plataformas tiene un peso de casi el 40, pero 2020s está por debajo del contenido de 1930 ??\n",
    "# Ver--> por qué 1930 y 1940 tiene un peso tan alto comparado con el resto de plat"
   ]
  },
  {
   "cell_type": "code",
   "execution_count": 15,
   "metadata": {},
   "outputs": [
    {
     "name": "stdout",
     "output_type": "stream",
     "text": [
      "Valores NaN: 1523\n",
      "Valores: 1302\n",
      "Valores Columna Edad: [nan 'G' 'PG' 'PG-13' 'R' 'TV-PG' 'TV-G' 'TV-Y7' 'TV-MA' 'TV-14' 'TV-Y'\n",
      " 'NC-17']\n"
     ]
    }
   ],
   "source": [
    "# age_certificacion --> 54% valores nulos\n",
    "print(\"Valores NaN:\", len(data_paramount1[data_paramount1['age_certification'].isna() == True]))\n",
    "print(\"Valores:\", len(data_paramount1[data_paramount1['age_certification'].isna() != True]))\n",
    "#vemos variables para redefinirlas\n",
    "print(\"Valores Columna Edad:\", data_paramount1['age_certification'].unique())"
   ]
  },
  {
   "cell_type": "code",
   "execution_count": 16,
   "metadata": {},
   "outputs": [
    {
     "name": "stdout",
     "output_type": "stream",
     "text": [
      "Valores Columna Edad: [9999    0    7   13   17]\n",
      "Valores NaN: 0\n"
     ]
    }
   ],
   "source": [
    "# Redefinimos los valores\n",
    "\n",
    "\"\"\"\n",
    "- G:        > 0 - Todas las edades\n",
    "- TV-G:     > 0 publico general \n",
    "- TV-Y:     < 6 años \n",
    "- TV-Y7:    < 7 años \n",
    "- TV-PG:    < Puede ser inadecuado para niños sin la guía de un padre  (lo definimos como para mayores de 13) \n",
    "- PG:       < Puede ser inadecuado para niños sin la guía de un padre  (lo definimos como para mayores de 13) \n",
    "- PG-13:    > 13\n",
    "- TV-14:    > 14 \n",
    "- R:        > 17 - Restringido\n",
    "- NC-17:    > 17 - No se admiten menores de 17\n",
    "- TV-MA     > 17 \n",
    "\n",
    "- Límites:\n",
    "    0 (años) = todos los públicos\n",
    "    7 (años) = + 7 años\n",
    "    13 (años) = + 13 años\n",
    "    17 (años) = + 17 años\n",
    "\n",
    "Tenemos 6487 NaN --> le asignamos el numero 9999 (no podemos eliminarlos)\n",
    "\"\"\"\n",
    "\n",
    "data_paramount1['age_certification'] = np.where(data_paramount1['age_certification'] == \"G\", 0, data_paramount1['age_certification'])\n",
    "data_paramount1['age_certification'] = np.where(data_paramount1['age_certification'] == \"TV-G\", 0, data_paramount1['age_certification'])\n",
    "data_paramount1['age_certification'] = np.where(data_paramount1['age_certification'] == \"TV-Y\", 7, data_paramount1['age_certification'])\n",
    "data_paramount1['age_certification'] = np.where(data_paramount1['age_certification'] == \"TV-Y7\", 7, data_paramount1['age_certification'])\n",
    "data_paramount1['age_certification'] = np.where(data_paramount1['age_certification'] == \"TV-PG\", 7, data_paramount1['age_certification'])\n",
    "data_paramount1['age_certification'] = np.where(data_paramount1['age_certification'] == \"PG\", 7, data_paramount1['age_certification'])\n",
    "data_paramount1['age_certification'] = np.where(data_paramount1['age_certification'] == \"PG-13\", 13, data_paramount1['age_certification'])\n",
    "data_paramount1['age_certification'] = np.where(data_paramount1['age_certification'] == \"TV-14\", 13, data_paramount1['age_certification'])\n",
    "data_paramount1['age_certification'] = np.where(data_paramount1['age_certification'] == \"R\", 17, data_paramount1['age_certification'])\n",
    "data_paramount1['age_certification'] = np.where(data_paramount1['age_certification'] == \"NC-17\", 17, data_paramount1['age_certification'])\n",
    "data_paramount1['age_certification'] = np.where(data_paramount1['age_certification'] == \"TV-MA\", 17, data_paramount1['age_certification'])\n",
    "\n",
    "# Asignamos el numero 9999 a los valores nulos:\n",
    "data_paramount1['age_certification'] = data_paramount1['age_certification'].fillna(9999)\n",
    "\n",
    "# Comprobamos cambios\n",
    "data_paramount1['age_certification'] = data_paramount1['age_certification'].astype(int)\n",
    "print(\"Valores Columna Edad:\", data_paramount1['age_certification'].unique())\n",
    "print(\"Valores NaN:\", len(data_paramount1[data_paramount1['age_certification'].isna() == True]))"
   ]
  },
  {
   "cell_type": "code",
   "execution_count": 17,
   "metadata": {},
   "outputs": [
    {
     "data": {
      "text/html": [
       "<div>\n",
       "<style scoped>\n",
       "    .dataframe tbody tr th:only-of-type {\n",
       "        vertical-align: middle;\n",
       "    }\n",
       "\n",
       "    .dataframe tbody tr th {\n",
       "        vertical-align: top;\n",
       "    }\n",
       "\n",
       "    .dataframe thead th {\n",
       "        text-align: right;\n",
       "    }\n",
       "</style>\n",
       "<table border=\"1\" class=\"dataframe\">\n",
       "  <thead>\n",
       "    <tr style=\"text-align: right;\">\n",
       "      <th></th>\n",
       "      <th>age_certification</th>\n",
       "      <th>total</th>\n",
       "    </tr>\n",
       "  </thead>\n",
       "  <tbody>\n",
       "    <tr>\n",
       "      <th>9999</th>\n",
       "      <td>1523</td>\n",
       "      <td>53.91</td>\n",
       "    </tr>\n",
       "    <tr>\n",
       "      <th>7</th>\n",
       "      <td>392</td>\n",
       "      <td>13.88</td>\n",
       "    </tr>\n",
       "    <tr>\n",
       "      <th>17</th>\n",
       "      <td>380</td>\n",
       "      <td>13.45</td>\n",
       "    </tr>\n",
       "    <tr>\n",
       "      <th>13</th>\n",
       "      <td>345</td>\n",
       "      <td>12.21</td>\n",
       "    </tr>\n",
       "    <tr>\n",
       "      <th>0</th>\n",
       "      <td>185</td>\n",
       "      <td>6.55</td>\n",
       "    </tr>\n",
       "  </tbody>\n",
       "</table>\n",
       "</div>"
      ],
      "text/plain": [
       "      age_certification  total\n",
       "9999               1523  53.91\n",
       "7                   392  13.88\n",
       "17                  380  13.45\n",
       "13                  345  12.21\n",
       "0                   185   6.55"
      ]
     },
     "execution_count": 17,
     "metadata": {},
     "output_type": "execute_result"
    }
   ],
   "source": [
    "df_edades_paramount = pd.DataFrame(data_paramount1['age_certification'].value_counts())\n",
    "total = data_paramount1['age_certification'].value_counts().sum()\n",
    "df_edades_paramount['total'] = [round((i/total)*100, 2) for i in df_edades_paramount['age_certification']]\n",
    "df_edades_paramount"
   ]
  },
  {
   "cell_type": "code",
   "execution_count": 18,
   "metadata": {},
   "outputs": [
    {
     "name": "stdout",
     "output_type": "stream",
     "text": [
      "N NaN en 'genres': 54\n",
      "% NaN en 'genres': 1.91\n"
     ]
    }
   ],
   "source": [
    "#Comprobamos numero de listas vacías en columna genres\n",
    "\n",
    "nan_genres = 0\n",
    "for i in data_paramount1['genres']:\n",
    "    if \"[]\" in i:\n",
    "        nan_genres +=1\n",
    "print(\"N NaN en 'genres':\", nan_genres)\n",
    "print(\"% NaN en 'genres':\", round(nan_genres / data_paramount1.shape[0] *100, 2))"
   ]
  },
  {
   "cell_type": "code",
   "execution_count": 19,
   "metadata": {},
   "outputs": [],
   "source": [
    "# Sacamos todos los generos que incluye la columna para agruparlos\n",
    "\n",
    "otra_lista = []\n",
    "for lista in data_paramount1['genres'].apply(eval):\n",
    "    for x in lista:\n",
    "        otra_lista.append(x)"
   ]
  },
  {
   "cell_type": "code",
   "execution_count": 20,
   "metadata": {},
   "outputs": [
    {
     "name": "stdout",
     "output_type": "stream",
     "text": [
      "generos: ['action' 'drama' 'war' 'western' 'comedy' 'european' 'romance' 'thriller'\n",
      " 'crime' 'history' 'horror' 'family' 'fantasy' 'sport' 'scifi'\n",
      " 'documentation' 'music' 'animation' 'reality']\n",
      "n generos: 19\n"
     ]
    }
   ],
   "source": [
    "# Pasamos a serie para ver valores únicos\n",
    "generos = pd.Series(otra_lista)\n",
    "print(\"generos:\", generos.unique())\n",
    "print(\"n generos:\", len(generos.unique()))"
   ]
  },
  {
   "cell_type": "code",
   "execution_count": 21,
   "metadata": {},
   "outputs": [
    {
     "name": "stdout",
     "output_type": "stream",
     "text": [
      "object\n",
      "['action', 'drama', 'war', 'western', 'comedy', 'european']\n",
      "[\n"
     ]
    }
   ],
   "source": [
    "print(data_paramount1['genres'].dtype) # --> object\n",
    "print(data_paramount1['genres'].iloc[0])\n",
    "type(data_paramount1['genres'].iloc[0]) #-->str\n",
    "print(data_paramount1['genres'].iloc[0][0]) #--> interpreta el primer elemento de la lista como el primer caracter\n",
    "\n",
    "#Aunque tiene un formato visualmente de lista --> es un string"
   ]
  },
  {
   "cell_type": "code",
   "execution_count": 22,
   "metadata": {},
   "outputs": [
    {
     "name": "stderr",
     "output_type": "stream",
     "text": [
      "/Library/Frameworks/Python.framework/Versions/3.7/lib/python3.7/site-packages/ipykernel_launcher.py:3: FutureWarning:\n",
      "\n",
      "The default value of regex will change from True to False in a future version. In addition, single character regular expressions will *not* be treated as literal strings when regex=True.\n",
      "\n"
     ]
    },
    {
     "data": {
      "text/plain": [
       "'action'"
      ]
     },
     "execution_count": 22,
     "metadata": {},
     "output_type": "execute_result"
    }
   ],
   "source": [
    "# Eliminamos caracteres y separamos por la coma para poder acceder a cada genero de la lista\n",
    "\n",
    "data_paramount1['genres'] = data_paramount1['genres'].str.replace(\"[\", \"\").str.replace(\"]\",\"\").str.replace(\"'\", \"\").str.replace('\"',\"\")\n",
    "data_paramount1['genres'] = data_paramount1['genres'].str.rsplit(pat=\", \")\n",
    "data_paramount1['genres'][0][0]"
   ]
  },
  {
   "cell_type": "code",
   "execution_count": 23,
   "metadata": {},
   "outputs": [],
   "source": [
    "# Bajo la suposicion de que el genero principal de cada titulo es el primero que aparece, definimos la columna['genres'] por el primer genero que aparezca en su lista\n",
    "\n",
    "data_paramount1['genres'] = [fila[0] for fila in data_paramount1['genres']]"
   ]
  },
  {
   "cell_type": "code",
   "execution_count": 24,
   "metadata": {},
   "outputs": [
    {
     "name": "stdout",
     "output_type": "stream",
     "text": [
      "N generos: 2825\n"
     ]
    },
    {
     "data": {
      "text/html": [
       "<div>\n",
       "<style scoped>\n",
       "    .dataframe tbody tr th:only-of-type {\n",
       "        vertical-align: middle;\n",
       "    }\n",
       "\n",
       "    .dataframe tbody tr th {\n",
       "        vertical-align: top;\n",
       "    }\n",
       "\n",
       "    .dataframe thead th {\n",
       "        text-align: right;\n",
       "    }\n",
       "</style>\n",
       "<table border=\"1\" class=\"dataframe\">\n",
       "  <thead>\n",
       "    <tr style=\"text-align: right;\">\n",
       "      <th></th>\n",
       "      <th>genres</th>\n",
       "      <th>total</th>\n",
       "    </tr>\n",
       "  </thead>\n",
       "  <tbody>\n",
       "    <tr>\n",
       "      <th>comedy</th>\n",
       "      <td>559</td>\n",
       "      <td>19.79</td>\n",
       "    </tr>\n",
       "    <tr>\n",
       "      <th>drama</th>\n",
       "      <td>507</td>\n",
       "      <td>17.95</td>\n",
       "    </tr>\n",
       "    <tr>\n",
       "      <th>documentation</th>\n",
       "      <td>375</td>\n",
       "      <td>13.27</td>\n",
       "    </tr>\n",
       "    <tr>\n",
       "      <th>thriller</th>\n",
       "      <td>248</td>\n",
       "      <td>8.78</td>\n",
       "    </tr>\n",
       "    <tr>\n",
       "      <th>western</th>\n",
       "      <td>197</td>\n",
       "      <td>6.97</td>\n",
       "    </tr>\n",
       "    <tr>\n",
       "      <th>horror</th>\n",
       "      <td>137</td>\n",
       "      <td>4.85</td>\n",
       "    </tr>\n",
       "    <tr>\n",
       "      <th>action</th>\n",
       "      <td>134</td>\n",
       "      <td>4.74</td>\n",
       "    </tr>\n",
       "    <tr>\n",
       "      <th>scifi</th>\n",
       "      <td>116</td>\n",
       "      <td>4.11</td>\n",
       "    </tr>\n",
       "    <tr>\n",
       "      <th>romance</th>\n",
       "      <td>115</td>\n",
       "      <td>4.07</td>\n",
       "    </tr>\n",
       "    <tr>\n",
       "      <th>reality</th>\n",
       "      <td>88</td>\n",
       "      <td>3.12</td>\n",
       "    </tr>\n",
       "    <tr>\n",
       "      <th>crime</th>\n",
       "      <td>87</td>\n",
       "      <td>3.08</td>\n",
       "    </tr>\n",
       "    <tr>\n",
       "      <th>animation</th>\n",
       "      <td>71</td>\n",
       "      <td>2.51</td>\n",
       "    </tr>\n",
       "    <tr>\n",
       "      <th></th>\n",
       "      <td>54</td>\n",
       "      <td>1.91</td>\n",
       "    </tr>\n",
       "    <tr>\n",
       "      <th>fantasy</th>\n",
       "      <td>53</td>\n",
       "      <td>1.88</td>\n",
       "    </tr>\n",
       "    <tr>\n",
       "      <th>family</th>\n",
       "      <td>32</td>\n",
       "      <td>1.13</td>\n",
       "    </tr>\n",
       "    <tr>\n",
       "      <th>music</th>\n",
       "      <td>18</td>\n",
       "      <td>0.64</td>\n",
       "    </tr>\n",
       "    <tr>\n",
       "      <th>war</th>\n",
       "      <td>17</td>\n",
       "      <td>0.60</td>\n",
       "    </tr>\n",
       "    <tr>\n",
       "      <th>history</th>\n",
       "      <td>14</td>\n",
       "      <td>0.50</td>\n",
       "    </tr>\n",
       "    <tr>\n",
       "      <th>sport</th>\n",
       "      <td>3</td>\n",
       "      <td>0.11</td>\n",
       "    </tr>\n",
       "  </tbody>\n",
       "</table>\n",
       "</div>"
      ],
      "text/plain": [
       "               genres  total\n",
       "comedy            559  19.79\n",
       "drama             507  17.95\n",
       "documentation     375  13.27\n",
       "thriller          248   8.78\n",
       "western           197   6.97\n",
       "horror            137   4.85\n",
       "action            134   4.74\n",
       "scifi             116   4.11\n",
       "romance           115   4.07\n",
       "reality            88   3.12\n",
       "crime              87   3.08\n",
       "animation          71   2.51\n",
       "                   54   1.91\n",
       "fantasy            53   1.88\n",
       "family             32   1.13\n",
       "music              18   0.64\n",
       "war                17   0.60\n",
       "history            14   0.50\n",
       "sport               3   0.11"
      ]
     },
     "execution_count": 24,
     "metadata": {},
     "output_type": "execute_result"
    }
   ],
   "source": [
    "df_generos_paramount = pd.DataFrame(data_paramount1['genres'].value_counts())\n",
    "total = df_generos_paramount['genres'].sum()\n",
    "print(\"N generos:\", total)\n",
    "df_generos_paramount['total'] = [round((i/total)*100, 2) for i in df_generos_paramount['genres']]\n",
    "df_generos_paramount"
   ]
  },
  {
   "cell_type": "code",
   "execution_count": 25,
   "metadata": {},
   "outputs": [
    {
     "data": {
      "text/plain": [
       "comedy           559\n",
       "drama            507\n",
       "documentation    375\n",
       "thriller         248\n",
       "western          197\n",
       "horror           137\n",
       "action           134\n",
       "scifi            116\n",
       "romance          115\n",
       "reality           88\n",
       "crime             87\n",
       "animation         71\n",
       "                  54\n",
       "fantasy           53\n",
       "family            32\n",
       "music             18\n",
       "war               17\n",
       "history           14\n",
       "sport              3\n",
       "Name: genres, dtype: object"
      ]
     },
     "execution_count": 25,
     "metadata": {},
     "output_type": "execute_result"
    }
   ],
   "source": [
    "df_generos_paramount['genres'].astype(str)"
   ]
  },
  {
   "cell_type": "code",
   "execution_count": 26,
   "metadata": {},
   "outputs": [
    {
     "data": {
      "text/plain": [
       "0"
      ]
     },
     "execution_count": 26,
     "metadata": {},
     "output_type": "execute_result"
    }
   ],
   "source": [
    "len(df_generos_paramount['genres'][df_generos_paramount['genres'] == \"\"])"
   ]
  },
  {
   "cell_type": "code",
   "execution_count": 27,
   "metadata": {},
   "outputs": [
    {
     "name": "stdout",
     "output_type": "stream",
     "text": [
      "N NaN en 'production_countries': 105\n",
      "% NaN en 'production_countries': 3.72\n"
     ]
    }
   ],
   "source": [
    "#Comprobamos numero de listas vacías en columna production countries\n",
    "\n",
    "nan_countries = 0\n",
    "for i in data_paramount1['production_countries']:\n",
    "    if \"[]\" in i:\n",
    "        nan_countries +=1\n",
    "print(\"N NaN en 'production_countries':\", nan_countries)\n",
    "print(\"% NaN en 'production_countries':\", round(nan_countries / data_paramount1.shape[0] *100, 2))"
   ]
  },
  {
   "cell_type": "code",
   "execution_count": 28,
   "metadata": {},
   "outputs": [],
   "source": [
    "# Sacamos todos los países que incluye la columna para agruparlos\n",
    "\n",
    "otra_lista_paises = []\n",
    "for lista in data_paramount1['production_countries'].apply(eval):\n",
    "    for x in lista:\n",
    "        otra_lista_paises.append(x)"
   ]
  },
  {
   "cell_type": "code",
   "execution_count": 29,
   "metadata": {},
   "outputs": [
    {
     "name": "stdout",
     "output_type": "stream",
     "text": [
      "paises: ['US' 'GB' 'DE' 'CA' 'XX' 'IT' 'MX' 'ES' 'AU' 'IE' 'FR' 'PH' 'PR' 'LI'\n",
      " 'JP' 'KR' 'GR' 'SU' 'AN' 'CO' 'TW' 'IL' 'CL' 'YU' 'ZA' 'DK' 'CN' 'NZ'\n",
      " 'AF' 'TH' 'AE' 'BE' 'CH' 'SO' 'KE' 'BR' 'MT' 'MA' 'HK' 'LU' 'UG' 'AR'\n",
      " 'HN' 'SN' 'BS' 'CU' 'SB' 'ZM' 'NO' 'NL' 'SV' 'FI' 'TR' 'AQ' 'AT' 'PL'\n",
      " 'BM' 'SE' 'RO' 'IN' 'KH' 'PK']\n",
      "n paises: 62\n"
     ]
    }
   ],
   "source": [
    "# Pasamos a serie para ver valores únicos\n",
    "paises = pd.Series(otra_lista_paises)\n",
    "print(\"paises:\", paises.unique())\n",
    "print(\"n paises:\", len(paises.unique()))"
   ]
  },
  {
   "cell_type": "code",
   "execution_count": 30,
   "metadata": {},
   "outputs": [
    {
     "name": "stderr",
     "output_type": "stream",
     "text": [
      "/Library/Frameworks/Python.framework/Versions/3.7/lib/python3.7/site-packages/ipykernel_launcher.py:2: FutureWarning:\n",
      "\n",
      "The default value of regex will change from True to False in a future version. In addition, single character regular expressions will *not* be treated as literal strings when regex=True.\n",
      "\n"
     ]
    },
    {
     "data": {
      "text/plain": [
       "'US'"
      ]
     },
     "execution_count": 30,
     "metadata": {},
     "output_type": "execute_result"
    }
   ],
   "source": [
    "data_paramount1['production_countries'][0]#Eliminamos corchetes y comillas\n",
    "data_paramount1['production_countries'] = data_paramount1['production_countries'].str.replace(\"[\", \"\").str.replace(\"]\",\"\").str.replace(\"'\",\"\").str.replace('\"',\"\")\n",
    "data_paramount1['production_countries'][0]\n"
   ]
  },
  {
   "cell_type": "code",
   "execution_count": 31,
   "metadata": {},
   "outputs": [
    {
     "name": "stdout",
     "output_type": "stream",
     "text": [
      "N paises produccion: 2825\n"
     ]
    },
    {
     "data": {
      "text/html": [
       "<div>\n",
       "<style scoped>\n",
       "    .dataframe tbody tr th:only-of-type {\n",
       "        vertical-align: middle;\n",
       "    }\n",
       "\n",
       "    .dataframe tbody tr th {\n",
       "        vertical-align: top;\n",
       "    }\n",
       "\n",
       "    .dataframe thead th {\n",
       "        text-align: right;\n",
       "    }\n",
       "</style>\n",
       "<table border=\"1\" class=\"dataframe\">\n",
       "  <thead>\n",
       "    <tr style=\"text-align: right;\">\n",
       "      <th></th>\n",
       "      <th>production_countries</th>\n",
       "      <th>total</th>\n",
       "    </tr>\n",
       "  </thead>\n",
       "  <tbody>\n",
       "    <tr>\n",
       "      <th>US</th>\n",
       "      <td>2183</td>\n",
       "      <td>77.27</td>\n",
       "    </tr>\n",
       "    <tr>\n",
       "      <th>GB</th>\n",
       "      <td>132</td>\n",
       "      <td>4.67</td>\n",
       "    </tr>\n",
       "    <tr>\n",
       "      <th></th>\n",
       "      <td>105</td>\n",
       "      <td>3.72</td>\n",
       "    </tr>\n",
       "    <tr>\n",
       "      <th>CA</th>\n",
       "      <td>63</td>\n",
       "      <td>2.23</td>\n",
       "    </tr>\n",
       "    <tr>\n",
       "      <th>CA, US</th>\n",
       "      <td>28</td>\n",
       "      <td>0.99</td>\n",
       "    </tr>\n",
       "    <tr>\n",
       "      <th>...</th>\n",
       "      <td>...</td>\n",
       "      <td>...</td>\n",
       "    </tr>\n",
       "    <tr>\n",
       "      <th>ES, GB, US, DE</th>\n",
       "      <td>1</td>\n",
       "      <td>0.04</td>\n",
       "    </tr>\n",
       "    <tr>\n",
       "      <th>GB, US, IE</th>\n",
       "      <td>1</td>\n",
       "      <td>0.04</td>\n",
       "    </tr>\n",
       "    <tr>\n",
       "      <th>US, GB, NZ</th>\n",
       "      <td>1</td>\n",
       "      <td>0.04</td>\n",
       "    </tr>\n",
       "    <tr>\n",
       "      <th>GB, US, FR, ES</th>\n",
       "      <td>1</td>\n",
       "      <td>0.04</td>\n",
       "    </tr>\n",
       "    <tr>\n",
       "      <th>US, PK</th>\n",
       "      <td>1</td>\n",
       "      <td>0.04</td>\n",
       "    </tr>\n",
       "  </tbody>\n",
       "</table>\n",
       "<p>138 rows × 2 columns</p>\n",
       "</div>"
      ],
      "text/plain": [
       "                production_countries  total\n",
       "US                              2183  77.27\n",
       "GB                               132   4.67\n",
       "                                 105   3.72\n",
       "CA                                63   2.23\n",
       "CA, US                            28   0.99\n",
       "...                              ...    ...\n",
       "ES, GB, US, DE                     1   0.04\n",
       "GB, US, IE                         1   0.04\n",
       "US, GB, NZ                         1   0.04\n",
       "GB, US, FR, ES                     1   0.04\n",
       "US, PK                             1   0.04\n",
       "\n",
       "[138 rows x 2 columns]"
      ]
     },
     "execution_count": 31,
     "metadata": {},
     "output_type": "execute_result"
    }
   ],
   "source": [
    "df_paises_paramount = pd.DataFrame(data_paramount1['production_countries'].value_counts())\n",
    "total_paises = df_paises_paramount['production_countries'].sum()\n",
    "print(\"N paises produccion:\", total_paises)\n",
    "df_paises_paramount['total'] = [round((i/total_paises)*100, 2) for i in df_paises_paramount['production_countries']]\n",
    "df_paises_paramount"
   ]
  },
  {
   "cell_type": "code",
   "execution_count": 32,
   "metadata": {},
   "outputs": [
    {
     "name": "stdout",
     "output_type": "stream",
     "text": [
      "Peliculas con varios paises: 232\n",
      "Porcentaje: 8.21\n"
     ]
    }
   ],
   "source": [
    "n_varios_paises = 0\n",
    "\n",
    "for fila in data_paramount1['production_countries']:\n",
    "    if len(fila) > 2:\n",
    "        n_varios_paises += 1\n",
    "        \n",
    "print(\"Peliculas con varios paises:\", n_varios_paises)\n",
    "perc_varios_paises = round(n_varios_paises/total_paises *100, 2)\n",
    "print(\"Porcentaje:\", perc_varios_paises)"
   ]
  },
  {
   "cell_type": "code",
   "execution_count": 33,
   "metadata": {},
   "outputs": [],
   "source": [
    "# Como, en algunos casos, hay más de un pais por titulo, \n",
    "# hacemos como con la columna genero, presuponemos que el principal es el primero de la fila\n",
    "data_paramount1['production_countries'] = [i[:2] for i in data_paramount1['production_countries'] if int(len(data_paramount1['production_countries']) > 2)]"
   ]
  },
  {
   "cell_type": "code",
   "execution_count": 34,
   "metadata": {},
   "outputs": [
    {
     "name": "stdout",
     "output_type": "stream",
     "text": [
      "N paises produccion: 2825\n"
     ]
    },
    {
     "data": {
      "text/html": [
       "<div>\n",
       "<style scoped>\n",
       "    .dataframe tbody tr th:only-of-type {\n",
       "        vertical-align: middle;\n",
       "    }\n",
       "\n",
       "    .dataframe tbody tr th {\n",
       "        vertical-align: top;\n",
       "    }\n",
       "\n",
       "    .dataframe thead th {\n",
       "        text-align: right;\n",
       "    }\n",
       "</style>\n",
       "<table border=\"1\" class=\"dataframe\">\n",
       "  <thead>\n",
       "    <tr style=\"text-align: right;\">\n",
       "      <th></th>\n",
       "      <th>production_countries</th>\n",
       "      <th>total</th>\n",
       "    </tr>\n",
       "  </thead>\n",
       "  <tbody>\n",
       "    <tr>\n",
       "      <th>US</th>\n",
       "      <td>2259</td>\n",
       "      <td>79.96</td>\n",
       "    </tr>\n",
       "    <tr>\n",
       "      <th>GB</th>\n",
       "      <td>160</td>\n",
       "      <td>5.66</td>\n",
       "    </tr>\n",
       "    <tr>\n",
       "      <th></th>\n",
       "      <td>105</td>\n",
       "      <td>3.72</td>\n",
       "    </tr>\n",
       "    <tr>\n",
       "      <th>CA</th>\n",
       "      <td>105</td>\n",
       "      <td>3.72</td>\n",
       "    </tr>\n",
       "    <tr>\n",
       "      <th>IT</th>\n",
       "      <td>21</td>\n",
       "      <td>0.74</td>\n",
       "    </tr>\n",
       "  </tbody>\n",
       "</table>\n",
       "</div>"
      ],
      "text/plain": [
       "    production_countries  total\n",
       "US                  2259  79.96\n",
       "GB                   160   5.66\n",
       "                     105   3.72\n",
       "CA                   105   3.72\n",
       "IT                    21   0.74"
      ]
     },
     "execution_count": 34,
     "metadata": {},
     "output_type": "execute_result"
    }
   ],
   "source": [
    "df_paises_un_paramount = pd.DataFrame(data_paramount1['production_countries'].value_counts())\n",
    "total_un_paises = df_paises_un_paramount['production_countries'].sum()\n",
    "print(\"N paises produccion:\", total_un_paises)\n",
    "df_paises_un_paramount['total'] = [round((i/total_paises)*100, 2) for i in df_paises_un_paramount['production_countries']]\n",
    "df_paises_un_paramount.head()"
   ]
  },
  {
   "cell_type": "code",
   "execution_count": 35,
   "metadata": {},
   "outputs": [
    {
     "name": "stdout",
     "output_type": "stream",
     "text": [
      "['US' 'GB' 'DE' '' 'CA' 'XX' 'IT' 'AU' 'FR' 'PH' 'PR' 'JP' 'GR' 'ES' 'SU'\n",
      " 'AN' 'IL' 'MX' 'YU' 'ZA' 'DK' 'IE' 'AF' 'TH' 'BE' 'SO' 'BR' 'MT' 'HK'\n",
      " 'UG' 'TW' 'HN' 'CU' 'SB' 'KR' 'ZM' 'CN' 'NL' 'NZ' 'SV' 'AR' 'FI' 'CH'\n",
      " 'TR' 'AT' 'NO' 'BM' 'RO' 'SE' 'KH']\n",
      "50\n"
     ]
    }
   ],
   "source": [
    "# Sacamos el los paises y el n paises final\n",
    "print(data_paramount1['production_countries'].unique())\n",
    "print(data_paramount1['production_countries'].nunique())"
   ]
  },
  {
   "cell_type": "code",
   "execution_count": 36,
   "metadata": {},
   "outputs": [
    {
     "name": "stdout",
     "output_type": "stream",
     "text": [
      "Valores NaN: 0\n"
     ]
    }
   ],
   "source": [
    "# Los nulos de la columna season significa que son 1 película o que tienen solo 1 temporada, por lo que los cambiamos a 1\n",
    "# A tener en cuenta en el análisis --> no sabemos si la columna representa las temporadas existestes del título, \n",
    "# o sólo las que están disponibles en la plataforma\n",
    "data_paramount1['seasons'] = data_paramount1['seasons'].fillna(1)\n",
    "data_paramount1['seasons'] = data_paramount1['seasons'].astype(int)\n",
    "print(\"Valores NaN:\", len(data_paramount1[data_paramount1['seasons'].isna() == True]))"
   ]
  },
  {
   "cell_type": "code",
   "execution_count": 37,
   "metadata": {},
   "outputs": [
    {
     "name": "stdout",
     "output_type": "stream",
     "text": [
      "212\n"
     ]
    }
   ],
   "source": [
    "# comprobamos cuantos votos nulos, tambien tienen puntuaciones nulas\n",
    "print(len(data_paramount1[data_paramount1['imdb_score'].isna() == True]['imdb_votes']))"
   ]
  },
  {
   "cell_type": "code",
   "execution_count": 38,
   "metadata": {},
   "outputs": [
    {
     "data": {
      "text/plain": [
       "0"
      ]
     },
     "execution_count": 38,
     "metadata": {},
     "output_type": "execute_result"
    }
   ],
   "source": [
    "# columna imdb_score --> 212 nulos: \n",
    "# Al definir la opinion de los usuarios sobre cada título, no tiene sentido rellenar con un estadístico -con los datos que tenemos ahora mismo\n",
    "# Intentamos rellenar con la columna de tmdb\n",
    "\n",
    "data_paramount1['imdb_score'] = data_paramount1['imdb_score'].fillna(data_paramount1['tmdb_popularity'])\n",
    "len(data_paramount1[data_paramount1['imdb_score'].isna() == True])\n",
    "\n",
    "# Quedan 2 datos NaN por rellenar \n",
    "data_paramount1['imdb_score'] = data_paramount1['imdb_score'].fillna(0)\n",
    "data_paramount1['imdb_score'] = data_paramount1['imdb_score'].astype(float)\n",
    "len(data_paramount1[data_paramount1['imdb_score'].isna() == True])"
   ]
  },
  {
   "cell_type": "markdown",
   "metadata": {},
   "source": [
    "Al final no voy a incluir las columnas tmdb popularity, var_votos ni imdb votos en el analisis\n",
    "--dejo las celdas por si cambiase de opinion "
   ]
  },
  {
   "cell_type": "code",
   "execution_count": 39,
   "metadata": {},
   "outputs": [
    {
     "name": "stdout",
     "output_type": "stream",
     "text": [
      "Rellenamos null con la media de votos: 22238.755453501723\n"
     ]
    }
   ],
   "source": [
    "\n",
    "#columna ibdb_votes --> 212 nulos (todos los NaN de imdb_score, son también NaN en esta variable)\n",
    "# Como se trata del número de votos de una película -medida de cantidad-, rellenamos con la media de votos\n",
    "\n",
    "print('Rellenamos null con la media de votos:', data_paramount1['imdb_votes'].mean())\n",
    "data_paramount1['imdb_votes'] = data_paramount1['imdb_votes'].fillna(data_paramount1['imdb_votes'].mean())\n",
    "data_paramount1['imdb_votes'] = data_paramount1['imdb_votes'].astype(int)\n"
   ]
  },
  {
   "cell_type": "code",
   "execution_count": 40,
   "metadata": {},
   "outputs": [],
   "source": [
    "\n",
    "# Creamos columna con la variacion, respecto a la media, del numero de votos:\n",
    "var_votos = [round(i / data_paramount1['imdb_votes'].mean(), 2) for i in data_paramount1['imdb_votes']]\n",
    "data_paramount1.insert(11, 'Var_Votos', var_votos)\n"
   ]
  },
  {
   "cell_type": "code",
   "execution_count": 41,
   "metadata": {},
   "outputs": [],
   "source": [
    "# columna tmdb_score --> 488 nulos: \n",
    "# Al definir la opinion de los usuarios sobre cada título, no tiene sentido rellenar con un estadístico\n",
    "# No le asignamos la puntuación de imdb porque el objetivo de mantener la columna de tmdb es, en caso de sesgo, poder comprobar puntuacion de tmdb\n",
    "\n",
    "data_paramount1['tmdb_score'] = data_paramount1['tmdb_score'].fillna(0)\n",
    "data_paramount1['tmdb_score'] = data_paramount1['tmdb_score'].astype(float)"
   ]
  },
  {
   "cell_type": "code",
   "execution_count": 42,
   "metadata": {},
   "outputs": [],
   "source": [
    "\n",
    "# columna tmdb_popularity --> 57 nulos: \n",
    "# La popularidad es una métrica (DIARIA) creada en función del comportamiento de los usuarios con cada título\n",
    "# No se considera rellenar por estadístico, ya que se trata de una métrica que engloba diferentes vbles -y muchas de ellas representan opiniones subjetivas \n",
    "\n",
    "data_paramount1['tmdb_popularity'] =data_paramount1['tmdb_popularity'].fillna(0)\n",
    "data_paramount1['tmdb_popularity'] =data_paramount1['tmdb_popularity'].astype(float)\n"
   ]
  },
  {
   "cell_type": "code",
   "execution_count": 43,
   "metadata": {},
   "outputs": [],
   "source": [
    "data_paramount2 = data_paramount1.drop(['imdb_votes','Var_Votos', 'tmdb_popularity'], axis=1).copy()"
   ]
  },
  {
   "cell_type": "code",
   "execution_count": 44,
   "metadata": {},
   "outputs": [
    {
     "data": {
      "text/plain": [
       "Index(['id', 'title', 'type', 'Decada', 'age_certification', 'runtime',\n",
       "       'genres', 'production_countries', 'seasons', 'imdb_score',\n",
       "       'tmdb_score'],\n",
       "      dtype='object')"
      ]
     },
     "execution_count": 44,
     "metadata": {},
     "output_type": "execute_result"
    }
   ],
   "source": [
    "data_paramount2.columns"
   ]
  },
  {
   "cell_type": "code",
   "execution_count": 45,
   "metadata": {},
   "outputs": [],
   "source": [
    "# renombramos las columnas\n",
    "\n",
    "data_paramount2.columns = ['ID', 'Titulo', 'Tipo', 'Decada', 'Edad_Recom', 'Duracion', 'Generos', 'Paises_Prod', 'Temporadas', 'Imdb_Puntos', 'Tmdb_Puntos']"
   ]
  },
  {
   "cell_type": "code",
   "execution_count": 46,
   "metadata": {},
   "outputs": [
    {
     "name": "stdout",
     "output_type": "stream",
     "text": [
      "Filas, columnas: (2825, 11)\n",
      "<class 'pandas.core.frame.DataFrame'>\n",
      "RangeIndex: 2825 entries, 0 to 2824\n",
      "Data columns (total 11 columns):\n",
      " #   Column       Non-Null Count  Dtype  \n",
      "---  ------       --------------  -----  \n",
      " 0   ID           2825 non-null   object \n",
      " 1   Titulo       2825 non-null   object \n",
      " 2   Tipo         2825 non-null   object \n",
      " 3   Decada       2825 non-null   object \n",
      " 4   Edad_Recom   2825 non-null   int64  \n",
      " 5   Duracion     2825 non-null   int64  \n",
      " 6   Generos      2825 non-null   object \n",
      " 7   Paises_Prod  2825 non-null   object \n",
      " 8   Temporadas   2825 non-null   int64  \n",
      " 9   Imdb_Puntos  2825 non-null   float64\n",
      " 10  Tmdb_Puntos  2825 non-null   float64\n",
      "dtypes: float64(2), int64(3), object(6)\n",
      "memory usage: 242.9+ KB\n"
     ]
    }
   ],
   "source": [
    "# recordamos tipo de cada columna y nos aseguramos que ya no hay nulos\n",
    "print(\"Filas, columnas:\", data_paramount2.shape)\n",
    "data_paramount2.info()"
   ]
  },
  {
   "cell_type": "code",
   "execution_count": 47,
   "metadata": {},
   "outputs": [
    {
     "name": "stdout",
     "output_type": "stream",
     "text": [
      "0\n",
      "0.0\n"
     ]
    }
   ],
   "source": [
    "n_titulos_sacados = data_paramount.shape[0] - data_paramount2.shape[0]\n",
    "print(n_titulos_sacados)\n",
    "perc_n_titulos_sacados = n_titulos_sacados / data_paramount.shape[0]\n",
    "print(round(perc_n_titulos_sacados*100, 2))"
   ]
  },
  {
   "cell_type": "code",
   "execution_count": 48,
   "metadata": {},
   "outputs": [
    {
     "name": "stdout",
     "output_type": "stream",
     "text": [
      "n_filas_series: 626\n"
     ]
    }
   ],
   "source": [
    "#Separamos el dataframe en dos:\n",
    "# Por un lado analizaremos el contenido de series y por otro el de películas\n",
    "\n",
    "paramount_series_df = data_paramount2[data_paramount2['Tipo']=='SHOW']\n",
    "paramount_series_df = paramount_series_df.reset_index(drop = True)\n",
    "print(\"n_filas_series:\", paramount_series_df.shape[0])\n",
    "\n",
    "# Eliminamos la columna de tipo porque ya no nos interesa\n",
    "del paramount_series_df['Tipo']"
   ]
  },
  {
   "cell_type": "code",
   "execution_count": 49,
   "metadata": {},
   "outputs": [
    {
     "data": {
      "text/html": [
       "<div>\n",
       "<style scoped>\n",
       "    .dataframe tbody tr th:only-of-type {\n",
       "        vertical-align: middle;\n",
       "    }\n",
       "\n",
       "    .dataframe tbody tr th {\n",
       "        vertical-align: top;\n",
       "    }\n",
       "\n",
       "    .dataframe thead th {\n",
       "        text-align: right;\n",
       "    }\n",
       "</style>\n",
       "<table border=\"1\" class=\"dataframe\">\n",
       "  <thead>\n",
       "    <tr style=\"text-align: right;\">\n",
       "      <th></th>\n",
       "      <th>ID</th>\n",
       "      <th>Titulo</th>\n",
       "      <th>Decada</th>\n",
       "      <th>Edad_Recom</th>\n",
       "      <th>Duracion</th>\n",
       "      <th>Generos</th>\n",
       "      <th>Paises_Prod</th>\n",
       "      <th>Temporadas</th>\n",
       "      <th>Imdb_Puntos</th>\n",
       "      <th>Tmdb_Puntos</th>\n",
       "    </tr>\n",
       "  </thead>\n",
       "  <tbody>\n",
       "    <tr>\n",
       "      <th>0</th>\n",
       "      <td>ts22109</td>\n",
       "      <td>The Twilight Zone</td>\n",
       "      <td>1950s</td>\n",
       "      <td>7</td>\n",
       "      <td>28</td>\n",
       "      <td>scifi</td>\n",
       "      <td>US</td>\n",
       "      <td>5</td>\n",
       "      <td>9.1</td>\n",
       "      <td>8.5</td>\n",
       "    </tr>\n",
       "    <tr>\n",
       "      <th>1</th>\n",
       "      <td>ts21236</td>\n",
       "      <td>Star Trek</td>\n",
       "      <td>1960s</td>\n",
       "      <td>7</td>\n",
       "      <td>50</td>\n",
       "      <td>scifi</td>\n",
       "      <td>US</td>\n",
       "      <td>3</td>\n",
       "      <td>8.4</td>\n",
       "      <td>8.1</td>\n",
       "    </tr>\n",
       "    <tr>\n",
       "      <th>2</th>\n",
       "      <td>ts20005</td>\n",
       "      <td>I Love Lucy</td>\n",
       "      <td>1950s</td>\n",
       "      <td>0</td>\n",
       "      <td>30</td>\n",
       "      <td>comedy</td>\n",
       "      <td>US</td>\n",
       "      <td>9</td>\n",
       "      <td>8.5</td>\n",
       "      <td>8.1</td>\n",
       "    </tr>\n",
       "    <tr>\n",
       "      <th>3</th>\n",
       "      <td>ts21682</td>\n",
       "      <td>Happy Days</td>\n",
       "      <td>1970s</td>\n",
       "      <td>0</td>\n",
       "      <td>24</td>\n",
       "      <td>comedy</td>\n",
       "      <td>US</td>\n",
       "      <td>11</td>\n",
       "      <td>7.3</td>\n",
       "      <td>7.8</td>\n",
       "    </tr>\n",
       "    <tr>\n",
       "      <th>4</th>\n",
       "      <td>ts22170</td>\n",
       "      <td>Gunsmoke</td>\n",
       "      <td>1950s</td>\n",
       "      <td>0</td>\n",
       "      <td>49</td>\n",
       "      <td>action</td>\n",
       "      <td>US</td>\n",
       "      <td>20</td>\n",
       "      <td>8.0</td>\n",
       "      <td>6.8</td>\n",
       "    </tr>\n",
       "  </tbody>\n",
       "</table>\n",
       "</div>"
      ],
      "text/plain": [
       "        ID             Titulo Decada  Edad_Recom  Duracion Generos  \\\n",
       "0  ts22109  The Twilight Zone  1950s           7        28   scifi   \n",
       "1  ts21236          Star Trek  1960s           7        50   scifi   \n",
       "2  ts20005        I Love Lucy  1950s           0        30  comedy   \n",
       "3  ts21682         Happy Days  1970s           0        24  comedy   \n",
       "4  ts22170           Gunsmoke  1950s           0        49  action   \n",
       "\n",
       "  Paises_Prod  Temporadas  Imdb_Puntos  Tmdb_Puntos  \n",
       "0          US           5          9.1          8.5  \n",
       "1          US           3          8.4          8.1  \n",
       "2          US           9          8.5          8.1  \n",
       "3          US          11          7.3          7.8  \n",
       "4          US          20          8.0          6.8  "
      ]
     },
     "execution_count": 49,
     "metadata": {},
     "output_type": "execute_result"
    }
   ],
   "source": [
    "paramount_series_df.head()"
   ]
  },
  {
   "cell_type": "code",
   "execution_count": 50,
   "metadata": {},
   "outputs": [
    {
     "data": {
      "text/html": [
       "<div>\n",
       "<style scoped>\n",
       "    .dataframe tbody tr th:only-of-type {\n",
       "        vertical-align: middle;\n",
       "    }\n",
       "\n",
       "    .dataframe tbody tr th {\n",
       "        vertical-align: top;\n",
       "    }\n",
       "\n",
       "    .dataframe thead th {\n",
       "        text-align: right;\n",
       "    }\n",
       "</style>\n",
       "<table border=\"1\" class=\"dataframe\">\n",
       "  <thead>\n",
       "    <tr style=\"text-align: right;\">\n",
       "      <th></th>\n",
       "      <th>ID</th>\n",
       "      <th>Titulo</th>\n",
       "      <th>Decada</th>\n",
       "      <th>Edad_Recom</th>\n",
       "      <th>Duracion</th>\n",
       "      <th>Generos</th>\n",
       "      <th>Paises_Prod</th>\n",
       "      <th>Temporadas</th>\n",
       "      <th>Imdb_Puntos</th>\n",
       "      <th>Tmdb_Puntos</th>\n",
       "    </tr>\n",
       "  </thead>\n",
       "  <tbody>\n",
       "    <tr>\n",
       "      <th>621</th>\n",
       "      <td>ts310078</td>\n",
       "      <td>Tha God's Honest Truth with Charlamagne Tha God</td>\n",
       "      <td>2020s</td>\n",
       "      <td>13</td>\n",
       "      <td>21</td>\n",
       "      <td>comedy</td>\n",
       "      <td>US</td>\n",
       "      <td>1</td>\n",
       "      <td>2.3</td>\n",
       "      <td>0.0</td>\n",
       "    </tr>\n",
       "    <tr>\n",
       "      <th>622</th>\n",
       "      <td>ts296262</td>\n",
       "      <td>Searching for Secrets</td>\n",
       "      <td>2020s</td>\n",
       "      <td>7</td>\n",
       "      <td>44</td>\n",
       "      <td>documentation</td>\n",
       "      <td>GB</td>\n",
       "      <td>1</td>\n",
       "      <td>0.6</td>\n",
       "      <td>0.0</td>\n",
       "    </tr>\n",
       "    <tr>\n",
       "      <th>623</th>\n",
       "      <td>ts310234</td>\n",
       "      <td>Age of Humans</td>\n",
       "      <td>2020s</td>\n",
       "      <td>7</td>\n",
       "      <td>44</td>\n",
       "      <td>documentation</td>\n",
       "      <td>DE</td>\n",
       "      <td>1</td>\n",
       "      <td>0.6</td>\n",
       "      <td>0.0</td>\n",
       "    </tr>\n",
       "    <tr>\n",
       "      <th>624</th>\n",
       "      <td>ts305329</td>\n",
       "      <td>House Calls with Dr. Phil</td>\n",
       "      <td>2020s</td>\n",
       "      <td>13</td>\n",
       "      <td>43</td>\n",
       "      <td>reality</td>\n",
       "      <td>US</td>\n",
       "      <td>1</td>\n",
       "      <td>5.4</td>\n",
       "      <td>0.0</td>\n",
       "    </tr>\n",
       "    <tr>\n",
       "      <th>625</th>\n",
       "      <td>ts291097</td>\n",
       "      <td>Disrupt &amp; Dismantle with Soledad O'Brien</td>\n",
       "      <td>2020s</td>\n",
       "      <td>17</td>\n",
       "      <td>40</td>\n",
       "      <td>documentation</td>\n",
       "      <td></td>\n",
       "      <td>1</td>\n",
       "      <td>3.5</td>\n",
       "      <td>0.0</td>\n",
       "    </tr>\n",
       "  </tbody>\n",
       "</table>\n",
       "</div>"
      ],
      "text/plain": [
       "           ID                                           Titulo Decada  \\\n",
       "621  ts310078  Tha God's Honest Truth with Charlamagne Tha God  2020s   \n",
       "622  ts296262                            Searching for Secrets  2020s   \n",
       "623  ts310234                                    Age of Humans  2020s   \n",
       "624  ts305329                        House Calls with Dr. Phil  2020s   \n",
       "625  ts291097         Disrupt & Dismantle with Soledad O'Brien  2020s   \n",
       "\n",
       "     Edad_Recom  Duracion        Generos Paises_Prod  Temporadas  Imdb_Puntos  \\\n",
       "621          13        21         comedy          US           1          2.3   \n",
       "622           7        44  documentation          GB           1          0.6   \n",
       "623           7        44  documentation          DE           1          0.6   \n",
       "624          13        43        reality          US           1          5.4   \n",
       "625          17        40  documentation                       1          3.5   \n",
       "\n",
       "     Tmdb_Puntos  \n",
       "621          0.0  \n",
       "622          0.0  \n",
       "623          0.0  \n",
       "624          0.0  \n",
       "625          0.0  "
      ]
     },
     "execution_count": 50,
     "metadata": {},
     "output_type": "execute_result"
    }
   ],
   "source": [
    "paramount_series_df.tail()"
   ]
  },
  {
   "cell_type": "code",
   "execution_count": 51,
   "metadata": {},
   "outputs": [
    {
     "name": "stdout",
     "output_type": "stream",
     "text": [
      "n_filas_peliculas: 2199\n"
     ]
    }
   ],
   "source": [
    "paramount_peliculas_df = data_paramount2[data_paramount2['Tipo']=='MOVIE']\n",
    "paramount_peliculas_df = paramount_peliculas_df.reset_index(drop = True)\n",
    "print(\"n_filas_peliculas:\", paramount_peliculas_df.shape[0])\n",
    "paramount_peliculas_df.head()\n",
    "\n",
    "# Eliminamos la columna de tipo porque ya no nos interesa\n",
    "# Al ser peliculas, tambien eliminamos la columna de temporadas\n",
    "del paramount_peliculas_df['Tipo']\n",
    "del paramount_peliculas_df['Temporadas']"
   ]
  },
  {
   "cell_type": "code",
   "execution_count": 52,
   "metadata": {},
   "outputs": [
    {
     "data": {
      "text/html": [
       "<div>\n",
       "<style scoped>\n",
       "    .dataframe tbody tr th:only-of-type {\n",
       "        vertical-align: middle;\n",
       "    }\n",
       "\n",
       "    .dataframe tbody tr th {\n",
       "        vertical-align: top;\n",
       "    }\n",
       "\n",
       "    .dataframe thead th {\n",
       "        text-align: right;\n",
       "    }\n",
       "</style>\n",
       "<table border=\"1\" class=\"dataframe\">\n",
       "  <thead>\n",
       "    <tr style=\"text-align: right;\">\n",
       "      <th></th>\n",
       "      <th>ID</th>\n",
       "      <th>Titulo</th>\n",
       "      <th>Decada</th>\n",
       "      <th>Edad_Recom</th>\n",
       "      <th>Duracion</th>\n",
       "      <th>Generos</th>\n",
       "      <th>Paises_Prod</th>\n",
       "      <th>Imdb_Puntos</th>\n",
       "      <th>Tmdb_Puntos</th>\n",
       "    </tr>\n",
       "  </thead>\n",
       "  <tbody>\n",
       "    <tr>\n",
       "      <th>0</th>\n",
       "      <td>tm19248</td>\n",
       "      <td>The General</td>\n",
       "      <td>1920s</td>\n",
       "      <td>9999</td>\n",
       "      <td>78</td>\n",
       "      <td>action</td>\n",
       "      <td>US</td>\n",
       "      <td>8.2</td>\n",
       "      <td>8.0</td>\n",
       "    </tr>\n",
       "    <tr>\n",
       "      <th>1</th>\n",
       "      <td>tm83884</td>\n",
       "      <td>His Girl Friday</td>\n",
       "      <td>1940s</td>\n",
       "      <td>9999</td>\n",
       "      <td>92</td>\n",
       "      <td>comedy</td>\n",
       "      <td>US</td>\n",
       "      <td>7.8</td>\n",
       "      <td>7.4</td>\n",
       "    </tr>\n",
       "    <tr>\n",
       "      <th>2</th>\n",
       "      <td>tm19424</td>\n",
       "      <td>Detour</td>\n",
       "      <td>1940s</td>\n",
       "      <td>9999</td>\n",
       "      <td>66</td>\n",
       "      <td>thriller</td>\n",
       "      <td>US</td>\n",
       "      <td>7.3</td>\n",
       "      <td>7.2</td>\n",
       "    </tr>\n",
       "    <tr>\n",
       "      <th>3</th>\n",
       "      <td>tm112005</td>\n",
       "      <td>Marihuana</td>\n",
       "      <td>1930s</td>\n",
       "      <td>9999</td>\n",
       "      <td>57</td>\n",
       "      <td>crime</td>\n",
       "      <td>US</td>\n",
       "      <td>4.0</td>\n",
       "      <td>3.6</td>\n",
       "    </tr>\n",
       "    <tr>\n",
       "      <th>4</th>\n",
       "      <td>tm22806</td>\n",
       "      <td>Intolerance: Love's Struggle Throughout the Ages</td>\n",
       "      <td>1910s</td>\n",
       "      <td>9999</td>\n",
       "      <td>197</td>\n",
       "      <td>history</td>\n",
       "      <td>US</td>\n",
       "      <td>7.7</td>\n",
       "      <td>7.2</td>\n",
       "    </tr>\n",
       "  </tbody>\n",
       "</table>\n",
       "</div>"
      ],
      "text/plain": [
       "         ID                                            Titulo Decada  \\\n",
       "0   tm19248                                       The General  1920s   \n",
       "1   tm83884                                   His Girl Friday  1940s   \n",
       "2   tm19424                                            Detour  1940s   \n",
       "3  tm112005                                         Marihuana  1930s   \n",
       "4   tm22806  Intolerance: Love's Struggle Throughout the Ages  1910s   \n",
       "\n",
       "   Edad_Recom  Duracion   Generos Paises_Prod  Imdb_Puntos  Tmdb_Puntos  \n",
       "0        9999        78    action          US          8.2          8.0  \n",
       "1        9999        92    comedy          US          7.8          7.4  \n",
       "2        9999        66  thriller          US          7.3          7.2  \n",
       "3        9999        57     crime          US          4.0          3.6  \n",
       "4        9999       197   history          US          7.7          7.2  "
      ]
     },
     "execution_count": 52,
     "metadata": {},
     "output_type": "execute_result"
    }
   ],
   "source": [
    "paramount_peliculas_df.head()"
   ]
  },
  {
   "cell_type": "code",
   "execution_count": 53,
   "metadata": {},
   "outputs": [
    {
     "data": {
      "text/html": [
       "<div>\n",
       "<style scoped>\n",
       "    .dataframe tbody tr th:only-of-type {\n",
       "        vertical-align: middle;\n",
       "    }\n",
       "\n",
       "    .dataframe tbody tr th {\n",
       "        vertical-align: top;\n",
       "    }\n",
       "\n",
       "    .dataframe thead th {\n",
       "        text-align: right;\n",
       "    }\n",
       "</style>\n",
       "<table border=\"1\" class=\"dataframe\">\n",
       "  <thead>\n",
       "    <tr style=\"text-align: right;\">\n",
       "      <th></th>\n",
       "      <th>ID</th>\n",
       "      <th>Titulo</th>\n",
       "      <th>Decada</th>\n",
       "      <th>Edad_Recom</th>\n",
       "      <th>Duracion</th>\n",
       "      <th>Generos</th>\n",
       "      <th>Paises_Prod</th>\n",
       "      <th>Imdb_Puntos</th>\n",
       "      <th>Tmdb_Puntos</th>\n",
       "    </tr>\n",
       "  </thead>\n",
       "  <tbody>\n",
       "    <tr>\n",
       "      <th>2194</th>\n",
       "      <td>tm1075680</td>\n",
       "      <td>World's Most Dangerous Shark?</td>\n",
       "      <td>2020s</td>\n",
       "      <td>13</td>\n",
       "      <td>44</td>\n",
       "      <td>documentation</td>\n",
       "      <td></td>\n",
       "      <td>1.4</td>\n",
       "      <td>0.0</td>\n",
       "    </tr>\n",
       "    <tr>\n",
       "      <th>2195</th>\n",
       "      <td>tm1033627</td>\n",
       "      <td>Wildest California</td>\n",
       "      <td>2020s</td>\n",
       "      <td>9999</td>\n",
       "      <td>44</td>\n",
       "      <td></td>\n",
       "      <td></td>\n",
       "      <td>0.6</td>\n",
       "      <td>0.0</td>\n",
       "    </tr>\n",
       "    <tr>\n",
       "      <th>2196</th>\n",
       "      <td>tm1100359</td>\n",
       "      <td>Race Against Time: The CIA and 9/11</td>\n",
       "      <td>2020s</td>\n",
       "      <td>9999</td>\n",
       "      <td>89</td>\n",
       "      <td>documentation</td>\n",
       "      <td></td>\n",
       "      <td>4.6</td>\n",
       "      <td>0.0</td>\n",
       "    </tr>\n",
       "    <tr>\n",
       "      <th>2197</th>\n",
       "      <td>tm1097570</td>\n",
       "      <td>Virus Hunting: Cave to COVID</td>\n",
       "      <td>2020s</td>\n",
       "      <td>9999</td>\n",
       "      <td>60</td>\n",
       "      <td></td>\n",
       "      <td></td>\n",
       "      <td>0.6</td>\n",
       "      <td>0.0</td>\n",
       "    </tr>\n",
       "    <tr>\n",
       "      <th>2198</th>\n",
       "      <td>tm1032011</td>\n",
       "      <td>Yukon's Wild Grizzlies</td>\n",
       "      <td>2020s</td>\n",
       "      <td>0</td>\n",
       "      <td>44</td>\n",
       "      <td>documentation</td>\n",
       "      <td></td>\n",
       "      <td>0.6</td>\n",
       "      <td>7.0</td>\n",
       "    </tr>\n",
       "  </tbody>\n",
       "</table>\n",
       "</div>"
      ],
      "text/plain": [
       "             ID                               Titulo Decada  Edad_Recom  \\\n",
       "2194  tm1075680        World's Most Dangerous Shark?  2020s          13   \n",
       "2195  tm1033627                   Wildest California  2020s        9999   \n",
       "2196  tm1100359  Race Against Time: The CIA and 9/11  2020s        9999   \n",
       "2197  tm1097570         Virus Hunting: Cave to COVID  2020s        9999   \n",
       "2198  tm1032011               Yukon's Wild Grizzlies  2020s           0   \n",
       "\n",
       "      Duracion        Generos Paises_Prod  Imdb_Puntos  Tmdb_Puntos  \n",
       "2194        44  documentation                      1.4          0.0  \n",
       "2195        44                                     0.6          0.0  \n",
       "2196        89  documentation                      4.6          0.0  \n",
       "2197        60                                     0.6          0.0  \n",
       "2198        44  documentation                      0.6          7.0  "
      ]
     },
     "execution_count": 53,
     "metadata": {},
     "output_type": "execute_result"
    }
   ],
   "source": [
    "paramount_peliculas_df.tail()"
   ]
  },
  {
   "cell_type": "code",
   "execution_count": 54,
   "metadata": {},
   "outputs": [
    {
     "data": {
      "text/plain": [
       "True"
      ]
     },
     "execution_count": 54,
     "metadata": {},
     "output_type": "execute_result"
    }
   ],
   "source": [
    "#Comprobamos\n",
    "data_paramount2.shape[0] == paramount_peliculas_df.shape[0] + paramount_series_df.shape[0]"
   ]
  },
  {
   "cell_type": "code",
   "execution_count": 55,
   "metadata": {},
   "outputs": [
    {
     "data": {
      "application/vnd.plotly.v1+json": {
       "config": {
        "plotlyServerURL": "https://plot.ly"
       },
       "data": [
        {
         "customdata": [
          [
           "Peliculas"
          ],
          [
           "Series"
          ]
         ],
         "domain": {
          "x": [
           0,
           1
          ],
          "y": [
           0,
           1
          ]
         },
         "hovertemplate": [
          "Peliculas",
          "Series"
         ],
         "legendgroup": "",
         "marker": {
          "colors": [
           "black",
           "grey"
          ],
          "line": {
           "color": "white",
           "width": 2.4
          }
         },
         "name": "",
         "showlegend": false,
         "type": "pie",
         "values": [
          2199,
          626
         ]
        }
       ],
       "layout": {
        "font": {
         "family": "Arial"
        },
        "height": 450,
        "legend": {
         "tracegroupgap": 0
        },
        "template": {
         "data": {
          "bar": [
           {
            "error_x": {
             "color": "#2a3f5f"
            },
            "error_y": {
             "color": "#2a3f5f"
            },
            "marker": {
             "line": {
              "color": "#E5ECF6",
              "width": 0.5
             },
             "pattern": {
              "fillmode": "overlay",
              "size": 10,
              "solidity": 0.2
             }
            },
            "type": "bar"
           }
          ],
          "barpolar": [
           {
            "marker": {
             "line": {
              "color": "#E5ECF6",
              "width": 0.5
             },
             "pattern": {
              "fillmode": "overlay",
              "size": 10,
              "solidity": 0.2
             }
            },
            "type": "barpolar"
           }
          ],
          "carpet": [
           {
            "aaxis": {
             "endlinecolor": "#2a3f5f",
             "gridcolor": "white",
             "linecolor": "white",
             "minorgridcolor": "white",
             "startlinecolor": "#2a3f5f"
            },
            "baxis": {
             "endlinecolor": "#2a3f5f",
             "gridcolor": "white",
             "linecolor": "white",
             "minorgridcolor": "white",
             "startlinecolor": "#2a3f5f"
            },
            "type": "carpet"
           }
          ],
          "choropleth": [
           {
            "colorbar": {
             "outlinewidth": 0,
             "ticks": ""
            },
            "type": "choropleth"
           }
          ],
          "contour": [
           {
            "colorbar": {
             "outlinewidth": 0,
             "ticks": ""
            },
            "colorscale": [
             [
              0,
              "#0d0887"
             ],
             [
              0.1111111111111111,
              "#46039f"
             ],
             [
              0.2222222222222222,
              "#7201a8"
             ],
             [
              0.3333333333333333,
              "#9c179e"
             ],
             [
              0.4444444444444444,
              "#bd3786"
             ],
             [
              0.5555555555555556,
              "#d8576b"
             ],
             [
              0.6666666666666666,
              "#ed7953"
             ],
             [
              0.7777777777777778,
              "#fb9f3a"
             ],
             [
              0.8888888888888888,
              "#fdca26"
             ],
             [
              1,
              "#f0f921"
             ]
            ],
            "type": "contour"
           }
          ],
          "contourcarpet": [
           {
            "colorbar": {
             "outlinewidth": 0,
             "ticks": ""
            },
            "type": "contourcarpet"
           }
          ],
          "heatmap": [
           {
            "colorbar": {
             "outlinewidth": 0,
             "ticks": ""
            },
            "colorscale": [
             [
              0,
              "#0d0887"
             ],
             [
              0.1111111111111111,
              "#46039f"
             ],
             [
              0.2222222222222222,
              "#7201a8"
             ],
             [
              0.3333333333333333,
              "#9c179e"
             ],
             [
              0.4444444444444444,
              "#bd3786"
             ],
             [
              0.5555555555555556,
              "#d8576b"
             ],
             [
              0.6666666666666666,
              "#ed7953"
             ],
             [
              0.7777777777777778,
              "#fb9f3a"
             ],
             [
              0.8888888888888888,
              "#fdca26"
             ],
             [
              1,
              "#f0f921"
             ]
            ],
            "type": "heatmap"
           }
          ],
          "heatmapgl": [
           {
            "colorbar": {
             "outlinewidth": 0,
             "ticks": ""
            },
            "colorscale": [
             [
              0,
              "#0d0887"
             ],
             [
              0.1111111111111111,
              "#46039f"
             ],
             [
              0.2222222222222222,
              "#7201a8"
             ],
             [
              0.3333333333333333,
              "#9c179e"
             ],
             [
              0.4444444444444444,
              "#bd3786"
             ],
             [
              0.5555555555555556,
              "#d8576b"
             ],
             [
              0.6666666666666666,
              "#ed7953"
             ],
             [
              0.7777777777777778,
              "#fb9f3a"
             ],
             [
              0.8888888888888888,
              "#fdca26"
             ],
             [
              1,
              "#f0f921"
             ]
            ],
            "type": "heatmapgl"
           }
          ],
          "histogram": [
           {
            "marker": {
             "pattern": {
              "fillmode": "overlay",
              "size": 10,
              "solidity": 0.2
             }
            },
            "type": "histogram"
           }
          ],
          "histogram2d": [
           {
            "colorbar": {
             "outlinewidth": 0,
             "ticks": ""
            },
            "colorscale": [
             [
              0,
              "#0d0887"
             ],
             [
              0.1111111111111111,
              "#46039f"
             ],
             [
              0.2222222222222222,
              "#7201a8"
             ],
             [
              0.3333333333333333,
              "#9c179e"
             ],
             [
              0.4444444444444444,
              "#bd3786"
             ],
             [
              0.5555555555555556,
              "#d8576b"
             ],
             [
              0.6666666666666666,
              "#ed7953"
             ],
             [
              0.7777777777777778,
              "#fb9f3a"
             ],
             [
              0.8888888888888888,
              "#fdca26"
             ],
             [
              1,
              "#f0f921"
             ]
            ],
            "type": "histogram2d"
           }
          ],
          "histogram2dcontour": [
           {
            "colorbar": {
             "outlinewidth": 0,
             "ticks": ""
            },
            "colorscale": [
             [
              0,
              "#0d0887"
             ],
             [
              0.1111111111111111,
              "#46039f"
             ],
             [
              0.2222222222222222,
              "#7201a8"
             ],
             [
              0.3333333333333333,
              "#9c179e"
             ],
             [
              0.4444444444444444,
              "#bd3786"
             ],
             [
              0.5555555555555556,
              "#d8576b"
             ],
             [
              0.6666666666666666,
              "#ed7953"
             ],
             [
              0.7777777777777778,
              "#fb9f3a"
             ],
             [
              0.8888888888888888,
              "#fdca26"
             ],
             [
              1,
              "#f0f921"
             ]
            ],
            "type": "histogram2dcontour"
           }
          ],
          "mesh3d": [
           {
            "colorbar": {
             "outlinewidth": 0,
             "ticks": ""
            },
            "type": "mesh3d"
           }
          ],
          "parcoords": [
           {
            "line": {
             "colorbar": {
              "outlinewidth": 0,
              "ticks": ""
             }
            },
            "type": "parcoords"
           }
          ],
          "pie": [
           {
            "automargin": true,
            "type": "pie"
           }
          ],
          "scatter": [
           {
            "fillpattern": {
             "fillmode": "overlay",
             "size": 10,
             "solidity": 0.2
            },
            "type": "scatter"
           }
          ],
          "scatter3d": [
           {
            "line": {
             "colorbar": {
              "outlinewidth": 0,
              "ticks": ""
             }
            },
            "marker": {
             "colorbar": {
              "outlinewidth": 0,
              "ticks": ""
             }
            },
            "type": "scatter3d"
           }
          ],
          "scattercarpet": [
           {
            "marker": {
             "colorbar": {
              "outlinewidth": 0,
              "ticks": ""
             }
            },
            "type": "scattercarpet"
           }
          ],
          "scattergeo": [
           {
            "marker": {
             "colorbar": {
              "outlinewidth": 0,
              "ticks": ""
             }
            },
            "type": "scattergeo"
           }
          ],
          "scattergl": [
           {
            "marker": {
             "colorbar": {
              "outlinewidth": 0,
              "ticks": ""
             }
            },
            "type": "scattergl"
           }
          ],
          "scattermapbox": [
           {
            "marker": {
             "colorbar": {
              "outlinewidth": 0,
              "ticks": ""
             }
            },
            "type": "scattermapbox"
           }
          ],
          "scatterpolar": [
           {
            "marker": {
             "colorbar": {
              "outlinewidth": 0,
              "ticks": ""
             }
            },
            "type": "scatterpolar"
           }
          ],
          "scatterpolargl": [
           {
            "marker": {
             "colorbar": {
              "outlinewidth": 0,
              "ticks": ""
             }
            },
            "type": "scatterpolargl"
           }
          ],
          "scatterternary": [
           {
            "marker": {
             "colorbar": {
              "outlinewidth": 0,
              "ticks": ""
             }
            },
            "type": "scatterternary"
           }
          ],
          "surface": [
           {
            "colorbar": {
             "outlinewidth": 0,
             "ticks": ""
            },
            "colorscale": [
             [
              0,
              "#0d0887"
             ],
             [
              0.1111111111111111,
              "#46039f"
             ],
             [
              0.2222222222222222,
              "#7201a8"
             ],
             [
              0.3333333333333333,
              "#9c179e"
             ],
             [
              0.4444444444444444,
              "#bd3786"
             ],
             [
              0.5555555555555556,
              "#d8576b"
             ],
             [
              0.6666666666666666,
              "#ed7953"
             ],
             [
              0.7777777777777778,
              "#fb9f3a"
             ],
             [
              0.8888888888888888,
              "#fdca26"
             ],
             [
              1,
              "#f0f921"
             ]
            ],
            "type": "surface"
           }
          ],
          "table": [
           {
            "cells": {
             "fill": {
              "color": "#EBF0F8"
             },
             "line": {
              "color": "white"
             }
            },
            "header": {
             "fill": {
              "color": "#C8D4E3"
             },
             "line": {
              "color": "white"
             }
            },
            "type": "table"
           }
          ]
         },
         "layout": {
          "annotationdefaults": {
           "arrowcolor": "#2a3f5f",
           "arrowhead": 0,
           "arrowwidth": 1
          },
          "autotypenumbers": "strict",
          "coloraxis": {
           "colorbar": {
            "outlinewidth": 0,
            "ticks": ""
           }
          },
          "colorscale": {
           "diverging": [
            [
             0,
             "#8e0152"
            ],
            [
             0.1,
             "#c51b7d"
            ],
            [
             0.2,
             "#de77ae"
            ],
            [
             0.3,
             "#f1b6da"
            ],
            [
             0.4,
             "#fde0ef"
            ],
            [
             0.5,
             "#f7f7f7"
            ],
            [
             0.6,
             "#e6f5d0"
            ],
            [
             0.7,
             "#b8e186"
            ],
            [
             0.8,
             "#7fbc41"
            ],
            [
             0.9,
             "#4d9221"
            ],
            [
             1,
             "#276419"
            ]
           ],
           "sequential": [
            [
             0,
             "#0d0887"
            ],
            [
             0.1111111111111111,
             "#46039f"
            ],
            [
             0.2222222222222222,
             "#7201a8"
            ],
            [
             0.3333333333333333,
             "#9c179e"
            ],
            [
             0.4444444444444444,
             "#bd3786"
            ],
            [
             0.5555555555555556,
             "#d8576b"
            ],
            [
             0.6666666666666666,
             "#ed7953"
            ],
            [
             0.7777777777777778,
             "#fb9f3a"
            ],
            [
             0.8888888888888888,
             "#fdca26"
            ],
            [
             1,
             "#f0f921"
            ]
           ],
           "sequentialminus": [
            [
             0,
             "#0d0887"
            ],
            [
             0.1111111111111111,
             "#46039f"
            ],
            [
             0.2222222222222222,
             "#7201a8"
            ],
            [
             0.3333333333333333,
             "#9c179e"
            ],
            [
             0.4444444444444444,
             "#bd3786"
            ],
            [
             0.5555555555555556,
             "#d8576b"
            ],
            [
             0.6666666666666666,
             "#ed7953"
            ],
            [
             0.7777777777777778,
             "#fb9f3a"
            ],
            [
             0.8888888888888888,
             "#fdca26"
            ],
            [
             1,
             "#f0f921"
            ]
           ]
          },
          "colorway": [
           "#636efa",
           "#EF553B",
           "#00cc96",
           "#ab63fa",
           "#FFA15A",
           "#19d3f3",
           "#FF6692",
           "#B6E880",
           "#FF97FF",
           "#FECB52"
          ],
          "font": {
           "color": "#2a3f5f"
          },
          "geo": {
           "bgcolor": "white",
           "lakecolor": "white",
           "landcolor": "#E5ECF6",
           "showlakes": true,
           "showland": true,
           "subunitcolor": "white"
          },
          "hoverlabel": {
           "align": "left"
          },
          "hovermode": "closest",
          "mapbox": {
           "style": "light"
          },
          "paper_bgcolor": "white",
          "plot_bgcolor": "#E5ECF6",
          "polar": {
           "angularaxis": {
            "gridcolor": "white",
            "linecolor": "white",
            "ticks": ""
           },
           "bgcolor": "#E5ECF6",
           "radialaxis": {
            "gridcolor": "white",
            "linecolor": "white",
            "ticks": ""
           }
          },
          "scene": {
           "xaxis": {
            "backgroundcolor": "#E5ECF6",
            "gridcolor": "white",
            "gridwidth": 2,
            "linecolor": "white",
            "showbackground": true,
            "ticks": "",
            "zerolinecolor": "white"
           },
           "yaxis": {
            "backgroundcolor": "#E5ECF6",
            "gridcolor": "white",
            "gridwidth": 2,
            "linecolor": "white",
            "showbackground": true,
            "ticks": "",
            "zerolinecolor": "white"
           },
           "zaxis": {
            "backgroundcolor": "#E5ECF6",
            "gridcolor": "white",
            "gridwidth": 2,
            "linecolor": "white",
            "showbackground": true,
            "ticks": "",
            "zerolinecolor": "white"
           }
          },
          "shapedefaults": {
           "line": {
            "color": "#2a3f5f"
           }
          },
          "ternary": {
           "aaxis": {
            "gridcolor": "white",
            "linecolor": "white",
            "ticks": ""
           },
           "baxis": {
            "gridcolor": "white",
            "linecolor": "white",
            "ticks": ""
           },
           "bgcolor": "#E5ECF6",
           "caxis": {
            "gridcolor": "white",
            "linecolor": "white",
            "ticks": ""
           }
          },
          "title": {
           "x": 0.05
          },
          "xaxis": {
           "automargin": true,
           "gridcolor": "white",
           "linecolor": "white",
           "ticks": "",
           "title": {
            "standoff": 15
           },
           "zerolinecolor": "white",
           "zerolinewidth": 2
          },
          "yaxis": {
           "automargin": true,
           "gridcolor": "white",
           "linecolor": "white",
           "ticks": "",
           "title": {
            "standoff": 15
           },
           "zerolinecolor": "white",
           "zerolinewidth": 2
          }
         }
        },
        "title": {
         "font": {
          "family": "Arial"
         },
         "text": "<b>Peso Contenido<b>"
        },
        "width": 600
       }
      },
      "text/html": [
       "<div>                            <div id=\"56918b45-78e0-44b9-8441-24f79516d146\" class=\"plotly-graph-div\" style=\"height:450px; width:600px;\"></div>            <script type=\"text/javascript\">                require([\"plotly\"], function(Plotly) {                    window.PLOTLYENV=window.PLOTLYENV || {};                                    if (document.getElementById(\"56918b45-78e0-44b9-8441-24f79516d146\")) {                    Plotly.newPlot(                        \"56918b45-78e0-44b9-8441-24f79516d146\",                        [{\"customdata\":[[\"Peliculas\"],[\"Series\"]],\"domain\":{\"x\":[0.0,1.0],\"y\":[0.0,1.0]},\"hovertemplate\":[\"Peliculas\",\"Series\"],\"legendgroup\":\"\",\"marker\":{\"colors\":[\"black\",\"grey\"],\"line\":{\"color\":\"white\",\"width\":2.4}},\"name\":\"\",\"showlegend\":false,\"values\":[2199,626],\"type\":\"pie\"}],                        {\"template\":{\"data\":{\"histogram2dcontour\":[{\"type\":\"histogram2dcontour\",\"colorbar\":{\"outlinewidth\":0,\"ticks\":\"\"},\"colorscale\":[[0.0,\"#0d0887\"],[0.1111111111111111,\"#46039f\"],[0.2222222222222222,\"#7201a8\"],[0.3333333333333333,\"#9c179e\"],[0.4444444444444444,\"#bd3786\"],[0.5555555555555556,\"#d8576b\"],[0.6666666666666666,\"#ed7953\"],[0.7777777777777778,\"#fb9f3a\"],[0.8888888888888888,\"#fdca26\"],[1.0,\"#f0f921\"]]}],\"choropleth\":[{\"type\":\"choropleth\",\"colorbar\":{\"outlinewidth\":0,\"ticks\":\"\"}}],\"histogram2d\":[{\"type\":\"histogram2d\",\"colorbar\":{\"outlinewidth\":0,\"ticks\":\"\"},\"colorscale\":[[0.0,\"#0d0887\"],[0.1111111111111111,\"#46039f\"],[0.2222222222222222,\"#7201a8\"],[0.3333333333333333,\"#9c179e\"],[0.4444444444444444,\"#bd3786\"],[0.5555555555555556,\"#d8576b\"],[0.6666666666666666,\"#ed7953\"],[0.7777777777777778,\"#fb9f3a\"],[0.8888888888888888,\"#fdca26\"],[1.0,\"#f0f921\"]]}],\"heatmap\":[{\"type\":\"heatmap\",\"colorbar\":{\"outlinewidth\":0,\"ticks\":\"\"},\"colorscale\":[[0.0,\"#0d0887\"],[0.1111111111111111,\"#46039f\"],[0.2222222222222222,\"#7201a8\"],[0.3333333333333333,\"#9c179e\"],[0.4444444444444444,\"#bd3786\"],[0.5555555555555556,\"#d8576b\"],[0.6666666666666666,\"#ed7953\"],[0.7777777777777778,\"#fb9f3a\"],[0.8888888888888888,\"#fdca26\"],[1.0,\"#f0f921\"]]}],\"heatmapgl\":[{\"type\":\"heatmapgl\",\"colorbar\":{\"outlinewidth\":0,\"ticks\":\"\"},\"colorscale\":[[0.0,\"#0d0887\"],[0.1111111111111111,\"#46039f\"],[0.2222222222222222,\"#7201a8\"],[0.3333333333333333,\"#9c179e\"],[0.4444444444444444,\"#bd3786\"],[0.5555555555555556,\"#d8576b\"],[0.6666666666666666,\"#ed7953\"],[0.7777777777777778,\"#fb9f3a\"],[0.8888888888888888,\"#fdca26\"],[1.0,\"#f0f921\"]]}],\"contourcarpet\":[{\"type\":\"contourcarpet\",\"colorbar\":{\"outlinewidth\":0,\"ticks\":\"\"}}],\"contour\":[{\"type\":\"contour\",\"colorbar\":{\"outlinewidth\":0,\"ticks\":\"\"},\"colorscale\":[[0.0,\"#0d0887\"],[0.1111111111111111,\"#46039f\"],[0.2222222222222222,\"#7201a8\"],[0.3333333333333333,\"#9c179e\"],[0.4444444444444444,\"#bd3786\"],[0.5555555555555556,\"#d8576b\"],[0.6666666666666666,\"#ed7953\"],[0.7777777777777778,\"#fb9f3a\"],[0.8888888888888888,\"#fdca26\"],[1.0,\"#f0f921\"]]}],\"surface\":[{\"type\":\"surface\",\"colorbar\":{\"outlinewidth\":0,\"ticks\":\"\"},\"colorscale\":[[0.0,\"#0d0887\"],[0.1111111111111111,\"#46039f\"],[0.2222222222222222,\"#7201a8\"],[0.3333333333333333,\"#9c179e\"],[0.4444444444444444,\"#bd3786\"],[0.5555555555555556,\"#d8576b\"],[0.6666666666666666,\"#ed7953\"],[0.7777777777777778,\"#fb9f3a\"],[0.8888888888888888,\"#fdca26\"],[1.0,\"#f0f921\"]]}],\"mesh3d\":[{\"type\":\"mesh3d\",\"colorbar\":{\"outlinewidth\":0,\"ticks\":\"\"}}],\"scatter\":[{\"fillpattern\":{\"fillmode\":\"overlay\",\"size\":10,\"solidity\":0.2},\"type\":\"scatter\"}],\"parcoords\":[{\"type\":\"parcoords\",\"line\":{\"colorbar\":{\"outlinewidth\":0,\"ticks\":\"\"}}}],\"scatterpolargl\":[{\"type\":\"scatterpolargl\",\"marker\":{\"colorbar\":{\"outlinewidth\":0,\"ticks\":\"\"}}}],\"bar\":[{\"error_x\":{\"color\":\"#2a3f5f\"},\"error_y\":{\"color\":\"#2a3f5f\"},\"marker\":{\"line\":{\"color\":\"#E5ECF6\",\"width\":0.5},\"pattern\":{\"fillmode\":\"overlay\",\"size\":10,\"solidity\":0.2}},\"type\":\"bar\"}],\"scattergeo\":[{\"type\":\"scattergeo\",\"marker\":{\"colorbar\":{\"outlinewidth\":0,\"ticks\":\"\"}}}],\"scatterpolar\":[{\"type\":\"scatterpolar\",\"marker\":{\"colorbar\":{\"outlinewidth\":0,\"ticks\":\"\"}}}],\"histogram\":[{\"marker\":{\"pattern\":{\"fillmode\":\"overlay\",\"size\":10,\"solidity\":0.2}},\"type\":\"histogram\"}],\"scattergl\":[{\"type\":\"scattergl\",\"marker\":{\"colorbar\":{\"outlinewidth\":0,\"ticks\":\"\"}}}],\"scatter3d\":[{\"type\":\"scatter3d\",\"line\":{\"colorbar\":{\"outlinewidth\":0,\"ticks\":\"\"}},\"marker\":{\"colorbar\":{\"outlinewidth\":0,\"ticks\":\"\"}}}],\"scattermapbox\":[{\"type\":\"scattermapbox\",\"marker\":{\"colorbar\":{\"outlinewidth\":0,\"ticks\":\"\"}}}],\"scatterternary\":[{\"type\":\"scatterternary\",\"marker\":{\"colorbar\":{\"outlinewidth\":0,\"ticks\":\"\"}}}],\"scattercarpet\":[{\"type\":\"scattercarpet\",\"marker\":{\"colorbar\":{\"outlinewidth\":0,\"ticks\":\"\"}}}],\"carpet\":[{\"aaxis\":{\"endlinecolor\":\"#2a3f5f\",\"gridcolor\":\"white\",\"linecolor\":\"white\",\"minorgridcolor\":\"white\",\"startlinecolor\":\"#2a3f5f\"},\"baxis\":{\"endlinecolor\":\"#2a3f5f\",\"gridcolor\":\"white\",\"linecolor\":\"white\",\"minorgridcolor\":\"white\",\"startlinecolor\":\"#2a3f5f\"},\"type\":\"carpet\"}],\"table\":[{\"cells\":{\"fill\":{\"color\":\"#EBF0F8\"},\"line\":{\"color\":\"white\"}},\"header\":{\"fill\":{\"color\":\"#C8D4E3\"},\"line\":{\"color\":\"white\"}},\"type\":\"table\"}],\"barpolar\":[{\"marker\":{\"line\":{\"color\":\"#E5ECF6\",\"width\":0.5},\"pattern\":{\"fillmode\":\"overlay\",\"size\":10,\"solidity\":0.2}},\"type\":\"barpolar\"}],\"pie\":[{\"automargin\":true,\"type\":\"pie\"}]},\"layout\":{\"autotypenumbers\":\"strict\",\"colorway\":[\"#636efa\",\"#EF553B\",\"#00cc96\",\"#ab63fa\",\"#FFA15A\",\"#19d3f3\",\"#FF6692\",\"#B6E880\",\"#FF97FF\",\"#FECB52\"],\"font\":{\"color\":\"#2a3f5f\"},\"hovermode\":\"closest\",\"hoverlabel\":{\"align\":\"left\"},\"paper_bgcolor\":\"white\",\"plot_bgcolor\":\"#E5ECF6\",\"polar\":{\"bgcolor\":\"#E5ECF6\",\"angularaxis\":{\"gridcolor\":\"white\",\"linecolor\":\"white\",\"ticks\":\"\"},\"radialaxis\":{\"gridcolor\":\"white\",\"linecolor\":\"white\",\"ticks\":\"\"}},\"ternary\":{\"bgcolor\":\"#E5ECF6\",\"aaxis\":{\"gridcolor\":\"white\",\"linecolor\":\"white\",\"ticks\":\"\"},\"baxis\":{\"gridcolor\":\"white\",\"linecolor\":\"white\",\"ticks\":\"\"},\"caxis\":{\"gridcolor\":\"white\",\"linecolor\":\"white\",\"ticks\":\"\"}},\"coloraxis\":{\"colorbar\":{\"outlinewidth\":0,\"ticks\":\"\"}},\"colorscale\":{\"sequential\":[[0.0,\"#0d0887\"],[0.1111111111111111,\"#46039f\"],[0.2222222222222222,\"#7201a8\"],[0.3333333333333333,\"#9c179e\"],[0.4444444444444444,\"#bd3786\"],[0.5555555555555556,\"#d8576b\"],[0.6666666666666666,\"#ed7953\"],[0.7777777777777778,\"#fb9f3a\"],[0.8888888888888888,\"#fdca26\"],[1.0,\"#f0f921\"]],\"sequentialminus\":[[0.0,\"#0d0887\"],[0.1111111111111111,\"#46039f\"],[0.2222222222222222,\"#7201a8\"],[0.3333333333333333,\"#9c179e\"],[0.4444444444444444,\"#bd3786\"],[0.5555555555555556,\"#d8576b\"],[0.6666666666666666,\"#ed7953\"],[0.7777777777777778,\"#fb9f3a\"],[0.8888888888888888,\"#fdca26\"],[1.0,\"#f0f921\"]],\"diverging\":[[0,\"#8e0152\"],[0.1,\"#c51b7d\"],[0.2,\"#de77ae\"],[0.3,\"#f1b6da\"],[0.4,\"#fde0ef\"],[0.5,\"#f7f7f7\"],[0.6,\"#e6f5d0\"],[0.7,\"#b8e186\"],[0.8,\"#7fbc41\"],[0.9,\"#4d9221\"],[1,\"#276419\"]]},\"xaxis\":{\"gridcolor\":\"white\",\"linecolor\":\"white\",\"ticks\":\"\",\"title\":{\"standoff\":15},\"zerolinecolor\":\"white\",\"automargin\":true,\"zerolinewidth\":2},\"yaxis\":{\"gridcolor\":\"white\",\"linecolor\":\"white\",\"ticks\":\"\",\"title\":{\"standoff\":15},\"zerolinecolor\":\"white\",\"automargin\":true,\"zerolinewidth\":2},\"scene\":{\"xaxis\":{\"backgroundcolor\":\"#E5ECF6\",\"gridcolor\":\"white\",\"linecolor\":\"white\",\"showbackground\":true,\"ticks\":\"\",\"zerolinecolor\":\"white\",\"gridwidth\":2},\"yaxis\":{\"backgroundcolor\":\"#E5ECF6\",\"gridcolor\":\"white\",\"linecolor\":\"white\",\"showbackground\":true,\"ticks\":\"\",\"zerolinecolor\":\"white\",\"gridwidth\":2},\"zaxis\":{\"backgroundcolor\":\"#E5ECF6\",\"gridcolor\":\"white\",\"linecolor\":\"white\",\"showbackground\":true,\"ticks\":\"\",\"zerolinecolor\":\"white\",\"gridwidth\":2}},\"shapedefaults\":{\"line\":{\"color\":\"#2a3f5f\"}},\"annotationdefaults\":{\"arrowcolor\":\"#2a3f5f\",\"arrowhead\":0,\"arrowwidth\":1},\"geo\":{\"bgcolor\":\"white\",\"landcolor\":\"#E5ECF6\",\"subunitcolor\":\"white\",\"showland\":true,\"showlakes\":true,\"lakecolor\":\"white\"},\"title\":{\"x\":0.05},\"mapbox\":{\"style\":\"light\"}}},\"legend\":{\"tracegroupgap\":0},\"title\":{\"text\":\"<b>Peso Contenido<b>\",\"font\":{\"family\":\"Arial\"}},\"height\":450,\"width\":600,\"font\":{\"family\":\"Arial\"}},                        {\"responsive\": true}                    ).then(function(){\n",
       "                            \n",
       "var gd = document.getElementById('56918b45-78e0-44b9-8441-24f79516d146');\n",
       "var x = new MutationObserver(function (mutations, observer) {{\n",
       "        var display = window.getComputedStyle(gd).display;\n",
       "        if (!display || display === 'none') {{\n",
       "            console.log([gd, 'removed!']);\n",
       "            Plotly.purge(gd);\n",
       "            observer.disconnect();\n",
       "        }}\n",
       "}});\n",
       "\n",
       "// Listen for the removal of the full notebook cells\n",
       "var notebookContainer = gd.closest('#notebook-container');\n",
       "if (notebookContainer) {{\n",
       "    x.observe(notebookContainer, {childList: true});\n",
       "}}\n",
       "\n",
       "// Listen for the clearing of the current output cell\n",
       "var outputEl = gd.closest('.output');\n",
       "if (outputEl) {{\n",
       "    x.observe(outputEl, {childList: true});\n",
       "}}\n",
       "\n",
       "                        })                };                });            </script>        </div>"
      ]
     },
     "metadata": {},
     "output_type": "display_data"
    }
   ],
   "source": [
    "# GRÁFICO PIE SERIES - PELICULAS\n",
    "\n",
    "# Si tuviesemos el numero de capitulos por temporada podríamos estimar una comparacion más realista del contenido\n",
    "# --> (se podría haber sacado con webscrapping)\n",
    "\n",
    "\n",
    "labels = ['Peliculas', 'Series']\n",
    "values =  [paramount_peliculas_df.shape[0], paramount_series_df.shape[0]]\n",
    "\n",
    "fig = px.pie(values=values, labels=labels, #names= labels,\n",
    "width = 600, height=450,\n",
    "title = \"<b>Peso Contenido<b>\", #hoverinfo=values,\n",
    "color = labels, \n",
    "color_discrete_map={'Peliculas':'black',\n",
    "                                 'Series':'grey'}\n",
    ")\n",
    "\n",
    "fig.update_traces(marker=dict(line=dict(color='white', width=2.4)),\n",
    "                    hovertemplate = labels\n",
    ")\n",
    "                 \n",
    "\n",
    "fig.update_layout(font_family = 'Arial', title_font_family='Arial')\n",
    "\n",
    "#color=labels, )\n",
    "fig.show()\n",
    "\n",
    "#color_discrete_sequence=px.colors.sequential.Greys_r\n",
    "#hol=0.5"
   ]
  },
  {
   "cell_type": "markdown",
   "metadata": {},
   "source": [
    "1.3. Ficheros Contenidos PARAMOUNT +"
   ]
  },
  {
   "cell_type": "code",
   "execution_count": 56,
   "metadata": {},
   "outputs": [],
   "source": [
    "#  Pasamos las tablas a un CSV:\n",
    "\n",
    "paramount_peliculas_df.to_csv('df_paramount_peliculas.csv', encoding='utf-8')\n",
    "paramount_series_df.to_csv('df_paramount_series.csv', encoding='utf-8')"
   ]
  },
  {
   "cell_type": "code",
   "execution_count": null,
   "metadata": {},
   "outputs": [],
   "source": []
  }
 ],
 "metadata": {
  "interpreter": {
   "hash": "aee8b7b246df8f9039afb4144a1f6fd8d2ca17a180786b69acc140d282b71a49"
  },
  "kernelspec": {
   "display_name": "Python 3.7.4 64-bit",
   "language": "python",
   "name": "python3"
  },
  "language_info": {
   "codemirror_mode": {
    "name": "ipython",
    "version": 3
   },
   "file_extension": ".py",
   "mimetype": "text/x-python",
   "name": "python",
   "nbconvert_exporter": "python",
   "pygments_lexer": "ipython3",
   "version": "3.7.4"
  },
  "orig_nbformat": 4
 },
 "nbformat": 4,
 "nbformat_minor": 2
}
