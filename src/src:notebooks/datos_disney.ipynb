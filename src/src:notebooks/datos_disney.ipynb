{
 "cells": [
  {
   "cell_type": "markdown",
   "metadata": {},
   "source": [
    "## **Disney +**\n",
    "\n",
    "### 1. Exploración y Preparación de los Datos\n",
    "\n",
    "Datos descargados de Kaggle\n",
    "\n",
    "(Mismo código en todos los notebooks de datos)"
   ]
  },
  {
   "cell_type": "code",
   "execution_count": 1,
   "metadata": {},
   "outputs": [
    {
     "data": {
      "text/html": [
       "        <script type=\"text/javascript\">\n",
       "        window.PlotlyConfig = {MathJaxConfig: 'local'};\n",
       "        if (window.MathJax && window.MathJax.Hub && window.MathJax.Hub.Config) {window.MathJax.Hub.Config({SVG: {font: \"STIX-Web\"}});}\n",
       "        if (typeof require !== 'undefined') {\n",
       "        require.undef(\"plotly\");\n",
       "        requirejs.config({\n",
       "            paths: {\n",
       "                'plotly': ['https://cdn.plot.ly/plotly-2.12.1.min']\n",
       "            }\n",
       "        });\n",
       "        require(['plotly'], function(Plotly) {\n",
       "            window._Plotly = Plotly;\n",
       "        });\n",
       "        }\n",
       "        </script>\n",
       "        "
      ]
     },
     "metadata": {},
     "output_type": "display_data"
    }
   ],
   "source": [
    "import pandas as pd\n",
    "import numpy as np\n",
    "import seaborn as sns\n",
    "\n",
    "# plotly\n",
    "# import plotly.plotly as py\n",
    "from plotly.offline import init_notebook_mode, iplot, plot\n",
    "import plotly as py\n",
    "init_notebook_mode(connected=True)\n",
    "import plotly.graph_objs as go\n",
    "import plotly.express as px\n",
    "from plotly.subplots import make_subplots"
   ]
  },
  {
   "cell_type": "code",
   "execution_count": 2,
   "metadata": {},
   "outputs": [
    {
     "name": "stdout",
     "output_type": "stream",
     "text": [
      "Filas, columnas: (1535, 15)\n"
     ]
    },
    {
     "data": {
      "text/html": [
       "<div>\n",
       "<style scoped>\n",
       "    .dataframe tbody tr th:only-of-type {\n",
       "        vertical-align: middle;\n",
       "    }\n",
       "\n",
       "    .dataframe tbody tr th {\n",
       "        vertical-align: top;\n",
       "    }\n",
       "\n",
       "    .dataframe thead th {\n",
       "        text-align: right;\n",
       "    }\n",
       "</style>\n",
       "<table border=\"1\" class=\"dataframe\">\n",
       "  <thead>\n",
       "    <tr style=\"text-align: right;\">\n",
       "      <th></th>\n",
       "      <th>id</th>\n",
       "      <th>title</th>\n",
       "      <th>type</th>\n",
       "      <th>description</th>\n",
       "      <th>release_year</th>\n",
       "      <th>age_certification</th>\n",
       "      <th>runtime</th>\n",
       "      <th>genres</th>\n",
       "      <th>production_countries</th>\n",
       "      <th>seasons</th>\n",
       "      <th>imdb_id</th>\n",
       "      <th>imdb_score</th>\n",
       "      <th>imdb_votes</th>\n",
       "      <th>tmdb_popularity</th>\n",
       "      <th>tmdb_score</th>\n",
       "    </tr>\n",
       "  </thead>\n",
       "  <tbody>\n",
       "    <tr>\n",
       "      <th>0</th>\n",
       "      <td>tm74391</td>\n",
       "      <td>Fantasia</td>\n",
       "      <td>MOVIE</td>\n",
       "      <td>Walt Disney's timeless masterpiece is an extra...</td>\n",
       "      <td>1940</td>\n",
       "      <td>G</td>\n",
       "      <td>120</td>\n",
       "      <td>['animation', 'family', 'music', 'fantasy']</td>\n",
       "      <td>['US']</td>\n",
       "      <td>NaN</td>\n",
       "      <td>tt0032455</td>\n",
       "      <td>7.7</td>\n",
       "      <td>94681.0</td>\n",
       "      <td>57.751</td>\n",
       "      <td>7.4</td>\n",
       "    </tr>\n",
       "    <tr>\n",
       "      <th>1</th>\n",
       "      <td>tm67803</td>\n",
       "      <td>Snow White and the Seven Dwarfs</td>\n",
       "      <td>MOVIE</td>\n",
       "      <td>A beautiful girl, Snow White, takes refuge in ...</td>\n",
       "      <td>1937</td>\n",
       "      <td>G</td>\n",
       "      <td>83</td>\n",
       "      <td>['fantasy', 'family', 'romance', 'animation', ...</td>\n",
       "      <td>['US']</td>\n",
       "      <td>NaN</td>\n",
       "      <td>tt0029583</td>\n",
       "      <td>7.6</td>\n",
       "      <td>195321.0</td>\n",
       "      <td>107.137</td>\n",
       "      <td>7.1</td>\n",
       "    </tr>\n",
       "    <tr>\n",
       "      <th>2</th>\n",
       "      <td>tm82546</td>\n",
       "      <td>Pinocchio</td>\n",
       "      <td>MOVIE</td>\n",
       "      <td>Lonely toymaker Geppetto has his wishes answer...</td>\n",
       "      <td>1940</td>\n",
       "      <td>G</td>\n",
       "      <td>88</td>\n",
       "      <td>['animation', 'comedy', 'family', 'fantasy']</td>\n",
       "      <td>['US']</td>\n",
       "      <td>NaN</td>\n",
       "      <td>tt0032910</td>\n",
       "      <td>7.5</td>\n",
       "      <td>141937.0</td>\n",
       "      <td>71.160</td>\n",
       "      <td>7.1</td>\n",
       "    </tr>\n",
       "    <tr>\n",
       "      <th>3</th>\n",
       "      <td>tm79357</td>\n",
       "      <td>Bambi</td>\n",
       "      <td>MOVIE</td>\n",
       "      <td>Bambi's tale unfolds from season to season as ...</td>\n",
       "      <td>1942</td>\n",
       "      <td>G</td>\n",
       "      <td>70</td>\n",
       "      <td>['animation', 'drama', 'family']</td>\n",
       "      <td>['US']</td>\n",
       "      <td>NaN</td>\n",
       "      <td>tt0034492</td>\n",
       "      <td>7.3</td>\n",
       "      <td>140406.0</td>\n",
       "      <td>68.136</td>\n",
       "      <td>7.0</td>\n",
       "    </tr>\n",
       "    <tr>\n",
       "      <th>4</th>\n",
       "      <td>tm62671</td>\n",
       "      <td>Treasure Island</td>\n",
       "      <td>MOVIE</td>\n",
       "      <td>Enchanted by the idea of locating treasure bur...</td>\n",
       "      <td>1950</td>\n",
       "      <td>PG</td>\n",
       "      <td>96</td>\n",
       "      <td>['family', 'action']</td>\n",
       "      <td>['GB', 'US']</td>\n",
       "      <td>NaN</td>\n",
       "      <td>tt0043067</td>\n",
       "      <td>6.9</td>\n",
       "      <td>8229.0</td>\n",
       "      <td>10.698</td>\n",
       "      <td>6.5</td>\n",
       "    </tr>\n",
       "  </tbody>\n",
       "</table>\n",
       "</div>"
      ],
      "text/plain": [
       "        id                            title   type  \\\n",
       "0  tm74391                         Fantasia  MOVIE   \n",
       "1  tm67803  Snow White and the Seven Dwarfs  MOVIE   \n",
       "2  tm82546                        Pinocchio  MOVIE   \n",
       "3  tm79357                            Bambi  MOVIE   \n",
       "4  tm62671                  Treasure Island  MOVIE   \n",
       "\n",
       "                                         description  release_year  \\\n",
       "0  Walt Disney's timeless masterpiece is an extra...          1940   \n",
       "1  A beautiful girl, Snow White, takes refuge in ...          1937   \n",
       "2  Lonely toymaker Geppetto has his wishes answer...          1940   \n",
       "3  Bambi's tale unfolds from season to season as ...          1942   \n",
       "4  Enchanted by the idea of locating treasure bur...          1950   \n",
       "\n",
       "  age_certification  runtime  \\\n",
       "0                 G      120   \n",
       "1                 G       83   \n",
       "2                 G       88   \n",
       "3                 G       70   \n",
       "4                PG       96   \n",
       "\n",
       "                                              genres production_countries  \\\n",
       "0        ['animation', 'family', 'music', 'fantasy']               ['US']   \n",
       "1  ['fantasy', 'family', 'romance', 'animation', ...               ['US']   \n",
       "2       ['animation', 'comedy', 'family', 'fantasy']               ['US']   \n",
       "3                   ['animation', 'drama', 'family']               ['US']   \n",
       "4                               ['family', 'action']         ['GB', 'US']   \n",
       "\n",
       "   seasons    imdb_id  imdb_score  imdb_votes  tmdb_popularity  tmdb_score  \n",
       "0      NaN  tt0032455         7.7     94681.0           57.751         7.4  \n",
       "1      NaN  tt0029583         7.6    195321.0          107.137         7.1  \n",
       "2      NaN  tt0032910         7.5    141937.0           71.160         7.1  \n",
       "3      NaN  tt0034492         7.3    140406.0           68.136         7.0  \n",
       "4      NaN  tt0043067         6.9      8229.0           10.698         6.5  "
      ]
     },
     "execution_count": 2,
     "metadata": {},
     "output_type": "execute_result"
    }
   ],
   "source": [
    "data_disney = pd.read_csv('../src:data/Data_Disney+/datos_disney.csv')\n",
    "\n",
    "print(\"Filas, columnas:\", data_disney.shape)\n",
    "data_disney.head()"
   ]
  },
  {
   "cell_type": "code",
   "execution_count": 3,
   "metadata": {},
   "outputs": [
    {
     "data": {
      "text/plain": [
       "id                       object\n",
       "title                    object\n",
       "type                     object\n",
       "description              object\n",
       "release_year              int64\n",
       "age_certification        object\n",
       "runtime                   int64\n",
       "genres                   object\n",
       "production_countries     object\n",
       "seasons                 float64\n",
       "imdb_id                  object\n",
       "imdb_score              float64\n",
       "imdb_votes              float64\n",
       "tmdb_popularity         float64\n",
       "tmdb_score              float64\n",
       "dtype: object"
      ]
     },
     "execution_count": 3,
     "metadata": {},
     "output_type": "execute_result"
    }
   ],
   "source": [
    "# Tipo de dato\n",
    "data_disney.dtypes"
   ]
  },
  {
   "cell_type": "code",
   "execution_count": 4,
   "metadata": {},
   "outputs": [
    {
     "data": {
      "text/plain": [
       "id                         0\n",
       "title                      0\n",
       "type                       0\n",
       "description                6\n",
       "release_year               0\n",
       "age_certification        325\n",
       "runtime                    0\n",
       "genres                     0\n",
       "production_countries       0\n",
       "seasons                 1120\n",
       "imdb_id                  402\n",
       "imdb_score               427\n",
       "imdb_votes               430\n",
       "tmdb_popularity           11\n",
       "tmdb_score               109\n",
       "dtype: int64"
      ]
     },
     "execution_count": 4,
     "metadata": {},
     "output_type": "execute_result"
    }
   ],
   "source": [
    "# Missings\n",
    "\n",
    "data_disney.isna().sum()"
   ]
  },
  {
   "cell_type": "code",
   "execution_count": 5,
   "metadata": {},
   "outputs": [
    {
     "name": "stdout",
     "output_type": "stream",
     "text": [
      "0.0\n",
      "0.0\n",
      "0.0\n",
      "0.39087947882736157\n",
      "0.0\n",
      "21.172638436482085\n",
      "0.0\n",
      "0.0\n",
      "0.0\n",
      "72.9641693811075\n",
      "26.188925081433222\n",
      "27.81758957654723\n",
      "28.013029315960914\n",
      "0.7166123778501629\n",
      "7.100977198697069\n"
     ]
    }
   ],
   "source": [
    "#Nulls en porcentaje\n",
    "for i in data_disney.isna().sum():\n",
    "    print((i/data_disney.shape[0])*100)\n",
    "\n",
    "#Destacamos que el 73% de los valores de la columna season son nulos, pero como representan el numero de temporadas, no nos importa mucho, y podría tener sentido"
   ]
  },
  {
   "cell_type": "code",
   "execution_count": 6,
   "metadata": {},
   "outputs": [
    {
     "data": {
      "text/plain": [
       "<AxesSubplot:>"
      ]
     },
     "execution_count": 6,
     "metadata": {},
     "output_type": "execute_result"
    },
    {
     "data": {
      "image/png": "[encoded data removed]",
      "text/plain": [
       "<Figure size 432x288 with 1 Axes>"
      ]
     },
     "metadata": {
      "needs_background": "light"
     },
     "output_type": "display_data"
    }
   ],
   "source": [
    "sns.heatmap(data_disney.isnull(),cbar=False,cmap='viridis')"
   ]
  },
  {
   "cell_type": "markdown",
   "metadata": {},
   "source": [
    "1.2. Columnas\n",
    "\n",
    "- ID: ID del título en JustWatch\n",
    "\n",
    "- title: nombre del título\n",
    "\n",
    "- show type: SHOW o MOVIE - diferenciación entre pelicula o serie\n",
    "\n",
    "- description: breve descripción\n",
    "\n",
    "- release year: año de estreno\n",
    "\n",
    "- age certification: orientacion a padres de edad mínima recomendada\n",
    "\n",
    "- runtime: duración\n",
    "\n",
    "- genres: lista de géneros\n",
    "\n",
    "- production countries: lista de países que produjeron el título\n",
    "\n",
    "- seasons: número de temporadas\n",
    "\n",
    "- IMDB ID: ID del título en IMDB\n",
    "\n",
    "- IMDB Score: puntuación en IMDB\n",
    "\n",
    "- IMDB Votes: votos en IMDB\n",
    "\n",
    "- TMDB Score: puntuación en TMDB\n",
    "\n",
    "- TMDB Popularity: popularidad en TMDB\n",
    "\n",
    "    La métrica de popularidad de TMDB se mide -diariamente- en función de los parámetros:\n",
    "    - N de votos al día\n",
    "    - N vistas de pág al día    \n",
    "    - N usuarios que marcan el título como favorito    \n",
    "    - Fecha de estreno +  fecha de emisión del último/nuevo episodio    \n",
    "    - N total de votos\n",
    "    - Puntuación de los días anteriores"
   ]
  },
  {
   "cell_type": "code",
   "execution_count": 7,
   "metadata": {},
   "outputs": [
    {
     "name": "stdout",
     "output_type": "stream",
     "text": [
      "Index(['id', 'title', 'type', 'description', 'release_year',\n",
      "       'age_certification', 'runtime', 'genres', 'production_countries',\n",
      "       'seasons', 'imdb_id', 'imdb_score', 'imdb_votes', 'tmdb_popularity',\n",
      "       'tmdb_score'],\n",
      "      dtype='object')\n",
      "N columnas: 15\n"
     ]
    }
   ],
   "source": [
    "print(data_disney.columns)\n",
    "print(\"N columnas:\", len(data_disney.columns))"
   ]
  },
  {
   "cell_type": "code",
   "execution_count": 8,
   "metadata": {},
   "outputs": [
    {
     "name": "stdout",
     "output_type": "stream",
     "text": [
      "Tipo de dato: object\n",
      "n titulos duplicados: 35\n",
      "valores repetidos: 35\n"
     ]
    }
   ],
   "source": [
    "# Título\n",
    "# Cada título representa un contenido 'único' de la plataforma\n",
    "# Comprobamos que no haya duplicados (ya sabemos que no hay nulos)\n",
    "\n",
    "print('Tipo de dato:', data_disney['title'].dtype)\n",
    "titulos_duplicados = data_disney.loc[data_disney.duplicated(['title'])]\n",
    "print(\"n titulos duplicados:\", titulos_duplicados.shape[0])\n",
    "titulos_unicos = data_disney['title'].nunique()\n",
    "print(\"valores repetidos:\", data_disney.shape[0] - titulos_unicos)\n",
    "\n",
    "#! Disney --> destaca que solo tenga 35 duplicados ??"
   ]
  },
  {
   "cell_type": "code",
   "execution_count": 9,
   "metadata": {},
   "outputs": [
    {
     "name": "stdout",
     "output_type": "stream",
     "text": [
      "n duplicados: 0\n"
     ]
    },
    {
     "data": {
      "text/html": [
       "<div>\n",
       "<style scoped>\n",
       "    .dataframe tbody tr th:only-of-type {\n",
       "        vertical-align: middle;\n",
       "    }\n",
       "\n",
       "    .dataframe tbody tr th {\n",
       "        vertical-align: top;\n",
       "    }\n",
       "\n",
       "    .dataframe thead th {\n",
       "        text-align: right;\n",
       "    }\n",
       "</style>\n",
       "<table border=\"1\" class=\"dataframe\">\n",
       "  <thead>\n",
       "    <tr style=\"text-align: right;\">\n",
       "      <th></th>\n",
       "      <th>id</th>\n",
       "      <th>title</th>\n",
       "      <th>type</th>\n",
       "      <th>description</th>\n",
       "      <th>release_year</th>\n",
       "      <th>age_certification</th>\n",
       "      <th>runtime</th>\n",
       "      <th>genres</th>\n",
       "      <th>production_countries</th>\n",
       "      <th>seasons</th>\n",
       "      <th>imdb_id</th>\n",
       "      <th>imdb_score</th>\n",
       "      <th>imdb_votes</th>\n",
       "      <th>tmdb_popularity</th>\n",
       "      <th>tmdb_score</th>\n",
       "    </tr>\n",
       "  </thead>\n",
       "  <tbody>\n",
       "  </tbody>\n",
       "</table>\n",
       "</div>"
      ],
      "text/plain": [
       "Empty DataFrame\n",
       "Columns: [id, title, type, description, release_year, age_certification, runtime, genres, production_countries, seasons, imdb_id, imdb_score, imdb_votes, tmdb_popularity, tmdb_score]\n",
       "Index: []"
      ]
     },
     "execution_count": 9,
     "metadata": {},
     "output_type": "execute_result"
    }
   ],
   "source": [
    "# Tenemos 35 titulos duplicados, pero esto no indica que sean la misma película/serie\n",
    "# Comprobamos duplicados que coincidan en título, tipo de contenido, año de estreno y duración:\n",
    "\n",
    "print(\"n duplicados:\", data_disney[data_disney.duplicated(subset=['title', 'type', 'release_year', 'runtime'])].shape[0])\n",
    "data_disney[data_disney.duplicated(subset=['title', 'type', 'release_year', 'runtime'])]\n",
    "\n",
    "# Ningún duplicado en este dataset"
   ]
  },
  {
   "cell_type": "code",
   "execution_count": 10,
   "metadata": {},
   "outputs": [
    {
     "name": "stdout",
     "output_type": "stream",
     "text": [
      "N columnas: 13\n"
     ]
    },
    {
     "data": {
      "text/html": [
       "<div>\n",
       "<style scoped>\n",
       "    .dataframe tbody tr th:only-of-type {\n",
       "        vertical-align: middle;\n",
       "    }\n",
       "\n",
       "    .dataframe tbody tr th {\n",
       "        vertical-align: top;\n",
       "    }\n",
       "\n",
       "    .dataframe thead th {\n",
       "        text-align: right;\n",
       "    }\n",
       "</style>\n",
       "<table border=\"1\" class=\"dataframe\">\n",
       "  <thead>\n",
       "    <tr style=\"text-align: right;\">\n",
       "      <th></th>\n",
       "      <th>id</th>\n",
       "      <th>title</th>\n",
       "      <th>type</th>\n",
       "      <th>release_year</th>\n",
       "      <th>age_certification</th>\n",
       "      <th>runtime</th>\n",
       "      <th>genres</th>\n",
       "      <th>production_countries</th>\n",
       "      <th>seasons</th>\n",
       "      <th>imdb_score</th>\n",
       "      <th>imdb_votes</th>\n",
       "      <th>tmdb_popularity</th>\n",
       "      <th>tmdb_score</th>\n",
       "    </tr>\n",
       "  </thead>\n",
       "  <tbody>\n",
       "    <tr>\n",
       "      <th>0</th>\n",
       "      <td>tm74391</td>\n",
       "      <td>Fantasia</td>\n",
       "      <td>MOVIE</td>\n",
       "      <td>1940</td>\n",
       "      <td>G</td>\n",
       "      <td>120</td>\n",
       "      <td>['animation', 'family', 'music', 'fantasy']</td>\n",
       "      <td>['US']</td>\n",
       "      <td>NaN</td>\n",
       "      <td>7.7</td>\n",
       "      <td>94681.0</td>\n",
       "      <td>57.751</td>\n",
       "      <td>7.4</td>\n",
       "    </tr>\n",
       "    <tr>\n",
       "      <th>1</th>\n",
       "      <td>tm67803</td>\n",
       "      <td>Snow White and the Seven Dwarfs</td>\n",
       "      <td>MOVIE</td>\n",
       "      <td>1937</td>\n",
       "      <td>G</td>\n",
       "      <td>83</td>\n",
       "      <td>['fantasy', 'family', 'romance', 'animation', ...</td>\n",
       "      <td>['US']</td>\n",
       "      <td>NaN</td>\n",
       "      <td>7.6</td>\n",
       "      <td>195321.0</td>\n",
       "      <td>107.137</td>\n",
       "      <td>7.1</td>\n",
       "    </tr>\n",
       "    <tr>\n",
       "      <th>2</th>\n",
       "      <td>tm82546</td>\n",
       "      <td>Pinocchio</td>\n",
       "      <td>MOVIE</td>\n",
       "      <td>1940</td>\n",
       "      <td>G</td>\n",
       "      <td>88</td>\n",
       "      <td>['animation', 'comedy', 'family', 'fantasy']</td>\n",
       "      <td>['US']</td>\n",
       "      <td>NaN</td>\n",
       "      <td>7.5</td>\n",
       "      <td>141937.0</td>\n",
       "      <td>71.160</td>\n",
       "      <td>7.1</td>\n",
       "    </tr>\n",
       "    <tr>\n",
       "      <th>3</th>\n",
       "      <td>tm79357</td>\n",
       "      <td>Bambi</td>\n",
       "      <td>MOVIE</td>\n",
       "      <td>1942</td>\n",
       "      <td>G</td>\n",
       "      <td>70</td>\n",
       "      <td>['animation', 'drama', 'family']</td>\n",
       "      <td>['US']</td>\n",
       "      <td>NaN</td>\n",
       "      <td>7.3</td>\n",
       "      <td>140406.0</td>\n",
       "      <td>68.136</td>\n",
       "      <td>7.0</td>\n",
       "    </tr>\n",
       "    <tr>\n",
       "      <th>4</th>\n",
       "      <td>tm62671</td>\n",
       "      <td>Treasure Island</td>\n",
       "      <td>MOVIE</td>\n",
       "      <td>1950</td>\n",
       "      <td>PG</td>\n",
       "      <td>96</td>\n",
       "      <td>['family', 'action']</td>\n",
       "      <td>['GB', 'US']</td>\n",
       "      <td>NaN</td>\n",
       "      <td>6.9</td>\n",
       "      <td>8229.0</td>\n",
       "      <td>10.698</td>\n",
       "      <td>6.5</td>\n",
       "    </tr>\n",
       "  </tbody>\n",
       "</table>\n",
       "</div>"
      ],
      "text/plain": [
       "        id                            title   type  release_year  \\\n",
       "0  tm74391                         Fantasia  MOVIE          1940   \n",
       "1  tm67803  Snow White and the Seven Dwarfs  MOVIE          1937   \n",
       "2  tm82546                        Pinocchio  MOVIE          1940   \n",
       "3  tm79357                            Bambi  MOVIE          1942   \n",
       "4  tm62671                  Treasure Island  MOVIE          1950   \n",
       "\n",
       "  age_certification  runtime  \\\n",
       "0                 G      120   \n",
       "1                 G       83   \n",
       "2                 G       88   \n",
       "3                 G       70   \n",
       "4                PG       96   \n",
       "\n",
       "                                              genres production_countries  \\\n",
       "0        ['animation', 'family', 'music', 'fantasy']               ['US']   \n",
       "1  ['fantasy', 'family', 'romance', 'animation', ...               ['US']   \n",
       "2       ['animation', 'comedy', 'family', 'fantasy']               ['US']   \n",
       "3                   ['animation', 'drama', 'family']               ['US']   \n",
       "4                               ['family', 'action']         ['GB', 'US']   \n",
       "\n",
       "   seasons  imdb_score  imdb_votes  tmdb_popularity  tmdb_score  \n",
       "0      NaN         7.7     94681.0           57.751         7.4  \n",
       "1      NaN         7.6    195321.0          107.137         7.1  \n",
       "2      NaN         7.5    141937.0           71.160         7.1  \n",
       "3      NaN         7.3    140406.0           68.136         7.0  \n",
       "4      NaN         6.9      8229.0           10.698         6.5  "
      ]
     },
     "execution_count": 10,
     "metadata": {},
     "output_type": "execute_result"
    }
   ],
   "source": [
    "# Eliminamos las columnas con el id de Imdb ya que no hemos sacado informacion de estas webs - más allá de la ya dada en el dataset\n",
    "# Tampoco vamos a utilizar en este análisis la descripción de las películas\n",
    "# Mantenemos tanto la valoración de imdb como de tndm porque al pertenecer imdb a amazon podría haber datos sesgados\n",
    "\n",
    "data_disney1 = data_disney.drop(['imdb_id', 'description'], axis=1).copy()\n",
    "print(\"N columnas:\", data_disney1.shape[1])\n",
    "data_disney1.head()"
   ]
  },
  {
   "cell_type": "code",
   "execution_count": 11,
   "metadata": {},
   "outputs": [
    {
     "data": {
      "text/plain": [
       "Index(['id', 'title', 'type', 'release_year', 'age_certification', 'runtime',\n",
       "       'genres', 'production_countries', 'seasons', 'imdb_score', 'imdb_votes',\n",
       "       'tmdb_popularity', 'tmdb_score'],\n",
       "      dtype='object')"
      ]
     },
     "execution_count": 11,
     "metadata": {},
     "output_type": "execute_result"
    }
   ],
   "source": [
    "data_disney1.columns"
   ]
  },
  {
   "cell_type": "code",
   "execution_count": 12,
   "metadata": {},
   "outputs": [
    {
     "name": "stdout",
     "output_type": "stream",
     "text": [
      "Valores unicos: 1535\n",
      "n filas: 1535\n"
     ]
    }
   ],
   "source": [
    "# Comprobamos que la columna id tiene valores únicos para cada título \n",
    "# --> por si lo necesitásemos a la hora de juntar las tablas de todas las plataformas y diferenciar por contenido exclusivo \n",
    "# (por eso no eliminamos esta columna)\n",
    "print(\"Valores unicos:\", data_disney1['id'].nunique())\n",
    "print(\"n filas:\", data_disney1['id'].shape[0])"
   ]
  },
  {
   "cell_type": "code",
   "execution_count": 13,
   "metadata": {},
   "outputs": [
    {
     "data": {
      "text/plain": [
       "array(['MOVIE', 'SHOW'], dtype=object)"
      ]
     },
     "execution_count": 13,
     "metadata": {},
     "output_type": "execute_result"
    }
   ],
   "source": [
    "# Comprobamos los valores de la vble type y nos aseguramos que es de tipo string\n",
    "# --> La utilizaremos para diferenciar los títulos\n",
    "data_disney1['type'] = data_disney1['type'].astype(str)\n",
    "data_disney1['type'].unique()"
   ]
  },
  {
   "cell_type": "code",
   "execution_count": 14,
   "metadata": {},
   "outputs": [],
   "source": [
    "#Creamos la columna década (tiene más sentido para clasificar el contenido)\n",
    "\n",
    "decadas = (10 * (data_disney1['release_year'] // 10)).astype(str) + 's'\n",
    "data_disney1.insert(4, 'Decada', decadas)\n",
    "\n",
    "#Eliminamos la columna release_year\n",
    "del data_disney1['release_year']"
   ]
  },
  {
   "cell_type": "code",
   "execution_count": 15,
   "metadata": {},
   "outputs": [
    {
     "data": {
      "text/html": [
       "<div>\n",
       "<style scoped>\n",
       "    .dataframe tbody tr th:only-of-type {\n",
       "        vertical-align: middle;\n",
       "    }\n",
       "\n",
       "    .dataframe tbody tr th {\n",
       "        vertical-align: top;\n",
       "    }\n",
       "\n",
       "    .dataframe thead th {\n",
       "        text-align: right;\n",
       "    }\n",
       "</style>\n",
       "<table border=\"1\" class=\"dataframe\">\n",
       "  <thead>\n",
       "    <tr style=\"text-align: right;\">\n",
       "      <th></th>\n",
       "      <th>id</th>\n",
       "      <th>title</th>\n",
       "      <th>type</th>\n",
       "      <th>Decada</th>\n",
       "      <th>age_certification</th>\n",
       "      <th>runtime</th>\n",
       "      <th>genres</th>\n",
       "      <th>production_countries</th>\n",
       "      <th>seasons</th>\n",
       "      <th>imdb_score</th>\n",
       "      <th>imdb_votes</th>\n",
       "      <th>tmdb_popularity</th>\n",
       "      <th>tmdb_score</th>\n",
       "    </tr>\n",
       "  </thead>\n",
       "  <tbody>\n",
       "    <tr>\n",
       "      <th>0</th>\n",
       "      <td>tm74391</td>\n",
       "      <td>Fantasia</td>\n",
       "      <td>MOVIE</td>\n",
       "      <td>1940s</td>\n",
       "      <td>G</td>\n",
       "      <td>120</td>\n",
       "      <td>['animation', 'family', 'music', 'fantasy']</td>\n",
       "      <td>['US']</td>\n",
       "      <td>NaN</td>\n",
       "      <td>7.7</td>\n",
       "      <td>94681.0</td>\n",
       "      <td>57.751</td>\n",
       "      <td>7.4</td>\n",
       "    </tr>\n",
       "    <tr>\n",
       "      <th>1</th>\n",
       "      <td>tm67803</td>\n",
       "      <td>Snow White and the Seven Dwarfs</td>\n",
       "      <td>MOVIE</td>\n",
       "      <td>1930s</td>\n",
       "      <td>G</td>\n",
       "      <td>83</td>\n",
       "      <td>['fantasy', 'family', 'romance', 'animation', ...</td>\n",
       "      <td>['US']</td>\n",
       "      <td>NaN</td>\n",
       "      <td>7.6</td>\n",
       "      <td>195321.0</td>\n",
       "      <td>107.137</td>\n",
       "      <td>7.1</td>\n",
       "    </tr>\n",
       "    <tr>\n",
       "      <th>2</th>\n",
       "      <td>tm82546</td>\n",
       "      <td>Pinocchio</td>\n",
       "      <td>MOVIE</td>\n",
       "      <td>1940s</td>\n",
       "      <td>G</td>\n",
       "      <td>88</td>\n",
       "      <td>['animation', 'comedy', 'family', 'fantasy']</td>\n",
       "      <td>['US']</td>\n",
       "      <td>NaN</td>\n",
       "      <td>7.5</td>\n",
       "      <td>141937.0</td>\n",
       "      <td>71.160</td>\n",
       "      <td>7.1</td>\n",
       "    </tr>\n",
       "    <tr>\n",
       "      <th>3</th>\n",
       "      <td>tm79357</td>\n",
       "      <td>Bambi</td>\n",
       "      <td>MOVIE</td>\n",
       "      <td>1940s</td>\n",
       "      <td>G</td>\n",
       "      <td>70</td>\n",
       "      <td>['animation', 'drama', 'family']</td>\n",
       "      <td>['US']</td>\n",
       "      <td>NaN</td>\n",
       "      <td>7.3</td>\n",
       "      <td>140406.0</td>\n",
       "      <td>68.136</td>\n",
       "      <td>7.0</td>\n",
       "    </tr>\n",
       "    <tr>\n",
       "      <th>4</th>\n",
       "      <td>tm62671</td>\n",
       "      <td>Treasure Island</td>\n",
       "      <td>MOVIE</td>\n",
       "      <td>1950s</td>\n",
       "      <td>PG</td>\n",
       "      <td>96</td>\n",
       "      <td>['family', 'action']</td>\n",
       "      <td>['GB', 'US']</td>\n",
       "      <td>NaN</td>\n",
       "      <td>6.9</td>\n",
       "      <td>8229.0</td>\n",
       "      <td>10.698</td>\n",
       "      <td>6.5</td>\n",
       "    </tr>\n",
       "  </tbody>\n",
       "</table>\n",
       "</div>"
      ],
      "text/plain": [
       "        id                            title   type Decada age_certification  \\\n",
       "0  tm74391                         Fantasia  MOVIE  1940s                 G   \n",
       "1  tm67803  Snow White and the Seven Dwarfs  MOVIE  1930s                 G   \n",
       "2  tm82546                        Pinocchio  MOVIE  1940s                 G   \n",
       "3  tm79357                            Bambi  MOVIE  1940s                 G   \n",
       "4  tm62671                  Treasure Island  MOVIE  1950s                PG   \n",
       "\n",
       "   runtime                                             genres  \\\n",
       "0      120        ['animation', 'family', 'music', 'fantasy']   \n",
       "1       83  ['fantasy', 'family', 'romance', 'animation', ...   \n",
       "2       88       ['animation', 'comedy', 'family', 'fantasy']   \n",
       "3       70                   ['animation', 'drama', 'family']   \n",
       "4       96                               ['family', 'action']   \n",
       "\n",
       "  production_countries  seasons  imdb_score  imdb_votes  tmdb_popularity  \\\n",
       "0               ['US']      NaN         7.7     94681.0           57.751   \n",
       "1               ['US']      NaN         7.6    195321.0          107.137   \n",
       "2               ['US']      NaN         7.5    141937.0           71.160   \n",
       "3               ['US']      NaN         7.3    140406.0           68.136   \n",
       "4         ['GB', 'US']      NaN         6.9      8229.0           10.698   \n",
       "\n",
       "   tmdb_score  \n",
       "0         7.4  \n",
       "1         7.1  \n",
       "2         7.1  \n",
       "3         7.0  \n",
       "4         6.5  "
      ]
     },
     "execution_count": 15,
     "metadata": {},
     "output_type": "execute_result"
    }
   ],
   "source": [
    "data_disney1.head()"
   ]
  },
  {
   "cell_type": "code",
   "execution_count": 16,
   "metadata": {},
   "outputs": [
    {
     "data": {
      "text/html": [
       "<div>\n",
       "<style scoped>\n",
       "    .dataframe tbody tr th:only-of-type {\n",
       "        vertical-align: middle;\n",
       "    }\n",
       "\n",
       "    .dataframe tbody tr th {\n",
       "        vertical-align: top;\n",
       "    }\n",
       "\n",
       "    .dataframe thead th {\n",
       "        text-align: right;\n",
       "    }\n",
       "</style>\n",
       "<table border=\"1\" class=\"dataframe\">\n",
       "  <thead>\n",
       "    <tr style=\"text-align: right;\">\n",
       "      <th></th>\n",
       "      <th>Decada</th>\n",
       "      <th>total</th>\n",
       "    </tr>\n",
       "  </thead>\n",
       "  <tbody>\n",
       "    <tr>\n",
       "      <th>2010s</th>\n",
       "      <td>559</td>\n",
       "      <td>36.42</td>\n",
       "    </tr>\n",
       "    <tr>\n",
       "      <th>2020s</th>\n",
       "      <td>297</td>\n",
       "      <td>19.35</td>\n",
       "    </tr>\n",
       "    <tr>\n",
       "      <th>2000s</th>\n",
       "      <td>284</td>\n",
       "      <td>18.50</td>\n",
       "    </tr>\n",
       "    <tr>\n",
       "      <th>1990s</th>\n",
       "      <td>142</td>\n",
       "      <td>9.25</td>\n",
       "    </tr>\n",
       "    <tr>\n",
       "      <th>1980s</th>\n",
       "      <td>54</td>\n",
       "      <td>3.52</td>\n",
       "    </tr>\n",
       "    <tr>\n",
       "      <th>1950s</th>\n",
       "      <td>53</td>\n",
       "      <td>3.45</td>\n",
       "    </tr>\n",
       "    <tr>\n",
       "      <th>1940s</th>\n",
       "      <td>42</td>\n",
       "      <td>2.74</td>\n",
       "    </tr>\n",
       "    <tr>\n",
       "      <th>1970s</th>\n",
       "      <td>39</td>\n",
       "      <td>2.54</td>\n",
       "    </tr>\n",
       "    <tr>\n",
       "      <th>1930s</th>\n",
       "      <td>35</td>\n",
       "      <td>2.28</td>\n",
       "    </tr>\n",
       "    <tr>\n",
       "      <th>1960s</th>\n",
       "      <td>29</td>\n",
       "      <td>1.89</td>\n",
       "    </tr>\n",
       "    <tr>\n",
       "      <th>1920s</th>\n",
       "      <td>1</td>\n",
       "      <td>0.07</td>\n",
       "    </tr>\n",
       "  </tbody>\n",
       "</table>\n",
       "</div>"
      ],
      "text/plain": [
       "       Decada  total\n",
       "2010s     559  36.42\n",
       "2020s     297  19.35\n",
       "2000s     284  18.50\n",
       "1990s     142   9.25\n",
       "1980s      54   3.52\n",
       "1950s      53   3.45\n",
       "1940s      42   2.74\n",
       "1970s      39   2.54\n",
       "1930s      35   2.28\n",
       "1960s      29   1.89\n",
       "1920s       1   0.07"
      ]
     },
     "execution_count": 16,
     "metadata": {},
     "output_type": "execute_result"
    }
   ],
   "source": [
    "df_decadas_disney = pd.DataFrame(data_disney1['Decada'].value_counts())\n",
    "total = df_decadas_disney['Decada'].sum()\n",
    "df_decadas_disney['total'] = [round((i/total)*100, 2) for i in df_decadas_disney['Decada']]\n",
    "df_decadas_disney"
   ]
  },
  {
   "cell_type": "code",
   "execution_count": 17,
   "metadata": {},
   "outputs": [
    {
     "name": "stdout",
     "output_type": "stream",
     "text": [
      "Valores NaN: 325\n",
      "Valores: 1210\n",
      "Valores Columna Edad: ['G' 'PG' nan 'TV-G' 'TV-PG' 'TV-14' 'PG-13' 'TV-Y7' 'TV-Y' 'TV-MA']\n"
     ]
    }
   ],
   "source": [
    "# age_certificacion --> 21% valores nulos\n",
    "print(\"Valores NaN:\", len(data_disney1[data_disney1['age_certification'].isna() == True]))\n",
    "print(\"Valores:\", len(data_disney1[data_disney1['age_certification'].isna() != True]))\n",
    "#vemos variables para redefinirlas\n",
    "print(\"Valores Columna Edad:\", data_disney1['age_certification'].unique())"
   ]
  },
  {
   "cell_type": "code",
   "execution_count": 18,
   "metadata": {},
   "outputs": [
    {
     "name": "stdout",
     "output_type": "stream",
     "text": [
      "Valores Columna Edad: [   0    7 9999   13   17]\n",
      "Valores NaN: 0\n"
     ]
    }
   ],
   "source": [
    "# Redefinimos los valores\n",
    "\n",
    "\"\"\"\n",
    "- G:        > 0 - Todas las edades\n",
    "- TV-G:     > 0 - \n",
    "- TV-Y:     < 6 años \n",
    "- TV-Y7:    < 7 años \n",
    "- TV-PG:    < Puede ser inadecuado para niños sin la guía de un padre  (lo definimos como para mayores de 13) \n",
    "- PG:       < Puede ser inadecuado para niños sin la guía de un padre  (lo definimos como para mayores de 13) \n",
    "- PG-13:    > 13\n",
    "- TV-14:    > 14 \n",
    "- R:        > 17 - Restringido\n",
    "- NC-17:    > 17 - No se admiten menores de 17\n",
    "- TV-MA     > 17 \n",
    "\n",
    "- Límites:\n",
    "    0 (años) = todos los públicos\n",
    "    7 (años) = + 7 años\n",
    "    13 (años) = + 13 años\n",
    "    17 (años) = + 17 años\n",
    "\n",
    "Tenemos 2609 valores numeros --> le asignamos el numero 9999 (no podemos eliminarlos)\n",
    "\"\"\"\n",
    "\n",
    "data_disney1['age_certification'] = np.where(data_disney1['age_certification'] == \"G\", 0, data_disney1['age_certification'])\n",
    "data_disney1['age_certification'] = np.where(data_disney1['age_certification'] == \"TV-G\", 0, data_disney1['age_certification'])\n",
    "data_disney1['age_certification'] = np.where(data_disney1['age_certification'] == \"TV-Y\", 7, data_disney1['age_certification'])\n",
    "data_disney1['age_certification'] = np.where(data_disney1['age_certification'] == \"TV-Y7\", 7, data_disney1['age_certification'])\n",
    "data_disney1['age_certification'] = np.where(data_disney1['age_certification'] == \"TV-PG\", 7, data_disney1['age_certification'])\n",
    "data_disney1['age_certification'] = np.where(data_disney1['age_certification'] == \"PG\", 7, data_disney1['age_certification'])\n",
    "data_disney1['age_certification'] = np.where(data_disney1['age_certification'] == \"PG-13\", 13, data_disney1['age_certification'])\n",
    "data_disney1['age_certification'] = np.where(data_disney1['age_certification'] == \"TV-14\", 13, data_disney1['age_certification'])\n",
    "data_disney1['age_certification'] = np.where(data_disney1['age_certification'] == \"NC-17\", 17, data_disney1['age_certification'])\n",
    "data_disney1['age_certification'] = np.where(data_disney1['age_certification'] == \"TV-MA\", 17, data_disney1['age_certification'])\n",
    "\n",
    "# Asignamos el numero 9999 a los valores nulos:\n",
    "data_disney1['age_certification'] = data_disney1['age_certification'].fillna(9999)\n",
    "\n",
    "# Comprobamos cambios\n",
    "data_disney1['age_certification'] = data_disney1['age_certification'].astype(int)\n",
    "print(\"Valores Columna Edad:\", data_disney1['age_certification'].unique())\n",
    "print(\"Valores NaN:\", len(data_disney1[data_disney1['age_certification'].isna() == True]))"
   ]
  },
  {
   "cell_type": "code",
   "execution_count": 19,
   "metadata": {},
   "outputs": [
    {
     "data": {
      "text/html": [
       "<div>\n",
       "<style scoped>\n",
       "    .dataframe tbody tr th:only-of-type {\n",
       "        vertical-align: middle;\n",
       "    }\n",
       "\n",
       "    .dataframe tbody tr th {\n",
       "        vertical-align: top;\n",
       "    }\n",
       "\n",
       "    .dataframe thead th {\n",
       "        text-align: right;\n",
       "    }\n",
       "</style>\n",
       "<table border=\"1\" class=\"dataframe\">\n",
       "  <thead>\n",
       "    <tr style=\"text-align: right;\">\n",
       "      <th></th>\n",
       "      <th>age_certification</th>\n",
       "      <th>total</th>\n",
       "    </tr>\n",
       "  </thead>\n",
       "  <tbody>\n",
       "    <tr>\n",
       "      <th>7</th>\n",
       "      <td>555</td>\n",
       "      <td>36.16</td>\n",
       "    </tr>\n",
       "    <tr>\n",
       "      <th>0</th>\n",
       "      <td>501</td>\n",
       "      <td>32.64</td>\n",
       "    </tr>\n",
       "    <tr>\n",
       "      <th>9999</th>\n",
       "      <td>325</td>\n",
       "      <td>21.17</td>\n",
       "    </tr>\n",
       "    <tr>\n",
       "      <th>13</th>\n",
       "      <td>148</td>\n",
       "      <td>9.64</td>\n",
       "    </tr>\n",
       "    <tr>\n",
       "      <th>17</th>\n",
       "      <td>6</td>\n",
       "      <td>0.39</td>\n",
       "    </tr>\n",
       "  </tbody>\n",
       "</table>\n",
       "</div>"
      ],
      "text/plain": [
       "      age_certification  total\n",
       "7                   555  36.16\n",
       "0                   501  32.64\n",
       "9999                325  21.17\n",
       "13                  148   9.64\n",
       "17                    6   0.39"
      ]
     },
     "execution_count": 19,
     "metadata": {},
     "output_type": "execute_result"
    }
   ],
   "source": [
    "df_edades_disney = pd.DataFrame(data_disney1['age_certification'].value_counts())\n",
    "total = data_disney1['age_certification'].value_counts().sum()\n",
    "df_edades_disney['total'] = [round((i/total)*100, 2) for i in df_edades_disney['age_certification']]\n",
    "df_edades_disney"
   ]
  },
  {
   "cell_type": "code",
   "execution_count": 20,
   "metadata": {},
   "outputs": [
    {
     "name": "stdout",
     "output_type": "stream",
     "text": [
      "N NaN en 'genres': 28\n",
      "% NaN en 'genres': 1.82\n"
     ]
    }
   ],
   "source": [
    "#Comprobamos numero de listas vacías en columna genres\n",
    "\n",
    "nan_genres = 0\n",
    "for i in data_disney1['genres']:\n",
    "    if \"[]\" in i:\n",
    "        nan_genres +=1\n",
    "print(\"N NaN en 'genres':\", nan_genres)\n",
    "print(\"% NaN en 'genres':\", round(nan_genres / data_disney1.shape[0] *100, 2))"
   ]
  },
  {
   "cell_type": "code",
   "execution_count": 21,
   "metadata": {},
   "outputs": [],
   "source": [
    "# Sacamos todos los generos que incluye la columna para agruparlos\n",
    "\n",
    "otra_lista = []\n",
    "for lista in data_disney1['genres'].apply(eval):\n",
    "    for x in lista:\n",
    "        otra_lista.append(x)"
   ]
  },
  {
   "cell_type": "code",
   "execution_count": 22,
   "metadata": {},
   "outputs": [
    {
     "name": "stdout",
     "output_type": "stream",
     "text": [
      "generos: ['animation' 'family' 'music' 'fantasy' 'romance' 'thriller' 'drama'\n",
      " 'comedy' 'action' 'horror' 'documentation' 'scifi' 'western' 'sport'\n",
      " 'european' 'crime' 'history' 'reality' 'war']\n",
      "n generos: 19\n"
     ]
    }
   ],
   "source": [
    "# Pasamos a serie para ver valores únicos\n",
    "generos = pd.Series(otra_lista)\n",
    "print(\"generos:\", generos.unique())\n",
    "print(\"n generos:\", len(generos.unique()))"
   ]
  },
  {
   "cell_type": "code",
   "execution_count": 23,
   "metadata": {},
   "outputs": [
    {
     "name": "stdout",
     "output_type": "stream",
     "text": [
      "object\n",
      "['animation', 'family', 'music', 'fantasy']\n",
      "[\n"
     ]
    }
   ],
   "source": [
    "print(data_disney1['genres'].dtype) # --> object\n",
    "print(data_disney1['genres'].iloc[0])\n",
    "type(data_disney1['genres'].iloc[0]) #-->str\n",
    "print(data_disney1['genres'].iloc[0][0]) #--> interpreta el primer elemento de la lista como el primer caracter\n",
    "\n",
    "#Aunque tiene un formato visualmente de lista --> es un string"
   ]
  },
  {
   "cell_type": "code",
   "execution_count": 24,
   "metadata": {},
   "outputs": [
    {
     "name": "stderr",
     "output_type": "stream",
     "text": [
      "/Library/Frameworks/Python.framework/Versions/3.7/lib/python3.7/site-packages/ipykernel_launcher.py:3: FutureWarning:\n",
      "\n",
      "The default value of regex will change from True to False in a future version. In addition, single character regular expressions will *not* be treated as literal strings when regex=True.\n",
      "\n"
     ]
    },
    {
     "data": {
      "text/plain": [
       "'animation'"
      ]
     },
     "execution_count": 24,
     "metadata": {},
     "output_type": "execute_result"
    }
   ],
   "source": [
    "# Eliminamos caracteres y separamos por la coma para poder acceder a cada genero de la lista\n",
    "\n",
    "data_disney1['genres'] = data_disney1['genres'].str.replace(\"[\", \"\").str.replace(\"]\",\"\").str.replace(\"'\", \"\").str.replace('\"',\"\")\n",
    "data_disney1['genres'] = data_disney1['genres'].str.rsplit(pat=\", \")\n",
    "data_disney1['genres'][0][0]"
   ]
  },
  {
   "cell_type": "code",
   "execution_count": 25,
   "metadata": {},
   "outputs": [],
   "source": [
    "# Bajo la suposicion de que el genero principal de cada titulo es el primero que aparece, definimos la columna['genres'] por el primer genero que aparezca en su lista\n",
    "\n",
    "data_disney1['genres'] = [fila[0] for fila in data_disney1['genres']]"
   ]
  },
  {
   "cell_type": "code",
   "execution_count": 26,
   "metadata": {},
   "outputs": [
    {
     "name": "stdout",
     "output_type": "stream",
     "text": [
      "N generos: 1535\n"
     ]
    },
    {
     "data": {
      "text/html": [
       "<div>\n",
       "<style scoped>\n",
       "    .dataframe tbody tr th:only-of-type {\n",
       "        vertical-align: middle;\n",
       "    }\n",
       "\n",
       "    .dataframe tbody tr th {\n",
       "        vertical-align: top;\n",
       "    }\n",
       "\n",
       "    .dataframe thead th {\n",
       "        text-align: right;\n",
       "    }\n",
       "</style>\n",
       "<table border=\"1\" class=\"dataframe\">\n",
       "  <thead>\n",
       "    <tr style=\"text-align: right;\">\n",
       "      <th></th>\n",
       "      <th>genres</th>\n",
       "      <th>total</th>\n",
       "    </tr>\n",
       "  </thead>\n",
       "  <tbody>\n",
       "    <tr>\n",
       "      <th>documentation</th>\n",
       "      <td>301</td>\n",
       "      <td>19.61</td>\n",
       "    </tr>\n",
       "    <tr>\n",
       "      <th>comedy</th>\n",
       "      <td>299</td>\n",
       "      <td>19.48</td>\n",
       "    </tr>\n",
       "    <tr>\n",
       "      <th>animation</th>\n",
       "      <td>236</td>\n",
       "      <td>15.37</td>\n",
       "    </tr>\n",
       "    <tr>\n",
       "      <th>fantasy</th>\n",
       "      <td>154</td>\n",
       "      <td>10.03</td>\n",
       "    </tr>\n",
       "    <tr>\n",
       "      <th>scifi</th>\n",
       "      <td>129</td>\n",
       "      <td>8.40</td>\n",
       "    </tr>\n",
       "    <tr>\n",
       "      <th>drama</th>\n",
       "      <td>105</td>\n",
       "      <td>6.84</td>\n",
       "    </tr>\n",
       "    <tr>\n",
       "      <th>action</th>\n",
       "      <td>92</td>\n",
       "      <td>5.99</td>\n",
       "    </tr>\n",
       "    <tr>\n",
       "      <th>family</th>\n",
       "      <td>63</td>\n",
       "      <td>4.10</td>\n",
       "    </tr>\n",
       "    <tr>\n",
       "      <th>romance</th>\n",
       "      <td>37</td>\n",
       "      <td>2.41</td>\n",
       "    </tr>\n",
       "    <tr>\n",
       "      <th>reality</th>\n",
       "      <td>29</td>\n",
       "      <td>1.89</td>\n",
       "    </tr>\n",
       "    <tr>\n",
       "      <th></th>\n",
       "      <td>28</td>\n",
       "      <td>1.82</td>\n",
       "    </tr>\n",
       "    <tr>\n",
       "      <th>music</th>\n",
       "      <td>17</td>\n",
       "      <td>1.11</td>\n",
       "    </tr>\n",
       "    <tr>\n",
       "      <th>thriller</th>\n",
       "      <td>13</td>\n",
       "      <td>0.85</td>\n",
       "    </tr>\n",
       "    <tr>\n",
       "      <th>western</th>\n",
       "      <td>12</td>\n",
       "      <td>0.78</td>\n",
       "    </tr>\n",
       "    <tr>\n",
       "      <th>history</th>\n",
       "      <td>10</td>\n",
       "      <td>0.65</td>\n",
       "    </tr>\n",
       "    <tr>\n",
       "      <th>horror</th>\n",
       "      <td>5</td>\n",
       "      <td>0.33</td>\n",
       "    </tr>\n",
       "    <tr>\n",
       "      <th>crime</th>\n",
       "      <td>4</td>\n",
       "      <td>0.26</td>\n",
       "    </tr>\n",
       "    <tr>\n",
       "      <th>war</th>\n",
       "      <td>1</td>\n",
       "      <td>0.07</td>\n",
       "    </tr>\n",
       "  </tbody>\n",
       "</table>\n",
       "</div>"
      ],
      "text/plain": [
       "               genres  total\n",
       "documentation     301  19.61\n",
       "comedy            299  19.48\n",
       "animation         236  15.37\n",
       "fantasy           154  10.03\n",
       "scifi             129   8.40\n",
       "drama             105   6.84\n",
       "action             92   5.99\n",
       "family             63   4.10\n",
       "romance            37   2.41\n",
       "reality            29   1.89\n",
       "                   28   1.82\n",
       "music              17   1.11\n",
       "thriller           13   0.85\n",
       "western            12   0.78\n",
       "history            10   0.65\n",
       "horror              5   0.33\n",
       "crime               4   0.26\n",
       "war                 1   0.07"
      ]
     },
     "execution_count": 26,
     "metadata": {},
     "output_type": "execute_result"
    }
   ],
   "source": [
    "df_generos_disney = pd.DataFrame(data_disney1['genres'].value_counts())\n",
    "total = df_generos_disney['genres'].sum()\n",
    "print(\"N generos:\", total)\n",
    "df_generos_disney['total'] = [round((i/total)*100, 2) for i in df_generos_disney['genres']]\n",
    "df_generos_disney"
   ]
  },
  {
   "cell_type": "code",
   "execution_count": 27,
   "metadata": {},
   "outputs": [
    {
     "data": {
      "text/plain": [
       "documentation    301\n",
       "comedy           299\n",
       "animation        236\n",
       "fantasy          154\n",
       "scifi            129\n",
       "drama            105\n",
       "action            92\n",
       "family            63\n",
       "romance           37\n",
       "reality           29\n",
       "                  28\n",
       "music             17\n",
       "thriller          13\n",
       "western           12\n",
       "history           10\n",
       "horror             5\n",
       "crime              4\n",
       "war                1\n",
       "Name: genres, dtype: object"
      ]
     },
     "execution_count": 27,
     "metadata": {},
     "output_type": "execute_result"
    }
   ],
   "source": [
    "df_generos_disney['genres'].astype(str)"
   ]
  },
  {
   "cell_type": "code",
   "execution_count": 28,
   "metadata": {},
   "outputs": [
    {
     "data": {
      "text/plain": [
       "0"
      ]
     },
     "execution_count": 28,
     "metadata": {},
     "output_type": "execute_result"
    }
   ],
   "source": [
    "len(df_generos_disney['genres'][df_generos_disney['genres'] == \"\"])"
   ]
  },
  {
   "cell_type": "code",
   "execution_count": 29,
   "metadata": {},
   "outputs": [
    {
     "name": "stdout",
     "output_type": "stream",
     "text": [
      "N NaN en 'production_countries': 47\n",
      "% NaN en 'production_countries': 3.06\n"
     ]
    }
   ],
   "source": [
    "#Comprobamos numero de listas vacías en columna production countries\n",
    "\n",
    "nan_countries = 0\n",
    "for i in data_disney1['production_countries']:\n",
    "    if \"[]\" in i:\n",
    "        nan_countries +=1\n",
    "print(\"N NaN en 'production_countries':\", nan_countries)\n",
    "print(\"% NaN en 'production_countries':\", round(nan_countries / data_disney1.shape[0] *100, 2))"
   ]
  },
  {
   "cell_type": "code",
   "execution_count": 30,
   "metadata": {},
   "outputs": [],
   "source": [
    "# Sacamos todos los países que incluye la columna para agruparlos\n",
    "\n",
    "otra_lista_paises = []\n",
    "for lista in data_disney1['production_countries'].apply(eval):\n",
    "    for x in lista:\n",
    "        otra_lista_paises.append(x)"
   ]
  },
  {
   "cell_type": "code",
   "execution_count": 31,
   "metadata": {},
   "outputs": [
    {
     "name": "stdout",
     "output_type": "stream",
     "text": [
      "paises: ['US' 'GB' 'CA' 'FR' 'SE' 'NO' 'JP' 'AT' 'AU' 'SK' 'SUHH' 'NZ' 'DE' 'PL'\n",
      " 'SI' 'CZ' 'SG' 'HU' 'IE' 'ES' 'CH' 'MC' 'IN' 'XX' 'HK' 'CN' 'BR' 'AR'\n",
      " 'CI' 'UG' 'NL' 'PT' 'MX' 'KR' 'BE' 'IT' 'CL' 'GR' 'ZA' 'DK' 'PH' 'KI'\n",
      " 'BW']\n",
      "n paises: 43\n"
     ]
    }
   ],
   "source": [
    "# Pasamos a serie para ver valores únicos\n",
    "paises = pd.Series(otra_lista_paises)\n",
    "print(\"paises:\", paises.unique())\n",
    "print(\"n paises:\", len(paises.unique()))"
   ]
  },
  {
   "cell_type": "code",
   "execution_count": 32,
   "metadata": {},
   "outputs": [
    {
     "data": {
      "text/plain": [
       "\"['US']\""
      ]
     },
     "execution_count": 32,
     "metadata": {},
     "output_type": "execute_result"
    }
   ],
   "source": [
    "data_disney1['production_countries'][0]"
   ]
  },
  {
   "cell_type": "code",
   "execution_count": 33,
   "metadata": {},
   "outputs": [
    {
     "name": "stderr",
     "output_type": "stream",
     "text": [
      "/Library/Frameworks/Python.framework/Versions/3.7/lib/python3.7/site-packages/ipykernel_launcher.py:2: FutureWarning:\n",
      "\n",
      "The default value of regex will change from True to False in a future version. In addition, single character regular expressions will *not* be treated as literal strings when regex=True.\n",
      "\n"
     ]
    },
    {
     "data": {
      "text/plain": [
       "'US'"
      ]
     },
     "execution_count": 33,
     "metadata": {},
     "output_type": "execute_result"
    }
   ],
   "source": [
    "#Eliminamos corchetes y comillas\n",
    "data_disney1['production_countries'] = data_disney1['production_countries'].str.replace(\"[\", \"\").str.replace(\"]\",\"\").str.replace(\"'\",\"\").str.replace('\"',\"\")\n",
    "data_disney1['production_countries'][0]"
   ]
  },
  {
   "cell_type": "code",
   "execution_count": 34,
   "metadata": {},
   "outputs": [
    {
     "name": "stdout",
     "output_type": "stream",
     "text": [
      "N paises produccion: 1535\n"
     ]
    },
    {
     "data": {
      "text/html": [
       "<div>\n",
       "<style scoped>\n",
       "    .dataframe tbody tr th:only-of-type {\n",
       "        vertical-align: middle;\n",
       "    }\n",
       "\n",
       "    .dataframe tbody tr th {\n",
       "        vertical-align: top;\n",
       "    }\n",
       "\n",
       "    .dataframe thead th {\n",
       "        text-align: right;\n",
       "    }\n",
       "</style>\n",
       "<table border=\"1\" class=\"dataframe\">\n",
       "  <thead>\n",
       "    <tr style=\"text-align: right;\">\n",
       "      <th></th>\n",
       "      <th>production_countries</th>\n",
       "      <th>total</th>\n",
       "    </tr>\n",
       "  </thead>\n",
       "  <tbody>\n",
       "    <tr>\n",
       "      <th>US</th>\n",
       "      <td>1278</td>\n",
       "      <td>83.26</td>\n",
       "    </tr>\n",
       "    <tr>\n",
       "      <th></th>\n",
       "      <td>47</td>\n",
       "      <td>3.06</td>\n",
       "    </tr>\n",
       "    <tr>\n",
       "      <th>GB</th>\n",
       "      <td>27</td>\n",
       "      <td>1.76</td>\n",
       "    </tr>\n",
       "    <tr>\n",
       "      <th>CA, US</th>\n",
       "      <td>24</td>\n",
       "      <td>1.56</td>\n",
       "    </tr>\n",
       "    <tr>\n",
       "      <th>GB, US</th>\n",
       "      <td>19</td>\n",
       "      <td>1.24</td>\n",
       "    </tr>\n",
       "    <tr>\n",
       "      <th>...</th>\n",
       "      <td>...</td>\n",
       "      <td>...</td>\n",
       "    </tr>\n",
       "    <tr>\n",
       "      <th>FR, PT</th>\n",
       "      <td>1</td>\n",
       "      <td>0.07</td>\n",
       "    </tr>\n",
       "    <tr>\n",
       "      <th>US, AU, GB</th>\n",
       "      <td>1</td>\n",
       "      <td>0.07</td>\n",
       "    </tr>\n",
       "    <tr>\n",
       "      <th>US, SK</th>\n",
       "      <td>1</td>\n",
       "      <td>0.07</td>\n",
       "    </tr>\n",
       "    <tr>\n",
       "      <th>BE, GB, US</th>\n",
       "      <td>1</td>\n",
       "      <td>0.07</td>\n",
       "    </tr>\n",
       "    <tr>\n",
       "      <th>ZA</th>\n",
       "      <td>1</td>\n",
       "      <td>0.07</td>\n",
       "    </tr>\n",
       "  </tbody>\n",
       "</table>\n",
       "<p>70 rows × 2 columns</p>\n",
       "</div>"
      ],
      "text/plain": [
       "            production_countries  total\n",
       "US                          1278  83.26\n",
       "                              47   3.06\n",
       "GB                            27   1.76\n",
       "CA, US                        24   1.56\n",
       "GB, US                        19   1.24\n",
       "...                          ...    ...\n",
       "FR, PT                         1   0.07\n",
       "US, AU, GB                     1   0.07\n",
       "US, SK                         1   0.07\n",
       "BE, GB, US                     1   0.07\n",
       "ZA                             1   0.07\n",
       "\n",
       "[70 rows x 2 columns]"
      ]
     },
     "execution_count": 34,
     "metadata": {},
     "output_type": "execute_result"
    }
   ],
   "source": [
    "df_paises_disney = pd.DataFrame(data_disney1['production_countries'].value_counts())\n",
    "total_paises = df_paises_disney['production_countries'].sum()\n",
    "print(\"N paises produccion:\", total_paises)\n",
    "df_paises_disney['total'] = [round((i/total_paises)*100, 2) for i in df_paises_disney['production_countries']]\n",
    "df_paises_disney"
   ]
  },
  {
   "cell_type": "code",
   "execution_count": 35,
   "metadata": {},
   "outputs": [
    {
     "name": "stdout",
     "output_type": "stream",
     "text": [
      "Peliculas con varios paises: 133\n",
      "Porcentaje: 8.66\n"
     ]
    }
   ],
   "source": [
    "n_varios_paises = 0\n",
    "\n",
    "for fila in data_disney1['production_countries']:\n",
    "    if len(fila) > 2:\n",
    "        n_varios_paises += 1\n",
    "        \n",
    "print(\"Peliculas con varios paises:\", n_varios_paises)\n",
    "perc_varios_paises = round(n_varios_paises/total_paises *100, 2)\n",
    "print(\"Porcentaje:\", perc_varios_paises)"
   ]
  },
  {
   "cell_type": "code",
   "execution_count": 36,
   "metadata": {},
   "outputs": [],
   "source": [
    "# Como, en algunos casos, hay más de un pais por titulo, \n",
    "# hacemos como con la columna genero, presuponemos que el principal es el primero de la fila\n",
    "data_disney1['production_countries'] = [i[:2] for i in data_disney1['production_countries'] if int(len(data_disney1['production_countries']) > 2)]"
   ]
  },
  {
   "cell_type": "code",
   "execution_count": 37,
   "metadata": {},
   "outputs": [
    {
     "name": "stdout",
     "output_type": "stream",
     "text": [
      "N paises produccion: 1535\n"
     ]
    },
    {
     "data": {
      "text/html": [
       "<div>\n",
       "<style scoped>\n",
       "    .dataframe tbody tr th:only-of-type {\n",
       "        vertical-align: middle;\n",
       "    }\n",
       "\n",
       "    .dataframe tbody tr th {\n",
       "        vertical-align: top;\n",
       "    }\n",
       "\n",
       "    .dataframe thead th {\n",
       "        text-align: right;\n",
       "    }\n",
       "</style>\n",
       "<table border=\"1\" class=\"dataframe\">\n",
       "  <thead>\n",
       "    <tr style=\"text-align: right;\">\n",
       "      <th></th>\n",
       "      <th>production_countries</th>\n",
       "      <th>total</th>\n",
       "    </tr>\n",
       "  </thead>\n",
       "  <tbody>\n",
       "    <tr>\n",
       "      <th>US</th>\n",
       "      <td>1321</td>\n",
       "      <td>86.06</td>\n",
       "    </tr>\n",
       "    <tr>\n",
       "      <th>GB</th>\n",
       "      <td>49</td>\n",
       "      <td>3.19</td>\n",
       "    </tr>\n",
       "    <tr>\n",
       "      <th></th>\n",
       "      <td>47</td>\n",
       "      <td>3.06</td>\n",
       "    </tr>\n",
       "    <tr>\n",
       "      <th>CA</th>\n",
       "      <td>34</td>\n",
       "      <td>2.21</td>\n",
       "    </tr>\n",
       "    <tr>\n",
       "      <th>FR</th>\n",
       "      <td>18</td>\n",
       "      <td>1.17</td>\n",
       "    </tr>\n",
       "    <tr>\n",
       "      <th>AU</th>\n",
       "      <td>12</td>\n",
       "      <td>0.78</td>\n",
       "    </tr>\n",
       "    <tr>\n",
       "      <th>DE</th>\n",
       "      <td>8</td>\n",
       "      <td>0.52</td>\n",
       "    </tr>\n",
       "    <tr>\n",
       "      <th>JP</th>\n",
       "      <td>5</td>\n",
       "      <td>0.33</td>\n",
       "    </tr>\n",
       "    <tr>\n",
       "      <th>NZ</th>\n",
       "      <td>5</td>\n",
       "      <td>0.33</td>\n",
       "    </tr>\n",
       "    <tr>\n",
       "      <th>IN</th>\n",
       "      <td>4</td>\n",
       "      <td>0.26</td>\n",
       "    </tr>\n",
       "    <tr>\n",
       "      <th>AR</th>\n",
       "      <td>4</td>\n",
       "      <td>0.26</td>\n",
       "    </tr>\n",
       "    <tr>\n",
       "      <th>CN</th>\n",
       "      <td>3</td>\n",
       "      <td>0.20</td>\n",
       "    </tr>\n",
       "    <tr>\n",
       "      <th>MX</th>\n",
       "      <td>3</td>\n",
       "      <td>0.20</td>\n",
       "    </tr>\n",
       "    <tr>\n",
       "      <th>ES</th>\n",
       "      <td>2</td>\n",
       "      <td>0.13</td>\n",
       "    </tr>\n",
       "    <tr>\n",
       "      <th>PH</th>\n",
       "      <td>2</td>\n",
       "      <td>0.13</td>\n",
       "    </tr>\n",
       "    <tr>\n",
       "      <th>ZA</th>\n",
       "      <td>2</td>\n",
       "      <td>0.13</td>\n",
       "    </tr>\n",
       "    <tr>\n",
       "      <th>DK</th>\n",
       "      <td>1</td>\n",
       "      <td>0.07</td>\n",
       "    </tr>\n",
       "    <tr>\n",
       "      <th>IT</th>\n",
       "      <td>1</td>\n",
       "      <td>0.07</td>\n",
       "    </tr>\n",
       "    <tr>\n",
       "      <th>BW</th>\n",
       "      <td>1</td>\n",
       "      <td>0.07</td>\n",
       "    </tr>\n",
       "    <tr>\n",
       "      <th>GR</th>\n",
       "      <td>1</td>\n",
       "      <td>0.07</td>\n",
       "    </tr>\n",
       "    <tr>\n",
       "      <th>CL</th>\n",
       "      <td>1</td>\n",
       "      <td>0.07</td>\n",
       "    </tr>\n",
       "    <tr>\n",
       "      <th>BR</th>\n",
       "      <td>1</td>\n",
       "      <td>0.07</td>\n",
       "    </tr>\n",
       "    <tr>\n",
       "      <th>HK</th>\n",
       "      <td>1</td>\n",
       "      <td>0.07</td>\n",
       "    </tr>\n",
       "    <tr>\n",
       "      <th>BE</th>\n",
       "      <td>1</td>\n",
       "      <td>0.07</td>\n",
       "    </tr>\n",
       "    <tr>\n",
       "      <th>NL</th>\n",
       "      <td>1</td>\n",
       "      <td>0.07</td>\n",
       "    </tr>\n",
       "    <tr>\n",
       "      <th>CI</th>\n",
       "      <td>1</td>\n",
       "      <td>0.07</td>\n",
       "    </tr>\n",
       "    <tr>\n",
       "      <th>XX</th>\n",
       "      <td>1</td>\n",
       "      <td>0.07</td>\n",
       "    </tr>\n",
       "    <tr>\n",
       "      <th>SG</th>\n",
       "      <td>1</td>\n",
       "      <td>0.07</td>\n",
       "    </tr>\n",
       "    <tr>\n",
       "      <th>PL</th>\n",
       "      <td>1</td>\n",
       "      <td>0.07</td>\n",
       "    </tr>\n",
       "    <tr>\n",
       "      <th>SU</th>\n",
       "      <td>1</td>\n",
       "      <td>0.07</td>\n",
       "    </tr>\n",
       "    <tr>\n",
       "      <th>SE</th>\n",
       "      <td>1</td>\n",
       "      <td>0.07</td>\n",
       "    </tr>\n",
       "    <tr>\n",
       "      <th>KR</th>\n",
       "      <td>1</td>\n",
       "      <td>0.07</td>\n",
       "    </tr>\n",
       "  </tbody>\n",
       "</table>\n",
       "</div>"
      ],
      "text/plain": [
       "    production_countries  total\n",
       "US                  1321  86.06\n",
       "GB                    49   3.19\n",
       "                      47   3.06\n",
       "CA                    34   2.21\n",
       "FR                    18   1.17\n",
       "AU                    12   0.78\n",
       "DE                     8   0.52\n",
       "JP                     5   0.33\n",
       "NZ                     5   0.33\n",
       "IN                     4   0.26\n",
       "AR                     4   0.26\n",
       "CN                     3   0.20\n",
       "MX                     3   0.20\n",
       "ES                     2   0.13\n",
       "PH                     2   0.13\n",
       "ZA                     2   0.13\n",
       "DK                     1   0.07\n",
       "IT                     1   0.07\n",
       "BW                     1   0.07\n",
       "GR                     1   0.07\n",
       "CL                     1   0.07\n",
       "BR                     1   0.07\n",
       "HK                     1   0.07\n",
       "BE                     1   0.07\n",
       "NL                     1   0.07\n",
       "CI                     1   0.07\n",
       "XX                     1   0.07\n",
       "SG                     1   0.07\n",
       "PL                     1   0.07\n",
       "SU                     1   0.07\n",
       "SE                     1   0.07\n",
       "KR                     1   0.07"
      ]
     },
     "execution_count": 37,
     "metadata": {},
     "output_type": "execute_result"
    }
   ],
   "source": [
    "df_paises_un_disney = pd.DataFrame(data_disney1['production_countries'].value_counts())\n",
    "total_un_paises = df_paises_un_disney['production_countries'].sum()\n",
    "print(\"N paises produccion:\", total_un_paises)\n",
    "df_paises_un_disney['total'] = [round((i/total_paises)*100, 2) for i in df_paises_un_disney['production_countries']]\n",
    "df_paises_un_disney"
   ]
  },
  {
   "cell_type": "code",
   "execution_count": 38,
   "metadata": {},
   "outputs": [
    {
     "name": "stdout",
     "output_type": "stream",
     "text": [
      "['US' 'GB' 'CA' '' 'FR' 'SE' 'JP' 'AU' 'SU' 'NZ' 'DE' 'PL' 'SG' 'ES' 'IN'\n",
      " 'XX' 'HK' 'CN' 'AR' 'CI' 'NL' 'MX' 'BE' 'IT' 'CL' 'GR' 'DK' 'PH' 'BR'\n",
      " 'BW' 'ZA' 'KR']\n",
      "32\n"
     ]
    }
   ],
   "source": [
    "# Sacamos el los paises y el n paises final\n",
    "print(data_disney1['production_countries'].unique())\n",
    "print(data_disney1['production_countries'].nunique())"
   ]
  },
  {
   "cell_type": "code",
   "execution_count": 39,
   "metadata": {},
   "outputs": [
    {
     "name": "stdout",
     "output_type": "stream",
     "text": [
      "Valores NaN: 0\n"
     ]
    }
   ],
   "source": [
    "# Los nulos de la columna season significa que son 1 película o que tienen solo 1 temporada, por lo que los cambiamos a 1\n",
    "# A tener en cuenta en el análisis --> no sabemos si la columna representa las temporadas existestes del título, \n",
    "# o sólo las que están disponibles en la plataforma\n",
    "data_disney1['seasons'] = data_disney1['seasons'].fillna(1)\n",
    "data_disney1['seasons'] = data_disney1['seasons'].astype(int)\n",
    "print(\"Valores NaN:\", len(data_disney1[data_disney1['seasons'].isna() == True]))"
   ]
  },
  {
   "cell_type": "code",
   "execution_count": 40,
   "metadata": {},
   "outputs": [
    {
     "name": "stdout",
     "output_type": "stream",
     "text": [
      "427\n"
     ]
    }
   ],
   "source": [
    "# comprobamos cuantos votos nulos, tambien tienen puntuaciones nulas \n",
    "print(len(data_disney1[data_disney1['imdb_score'].isna() == True]['imdb_votes']))"
   ]
  },
  {
   "cell_type": "code",
   "execution_count": 41,
   "metadata": {},
   "outputs": [
    {
     "data": {
      "text/plain": [
       "0"
      ]
     },
     "execution_count": 41,
     "metadata": {},
     "output_type": "execute_result"
    }
   ],
   "source": [
    "\n",
    "# columna imdb_score --> 427 nulos: \n",
    "# Al definir la opinion de los usuarios sobre cada título, no tiene sentido rellenar con un estadístico -con los datos que tenemos ahora mismo\n",
    "# Intentamos rellenar con la columna de tmdb\n",
    "\n",
    "data_disney1['imdb_score'] = data_disney1['imdb_score'].fillna(data_disney1['tmdb_popularity'])\n",
    "len(data_disney1[data_disney1['imdb_score'].isna() == True])\n",
    "\n",
    "\n",
    "data_disney1['imdb_score'] = data_disney1['imdb_score'].fillna(0)\n",
    "data_disney1['imdb_score'] = data_disney1['imdb_score'].astype(float)\n",
    "len(data_disney1[data_disney1['imdb_score'].isna() == True])\n"
   ]
  },
  {
   "cell_type": "markdown",
   "metadata": {},
   "source": [
    "Al final no voy a incluir las columnas tmdb popularity, var_votos ni imdb votos en el analisis\n",
    "--dejo las celdas como comentarios por si cambiase de opinion "
   ]
  },
  {
   "cell_type": "code",
   "execution_count": 42,
   "metadata": {},
   "outputs": [
    {
     "name": "stdout",
     "output_type": "stream",
     "text": [
      "Rellenamos null con la media de votos: 76350.04162895928\n"
     ]
    }
   ],
   "source": [
    "\n",
    "#columna ibdb_votes --> 430 nulos (todos los NaN de imdb_score, son también NaN en esta variable)\n",
    "# Como se trata del número de votos de una película -medida de cantidad-, rellenamos con la media de votos\n",
    "\n",
    "print('Rellenamos null con la media de votos:', data_disney1['imdb_votes'].mean())\n",
    "data_disney1['imdb_votes'] = data_disney1['imdb_votes'].fillna(data_disney1['imdb_votes'].mean())\n",
    "data_disney1['imdb_votes'] = data_disney1['imdb_votes'].astype(int)"
   ]
  },
  {
   "cell_type": "code",
   "execution_count": 43,
   "metadata": {},
   "outputs": [],
   "source": [
    "\n",
    "# Creamos columna con la variacion, respecto a la media, del numero de votos:\n",
    "var_votos = [round(i / data_disney1['imdb_votes'].mean(), 2) for i in data_disney1['imdb_votes']]\n",
    "data_disney1.insert(11, 'Var_Votos', var_votos)\n"
   ]
  },
  {
   "cell_type": "code",
   "execution_count": 44,
   "metadata": {},
   "outputs": [],
   "source": [
    "# columna tmdb_score --> 109 nulos: \n",
    "# Al definir la opinion de los usuarios sobre cada título, no tiene sentido rellenar con un estadístico\n",
    "# No le asignamos la puntuación de imdb porque el objetivo de mantener la columna de tmdb es, en caso de sesgo, poder comprobar puntuacion de tmdb\n",
    "\n",
    "data_disney1['tmdb_score'] = data_disney1['tmdb_score'].fillna(0)\n",
    "data_disney1['tmdb_score'] = data_disney1['tmdb_score'].astype(float)\n"
   ]
  },
  {
   "cell_type": "code",
   "execution_count": 45,
   "metadata": {},
   "outputs": [],
   "source": [
    "\n",
    "# columna tmdb_popularity --> 11 nulos: \n",
    "# La popularidad es una métrica (DIARIA) creada en función del comportamiento de los usuarios con cada título\n",
    "# No se considera rellenar por estadístico, ya que se trata de una métrica que engloba diferentes vbles -y muchas de ellas representan opiniones subjetivas \n",
    "\n",
    "data_disney1['tmdb_popularity'] = data_disney1['tmdb_popularity'].fillna(0)\n",
    "data_disney1['tmdb_popularity'] = data_disney1['tmdb_popularity'].astype(float)\n"
   ]
  },
  {
   "cell_type": "code",
   "execution_count": 46,
   "metadata": {},
   "outputs": [],
   "source": [
    "data_disney2 = data_disney1.drop(['imdb_votes', 'Var_Votos', 'tmdb_popularity'], axis=1).copy()"
   ]
  },
  {
   "cell_type": "code",
   "execution_count": 47,
   "metadata": {},
   "outputs": [
    {
     "data": {
      "text/plain": [
       "Index(['id', 'title', 'type', 'Decada', 'age_certification', 'runtime',\n",
       "       'genres', 'production_countries', 'seasons', 'imdb_score',\n",
       "       'tmdb_score'],\n",
       "      dtype='object')"
      ]
     },
     "execution_count": 47,
     "metadata": {},
     "output_type": "execute_result"
    }
   ],
   "source": [
    "data_disney2.columns"
   ]
  },
  {
   "cell_type": "code",
   "execution_count": 48,
   "metadata": {},
   "outputs": [],
   "source": [
    "# renombramos las columnas\n",
    "\n",
    "data_disney2.columns = ['ID', 'Titulo', 'Tipo', 'Decada', 'Edad_Recom', 'Duracion', 'Generos', 'Paises_Prod', 'Temporadas', 'Imdb_Puntos', 'Tmdb_Puntos']"
   ]
  },
  {
   "cell_type": "code",
   "execution_count": 49,
   "metadata": {},
   "outputs": [
    {
     "name": "stdout",
     "output_type": "stream",
     "text": [
      "Filas, columnas: (1535, 11)\n",
      "<class 'pandas.core.frame.DataFrame'>\n",
      "RangeIndex: 1535 entries, 0 to 1534\n",
      "Data columns (total 11 columns):\n",
      " #   Column       Non-Null Count  Dtype  \n",
      "---  ------       --------------  -----  \n",
      " 0   ID           1535 non-null   object \n",
      " 1   Titulo       1535 non-null   object \n",
      " 2   Tipo         1535 non-null   object \n",
      " 3   Decada       1535 non-null   object \n",
      " 4   Edad_Recom   1535 non-null   int64  \n",
      " 5   Duracion     1535 non-null   int64  \n",
      " 6   Generos      1535 non-null   object \n",
      " 7   Paises_Prod  1535 non-null   object \n",
      " 8   Temporadas   1535 non-null   int64  \n",
      " 9   Imdb_Puntos  1535 non-null   float64\n",
      " 10  Tmdb_Puntos  1535 non-null   float64\n",
      "dtypes: float64(2), int64(3), object(6)\n",
      "memory usage: 132.0+ KB\n"
     ]
    }
   ],
   "source": [
    "# recordamos tipo de cada columna y nos aseguramos que ya no hay nulos\n",
    "print(\"Filas, columnas:\", data_disney2.shape)\n",
    "data_disney2.info()"
   ]
  },
  {
   "cell_type": "code",
   "execution_count": 50,
   "metadata": {},
   "outputs": [
    {
     "name": "stdout",
     "output_type": "stream",
     "text": [
      "0\n",
      "0.0\n"
     ]
    }
   ],
   "source": [
    "#No había ningun duplicado en los titulos, por lo que nos quedamos con los 1535 titulos iniciales\n",
    "\n",
    "n_titulos_sacados = data_disney.shape[0] - data_disney2.shape[0]\n",
    "print(n_titulos_sacados)\n",
    "perc_n_titulos_sacados = n_titulos_sacados / data_disney.shape[0]\n",
    "print(round(perc_n_titulos_sacados*100, 2))"
   ]
  },
  {
   "cell_type": "code",
   "execution_count": 51,
   "metadata": {},
   "outputs": [
    {
     "name": "stdout",
     "output_type": "stream",
     "text": [
      "n_filas_series: 415\n"
     ]
    }
   ],
   "source": [
    "#Separamos el dataframe en dos:\n",
    "# Por un lado analizaremos el contenido de series y por otro el de películas\n",
    "\n",
    "disney_series_df = data_disney2[data_disney2['Tipo']=='SHOW']\n",
    "disney_series_df = disney_series_df.reset_index(drop = True)\n",
    "print(\"n_filas_series:\", disney_series_df.shape[0])\n",
    "\n",
    "# Eliminamos la columna de tipo porque ya no nos interesa\n",
    "del disney_series_df['Tipo']"
   ]
  },
  {
   "cell_type": "code",
   "execution_count": 52,
   "metadata": {},
   "outputs": [
    {
     "data": {
      "text/html": [
       "<div>\n",
       "<style scoped>\n",
       "    .dataframe tbody tr th:only-of-type {\n",
       "        vertical-align: middle;\n",
       "    }\n",
       "\n",
       "    .dataframe tbody tr th {\n",
       "        vertical-align: top;\n",
       "    }\n",
       "\n",
       "    .dataframe thead th {\n",
       "        text-align: right;\n",
       "    }\n",
       "</style>\n",
       "<table border=\"1\" class=\"dataframe\">\n",
       "  <thead>\n",
       "    <tr style=\"text-align: right;\">\n",
       "      <th></th>\n",
       "      <th>ID</th>\n",
       "      <th>Titulo</th>\n",
       "      <th>Decada</th>\n",
       "      <th>Edad_Recom</th>\n",
       "      <th>Duracion</th>\n",
       "      <th>Generos</th>\n",
       "      <th>Paises_Prod</th>\n",
       "      <th>Temporadas</th>\n",
       "      <th>Imdb_Puntos</th>\n",
       "      <th>Tmdb_Puntos</th>\n",
       "    </tr>\n",
       "  </thead>\n",
       "  <tbody>\n",
       "    <tr>\n",
       "      <th>0</th>\n",
       "      <td>ts22470</td>\n",
       "      <td>The Muppet Show</td>\n",
       "      <td>1970s</td>\n",
       "      <td>0</td>\n",
       "      <td>25</td>\n",
       "      <td>comedy</td>\n",
       "      <td>GB</td>\n",
       "      <td>5</td>\n",
       "      <td>8.4</td>\n",
       "      <td>8.1</td>\n",
       "    </tr>\n",
       "    <tr>\n",
       "      <th>1</th>\n",
       "      <td>ts30718</td>\n",
       "      <td>Schoolhouse Rock!</td>\n",
       "      <td>1970s</td>\n",
       "      <td>9999</td>\n",
       "      <td>3</td>\n",
       "      <td>animation</td>\n",
       "      <td>US</td>\n",
       "      <td>7</td>\n",
       "      <td>8.2</td>\n",
       "      <td>7.8</td>\n",
       "    </tr>\n",
       "    <tr>\n",
       "      <th>2</th>\n",
       "      <td>ts28051</td>\n",
       "      <td>The Mickey Mouse Club</td>\n",
       "      <td>1950s</td>\n",
       "      <td>7</td>\n",
       "      <td>31</td>\n",
       "      <td>family</td>\n",
       "      <td>US</td>\n",
       "      <td>3</td>\n",
       "      <td>7.6</td>\n",
       "      <td>5.8</td>\n",
       "    </tr>\n",
       "    <tr>\n",
       "      <th>3</th>\n",
       "      <td>ts24939</td>\n",
       "      <td>Spider-Woman</td>\n",
       "      <td>1970s</td>\n",
       "      <td>7</td>\n",
       "      <td>21</td>\n",
       "      <td>animation</td>\n",
       "      <td>US</td>\n",
       "      <td>1</td>\n",
       "      <td>5.8</td>\n",
       "      <td>8.0</td>\n",
       "    </tr>\n",
       "    <tr>\n",
       "      <th>4</th>\n",
       "      <td>ts27944</td>\n",
       "      <td>Spin and Marty</td>\n",
       "      <td>1950s</td>\n",
       "      <td>9999</td>\n",
       "      <td>12</td>\n",
       "      <td>western</td>\n",
       "      <td>US</td>\n",
       "      <td>1</td>\n",
       "      <td>8.0</td>\n",
       "      <td>8.0</td>\n",
       "    </tr>\n",
       "  </tbody>\n",
       "</table>\n",
       "</div>"
      ],
      "text/plain": [
       "        ID                 Titulo Decada  Edad_Recom  Duracion    Generos  \\\n",
       "0  ts22470        The Muppet Show  1970s           0        25     comedy   \n",
       "1  ts30718      Schoolhouse Rock!  1970s        9999         3  animation   \n",
       "2  ts28051  The Mickey Mouse Club  1950s           7        31     family   \n",
       "3  ts24939           Spider-Woman  1970s           7        21  animation   \n",
       "4  ts27944         Spin and Marty  1950s        9999        12    western   \n",
       "\n",
       "  Paises_Prod  Temporadas  Imdb_Puntos  Tmdb_Puntos  \n",
       "0          GB           5          8.4          8.1  \n",
       "1          US           7          8.2          7.8  \n",
       "2          US           3          7.6          5.8  \n",
       "3          US           1          5.8          8.0  \n",
       "4          US           1          8.0          8.0  "
      ]
     },
     "execution_count": 52,
     "metadata": {},
     "output_type": "execute_result"
    }
   ],
   "source": [
    "disney_series_df.head()"
   ]
  },
  {
   "cell_type": "code",
   "execution_count": 53,
   "metadata": {},
   "outputs": [
    {
     "data": {
      "text/html": [
       "<div>\n",
       "<style scoped>\n",
       "    .dataframe tbody tr th:only-of-type {\n",
       "        vertical-align: middle;\n",
       "    }\n",
       "\n",
       "    .dataframe tbody tr th {\n",
       "        vertical-align: top;\n",
       "    }\n",
       "\n",
       "    .dataframe thead th {\n",
       "        text-align: right;\n",
       "    }\n",
       "</style>\n",
       "<table border=\"1\" class=\"dataframe\">\n",
       "  <thead>\n",
       "    <tr style=\"text-align: right;\">\n",
       "      <th></th>\n",
       "      <th>ID</th>\n",
       "      <th>Titulo</th>\n",
       "      <th>Decada</th>\n",
       "      <th>Edad_Recom</th>\n",
       "      <th>Duracion</th>\n",
       "      <th>Generos</th>\n",
       "      <th>Paises_Prod</th>\n",
       "      <th>Temporadas</th>\n",
       "      <th>Imdb_Puntos</th>\n",
       "      <th>Tmdb_Puntos</th>\n",
       "    </tr>\n",
       "  </thead>\n",
       "  <tbody>\n",
       "    <tr>\n",
       "      <th>410</th>\n",
       "      <td>ts273161</td>\n",
       "      <td>Foodtastic</td>\n",
       "      <td>2020s</td>\n",
       "      <td>7</td>\n",
       "      <td>42</td>\n",
       "      <td>reality</td>\n",
       "      <td>US</td>\n",
       "      <td>1</td>\n",
       "      <td>4.80</td>\n",
       "      <td>1.0</td>\n",
       "    </tr>\n",
       "    <tr>\n",
       "      <th>411</th>\n",
       "      <td>ts272675</td>\n",
       "      <td>Breaking Bobby Bones</td>\n",
       "      <td>2020s</td>\n",
       "      <td>13</td>\n",
       "      <td>22</td>\n",
       "      <td>documentation</td>\n",
       "      <td>US</td>\n",
       "      <td>1</td>\n",
       "      <td>1.40</td>\n",
       "      <td>0.0</td>\n",
       "    </tr>\n",
       "    <tr>\n",
       "      <th>412</th>\n",
       "      <td>ts271728</td>\n",
       "      <td>The Wild Life of Dr. Ole</td>\n",
       "      <td>2020s</td>\n",
       "      <td>7</td>\n",
       "      <td>44</td>\n",
       "      <td>documentation</td>\n",
       "      <td>US</td>\n",
       "      <td>1</td>\n",
       "      <td>8.40</td>\n",
       "      <td>0.0</td>\n",
       "    </tr>\n",
       "    <tr>\n",
       "      <th>413</th>\n",
       "      <td>ts288962</td>\n",
       "      <td>Turning the Tables with Robin Roberts</td>\n",
       "      <td>2020s</td>\n",
       "      <td>9999</td>\n",
       "      <td>27</td>\n",
       "      <td></td>\n",
       "      <td>US</td>\n",
       "      <td>1</td>\n",
       "      <td>5.70</td>\n",
       "      <td>0.0</td>\n",
       "    </tr>\n",
       "    <tr>\n",
       "      <th>414</th>\n",
       "      <td>ts313961</td>\n",
       "      <td>Vets on the Beach</td>\n",
       "      <td>2020s</td>\n",
       "      <td>7</td>\n",
       "      <td>44</td>\n",
       "      <td>documentation</td>\n",
       "      <td></td>\n",
       "      <td>1</td>\n",
       "      <td>1.96</td>\n",
       "      <td>0.0</td>\n",
       "    </tr>\n",
       "  </tbody>\n",
       "</table>\n",
       "</div>"
      ],
      "text/plain": [
       "           ID                                 Titulo Decada  Edad_Recom  \\\n",
       "410  ts273161                             Foodtastic  2020s           7   \n",
       "411  ts272675                   Breaking Bobby Bones  2020s          13   \n",
       "412  ts271728               The Wild Life of Dr. Ole  2020s           7   \n",
       "413  ts288962  Turning the Tables with Robin Roberts  2020s        9999   \n",
       "414  ts313961                      Vets on the Beach  2020s           7   \n",
       "\n",
       "     Duracion        Generos Paises_Prod  Temporadas  Imdb_Puntos  Tmdb_Puntos  \n",
       "410        42        reality          US           1         4.80          1.0  \n",
       "411        22  documentation          US           1         1.40          0.0  \n",
       "412        44  documentation          US           1         8.40          0.0  \n",
       "413        27                         US           1         5.70          0.0  \n",
       "414        44  documentation                       1         1.96          0.0  "
      ]
     },
     "execution_count": 53,
     "metadata": {},
     "output_type": "execute_result"
    }
   ],
   "source": [
    "disney_series_df.tail()"
   ]
  },
  {
   "cell_type": "code",
   "execution_count": 54,
   "metadata": {},
   "outputs": [
    {
     "name": "stdout",
     "output_type": "stream",
     "text": [
      "n_filas_peliculas: 1120\n"
     ]
    }
   ],
   "source": [
    "disney_peliculas_df = data_disney2[data_disney2['Tipo']=='MOVIE']\n",
    "disney_peliculas_df = disney_peliculas_df.reset_index(drop = True)\n",
    "print(\"n_filas_peliculas:\", disney_peliculas_df.shape[0])\n",
    "disney_peliculas_df.head()\n",
    "\n",
    "# Eliminamos la columna de tipo porque ya no nos interesa\n",
    "# Al ser peliculas, tambien eliminamos la columna de temporadas\n",
    "del disney_peliculas_df['Tipo']\n",
    "del disney_peliculas_df['Temporadas']"
   ]
  },
  {
   "cell_type": "code",
   "execution_count": 55,
   "metadata": {},
   "outputs": [
    {
     "data": {
      "text/html": [
       "<div>\n",
       "<style scoped>\n",
       "    .dataframe tbody tr th:only-of-type {\n",
       "        vertical-align: middle;\n",
       "    }\n",
       "\n",
       "    .dataframe tbody tr th {\n",
       "        vertical-align: top;\n",
       "    }\n",
       "\n",
       "    .dataframe thead th {\n",
       "        text-align: right;\n",
       "    }\n",
       "</style>\n",
       "<table border=\"1\" class=\"dataframe\">\n",
       "  <thead>\n",
       "    <tr style=\"text-align: right;\">\n",
       "      <th></th>\n",
       "      <th>ID</th>\n",
       "      <th>Titulo</th>\n",
       "      <th>Decada</th>\n",
       "      <th>Edad_Recom</th>\n",
       "      <th>Duracion</th>\n",
       "      <th>Generos</th>\n",
       "      <th>Paises_Prod</th>\n",
       "      <th>Imdb_Puntos</th>\n",
       "      <th>Tmdb_Puntos</th>\n",
       "    </tr>\n",
       "  </thead>\n",
       "  <tbody>\n",
       "    <tr>\n",
       "      <th>0</th>\n",
       "      <td>tm74391</td>\n",
       "      <td>Fantasia</td>\n",
       "      <td>1940s</td>\n",
       "      <td>0</td>\n",
       "      <td>120</td>\n",
       "      <td>animation</td>\n",
       "      <td>US</td>\n",
       "      <td>7.7</td>\n",
       "      <td>7.4</td>\n",
       "    </tr>\n",
       "    <tr>\n",
       "      <th>1</th>\n",
       "      <td>tm67803</td>\n",
       "      <td>Snow White and the Seven Dwarfs</td>\n",
       "      <td>1930s</td>\n",
       "      <td>0</td>\n",
       "      <td>83</td>\n",
       "      <td>fantasy</td>\n",
       "      <td>US</td>\n",
       "      <td>7.6</td>\n",
       "      <td>7.1</td>\n",
       "    </tr>\n",
       "    <tr>\n",
       "      <th>2</th>\n",
       "      <td>tm82546</td>\n",
       "      <td>Pinocchio</td>\n",
       "      <td>1940s</td>\n",
       "      <td>0</td>\n",
       "      <td>88</td>\n",
       "      <td>animation</td>\n",
       "      <td>US</td>\n",
       "      <td>7.5</td>\n",
       "      <td>7.1</td>\n",
       "    </tr>\n",
       "    <tr>\n",
       "      <th>3</th>\n",
       "      <td>tm79357</td>\n",
       "      <td>Bambi</td>\n",
       "      <td>1940s</td>\n",
       "      <td>0</td>\n",
       "      <td>70</td>\n",
       "      <td>animation</td>\n",
       "      <td>US</td>\n",
       "      <td>7.3</td>\n",
       "      <td>7.0</td>\n",
       "    </tr>\n",
       "    <tr>\n",
       "      <th>4</th>\n",
       "      <td>tm62671</td>\n",
       "      <td>Treasure Island</td>\n",
       "      <td>1950s</td>\n",
       "      <td>7</td>\n",
       "      <td>96</td>\n",
       "      <td>family</td>\n",
       "      <td>GB</td>\n",
       "      <td>6.9</td>\n",
       "      <td>6.5</td>\n",
       "    </tr>\n",
       "  </tbody>\n",
       "</table>\n",
       "</div>"
      ],
      "text/plain": [
       "        ID                           Titulo Decada  Edad_Recom  Duracion  \\\n",
       "0  tm74391                         Fantasia  1940s           0       120   \n",
       "1  tm67803  Snow White and the Seven Dwarfs  1930s           0        83   \n",
       "2  tm82546                        Pinocchio  1940s           0        88   \n",
       "3  tm79357                            Bambi  1940s           0        70   \n",
       "4  tm62671                  Treasure Island  1950s           7        96   \n",
       "\n",
       "     Generos Paises_Prod  Imdb_Puntos  Tmdb_Puntos  \n",
       "0  animation          US          7.7          7.4  \n",
       "1    fantasy          US          7.6          7.1  \n",
       "2  animation          US          7.5          7.1  \n",
       "3  animation          US          7.3          7.0  \n",
       "4     family          GB          6.9          6.5  "
      ]
     },
     "execution_count": 55,
     "metadata": {},
     "output_type": "execute_result"
    }
   ],
   "source": [
    "disney_peliculas_df.head()"
   ]
  },
  {
   "cell_type": "code",
   "execution_count": 56,
   "metadata": {},
   "outputs": [
    {
     "data": {
      "text/html": [
       "<div>\n",
       "<style scoped>\n",
       "    .dataframe tbody tr th:only-of-type {\n",
       "        vertical-align: middle;\n",
       "    }\n",
       "\n",
       "    .dataframe tbody tr th {\n",
       "        vertical-align: top;\n",
       "    }\n",
       "\n",
       "    .dataframe thead th {\n",
       "        text-align: right;\n",
       "    }\n",
       "</style>\n",
       "<table border=\"1\" class=\"dataframe\">\n",
       "  <thead>\n",
       "    <tr style=\"text-align: right;\">\n",
       "      <th></th>\n",
       "      <th>ID</th>\n",
       "      <th>Titulo</th>\n",
       "      <th>Decada</th>\n",
       "      <th>Edad_Recom</th>\n",
       "      <th>Duracion</th>\n",
       "      <th>Generos</th>\n",
       "      <th>Paises_Prod</th>\n",
       "      <th>Imdb_Puntos</th>\n",
       "      <th>Tmdb_Puntos</th>\n",
       "    </tr>\n",
       "  </thead>\n",
       "  <tbody>\n",
       "    <tr>\n",
       "      <th>1115</th>\n",
       "      <td>tm1071287</td>\n",
       "      <td>Killer Shark vs. Killer Whale</td>\n",
       "      <td>2020s</td>\n",
       "      <td>13</td>\n",
       "      <td>44</td>\n",
       "      <td>documentation</td>\n",
       "      <td>US</td>\n",
       "      <td>6.400</td>\n",
       "      <td>4.0</td>\n",
       "    </tr>\n",
       "    <tr>\n",
       "      <th>1116</th>\n",
       "      <td>tm1091101</td>\n",
       "      <td>Far From Raven's Home</td>\n",
       "      <td>2020s</td>\n",
       "      <td>0</td>\n",
       "      <td>11</td>\n",
       "      <td>animation</td>\n",
       "      <td></td>\n",
       "      <td>5.600</td>\n",
       "      <td>10.0</td>\n",
       "    </tr>\n",
       "    <tr>\n",
       "      <th>1117</th>\n",
       "      <td>tm1075680</td>\n",
       "      <td>World's Most Dangerous Shark?</td>\n",
       "      <td>2020s</td>\n",
       "      <td>13</td>\n",
       "      <td>44</td>\n",
       "      <td>documentation</td>\n",
       "      <td></td>\n",
       "      <td>1.400</td>\n",
       "      <td>0.0</td>\n",
       "    </tr>\n",
       "    <tr>\n",
       "      <th>1118</th>\n",
       "      <td>tm1133820</td>\n",
       "      <td>The Magic Maker</td>\n",
       "      <td>2020s</td>\n",
       "      <td>7</td>\n",
       "      <td>43</td>\n",
       "      <td></td>\n",
       "      <td>US</td>\n",
       "      <td>4.200</td>\n",
       "      <td>0.0</td>\n",
       "    </tr>\n",
       "    <tr>\n",
       "      <th>1119</th>\n",
       "      <td>tm1091117</td>\n",
       "      <td>Smoky Mountain Park Rangers</td>\n",
       "      <td>2020s</td>\n",
       "      <td>7</td>\n",
       "      <td>42</td>\n",
       "      <td>documentation</td>\n",
       "      <td>US</td>\n",
       "      <td>1.761</td>\n",
       "      <td>0.0</td>\n",
       "    </tr>\n",
       "  </tbody>\n",
       "</table>\n",
       "</div>"
      ],
      "text/plain": [
       "             ID                         Titulo Decada  Edad_Recom  Duracion  \\\n",
       "1115  tm1071287  Killer Shark vs. Killer Whale  2020s          13        44   \n",
       "1116  tm1091101          Far From Raven's Home  2020s           0        11   \n",
       "1117  tm1075680  World's Most Dangerous Shark?  2020s          13        44   \n",
       "1118  tm1133820                The Magic Maker  2020s           7        43   \n",
       "1119  tm1091117    Smoky Mountain Park Rangers  2020s           7        42   \n",
       "\n",
       "            Generos Paises_Prod  Imdb_Puntos  Tmdb_Puntos  \n",
       "1115  documentation          US        6.400          4.0  \n",
       "1116      animation                    5.600         10.0  \n",
       "1117  documentation                    1.400          0.0  \n",
       "1118                         US        4.200          0.0  \n",
       "1119  documentation          US        1.761          0.0  "
      ]
     },
     "execution_count": 56,
     "metadata": {},
     "output_type": "execute_result"
    }
   ],
   "source": [
    "disney_peliculas_df.tail()"
   ]
  },
  {
   "cell_type": "code",
   "execution_count": 57,
   "metadata": {},
   "outputs": [
    {
     "data": {
      "text/plain": [
       "True"
      ]
     },
     "execution_count": 57,
     "metadata": {},
     "output_type": "execute_result"
    }
   ],
   "source": [
    "#Comprobamos\n",
    "data_disney2.shape[0] == disney_peliculas_df.shape[0] + disney_series_df.shape[0]"
   ]
  },
  {
   "cell_type": "code",
   "execution_count": 58,
   "metadata": {},
   "outputs": [
    {
     "data": {
      "application/vnd.plotly.v1+json": {
       "config": {
        "plotlyServerURL": "https://plot.ly"
       },
       "data": [
        {
         "customdata": [
          [
           "Peliculas"
          ],
          [
           "Series"
          ]
         ],
         "domain": {
          "x": [
           0,
           1
          ],
          "y": [
           0,
           1
          ]
         },
         "hovertemplate": [
          "Peliculas",
          "Series"
         ],
         "legendgroup": "",
         "marker": {
          "colors": [
           "black",
           "darkblue"
          ],
          "line": {
           "color": "white",
           "width": 2.4
          }
         },
         "name": "",
         "showlegend": false,
         "type": "pie",
         "values": [
          1120,
          415
         ]
        }
       ],
       "layout": {
        "font": {
         "family": "Arial"
        },
        "height": 450,
        "legend": {
         "tracegroupgap": 0
        },
        "template": {
         "data": {
          "bar": [
           {
            "error_x": {
             "color": "#2a3f5f"
            },
            "error_y": {
             "color": "#2a3f5f"
            },
            "marker": {
             "line": {
              "color": "#E5ECF6",
              "width": 0.5
             },
             "pattern": {
              "fillmode": "overlay",
              "size": 10,
              "solidity": 0.2
             }
            },
            "type": "bar"
           }
          ],
          "barpolar": [
           {
            "marker": {
             "line": {
              "color": "#E5ECF6",
              "width": 0.5
             },
             "pattern": {
              "fillmode": "overlay",
              "size": 10,
              "solidity": 0.2
             }
            },
            "type": "barpolar"
           }
          ],
          "carpet": [
           {
            "aaxis": {
             "endlinecolor": "#2a3f5f",
             "gridcolor": "white",
             "linecolor": "white",
             "minorgridcolor": "white",
             "startlinecolor": "#2a3f5f"
            },
            "baxis": {
             "endlinecolor": "#2a3f5f",
             "gridcolor": "white",
             "linecolor": "white",
             "minorgridcolor": "white",
             "startlinecolor": "#2a3f5f"
            },
            "type": "carpet"
           }
          ],
          "choropleth": [
           {
            "colorbar": {
             "outlinewidth": 0,
             "ticks": ""
            },
            "type": "choropleth"
           }
          ],
          "contour": [
           {
            "colorbar": {
             "outlinewidth": 0,
             "ticks": ""
            },
            "colorscale": [
             [
              0,
              "#0d0887"
             ],
             [
              0.1111111111111111,
              "#46039f"
             ],
             [
              0.2222222222222222,
              "#7201a8"
             ],
             [
              0.3333333333333333,
              "#9c179e"
             ],
             [
              0.4444444444444444,
              "#bd3786"
             ],
             [
              0.5555555555555556,
              "#d8576b"
             ],
             [
              0.6666666666666666,
              "#ed7953"
             ],
             [
              0.7777777777777778,
              "#fb9f3a"
             ],
             [
              0.8888888888888888,
              "#fdca26"
             ],
             [
              1,
              "#f0f921"
             ]
            ],
            "type": "contour"
           }
          ],
          "contourcarpet": [
           {
            "colorbar": {
             "outlinewidth": 0,
             "ticks": ""
            },
            "type": "contourcarpet"
           }
          ],
          "heatmap": [
           {
            "colorbar": {
             "outlinewidth": 0,
             "ticks": ""
            },
            "colorscale": [
             [
              0,
              "#0d0887"
             ],
             [
              0.1111111111111111,
              "#46039f"
             ],
             [
              0.2222222222222222,
              "#7201a8"
             ],
             [
              0.3333333333333333,
              "#9c179e"
             ],
             [
              0.4444444444444444,
              "#bd3786"
             ],
             [
              0.5555555555555556,
              "#d8576b"
             ],
             [
              0.6666666666666666,
              "#ed7953"
             ],
             [
              0.7777777777777778,
              "#fb9f3a"
             ],
             [
              0.8888888888888888,
              "#fdca26"
             ],
             [
              1,
              "#f0f921"
             ]
            ],
            "type": "heatmap"
           }
          ],
          "heatmapgl": [
           {
            "colorbar": {
             "outlinewidth": 0,
             "ticks": ""
            },
            "colorscale": [
             [
              0,
              "#0d0887"
             ],
             [
              0.1111111111111111,
              "#46039f"
             ],
             [
              0.2222222222222222,
              "#7201a8"
             ],
             [
              0.3333333333333333,
              "#9c179e"
             ],
             [
              0.4444444444444444,
              "#bd3786"
             ],
             [
              0.5555555555555556,
              "#d8576b"
             ],
             [
              0.6666666666666666,
              "#ed7953"
             ],
             [
              0.7777777777777778,
              "#fb9f3a"
             ],
             [
              0.8888888888888888,
              "#fdca26"
             ],
             [
              1,
              "#f0f921"
             ]
            ],
            "type": "heatmapgl"
           }
          ],
          "histogram": [
           {
            "marker": {
             "pattern": {
              "fillmode": "overlay",
              "size": 10,
              "solidity": 0.2
             }
            },
            "type": "histogram"
           }
          ],
          "histogram2d": [
           {
            "colorbar": {
             "outlinewidth": 0,
             "ticks": ""
            },
            "colorscale": [
             [
              0,
              "#0d0887"
             ],
             [
              0.1111111111111111,
              "#46039f"
             ],
             [
              0.2222222222222222,
              "#7201a8"
             ],
             [
              0.3333333333333333,
              "#9c179e"
             ],
             [
              0.4444444444444444,
              "#bd3786"
             ],
             [
              0.5555555555555556,
              "#d8576b"
             ],
             [
              0.6666666666666666,
              "#ed7953"
             ],
             [
              0.7777777777777778,
              "#fb9f3a"
             ],
             [
              0.8888888888888888,
              "#fdca26"
             ],
             [
              1,
              "#f0f921"
             ]
            ],
            "type": "histogram2d"
           }
          ],
          "histogram2dcontour": [
           {
            "colorbar": {
             "outlinewidth": 0,
             "ticks": ""
            },
            "colorscale": [
             [
              0,
              "#0d0887"
             ],
             [
              0.1111111111111111,
              "#46039f"
             ],
             [
              0.2222222222222222,
              "#7201a8"
             ],
             [
              0.3333333333333333,
              "#9c179e"
             ],
             [
              0.4444444444444444,
              "#bd3786"
             ],
             [
              0.5555555555555556,
              "#d8576b"
             ],
             [
              0.6666666666666666,
              "#ed7953"
             ],
             [
              0.7777777777777778,
              "#fb9f3a"
             ],
             [
              0.8888888888888888,
              "#fdca26"
             ],
             [
              1,
              "#f0f921"
             ]
            ],
            "type": "histogram2dcontour"
           }
          ],
          "mesh3d": [
           {
            "colorbar": {
             "outlinewidth": 0,
             "ticks": ""
            },
            "type": "mesh3d"
           }
          ],
          "parcoords": [
           {
            "line": {
             "colorbar": {
              "outlinewidth": 0,
              "ticks": ""
             }
            },
            "type": "parcoords"
           }
          ],
          "pie": [
           {
            "automargin": true,
            "type": "pie"
           }
          ],
          "scatter": [
           {
            "fillpattern": {
             "fillmode": "overlay",
             "size": 10,
             "solidity": 0.2
            },
            "type": "scatter"
           }
          ],
          "scatter3d": [
           {
            "line": {
             "colorbar": {
              "outlinewidth": 0,
              "ticks": ""
             }
            },
            "marker": {
             "colorbar": {
              "outlinewidth": 0,
              "ticks": ""
             }
            },
            "type": "scatter3d"
           }
          ],
          "scattercarpet": [
           {
            "marker": {
             "colorbar": {
              "outlinewidth": 0,
              "ticks": ""
             }
            },
            "type": "scattercarpet"
           }
          ],
          "scattergeo": [
           {
            "marker": {
             "colorbar": {
              "outlinewidth": 0,
              "ticks": ""
             }
            },
            "type": "scattergeo"
           }
          ],
          "scattergl": [
           {
            "marker": {
             "colorbar": {
              "outlinewidth": 0,
              "ticks": ""
             }
            },
            "type": "scattergl"
           }
          ],
          "scattermapbox": [
           {
            "marker": {
             "colorbar": {
              "outlinewidth": 0,
              "ticks": ""
             }
            },
            "type": "scattermapbox"
           }
          ],
          "scatterpolar": [
           {
            "marker": {
             "colorbar": {
              "outlinewidth": 0,
              "ticks": ""
             }
            },
            "type": "scatterpolar"
           }
          ],
          "scatterpolargl": [
           {
            "marker": {
             "colorbar": {
              "outlinewidth": 0,
              "ticks": ""
             }
            },
            "type": "scatterpolargl"
           }
          ],
          "scatterternary": [
           {
            "marker": {
             "colorbar": {
              "outlinewidth": 0,
              "ticks": ""
             }
            },
            "type": "scatterternary"
           }
          ],
          "surface": [
           {
            "colorbar": {
             "outlinewidth": 0,
             "ticks": ""
            },
            "colorscale": [
             [
              0,
              "#0d0887"
             ],
             [
              0.1111111111111111,
              "#46039f"
             ],
             [
              0.2222222222222222,
              "#7201a8"
             ],
             [
              0.3333333333333333,
              "#9c179e"
             ],
             [
              0.4444444444444444,
              "#bd3786"
             ],
             [
              0.5555555555555556,
              "#d8576b"
             ],
             [
              0.6666666666666666,
              "#ed7953"
             ],
             [
              0.7777777777777778,
              "#fb9f3a"
             ],
             [
              0.8888888888888888,
              "#fdca26"
             ],
             [
              1,
              "#f0f921"
             ]
            ],
            "type": "surface"
           }
          ],
          "table": [
           {
            "cells": {
             "fill": {
              "color": "#EBF0F8"
             },
             "line": {
              "color": "white"
             }
            },
            "header": {
             "fill": {
              "color": "#C8D4E3"
             },
             "line": {
              "color": "white"
             }
            },
            "type": "table"
           }
          ]
         },
         "layout": {
          "annotationdefaults": {
           "arrowcolor": "#2a3f5f",
           "arrowhead": 0,
           "arrowwidth": 1
          },
          "autotypenumbers": "strict",
          "coloraxis": {
           "colorbar": {
            "outlinewidth": 0,
            "ticks": ""
           }
          },
          "colorscale": {
           "diverging": [
            [
             0,
             "#8e0152"
            ],
            [
             0.1,
             "#c51b7d"
            ],
            [
             0.2,
             "#de77ae"
            ],
            [
             0.3,
             "#f1b6da"
            ],
            [
             0.4,
             "#fde0ef"
            ],
            [
             0.5,
             "#f7f7f7"
            ],
            [
             0.6,
             "#e6f5d0"
            ],
            [
             0.7,
             "#b8e186"
            ],
            [
             0.8,
             "#7fbc41"
            ],
            [
             0.9,
             "#4d9221"
            ],
            [
             1,
             "#276419"
            ]
           ],
           "sequential": [
            [
             0,
             "#0d0887"
            ],
            [
             0.1111111111111111,
             "#46039f"
            ],
            [
             0.2222222222222222,
             "#7201a8"
            ],
            [
             0.3333333333333333,
             "#9c179e"
            ],
            [
             0.4444444444444444,
             "#bd3786"
            ],
            [
             0.5555555555555556,
             "#d8576b"
            ],
            [
             0.6666666666666666,
             "#ed7953"
            ],
            [
             0.7777777777777778,
             "#fb9f3a"
            ],
            [
             0.8888888888888888,
             "#fdca26"
            ],
            [
             1,
             "#f0f921"
            ]
           ],
           "sequentialminus": [
            [
             0,
             "#0d0887"
            ],
            [
             0.1111111111111111,
             "#46039f"
            ],
            [
             0.2222222222222222,
             "#7201a8"
            ],
            [
             0.3333333333333333,
             "#9c179e"
            ],
            [
             0.4444444444444444,
             "#bd3786"
            ],
            [
             0.5555555555555556,
             "#d8576b"
            ],
            [
             0.6666666666666666,
             "#ed7953"
            ],
            [
             0.7777777777777778,
             "#fb9f3a"
            ],
            [
             0.8888888888888888,
             "#fdca26"
            ],
            [
             1,
             "#f0f921"
            ]
           ]
          },
          "colorway": [
           "#636efa",
           "#EF553B",
           "#00cc96",
           "#ab63fa",
           "#FFA15A",
           "#19d3f3",
           "#FF6692",
           "#B6E880",
           "#FF97FF",
           "#FECB52"
          ],
          "font": {
           "color": "#2a3f5f"
          },
          "geo": {
           "bgcolor": "white",
           "lakecolor": "white",
           "landcolor": "#E5ECF6",
           "showlakes": true,
           "showland": true,
           "subunitcolor": "white"
          },
          "hoverlabel": {
           "align": "left"
          },
          "hovermode": "closest",
          "mapbox": {
           "style": "light"
          },
          "paper_bgcolor": "white",
          "plot_bgcolor": "#E5ECF6",
          "polar": {
           "angularaxis": {
            "gridcolor": "white",
            "linecolor": "white",
            "ticks": ""
           },
           "bgcolor": "#E5ECF6",
           "radialaxis": {
            "gridcolor": "white",
            "linecolor": "white",
            "ticks": ""
           }
          },
          "scene": {
           "xaxis": {
            "backgroundcolor": "#E5ECF6",
            "gridcolor": "white",
            "gridwidth": 2,
            "linecolor": "white",
            "showbackground": true,
            "ticks": "",
            "zerolinecolor": "white"
           },
           "yaxis": {
            "backgroundcolor": "#E5ECF6",
            "gridcolor": "white",
            "gridwidth": 2,
            "linecolor": "white",
            "showbackground": true,
            "ticks": "",
            "zerolinecolor": "white"
           },
           "zaxis": {
            "backgroundcolor": "#E5ECF6",
            "gridcolor": "white",
            "gridwidth": 2,
            "linecolor": "white",
            "showbackground": true,
            "ticks": "",
            "zerolinecolor": "white"
           }
          },
          "shapedefaults": {
           "line": {
            "color": "#2a3f5f"
           }
          },
          "ternary": {
           "aaxis": {
            "gridcolor": "white",
            "linecolor": "white",
            "ticks": ""
           },
           "baxis": {
            "gridcolor": "white",
            "linecolor": "white",
            "ticks": ""
           },
           "bgcolor": "#E5ECF6",
           "caxis": {
            "gridcolor": "white",
            "linecolor": "white",
            "ticks": ""
           }
          },
          "title": {
           "x": 0.05
          },
          "xaxis": {
           "automargin": true,
           "gridcolor": "white",
           "linecolor": "white",
           "ticks": "",
           "title": {
            "standoff": 15
           },
           "zerolinecolor": "white",
           "zerolinewidth": 2
          },
          "yaxis": {
           "automargin": true,
           "gridcolor": "white",
           "linecolor": "white",
           "ticks": "",
           "title": {
            "standoff": 15
           },
           "zerolinecolor": "white",
           "zerolinewidth": 2
          }
         }
        },
        "title": {
         "font": {
          "family": "Arial"
         },
         "text": "<b>Peso Contenido<b>"
        },
        "width": 600
       }
      },
      "text/html": [
       "<div>                            <div id=\"a3bcf5b8-c84a-452a-bde6-87faf6deb63a\" class=\"plotly-graph-div\" style=\"height:450px; width:600px;\"></div>            <script type=\"text/javascript\">                require([\"plotly\"], function(Plotly) {                    window.PLOTLYENV=window.PLOTLYENV || {};                                    if (document.getElementById(\"a3bcf5b8-c84a-452a-bde6-87faf6deb63a\")) {                    Plotly.newPlot(                        \"a3bcf5b8-c84a-452a-bde6-87faf6deb63a\",                        [{\"customdata\":[[\"Peliculas\"],[\"Series\"]],\"domain\":{\"x\":[0.0,1.0],\"y\":[0.0,1.0]},\"hovertemplate\":[\"Peliculas\",\"Series\"],\"legendgroup\":\"\",\"marker\":{\"colors\":[\"black\",\"darkblue\"],\"line\":{\"color\":\"white\",\"width\":2.4}},\"name\":\"\",\"showlegend\":false,\"values\":[1120,415],\"type\":\"pie\"}],                        {\"template\":{\"data\":{\"histogram2dcontour\":[{\"type\":\"histogram2dcontour\",\"colorbar\":{\"outlinewidth\":0,\"ticks\":\"\"},\"colorscale\":[[0.0,\"#0d0887\"],[0.1111111111111111,\"#46039f\"],[0.2222222222222222,\"#7201a8\"],[0.3333333333333333,\"#9c179e\"],[0.4444444444444444,\"#bd3786\"],[0.5555555555555556,\"#d8576b\"],[0.6666666666666666,\"#ed7953\"],[0.7777777777777778,\"#fb9f3a\"],[0.8888888888888888,\"#fdca26\"],[1.0,\"#f0f921\"]]}],\"choropleth\":[{\"type\":\"choropleth\",\"colorbar\":{\"outlinewidth\":0,\"ticks\":\"\"}}],\"histogram2d\":[{\"type\":\"histogram2d\",\"colorbar\":{\"outlinewidth\":0,\"ticks\":\"\"},\"colorscale\":[[0.0,\"#0d0887\"],[0.1111111111111111,\"#46039f\"],[0.2222222222222222,\"#7201a8\"],[0.3333333333333333,\"#9c179e\"],[0.4444444444444444,\"#bd3786\"],[0.5555555555555556,\"#d8576b\"],[0.6666666666666666,\"#ed7953\"],[0.7777777777777778,\"#fb9f3a\"],[0.8888888888888888,\"#fdca26\"],[1.0,\"#f0f921\"]]}],\"heatmap\":[{\"type\":\"heatmap\",\"colorbar\":{\"outlinewidth\":0,\"ticks\":\"\"},\"colorscale\":[[0.0,\"#0d0887\"],[0.1111111111111111,\"#46039f\"],[0.2222222222222222,\"#7201a8\"],[0.3333333333333333,\"#9c179e\"],[0.4444444444444444,\"#bd3786\"],[0.5555555555555556,\"#d8576b\"],[0.6666666666666666,\"#ed7953\"],[0.7777777777777778,\"#fb9f3a\"],[0.8888888888888888,\"#fdca26\"],[1.0,\"#f0f921\"]]}],\"heatmapgl\":[{\"type\":\"heatmapgl\",\"colorbar\":{\"outlinewidth\":0,\"ticks\":\"\"},\"colorscale\":[[0.0,\"#0d0887\"],[0.1111111111111111,\"#46039f\"],[0.2222222222222222,\"#7201a8\"],[0.3333333333333333,\"#9c179e\"],[0.4444444444444444,\"#bd3786\"],[0.5555555555555556,\"#d8576b\"],[0.6666666666666666,\"#ed7953\"],[0.7777777777777778,\"#fb9f3a\"],[0.8888888888888888,\"#fdca26\"],[1.0,\"#f0f921\"]]}],\"contourcarpet\":[{\"type\":\"contourcarpet\",\"colorbar\":{\"outlinewidth\":0,\"ticks\":\"\"}}],\"contour\":[{\"type\":\"contour\",\"colorbar\":{\"outlinewidth\":0,\"ticks\":\"\"},\"colorscale\":[[0.0,\"#0d0887\"],[0.1111111111111111,\"#46039f\"],[0.2222222222222222,\"#7201a8\"],[0.3333333333333333,\"#9c179e\"],[0.4444444444444444,\"#bd3786\"],[0.5555555555555556,\"#d8576b\"],[0.6666666666666666,\"#ed7953\"],[0.7777777777777778,\"#fb9f3a\"],[0.8888888888888888,\"#fdca26\"],[1.0,\"#f0f921\"]]}],\"surface\":[{\"type\":\"surface\",\"colorbar\":{\"outlinewidth\":0,\"ticks\":\"\"},\"colorscale\":[[0.0,\"#0d0887\"],[0.1111111111111111,\"#46039f\"],[0.2222222222222222,\"#7201a8\"],[0.3333333333333333,\"#9c179e\"],[0.4444444444444444,\"#bd3786\"],[0.5555555555555556,\"#d8576b\"],[0.6666666666666666,\"#ed7953\"],[0.7777777777777778,\"#fb9f3a\"],[0.8888888888888888,\"#fdca26\"],[1.0,\"#f0f921\"]]}],\"mesh3d\":[{\"type\":\"mesh3d\",\"colorbar\":{\"outlinewidth\":0,\"ticks\":\"\"}}],\"scatter\":[{\"fillpattern\":{\"fillmode\":\"overlay\",\"size\":10,\"solidity\":0.2},\"type\":\"scatter\"}],\"parcoords\":[{\"type\":\"parcoords\",\"line\":{\"colorbar\":{\"outlinewidth\":0,\"ticks\":\"\"}}}],\"scatterpolargl\":[{\"type\":\"scatterpolargl\",\"marker\":{\"colorbar\":{\"outlinewidth\":0,\"ticks\":\"\"}}}],\"bar\":[{\"error_x\":{\"color\":\"#2a3f5f\"},\"error_y\":{\"color\":\"#2a3f5f\"},\"marker\":{\"line\":{\"color\":\"#E5ECF6\",\"width\":0.5},\"pattern\":{\"fillmode\":\"overlay\",\"size\":10,\"solidity\":0.2}},\"type\":\"bar\"}],\"scattergeo\":[{\"type\":\"scattergeo\",\"marker\":{\"colorbar\":{\"outlinewidth\":0,\"ticks\":\"\"}}}],\"scatterpolar\":[{\"type\":\"scatterpolar\",\"marker\":{\"colorbar\":{\"outlinewidth\":0,\"ticks\":\"\"}}}],\"histogram\":[{\"marker\":{\"pattern\":{\"fillmode\":\"overlay\",\"size\":10,\"solidity\":0.2}},\"type\":\"histogram\"}],\"scattergl\":[{\"type\":\"scattergl\",\"marker\":{\"colorbar\":{\"outlinewidth\":0,\"ticks\":\"\"}}}],\"scatter3d\":[{\"type\":\"scatter3d\",\"line\":{\"colorbar\":{\"outlinewidth\":0,\"ticks\":\"\"}},\"marker\":{\"colorbar\":{\"outlinewidth\":0,\"ticks\":\"\"}}}],\"scattermapbox\":[{\"type\":\"scattermapbox\",\"marker\":{\"colorbar\":{\"outlinewidth\":0,\"ticks\":\"\"}}}],\"scatterternary\":[{\"type\":\"scatterternary\",\"marker\":{\"colorbar\":{\"outlinewidth\":0,\"ticks\":\"\"}}}],\"scattercarpet\":[{\"type\":\"scattercarpet\",\"marker\":{\"colorbar\":{\"outlinewidth\":0,\"ticks\":\"\"}}}],\"carpet\":[{\"aaxis\":{\"endlinecolor\":\"#2a3f5f\",\"gridcolor\":\"white\",\"linecolor\":\"white\",\"minorgridcolor\":\"white\",\"startlinecolor\":\"#2a3f5f\"},\"baxis\":{\"endlinecolor\":\"#2a3f5f\",\"gridcolor\":\"white\",\"linecolor\":\"white\",\"minorgridcolor\":\"white\",\"startlinecolor\":\"#2a3f5f\"},\"type\":\"carpet\"}],\"table\":[{\"cells\":{\"fill\":{\"color\":\"#EBF0F8\"},\"line\":{\"color\":\"white\"}},\"header\":{\"fill\":{\"color\":\"#C8D4E3\"},\"line\":{\"color\":\"white\"}},\"type\":\"table\"}],\"barpolar\":[{\"marker\":{\"line\":{\"color\":\"#E5ECF6\",\"width\":0.5},\"pattern\":{\"fillmode\":\"overlay\",\"size\":10,\"solidity\":0.2}},\"type\":\"barpolar\"}],\"pie\":[{\"automargin\":true,\"type\":\"pie\"}]},\"layout\":{\"autotypenumbers\":\"strict\",\"colorway\":[\"#636efa\",\"#EF553B\",\"#00cc96\",\"#ab63fa\",\"#FFA15A\",\"#19d3f3\",\"#FF6692\",\"#B6E880\",\"#FF97FF\",\"#FECB52\"],\"font\":{\"color\":\"#2a3f5f\"},\"hovermode\":\"closest\",\"hoverlabel\":{\"align\":\"left\"},\"paper_bgcolor\":\"white\",\"plot_bgcolor\":\"#E5ECF6\",\"polar\":{\"bgcolor\":\"#E5ECF6\",\"angularaxis\":{\"gridcolor\":\"white\",\"linecolor\":\"white\",\"ticks\":\"\"},\"radialaxis\":{\"gridcolor\":\"white\",\"linecolor\":\"white\",\"ticks\":\"\"}},\"ternary\":{\"bgcolor\":\"#E5ECF6\",\"aaxis\":{\"gridcolor\":\"white\",\"linecolor\":\"white\",\"ticks\":\"\"},\"baxis\":{\"gridcolor\":\"white\",\"linecolor\":\"white\",\"ticks\":\"\"},\"caxis\":{\"gridcolor\":\"white\",\"linecolor\":\"white\",\"ticks\":\"\"}},\"coloraxis\":{\"colorbar\":{\"outlinewidth\":0,\"ticks\":\"\"}},\"colorscale\":{\"sequential\":[[0.0,\"#0d0887\"],[0.1111111111111111,\"#46039f\"],[0.2222222222222222,\"#7201a8\"],[0.3333333333333333,\"#9c179e\"],[0.4444444444444444,\"#bd3786\"],[0.5555555555555556,\"#d8576b\"],[0.6666666666666666,\"#ed7953\"],[0.7777777777777778,\"#fb9f3a\"],[0.8888888888888888,\"#fdca26\"],[1.0,\"#f0f921\"]],\"sequentialminus\":[[0.0,\"#0d0887\"],[0.1111111111111111,\"#46039f\"],[0.2222222222222222,\"#7201a8\"],[0.3333333333333333,\"#9c179e\"],[0.4444444444444444,\"#bd3786\"],[0.5555555555555556,\"#d8576b\"],[0.6666666666666666,\"#ed7953\"],[0.7777777777777778,\"#fb9f3a\"],[0.8888888888888888,\"#fdca26\"],[1.0,\"#f0f921\"]],\"diverging\":[[0,\"#8e0152\"],[0.1,\"#c51b7d\"],[0.2,\"#de77ae\"],[0.3,\"#f1b6da\"],[0.4,\"#fde0ef\"],[0.5,\"#f7f7f7\"],[0.6,\"#e6f5d0\"],[0.7,\"#b8e186\"],[0.8,\"#7fbc41\"],[0.9,\"#4d9221\"],[1,\"#276419\"]]},\"xaxis\":{\"gridcolor\":\"white\",\"linecolor\":\"white\",\"ticks\":\"\",\"title\":{\"standoff\":15},\"zerolinecolor\":\"white\",\"automargin\":true,\"zerolinewidth\":2},\"yaxis\":{\"gridcolor\":\"white\",\"linecolor\":\"white\",\"ticks\":\"\",\"title\":{\"standoff\":15},\"zerolinecolor\":\"white\",\"automargin\":true,\"zerolinewidth\":2},\"scene\":{\"xaxis\":{\"backgroundcolor\":\"#E5ECF6\",\"gridcolor\":\"white\",\"linecolor\":\"white\",\"showbackground\":true,\"ticks\":\"\",\"zerolinecolor\":\"white\",\"gridwidth\":2},\"yaxis\":{\"backgroundcolor\":\"#E5ECF6\",\"gridcolor\":\"white\",\"linecolor\":\"white\",\"showbackground\":true,\"ticks\":\"\",\"zerolinecolor\":\"white\",\"gridwidth\":2},\"zaxis\":{\"backgroundcolor\":\"#E5ECF6\",\"gridcolor\":\"white\",\"linecolor\":\"white\",\"showbackground\":true,\"ticks\":\"\",\"zerolinecolor\":\"white\",\"gridwidth\":2}},\"shapedefaults\":{\"line\":{\"color\":\"#2a3f5f\"}},\"annotationdefaults\":{\"arrowcolor\":\"#2a3f5f\",\"arrowhead\":0,\"arrowwidth\":1},\"geo\":{\"bgcolor\":\"white\",\"landcolor\":\"#E5ECF6\",\"subunitcolor\":\"white\",\"showland\":true,\"showlakes\":true,\"lakecolor\":\"white\"},\"title\":{\"x\":0.05},\"mapbox\":{\"style\":\"light\"}}},\"legend\":{\"tracegroupgap\":0},\"title\":{\"text\":\"<b>Peso Contenido<b>\",\"font\":{\"family\":\"Arial\"}},\"height\":450,\"width\":600,\"font\":{\"family\":\"Arial\"}},                        {\"responsive\": true}                    ).then(function(){\n",
       "                            \n",
       "var gd = document.getElementById('a3bcf5b8-c84a-452a-bde6-87faf6deb63a');\n",
       "var x = new MutationObserver(function (mutations, observer) {{\n",
       "        var display = window.getComputedStyle(gd).display;\n",
       "        if (!display || display === 'none') {{\n",
       "            console.log([gd, 'removed!']);\n",
       "            Plotly.purge(gd);\n",
       "            observer.disconnect();\n",
       "        }}\n",
       "}});\n",
       "\n",
       "// Listen for the removal of the full notebook cells\n",
       "var notebookContainer = gd.closest('#notebook-container');\n",
       "if (notebookContainer) {{\n",
       "    x.observe(notebookContainer, {childList: true});\n",
       "}}\n",
       "\n",
       "// Listen for the clearing of the current output cell\n",
       "var outputEl = gd.closest('.output');\n",
       "if (outputEl) {{\n",
       "    x.observe(outputEl, {childList: true});\n",
       "}}\n",
       "\n",
       "                        })                };                });            </script>        </div>"
      ]
     },
     "metadata": {},
     "output_type": "display_data"
    }
   ],
   "source": [
    "# GRÁFICO PIE SERIES - PELICULAS\n",
    "\n",
    "# Si tuviesemos el numero de capitulos por temporada podríamos estimar una comparacion más realista del contenido\n",
    "# --> (se podría haber sacado con webscrapping)\n",
    "\n",
    "\n",
    "labels = ['Peliculas', 'Series']\n",
    "values =  [disney_peliculas_df.shape[0], disney_series_df.shape[0]]\n",
    "\n",
    "fig = px.pie(values=values, labels=labels, #names= labels,\n",
    "width = 600, height=450,\n",
    "title = \"<b>Peso Contenido<b>\", #hoverinfo=values,\n",
    "color = labels, \n",
    "color_discrete_map={'Peliculas':'black',\n",
    "                                 'Series':'darkblue'}\n",
    ")\n",
    "\n",
    "fig.update_traces(marker=dict(line=dict(color='white', width=2.4)),\n",
    "                    hovertemplate = labels\n",
    ")\n",
    "                 \n",
    "\n",
    "fig.update_layout(font_family = 'Arial', title_font_family='Arial')\n",
    "\n",
    "#color=labels, )\n",
    "fig.show()\n",
    "\n",
    "#color_discrete_sequence=px.colors.sequential.Greys_r\n",
    "#hol=0.5"
   ]
  },
  {
   "cell_type": "markdown",
   "metadata": {},
   "source": [
    "1.3. Fichero Contenidos Disney+"
   ]
  },
  {
   "cell_type": "code",
   "execution_count": 59,
   "metadata": {},
   "outputs": [],
   "source": [
    "#  Pasamos las tablas a un CSV:\n",
    "\n",
    "disney_peliculas_df.to_csv('df_disney_peliculas.csv', encoding='utf-8')\n",
    "disney_series_df.to_csv('df_disney_series.csv', encoding='utf-8')"
   ]
  }
 ],
 "metadata": {
  "interpreter": {
   "hash": "aee8b7b246df8f9039afb4144a1f6fd8d2ca17a180786b69acc140d282b71a49"
  },
  "kernelspec": {
   "display_name": "Python 3.7.4 64-bit",
   "language": "python",
   "name": "python3"
  },
  "language_info": {
   "codemirror_mode": {
    "name": "ipython",
    "version": 3
   },
   "file_extension": ".py",
   "mimetype": "text/x-python",
   "name": "python",
   "nbconvert_exporter": "python",
   "pygments_lexer": "ipython3",
   "version": "3.7.4"
  },
  "orig_nbformat": 4
 },
 "nbformat": 4,
 "nbformat_minor": 2
}
