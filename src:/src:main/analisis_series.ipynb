{
 "cells": [
  {
   "cell_type": "markdown",
   "metadata": {},
   "source": [
    "## **Series**\n",
    "\n",
    "### 2. Análisis EDA Contenido\n",
    "\n",
    "(Mismo análisis que películas)"
   ]
  },
  {
   "cell_type": "code",
   "execution_count": 136,
   "metadata": {},
   "outputs": [],
   "source": [
    "import pandas as pd\n",
    "import numpy as np\n",
    "\n",
    "import matplotlib.pyplot as plt\n",
    "%matplotlib inline\n",
    "import seaborn as sns\n",
    "import plotly.graph_objs as go\n",
    "import plotly.express as px\n",
    "from plotly.subplots import make_subplots"
   ]
  },
  {
   "cell_type": "markdown",
   "metadata": {},
   "source": [
    "DATOS AMAZON:"
   ]
  },
  {
   "cell_type": "code",
   "execution_count": 137,
   "metadata": {},
   "outputs": [
    {
     "name": "stdout",
     "output_type": "stream",
     "text": [
      "Filas, columnas: (1357, 10)\n"
     ]
    },
    {
     "data": {
      "text/html": [
       "<div>\n",
       "<style scoped>\n",
       "    .dataframe tbody tr th:only-of-type {\n",
       "        vertical-align: middle;\n",
       "    }\n",
       "\n",
       "    .dataframe tbody tr th {\n",
       "        vertical-align: top;\n",
       "    }\n",
       "\n",
       "    .dataframe thead th {\n",
       "        text-align: right;\n",
       "    }\n",
       "</style>\n",
       "<table border=\"1\" class=\"dataframe\">\n",
       "  <thead>\n",
       "    <tr style=\"text-align: right;\">\n",
       "      <th></th>\n",
       "      <th>ID</th>\n",
       "      <th>Titulo</th>\n",
       "      <th>Decada</th>\n",
       "      <th>Edad_Recom</th>\n",
       "      <th>Duracion</th>\n",
       "      <th>Generos</th>\n",
       "      <th>Paises_Prod</th>\n",
       "      <th>Temporadas</th>\n",
       "      <th>Imdb_Puntos</th>\n",
       "      <th>Tmdb_Puntos</th>\n",
       "    </tr>\n",
       "  </thead>\n",
       "  <tbody>\n",
       "    <tr>\n",
       "      <th>0</th>\n",
       "      <td>ts20945</td>\n",
       "      <td>The Three Stooges</td>\n",
       "      <td>1930s</td>\n",
       "      <td>7</td>\n",
       "      <td>19</td>\n",
       "      <td>comedy</td>\n",
       "      <td>US</td>\n",
       "      <td>26</td>\n",
       "      <td>8.6</td>\n",
       "      <td>7.6</td>\n",
       "    </tr>\n",
       "    <tr>\n",
       "      <th>1</th>\n",
       "      <td>ts55748</td>\n",
       "      <td>What's My Line?</td>\n",
       "      <td>1950s</td>\n",
       "      <td>9999</td>\n",
       "      <td>30</td>\n",
       "      <td>reality</td>\n",
       "      <td>US</td>\n",
       "      <td>18</td>\n",
       "      <td>8.6</td>\n",
       "      <td>6.9</td>\n",
       "    </tr>\n",
       "    <tr>\n",
       "      <th>2</th>\n",
       "      <td>ts20005</td>\n",
       "      <td>I Love Lucy</td>\n",
       "      <td>1950s</td>\n",
       "      <td>0</td>\n",
       "      <td>30</td>\n",
       "      <td>comedy</td>\n",
       "      <td>US</td>\n",
       "      <td>9</td>\n",
       "      <td>8.5</td>\n",
       "      <td>8.1</td>\n",
       "    </tr>\n",
       "    <tr>\n",
       "      <th>3</th>\n",
       "      <td>ts42867</td>\n",
       "      <td>Mister Rogers' Neighborhood</td>\n",
       "      <td>1960s</td>\n",
       "      <td>7</td>\n",
       "      <td>29</td>\n",
       "      <td>fantasy</td>\n",
       "      <td>US</td>\n",
       "      <td>31</td>\n",
       "      <td>8.7</td>\n",
       "      <td>4.7</td>\n",
       "    </tr>\n",
       "    <tr>\n",
       "      <th>4</th>\n",
       "      <td>ts21930</td>\n",
       "      <td>Lupin the Third</td>\n",
       "      <td>1970s</td>\n",
       "      <td>13</td>\n",
       "      <td>23</td>\n",
       "      <td>scifi</td>\n",
       "      <td>JP</td>\n",
       "      <td>6</td>\n",
       "      <td>7.9</td>\n",
       "      <td>8.0</td>\n",
       "    </tr>\n",
       "  </tbody>\n",
       "</table>\n",
       "</div>"
      ],
      "text/plain": [
       "        ID                       Titulo Decada  Edad_Recom  Duracion  Generos  \\\n",
       "0  ts20945            The Three Stooges  1930s           7        19   comedy   \n",
       "1  ts55748              What's My Line?  1950s        9999        30  reality   \n",
       "2  ts20005                  I Love Lucy  1950s           0        30   comedy   \n",
       "3  ts42867  Mister Rogers' Neighborhood  1960s           7        29  fantasy   \n",
       "4  ts21930              Lupin the Third  1970s          13        23    scifi   \n",
       "\n",
       "  Paises_Prod  Temporadas  Imdb_Puntos  Tmdb_Puntos  \n",
       "0          US          26          8.6          7.6  \n",
       "1          US          18          8.6          6.9  \n",
       "2          US           9          8.5          8.1  \n",
       "3          US          31          8.7          4.7  \n",
       "4          JP           6          7.9          8.0  "
      ]
     },
     "execution_count": 137,
     "metadata": {},
     "output_type": "execute_result"
    }
   ],
   "source": [
    "df_amazon_series = pd.read_csv('../src:data/Data_Amazon/df_amazon_series.csv', index_col=[0])\n",
    "print(\"Filas, columnas:\", df_amazon_series.shape)\n",
    "\n",
    "df_amazon_series.head()"
   ]
  },
  {
   "cell_type": "markdown",
   "metadata": {},
   "source": [
    "DATOS NETFLIX:"
   ]
  },
  {
   "cell_type": "code",
   "execution_count": 138,
   "metadata": {},
   "outputs": [
    {
     "name": "stdout",
     "output_type": "stream",
     "text": [
      "Filas, columnas: (2047, 10)\n"
     ]
    },
    {
     "data": {
      "text/html": [
       "<div>\n",
       "<style scoped>\n",
       "    .dataframe tbody tr th:only-of-type {\n",
       "        vertical-align: middle;\n",
       "    }\n",
       "\n",
       "    .dataframe tbody tr th {\n",
       "        vertical-align: top;\n",
       "    }\n",
       "\n",
       "    .dataframe thead th {\n",
       "        text-align: right;\n",
       "    }\n",
       "</style>\n",
       "<table border=\"1\" class=\"dataframe\">\n",
       "  <thead>\n",
       "    <tr style=\"text-align: right;\">\n",
       "      <th></th>\n",
       "      <th>ID</th>\n",
       "      <th>Titulo</th>\n",
       "      <th>Decada</th>\n",
       "      <th>Edad_Recom</th>\n",
       "      <th>Duracion</th>\n",
       "      <th>Generos</th>\n",
       "      <th>Paises_Prod</th>\n",
       "      <th>Temporadas</th>\n",
       "      <th>Imdb_Puntos</th>\n",
       "      <th>Tmdb_Puntos</th>\n",
       "    </tr>\n",
       "  </thead>\n",
       "  <tbody>\n",
       "    <tr>\n",
       "      <th>0</th>\n",
       "      <td>ts300399</td>\n",
       "      <td>Five Came Back: The Reference Films</td>\n",
       "      <td>1940s</td>\n",
       "      <td>17</td>\n",
       "      <td>48</td>\n",
       "      <td>documentation</td>\n",
       "      <td>US</td>\n",
       "      <td>1</td>\n",
       "      <td>0.6</td>\n",
       "      <td>0.0</td>\n",
       "    </tr>\n",
       "    <tr>\n",
       "      <th>1</th>\n",
       "      <td>ts22164</td>\n",
       "      <td>Monty Python's Flying Circus</td>\n",
       "      <td>1960s</td>\n",
       "      <td>13</td>\n",
       "      <td>30</td>\n",
       "      <td>comedy</td>\n",
       "      <td>GB</td>\n",
       "      <td>4</td>\n",
       "      <td>8.8</td>\n",
       "      <td>8.3</td>\n",
       "    </tr>\n",
       "    <tr>\n",
       "      <th>2</th>\n",
       "      <td>ts45948</td>\n",
       "      <td>Monty Python's Fliegender Zirkus</td>\n",
       "      <td>1970s</td>\n",
       "      <td>17</td>\n",
       "      <td>43</td>\n",
       "      <td>comedy</td>\n",
       "      <td>NaN</td>\n",
       "      <td>1</td>\n",
       "      <td>8.1</td>\n",
       "      <td>7.0</td>\n",
       "    </tr>\n",
       "    <tr>\n",
       "      <th>3</th>\n",
       "      <td>ts20681</td>\n",
       "      <td>Seinfeld</td>\n",
       "      <td>1980s</td>\n",
       "      <td>7</td>\n",
       "      <td>24</td>\n",
       "      <td>comedy</td>\n",
       "      <td>US</td>\n",
       "      <td>9</td>\n",
       "      <td>8.9</td>\n",
       "      <td>8.3</td>\n",
       "    </tr>\n",
       "    <tr>\n",
       "      <th>4</th>\n",
       "      <td>ts22082</td>\n",
       "      <td>Knight Rider</td>\n",
       "      <td>1980s</td>\n",
       "      <td>7</td>\n",
       "      <td>51</td>\n",
       "      <td>action</td>\n",
       "      <td>US</td>\n",
       "      <td>4</td>\n",
       "      <td>6.9</td>\n",
       "      <td>7.5</td>\n",
       "    </tr>\n",
       "  </tbody>\n",
       "</table>\n",
       "</div>"
      ],
      "text/plain": [
       "         ID                               Titulo Decada  Edad_Recom  Duracion  \\\n",
       "0  ts300399  Five Came Back: The Reference Films  1940s          17        48   \n",
       "1   ts22164         Monty Python's Flying Circus  1960s          13        30   \n",
       "2   ts45948     Monty Python's Fliegender Zirkus  1970s          17        43   \n",
       "3   ts20681                             Seinfeld  1980s           7        24   \n",
       "4   ts22082                         Knight Rider  1980s           7        51   \n",
       "\n",
       "         Generos Paises_Prod  Temporadas  Imdb_Puntos  Tmdb_Puntos  \n",
       "0  documentation          US           1          0.6          0.0  \n",
       "1         comedy          GB           4          8.8          8.3  \n",
       "2         comedy         NaN           1          8.1          7.0  \n",
       "3         comedy          US           9          8.9          8.3  \n",
       "4         action          US           4          6.9          7.5  "
      ]
     },
     "execution_count": 138,
     "metadata": {},
     "output_type": "execute_result"
    }
   ],
   "source": [
    "df_netflix_series = pd.read_csv('../src:data/Data_netflix/df_netflix_series.csv', index_col=[0])\n",
    "print(\"Filas, columnas:\", df_netflix_series.shape)\n",
    "\n",
    "df_netflix_series.head()"
   ]
  },
  {
   "cell_type": "markdown",
   "metadata": {},
   "source": [
    "DATOS HBO:\n"
   ]
  },
  {
   "cell_type": "code",
   "execution_count": 139,
   "metadata": {},
   "outputs": [
    {
     "name": "stdout",
     "output_type": "stream",
     "text": [
      "Filas, columnas: (756, 10)\n"
     ]
    },
    {
     "data": {
      "text/html": [
       "<div>\n",
       "<style scoped>\n",
       "    .dataframe tbody tr th:only-of-type {\n",
       "        vertical-align: middle;\n",
       "    }\n",
       "\n",
       "    .dataframe tbody tr th {\n",
       "        vertical-align: top;\n",
       "    }\n",
       "\n",
       "    .dataframe thead th {\n",
       "        text-align: right;\n",
       "    }\n",
       "</style>\n",
       "<table border=\"1\" class=\"dataframe\">\n",
       "  <thead>\n",
       "    <tr style=\"text-align: right;\">\n",
       "      <th></th>\n",
       "      <th>ID</th>\n",
       "      <th>Titulo</th>\n",
       "      <th>Decada</th>\n",
       "      <th>Edad_Recom</th>\n",
       "      <th>Duracion</th>\n",
       "      <th>Generos</th>\n",
       "      <th>Paises_Prod</th>\n",
       "      <th>Temporadas</th>\n",
       "      <th>Imdb_Puntos</th>\n",
       "      <th>Tmdb_Puntos</th>\n",
       "    </tr>\n",
       "  </thead>\n",
       "  <tbody>\n",
       "    <tr>\n",
       "      <th>0</th>\n",
       "      <td>ts225761</td>\n",
       "      <td>Tom and Jerry</td>\n",
       "      <td>1940s</td>\n",
       "      <td>9999</td>\n",
       "      <td>8</td>\n",
       "      <td>animation</td>\n",
       "      <td>US</td>\n",
       "      <td>16</td>\n",
       "      <td>7.7</td>\n",
       "      <td>10.0</td>\n",
       "    </tr>\n",
       "    <tr>\n",
       "      <th>1</th>\n",
       "      <td>ts22230</td>\n",
       "      <td>Scooby-Doo, Where Are You!</td>\n",
       "      <td>1960s</td>\n",
       "      <td>0</td>\n",
       "      <td>23</td>\n",
       "      <td>animation</td>\n",
       "      <td>US</td>\n",
       "      <td>3</td>\n",
       "      <td>7.9</td>\n",
       "      <td>7.9</td>\n",
       "    </tr>\n",
       "    <tr>\n",
       "      <th>2</th>\n",
       "      <td>ts15523</td>\n",
       "      <td>The Flintstones</td>\n",
       "      <td>1960s</td>\n",
       "      <td>0</td>\n",
       "      <td>29</td>\n",
       "      <td>family</td>\n",
       "      <td>US</td>\n",
       "      <td>6</td>\n",
       "      <td>7.5</td>\n",
       "      <td>7.4</td>\n",
       "    </tr>\n",
       "    <tr>\n",
       "      <th>3</th>\n",
       "      <td>ts22243</td>\n",
       "      <td>Sesame Street</td>\n",
       "      <td>1960s</td>\n",
       "      <td>7</td>\n",
       "      <td>51</td>\n",
       "      <td>family</td>\n",
       "      <td>US</td>\n",
       "      <td>52</td>\n",
       "      <td>8.1</td>\n",
       "      <td>7.1</td>\n",
       "    </tr>\n",
       "    <tr>\n",
       "      <th>4</th>\n",
       "      <td>ts20028</td>\n",
       "      <td>The Jetsons</td>\n",
       "      <td>1960s</td>\n",
       "      <td>0</td>\n",
       "      <td>30</td>\n",
       "      <td>animation</td>\n",
       "      <td>US</td>\n",
       "      <td>3</td>\n",
       "      <td>7.0</td>\n",
       "      <td>7.3</td>\n",
       "    </tr>\n",
       "  </tbody>\n",
       "</table>\n",
       "</div>"
      ],
      "text/plain": [
       "         ID                      Titulo Decada  Edad_Recom  Duracion  \\\n",
       "0  ts225761               Tom and Jerry  1940s        9999         8   \n",
       "1   ts22230  Scooby-Doo, Where Are You!  1960s           0        23   \n",
       "2   ts15523             The Flintstones  1960s           0        29   \n",
       "3   ts22243               Sesame Street  1960s           7        51   \n",
       "4   ts20028                 The Jetsons  1960s           0        30   \n",
       "\n",
       "     Generos Paises_Prod  Temporadas  Imdb_Puntos  Tmdb_Puntos  \n",
       "0  animation          US          16          7.7         10.0  \n",
       "1  animation          US           3          7.9          7.9  \n",
       "2     family          US           6          7.5          7.4  \n",
       "3     family          US          52          8.1          7.1  \n",
       "4  animation          US           3          7.0          7.3  "
      ]
     },
     "execution_count": 139,
     "metadata": {},
     "output_type": "execute_result"
    }
   ],
   "source": [
    "df_hbo_series = pd.read_csv('../src:data/Data_hbo/df_hbo_series.csv', index_col=[0])\n",
    "print(\"Filas, columnas:\", df_hbo_series.shape)\n",
    "\n",
    "df_hbo_series.head()"
   ]
  },
  {
   "cell_type": "markdown",
   "metadata": {},
   "source": [
    "DATOS HULU:"
   ]
  },
  {
   "cell_type": "code",
   "execution_count": 140,
   "metadata": {},
   "outputs": [
    {
     "name": "stdout",
     "output_type": "stream",
     "text": [
      "Filas, columnas: (1329, 10)\n"
     ]
    },
    {
     "data": {
      "text/html": [
       "<div>\n",
       "<style scoped>\n",
       "    .dataframe tbody tr th:only-of-type {\n",
       "        vertical-align: middle;\n",
       "    }\n",
       "\n",
       "    .dataframe tbody tr th {\n",
       "        vertical-align: top;\n",
       "    }\n",
       "\n",
       "    .dataframe thead th {\n",
       "        text-align: right;\n",
       "    }\n",
       "</style>\n",
       "<table border=\"1\" class=\"dataframe\">\n",
       "  <thead>\n",
       "    <tr style=\"text-align: right;\">\n",
       "      <th></th>\n",
       "      <th>ID</th>\n",
       "      <th>Titulo</th>\n",
       "      <th>Decada</th>\n",
       "      <th>Edad_Recom</th>\n",
       "      <th>Duracion</th>\n",
       "      <th>Generos</th>\n",
       "      <th>Paises_Prod</th>\n",
       "      <th>Temporadas</th>\n",
       "      <th>Imdb_Puntos</th>\n",
       "      <th>Tmdb_Puntos</th>\n",
       "    </tr>\n",
       "  </thead>\n",
       "  <tbody>\n",
       "    <tr>\n",
       "      <th>0</th>\n",
       "      <td>ts20475</td>\n",
       "      <td>Saturday Night Live</td>\n",
       "      <td>1970s</td>\n",
       "      <td>13</td>\n",
       "      <td>89</td>\n",
       "      <td>music</td>\n",
       "      <td>US</td>\n",
       "      <td>47</td>\n",
       "      <td>8.0</td>\n",
       "      <td>6.9</td>\n",
       "    </tr>\n",
       "    <tr>\n",
       "      <th>1</th>\n",
       "      <td>ts20413</td>\n",
       "      <td>M*A*S*H</td>\n",
       "      <td>1970s</td>\n",
       "      <td>7</td>\n",
       "      <td>26</td>\n",
       "      <td>war</td>\n",
       "      <td>US</td>\n",
       "      <td>11</td>\n",
       "      <td>8.4</td>\n",
       "      <td>8.0</td>\n",
       "    </tr>\n",
       "    <tr>\n",
       "      <th>2</th>\n",
       "      <td>ts20005</td>\n",
       "      <td>I Love Lucy</td>\n",
       "      <td>1950s</td>\n",
       "      <td>0</td>\n",
       "      <td>30</td>\n",
       "      <td>comedy</td>\n",
       "      <td>US</td>\n",
       "      <td>9</td>\n",
       "      <td>8.5</td>\n",
       "      <td>8.1</td>\n",
       "    </tr>\n",
       "    <tr>\n",
       "      <th>3</th>\n",
       "      <td>ts20669</td>\n",
       "      <td>Taxi</td>\n",
       "      <td>1970s</td>\n",
       "      <td>7</td>\n",
       "      <td>25</td>\n",
       "      <td>drama</td>\n",
       "      <td>US</td>\n",
       "      <td>5</td>\n",
       "      <td>7.7</td>\n",
       "      <td>7.3</td>\n",
       "    </tr>\n",
       "    <tr>\n",
       "      <th>4</th>\n",
       "      <td>ts21049</td>\n",
       "      <td>The Mary Tyler Moore Show</td>\n",
       "      <td>1970s</td>\n",
       "      <td>7</td>\n",
       "      <td>28</td>\n",
       "      <td>comedy</td>\n",
       "      <td>US</td>\n",
       "      <td>7</td>\n",
       "      <td>8.2</td>\n",
       "      <td>7.5</td>\n",
       "    </tr>\n",
       "  </tbody>\n",
       "</table>\n",
       "</div>"
      ],
      "text/plain": [
       "        ID                     Titulo Decada  Edad_Recom  Duracion Generos  \\\n",
       "0  ts20475        Saturday Night Live  1970s          13        89   music   \n",
       "1  ts20413                    M*A*S*H  1970s           7        26     war   \n",
       "2  ts20005                I Love Lucy  1950s           0        30  comedy   \n",
       "3  ts20669                       Taxi  1970s           7        25   drama   \n",
       "4  ts21049  The Mary Tyler Moore Show  1970s           7        28  comedy   \n",
       "\n",
       "  Paises_Prod  Temporadas  Imdb_Puntos  Tmdb_Puntos  \n",
       "0          US          47          8.0          6.9  \n",
       "1          US          11          8.4          8.0  \n",
       "2          US           9          8.5          8.1  \n",
       "3          US           5          7.7          7.3  \n",
       "4          US           7          8.2          7.5  "
      ]
     },
     "execution_count": 140,
     "metadata": {},
     "output_type": "execute_result"
    }
   ],
   "source": [
    "df_hulu_series = pd.read_csv('../src:data/Data_hulu/df_hulu_series.csv', index_col=[0])\n",
    "print(\"Filas, columnas:\", df_hulu_series.shape)\n",
    "\n",
    "df_hulu_series.head()"
   ]
  },
  {
   "cell_type": "markdown",
   "metadata": {},
   "source": [
    "DATOS DISNEY:"
   ]
  },
  {
   "cell_type": "code",
   "execution_count": 141,
   "metadata": {},
   "outputs": [
    {
     "name": "stdout",
     "output_type": "stream",
     "text": [
      "Filas, columnas: (415, 10)\n"
     ]
    },
    {
     "data": {
      "text/html": [
       "<div>\n",
       "<style scoped>\n",
       "    .dataframe tbody tr th:only-of-type {\n",
       "        vertical-align: middle;\n",
       "    }\n",
       "\n",
       "    .dataframe tbody tr th {\n",
       "        vertical-align: top;\n",
       "    }\n",
       "\n",
       "    .dataframe thead th {\n",
       "        text-align: right;\n",
       "    }\n",
       "</style>\n",
       "<table border=\"1\" class=\"dataframe\">\n",
       "  <thead>\n",
       "    <tr style=\"text-align: right;\">\n",
       "      <th></th>\n",
       "      <th>ID</th>\n",
       "      <th>Titulo</th>\n",
       "      <th>Decada</th>\n",
       "      <th>Edad_Recom</th>\n",
       "      <th>Duracion</th>\n",
       "      <th>Generos</th>\n",
       "      <th>Paises_Prod</th>\n",
       "      <th>Temporadas</th>\n",
       "      <th>Imdb_Puntos</th>\n",
       "      <th>Tmdb_Puntos</th>\n",
       "    </tr>\n",
       "  </thead>\n",
       "  <tbody>\n",
       "    <tr>\n",
       "      <th>0</th>\n",
       "      <td>ts22470</td>\n",
       "      <td>The Muppet Show</td>\n",
       "      <td>1970s</td>\n",
       "      <td>0</td>\n",
       "      <td>25</td>\n",
       "      <td>comedy</td>\n",
       "      <td>GB</td>\n",
       "      <td>5</td>\n",
       "      <td>8.4</td>\n",
       "      <td>8.1</td>\n",
       "    </tr>\n",
       "    <tr>\n",
       "      <th>1</th>\n",
       "      <td>ts30718</td>\n",
       "      <td>Schoolhouse Rock!</td>\n",
       "      <td>1970s</td>\n",
       "      <td>9999</td>\n",
       "      <td>3</td>\n",
       "      <td>animation</td>\n",
       "      <td>US</td>\n",
       "      <td>7</td>\n",
       "      <td>8.2</td>\n",
       "      <td>7.8</td>\n",
       "    </tr>\n",
       "    <tr>\n",
       "      <th>2</th>\n",
       "      <td>ts28051</td>\n",
       "      <td>The Mickey Mouse Club</td>\n",
       "      <td>1950s</td>\n",
       "      <td>7</td>\n",
       "      <td>31</td>\n",
       "      <td>family</td>\n",
       "      <td>US</td>\n",
       "      <td>3</td>\n",
       "      <td>7.6</td>\n",
       "      <td>5.8</td>\n",
       "    </tr>\n",
       "    <tr>\n",
       "      <th>3</th>\n",
       "      <td>ts24939</td>\n",
       "      <td>Spider-Woman</td>\n",
       "      <td>1970s</td>\n",
       "      <td>7</td>\n",
       "      <td>21</td>\n",
       "      <td>animation</td>\n",
       "      <td>US</td>\n",
       "      <td>1</td>\n",
       "      <td>5.8</td>\n",
       "      <td>8.0</td>\n",
       "    </tr>\n",
       "    <tr>\n",
       "      <th>4</th>\n",
       "      <td>ts27944</td>\n",
       "      <td>Spin and Marty</td>\n",
       "      <td>1950s</td>\n",
       "      <td>9999</td>\n",
       "      <td>12</td>\n",
       "      <td>western</td>\n",
       "      <td>US</td>\n",
       "      <td>1</td>\n",
       "      <td>8.0</td>\n",
       "      <td>8.0</td>\n",
       "    </tr>\n",
       "  </tbody>\n",
       "</table>\n",
       "</div>"
      ],
      "text/plain": [
       "        ID                 Titulo Decada  Edad_Recom  Duracion    Generos  \\\n",
       "0  ts22470        The Muppet Show  1970s           0        25     comedy   \n",
       "1  ts30718      Schoolhouse Rock!  1970s        9999         3  animation   \n",
       "2  ts28051  The Mickey Mouse Club  1950s           7        31     family   \n",
       "3  ts24939           Spider-Woman  1970s           7        21  animation   \n",
       "4  ts27944         Spin and Marty  1950s        9999        12    western   \n",
       "\n",
       "  Paises_Prod  Temporadas  Imdb_Puntos  Tmdb_Puntos  \n",
       "0          GB           5          8.4          8.1  \n",
       "1          US           7          8.2          7.8  \n",
       "2          US           3          7.6          5.8  \n",
       "3          US           1          5.8          8.0  \n",
       "4          US           1          8.0          8.0  "
      ]
     },
     "execution_count": 141,
     "metadata": {},
     "output_type": "execute_result"
    }
   ],
   "source": [
    "df_disney_series = pd.read_csv('../src:data/Data_disney+/df_disney_series.csv', index_col=[0])\n",
    "print(\"Filas, columnas:\", df_disney_series.shape)\n",
    "\n",
    "df_disney_series.head()"
   ]
  },
  {
   "cell_type": "markdown",
   "metadata": {},
   "source": [
    "DATOS PARAMOUNT:"
   ]
  },
  {
   "cell_type": "code",
   "execution_count": 142,
   "metadata": {},
   "outputs": [
    {
     "name": "stdout",
     "output_type": "stream",
     "text": [
      "Filas, columnas: (626, 10)\n"
     ]
    },
    {
     "data": {
      "text/html": [
       "<div>\n",
       "<style scoped>\n",
       "    .dataframe tbody tr th:only-of-type {\n",
       "        vertical-align: middle;\n",
       "    }\n",
       "\n",
       "    .dataframe tbody tr th {\n",
       "        vertical-align: top;\n",
       "    }\n",
       "\n",
       "    .dataframe thead th {\n",
       "        text-align: right;\n",
       "    }\n",
       "</style>\n",
       "<table border=\"1\" class=\"dataframe\">\n",
       "  <thead>\n",
       "    <tr style=\"text-align: right;\">\n",
       "      <th></th>\n",
       "      <th>ID</th>\n",
       "      <th>Titulo</th>\n",
       "      <th>Decada</th>\n",
       "      <th>Edad_Recom</th>\n",
       "      <th>Duracion</th>\n",
       "      <th>Generos</th>\n",
       "      <th>Paises_Prod</th>\n",
       "      <th>Temporadas</th>\n",
       "      <th>Imdb_Puntos</th>\n",
       "      <th>Tmdb_Puntos</th>\n",
       "    </tr>\n",
       "  </thead>\n",
       "  <tbody>\n",
       "    <tr>\n",
       "      <th>0</th>\n",
       "      <td>ts22109</td>\n",
       "      <td>The Twilight Zone</td>\n",
       "      <td>1950s</td>\n",
       "      <td>7</td>\n",
       "      <td>28</td>\n",
       "      <td>scifi</td>\n",
       "      <td>US</td>\n",
       "      <td>5</td>\n",
       "      <td>9.1</td>\n",
       "      <td>8.5</td>\n",
       "    </tr>\n",
       "    <tr>\n",
       "      <th>1</th>\n",
       "      <td>ts21236</td>\n",
       "      <td>Star Trek</td>\n",
       "      <td>1960s</td>\n",
       "      <td>7</td>\n",
       "      <td>50</td>\n",
       "      <td>scifi</td>\n",
       "      <td>US</td>\n",
       "      <td>3</td>\n",
       "      <td>8.4</td>\n",
       "      <td>8.1</td>\n",
       "    </tr>\n",
       "    <tr>\n",
       "      <th>2</th>\n",
       "      <td>ts20005</td>\n",
       "      <td>I Love Lucy</td>\n",
       "      <td>1950s</td>\n",
       "      <td>0</td>\n",
       "      <td>30</td>\n",
       "      <td>comedy</td>\n",
       "      <td>US</td>\n",
       "      <td>9</td>\n",
       "      <td>8.5</td>\n",
       "      <td>8.1</td>\n",
       "    </tr>\n",
       "    <tr>\n",
       "      <th>3</th>\n",
       "      <td>ts21682</td>\n",
       "      <td>Happy Days</td>\n",
       "      <td>1970s</td>\n",
       "      <td>0</td>\n",
       "      <td>24</td>\n",
       "      <td>comedy</td>\n",
       "      <td>US</td>\n",
       "      <td>11</td>\n",
       "      <td>7.3</td>\n",
       "      <td>7.8</td>\n",
       "    </tr>\n",
       "    <tr>\n",
       "      <th>4</th>\n",
       "      <td>ts22170</td>\n",
       "      <td>Gunsmoke</td>\n",
       "      <td>1950s</td>\n",
       "      <td>0</td>\n",
       "      <td>49</td>\n",
       "      <td>action</td>\n",
       "      <td>US</td>\n",
       "      <td>20</td>\n",
       "      <td>8.0</td>\n",
       "      <td>6.8</td>\n",
       "    </tr>\n",
       "  </tbody>\n",
       "</table>\n",
       "</div>"
      ],
      "text/plain": [
       "        ID             Titulo Decada  Edad_Recom  Duracion Generos  \\\n",
       "0  ts22109  The Twilight Zone  1950s           7        28   scifi   \n",
       "1  ts21236          Star Trek  1960s           7        50   scifi   \n",
       "2  ts20005        I Love Lucy  1950s           0        30  comedy   \n",
       "3  ts21682         Happy Days  1970s           0        24  comedy   \n",
       "4  ts22170           Gunsmoke  1950s           0        49  action   \n",
       "\n",
       "  Paises_Prod  Temporadas  Imdb_Puntos  Tmdb_Puntos  \n",
       "0          US           5          9.1          8.5  \n",
       "1          US           3          8.4          8.1  \n",
       "2          US           9          8.5          8.1  \n",
       "3          US          11          7.3          7.8  \n",
       "4          US          20          8.0          6.8  "
      ]
     },
     "execution_count": 142,
     "metadata": {},
     "output_type": "execute_result"
    }
   ],
   "source": [
    "df_paramount_series = pd.read_csv('../src:data/Data_paramount/df_paramount_series.csv', index_col=[0])\n",
    "print(\"Filas, columnas:\", df_paramount_series.shape)\n",
    "\n",
    "df_paramount_series.head()"
   ]
  },
  {
   "cell_type": "code",
   "execution_count": 143,
   "metadata": {},
   "outputs": [],
   "source": [
    "# AÑADIMOS COLUMNA PLATAFORMA PARA DIFERENCIARLAS \n",
    "\n",
    "df_paramount_series.insert(0, 'Plataforma', 'Paramount') \n",
    "df_hulu_series.insert(0, 'Plataforma', 'Hulu')\n",
    "df_netflix_series.insert(0, 'Plataforma', 'Netflix') \n",
    "df_disney_series.insert(0, 'Plataforma', 'Disney') \n",
    "df_amazon_series.insert(0, 'Plataforma', 'Amazon')\n",
    "df_hbo_series.insert(0, 'Plataforma', 'HBO')"
   ]
  },
  {
   "cell_type": "code",
   "execution_count": 144,
   "metadata": {},
   "outputs": [
    {
     "data": {
      "text/html": [
       "<div>\n",
       "<style scoped>\n",
       "    .dataframe tbody tr th:only-of-type {\n",
       "        vertical-align: middle;\n",
       "    }\n",
       "\n",
       "    .dataframe tbody tr th {\n",
       "        vertical-align: top;\n",
       "    }\n",
       "\n",
       "    .dataframe thead th {\n",
       "        text-align: right;\n",
       "    }\n",
       "</style>\n",
       "<table border=\"1\" class=\"dataframe\">\n",
       "  <thead>\n",
       "    <tr style=\"text-align: right;\">\n",
       "      <th></th>\n",
       "      <th>Plataforma</th>\n",
       "      <th>ID</th>\n",
       "      <th>Titulo</th>\n",
       "      <th>Decada</th>\n",
       "      <th>Edad_Recom</th>\n",
       "      <th>Duracion</th>\n",
       "      <th>Generos</th>\n",
       "      <th>Paises_Prod</th>\n",
       "      <th>Temporadas</th>\n",
       "      <th>Imdb_Puntos</th>\n",
       "      <th>Tmdb_Puntos</th>\n",
       "    </tr>\n",
       "  </thead>\n",
       "  <tbody>\n",
       "    <tr>\n",
       "      <th>0</th>\n",
       "      <td>Amazon</td>\n",
       "      <td>ts20945</td>\n",
       "      <td>The Three Stooges</td>\n",
       "      <td>1930s</td>\n",
       "      <td>7</td>\n",
       "      <td>19</td>\n",
       "      <td>comedy</td>\n",
       "      <td>US</td>\n",
       "      <td>26</td>\n",
       "      <td>8.6</td>\n",
       "      <td>7.6</td>\n",
       "    </tr>\n",
       "    <tr>\n",
       "      <th>1</th>\n",
       "      <td>Amazon</td>\n",
       "      <td>ts55748</td>\n",
       "      <td>What's My Line?</td>\n",
       "      <td>1950s</td>\n",
       "      <td>9999</td>\n",
       "      <td>30</td>\n",
       "      <td>reality</td>\n",
       "      <td>US</td>\n",
       "      <td>18</td>\n",
       "      <td>8.6</td>\n",
       "      <td>6.9</td>\n",
       "    </tr>\n",
       "    <tr>\n",
       "      <th>2</th>\n",
       "      <td>Amazon</td>\n",
       "      <td>ts20005</td>\n",
       "      <td>I Love Lucy</td>\n",
       "      <td>1950s</td>\n",
       "      <td>0</td>\n",
       "      <td>30</td>\n",
       "      <td>comedy</td>\n",
       "      <td>US</td>\n",
       "      <td>9</td>\n",
       "      <td>8.5</td>\n",
       "      <td>8.1</td>\n",
       "    </tr>\n",
       "    <tr>\n",
       "      <th>3</th>\n",
       "      <td>Amazon</td>\n",
       "      <td>ts42867</td>\n",
       "      <td>Mister Rogers' Neighborhood</td>\n",
       "      <td>1960s</td>\n",
       "      <td>7</td>\n",
       "      <td>29</td>\n",
       "      <td>fantasy</td>\n",
       "      <td>US</td>\n",
       "      <td>31</td>\n",
       "      <td>8.7</td>\n",
       "      <td>4.7</td>\n",
       "    </tr>\n",
       "    <tr>\n",
       "      <th>4</th>\n",
       "      <td>Amazon</td>\n",
       "      <td>ts21930</td>\n",
       "      <td>Lupin the Third</td>\n",
       "      <td>1970s</td>\n",
       "      <td>13</td>\n",
       "      <td>23</td>\n",
       "      <td>scifi</td>\n",
       "      <td>JP</td>\n",
       "      <td>6</td>\n",
       "      <td>7.9</td>\n",
       "      <td>8.0</td>\n",
       "    </tr>\n",
       "  </tbody>\n",
       "</table>\n",
       "</div>"
      ],
      "text/plain": [
       "  Plataforma       ID                       Titulo Decada  Edad_Recom  \\\n",
       "0     Amazon  ts20945            The Three Stooges  1930s           7   \n",
       "1     Amazon  ts55748              What's My Line?  1950s        9999   \n",
       "2     Amazon  ts20005                  I Love Lucy  1950s           0   \n",
       "3     Amazon  ts42867  Mister Rogers' Neighborhood  1960s           7   \n",
       "4     Amazon  ts21930              Lupin the Third  1970s          13   \n",
       "\n",
       "   Duracion  Generos Paises_Prod  Temporadas  Imdb_Puntos  Tmdb_Puntos  \n",
       "0        19   comedy          US          26          8.6          7.6  \n",
       "1        30  reality          US          18          8.6          6.9  \n",
       "2        30   comedy          US           9          8.5          8.1  \n",
       "3        29  fantasy          US          31          8.7          4.7  \n",
       "4        23    scifi          JP           6          7.9          8.0  "
      ]
     },
     "execution_count": 144,
     "metadata": {},
     "output_type": "execute_result"
    }
   ],
   "source": [
    "# JUNTAMOS TODOS LOS DF --> de momento no nos importan los datos nulos, los iremos tratando según análisis\n",
    "\n",
    "df_todos = pd.concat([df_amazon_series, df_netflix_series, df_hbo_series, df_hulu_series, df_disney_series, df_paramount_series], axis=0).reset_index(drop=True)\n",
    "df_todos.head()"
   ]
  },
  {
   "cell_type": "code",
   "execution_count": 145,
   "metadata": {},
   "outputs": [
    {
     "data": {
      "text/plain": [
       "(6530, 11)"
      ]
     },
     "execution_count": 145,
     "metadata": {},
     "output_type": "execute_result"
    }
   ],
   "source": [
    "df_todos.shape"
   ]
  },
  {
   "cell_type": "code",
   "execution_count": 146,
   "metadata": {},
   "outputs": [
    {
     "data": {
      "text/plain": [
       "True"
      ]
     },
     "execution_count": 146,
     "metadata": {},
     "output_type": "execute_result"
    }
   ],
   "source": [
    "# COMPROBAMOS QUE COINCIDE N DE FILAS\n",
    "\n",
    "df_todos.shape[0] == df_amazon_series.shape[0] + df_netflix_series.shape[0] + df_hbo_series.shape[0] + df_hulu_series.shape[0] + df_disney_series.shape[0] + df_paramount_series.shape[0]"
   ]
  },
  {
   "cell_type": "markdown",
   "metadata": {},
   "source": [
    "----"
   ]
  },
  {
   "cell_type": "markdown",
   "metadata": {},
   "source": [
    "**2.1.: Decadas Contenido**"
   ]
  },
  {
   "cell_type": "code",
   "execution_count": 147,
   "metadata": {},
   "outputs": [],
   "source": [
    "# PREPARACION DATOS PARA GRAFICO CONTENIDO POR DECADA DE ESTRENO\n",
    "\n",
    "# DECADAS - df plataforma/decada/titulo\n",
    "\n",
    "decadas = df_todos[['Plataforma', 'Decada', 'Titulo']]\n",
    "decadas = decadas.groupby(by=['Plataforma', 'Decada']).count()\n",
    "decadas.head()\n",
    "\n",
    "# Al tener Q de contenido distintos, calculamos el peso de cada década por plataforma\n",
    "\n",
    "def peso_decada(df, plataforma):\n",
    "\n",
    "    df_plataforma = df.loc[plataforma]\n",
    "    df_plataforma['Titulo'] = round(df_plataforma['Titulo'] / df_plataforma['Titulo'].sum()*100, 2)\n",
    "\n",
    "    return df_plataforma\n",
    "\n",
    "decadas_amazon = peso_decada(decadas, 'Amazon')\n",
    "decadas_netflix = peso_decada(decadas, 'Netflix')\n",
    "decadas_hbo = peso_decada(decadas, 'HBO')\n",
    "decadas_hulu = peso_decada(decadas, 'Hulu')\n",
    "decadas_disney = peso_decada(decadas, 'Disney')\n",
    "decadas_paramount = peso_decada(decadas, 'Paramount')"
   ]
  },
  {
   "cell_type": "code",
   "execution_count": 148,
   "metadata": {},
   "outputs": [],
   "source": [
    "# UNIMOS LOS DATAFRAMES DE CADA DECADA-N TITULOS DE CADA PLATAFORMA PARA GRAFICO\n",
    "\n",
    "data_dec = decadas_amazon.merge(decadas_netflix, on='Decada', how='outer', suffixes=('Decada_Amazon', 'Decada_Netflix'))\\\n",
    "    .merge(decadas_hbo, on='Decada',how='outer', suffixes=('Decada_Netflix', 'Decada_HBO'))\\\n",
    "        .merge(decadas_hulu, on='Decada',how='outer', suffixes=('Decada_HBO', 'Decada_hulu'))\\\n",
    "            .merge(decadas_disney,on='Decada',how='outer', suffixes=('Decada_hulu', 'Decada_Disney'))\\\n",
    "                .merge(decadas_paramount, on='Decada',how='outer',suffixes=('Decada_Disney', 'Decada_Paramount'))\n",
    "data_dec.fillna(0, inplace=True)\n",
    "\n",
    "# renombramos las columnas\n",
    "data_dec.columns = ['_Amazon', '_Netflix', '_HBO', '_hulu', '_Disney', '_Paramount']\n",
    "data_dec = data_dec.sort_values(by='Decada', ascending=True)"
   ]
  },
  {
   "cell_type": "code",
   "execution_count": 149,
   "metadata": {},
   "outputs": [
    {
     "data": {
      "text/plain": [
       "Index(['1930s', '1940s', '1950s', '1960s', '1970s', '1980s', '1990s', '2000s',\n",
       "       '2010s', '2020s'],\n",
       "      dtype='object', name='Decada')"
      ]
     },
     "execution_count": 149,
     "metadata": {},
     "output_type": "execute_result"
    }
   ],
   "source": [
    "data_dec.index\n"
   ]
  },
  {
   "cell_type": "code",
   "execution_count": 150,
   "metadata": {},
   "outputs": [
    {
     "data": {
      "application/vnd.plotly.v1+json": {
       "config": {
        "plotlyServerURL": "https://plot.ly"
       },
       "data": [
        {
         "hovertemplate": "variable=_Amazon<br>Decada=%{x}<br>value=%{y}<extra></extra>",
         "legendgroup": "_Amazon",
         "line": {
          "color": "#636efa",
          "dash": "solid"
         },
         "marker": {
          "symbol": "circle"
         },
         "mode": "lines+markers",
         "name": "_Amazon",
         "orientation": "v",
         "showlegend": true,
         "type": "scatter",
         "x": [
          "1930s",
          "1940s",
          "1950s",
          "1960s",
          "1970s",
          "1980s",
          "1990s",
          "2000s",
          "2010s",
          "2020s"
         ],
         "xaxis": "x",
         "y": [
          0.07,
          0,
          0.81,
          0.81,
          0.96,
          2.65,
          4.27,
          14.59,
          53.43,
          22.4
         ],
         "yaxis": "y"
        },
        {
         "hovertemplate": "variable=_Netflix<br>Decada=%{x}<br>value=%{y}<extra></extra>",
         "legendgroup": "_Netflix",
         "line": {
          "color": "#EF553B",
          "dash": "solid"
         },
         "marker": {
          "symbol": "circle"
         },
         "mode": "lines+markers",
         "name": "_Netflix",
         "orientation": "v",
         "showlegend": true,
         "type": "scatter",
         "x": [
          "1930s",
          "1940s",
          "1950s",
          "1960s",
          "1970s",
          "1980s",
          "1990s",
          "2000s",
          "2010s",
          "2020s"
         ],
         "xaxis": "x",
         "y": [
          0,
          0.05,
          0,
          0.05,
          0.05,
          0.44,
          1.12,
          4.93,
          58.28,
          35.08
         ],
         "yaxis": "y"
        },
        {
         "hovertemplate": "variable=_HBO<br>Decada=%{x}<br>value=%{y}<extra></extra>",
         "legendgroup": "_HBO",
         "line": {
          "color": "#00cc96",
          "dash": "solid"
         },
         "marker": {
          "symbol": "circle"
         },
         "mode": "lines+markers",
         "name": "_HBO",
         "orientation": "v",
         "showlegend": true,
         "type": "scatter",
         "x": [
          "1930s",
          "1940s",
          "1950s",
          "1960s",
          "1970s",
          "1980s",
          "1990s",
          "2000s",
          "2010s",
          "2020s"
         ],
         "xaxis": "x",
         "y": [
          0,
          0.13,
          0,
          0.79,
          0.4,
          0.93,
          6.22,
          14.81,
          45.5,
          31.22
         ],
         "yaxis": "y"
        },
        {
         "hovertemplate": "variable=_hulu<br>Decada=%{x}<br>value=%{y}<extra></extra>",
         "legendgroup": "_hulu",
         "line": {
          "color": "#ab63fa",
          "dash": "solid"
         },
         "marker": {
          "symbol": "circle"
         },
         "mode": "lines+markers",
         "name": "_hulu",
         "orientation": "v",
         "showlegend": true,
         "type": "scatter",
         "x": [
          "1930s",
          "1940s",
          "1950s",
          "1960s",
          "1970s",
          "1980s",
          "1990s",
          "2000s",
          "2010s",
          "2020s"
         ],
         "xaxis": "x",
         "y": [
          0,
          0,
          0.15,
          0.23,
          0.45,
          1.58,
          5.34,
          19.04,
          56.13,
          17.08
         ],
         "yaxis": "y"
        },
        {
         "hovertemplate": "variable=_Disney<br>Decada=%{x}<br>value=%{y}<extra></extra>",
         "legendgroup": "_Disney",
         "line": {
          "color": "#FFA15A",
          "dash": "solid"
         },
         "marker": {
          "symbol": "circle"
         },
         "mode": "lines+markers",
         "name": "_Disney",
         "orientation": "v",
         "showlegend": true,
         "type": "scatter",
         "x": [
          "1930s",
          "1940s",
          "1950s",
          "1960s",
          "1970s",
          "1980s",
          "1990s",
          "2000s",
          "2010s",
          "2020s"
         ],
         "xaxis": "x",
         "y": [
          0,
          0,
          0.48,
          0,
          0.72,
          2.41,
          6.99,
          9.16,
          51.57,
          28.67
         ],
         "yaxis": "y"
        },
        {
         "hovertemplate": "variable=_Paramount<br>Decada=%{x}<br>value=%{y}<extra></extra>",
         "legendgroup": "_Paramount",
         "line": {
          "color": "#19d3f3",
          "dash": "solid"
         },
         "marker": {
          "symbol": "circle"
         },
         "mode": "lines+markers",
         "name": "_Paramount",
         "orientation": "v",
         "showlegend": true,
         "type": "scatter",
         "x": [
          "1930s",
          "1940s",
          "1950s",
          "1960s",
          "1970s",
          "1980s",
          "1990s",
          "2000s",
          "2010s",
          "2020s"
         ],
         "xaxis": "x",
         "y": [
          0,
          0,
          0.48,
          0.8,
          0.96,
          1.92,
          9.42,
          14.7,
          59.11,
          12.62
         ],
         "yaxis": "y"
        }
       ],
       "layout": {
        "font": {
         "color": "#FFFFFF",
         "family": "Arial"
        },
        "legend": {
         "title": {
          "text": "variable"
         },
         "tracegroupgap": 0
        },
        "paper_bgcolor": "#000000",
        "plot_bgcolor": "#000000",
        "shapes": [
         {
          "line": {
           "color": "grey",
           "dash": "dash",
           "width": 1
          },
          "type": "line",
          "x0": 0,
          "x1": 0,
          "xref": "x",
          "y0": 0,
          "y1": 1,
          "yref": "y domain"
         },
         {
          "line": {
           "color": "grey",
           "dash": "dash",
           "width": 1
          },
          "type": "line",
          "x0": 1,
          "x1": 1,
          "xref": "x",
          "y0": 0,
          "y1": 1,
          "yref": "y domain"
         },
         {
          "line": {
           "color": "grey",
           "dash": "dash",
           "width": 1
          },
          "type": "line",
          "x0": 2,
          "x1": 2,
          "xref": "x",
          "y0": 0,
          "y1": 1,
          "yref": "y domain"
         },
         {
          "line": {
           "color": "grey",
           "dash": "dash",
           "width": 1
          },
          "type": "line",
          "x0": 3,
          "x1": 3,
          "xref": "x",
          "y0": 0,
          "y1": 1,
          "yref": "y domain"
         },
         {
          "line": {
           "color": "grey",
           "dash": "dash",
           "width": 1
          },
          "type": "line",
          "x0": 4,
          "x1": 4,
          "xref": "x",
          "y0": 0,
          "y1": 1,
          "yref": "y domain"
         },
         {
          "line": {
           "color": "grey",
           "dash": "dash",
           "width": 1
          },
          "type": "line",
          "x0": 5,
          "x1": 5,
          "xref": "x",
          "y0": 0,
          "y1": 1,
          "yref": "y domain"
         },
         {
          "line": {
           "color": "grey",
           "dash": "dash",
           "width": 1
          },
          "type": "line",
          "x0": 6,
          "x1": 6,
          "xref": "x",
          "y0": 0,
          "y1": 1,
          "yref": "y domain"
         },
         {
          "line": {
           "color": "grey",
           "dash": "dash",
           "width": 1
          },
          "type": "line",
          "x0": 7,
          "x1": 7,
          "xref": "x",
          "y0": 0,
          "y1": 1,
          "yref": "y domain"
         },
         {
          "line": {
           "color": "grey",
           "dash": "dash",
           "width": 1
          },
          "type": "line",
          "x0": 8,
          "x1": 8,
          "xref": "x",
          "y0": 0,
          "y1": 1,
          "yref": "y domain"
         },
         {
          "line": {
           "color": "grey",
           "dash": "dash",
           "width": 1
          },
          "type": "line",
          "x0": 9,
          "x1": 9,
          "xref": "x",
          "y0": 0,
          "y1": 1,
          "yref": "y domain"
         }
        ],
        "template": {
         "data": {
          "bar": [
           {
            "error_x": {
             "color": "#2a3f5f"
            },
            "error_y": {
             "color": "#2a3f5f"
            },
            "marker": {
             "line": {
              "color": "#E5ECF6",
              "width": 0.5
             },
             "pattern": {
              "fillmode": "overlay",
              "size": 10,
              "solidity": 0.2
             }
            },
            "type": "bar"
           }
          ],
          "barpolar": [
           {
            "marker": {
             "line": {
              "color": "#E5ECF6",
              "width": 0.5
             },
             "pattern": {
              "fillmode": "overlay",
              "size": 10,
              "solidity": 0.2
             }
            },
            "type": "barpolar"
           }
          ],
          "carpet": [
           {
            "aaxis": {
             "endlinecolor": "#2a3f5f",
             "gridcolor": "white",
             "linecolor": "white",
             "minorgridcolor": "white",
             "startlinecolor": "#2a3f5f"
            },
            "baxis": {
             "endlinecolor": "#2a3f5f",
             "gridcolor": "white",
             "linecolor": "white",
             "minorgridcolor": "white",
             "startlinecolor": "#2a3f5f"
            },
            "type": "carpet"
           }
          ],
          "choropleth": [
           {
            "colorbar": {
             "outlinewidth": 0,
             "ticks": ""
            },
            "type": "choropleth"
           }
          ],
          "contour": [
           {
            "colorbar": {
             "outlinewidth": 0,
             "ticks": ""
            },
            "colorscale": [
             [
              0,
              "#0d0887"
             ],
             [
              0.1111111111111111,
              "#46039f"
             ],
             [
              0.2222222222222222,
              "#7201a8"
             ],
             [
              0.3333333333333333,
              "#9c179e"
             ],
             [
              0.4444444444444444,
              "#bd3786"
             ],
             [
              0.5555555555555556,
              "#d8576b"
             ],
             [
              0.6666666666666666,
              "#ed7953"
             ],
             [
              0.7777777777777778,
              "#fb9f3a"
             ],
             [
              0.8888888888888888,
              "#fdca26"
             ],
             [
              1,
              "#f0f921"
             ]
            ],
            "type": "contour"
           }
          ],
          "contourcarpet": [
           {
            "colorbar": {
             "outlinewidth": 0,
             "ticks": ""
            },
            "type": "contourcarpet"
           }
          ],
          "heatmap": [
           {
            "colorbar": {
             "outlinewidth": 0,
             "ticks": ""
            },
            "colorscale": [
             [
              0,
              "#0d0887"
             ],
             [
              0.1111111111111111,
              "#46039f"
             ],
             [
              0.2222222222222222,
              "#7201a8"
             ],
             [
              0.3333333333333333,
              "#9c179e"
             ],
             [
              0.4444444444444444,
              "#bd3786"
             ],
             [
              0.5555555555555556,
              "#d8576b"
             ],
             [
              0.6666666666666666,
              "#ed7953"
             ],
             [
              0.7777777777777778,
              "#fb9f3a"
             ],
             [
              0.8888888888888888,
              "#fdca26"
             ],
             [
              1,
              "#f0f921"
             ]
            ],
            "type": "heatmap"
           }
          ],
          "heatmapgl": [
           {
            "colorbar": {
             "outlinewidth": 0,
             "ticks": ""
            },
            "colorscale": [
             [
              0,
              "#0d0887"
             ],
             [
              0.1111111111111111,
              "#46039f"
             ],
             [
              0.2222222222222222,
              "#7201a8"
             ],
             [
              0.3333333333333333,
              "#9c179e"
             ],
             [
              0.4444444444444444,
              "#bd3786"
             ],
             [
              0.5555555555555556,
              "#d8576b"
             ],
             [
              0.6666666666666666,
              "#ed7953"
             ],
             [
              0.7777777777777778,
              "#fb9f3a"
             ],
             [
              0.8888888888888888,
              "#fdca26"
             ],
             [
              1,
              "#f0f921"
             ]
            ],
            "type": "heatmapgl"
           }
          ],
          "histogram": [
           {
            "marker": {
             "pattern": {
              "fillmode": "overlay",
              "size": 10,
              "solidity": 0.2
             }
            },
            "type": "histogram"
           }
          ],
          "histogram2d": [
           {
            "colorbar": {
             "outlinewidth": 0,
             "ticks": ""
            },
            "colorscale": [
             [
              0,
              "#0d0887"
             ],
             [
              0.1111111111111111,
              "#46039f"
             ],
             [
              0.2222222222222222,
              "#7201a8"
             ],
             [
              0.3333333333333333,
              "#9c179e"
             ],
             [
              0.4444444444444444,
              "#bd3786"
             ],
             [
              0.5555555555555556,
              "#d8576b"
             ],
             [
              0.6666666666666666,
              "#ed7953"
             ],
             [
              0.7777777777777778,
              "#fb9f3a"
             ],
             [
              0.8888888888888888,
              "#fdca26"
             ],
             [
              1,
              "#f0f921"
             ]
            ],
            "type": "histogram2d"
           }
          ],
          "histogram2dcontour": [
           {
            "colorbar": {
             "outlinewidth": 0,
             "ticks": ""
            },
            "colorscale": [
             [
              0,
              "#0d0887"
             ],
             [
              0.1111111111111111,
              "#46039f"
             ],
             [
              0.2222222222222222,
              "#7201a8"
             ],
             [
              0.3333333333333333,
              "#9c179e"
             ],
             [
              0.4444444444444444,
              "#bd3786"
             ],
             [
              0.5555555555555556,
              "#d8576b"
             ],
             [
              0.6666666666666666,
              "#ed7953"
             ],
             [
              0.7777777777777778,
              "#fb9f3a"
             ],
             [
              0.8888888888888888,
              "#fdca26"
             ],
             [
              1,
              "#f0f921"
             ]
            ],
            "type": "histogram2dcontour"
           }
          ],
          "mesh3d": [
           {
            "colorbar": {
             "outlinewidth": 0,
             "ticks": ""
            },
            "type": "mesh3d"
           }
          ],
          "parcoords": [
           {
            "line": {
             "colorbar": {
              "outlinewidth": 0,
              "ticks": ""
             }
            },
            "type": "parcoords"
           }
          ],
          "pie": [
           {
            "automargin": true,
            "type": "pie"
           }
          ],
          "scatter": [
           {
            "fillpattern": {
             "fillmode": "overlay",
             "size": 10,
             "solidity": 0.2
            },
            "type": "scatter"
           }
          ],
          "scatter3d": [
           {
            "line": {
             "colorbar": {
              "outlinewidth": 0,
              "ticks": ""
             }
            },
            "marker": {
             "colorbar": {
              "outlinewidth": 0,
              "ticks": ""
             }
            },
            "type": "scatter3d"
           }
          ],
          "scattercarpet": [
           {
            "marker": {
             "colorbar": {
              "outlinewidth": 0,
              "ticks": ""
             }
            },
            "type": "scattercarpet"
           }
          ],
          "scattergeo": [
           {
            "marker": {
             "colorbar": {
              "outlinewidth": 0,
              "ticks": ""
             }
            },
            "type": "scattergeo"
           }
          ],
          "scattergl": [
           {
            "marker": {
             "colorbar": {
              "outlinewidth": 0,
              "ticks": ""
             }
            },
            "type": "scattergl"
           }
          ],
          "scattermapbox": [
           {
            "marker": {
             "colorbar": {
              "outlinewidth": 0,
              "ticks": ""
             }
            },
            "type": "scattermapbox"
           }
          ],
          "scatterpolar": [
           {
            "marker": {
             "colorbar": {
              "outlinewidth": 0,
              "ticks": ""
             }
            },
            "type": "scatterpolar"
           }
          ],
          "scatterpolargl": [
           {
            "marker": {
             "colorbar": {
              "outlinewidth": 0,
              "ticks": ""
             }
            },
            "type": "scatterpolargl"
           }
          ],
          "scatterternary": [
           {
            "marker": {
             "colorbar": {
              "outlinewidth": 0,
              "ticks": ""
             }
            },
            "type": "scatterternary"
           }
          ],
          "surface": [
           {
            "colorbar": {
             "outlinewidth": 0,
             "ticks": ""
            },
            "colorscale": [
             [
              0,
              "#0d0887"
             ],
             [
              0.1111111111111111,
              "#46039f"
             ],
             [
              0.2222222222222222,
              "#7201a8"
             ],
             [
              0.3333333333333333,
              "#9c179e"
             ],
             [
              0.4444444444444444,
              "#bd3786"
             ],
             [
              0.5555555555555556,
              "#d8576b"
             ],
             [
              0.6666666666666666,
              "#ed7953"
             ],
             [
              0.7777777777777778,
              "#fb9f3a"
             ],
             [
              0.8888888888888888,
              "#fdca26"
             ],
             [
              1,
              "#f0f921"
             ]
            ],
            "type": "surface"
           }
          ],
          "table": [
           {
            "cells": {
             "fill": {
              "color": "#EBF0F8"
             },
             "line": {
              "color": "white"
             }
            },
            "header": {
             "fill": {
              "color": "#C8D4E3"
             },
             "line": {
              "color": "white"
             }
            },
            "type": "table"
           }
          ]
         },
         "layout": {
          "annotationdefaults": {
           "arrowcolor": "#2a3f5f",
           "arrowhead": 0,
           "arrowwidth": 1
          },
          "autotypenumbers": "strict",
          "coloraxis": {
           "colorbar": {
            "outlinewidth": 0,
            "ticks": ""
           }
          },
          "colorscale": {
           "diverging": [
            [
             0,
             "#8e0152"
            ],
            [
             0.1,
             "#c51b7d"
            ],
            [
             0.2,
             "#de77ae"
            ],
            [
             0.3,
             "#f1b6da"
            ],
            [
             0.4,
             "#fde0ef"
            ],
            [
             0.5,
             "#f7f7f7"
            ],
            [
             0.6,
             "#e6f5d0"
            ],
            [
             0.7,
             "#b8e186"
            ],
            [
             0.8,
             "#7fbc41"
            ],
            [
             0.9,
             "#4d9221"
            ],
            [
             1,
             "#276419"
            ]
           ],
           "sequential": [
            [
             0,
             "#0d0887"
            ],
            [
             0.1111111111111111,
             "#46039f"
            ],
            [
             0.2222222222222222,
             "#7201a8"
            ],
            [
             0.3333333333333333,
             "#9c179e"
            ],
            [
             0.4444444444444444,
             "#bd3786"
            ],
            [
             0.5555555555555556,
             "#d8576b"
            ],
            [
             0.6666666666666666,
             "#ed7953"
            ],
            [
             0.7777777777777778,
             "#fb9f3a"
            ],
            [
             0.8888888888888888,
             "#fdca26"
            ],
            [
             1,
             "#f0f921"
            ]
           ],
           "sequentialminus": [
            [
             0,
             "#0d0887"
            ],
            [
             0.1111111111111111,
             "#46039f"
            ],
            [
             0.2222222222222222,
             "#7201a8"
            ],
            [
             0.3333333333333333,
             "#9c179e"
            ],
            [
             0.4444444444444444,
             "#bd3786"
            ],
            [
             0.5555555555555556,
             "#d8576b"
            ],
            [
             0.6666666666666666,
             "#ed7953"
            ],
            [
             0.7777777777777778,
             "#fb9f3a"
            ],
            [
             0.8888888888888888,
             "#fdca26"
            ],
            [
             1,
             "#f0f921"
            ]
           ]
          },
          "colorway": [
           "#636efa",
           "#EF553B",
           "#00cc96",
           "#ab63fa",
           "#FFA15A",
           "#19d3f3",
           "#FF6692",
           "#B6E880",
           "#FF97FF",
           "#FECB52"
          ],
          "font": {
           "color": "#2a3f5f"
          },
          "geo": {
           "bgcolor": "white",
           "lakecolor": "white",
           "landcolor": "#E5ECF6",
           "showlakes": true,
           "showland": true,
           "subunitcolor": "white"
          },
          "hoverlabel": {
           "align": "left"
          },
          "hovermode": "closest",
          "mapbox": {
           "style": "light"
          },
          "paper_bgcolor": "white",
          "plot_bgcolor": "#E5ECF6",
          "polar": {
           "angularaxis": {
            "gridcolor": "white",
            "linecolor": "white",
            "ticks": ""
           },
           "bgcolor": "#E5ECF6",
           "radialaxis": {
            "gridcolor": "white",
            "linecolor": "white",
            "ticks": ""
           }
          },
          "scene": {
           "xaxis": {
            "backgroundcolor": "#E5ECF6",
            "gridcolor": "white",
            "gridwidth": 2,
            "linecolor": "white",
            "showbackground": true,
            "ticks": "",
            "zerolinecolor": "white"
           },
           "yaxis": {
            "backgroundcolor": "#E5ECF6",
            "gridcolor": "white",
            "gridwidth": 2,
            "linecolor": "white",
            "showbackground": true,
            "ticks": "",
            "zerolinecolor": "white"
           },
           "zaxis": {
            "backgroundcolor": "#E5ECF6",
            "gridcolor": "white",
            "gridwidth": 2,
            "linecolor": "white",
            "showbackground": true,
            "ticks": "",
            "zerolinecolor": "white"
           }
          },
          "shapedefaults": {
           "line": {
            "color": "#2a3f5f"
           }
          },
          "ternary": {
           "aaxis": {
            "gridcolor": "white",
            "linecolor": "white",
            "ticks": ""
           },
           "baxis": {
            "gridcolor": "white",
            "linecolor": "white",
            "ticks": ""
           },
           "bgcolor": "#E5ECF6",
           "caxis": {
            "gridcolor": "white",
            "linecolor": "white",
            "ticks": ""
           }
          },
          "title": {
           "x": 0.05
          },
          "xaxis": {
           "automargin": true,
           "gridcolor": "white",
           "linecolor": "white",
           "ticks": "",
           "title": {
            "standoff": 15
           },
           "zerolinecolor": "white",
           "zerolinewidth": 2
          },
          "yaxis": {
           "automargin": true,
           "gridcolor": "white",
           "linecolor": "white",
           "ticks": "",
           "title": {
            "standoff": 15
           },
           "zerolinecolor": "white",
           "zerolinewidth": 2
          }
         }
        },
        "title": {
         "font": {
          "family": "Arial"
         },
         "text": "<b>Contenido - Década<b>"
        },
        "xaxis": {
         "anchor": "y",
         "domain": [
          0,
          1
         ],
         "showgrid": false,
         "showticklabels": true,
         "title": {
          "text": "Decada"
         },
         "type": "category",
         "zeroline": false
        },
        "yaxis": {
         "anchor": "x",
         "domain": [
          0,
          1
         ],
         "title": {
          "text": "value"
         },
         "visible": false
        }
       }
      }
     },
     "metadata": {},
     "output_type": "display_data"
    }
   ],
   "source": [
    "# GRAFICO Q CONTENIDO POR DÉCADAS: \n",
    "# Lineal -no veía bien diferencias con el histograma, muy solapado - para ver la tendencia y evolucion de la Q de contenido\n",
    "\n",
    "fig = px.line(data_dec, x=data_dec.index, y = data_dec.columns,\n",
    "title = \"<b>Contenido - Década<b>\", markers = True\n",
    ")  \n",
    "\n",
    "for x in range(10):\n",
    "    fig.add_vline(x=x, line_width=1, line_dash=\"dash\", line_color=\"grey\")\n",
    "\n",
    "fig.update_layout(font_family = 'Arial', title_font_family='Arial', font_color = '#FFFFFF', plot_bgcolor='#000000', paper_bgcolor='#000000')\n",
    "\n",
    "fig.update_xaxes(type = 'category',\n",
    "    showticklabels=True,\n",
    "    zeroline = False,\n",
    "    showgrid = False\n",
    ")\n",
    "\n",
    "fig.update_yaxes(visible = False)\n",
    "fig.show()\n",
    "\n",
    "# Repartición del contenido muy similar, Netflix es la que tiene un % mayor de contenido estrenado estos dos últimos años en su catálogo,\n",
    "# seguido de HBO y Disney\n",
    "# Paramount la que menos"
   ]
  },
  {
   "cell_type": "markdown",
   "metadata": {},
   "source": [
    "---"
   ]
  },
  {
   "cell_type": "markdown",
   "metadata": {},
   "source": [
    "**2.2.: Contenido**"
   ]
  },
  {
   "cell_type": "code",
   "execution_count": 151,
   "metadata": {},
   "outputs": [
    {
     "data": {
      "application/vnd.plotly.v1+json": {
       "config": {
        "plotlyServerURL": "https://plot.ly"
       },
       "data": [
        {
         "customdata": [
          [
           "Amazon"
          ],
          [
           "Netflix"
          ],
          [
           "HBO"
          ],
          [
           "hulu"
          ],
          [
           "Disney"
          ],
          [
           "Paramount"
          ]
         ],
         "domain": {
          "x": [
           0,
           1
          ],
          "y": [
           0,
           1
          ]
         },
         "hovertemplate": [
          "0.20781010719754978",
          "0.3134762633996937",
          "0.11577335375191425",
          "0.20352220520673814",
          "0.06355283307810107",
          "0.09586523736600307"
         ],
         "hovertext": [
          "Amazon",
          "Netflix",
          "HBO",
          "hulu",
          "Disney",
          "Paramount"
         ],
         "labels": [
          "Amazon",
          "Netflix",
          "HBO",
          "hulu",
          "Disney",
          "Paramount"
         ],
         "legendgroup": "",
         "marker": {
          "colors": [
           "#9B9B9B",
           "#D10600",
           "#460076",
           "#98FF93",
           "#3800C2",
           "#FFFFFF"
          ],
          "line": {
           "color": "black",
           "width": 0.5
          }
         },
         "name": "",
         "showlegend": true,
         "textinfo": "label+text",
         "textposition": "inside",
         "type": "pie",
         "values": [
          0.20781010719754978,
          0.3134762633996937,
          0.11577335375191425,
          0.20352220520673814,
          0.06355283307810107,
          0.09586523736600307
         ]
        }
       ],
       "layout": {
        "font": {
         "color": "#FFFFFF",
         "family": "Arial"
        },
        "height": 450,
        "legend": {
         "tracegroupgap": 0
        },
        "paper_bgcolor": "#000000",
        "plot_bgcolor": "#000000",
        "template": {
         "data": {
          "bar": [
           {
            "error_x": {
             "color": "#2a3f5f"
            },
            "error_y": {
             "color": "#2a3f5f"
            },
            "marker": {
             "line": {
              "color": "#E5ECF6",
              "width": 0.5
             },
             "pattern": {
              "fillmode": "overlay",
              "size": 10,
              "solidity": 0.2
             }
            },
            "type": "bar"
           }
          ],
          "barpolar": [
           {
            "marker": {
             "line": {
              "color": "#E5ECF6",
              "width": 0.5
             },
             "pattern": {
              "fillmode": "overlay",
              "size": 10,
              "solidity": 0.2
             }
            },
            "type": "barpolar"
           }
          ],
          "carpet": [
           {
            "aaxis": {
             "endlinecolor": "#2a3f5f",
             "gridcolor": "white",
             "linecolor": "white",
             "minorgridcolor": "white",
             "startlinecolor": "#2a3f5f"
            },
            "baxis": {
             "endlinecolor": "#2a3f5f",
             "gridcolor": "white",
             "linecolor": "white",
             "minorgridcolor": "white",
             "startlinecolor": "#2a3f5f"
            },
            "type": "carpet"
           }
          ],
          "choropleth": [
           {
            "colorbar": {
             "outlinewidth": 0,
             "ticks": ""
            },
            "type": "choropleth"
           }
          ],
          "contour": [
           {
            "colorbar": {
             "outlinewidth": 0,
             "ticks": ""
            },
            "colorscale": [
             [
              0,
              "#0d0887"
             ],
             [
              0.1111111111111111,
              "#46039f"
             ],
             [
              0.2222222222222222,
              "#7201a8"
             ],
             [
              0.3333333333333333,
              "#9c179e"
             ],
             [
              0.4444444444444444,
              "#bd3786"
             ],
             [
              0.5555555555555556,
              "#d8576b"
             ],
             [
              0.6666666666666666,
              "#ed7953"
             ],
             [
              0.7777777777777778,
              "#fb9f3a"
             ],
             [
              0.8888888888888888,
              "#fdca26"
             ],
             [
              1,
              "#f0f921"
             ]
            ],
            "type": "contour"
           }
          ],
          "contourcarpet": [
           {
            "colorbar": {
             "outlinewidth": 0,
             "ticks": ""
            },
            "type": "contourcarpet"
           }
          ],
          "heatmap": [
           {
            "colorbar": {
             "outlinewidth": 0,
             "ticks": ""
            },
            "colorscale": [
             [
              0,
              "#0d0887"
             ],
             [
              0.1111111111111111,
              "#46039f"
             ],
             [
              0.2222222222222222,
              "#7201a8"
             ],
             [
              0.3333333333333333,
              "#9c179e"
             ],
             [
              0.4444444444444444,
              "#bd3786"
             ],
             [
              0.5555555555555556,
              "#d8576b"
             ],
             [
              0.6666666666666666,
              "#ed7953"
             ],
             [
              0.7777777777777778,
              "#fb9f3a"
             ],
             [
              0.8888888888888888,
              "#fdca26"
             ],
             [
              1,
              "#f0f921"
             ]
            ],
            "type": "heatmap"
           }
          ],
          "heatmapgl": [
           {
            "colorbar": {
             "outlinewidth": 0,
             "ticks": ""
            },
            "colorscale": [
             [
              0,
              "#0d0887"
             ],
             [
              0.1111111111111111,
              "#46039f"
             ],
             [
              0.2222222222222222,
              "#7201a8"
             ],
             [
              0.3333333333333333,
              "#9c179e"
             ],
             [
              0.4444444444444444,
              "#bd3786"
             ],
             [
              0.5555555555555556,
              "#d8576b"
             ],
             [
              0.6666666666666666,
              "#ed7953"
             ],
             [
              0.7777777777777778,
              "#fb9f3a"
             ],
             [
              0.8888888888888888,
              "#fdca26"
             ],
             [
              1,
              "#f0f921"
             ]
            ],
            "type": "heatmapgl"
           }
          ],
          "histogram": [
           {
            "marker": {
             "pattern": {
              "fillmode": "overlay",
              "size": 10,
              "solidity": 0.2
             }
            },
            "type": "histogram"
           }
          ],
          "histogram2d": [
           {
            "colorbar": {
             "outlinewidth": 0,
             "ticks": ""
            },
            "colorscale": [
             [
              0,
              "#0d0887"
             ],
             [
              0.1111111111111111,
              "#46039f"
             ],
             [
              0.2222222222222222,
              "#7201a8"
             ],
             [
              0.3333333333333333,
              "#9c179e"
             ],
             [
              0.4444444444444444,
              "#bd3786"
             ],
             [
              0.5555555555555556,
              "#d8576b"
             ],
             [
              0.6666666666666666,
              "#ed7953"
             ],
             [
              0.7777777777777778,
              "#fb9f3a"
             ],
             [
              0.8888888888888888,
              "#fdca26"
             ],
             [
              1,
              "#f0f921"
             ]
            ],
            "type": "histogram2d"
           }
          ],
          "histogram2dcontour": [
           {
            "colorbar": {
             "outlinewidth": 0,
             "ticks": ""
            },
            "colorscale": [
             [
              0,
              "#0d0887"
             ],
             [
              0.1111111111111111,
              "#46039f"
             ],
             [
              0.2222222222222222,
              "#7201a8"
             ],
             [
              0.3333333333333333,
              "#9c179e"
             ],
             [
              0.4444444444444444,
              "#bd3786"
             ],
             [
              0.5555555555555556,
              "#d8576b"
             ],
             [
              0.6666666666666666,
              "#ed7953"
             ],
             [
              0.7777777777777778,
              "#fb9f3a"
             ],
             [
              0.8888888888888888,
              "#fdca26"
             ],
             [
              1,
              "#f0f921"
             ]
            ],
            "type": "histogram2dcontour"
           }
          ],
          "mesh3d": [
           {
            "colorbar": {
             "outlinewidth": 0,
             "ticks": ""
            },
            "type": "mesh3d"
           }
          ],
          "parcoords": [
           {
            "line": {
             "colorbar": {
              "outlinewidth": 0,
              "ticks": ""
             }
            },
            "type": "parcoords"
           }
          ],
          "pie": [
           {
            "automargin": true,
            "type": "pie"
           }
          ],
          "scatter": [
           {
            "fillpattern": {
             "fillmode": "overlay",
             "size": 10,
             "solidity": 0.2
            },
            "type": "scatter"
           }
          ],
          "scatter3d": [
           {
            "line": {
             "colorbar": {
              "outlinewidth": 0,
              "ticks": ""
             }
            },
            "marker": {
             "colorbar": {
              "outlinewidth": 0,
              "ticks": ""
             }
            },
            "type": "scatter3d"
           }
          ],
          "scattercarpet": [
           {
            "marker": {
             "colorbar": {
              "outlinewidth": 0,
              "ticks": ""
             }
            },
            "type": "scattercarpet"
           }
          ],
          "scattergeo": [
           {
            "marker": {
             "colorbar": {
              "outlinewidth": 0,
              "ticks": ""
             }
            },
            "type": "scattergeo"
           }
          ],
          "scattergl": [
           {
            "marker": {
             "colorbar": {
              "outlinewidth": 0,
              "ticks": ""
             }
            },
            "type": "scattergl"
           }
          ],
          "scattermapbox": [
           {
            "marker": {
             "colorbar": {
              "outlinewidth": 0,
              "ticks": ""
             }
            },
            "type": "scattermapbox"
           }
          ],
          "scatterpolar": [
           {
            "marker": {
             "colorbar": {
              "outlinewidth": 0,
              "ticks": ""
             }
            },
            "type": "scatterpolar"
           }
          ],
          "scatterpolargl": [
           {
            "marker": {
             "colorbar": {
              "outlinewidth": 0,
              "ticks": ""
             }
            },
            "type": "scatterpolargl"
           }
          ],
          "scatterternary": [
           {
            "marker": {
             "colorbar": {
              "outlinewidth": 0,
              "ticks": ""
             }
            },
            "type": "scatterternary"
           }
          ],
          "surface": [
           {
            "colorbar": {
             "outlinewidth": 0,
             "ticks": ""
            },
            "colorscale": [
             [
              0,
              "#0d0887"
             ],
             [
              0.1111111111111111,
              "#46039f"
             ],
             [
              0.2222222222222222,
              "#7201a8"
             ],
             [
              0.3333333333333333,
              "#9c179e"
             ],
             [
              0.4444444444444444,
              "#bd3786"
             ],
             [
              0.5555555555555556,
              "#d8576b"
             ],
             [
              0.6666666666666666,
              "#ed7953"
             ],
             [
              0.7777777777777778,
              "#fb9f3a"
             ],
             [
              0.8888888888888888,
              "#fdca26"
             ],
             [
              1,
              "#f0f921"
             ]
            ],
            "type": "surface"
           }
          ],
          "table": [
           {
            "cells": {
             "fill": {
              "color": "#EBF0F8"
             },
             "line": {
              "color": "white"
             }
            },
            "header": {
             "fill": {
              "color": "#C8D4E3"
             },
             "line": {
              "color": "white"
             }
            },
            "type": "table"
           }
          ]
         },
         "layout": {
          "annotationdefaults": {
           "arrowcolor": "#2a3f5f",
           "arrowhead": 0,
           "arrowwidth": 1
          },
          "autotypenumbers": "strict",
          "coloraxis": {
           "colorbar": {
            "outlinewidth": 0,
            "ticks": ""
           }
          },
          "colorscale": {
           "diverging": [
            [
             0,
             "#8e0152"
            ],
            [
             0.1,
             "#c51b7d"
            ],
            [
             0.2,
             "#de77ae"
            ],
            [
             0.3,
             "#f1b6da"
            ],
            [
             0.4,
             "#fde0ef"
            ],
            [
             0.5,
             "#f7f7f7"
            ],
            [
             0.6,
             "#e6f5d0"
            ],
            [
             0.7,
             "#b8e186"
            ],
            [
             0.8,
             "#7fbc41"
            ],
            [
             0.9,
             "#4d9221"
            ],
            [
             1,
             "#276419"
            ]
           ],
           "sequential": [
            [
             0,
             "#0d0887"
            ],
            [
             0.1111111111111111,
             "#46039f"
            ],
            [
             0.2222222222222222,
             "#7201a8"
            ],
            [
             0.3333333333333333,
             "#9c179e"
            ],
            [
             0.4444444444444444,
             "#bd3786"
            ],
            [
             0.5555555555555556,
             "#d8576b"
            ],
            [
             0.6666666666666666,
             "#ed7953"
            ],
            [
             0.7777777777777778,
             "#fb9f3a"
            ],
            [
             0.8888888888888888,
             "#fdca26"
            ],
            [
             1,
             "#f0f921"
            ]
           ],
           "sequentialminus": [
            [
             0,
             "#0d0887"
            ],
            [
             0.1111111111111111,
             "#46039f"
            ],
            [
             0.2222222222222222,
             "#7201a8"
            ],
            [
             0.3333333333333333,
             "#9c179e"
            ],
            [
             0.4444444444444444,
             "#bd3786"
            ],
            [
             0.5555555555555556,
             "#d8576b"
            ],
            [
             0.6666666666666666,
             "#ed7953"
            ],
            [
             0.7777777777777778,
             "#fb9f3a"
            ],
            [
             0.8888888888888888,
             "#fdca26"
            ],
            [
             1,
             "#f0f921"
            ]
           ]
          },
          "colorway": [
           "#636efa",
           "#EF553B",
           "#00cc96",
           "#ab63fa",
           "#FFA15A",
           "#19d3f3",
           "#FF6692",
           "#B6E880",
           "#FF97FF",
           "#FECB52"
          ],
          "font": {
           "color": "#2a3f5f"
          },
          "geo": {
           "bgcolor": "white",
           "lakecolor": "white",
           "landcolor": "#E5ECF6",
           "showlakes": true,
           "showland": true,
           "subunitcolor": "white"
          },
          "hoverlabel": {
           "align": "left"
          },
          "hovermode": "closest",
          "mapbox": {
           "style": "light"
          },
          "paper_bgcolor": "white",
          "plot_bgcolor": "#E5ECF6",
          "polar": {
           "angularaxis": {
            "gridcolor": "white",
            "linecolor": "white",
            "ticks": ""
           },
           "bgcolor": "#E5ECF6",
           "radialaxis": {
            "gridcolor": "white",
            "linecolor": "white",
            "ticks": ""
           }
          },
          "scene": {
           "xaxis": {
            "backgroundcolor": "#E5ECF6",
            "gridcolor": "white",
            "gridwidth": 2,
            "linecolor": "white",
            "showbackground": true,
            "ticks": "",
            "zerolinecolor": "white"
           },
           "yaxis": {
            "backgroundcolor": "#E5ECF6",
            "gridcolor": "white",
            "gridwidth": 2,
            "linecolor": "white",
            "showbackground": true,
            "ticks": "",
            "zerolinecolor": "white"
           },
           "zaxis": {
            "backgroundcolor": "#E5ECF6",
            "gridcolor": "white",
            "gridwidth": 2,
            "linecolor": "white",
            "showbackground": true,
            "ticks": "",
            "zerolinecolor": "white"
           }
          },
          "shapedefaults": {
           "line": {
            "color": "#2a3f5f"
           }
          },
          "ternary": {
           "aaxis": {
            "gridcolor": "white",
            "linecolor": "white",
            "ticks": ""
           },
           "baxis": {
            "gridcolor": "white",
            "linecolor": "white",
            "ticks": ""
           },
           "bgcolor": "#E5ECF6",
           "caxis": {
            "gridcolor": "white",
            "linecolor": "white",
            "ticks": ""
           }
          },
          "title": {
           "x": 0.05
          },
          "xaxis": {
           "automargin": true,
           "gridcolor": "white",
           "linecolor": "white",
           "ticks": "",
           "title": {
            "standoff": 15
           },
           "zerolinecolor": "white",
           "zerolinewidth": 2
          },
          "yaxis": {
           "automargin": true,
           "gridcolor": "white",
           "linecolor": "white",
           "ticks": "",
           "title": {
            "standoff": 15
           },
           "zerolinecolor": "white",
           "zerolinewidth": 2
          }
         }
        },
        "title": {
         "font": {
          "family": "Arial"
         },
         "text": "<b>Peso Plataforma según Contenido<b>"
        },
        "uniformtext": {
         "minsize": 12,
         "mode": "hide"
        },
        "width": 600
       }
      }
     },
     "metadata": {},
     "output_type": "display_data"
    }
   ],
   "source": [
    "# GRÁFICO CANTIDAD CONTENIDO POR PLATAFORMA\n",
    "\n",
    "cantidad_total = df_todos.set_index('Plataforma')\n",
    "perc_total_amazon = cantidad_total.loc['Amazon'].shape[0] / cantidad_total.shape[0]\n",
    "perc_total_netflix = cantidad_total.loc['Netflix'].shape[0] / cantidad_total.shape[0]\n",
    "perc_total_hbo = cantidad_total.loc['HBO'].shape[0] / cantidad_total.shape[0]\n",
    "perc_total_hulu = cantidad_total.loc['Hulu'].shape[0] / cantidad_total.shape[0]\n",
    "perc_total_disney = cantidad_total.loc['Disney'].shape[0] / cantidad_total.shape[0]\n",
    "perc_total_paramount = cantidad_total.loc['Paramount'].shape[0] / cantidad_total.shape[0]\n",
    "\n",
    "labels = ['Amazon', 'Netflix', 'HBO','hulu', 'Disney', 'Paramount']\n",
    "values = [perc_total_amazon, perc_total_netflix, perc_total_hbo, perc_total_hulu, perc_total_disney, perc_total_paramount]\n",
    "\n",
    "fig = px.pie(values=values, labels=labels, names= labels,\n",
    "width = 600, height=450,\n",
    "title = \"<b>Peso Plataforma según Contenido<b>\", hover_name=labels,\n",
    "color = labels, color_discrete_map={'Amazon': '#9B9B9B', 'Netflix': '#D10600', \n",
    "'HBO': '#460076', 'hulu': '#98FF93', 'Disney':'#3800C2', 'Paramount':'#FFFFFF'}\n",
    ")\n",
    "\n",
    "fig.update_traces(marker=dict(line=dict(color='black', width=0.5)),\n",
    "                  hovertemplate = values, textinfo = 'label+text',\n",
    "                  textposition='inside'\n",
    "                  )\n",
    "fig.update_layout(font_family = 'Arial', title_font_family='Arial', font_color = '#FFFFFF', plot_bgcolor='#000000', paper_bgcolor='#000000')\n",
    "fig.update_layout(uniformtext_minsize=12, uniformtext_mode='hide')\n",
    "\n",
    "fig.show()\n",
    "\n",
    "# Destacamos el aumento de Netflix y hulu respecto a películas\n",
    "# Destacan tanto Netflix y hulu por tener un % mayor de series que de películas\n"
   ]
  },
  {
   "cell_type": "markdown",
   "metadata": {},
   "source": [
    "------"
   ]
  },
  {
   "cell_type": "markdown",
   "metadata": {},
   "source": [
    "**2.3.: Contenido Exclusivo**"
   ]
  },
  {
   "cell_type": "code",
   "execution_count": 152,
   "metadata": {},
   "outputs": [
    {
     "name": "stdout",
     "output_type": "stream",
     "text": [
      "id no repetidos: 6166\n",
      "titulos no repetidos: 6103\n"
     ]
    }
   ],
   "source": [
    "# CONTENIDO EXCLUSIVO\n",
    "\n",
    "id_unicos_total = df_todos['ID'].nunique() \n",
    "titulos_unicos_total = df_todos['Titulo'].nunique()\n",
    "\n",
    "#   Aunque no coincide el n de ids con el de titulos, es ok, ya que diferentes peliculas pueden tener el mismo titulo\n",
    "#   Mayoría contenido es exlusico\n",
    "print('id no repetidos:', id_unicos_total)\n",
    "print('titulos no repetidos:', titulos_unicos_total)\n",
    "\n",
    "#   Hacemos la inversa, vemos los duplicados --> 678\n",
    "id_duplicados = df_todos[['Plataforma', 'ID', 'Titulo']]\n",
    "id_duplicados = id_duplicados[id_duplicados['ID'].duplicated(False)] # --> le decimos que nos cuente TODOS los duplicados, es decir, de 2 titulos iguales, los dos titulos\n",
    "id_duplicados = id_duplicados.reset_index(drop=True)"
   ]
  },
  {
   "cell_type": "code",
   "execution_count": 153,
   "metadata": {},
   "outputs": [
    {
     "data": {
      "text/plain": [
       "(678, 2)"
      ]
     },
     "execution_count": 153,
     "metadata": {},
     "output_type": "execute_result"
    }
   ],
   "source": [
    "#Ponemos plataforma como indice para seleccionar el contenido 'no exclusivo' de cada plataforma\n",
    "id_duplicados = id_duplicados.set_index('Plataforma')\n",
    "id_duplicados.shape"
   ]
  },
  {
   "cell_type": "code",
   "execution_count": 154,
   "metadata": {},
   "outputs": [
    {
     "data": {
      "text/plain": [
       "Index(['Amazon', 'Netflix', 'HBO', 'Hulu', 'Disney', 'Paramount'], dtype='object', name='Plataforma')"
      ]
     },
     "execution_count": 154,
     "metadata": {},
     "output_type": "execute_result"
    }
   ],
   "source": [
    "id_duplicados.index.unique()"
   ]
  },
  {
   "cell_type": "code",
   "execution_count": 155,
   "metadata": {},
   "outputs": [
    {
     "name": "stdout",
     "output_type": "stream",
     "text": [
      "135 \n",
      " 9.95\n"
     ]
    }
   ],
   "source": [
    "# Amazon - Contenido No Exclusivo\n",
    "\n",
    "duplicados_amazon = id_duplicados.loc['Amazon']\n",
    "duplicados_amazon = duplicados_amazon.reset_index(drop=True)\n",
    "amazon_n_no_exclusivo = duplicados_amazon.shape[0]\n",
    "amazon_perc_no_exclusivo = round((amazon_n_no_exclusivo/df_amazon_series.shape[0])*100,2)\n",
    "amazon_perc_exclusivo = round(100-amazon_n_no_exclusivo,2)\n",
    "print(amazon_n_no_exclusivo,\"\\n\", amazon_perc_no_exclusivo)"
   ]
  },
  {
   "cell_type": "code",
   "execution_count": 156,
   "metadata": {},
   "outputs": [
    {
     "name": "stdout",
     "output_type": "stream",
     "text": [
      "130 \n",
      " 6.35\n"
     ]
    }
   ],
   "source": [
    "# Netflix - Contenido No Exclusivo\n",
    "\n",
    "duplicados_netflix = id_duplicados.loc['Netflix']\n",
    "duplicados_netflix = duplicados_netflix.reset_index(drop=True)\n",
    "netflix_n_no_exclusivo = duplicados_netflix.shape[0]\n",
    "netflix_perc_no_exclusivo = round((netflix_n_no_exclusivo/df_netflix_series.shape[0])*100,2)\n",
    "netflix_perc_exclusivo = round(100-netflix_n_no_exclusivo,2)\n",
    "print(netflix_n_no_exclusivo,\"\\n\", netflix_perc_no_exclusivo)"
   ]
  },
  {
   "cell_type": "code",
   "execution_count": 157,
   "metadata": {},
   "outputs": [
    {
     "name": "stdout",
     "output_type": "stream",
     "text": [
      "67 \n",
      " 8.86\n"
     ]
    }
   ],
   "source": [
    "# HBO - Contenido No Exclusivo\n",
    "\n",
    "duplicados_hbo = id_duplicados.loc['HBO']\n",
    "duplicados_hbo = duplicados_hbo.reset_index(drop=True)\n",
    "hbo_n_no_exclusivo = duplicados_hbo.shape[0]\n",
    "hbo_perc_no_exclusivo = round((hbo_n_no_exclusivo/df_hbo_series.shape[0])*100,2)\n",
    "hbo_perc_exclusivo = round(100-hbo_n_no_exclusivo,2)\n",
    "print(hbo_n_no_exclusivo,\"\\n\", hbo_perc_no_exclusivo)"
   ]
  },
  {
   "cell_type": "code",
   "execution_count": 158,
   "metadata": {},
   "outputs": [
    {
     "name": "stdout",
     "output_type": "stream",
     "text": [
      "220 \n",
      " 16.55\n"
     ]
    }
   ],
   "source": [
    "# hulu - Contenido No Exclusivo\n",
    "\n",
    "duplicados_hulu = id_duplicados.loc['Hulu']\n",
    "duplicados_hulu = duplicados_hulu.reset_index(drop=True)\n",
    "hulu_n_no_exclusivo = duplicados_hulu.shape[0]\n",
    "hulu_perc_no_exclusivo = round((hulu_n_no_exclusivo/df_hulu_series.shape[0])*100,2)\n",
    "\n",
    "print(hulu_n_no_exclusivo,\"\\n\", hulu_perc_no_exclusivo)"
   ]
  },
  {
   "cell_type": "code",
   "execution_count": 159,
   "metadata": {},
   "outputs": [
    {
     "name": "stdout",
     "output_type": "stream",
     "text": [
      "24 \n",
      " 5.78\n"
     ]
    }
   ],
   "source": [
    "# Disney - Contenido No Exclusivo\n",
    "\n",
    "duplicados_disney = id_duplicados.loc['Disney']\n",
    "duplicados_disney = duplicados_disney.reset_index(drop=True)\n",
    "disney_n_no_exclusivo = duplicados_disney.shape[0]\n",
    "disney_perc_no_exclusivo = round((disney_n_no_exclusivo/df_disney_series.shape[0])*100,2)\n",
    "disney_perc_exclusivo = round(100-disney_n_no_exclusivo,2)\n",
    "print(disney_n_no_exclusivo,\"\\n\", disney_perc_no_exclusivo)"
   ]
  },
  {
   "cell_type": "code",
   "execution_count": 160,
   "metadata": {},
   "outputs": [
    {
     "name": "stdout",
     "output_type": "stream",
     "text": [
      "102 \n",
      " 16.29\n"
     ]
    }
   ],
   "source": [
    "# Paramount - Contenido No Exclusivo\n",
    "\n",
    "duplicados_Paramount = id_duplicados.loc['Paramount']\n",
    "duplicados_Paramount = duplicados_Paramount.reset_index(drop=True)\n",
    "paramount_n_no_exclusivo = duplicados_Paramount.shape[0]\n",
    "paramount_perc_no_exclusivo = round((paramount_n_no_exclusivo/df_paramount_series.shape[0])*100,2)\n",
    "paramount_perc_exclusivo = round(100-paramount_n_no_exclusivo,2)\n",
    "print(paramount_n_no_exclusivo,\"\\n\", paramount_perc_no_exclusivo)"
   ]
  },
  {
   "cell_type": "code",
   "execution_count": 161,
   "metadata": {},
   "outputs": [
    {
     "data": {
      "application/vnd.plotly.v1+json": {
       "config": {
        "plotlyServerURL": "https://plot.ly"
       },
       "data": [
        {
         "alignmentgroup": "True",
         "hovertemplate": "Tipo=no_exclusivo<br>Peso=%{text}<br>Plataforma=%{y}<extra></extra>",
         "legendgroup": "no_exclusivo",
         "marker": {
          "color": "grey",
          "pattern": {
           "shape": ""
          }
         },
         "name": "no_exclusivo",
         "offsetgroup": "no_exclusivo",
         "orientation": "h",
         "showlegend": true,
         "text": [
          9.95,
          6.35,
          8.86,
          16.55,
          5.78,
          16.29
         ],
         "textposition": "auto",
         "texttemplate": "%{text:.2f}",
         "type": "bar",
         "x": [
          9.95,
          6.35,
          8.86,
          16.55,
          5.78,
          16.29
         ],
         "xaxis": "x",
         "y": [
          "Amazon",
          "Netflix",
          "HBO",
          "hulu",
          "Disney",
          "Paramount"
         ],
         "yaxis": "y"
        },
        {
         "alignmentgroup": "True",
         "hovertemplate": "Tipo=exclusivo<br>Peso=%{text}<br>Plataforma=%{y}<extra></extra>",
         "legendgroup": "exclusivo",
         "marker": {
          "color": "white",
          "pattern": {
           "shape": ""
          }
         },
         "name": "exclusivo",
         "offsetgroup": "exclusivo",
         "orientation": "h",
         "showlegend": true,
         "text": [
          90.05,
          93.65,
          93.65,
          83.45,
          94.22,
          83.71000000000001
         ],
         "textposition": "auto",
         "texttemplate": "%{text:.2f}",
         "type": "bar",
         "x": [
          90.05,
          93.65,
          93.65,
          83.45,
          94.22,
          83.71000000000001
         ],
         "xaxis": "x",
         "y": [
          "Amazon",
          "Netflix",
          "HBO",
          "hulu",
          "Disney",
          "Paramount"
         ],
         "yaxis": "y"
        }
       ],
       "layout": {
        "barmode": "relative",
        "font": {
         "color": "#FFFFFF",
         "family": "Arial"
        },
        "legend": {
         "title": {
          "text": "Tipo"
         },
         "tracegroupgap": 0
        },
        "paper_bgcolor": "#000000",
        "plot_bgcolor": "#000000",
        "shapes": [
         {
          "line": {
           "color": "black",
           "dash": "dash",
           "width": 2
          },
          "type": "line",
          "x0": 50,
          "x1": 50,
          "xref": "x",
          "y0": 0,
          "y1": 1,
          "yref": "y domain"
         }
        ],
        "showlegend": false,
        "template": {
         "data": {
          "bar": [
           {
            "error_x": {
             "color": "#2a3f5f"
            },
            "error_y": {
             "color": "#2a3f5f"
            },
            "marker": {
             "line": {
              "color": "#E5ECF6",
              "width": 0.5
             },
             "pattern": {
              "fillmode": "overlay",
              "size": 10,
              "solidity": 0.2
             }
            },
            "type": "bar"
           }
          ],
          "barpolar": [
           {
            "marker": {
             "line": {
              "color": "#E5ECF6",
              "width": 0.5
             },
             "pattern": {
              "fillmode": "overlay",
              "size": 10,
              "solidity": 0.2
             }
            },
            "type": "barpolar"
           }
          ],
          "carpet": [
           {
            "aaxis": {
             "endlinecolor": "#2a3f5f",
             "gridcolor": "white",
             "linecolor": "white",
             "minorgridcolor": "white",
             "startlinecolor": "#2a3f5f"
            },
            "baxis": {
             "endlinecolor": "#2a3f5f",
             "gridcolor": "white",
             "linecolor": "white",
             "minorgridcolor": "white",
             "startlinecolor": "#2a3f5f"
            },
            "type": "carpet"
           }
          ],
          "choropleth": [
           {
            "colorbar": {
             "outlinewidth": 0,
             "ticks": ""
            },
            "type": "choropleth"
           }
          ],
          "contour": [
           {
            "colorbar": {
             "outlinewidth": 0,
             "ticks": ""
            },
            "colorscale": [
             [
              0,
              "#0d0887"
             ],
             [
              0.1111111111111111,
              "#46039f"
             ],
             [
              0.2222222222222222,
              "#7201a8"
             ],
             [
              0.3333333333333333,
              "#9c179e"
             ],
             [
              0.4444444444444444,
              "#bd3786"
             ],
             [
              0.5555555555555556,
              "#d8576b"
             ],
             [
              0.6666666666666666,
              "#ed7953"
             ],
             [
              0.7777777777777778,
              "#fb9f3a"
             ],
             [
              0.8888888888888888,
              "#fdca26"
             ],
             [
              1,
              "#f0f921"
             ]
            ],
            "type": "contour"
           }
          ],
          "contourcarpet": [
           {
            "colorbar": {
             "outlinewidth": 0,
             "ticks": ""
            },
            "type": "contourcarpet"
           }
          ],
          "heatmap": [
           {
            "colorbar": {
             "outlinewidth": 0,
             "ticks": ""
            },
            "colorscale": [
             [
              0,
              "#0d0887"
             ],
             [
              0.1111111111111111,
              "#46039f"
             ],
             [
              0.2222222222222222,
              "#7201a8"
             ],
             [
              0.3333333333333333,
              "#9c179e"
             ],
             [
              0.4444444444444444,
              "#bd3786"
             ],
             [
              0.5555555555555556,
              "#d8576b"
             ],
             [
              0.6666666666666666,
              "#ed7953"
             ],
             [
              0.7777777777777778,
              "#fb9f3a"
             ],
             [
              0.8888888888888888,
              "#fdca26"
             ],
             [
              1,
              "#f0f921"
             ]
            ],
            "type": "heatmap"
           }
          ],
          "heatmapgl": [
           {
            "colorbar": {
             "outlinewidth": 0,
             "ticks": ""
            },
            "colorscale": [
             [
              0,
              "#0d0887"
             ],
             [
              0.1111111111111111,
              "#46039f"
             ],
             [
              0.2222222222222222,
              "#7201a8"
             ],
             [
              0.3333333333333333,
              "#9c179e"
             ],
             [
              0.4444444444444444,
              "#bd3786"
             ],
             [
              0.5555555555555556,
              "#d8576b"
             ],
             [
              0.6666666666666666,
              "#ed7953"
             ],
             [
              0.7777777777777778,
              "#fb9f3a"
             ],
             [
              0.8888888888888888,
              "#fdca26"
             ],
             [
              1,
              "#f0f921"
             ]
            ],
            "type": "heatmapgl"
           }
          ],
          "histogram": [
           {
            "marker": {
             "pattern": {
              "fillmode": "overlay",
              "size": 10,
              "solidity": 0.2
             }
            },
            "type": "histogram"
           }
          ],
          "histogram2d": [
           {
            "colorbar": {
             "outlinewidth": 0,
             "ticks": ""
            },
            "colorscale": [
             [
              0,
              "#0d0887"
             ],
             [
              0.1111111111111111,
              "#46039f"
             ],
             [
              0.2222222222222222,
              "#7201a8"
             ],
             [
              0.3333333333333333,
              "#9c179e"
             ],
             [
              0.4444444444444444,
              "#bd3786"
             ],
             [
              0.5555555555555556,
              "#d8576b"
             ],
             [
              0.6666666666666666,
              "#ed7953"
             ],
             [
              0.7777777777777778,
              "#fb9f3a"
             ],
             [
              0.8888888888888888,
              "#fdca26"
             ],
             [
              1,
              "#f0f921"
             ]
            ],
            "type": "histogram2d"
           }
          ],
          "histogram2dcontour": [
           {
            "colorbar": {
             "outlinewidth": 0,
             "ticks": ""
            },
            "colorscale": [
             [
              0,
              "#0d0887"
             ],
             [
              0.1111111111111111,
              "#46039f"
             ],
             [
              0.2222222222222222,
              "#7201a8"
             ],
             [
              0.3333333333333333,
              "#9c179e"
             ],
             [
              0.4444444444444444,
              "#bd3786"
             ],
             [
              0.5555555555555556,
              "#d8576b"
             ],
             [
              0.6666666666666666,
              "#ed7953"
             ],
             [
              0.7777777777777778,
              "#fb9f3a"
             ],
             [
              0.8888888888888888,
              "#fdca26"
             ],
             [
              1,
              "#f0f921"
             ]
            ],
            "type": "histogram2dcontour"
           }
          ],
          "mesh3d": [
           {
            "colorbar": {
             "outlinewidth": 0,
             "ticks": ""
            },
            "type": "mesh3d"
           }
          ],
          "parcoords": [
           {
            "line": {
             "colorbar": {
              "outlinewidth": 0,
              "ticks": ""
             }
            },
            "type": "parcoords"
           }
          ],
          "pie": [
           {
            "automargin": true,
            "type": "pie"
           }
          ],
          "scatter": [
           {
            "fillpattern": {
             "fillmode": "overlay",
             "size": 10,
             "solidity": 0.2
            },
            "type": "scatter"
           }
          ],
          "scatter3d": [
           {
            "line": {
             "colorbar": {
              "outlinewidth": 0,
              "ticks": ""
             }
            },
            "marker": {
             "colorbar": {
              "outlinewidth": 0,
              "ticks": ""
             }
            },
            "type": "scatter3d"
           }
          ],
          "scattercarpet": [
           {
            "marker": {
             "colorbar": {
              "outlinewidth": 0,
              "ticks": ""
             }
            },
            "type": "scattercarpet"
           }
          ],
          "scattergeo": [
           {
            "marker": {
             "colorbar": {
              "outlinewidth": 0,
              "ticks": ""
             }
            },
            "type": "scattergeo"
           }
          ],
          "scattergl": [
           {
            "marker": {
             "colorbar": {
              "outlinewidth": 0,
              "ticks": ""
             }
            },
            "type": "scattergl"
           }
          ],
          "scattermapbox": [
           {
            "marker": {
             "colorbar": {
              "outlinewidth": 0,
              "ticks": ""
             }
            },
            "type": "scattermapbox"
           }
          ],
          "scatterpolar": [
           {
            "marker": {
             "colorbar": {
              "outlinewidth": 0,
              "ticks": ""
             }
            },
            "type": "scatterpolar"
           }
          ],
          "scatterpolargl": [
           {
            "marker": {
             "colorbar": {
              "outlinewidth": 0,
              "ticks": ""
             }
            },
            "type": "scatterpolargl"
           }
          ],
          "scatterternary": [
           {
            "marker": {
             "colorbar": {
              "outlinewidth": 0,
              "ticks": ""
             }
            },
            "type": "scatterternary"
           }
          ],
          "surface": [
           {
            "colorbar": {
             "outlinewidth": 0,
             "ticks": ""
            },
            "colorscale": [
             [
              0,
              "#0d0887"
             ],
             [
              0.1111111111111111,
              "#46039f"
             ],
             [
              0.2222222222222222,
              "#7201a8"
             ],
             [
              0.3333333333333333,
              "#9c179e"
             ],
             [
              0.4444444444444444,
              "#bd3786"
             ],
             [
              0.5555555555555556,
              "#d8576b"
             ],
             [
              0.6666666666666666,
              "#ed7953"
             ],
             [
              0.7777777777777778,
              "#fb9f3a"
             ],
             [
              0.8888888888888888,
              "#fdca26"
             ],
             [
              1,
              "#f0f921"
             ]
            ],
            "type": "surface"
           }
          ],
          "table": [
           {
            "cells": {
             "fill": {
              "color": "#EBF0F8"
             },
             "line": {
              "color": "white"
             }
            },
            "header": {
             "fill": {
              "color": "#C8D4E3"
             },
             "line": {
              "color": "white"
             }
            },
            "type": "table"
           }
          ]
         },
         "layout": {
          "annotationdefaults": {
           "arrowcolor": "#2a3f5f",
           "arrowhead": 0,
           "arrowwidth": 1
          },
          "autotypenumbers": "strict",
          "coloraxis": {
           "colorbar": {
            "outlinewidth": 0,
            "ticks": ""
           }
          },
          "colorscale": {
           "diverging": [
            [
             0,
             "#8e0152"
            ],
            [
             0.1,
             "#c51b7d"
            ],
            [
             0.2,
             "#de77ae"
            ],
            [
             0.3,
             "#f1b6da"
            ],
            [
             0.4,
             "#fde0ef"
            ],
            [
             0.5,
             "#f7f7f7"
            ],
            [
             0.6,
             "#e6f5d0"
            ],
            [
             0.7,
             "#b8e186"
            ],
            [
             0.8,
             "#7fbc41"
            ],
            [
             0.9,
             "#4d9221"
            ],
            [
             1,
             "#276419"
            ]
           ],
           "sequential": [
            [
             0,
             "#0d0887"
            ],
            [
             0.1111111111111111,
             "#46039f"
            ],
            [
             0.2222222222222222,
             "#7201a8"
            ],
            [
             0.3333333333333333,
             "#9c179e"
            ],
            [
             0.4444444444444444,
             "#bd3786"
            ],
            [
             0.5555555555555556,
             "#d8576b"
            ],
            [
             0.6666666666666666,
             "#ed7953"
            ],
            [
             0.7777777777777778,
             "#fb9f3a"
            ],
            [
             0.8888888888888888,
             "#fdca26"
            ],
            [
             1,
             "#f0f921"
            ]
           ],
           "sequentialminus": [
            [
             0,
             "#0d0887"
            ],
            [
             0.1111111111111111,
             "#46039f"
            ],
            [
             0.2222222222222222,
             "#7201a8"
            ],
            [
             0.3333333333333333,
             "#9c179e"
            ],
            [
             0.4444444444444444,
             "#bd3786"
            ],
            [
             0.5555555555555556,
             "#d8576b"
            ],
            [
             0.6666666666666666,
             "#ed7953"
            ],
            [
             0.7777777777777778,
             "#fb9f3a"
            ],
            [
             0.8888888888888888,
             "#fdca26"
            ],
            [
             1,
             "#f0f921"
            ]
           ]
          },
          "colorway": [
           "#636efa",
           "#EF553B",
           "#00cc96",
           "#ab63fa",
           "#FFA15A",
           "#19d3f3",
           "#FF6692",
           "#B6E880",
           "#FF97FF",
           "#FECB52"
          ],
          "font": {
           "color": "#2a3f5f"
          },
          "geo": {
           "bgcolor": "white",
           "lakecolor": "white",
           "landcolor": "#E5ECF6",
           "showlakes": true,
           "showland": true,
           "subunitcolor": "white"
          },
          "hoverlabel": {
           "align": "left"
          },
          "hovermode": "closest",
          "mapbox": {
           "style": "light"
          },
          "paper_bgcolor": "white",
          "plot_bgcolor": "#E5ECF6",
          "polar": {
           "angularaxis": {
            "gridcolor": "white",
            "linecolor": "white",
            "ticks": ""
           },
           "bgcolor": "#E5ECF6",
           "radialaxis": {
            "gridcolor": "white",
            "linecolor": "white",
            "ticks": ""
           }
          },
          "scene": {
           "xaxis": {
            "backgroundcolor": "#E5ECF6",
            "gridcolor": "white",
            "gridwidth": 2,
            "linecolor": "white",
            "showbackground": true,
            "ticks": "",
            "zerolinecolor": "white"
           },
           "yaxis": {
            "backgroundcolor": "#E5ECF6",
            "gridcolor": "white",
            "gridwidth": 2,
            "linecolor": "white",
            "showbackground": true,
            "ticks": "",
            "zerolinecolor": "white"
           },
           "zaxis": {
            "backgroundcolor": "#E5ECF6",
            "gridcolor": "white",
            "gridwidth": 2,
            "linecolor": "white",
            "showbackground": true,
            "ticks": "",
            "zerolinecolor": "white"
           }
          },
          "shapedefaults": {
           "line": {
            "color": "#2a3f5f"
           }
          },
          "ternary": {
           "aaxis": {
            "gridcolor": "white",
            "linecolor": "white",
            "ticks": ""
           },
           "baxis": {
            "gridcolor": "white",
            "linecolor": "white",
            "ticks": ""
           },
           "bgcolor": "#E5ECF6",
           "caxis": {
            "gridcolor": "white",
            "linecolor": "white",
            "ticks": ""
           }
          },
          "title": {
           "x": 0.05
          },
          "xaxis": {
           "automargin": true,
           "gridcolor": "white",
           "linecolor": "white",
           "ticks": "",
           "title": {
            "standoff": 15
           },
           "zerolinecolor": "white",
           "zerolinewidth": 2
          },
          "yaxis": {
           "automargin": true,
           "gridcolor": "white",
           "linecolor": "white",
           "ticks": "",
           "title": {
            "standoff": 15
           },
           "zerolinecolor": "white",
           "zerolinewidth": 2
          }
         }
        },
        "title": {
         "font": {
          "family": "Arial"
         },
         "text": "<b>Contenido Exclusivo por Plataforma<b>"
        },
        "xaxis": {
         "anchor": "y",
         "domain": [
          0,
          1
         ],
         "showgrid": false,
         "showticklabels": false,
         "title": {},
         "zeroline": true
        },
        "yaxis": {
         "anchor": "x",
         "domain": [
          0,
          1
         ],
         "ticklabelposition": "inside",
         "title": {},
         "visible": true
        }
       }
      }
     },
     "metadata": {},
     "output_type": "display_data"
    }
   ],
   "source": [
    "# GRAFICO \n",
    "\n",
    "data = pd.DataFrame([('Amazon', 'no_exclusivo', amazon_perc_no_exclusivo),\n",
    "('Amazon', 'exclusivo', 100 - amazon_perc_no_exclusivo),\n",
    "('Netflix', 'no_exclusivo', netflix_perc_no_exclusivo),\n",
    "('Netflix', 'exclusivo', 100 - netflix_perc_no_exclusivo),\n",
    "('HBO', 'no_exclusivo', hbo_perc_no_exclusivo),\n",
    "('HBO', 'exclusivo', 100 - netflix_perc_no_exclusivo),\n",
    "('hulu', 'no_exclusivo', hulu_perc_no_exclusivo),\n",
    "('hulu', 'exclusivo', 100 - hulu_perc_no_exclusivo),\n",
    "('Disney', 'no_exclusivo', disney_perc_no_exclusivo),\n",
    "('Disney', 'exclusivo', 100 - disney_perc_no_exclusivo),\n",
    "('Paramount', 'no_exclusivo', paramount_perc_no_exclusivo),\n",
    "('Paramount', 'exclusivo', 100 - paramount_perc_no_exclusivo)], \n",
    "columns=['Plataforma', 'Tipo', 'Peso'],\n",
    ")\n",
    "\n",
    "\n",
    "fig = px.bar(data, x=\"Peso\", y=\"Plataforma\", color=\"Tipo\",\n",
    "color_discrete_map={'exclusivo':'white',\n",
    "                                 'no_exclusivo':'grey'},text = \"Peso\",\n",
    "title=\"<b>Contenido Exclusivo por Plataforma<b>\", orientation='h')\n",
    "\n",
    "fig.add_vline(x=50, line_width=2, line_dash = 'dash', line_color=\"black\")\n",
    "\n",
    "fig.update_traces(texttemplate='%{text:.2f}')\n",
    "\n",
    "fig.update_layout(font_family = 'Arial', title_font_family='Arial', font_color = '#FFFFFF', \n",
    "plot_bgcolor='#000000', paper_bgcolor='#000000',showlegend=False)\n",
    "fig.update_xaxes(\n",
    "    showticklabels=False,\n",
    "    zeroline = True,\n",
    "    showgrid = False, title_text=None,\n",
    "    \n",
    "    \n",
    ")\n",
    "\n",
    "\n",
    "fig.update_yaxes(visible = True, title_text=None, ticklabelposition = 'inside'\n",
    ")\n",
    "\n",
    "fig.show()\n",
    "\n",
    "# Todas tienen principalmente contenido exclusivo\n",
    "# Paramount y Hulu son las que tienen un peso mayor de contenido no exclusivo, pero sobre un 16%\n"
   ]
  },
  {
   "cell_type": "markdown",
   "metadata": {},
   "source": [
    "------"
   ]
  },
  {
   "cell_type": "markdown",
   "metadata": {},
   "source": [
    "**2.4.: Puntuaciones**"
   ]
  },
  {
   "cell_type": "code",
   "execution_count": 162,
   "metadata": {},
   "outputs": [],
   "source": [
    "# POR OPINIONES / PUNTOS:\n",
    "\n",
    "# Primero vemos si existe alguna diferencia relevante entre Imdb y Tmdb\n",
    "# Principal problema diferencia cantidad de datos entre las dos\n",
    "puntos_comp = df_todos[['Plataforma', 'Generos', 'Imdb_Puntos', 'Tmdb_Puntos']]\n",
    "\n",
    "'''\n",
    "Me da este error cada vez que intento hacer algo sobre el dataframe,\n",
    "lo vuelvo a pasar a df --> no se muy bien por qué, pero al pasarlo ya no da error\n",
    "(saqué la solución de Stack Overflow)\n",
    "\n",
    "KeyError: \"None of [Float64Index([  8.2,   8.1,   7.8,   7.9,   7.8,   8.6,   7.3,   8.0,   4.0,\\n\n",
    "                7.7,\\n              ...\\n                7.6,  2.09,  0.84, 1.673,   7.7,   1.4,   0.6,   4.6,   0.6,\\n\n",
    "                                0.6],\\n             dtype='float64', length=19193)] are in the [columns]\"\n",
    "\n",
    "'''\n",
    "puntos_comp = pd.DataFrame(puntos_comp)"
   ]
  },
  {
   "cell_type": "code",
   "execution_count": 164,
   "metadata": {},
   "outputs": [
    {
     "name": "stderr",
     "output_type": "stream",
     "text": [
      "/Library/Frameworks/Python.framework/Versions/3.7/lib/python3.7/site-packages/ipykernel_launcher.py:1: FutureWarning:\n",
      "\n",
      "Dropping invalid columns in DataFrameGroupBy.max is deprecated. In a future version, a TypeError will be raised. Before calling .max, select only columns which should be valid for the function.\n",
      "\n",
      "/Library/Frameworks/Python.framework/Versions/3.7/lib/python3.7/site-packages/ipykernel_launcher.py:2: FutureWarning:\n",
      "\n",
      "Dropping invalid columns in DataFrameGroupBy.min is deprecated. In a future version, a TypeError will be raised. Before calling .min, select only columns which should be valid for the function.\n",
      "\n"
     ]
    }
   ],
   "source": [
    "puntos_comp.groupby(by='Plataforma').max() # Tmdb está en un rango de 0 - 10, pero Imdb tiene valores superiores a 10 /No hay ningún valor < 0\n",
    "puntos_comp.groupby(by='Plataforma').min()\n",
    "puntos_comp[puntos_comp['Imdb_Puntos'] > 10].count() #126 valores no válidos, con puntuacion > 10\n",
    "puntos_comp = puntos_comp.sort_values(by='Imdb_Puntos', ascending = False)\n",
    "\n",
    "# Quitamos los valores que tengan puntuación de 0 en ambas columnas  -nos quedamos con 6444 filas:\n",
    "puntos_comp = puntos_comp[(puntos_comp['Imdb_Puntos'] != 0) & (puntos_comp['Imdb_Puntos'] != 0)]\n",
    "puntos_comp = puntos_comp.reset_index(drop=True)"
   ]
  },
  {
   "cell_type": "code",
   "execution_count": 165,
   "metadata": {},
   "outputs": [
    {
     "data": {
      "text/html": [
       "<div>\n",
       "<style scoped>\n",
       "    .dataframe tbody tr th:only-of-type {\n",
       "        vertical-align: middle;\n",
       "    }\n",
       "\n",
       "    .dataframe tbody tr th {\n",
       "        vertical-align: top;\n",
       "    }\n",
       "\n",
       "    .dataframe thead th {\n",
       "        text-align: right;\n",
       "    }\n",
       "</style>\n",
       "<table border=\"1\" class=\"dataframe\">\n",
       "  <thead>\n",
       "    <tr style=\"text-align: right;\">\n",
       "      <th></th>\n",
       "      <th>Imdb_Puntos</th>\n",
       "      <th>Tmdb_Puntos</th>\n",
       "    </tr>\n",
       "  </thead>\n",
       "  <tbody>\n",
       "    <tr>\n",
       "      <th>count</th>\n",
       "      <td>6444.0</td>\n",
       "      <td>6444.0</td>\n",
       "    </tr>\n",
       "    <tr>\n",
       "      <th>mean</th>\n",
       "      <td>7.0</td>\n",
       "      <td>6.0</td>\n",
       "    </tr>\n",
       "    <tr>\n",
       "      <th>std</th>\n",
       "      <td>6.0</td>\n",
       "      <td>3.0</td>\n",
       "    </tr>\n",
       "    <tr>\n",
       "      <th>min</th>\n",
       "      <td>1.0</td>\n",
       "      <td>0.0</td>\n",
       "    </tr>\n",
       "    <tr>\n",
       "      <th>25%</th>\n",
       "      <td>6.0</td>\n",
       "      <td>6.0</td>\n",
       "    </tr>\n",
       "    <tr>\n",
       "      <th>50%</th>\n",
       "      <td>7.0</td>\n",
       "      <td>7.0</td>\n",
       "    </tr>\n",
       "    <tr>\n",
       "      <th>75%</th>\n",
       "      <td>8.0</td>\n",
       "      <td>8.0</td>\n",
       "    </tr>\n",
       "    <tr>\n",
       "      <th>max</th>\n",
       "      <td>360.0</td>\n",
       "      <td>10.0</td>\n",
       "    </tr>\n",
       "  </tbody>\n",
       "</table>\n",
       "</div>"
      ],
      "text/plain": [
       "       Imdb_Puntos  Tmdb_Puntos\n",
       "count       6444.0       6444.0\n",
       "mean           7.0          6.0\n",
       "std            6.0          3.0\n",
       "min            1.0          0.0\n",
       "25%            6.0          6.0\n",
       "50%            7.0          7.0\n",
       "75%            8.0          8.0\n",
       "max          360.0         10.0"
      ]
     },
     "execution_count": 165,
     "metadata": {},
     "output_type": "execute_result"
    }
   ],
   "source": [
    "# ESTADISTICOS RANKING\n",
    "\n",
    "round(puntos_comp.describe())\n",
    "\n",
    "# Puntuacions similares, con los mismo cuartiles y una media que se diferencia solo en un punto\n",
    "# El max, prob la subida de la media, y la desv más diferenciadas es por los valores no válidos"
   ]
  },
  {
   "cell_type": "code",
   "execution_count": 166,
   "metadata": {},
   "outputs": [],
   "source": [
    "# PUNTOS IMDB X PLATAFORMA\n",
    "puntos = puntos_comp.iloc[:, :3]\n",
    "\n",
    "# Pasamos a índice para la reagrupacion\n",
    "puntos = puntos.set_index(['Plataforma', 'Generos'], drop=True)"
   ]
  },
  {
   "cell_type": "code",
   "execution_count": 167,
   "metadata": {},
   "outputs": [],
   "source": [
    "# REAGRUPAMOS del 1 al 10\n",
    "\n",
    "for x in range(10):\n",
    "    puntos[(puntos['Imdb_Puntos'] > x) & (puntos['Imdb_Puntos'] < x + 1)] = x + 1\n",
    "\n",
    "puntos = puntos.reset_index()    \n",
    "puntos1 = puntos[['Generos', 'Imdb_Puntos']]"
   ]
  },
  {
   "cell_type": "code",
   "execution_count": 168,
   "metadata": {},
   "outputs": [],
   "source": [
    "# % PUNTOS SEGUN GENERO\n",
    "\n",
    "puntos_generos = puntos.groupby('Generos').count()\n",
    "puntos_generos_tot = puntos_generos.sum()\n",
    "mas_valorados = round(puntos_generos / puntos_generos_tot, 2)\n",
    "mas_valorados = mas_valorados.iloc[:,1]\n",
    "mas_valorados = pd.DataFrame(mas_valorados).reset_index()\n",
    "mas_valorados = mas_valorados.sort_values(by='Imdb_Puntos', ascending = False).reset_index(drop=True)\n",
    "\n",
    "# Eliminamos los valores = 0 para el gráfico:\n",
    "data_puntos_gen = mas_valorados.iloc[:13]\n",
    "data_puntos_gen = data_puntos_gen.sort_values(by='Imdb_Puntos', ascending = False).reset_index(drop=True)"
   ]
  },
  {
   "cell_type": "code",
   "execution_count": 169,
   "metadata": {},
   "outputs": [
    {
     "data": {
      "application/vnd.plotly.v1+json": {
       "config": {
        "plotlyServerURL": "https://plot.ly"
       },
       "data": [
        {
         "alignmentgroup": "True",
         "hovertemplate": "Generos=%{x}<br>Imdb_Puntos=%{text}<extra></extra>",
         "legendgroup": "",
         "marker": {
          "color": "white",
          "line": {
           "color": "white",
           "width": 0.5
          },
          "pattern": {
           "shape": ""
          }
         },
         "name": "",
         "offsetgroup": "",
         "orientation": "v",
         "showlegend": false,
         "text": [
          0.2,
          0.19,
          0.13,
          0.11,
          0.1,
          0.08,
          0.07,
          0.05,
          0.02,
          0.01,
          0.01,
          0,
          0
         ],
         "textposition": "auto",
         "texttemplate": "%{text:.2f}",
         "type": "bar",
         "x": [
          "drama",
          "comedy",
          "documentation",
          "scifi",
          "reality",
          "action",
          "animation",
          "crime",
          "family",
          "war",
          "thriller",
          "sport",
          "horror"
         ],
         "xaxis": "x",
         "y": [
          0.2,
          0.19,
          0.13,
          0.11,
          0.1,
          0.08,
          0.07,
          0.05,
          0.02,
          0.01,
          0.01,
          0,
          0
         ],
         "yaxis": "y"
        }
       ],
       "layout": {
        "barmode": "relative",
        "font": {
         "color": "#FFFFFF",
         "family": "Arial"
        },
        "legend": {
         "tracegroupgap": 0
        },
        "paper_bgcolor": "#000000",
        "plot_bgcolor": "#000000",
        "shapes": [
         {
          "line": {
           "color": "white",
           "dash": "dash",
           "width": 1
          },
          "type": "line",
          "x0": 0,
          "x1": 1,
          "xref": "x domain",
          "y0": 5,
          "y1": 5,
          "yref": "y"
         }
        ],
        "showlegend": false,
        "template": {
         "data": {
          "bar": [
           {
            "error_x": {
             "color": "#2a3f5f"
            },
            "error_y": {
             "color": "#2a3f5f"
            },
            "marker": {
             "line": {
              "color": "#E5ECF6",
              "width": 0.5
             },
             "pattern": {
              "fillmode": "overlay",
              "size": 10,
              "solidity": 0.2
             }
            },
            "type": "bar"
           }
          ],
          "barpolar": [
           {
            "marker": {
             "line": {
              "color": "#E5ECF6",
              "width": 0.5
             },
             "pattern": {
              "fillmode": "overlay",
              "size": 10,
              "solidity": 0.2
             }
            },
            "type": "barpolar"
           }
          ],
          "carpet": [
           {
            "aaxis": {
             "endlinecolor": "#2a3f5f",
             "gridcolor": "white",
             "linecolor": "white",
             "minorgridcolor": "white",
             "startlinecolor": "#2a3f5f"
            },
            "baxis": {
             "endlinecolor": "#2a3f5f",
             "gridcolor": "white",
             "linecolor": "white",
             "minorgridcolor": "white",
             "startlinecolor": "#2a3f5f"
            },
            "type": "carpet"
           }
          ],
          "choropleth": [
           {
            "colorbar": {
             "outlinewidth": 0,
             "ticks": ""
            },
            "type": "choropleth"
           }
          ],
          "contour": [
           {
            "colorbar": {
             "outlinewidth": 0,
             "ticks": ""
            },
            "colorscale": [
             [
              0,
              "#0d0887"
             ],
             [
              0.1111111111111111,
              "#46039f"
             ],
             [
              0.2222222222222222,
              "#7201a8"
             ],
             [
              0.3333333333333333,
              "#9c179e"
             ],
             [
              0.4444444444444444,
              "#bd3786"
             ],
             [
              0.5555555555555556,
              "#d8576b"
             ],
             [
              0.6666666666666666,
              "#ed7953"
             ],
             [
              0.7777777777777778,
              "#fb9f3a"
             ],
             [
              0.8888888888888888,
              "#fdca26"
             ],
             [
              1,
              "#f0f921"
             ]
            ],
            "type": "contour"
           }
          ],
          "contourcarpet": [
           {
            "colorbar": {
             "outlinewidth": 0,
             "ticks": ""
            },
            "type": "contourcarpet"
           }
          ],
          "heatmap": [
           {
            "colorbar": {
             "outlinewidth": 0,
             "ticks": ""
            },
            "colorscale": [
             [
              0,
              "#0d0887"
             ],
             [
              0.1111111111111111,
              "#46039f"
             ],
             [
              0.2222222222222222,
              "#7201a8"
             ],
             [
              0.3333333333333333,
              "#9c179e"
             ],
             [
              0.4444444444444444,
              "#bd3786"
             ],
             [
              0.5555555555555556,
              "#d8576b"
             ],
             [
              0.6666666666666666,
              "#ed7953"
             ],
             [
              0.7777777777777778,
              "#fb9f3a"
             ],
             [
              0.8888888888888888,
              "#fdca26"
             ],
             [
              1,
              "#f0f921"
             ]
            ],
            "type": "heatmap"
           }
          ],
          "heatmapgl": [
           {
            "colorbar": {
             "outlinewidth": 0,
             "ticks": ""
            },
            "colorscale": [
             [
              0,
              "#0d0887"
             ],
             [
              0.1111111111111111,
              "#46039f"
             ],
             [
              0.2222222222222222,
              "#7201a8"
             ],
             [
              0.3333333333333333,
              "#9c179e"
             ],
             [
              0.4444444444444444,
              "#bd3786"
             ],
             [
              0.5555555555555556,
              "#d8576b"
             ],
             [
              0.6666666666666666,
              "#ed7953"
             ],
             [
              0.7777777777777778,
              "#fb9f3a"
             ],
             [
              0.8888888888888888,
              "#fdca26"
             ],
             [
              1,
              "#f0f921"
             ]
            ],
            "type": "heatmapgl"
           }
          ],
          "histogram": [
           {
            "marker": {
             "pattern": {
              "fillmode": "overlay",
              "size": 10,
              "solidity": 0.2
             }
            },
            "type": "histogram"
           }
          ],
          "histogram2d": [
           {
            "colorbar": {
             "outlinewidth": 0,
             "ticks": ""
            },
            "colorscale": [
             [
              0,
              "#0d0887"
             ],
             [
              0.1111111111111111,
              "#46039f"
             ],
             [
              0.2222222222222222,
              "#7201a8"
             ],
             [
              0.3333333333333333,
              "#9c179e"
             ],
             [
              0.4444444444444444,
              "#bd3786"
             ],
             [
              0.5555555555555556,
              "#d8576b"
             ],
             [
              0.6666666666666666,
              "#ed7953"
             ],
             [
              0.7777777777777778,
              "#fb9f3a"
             ],
             [
              0.8888888888888888,
              "#fdca26"
             ],
             [
              1,
              "#f0f921"
             ]
            ],
            "type": "histogram2d"
           }
          ],
          "histogram2dcontour": [
           {
            "colorbar": {
             "outlinewidth": 0,
             "ticks": ""
            },
            "colorscale": [
             [
              0,
              "#0d0887"
             ],
             [
              0.1111111111111111,
              "#46039f"
             ],
             [
              0.2222222222222222,
              "#7201a8"
             ],
             [
              0.3333333333333333,
              "#9c179e"
             ],
             [
              0.4444444444444444,
              "#bd3786"
             ],
             [
              0.5555555555555556,
              "#d8576b"
             ],
             [
              0.6666666666666666,
              "#ed7953"
             ],
             [
              0.7777777777777778,
              "#fb9f3a"
             ],
             [
              0.8888888888888888,
              "#fdca26"
             ],
             [
              1,
              "#f0f921"
             ]
            ],
            "type": "histogram2dcontour"
           }
          ],
          "mesh3d": [
           {
            "colorbar": {
             "outlinewidth": 0,
             "ticks": ""
            },
            "type": "mesh3d"
           }
          ],
          "parcoords": [
           {
            "line": {
             "colorbar": {
              "outlinewidth": 0,
              "ticks": ""
             }
            },
            "type": "parcoords"
           }
          ],
          "pie": [
           {
            "automargin": true,
            "type": "pie"
           }
          ],
          "scatter": [
           {
            "fillpattern": {
             "fillmode": "overlay",
             "size": 10,
             "solidity": 0.2
            },
            "type": "scatter"
           }
          ],
          "scatter3d": [
           {
            "line": {
             "colorbar": {
              "outlinewidth": 0,
              "ticks": ""
             }
            },
            "marker": {
             "colorbar": {
              "outlinewidth": 0,
              "ticks": ""
             }
            },
            "type": "scatter3d"
           }
          ],
          "scattercarpet": [
           {
            "marker": {
             "colorbar": {
              "outlinewidth": 0,
              "ticks": ""
             }
            },
            "type": "scattercarpet"
           }
          ],
          "scattergeo": [
           {
            "marker": {
             "colorbar": {
              "outlinewidth": 0,
              "ticks": ""
             }
            },
            "type": "scattergeo"
           }
          ],
          "scattergl": [
           {
            "marker": {
             "colorbar": {
              "outlinewidth": 0,
              "ticks": ""
             }
            },
            "type": "scattergl"
           }
          ],
          "scattermapbox": [
           {
            "marker": {
             "colorbar": {
              "outlinewidth": 0,
              "ticks": ""
             }
            },
            "type": "scattermapbox"
           }
          ],
          "scatterpolar": [
           {
            "marker": {
             "colorbar": {
              "outlinewidth": 0,
              "ticks": ""
             }
            },
            "type": "scatterpolar"
           }
          ],
          "scatterpolargl": [
           {
            "marker": {
             "colorbar": {
              "outlinewidth": 0,
              "ticks": ""
             }
            },
            "type": "scatterpolargl"
           }
          ],
          "scatterternary": [
           {
            "marker": {
             "colorbar": {
              "outlinewidth": 0,
              "ticks": ""
             }
            },
            "type": "scatterternary"
           }
          ],
          "surface": [
           {
            "colorbar": {
             "outlinewidth": 0,
             "ticks": ""
            },
            "colorscale": [
             [
              0,
              "#0d0887"
             ],
             [
              0.1111111111111111,
              "#46039f"
             ],
             [
              0.2222222222222222,
              "#7201a8"
             ],
             [
              0.3333333333333333,
              "#9c179e"
             ],
             [
              0.4444444444444444,
              "#bd3786"
             ],
             [
              0.5555555555555556,
              "#d8576b"
             ],
             [
              0.6666666666666666,
              "#ed7953"
             ],
             [
              0.7777777777777778,
              "#fb9f3a"
             ],
             [
              0.8888888888888888,
              "#fdca26"
             ],
             [
              1,
              "#f0f921"
             ]
            ],
            "type": "surface"
           }
          ],
          "table": [
           {
            "cells": {
             "fill": {
              "color": "#EBF0F8"
             },
             "line": {
              "color": "white"
             }
            },
            "header": {
             "fill": {
              "color": "#C8D4E3"
             },
             "line": {
              "color": "white"
             }
            },
            "type": "table"
           }
          ]
         },
         "layout": {
          "annotationdefaults": {
           "arrowcolor": "#2a3f5f",
           "arrowhead": 0,
           "arrowwidth": 1
          },
          "autotypenumbers": "strict",
          "coloraxis": {
           "colorbar": {
            "outlinewidth": 0,
            "ticks": ""
           }
          },
          "colorscale": {
           "diverging": [
            [
             0,
             "#8e0152"
            ],
            [
             0.1,
             "#c51b7d"
            ],
            [
             0.2,
             "#de77ae"
            ],
            [
             0.3,
             "#f1b6da"
            ],
            [
             0.4,
             "#fde0ef"
            ],
            [
             0.5,
             "#f7f7f7"
            ],
            [
             0.6,
             "#e6f5d0"
            ],
            [
             0.7,
             "#b8e186"
            ],
            [
             0.8,
             "#7fbc41"
            ],
            [
             0.9,
             "#4d9221"
            ],
            [
             1,
             "#276419"
            ]
           ],
           "sequential": [
            [
             0,
             "#0d0887"
            ],
            [
             0.1111111111111111,
             "#46039f"
            ],
            [
             0.2222222222222222,
             "#7201a8"
            ],
            [
             0.3333333333333333,
             "#9c179e"
            ],
            [
             0.4444444444444444,
             "#bd3786"
            ],
            [
             0.5555555555555556,
             "#d8576b"
            ],
            [
             0.6666666666666666,
             "#ed7953"
            ],
            [
             0.7777777777777778,
             "#fb9f3a"
            ],
            [
             0.8888888888888888,
             "#fdca26"
            ],
            [
             1,
             "#f0f921"
            ]
           ],
           "sequentialminus": [
            [
             0,
             "#0d0887"
            ],
            [
             0.1111111111111111,
             "#46039f"
            ],
            [
             0.2222222222222222,
             "#7201a8"
            ],
            [
             0.3333333333333333,
             "#9c179e"
            ],
            [
             0.4444444444444444,
             "#bd3786"
            ],
            [
             0.5555555555555556,
             "#d8576b"
            ],
            [
             0.6666666666666666,
             "#ed7953"
            ],
            [
             0.7777777777777778,
             "#fb9f3a"
            ],
            [
             0.8888888888888888,
             "#fdca26"
            ],
            [
             1,
             "#f0f921"
            ]
           ]
          },
          "colorway": [
           "#636efa",
           "#EF553B",
           "#00cc96",
           "#ab63fa",
           "#FFA15A",
           "#19d3f3",
           "#FF6692",
           "#B6E880",
           "#FF97FF",
           "#FECB52"
          ],
          "font": {
           "color": "#2a3f5f"
          },
          "geo": {
           "bgcolor": "white",
           "lakecolor": "white",
           "landcolor": "#E5ECF6",
           "showlakes": true,
           "showland": true,
           "subunitcolor": "white"
          },
          "hoverlabel": {
           "align": "left"
          },
          "hovermode": "closest",
          "mapbox": {
           "style": "light"
          },
          "paper_bgcolor": "white",
          "plot_bgcolor": "#E5ECF6",
          "polar": {
           "angularaxis": {
            "gridcolor": "white",
            "linecolor": "white",
            "ticks": ""
           },
           "bgcolor": "#E5ECF6",
           "radialaxis": {
            "gridcolor": "white",
            "linecolor": "white",
            "ticks": ""
           }
          },
          "scene": {
           "xaxis": {
            "backgroundcolor": "#E5ECF6",
            "gridcolor": "white",
            "gridwidth": 2,
            "linecolor": "white",
            "showbackground": true,
            "ticks": "",
            "zerolinecolor": "white"
           },
           "yaxis": {
            "backgroundcolor": "#E5ECF6",
            "gridcolor": "white",
            "gridwidth": 2,
            "linecolor": "white",
            "showbackground": true,
            "ticks": "",
            "zerolinecolor": "white"
           },
           "zaxis": {
            "backgroundcolor": "#E5ECF6",
            "gridcolor": "white",
            "gridwidth": 2,
            "linecolor": "white",
            "showbackground": true,
            "ticks": "",
            "zerolinecolor": "white"
           }
          },
          "shapedefaults": {
           "line": {
            "color": "#2a3f5f"
           }
          },
          "ternary": {
           "aaxis": {
            "gridcolor": "white",
            "linecolor": "white",
            "ticks": ""
           },
           "baxis": {
            "gridcolor": "white",
            "linecolor": "white",
            "ticks": ""
           },
           "bgcolor": "#E5ECF6",
           "caxis": {
            "gridcolor": "white",
            "linecolor": "white",
            "ticks": ""
           }
          },
          "title": {
           "x": 0.05
          },
          "xaxis": {
           "automargin": true,
           "gridcolor": "white",
           "linecolor": "white",
           "ticks": "",
           "title": {
            "standoff": 15
           },
           "zerolinecolor": "white",
           "zerolinewidth": 2
          },
          "yaxis": {
           "automargin": true,
           "gridcolor": "white",
           "linecolor": "white",
           "ticks": "",
           "title": {
            "standoff": 15
           },
           "zerolinecolor": "white",
           "zerolinewidth": 2
          }
         }
        },
        "title": {
         "font": {
          "family": "Arial"
         },
         "text": "<b>Puntuacion Media Contenido Plataforma"
        },
        "uniformtext": {
         "minsize": 12,
         "mode": "hide"
        },
        "xaxis": {
         "anchor": "y",
         "domain": [
          0,
          1
         ],
         "title": {
          "text": "Generos"
         }
        },
        "yaxis": {
         "anchor": "x",
         "domain": [
          0,
          1
         ],
         "range": [
          0,
          0.3
         ],
         "tickvals": [
          0,
          0.1,
          0.2,
          0.3,
          0.4,
          0.5,
          0.6,
          0.7,
          0.8,
          0.9,
          1
         ],
         "title": {
          "text": "Imdb_Puntos"
         },
         "visible": false
        }
       }
      }
     },
     "metadata": {},
     "output_type": "display_data"
    }
   ],
   "source": [
    "# GRAFICO\n",
    "\n",
    "fig = px.bar(data_puntos_gen,  x='Generos', y='Imdb_Puntos', \n",
    "title = \"<b>Puntuacion Media Contenido Plataforma\",\n",
    "color_discrete_sequence =['white']*len(data_puntos_gen),\n",
    "text = \"Imdb_Puntos\",\n",
    ")\n",
    "\n",
    "fig.update_traces(marker=dict(line=dict(color='white', width=0.5)))\n",
    "\n",
    "fig.add_hline(y=5, line_width=1, line_dash = 'dash', line_color=\"white\")\n",
    "\n",
    "fig.update_traces(texttemplate='%{text:.2f}')\n",
    "\n",
    "fig.update_layout(uniformtext_minsize=12, uniformtext_mode='hide', font_family = 'Arial', title_font_family='Arial', font_color = '#FFFFFF', \n",
    "plot_bgcolor='#000000', paper_bgcolor='#000000',showlegend=False)\n",
    "\n",
    "\n",
    "fig.update_yaxes(range = (0, 0.3), tickvals= [0., 0.1, 0.2, .3,  .40,  .5,  .6,  .7, .8,  .9, 1.], visible=False)\n",
    "\n",
    "\n",
    "fig.show()\n",
    "\n",
    "# Drama y comedia los más populares, como en películas\n",
    "# Doc en series está en el 3 puesto (4 peliculas)\n",
    "# Thriller, 3 en peliculas, no tiene mucha puntuación --> o no gustan las series, o no tiene gran cantidad de publico (asumo cuántos más votos, más público)"
   ]
  },
  {
   "cell_type": "code",
   "execution_count": 170,
   "metadata": {},
   "outputs": [],
   "source": [
    "# PUNTOS POR PLATAFORMA\n",
    "puntos_plat = puntos[['Plataforma', 'Imdb_Puntos']].set_index(['Plataforma'])\n",
    "puntos_plat\n",
    "\n",
    "# CALCULAMOS MEDIA POR PLATAFORMA\n",
    "def media_puntos(df_puntos, plataforma):\n",
    "\n",
    "    media_plataforma = round(df_puntos.loc[plataforma]['Imdb_Puntos'].mean(), 2)\n",
    "    return media_plataforma\n",
    "\n",
    "media_amazon = media_puntos(puntos_plat, 'Amazon')    \n",
    "media_netflix = media_puntos(puntos_plat, 'Netflix') \n",
    "media_hbo = media_puntos(puntos_plat, 'HBO')\n",
    "media_hulu = media_puntos(puntos_plat, 'Hulu') \n",
    "media_disney = media_puntos(puntos_plat, 'Disney') \n",
    "media_paramount = media_puntos(puntos_plat, 'Paramount') \n",
    "\n",
    "medias = {  'medias': [media_disney, media_hbo, media_netflix, media_hulu, media_amazon, media_paramount],\\\n",
    "     'index': ['Disney', 'HBO', 'Netflix', 'hulu', 'Amazon', 'Paramount']  }\n",
    "medias = pd.DataFrame(medias)\n",
    "\n",
    "# DESTACA UN POCO MÁS NETFLIX -- en películas, Disney claramente sobrepasaba al resto, en series está sobre la línea"
   ]
  },
  {
   "cell_type": "code",
   "execution_count": 171,
   "metadata": {},
   "outputs": [
    {
     "data": {
      "application/vnd.plotly.v1+json": {
       "config": {
        "plotlyServerURL": "https://plot.ly"
       },
       "data": [
        {
         "alignmentgroup": "True",
         "hovertemplate": "index=%{x}<br>medias=%{text}<extra></extra>",
         "legendgroup": "",
         "marker": {
          "color": "white",
          "line": {
           "color": "black",
           "width": 0.5
          },
          "pattern": {
           "shape": ""
          }
         },
         "name": "",
         "offsetgroup": "",
         "orientation": "v",
         "showlegend": false,
         "text": [
          7.05,
          7.74,
          7.99,
          7.88,
          7.5,
          6.9
         ],
         "textposition": "auto",
         "texttemplate": "%{text:.2f}",
         "type": "bar",
         "x": [
          "Disney",
          "HBO",
          "Netflix",
          "hulu",
          "Amazon",
          "Paramount"
         ],
         "xaxis": "x",
         "y": [
          7.05,
          7.74,
          7.99,
          7.88,
          7.5,
          6.9
         ],
         "yaxis": "y"
        }
       ],
       "layout": {
        "barmode": "relative",
        "font": {
         "color": "#FFFFFF",
         "family": "Arial"
        },
        "legend": {
         "tracegroupgap": 0
        },
        "paper_bgcolor": "#000000",
        "plot_bgcolor": "#000000",
        "shapes": [
         {
          "line": {
           "color": "black",
           "dash": "dash",
           "width": 1
          },
          "type": "line",
          "x0": 0,
          "x1": 1,
          "xref": "x domain",
          "y0": 5,
          "y1": 5,
          "yref": "y"
         }
        ],
        "showlegend": false,
        "template": {
         "data": {
          "bar": [
           {
            "error_x": {
             "color": "#2a3f5f"
            },
            "error_y": {
             "color": "#2a3f5f"
            },
            "marker": {
             "line": {
              "color": "#E5ECF6",
              "width": 0.5
             },
             "pattern": {
              "fillmode": "overlay",
              "size": 10,
              "solidity": 0.2
             }
            },
            "type": "bar"
           }
          ],
          "barpolar": [
           {
            "marker": {
             "line": {
              "color": "#E5ECF6",
              "width": 0.5
             },
             "pattern": {
              "fillmode": "overlay",
              "size": 10,
              "solidity": 0.2
             }
            },
            "type": "barpolar"
           }
          ],
          "carpet": [
           {
            "aaxis": {
             "endlinecolor": "#2a3f5f",
             "gridcolor": "white",
             "linecolor": "white",
             "minorgridcolor": "white",
             "startlinecolor": "#2a3f5f"
            },
            "baxis": {
             "endlinecolor": "#2a3f5f",
             "gridcolor": "white",
             "linecolor": "white",
             "minorgridcolor": "white",
             "startlinecolor": "#2a3f5f"
            },
            "type": "carpet"
           }
          ],
          "choropleth": [
           {
            "colorbar": {
             "outlinewidth": 0,
             "ticks": ""
            },
            "type": "choropleth"
           }
          ],
          "contour": [
           {
            "colorbar": {
             "outlinewidth": 0,
             "ticks": ""
            },
            "colorscale": [
             [
              0,
              "#0d0887"
             ],
             [
              0.1111111111111111,
              "#46039f"
             ],
             [
              0.2222222222222222,
              "#7201a8"
             ],
             [
              0.3333333333333333,
              "#9c179e"
             ],
             [
              0.4444444444444444,
              "#bd3786"
             ],
             [
              0.5555555555555556,
              "#d8576b"
             ],
             [
              0.6666666666666666,
              "#ed7953"
             ],
             [
              0.7777777777777778,
              "#fb9f3a"
             ],
             [
              0.8888888888888888,
              "#fdca26"
             ],
             [
              1,
              "#f0f921"
             ]
            ],
            "type": "contour"
           }
          ],
          "contourcarpet": [
           {
            "colorbar": {
             "outlinewidth": 0,
             "ticks": ""
            },
            "type": "contourcarpet"
           }
          ],
          "heatmap": [
           {
            "colorbar": {
             "outlinewidth": 0,
             "ticks": ""
            },
            "colorscale": [
             [
              0,
              "#0d0887"
             ],
             [
              0.1111111111111111,
              "#46039f"
             ],
             [
              0.2222222222222222,
              "#7201a8"
             ],
             [
              0.3333333333333333,
              "#9c179e"
             ],
             [
              0.4444444444444444,
              "#bd3786"
             ],
             [
              0.5555555555555556,
              "#d8576b"
             ],
             [
              0.6666666666666666,
              "#ed7953"
             ],
             [
              0.7777777777777778,
              "#fb9f3a"
             ],
             [
              0.8888888888888888,
              "#fdca26"
             ],
             [
              1,
              "#f0f921"
             ]
            ],
            "type": "heatmap"
           }
          ],
          "heatmapgl": [
           {
            "colorbar": {
             "outlinewidth": 0,
             "ticks": ""
            },
            "colorscale": [
             [
              0,
              "#0d0887"
             ],
             [
              0.1111111111111111,
              "#46039f"
             ],
             [
              0.2222222222222222,
              "#7201a8"
             ],
             [
              0.3333333333333333,
              "#9c179e"
             ],
             [
              0.4444444444444444,
              "#bd3786"
             ],
             [
              0.5555555555555556,
              "#d8576b"
             ],
             [
              0.6666666666666666,
              "#ed7953"
             ],
             [
              0.7777777777777778,
              "#fb9f3a"
             ],
             [
              0.8888888888888888,
              "#fdca26"
             ],
             [
              1,
              "#f0f921"
             ]
            ],
            "type": "heatmapgl"
           }
          ],
          "histogram": [
           {
            "marker": {
             "pattern": {
              "fillmode": "overlay",
              "size": 10,
              "solidity": 0.2
             }
            },
            "type": "histogram"
           }
          ],
          "histogram2d": [
           {
            "colorbar": {
             "outlinewidth": 0,
             "ticks": ""
            },
            "colorscale": [
             [
              0,
              "#0d0887"
             ],
             [
              0.1111111111111111,
              "#46039f"
             ],
             [
              0.2222222222222222,
              "#7201a8"
             ],
             [
              0.3333333333333333,
              "#9c179e"
             ],
             [
              0.4444444444444444,
              "#bd3786"
             ],
             [
              0.5555555555555556,
              "#d8576b"
             ],
             [
              0.6666666666666666,
              "#ed7953"
             ],
             [
              0.7777777777777778,
              "#fb9f3a"
             ],
             [
              0.8888888888888888,
              "#fdca26"
             ],
             [
              1,
              "#f0f921"
             ]
            ],
            "type": "histogram2d"
           }
          ],
          "histogram2dcontour": [
           {
            "colorbar": {
             "outlinewidth": 0,
             "ticks": ""
            },
            "colorscale": [
             [
              0,
              "#0d0887"
             ],
             [
              0.1111111111111111,
              "#46039f"
             ],
             [
              0.2222222222222222,
              "#7201a8"
             ],
             [
              0.3333333333333333,
              "#9c179e"
             ],
             [
              0.4444444444444444,
              "#bd3786"
             ],
             [
              0.5555555555555556,
              "#d8576b"
             ],
             [
              0.6666666666666666,
              "#ed7953"
             ],
             [
              0.7777777777777778,
              "#fb9f3a"
             ],
             [
              0.8888888888888888,
              "#fdca26"
             ],
             [
              1,
              "#f0f921"
             ]
            ],
            "type": "histogram2dcontour"
           }
          ],
          "mesh3d": [
           {
            "colorbar": {
             "outlinewidth": 0,
             "ticks": ""
            },
            "type": "mesh3d"
           }
          ],
          "parcoords": [
           {
            "line": {
             "colorbar": {
              "outlinewidth": 0,
              "ticks": ""
             }
            },
            "type": "parcoords"
           }
          ],
          "pie": [
           {
            "automargin": true,
            "type": "pie"
           }
          ],
          "scatter": [
           {
            "fillpattern": {
             "fillmode": "overlay",
             "size": 10,
             "solidity": 0.2
            },
            "type": "scatter"
           }
          ],
          "scatter3d": [
           {
            "line": {
             "colorbar": {
              "outlinewidth": 0,
              "ticks": ""
             }
            },
            "marker": {
             "colorbar": {
              "outlinewidth": 0,
              "ticks": ""
             }
            },
            "type": "scatter3d"
           }
          ],
          "scattercarpet": [
           {
            "marker": {
             "colorbar": {
              "outlinewidth": 0,
              "ticks": ""
             }
            },
            "type": "scattercarpet"
           }
          ],
          "scattergeo": [
           {
            "marker": {
             "colorbar": {
              "outlinewidth": 0,
              "ticks": ""
             }
            },
            "type": "scattergeo"
           }
          ],
          "scattergl": [
           {
            "marker": {
             "colorbar": {
              "outlinewidth": 0,
              "ticks": ""
             }
            },
            "type": "scattergl"
           }
          ],
          "scattermapbox": [
           {
            "marker": {
             "colorbar": {
              "outlinewidth": 0,
              "ticks": ""
             }
            },
            "type": "scattermapbox"
           }
          ],
          "scatterpolar": [
           {
            "marker": {
             "colorbar": {
              "outlinewidth": 0,
              "ticks": ""
             }
            },
            "type": "scatterpolar"
           }
          ],
          "scatterpolargl": [
           {
            "marker": {
             "colorbar": {
              "outlinewidth": 0,
              "ticks": ""
             }
            },
            "type": "scatterpolargl"
           }
          ],
          "scatterternary": [
           {
            "marker": {
             "colorbar": {
              "outlinewidth": 0,
              "ticks": ""
             }
            },
            "type": "scatterternary"
           }
          ],
          "surface": [
           {
            "colorbar": {
             "outlinewidth": 0,
             "ticks": ""
            },
            "colorscale": [
             [
              0,
              "#0d0887"
             ],
             [
              0.1111111111111111,
              "#46039f"
             ],
             [
              0.2222222222222222,
              "#7201a8"
             ],
             [
              0.3333333333333333,
              "#9c179e"
             ],
             [
              0.4444444444444444,
              "#bd3786"
             ],
             [
              0.5555555555555556,
              "#d8576b"
             ],
             [
              0.6666666666666666,
              "#ed7953"
             ],
             [
              0.7777777777777778,
              "#fb9f3a"
             ],
             [
              0.8888888888888888,
              "#fdca26"
             ],
             [
              1,
              "#f0f921"
             ]
            ],
            "type": "surface"
           }
          ],
          "table": [
           {
            "cells": {
             "fill": {
              "color": "#EBF0F8"
             },
             "line": {
              "color": "white"
             }
            },
            "header": {
             "fill": {
              "color": "#C8D4E3"
             },
             "line": {
              "color": "white"
             }
            },
            "type": "table"
           }
          ]
         },
         "layout": {
          "annotationdefaults": {
           "arrowcolor": "#2a3f5f",
           "arrowhead": 0,
           "arrowwidth": 1
          },
          "autotypenumbers": "strict",
          "coloraxis": {
           "colorbar": {
            "outlinewidth": 0,
            "ticks": ""
           }
          },
          "colorscale": {
           "diverging": [
            [
             0,
             "#8e0152"
            ],
            [
             0.1,
             "#c51b7d"
            ],
            [
             0.2,
             "#de77ae"
            ],
            [
             0.3,
             "#f1b6da"
            ],
            [
             0.4,
             "#fde0ef"
            ],
            [
             0.5,
             "#f7f7f7"
            ],
            [
             0.6,
             "#e6f5d0"
            ],
            [
             0.7,
             "#b8e186"
            ],
            [
             0.8,
             "#7fbc41"
            ],
            [
             0.9,
             "#4d9221"
            ],
            [
             1,
             "#276419"
            ]
           ],
           "sequential": [
            [
             0,
             "#0d0887"
            ],
            [
             0.1111111111111111,
             "#46039f"
            ],
            [
             0.2222222222222222,
             "#7201a8"
            ],
            [
             0.3333333333333333,
             "#9c179e"
            ],
            [
             0.4444444444444444,
             "#bd3786"
            ],
            [
             0.5555555555555556,
             "#d8576b"
            ],
            [
             0.6666666666666666,
             "#ed7953"
            ],
            [
             0.7777777777777778,
             "#fb9f3a"
            ],
            [
             0.8888888888888888,
             "#fdca26"
            ],
            [
             1,
             "#f0f921"
            ]
           ],
           "sequentialminus": [
            [
             0,
             "#0d0887"
            ],
            [
             0.1111111111111111,
             "#46039f"
            ],
            [
             0.2222222222222222,
             "#7201a8"
            ],
            [
             0.3333333333333333,
             "#9c179e"
            ],
            [
             0.4444444444444444,
             "#bd3786"
            ],
            [
             0.5555555555555556,
             "#d8576b"
            ],
            [
             0.6666666666666666,
             "#ed7953"
            ],
            [
             0.7777777777777778,
             "#fb9f3a"
            ],
            [
             0.8888888888888888,
             "#fdca26"
            ],
            [
             1,
             "#f0f921"
            ]
           ]
          },
          "colorway": [
           "#636efa",
           "#EF553B",
           "#00cc96",
           "#ab63fa",
           "#FFA15A",
           "#19d3f3",
           "#FF6692",
           "#B6E880",
           "#FF97FF",
           "#FECB52"
          ],
          "font": {
           "color": "#2a3f5f"
          },
          "geo": {
           "bgcolor": "white",
           "lakecolor": "white",
           "landcolor": "#E5ECF6",
           "showlakes": true,
           "showland": true,
           "subunitcolor": "white"
          },
          "hoverlabel": {
           "align": "left"
          },
          "hovermode": "closest",
          "mapbox": {
           "style": "light"
          },
          "paper_bgcolor": "white",
          "plot_bgcolor": "#E5ECF6",
          "polar": {
           "angularaxis": {
            "gridcolor": "white",
            "linecolor": "white",
            "ticks": ""
           },
           "bgcolor": "#E5ECF6",
           "radialaxis": {
            "gridcolor": "white",
            "linecolor": "white",
            "ticks": ""
           }
          },
          "scene": {
           "xaxis": {
            "backgroundcolor": "#E5ECF6",
            "gridcolor": "white",
            "gridwidth": 2,
            "linecolor": "white",
            "showbackground": true,
            "ticks": "",
            "zerolinecolor": "white"
           },
           "yaxis": {
            "backgroundcolor": "#E5ECF6",
            "gridcolor": "white",
            "gridwidth": 2,
            "linecolor": "white",
            "showbackground": true,
            "ticks": "",
            "zerolinecolor": "white"
           },
           "zaxis": {
            "backgroundcolor": "#E5ECF6",
            "gridcolor": "white",
            "gridwidth": 2,
            "linecolor": "white",
            "showbackground": true,
            "ticks": "",
            "zerolinecolor": "white"
           }
          },
          "shapedefaults": {
           "line": {
            "color": "#2a3f5f"
           }
          },
          "ternary": {
           "aaxis": {
            "gridcolor": "white",
            "linecolor": "white",
            "ticks": ""
           },
           "baxis": {
            "gridcolor": "white",
            "linecolor": "white",
            "ticks": ""
           },
           "bgcolor": "#E5ECF6",
           "caxis": {
            "gridcolor": "white",
            "linecolor": "white",
            "ticks": ""
           }
          },
          "title": {
           "x": 0.05
          },
          "xaxis": {
           "automargin": true,
           "gridcolor": "white",
           "linecolor": "white",
           "ticks": "",
           "title": {
            "standoff": 15
           },
           "zerolinecolor": "white",
           "zerolinewidth": 2
          },
          "yaxis": {
           "automargin": true,
           "gridcolor": "white",
           "linecolor": "white",
           "ticks": "",
           "title": {
            "standoff": 15
           },
           "zerolinecolor": "white",
           "zerolinewidth": 2
          }
         }
        },
        "title": {
         "font": {
          "family": "Arial"
         },
         "text": "<b>Puntuacion Media Contenido Plataforma"
        },
        "uniformtext": {
         "minsize": 12,
         "mode": "hide"
        },
        "xaxis": {
         "anchor": "y",
         "domain": [
          0,
          1
         ],
         "title": {
          "text": "index"
         }
        },
        "yaxis": {
         "anchor": "x",
         "domain": [
          0,
          1
         ],
         "title": {
          "text": "medias"
         },
         "visible": false
        }
       }
      }
     },
     "metadata": {},
     "output_type": "display_data"
    }
   ],
   "source": [
    "# GRAFICO\n",
    "\n",
    "fig = px.bar(medias,  x='index', y='medias', \n",
    "title = \"<b>Puntuacion Media Contenido Plataforma\",\n",
    "color_discrete_sequence =['white']*len(medias),\n",
    "text = \"medias\",\n",
    ")\n",
    "\n",
    "fig.update_traces(marker=dict(line=dict(color='black', width=0.5)),\n",
    "                  #hovertemplate = values, textinfo = 'label+text',\n",
    "                  #textposition='inside'\n",
    "                  )\n",
    "\n",
    "fig.add_hline(y=5, line_width=1, line_dash = 'dash', line_color=\"black\")\n",
    "\n",
    "fig.update_traces(texttemplate='%{text:.2f}')\n",
    "\n",
    "fig.update_layout(uniformtext_minsize=12, uniformtext_mode='hide', font_family = 'Arial', title_font_family='Arial', font_color = '#FFFFFF', \n",
    "plot_bgcolor='#000000', paper_bgcolor='#000000',showlegend=False)\n",
    "\n",
    "fig.update_yaxes(visible = False)\n",
    "\n",
    "fig.show()\n"
   ]
  },
  {
   "cell_type": "markdown",
   "metadata": {},
   "source": [
    "----"
   ]
  },
  {
   "cell_type": "markdown",
   "metadata": {},
   "source": [
    "**2.5.: Por Género**"
   ]
  },
  {
   "cell_type": "code",
   "execution_count": 172,
   "metadata": {},
   "outputs": [
    {
     "name": "stderr",
     "output_type": "stream",
     "text": [
      "/Library/Frameworks/Python.framework/Versions/3.7/lib/python3.7/site-packages/ipykernel_launcher.py:11: SettingWithCopyWarning:\n",
      "\n",
      "\n",
      "A value is trying to be set on a copy of a slice from a DataFrame.\n",
      "Try using .loc[row_indexer,col_indexer] = value instead\n",
      "\n",
      "See the caveats in the documentation: https://pandas.pydata.org/pandas-docs/stable/user_guide/indexing.html#returning-a-view-versus-a-copy\n",
      "\n"
     ]
    }
   ],
   "source": [
    "# DISTRIBUCION CONTENIDO POR GÉNERO\n",
    "\n",
    "# generos\n",
    "\n",
    "generos = df_todos[['Plataforma', 'Generos', 'Titulo']]\n",
    "generos = generos.groupby(by=['Plataforma', 'Generos']).count().reset_index()\n",
    "\n",
    "def generos_plat(df_generos, plataforma):\n",
    "\n",
    "    generos_plataforma = df_generos[df_generos['Plataforma'] == plataforma]\n",
    "    generos_plataforma['Titulo'] = round(generos_plataforma['Titulo'] / generos_plataforma['Titulo'].sum() * 100, 2)\n",
    "    generos_plataforma.columns = ['Plataforma', 'Generos', 'Peso_Generos']\n",
    "    del generos_plataforma['Plataforma']\n",
    "    \n",
    "    return generos_plataforma\n",
    "\n",
    "generos_amazon = generos_plat(generos, 'Amazon')\n",
    "generos_netflix = generos_plat(generos, 'Netflix')\n",
    "generos_hbo = generos_plat(generos, 'HBO')\n",
    "generos_hulu = generos_plat(generos, 'Hulu')\n",
    "generos_disney = generos_plat(generos, 'Disney')  \n",
    "generos_paramount = generos_plat(generos, 'Paramount')     \n",
    "\n",
    "pesos_generos = generos_amazon.merge(generos_netflix, left_on = 'Generos', right_on= 'Generos' , suffixes = ('_Amazon', '_Netflix'))\\\n",
    "    .merge(generos_hbo, left_on = 'Generos', right_on= 'Generos', suffixes = ('_Netflix', '_HBO'))\\\n",
    "    .merge(generos_hulu, left_on = 'Generos', right_on= 'Generos', suffixes = ('_HBO', '_Hulu'))\\\n",
    "        .merge(generos_disney, left_on = 'Generos', right_on= 'Generos', suffixes = ('_Hulu', '_Disney'))\\\n",
    "        .merge(generos_paramount, left_on = 'Generos', right_on= 'Generos', suffixes = ('_Disney', '_Paramount')).sort_values(by='Peso_Generos_Amazon', ascending = False)\n",
    "\n",
    "pesos_generos.set_index('Generos', inplace=True)\n",
    "pesos_generos.columns = ['Amazon', 'Netflix', 'HBO', 'Hulu', 'Disney', 'Paramount']        "
   ]
  },
  {
   "cell_type": "code",
   "execution_count": 173,
   "metadata": {},
   "outputs": [],
   "source": [
    "pesos_genero = pesos_generos.unstack().reset_index()\n",
    "pesos_genero.columns = ['Plataforma', 'Generos', 'Peso']"
   ]
  },
  {
   "cell_type": "code",
   "execution_count": 174,
   "metadata": {},
   "outputs": [
    {
     "data": {
      "application/vnd.plotly.v1+json": {
       "config": {
        "plotlyServerURL": "https://plot.ly"
       },
       "data": [
        {
         "alignmentgroup": "True",
         "hovertemplate": "Plataforma=Amazon<br>Generos=%{x}<br>Peso=%{y}<extra></extra>",
         "legendgroup": "Amazon",
         "marker": {
          "color": "#9B9B9B",
          "line": {
           "color": "white",
           "width": 0.5
          },
          "pattern": {
           "shape": ""
          }
         },
         "name": "Amazon",
         "offsetgroup": "Amazon",
         "orientation": "v",
         "showlegend": true,
         "textposition": "auto",
         "type": "bar",
         "x": [
          "drama",
          "comedy",
          "documentation",
          "animation",
          "reality",
          "scifi",
          "action",
          "crime",
          "family",
          "war",
          "thriller",
          "western",
          "fantasy",
          "music"
         ],
         "xaxis": "x",
         "y": [
          24.94,
          16.35,
          13.74,
          10.51,
          7.83,
          7.83,
          6.83,
          3.61,
          2.53,
          1.38,
          1.07,
          0.69,
          0.38,
          0.31
         ],
         "yaxis": "y"
        },
        {
         "alignmentgroup": "True",
         "hovertemplate": "Plataforma=Netflix<br>Generos=%{x}<br>Peso=%{y}<extra></extra>",
         "legendgroup": "Netflix",
         "marker": {
          "color": "#D10600",
          "line": {
           "color": "white",
           "width": 0.5
          },
          "pattern": {
           "shape": ""
          }
         },
         "name": "Netflix",
         "offsetgroup": "Netflix",
         "orientation": "v",
         "showlegend": true,
         "textposition": "auto",
         "type": "bar",
         "x": [
          "drama",
          "comedy",
          "documentation",
          "animation",
          "reality",
          "scifi",
          "action",
          "crime",
          "family",
          "war",
          "thriller",
          "western",
          "fantasy",
          "music"
         ],
         "xaxis": "x",
         "y": [
          24.62,
          17.17,
          10.02,
          6.2,
          8.64,
          11.12,
          8.34,
          6.95,
          1.59,
          1.54,
          1.79,
          0.3,
          0.6,
          0.3
         ],
         "yaxis": "y"
        },
        {
         "alignmentgroup": "True",
         "hovertemplate": "Plataforma=HBO<br>Generos=%{x}<br>Peso=%{y}<extra></extra>",
         "legendgroup": "HBO",
         "marker": {
          "color": "#460076",
          "line": {
           "color": "white",
           "width": 0.5
          },
          "pattern": {
           "shape": ""
          }
         },
         "name": "HBO",
         "offsetgroup": "HBO",
         "orientation": "v",
         "showlegend": true,
         "textposition": "auto",
         "type": "bar",
         "x": [
          "drama",
          "comedy",
          "documentation",
          "animation",
          "reality",
          "scifi",
          "action",
          "crime",
          "family",
          "war",
          "thriller",
          "western",
          "fantasy",
          "music"
         ],
         "xaxis": "x",
         "y": [
          20.46,
          25.61,
          13.55,
          6.1,
          7.18,
          10.3,
          7.32,
          4.34,
          1.22,
          1.08,
          1.36,
          0.14,
          0.27,
          0.14
         ],
         "yaxis": "y"
        },
        {
         "alignmentgroup": "True",
         "hovertemplate": "Plataforma=Hulu<br>Generos=%{x}<br>Peso=%{y}<extra></extra>",
         "legendgroup": "Hulu",
         "marker": {
          "color": "#FF6692",
          "line": {
           "color": "white",
           "width": 0.5
          },
          "pattern": {
           "shape": ""
          }
         },
         "name": "Hulu",
         "offsetgroup": "Hulu",
         "orientation": "v",
         "showlegend": true,
         "textposition": "auto",
         "type": "bar",
         "x": [
          "drama",
          "comedy",
          "documentation",
          "animation",
          "reality",
          "scifi",
          "action",
          "crime",
          "family",
          "war",
          "thriller",
          "western",
          "fantasy",
          "music"
         ],
         "xaxis": "x",
         "y": [
          19.4,
          20.32,
          6.95,
          5.73,
          13.06,
          16.81,
          8.86,
          3.82,
          1.6,
          1.15,
          0.69,
          0.15,
          0.08,
          0.23
         ],
         "yaxis": "y"
        },
        {
         "alignmentgroup": "True",
         "hovertemplate": "Plataforma=Disney<br>Generos=%{x}<br>Peso=%{y}<extra></extra>",
         "legendgroup": "Disney",
         "marker": {
          "color": "#3800C2",
          "line": {
           "color": "white",
           "width": 0.5
          },
          "pattern": {
           "shape": ""
          }
         },
         "name": "Disney",
         "offsetgroup": "Disney",
         "orientation": "v",
         "showlegend": true,
         "textposition": "auto",
         "type": "bar",
         "x": [
          "drama",
          "comedy",
          "documentation",
          "animation",
          "reality",
          "scifi",
          "action",
          "crime",
          "family",
          "war",
          "thriller",
          "western",
          "fantasy",
          "music"
         ],
         "xaxis": "x",
         "y": [
          4.53,
          17.88,
          25.44,
          10.58,
          7.3,
          13.6,
          11.84,
          0.25,
          5.29,
          0.25,
          0.5,
          0.5,
          0.76,
          1.01
         ],
         "yaxis": "y"
        },
        {
         "alignmentgroup": "True",
         "hovertemplate": "Plataforma=Paramount<br>Generos=%{x}<br>Peso=%{y}<extra></extra>",
         "legendgroup": "Paramount",
         "marker": {
          "color": "#FFFFFF",
          "line": {
           "color": "white",
           "width": 0.5
          },
          "pattern": {
           "shape": ""
          }
         },
         "name": "Paramount",
         "offsetgroup": "Paramount",
         "orientation": "v",
         "showlegend": true,
         "textposition": "auto",
         "type": "bar",
         "x": [
          "drama",
          "comedy",
          "documentation",
          "animation",
          "reality",
          "scifi",
          "action",
          "crime",
          "family",
          "war",
          "thriller",
          "western",
          "fantasy",
          "music"
         ],
         "xaxis": "x",
         "y": [
          8.25,
          24.09,
          22.77,
          7.76,
          14.36,
          7.59,
          5.12,
          2.64,
          3.63,
          0.5,
          0.99,
          0.33,
          0.66,
          0.5
         ],
         "yaxis": "y"
        }
       ],
       "layout": {
        "barmode": "relative",
        "font": {
         "color": "#FFFFFF",
         "family": "Arial"
        },
        "legend": {
         "title": {
          "text": "Plataforma"
         },
         "tracegroupgap": 0
        },
        "paper_bgcolor": "#000000",
        "plot_bgcolor": "#000000",
        "showlegend": false,
        "template": {
         "data": {
          "bar": [
           {
            "error_x": {
             "color": "#2a3f5f"
            },
            "error_y": {
             "color": "#2a3f5f"
            },
            "marker": {
             "line": {
              "color": "#E5ECF6",
              "width": 0.5
             },
             "pattern": {
              "fillmode": "overlay",
              "size": 10,
              "solidity": 0.2
             }
            },
            "type": "bar"
           }
          ],
          "barpolar": [
           {
            "marker": {
             "line": {
              "color": "#E5ECF6",
              "width": 0.5
             },
             "pattern": {
              "fillmode": "overlay",
              "size": 10,
              "solidity": 0.2
             }
            },
            "type": "barpolar"
           }
          ],
          "carpet": [
           {
            "aaxis": {
             "endlinecolor": "#2a3f5f",
             "gridcolor": "white",
             "linecolor": "white",
             "minorgridcolor": "white",
             "startlinecolor": "#2a3f5f"
            },
            "baxis": {
             "endlinecolor": "#2a3f5f",
             "gridcolor": "white",
             "linecolor": "white",
             "minorgridcolor": "white",
             "startlinecolor": "#2a3f5f"
            },
            "type": "carpet"
           }
          ],
          "choropleth": [
           {
            "colorbar": {
             "outlinewidth": 0,
             "ticks": ""
            },
            "type": "choropleth"
           }
          ],
          "contour": [
           {
            "colorbar": {
             "outlinewidth": 0,
             "ticks": ""
            },
            "colorscale": [
             [
              0,
              "#0d0887"
             ],
             [
              0.1111111111111111,
              "#46039f"
             ],
             [
              0.2222222222222222,
              "#7201a8"
             ],
             [
              0.3333333333333333,
              "#9c179e"
             ],
             [
              0.4444444444444444,
              "#bd3786"
             ],
             [
              0.5555555555555556,
              "#d8576b"
             ],
             [
              0.6666666666666666,
              "#ed7953"
             ],
             [
              0.7777777777777778,
              "#fb9f3a"
             ],
             [
              0.8888888888888888,
              "#fdca26"
             ],
             [
              1,
              "#f0f921"
             ]
            ],
            "type": "contour"
           }
          ],
          "contourcarpet": [
           {
            "colorbar": {
             "outlinewidth": 0,
             "ticks": ""
            },
            "type": "contourcarpet"
           }
          ],
          "heatmap": [
           {
            "colorbar": {
             "outlinewidth": 0,
             "ticks": ""
            },
            "colorscale": [
             [
              0,
              "#0d0887"
             ],
             [
              0.1111111111111111,
              "#46039f"
             ],
             [
              0.2222222222222222,
              "#7201a8"
             ],
             [
              0.3333333333333333,
              "#9c179e"
             ],
             [
              0.4444444444444444,
              "#bd3786"
             ],
             [
              0.5555555555555556,
              "#d8576b"
             ],
             [
              0.6666666666666666,
              "#ed7953"
             ],
             [
              0.7777777777777778,
              "#fb9f3a"
             ],
             [
              0.8888888888888888,
              "#fdca26"
             ],
             [
              1,
              "#f0f921"
             ]
            ],
            "type": "heatmap"
           }
          ],
          "heatmapgl": [
           {
            "colorbar": {
             "outlinewidth": 0,
             "ticks": ""
            },
            "colorscale": [
             [
              0,
              "#0d0887"
             ],
             [
              0.1111111111111111,
              "#46039f"
             ],
             [
              0.2222222222222222,
              "#7201a8"
             ],
             [
              0.3333333333333333,
              "#9c179e"
             ],
             [
              0.4444444444444444,
              "#bd3786"
             ],
             [
              0.5555555555555556,
              "#d8576b"
             ],
             [
              0.6666666666666666,
              "#ed7953"
             ],
             [
              0.7777777777777778,
              "#fb9f3a"
             ],
             [
              0.8888888888888888,
              "#fdca26"
             ],
             [
              1,
              "#f0f921"
             ]
            ],
            "type": "heatmapgl"
           }
          ],
          "histogram": [
           {
            "marker": {
             "pattern": {
              "fillmode": "overlay",
              "size": 10,
              "solidity": 0.2
             }
            },
            "type": "histogram"
           }
          ],
          "histogram2d": [
           {
            "colorbar": {
             "outlinewidth": 0,
             "ticks": ""
            },
            "colorscale": [
             [
              0,
              "#0d0887"
             ],
             [
              0.1111111111111111,
              "#46039f"
             ],
             [
              0.2222222222222222,
              "#7201a8"
             ],
             [
              0.3333333333333333,
              "#9c179e"
             ],
             [
              0.4444444444444444,
              "#bd3786"
             ],
             [
              0.5555555555555556,
              "#d8576b"
             ],
             [
              0.6666666666666666,
              "#ed7953"
             ],
             [
              0.7777777777777778,
              "#fb9f3a"
             ],
             [
              0.8888888888888888,
              "#fdca26"
             ],
             [
              1,
              "#f0f921"
             ]
            ],
            "type": "histogram2d"
           }
          ],
          "histogram2dcontour": [
           {
            "colorbar": {
             "outlinewidth": 0,
             "ticks": ""
            },
            "colorscale": [
             [
              0,
              "#0d0887"
             ],
             [
              0.1111111111111111,
              "#46039f"
             ],
             [
              0.2222222222222222,
              "#7201a8"
             ],
             [
              0.3333333333333333,
              "#9c179e"
             ],
             [
              0.4444444444444444,
              "#bd3786"
             ],
             [
              0.5555555555555556,
              "#d8576b"
             ],
             [
              0.6666666666666666,
              "#ed7953"
             ],
             [
              0.7777777777777778,
              "#fb9f3a"
             ],
             [
              0.8888888888888888,
              "#fdca26"
             ],
             [
              1,
              "#f0f921"
             ]
            ],
            "type": "histogram2dcontour"
           }
          ],
          "mesh3d": [
           {
            "colorbar": {
             "outlinewidth": 0,
             "ticks": ""
            },
            "type": "mesh3d"
           }
          ],
          "parcoords": [
           {
            "line": {
             "colorbar": {
              "outlinewidth": 0,
              "ticks": ""
             }
            },
            "type": "parcoords"
           }
          ],
          "pie": [
           {
            "automargin": true,
            "type": "pie"
           }
          ],
          "scatter": [
           {
            "fillpattern": {
             "fillmode": "overlay",
             "size": 10,
             "solidity": 0.2
            },
            "type": "scatter"
           }
          ],
          "scatter3d": [
           {
            "line": {
             "colorbar": {
              "outlinewidth": 0,
              "ticks": ""
             }
            },
            "marker": {
             "colorbar": {
              "outlinewidth": 0,
              "ticks": ""
             }
            },
            "type": "scatter3d"
           }
          ],
          "scattercarpet": [
           {
            "marker": {
             "colorbar": {
              "outlinewidth": 0,
              "ticks": ""
             }
            },
            "type": "scattercarpet"
           }
          ],
          "scattergeo": [
           {
            "marker": {
             "colorbar": {
              "outlinewidth": 0,
              "ticks": ""
             }
            },
            "type": "scattergeo"
           }
          ],
          "scattergl": [
           {
            "marker": {
             "colorbar": {
              "outlinewidth": 0,
              "ticks": ""
             }
            },
            "type": "scattergl"
           }
          ],
          "scattermapbox": [
           {
            "marker": {
             "colorbar": {
              "outlinewidth": 0,
              "ticks": ""
             }
            },
            "type": "scattermapbox"
           }
          ],
          "scatterpolar": [
           {
            "marker": {
             "colorbar": {
              "outlinewidth": 0,
              "ticks": ""
             }
            },
            "type": "scatterpolar"
           }
          ],
          "scatterpolargl": [
           {
            "marker": {
             "colorbar": {
              "outlinewidth": 0,
              "ticks": ""
             }
            },
            "type": "scatterpolargl"
           }
          ],
          "scatterternary": [
           {
            "marker": {
             "colorbar": {
              "outlinewidth": 0,
              "ticks": ""
             }
            },
            "type": "scatterternary"
           }
          ],
          "surface": [
           {
            "colorbar": {
             "outlinewidth": 0,
             "ticks": ""
            },
            "colorscale": [
             [
              0,
              "#0d0887"
             ],
             [
              0.1111111111111111,
              "#46039f"
             ],
             [
              0.2222222222222222,
              "#7201a8"
             ],
             [
              0.3333333333333333,
              "#9c179e"
             ],
             [
              0.4444444444444444,
              "#bd3786"
             ],
             [
              0.5555555555555556,
              "#d8576b"
             ],
             [
              0.6666666666666666,
              "#ed7953"
             ],
             [
              0.7777777777777778,
              "#fb9f3a"
             ],
             [
              0.8888888888888888,
              "#fdca26"
             ],
             [
              1,
              "#f0f921"
             ]
            ],
            "type": "surface"
           }
          ],
          "table": [
           {
            "cells": {
             "fill": {
              "color": "#EBF0F8"
             },
             "line": {
              "color": "white"
             }
            },
            "header": {
             "fill": {
              "color": "#C8D4E3"
             },
             "line": {
              "color": "white"
             }
            },
            "type": "table"
           }
          ]
         },
         "layout": {
          "annotationdefaults": {
           "arrowcolor": "#2a3f5f",
           "arrowhead": 0,
           "arrowwidth": 1
          },
          "autotypenumbers": "strict",
          "coloraxis": {
           "colorbar": {
            "outlinewidth": 0,
            "ticks": ""
           }
          },
          "colorscale": {
           "diverging": [
            [
             0,
             "#8e0152"
            ],
            [
             0.1,
             "#c51b7d"
            ],
            [
             0.2,
             "#de77ae"
            ],
            [
             0.3,
             "#f1b6da"
            ],
            [
             0.4,
             "#fde0ef"
            ],
            [
             0.5,
             "#f7f7f7"
            ],
            [
             0.6,
             "#e6f5d0"
            ],
            [
             0.7,
             "#b8e186"
            ],
            [
             0.8,
             "#7fbc41"
            ],
            [
             0.9,
             "#4d9221"
            ],
            [
             1,
             "#276419"
            ]
           ],
           "sequential": [
            [
             0,
             "#0d0887"
            ],
            [
             0.1111111111111111,
             "#46039f"
            ],
            [
             0.2222222222222222,
             "#7201a8"
            ],
            [
             0.3333333333333333,
             "#9c179e"
            ],
            [
             0.4444444444444444,
             "#bd3786"
            ],
            [
             0.5555555555555556,
             "#d8576b"
            ],
            [
             0.6666666666666666,
             "#ed7953"
            ],
            [
             0.7777777777777778,
             "#fb9f3a"
            ],
            [
             0.8888888888888888,
             "#fdca26"
            ],
            [
             1,
             "#f0f921"
            ]
           ],
           "sequentialminus": [
            [
             0,
             "#0d0887"
            ],
            [
             0.1111111111111111,
             "#46039f"
            ],
            [
             0.2222222222222222,
             "#7201a8"
            ],
            [
             0.3333333333333333,
             "#9c179e"
            ],
            [
             0.4444444444444444,
             "#bd3786"
            ],
            [
             0.5555555555555556,
             "#d8576b"
            ],
            [
             0.6666666666666666,
             "#ed7953"
            ],
            [
             0.7777777777777778,
             "#fb9f3a"
            ],
            [
             0.8888888888888888,
             "#fdca26"
            ],
            [
             1,
             "#f0f921"
            ]
           ]
          },
          "colorway": [
           "#636efa",
           "#EF553B",
           "#00cc96",
           "#ab63fa",
           "#FFA15A",
           "#19d3f3",
           "#FF6692",
           "#B6E880",
           "#FF97FF",
           "#FECB52"
          ],
          "font": {
           "color": "#2a3f5f"
          },
          "geo": {
           "bgcolor": "white",
           "lakecolor": "white",
           "landcolor": "#E5ECF6",
           "showlakes": true,
           "showland": true,
           "subunitcolor": "white"
          },
          "hoverlabel": {
           "align": "left"
          },
          "hovermode": "closest",
          "mapbox": {
           "style": "light"
          },
          "paper_bgcolor": "white",
          "plot_bgcolor": "#E5ECF6",
          "polar": {
           "angularaxis": {
            "gridcolor": "white",
            "linecolor": "white",
            "ticks": ""
           },
           "bgcolor": "#E5ECF6",
           "radialaxis": {
            "gridcolor": "white",
            "linecolor": "white",
            "ticks": ""
           }
          },
          "scene": {
           "xaxis": {
            "backgroundcolor": "#E5ECF6",
            "gridcolor": "white",
            "gridwidth": 2,
            "linecolor": "white",
            "showbackground": true,
            "ticks": "",
            "zerolinecolor": "white"
           },
           "yaxis": {
            "backgroundcolor": "#E5ECF6",
            "gridcolor": "white",
            "gridwidth": 2,
            "linecolor": "white",
            "showbackground": true,
            "ticks": "",
            "zerolinecolor": "white"
           },
           "zaxis": {
            "backgroundcolor": "#E5ECF6",
            "gridcolor": "white",
            "gridwidth": 2,
            "linecolor": "white",
            "showbackground": true,
            "ticks": "",
            "zerolinecolor": "white"
           }
          },
          "shapedefaults": {
           "line": {
            "color": "#2a3f5f"
           }
          },
          "ternary": {
           "aaxis": {
            "gridcolor": "white",
            "linecolor": "white",
            "ticks": ""
           },
           "baxis": {
            "gridcolor": "white",
            "linecolor": "white",
            "ticks": ""
           },
           "bgcolor": "#E5ECF6",
           "caxis": {
            "gridcolor": "white",
            "linecolor": "white",
            "ticks": ""
           }
          },
          "title": {
           "x": 0.05
          },
          "xaxis": {
           "automargin": true,
           "gridcolor": "white",
           "linecolor": "white",
           "ticks": "",
           "title": {
            "standoff": 15
           },
           "zerolinecolor": "white",
           "zerolinewidth": 2
          },
          "yaxis": {
           "automargin": true,
           "gridcolor": "white",
           "linecolor": "white",
           "ticks": "",
           "title": {
            "standoff": 15
           },
           "zerolinecolor": "white",
           "zerolinewidth": 2
          }
         }
        },
        "title": {
         "font": {
          "family": "Arial"
         },
         "text": "<b>Peso Plataforma por Cantidad de Contenido<b>"
        },
        "uniformtext": {
         "minsize": 12,
         "mode": "hide"
        },
        "xaxis": {
         "anchor": "y",
         "domain": [
          0,
          1
         ],
         "title": {
          "text": "Generos"
         }
        },
        "yaxis": {
         "anchor": "x",
         "domain": [
          0,
          1
         ],
         "title": {
          "text": "Peso"
         },
         "visible": false
        }
       }
      }
     },
     "metadata": {},
     "output_type": "display_data"
    }
   ],
   "source": [
    "# GRAFICO \n",
    "\n",
    "data = pesos_genero\n",
    "\n",
    "fig = px.bar(data, x='Generos', y='Peso', color = 'Plataforma', \n",
    "title = \"<b>Peso Plataforma por Cantidad de Contenido<b>\", \n",
    "color_discrete_map={'Amazon': '#9B9B9B', 'Netflix': '#D10600', 'HBO': '#460076', 'hulu': '#98FF93', 'Disney':'#3800C2', 'Paramount':'#FFFFFF'}\n",
    ")\n",
    "\n",
    "\n",
    "fig.update_traces(marker=dict(line=dict(color='white', width=0.5)),\n",
    "                  #hovertemplate = values, textinfo = 'label+text',\n",
    "                  #textposition='inside'\n",
    "                  )\n",
    "\n",
    "fig.update_layout(uniformtext_minsize=12, uniformtext_mode='hide', font_family = 'Arial', title_font_family='Arial', font_color = '#FFFFFF', \n",
    "plot_bgcolor='#000000', paper_bgcolor='#000000',showlegend=False)\n",
    "\n",
    "fig.update_yaxes(visible = False)\n",
    "\n",
    "\n",
    "fig.show()"
   ]
  },
  {
   "cell_type": "code",
   "execution_count": 175,
   "metadata": {},
   "outputs": [
    {
     "data": {
      "application/vnd.plotly.v1+json": {
       "config": {
        "plotlyServerURL": "https://plot.ly"
       },
       "data": [
        {
         "alignmentgroup": "True",
         "hovertemplate": "Plataforma=Amazon<br>Generos=%{x}<br>Peso=%{text}<extra></extra>",
         "legendgroup": "Amazon",
         "marker": {
          "color": "#9B9B9B",
          "line": {
           "color": "black",
           "width": 0.5
          },
          "pattern": {
           "shape": ""
          }
         },
         "name": "Amazon",
         "offsetgroup": "Amazon",
         "orientation": "v",
         "showlegend": true,
         "text": [
          24.94,
          16.35,
          13.74,
          10.51,
          7.83,
          7.83,
          6.83,
          3.61,
          2.53,
          1.38,
          1.07,
          0.69,
          0.38,
          0.31
         ],
         "textposition": "auto",
         "texttemplate": "%{text:.f}",
         "type": "bar",
         "x": [
          "drama",
          "comedy",
          "documentation",
          "animation",
          "reality",
          "scifi",
          "action",
          "crime",
          "family",
          "war",
          "thriller",
          "western",
          "fantasy",
          "music"
         ],
         "xaxis": "x",
         "y": [
          24.94,
          16.35,
          13.74,
          10.51,
          7.83,
          7.83,
          6.83,
          3.61,
          2.53,
          1.38,
          1.07,
          0.69,
          0.38,
          0.31
         ],
         "yaxis": "y"
        },
        {
         "alignmentgroup": "True",
         "hovertemplate": "Plataforma=Netflix<br>Generos=%{x}<br>Peso=%{text}<extra></extra>",
         "legendgroup": "Netflix",
         "marker": {
          "color": "#D10600",
          "line": {
           "color": "black",
           "width": 0.5
          },
          "pattern": {
           "shape": ""
          }
         },
         "name": "Netflix",
         "offsetgroup": "Netflix",
         "orientation": "v",
         "showlegend": true,
         "text": [
          24.62,
          17.17,
          10.02,
          6.2,
          8.64,
          11.12,
          8.34,
          6.95,
          1.59,
          1.54,
          1.79,
          0.3,
          0.6,
          0.3
         ],
         "textposition": "auto",
         "texttemplate": "%{text:.f}",
         "type": "bar",
         "x": [
          "drama",
          "comedy",
          "documentation",
          "animation",
          "reality",
          "scifi",
          "action",
          "crime",
          "family",
          "war",
          "thriller",
          "western",
          "fantasy",
          "music"
         ],
         "xaxis": "x",
         "y": [
          24.62,
          17.17,
          10.02,
          6.2,
          8.64,
          11.12,
          8.34,
          6.95,
          1.59,
          1.54,
          1.79,
          0.3,
          0.6,
          0.3
         ],
         "yaxis": "y"
        },
        {
         "alignmentgroup": "True",
         "hovertemplate": "Plataforma=HBO<br>Generos=%{x}<br>Peso=%{text}<extra></extra>",
         "legendgroup": "HBO",
         "marker": {
          "color": "#460076",
          "line": {
           "color": "black",
           "width": 0.5
          },
          "pattern": {
           "shape": ""
          }
         },
         "name": "HBO",
         "offsetgroup": "HBO",
         "orientation": "v",
         "showlegend": true,
         "text": [
          20.46,
          25.61,
          13.55,
          6.1,
          7.18,
          10.3,
          7.32,
          4.34,
          1.22,
          1.08,
          1.36,
          0.14,
          0.27,
          0.14
         ],
         "textposition": "auto",
         "texttemplate": "%{text:.f}",
         "type": "bar",
         "x": [
          "drama",
          "comedy",
          "documentation",
          "animation",
          "reality",
          "scifi",
          "action",
          "crime",
          "family",
          "war",
          "thriller",
          "western",
          "fantasy",
          "music"
         ],
         "xaxis": "x",
         "y": [
          20.46,
          25.61,
          13.55,
          6.1,
          7.18,
          10.3,
          7.32,
          4.34,
          1.22,
          1.08,
          1.36,
          0.14,
          0.27,
          0.14
         ],
         "yaxis": "y"
        },
        {
         "alignmentgroup": "True",
         "hovertemplate": "Plataforma=Hulu<br>Generos=%{x}<br>Peso=%{text}<extra></extra>",
         "legendgroup": "Hulu",
         "marker": {
          "color": "#FF6692",
          "line": {
           "color": "black",
           "width": 0.5
          },
          "pattern": {
           "shape": ""
          }
         },
         "name": "Hulu",
         "offsetgroup": "Hulu",
         "orientation": "v",
         "showlegend": true,
         "text": [
          19.4,
          20.32,
          6.95,
          5.73,
          13.06,
          16.81,
          8.86,
          3.82,
          1.6,
          1.15,
          0.69,
          0.15,
          0.08,
          0.23
         ],
         "textposition": "auto",
         "texttemplate": "%{text:.f}",
         "type": "bar",
         "x": [
          "drama",
          "comedy",
          "documentation",
          "animation",
          "reality",
          "scifi",
          "action",
          "crime",
          "family",
          "war",
          "thriller",
          "western",
          "fantasy",
          "music"
         ],
         "xaxis": "x",
         "y": [
          19.4,
          20.32,
          6.95,
          5.73,
          13.06,
          16.81,
          8.86,
          3.82,
          1.6,
          1.15,
          0.69,
          0.15,
          0.08,
          0.23
         ],
         "yaxis": "y"
        },
        {
         "alignmentgroup": "True",
         "hovertemplate": "Plataforma=Disney<br>Generos=%{x}<br>Peso=%{text}<extra></extra>",
         "legendgroup": "Disney",
         "marker": {
          "color": "#3800C2",
          "line": {
           "color": "black",
           "width": 0.5
          },
          "pattern": {
           "shape": ""
          }
         },
         "name": "Disney",
         "offsetgroup": "Disney",
         "orientation": "v",
         "showlegend": true,
         "text": [
          4.53,
          17.88,
          25.44,
          10.58,
          7.3,
          13.6,
          11.84,
          0.25,
          5.29,
          0.25,
          0.5,
          0.5,
          0.76,
          1.01
         ],
         "textposition": "auto",
         "texttemplate": "%{text:.f}",
         "type": "bar",
         "x": [
          "drama",
          "comedy",
          "documentation",
          "animation",
          "reality",
          "scifi",
          "action",
          "crime",
          "family",
          "war",
          "thriller",
          "western",
          "fantasy",
          "music"
         ],
         "xaxis": "x",
         "y": [
          4.53,
          17.88,
          25.44,
          10.58,
          7.3,
          13.6,
          11.84,
          0.25,
          5.29,
          0.25,
          0.5,
          0.5,
          0.76,
          1.01
         ],
         "yaxis": "y"
        },
        {
         "alignmentgroup": "True",
         "hovertemplate": "Plataforma=Paramount<br>Generos=%{x}<br>Peso=%{text}<extra></extra>",
         "legendgroup": "Paramount",
         "marker": {
          "color": "#FFFFFF",
          "line": {
           "color": "black",
           "width": 0.5
          },
          "pattern": {
           "shape": ""
          }
         },
         "name": "Paramount",
         "offsetgroup": "Paramount",
         "orientation": "v",
         "showlegend": true,
         "text": [
          8.25,
          24.09,
          22.77,
          7.76,
          14.36,
          7.59,
          5.12,
          2.64,
          3.63,
          0.5,
          0.99,
          0.33,
          0.66,
          0.5
         ],
         "textposition": "auto",
         "texttemplate": "%{text:.f}",
         "type": "bar",
         "x": [
          "drama",
          "comedy",
          "documentation",
          "animation",
          "reality",
          "scifi",
          "action",
          "crime",
          "family",
          "war",
          "thriller",
          "western",
          "fantasy",
          "music"
         ],
         "xaxis": "x",
         "y": [
          8.25,
          24.09,
          22.77,
          7.76,
          14.36,
          7.59,
          5.12,
          2.64,
          3.63,
          0.5,
          0.99,
          0.33,
          0.66,
          0.5
         ],
         "yaxis": "y"
        }
       ],
       "layout": {
        "barmode": "group",
        "font": {
         "color": "#FFFFFF",
         "family": "Arial"
        },
        "legend": {
         "title": {
          "text": "Plataforma"
         },
         "tracegroupgap": 0
        },
        "paper_bgcolor": "#000000",
        "plot_bgcolor": "#000000",
        "showlegend": false,
        "template": {
         "data": {
          "bar": [
           {
            "error_x": {
             "color": "#2a3f5f"
            },
            "error_y": {
             "color": "#2a3f5f"
            },
            "marker": {
             "line": {
              "color": "#E5ECF6",
              "width": 0.5
             },
             "pattern": {
              "fillmode": "overlay",
              "size": 10,
              "solidity": 0.2
             }
            },
            "type": "bar"
           }
          ],
          "barpolar": [
           {
            "marker": {
             "line": {
              "color": "#E5ECF6",
              "width": 0.5
             },
             "pattern": {
              "fillmode": "overlay",
              "size": 10,
              "solidity": 0.2
             }
            },
            "type": "barpolar"
           }
          ],
          "carpet": [
           {
            "aaxis": {
             "endlinecolor": "#2a3f5f",
             "gridcolor": "white",
             "linecolor": "white",
             "minorgridcolor": "white",
             "startlinecolor": "#2a3f5f"
            },
            "baxis": {
             "endlinecolor": "#2a3f5f",
             "gridcolor": "white",
             "linecolor": "white",
             "minorgridcolor": "white",
             "startlinecolor": "#2a3f5f"
            },
            "type": "carpet"
           }
          ],
          "choropleth": [
           {
            "colorbar": {
             "outlinewidth": 0,
             "ticks": ""
            },
            "type": "choropleth"
           }
          ],
          "contour": [
           {
            "colorbar": {
             "outlinewidth": 0,
             "ticks": ""
            },
            "colorscale": [
             [
              0,
              "#0d0887"
             ],
             [
              0.1111111111111111,
              "#46039f"
             ],
             [
              0.2222222222222222,
              "#7201a8"
             ],
             [
              0.3333333333333333,
              "#9c179e"
             ],
             [
              0.4444444444444444,
              "#bd3786"
             ],
             [
              0.5555555555555556,
              "#d8576b"
             ],
             [
              0.6666666666666666,
              "#ed7953"
             ],
             [
              0.7777777777777778,
              "#fb9f3a"
             ],
             [
              0.8888888888888888,
              "#fdca26"
             ],
             [
              1,
              "#f0f921"
             ]
            ],
            "type": "contour"
           }
          ],
          "contourcarpet": [
           {
            "colorbar": {
             "outlinewidth": 0,
             "ticks": ""
            },
            "type": "contourcarpet"
           }
          ],
          "heatmap": [
           {
            "colorbar": {
             "outlinewidth": 0,
             "ticks": ""
            },
            "colorscale": [
             [
              0,
              "#0d0887"
             ],
             [
              0.1111111111111111,
              "#46039f"
             ],
             [
              0.2222222222222222,
              "#7201a8"
             ],
             [
              0.3333333333333333,
              "#9c179e"
             ],
             [
              0.4444444444444444,
              "#bd3786"
             ],
             [
              0.5555555555555556,
              "#d8576b"
             ],
             [
              0.6666666666666666,
              "#ed7953"
             ],
             [
              0.7777777777777778,
              "#fb9f3a"
             ],
             [
              0.8888888888888888,
              "#fdca26"
             ],
             [
              1,
              "#f0f921"
             ]
            ],
            "type": "heatmap"
           }
          ],
          "heatmapgl": [
           {
            "colorbar": {
             "outlinewidth": 0,
             "ticks": ""
            },
            "colorscale": [
             [
              0,
              "#0d0887"
             ],
             [
              0.1111111111111111,
              "#46039f"
             ],
             [
              0.2222222222222222,
              "#7201a8"
             ],
             [
              0.3333333333333333,
              "#9c179e"
             ],
             [
              0.4444444444444444,
              "#bd3786"
             ],
             [
              0.5555555555555556,
              "#d8576b"
             ],
             [
              0.6666666666666666,
              "#ed7953"
             ],
             [
              0.7777777777777778,
              "#fb9f3a"
             ],
             [
              0.8888888888888888,
              "#fdca26"
             ],
             [
              1,
              "#f0f921"
             ]
            ],
            "type": "heatmapgl"
           }
          ],
          "histogram": [
           {
            "marker": {
             "pattern": {
              "fillmode": "overlay",
              "size": 10,
              "solidity": 0.2
             }
            },
            "type": "histogram"
           }
          ],
          "histogram2d": [
           {
            "colorbar": {
             "outlinewidth": 0,
             "ticks": ""
            },
            "colorscale": [
             [
              0,
              "#0d0887"
             ],
             [
              0.1111111111111111,
              "#46039f"
             ],
             [
              0.2222222222222222,
              "#7201a8"
             ],
             [
              0.3333333333333333,
              "#9c179e"
             ],
             [
              0.4444444444444444,
              "#bd3786"
             ],
             [
              0.5555555555555556,
              "#d8576b"
             ],
             [
              0.6666666666666666,
              "#ed7953"
             ],
             [
              0.7777777777777778,
              "#fb9f3a"
             ],
             [
              0.8888888888888888,
              "#fdca26"
             ],
             [
              1,
              "#f0f921"
             ]
            ],
            "type": "histogram2d"
           }
          ],
          "histogram2dcontour": [
           {
            "colorbar": {
             "outlinewidth": 0,
             "ticks": ""
            },
            "colorscale": [
             [
              0,
              "#0d0887"
             ],
             [
              0.1111111111111111,
              "#46039f"
             ],
             [
              0.2222222222222222,
              "#7201a8"
             ],
             [
              0.3333333333333333,
              "#9c179e"
             ],
             [
              0.4444444444444444,
              "#bd3786"
             ],
             [
              0.5555555555555556,
              "#d8576b"
             ],
             [
              0.6666666666666666,
              "#ed7953"
             ],
             [
              0.7777777777777778,
              "#fb9f3a"
             ],
             [
              0.8888888888888888,
              "#fdca26"
             ],
             [
              1,
              "#f0f921"
             ]
            ],
            "type": "histogram2dcontour"
           }
          ],
          "mesh3d": [
           {
            "colorbar": {
             "outlinewidth": 0,
             "ticks": ""
            },
            "type": "mesh3d"
           }
          ],
          "parcoords": [
           {
            "line": {
             "colorbar": {
              "outlinewidth": 0,
              "ticks": ""
             }
            },
            "type": "parcoords"
           }
          ],
          "pie": [
           {
            "automargin": true,
            "type": "pie"
           }
          ],
          "scatter": [
           {
            "fillpattern": {
             "fillmode": "overlay",
             "size": 10,
             "solidity": 0.2
            },
            "type": "scatter"
           }
          ],
          "scatter3d": [
           {
            "line": {
             "colorbar": {
              "outlinewidth": 0,
              "ticks": ""
             }
            },
            "marker": {
             "colorbar": {
              "outlinewidth": 0,
              "ticks": ""
             }
            },
            "type": "scatter3d"
           }
          ],
          "scattercarpet": [
           {
            "marker": {
             "colorbar": {
              "outlinewidth": 0,
              "ticks": ""
             }
            },
            "type": "scattercarpet"
           }
          ],
          "scattergeo": [
           {
            "marker": {
             "colorbar": {
              "outlinewidth": 0,
              "ticks": ""
             }
            },
            "type": "scattergeo"
           }
          ],
          "scattergl": [
           {
            "marker": {
             "colorbar": {
              "outlinewidth": 0,
              "ticks": ""
             }
            },
            "type": "scattergl"
           }
          ],
          "scattermapbox": [
           {
            "marker": {
             "colorbar": {
              "outlinewidth": 0,
              "ticks": ""
             }
            },
            "type": "scattermapbox"
           }
          ],
          "scatterpolar": [
           {
            "marker": {
             "colorbar": {
              "outlinewidth": 0,
              "ticks": ""
             }
            },
            "type": "scatterpolar"
           }
          ],
          "scatterpolargl": [
           {
            "marker": {
             "colorbar": {
              "outlinewidth": 0,
              "ticks": ""
             }
            },
            "type": "scatterpolargl"
           }
          ],
          "scatterternary": [
           {
            "marker": {
             "colorbar": {
              "outlinewidth": 0,
              "ticks": ""
             }
            },
            "type": "scatterternary"
           }
          ],
          "surface": [
           {
            "colorbar": {
             "outlinewidth": 0,
             "ticks": ""
            },
            "colorscale": [
             [
              0,
              "#0d0887"
             ],
             [
              0.1111111111111111,
              "#46039f"
             ],
             [
              0.2222222222222222,
              "#7201a8"
             ],
             [
              0.3333333333333333,
              "#9c179e"
             ],
             [
              0.4444444444444444,
              "#bd3786"
             ],
             [
              0.5555555555555556,
              "#d8576b"
             ],
             [
              0.6666666666666666,
              "#ed7953"
             ],
             [
              0.7777777777777778,
              "#fb9f3a"
             ],
             [
              0.8888888888888888,
              "#fdca26"
             ],
             [
              1,
              "#f0f921"
             ]
            ],
            "type": "surface"
           }
          ],
          "table": [
           {
            "cells": {
             "fill": {
              "color": "#EBF0F8"
             },
             "line": {
              "color": "white"
             }
            },
            "header": {
             "fill": {
              "color": "#C8D4E3"
             },
             "line": {
              "color": "white"
             }
            },
            "type": "table"
           }
          ]
         },
         "layout": {
          "annotationdefaults": {
           "arrowcolor": "#2a3f5f",
           "arrowhead": 0,
           "arrowwidth": 1
          },
          "autotypenumbers": "strict",
          "coloraxis": {
           "colorbar": {
            "outlinewidth": 0,
            "ticks": ""
           }
          },
          "colorscale": {
           "diverging": [
            [
             0,
             "#8e0152"
            ],
            [
             0.1,
             "#c51b7d"
            ],
            [
             0.2,
             "#de77ae"
            ],
            [
             0.3,
             "#f1b6da"
            ],
            [
             0.4,
             "#fde0ef"
            ],
            [
             0.5,
             "#f7f7f7"
            ],
            [
             0.6,
             "#e6f5d0"
            ],
            [
             0.7,
             "#b8e186"
            ],
            [
             0.8,
             "#7fbc41"
            ],
            [
             0.9,
             "#4d9221"
            ],
            [
             1,
             "#276419"
            ]
           ],
           "sequential": [
            [
             0,
             "#0d0887"
            ],
            [
             0.1111111111111111,
             "#46039f"
            ],
            [
             0.2222222222222222,
             "#7201a8"
            ],
            [
             0.3333333333333333,
             "#9c179e"
            ],
            [
             0.4444444444444444,
             "#bd3786"
            ],
            [
             0.5555555555555556,
             "#d8576b"
            ],
            [
             0.6666666666666666,
             "#ed7953"
            ],
            [
             0.7777777777777778,
             "#fb9f3a"
            ],
            [
             0.8888888888888888,
             "#fdca26"
            ],
            [
             1,
             "#f0f921"
            ]
           ],
           "sequentialminus": [
            [
             0,
             "#0d0887"
            ],
            [
             0.1111111111111111,
             "#46039f"
            ],
            [
             0.2222222222222222,
             "#7201a8"
            ],
            [
             0.3333333333333333,
             "#9c179e"
            ],
            [
             0.4444444444444444,
             "#bd3786"
            ],
            [
             0.5555555555555556,
             "#d8576b"
            ],
            [
             0.6666666666666666,
             "#ed7953"
            ],
            [
             0.7777777777777778,
             "#fb9f3a"
            ],
            [
             0.8888888888888888,
             "#fdca26"
            ],
            [
             1,
             "#f0f921"
            ]
           ]
          },
          "colorway": [
           "#636efa",
           "#EF553B",
           "#00cc96",
           "#ab63fa",
           "#FFA15A",
           "#19d3f3",
           "#FF6692",
           "#B6E880",
           "#FF97FF",
           "#FECB52"
          ],
          "font": {
           "color": "#2a3f5f"
          },
          "geo": {
           "bgcolor": "white",
           "lakecolor": "white",
           "landcolor": "#E5ECF6",
           "showlakes": true,
           "showland": true,
           "subunitcolor": "white"
          },
          "hoverlabel": {
           "align": "left"
          },
          "hovermode": "closest",
          "mapbox": {
           "style": "light"
          },
          "paper_bgcolor": "white",
          "plot_bgcolor": "#E5ECF6",
          "polar": {
           "angularaxis": {
            "gridcolor": "white",
            "linecolor": "white",
            "ticks": ""
           },
           "bgcolor": "#E5ECF6",
           "radialaxis": {
            "gridcolor": "white",
            "linecolor": "white",
            "ticks": ""
           }
          },
          "scene": {
           "xaxis": {
            "backgroundcolor": "#E5ECF6",
            "gridcolor": "white",
            "gridwidth": 2,
            "linecolor": "white",
            "showbackground": true,
            "ticks": "",
            "zerolinecolor": "white"
           },
           "yaxis": {
            "backgroundcolor": "#E5ECF6",
            "gridcolor": "white",
            "gridwidth": 2,
            "linecolor": "white",
            "showbackground": true,
            "ticks": "",
            "zerolinecolor": "white"
           },
           "zaxis": {
            "backgroundcolor": "#E5ECF6",
            "gridcolor": "white",
            "gridwidth": 2,
            "linecolor": "white",
            "showbackground": true,
            "ticks": "",
            "zerolinecolor": "white"
           }
          },
          "shapedefaults": {
           "line": {
            "color": "#2a3f5f"
           }
          },
          "ternary": {
           "aaxis": {
            "gridcolor": "white",
            "linecolor": "white",
            "ticks": ""
           },
           "baxis": {
            "gridcolor": "white",
            "linecolor": "white",
            "ticks": ""
           },
           "bgcolor": "#E5ECF6",
           "caxis": {
            "gridcolor": "white",
            "linecolor": "white",
            "ticks": ""
           }
          },
          "title": {
           "x": 0.05
          },
          "xaxis": {
           "automargin": true,
           "gridcolor": "white",
           "linecolor": "white",
           "ticks": "",
           "title": {
            "standoff": 15
           },
           "zerolinecolor": "white",
           "zerolinewidth": 2
          },
          "yaxis": {
           "automargin": true,
           "gridcolor": "white",
           "linecolor": "white",
           "ticks": "",
           "title": {
            "standoff": 15
           },
           "zerolinecolor": "white",
           "zerolinewidth": 2
          }
         }
        },
        "title": {
         "font": {
          "family": "Arial"
         },
         "text": "<b>Generos - Plataformas"
        },
        "uniformtext": {
         "minsize": 12,
         "mode": "hide"
        },
        "xaxis": {
         "anchor": "y",
         "domain": [
          0,
          1
         ],
         "title": {
          "text": "Generos"
         }
        },
        "yaxis": {
         "anchor": "x",
         "domain": [
          0,
          1
         ],
         "title": {
          "text": "Peso"
         },
         "visible": false
        }
       }
      }
     },
     "metadata": {},
     "output_type": "display_data"
    }
   ],
   "source": [
    "# GRAFICO \n",
    "\n",
    "data = pesos_genero\n",
    "\n",
    "fig = px.bar(data, x='Generos', y='Peso', color = 'Plataforma',\n",
    "color_discrete_map={'Amazon': '#9B9B9B', 'Netflix': '#D10600', \n",
    "'HBO': '#460076', 'hulu': '#98FF93', 'Disney':'#3800C2', 'Paramount':'#FFFFFF'},\n",
    "barmode='group',\n",
    "title = \"<b>Generos - Plataformas\",\n",
    "text='Peso' \n",
    ")\n",
    "\n",
    "fig.update_traces(marker=dict(line=dict(color='black', width=0.5)),\n",
    "                  #hovertemplate = values, textinfo = 'label+text',\n",
    "                  #textposition='inside'\n",
    "                  )\n",
    "\n",
    "fig.update_layout(uniformtext_minsize=12, uniformtext_mode='hide', font_family = 'Arial', title_font_family='Arial', font_color = '#FFFFFF', \n",
    "plot_bgcolor='#000000', paper_bgcolor='#000000',showlegend=False)\n",
    "\n",
    "fig.update_traces(texttemplate='%{text:.f}')\n",
    "\n",
    "fig.update_yaxes(visible = False)\n",
    "\n",
    "fig.show()"
   ]
  },
  {
   "cell_type": "code",
   "execution_count": 176,
   "metadata": {},
   "outputs": [],
   "source": [
    "# AMAZON: sigue destacando en drama respecto a los dos siguientes (24 - 16 -13)\n",
    "# NETFLIX: También destaca en drama, comedia y scifi (donde hulu tiene el su 3er puesto ==)\n",
    "# HBO: Destaca en comedia ?? y baja su peso en documentales, donde destaca mucho DISNEY -siendo su género principal- y PARAMOUNT\n",
    "# Hulu: bastante equilibrado el top, destacamos también documentales \n",
    "\n",
    "# GRAFICO TOP 5 CON DRAMA, COMEDIA, THRILLER, HORROR, DOCUMENTALES\n",
    "\n",
    "\n",
    "top5_generos = data.set_index('Generos')\n",
    "drama = top5_generos.loc['drama']\n",
    "comedia = top5_generos.loc['comedy']\n",
    "documentales = data.set_index('Generos').loc['documentation']\n",
    "scifi = data.set_index('Generos').loc['scifi']\n",
    "reality = data.set_index('Generos').loc['reality']\n",
    "\n",
    "\n",
    "top5_generos = pd.concat([drama,comedia, documentales, scifi, reality]).reset_index()"
   ]
  },
  {
   "cell_type": "code",
   "execution_count": 177,
   "metadata": {},
   "outputs": [
    {
     "data": {
      "application/vnd.plotly.v1+json": {
       "config": {
        "plotlyServerURL": "https://plot.ly"
       },
       "data": [
        {
         "alignmentgroup": "True",
         "hovertemplate": "Generos=%{text}<br>Plataforma=%{x}<br>Peso=%{y}<extra></extra>",
         "legendgroup": "drama",
         "marker": {
          "color": "#FF6692",
          "pattern": {
           "shape": ""
          }
         },
         "name": "drama",
         "offsetgroup": "drama",
         "orientation": "v",
         "showlegend": true,
         "text": [
          "drama",
          "drama",
          "drama",
          "drama",
          "drama",
          "drama"
         ],
         "textposition": "auto",
         "type": "bar",
         "x": [
          "Amazon",
          "Netflix",
          "HBO",
          "Hulu",
          "Disney",
          "Paramount"
         ],
         "xaxis": "x",
         "y": [
          24.94,
          24.62,
          20.46,
          19.4,
          4.53,
          8.25
         ],
         "yaxis": "y"
        },
        {
         "alignmentgroup": "True",
         "hovertemplate": "Generos=%{text}<br>Plataforma=%{x}<br>Peso=%{y}<extra></extra>",
         "legendgroup": "comedy",
         "marker": {
          "color": "#B6E880",
          "pattern": {
           "shape": ""
          }
         },
         "name": "comedy",
         "offsetgroup": "comedy",
         "orientation": "v",
         "showlegend": true,
         "text": [
          "comedy",
          "comedy",
          "comedy",
          "comedy",
          "comedy",
          "comedy"
         ],
         "textposition": "auto",
         "type": "bar",
         "x": [
          "Amazon",
          "Netflix",
          "HBO",
          "Hulu",
          "Disney",
          "Paramount"
         ],
         "xaxis": "x",
         "y": [
          16.35,
          17.17,
          25.61,
          20.32,
          17.88,
          24.09
         ],
         "yaxis": "y"
        },
        {
         "alignmentgroup": "True",
         "hovertemplate": "Generos=%{text}<br>Plataforma=%{x}<br>Peso=%{y}<extra></extra>",
         "legendgroup": "documentation",
         "marker": {
          "color": "#FF97FF",
          "pattern": {
           "shape": ""
          }
         },
         "name": "documentation",
         "offsetgroup": "documentation",
         "orientation": "v",
         "showlegend": true,
         "text": [
          "documentation",
          "documentation",
          "documentation",
          "documentation",
          "documentation",
          "documentation"
         ],
         "textposition": "auto",
         "type": "bar",
         "x": [
          "Amazon",
          "Netflix",
          "HBO",
          "Hulu",
          "Disney",
          "Paramount"
         ],
         "xaxis": "x",
         "y": [
          13.74,
          10.02,
          13.55,
          6.95,
          25.44,
          22.77
         ],
         "yaxis": "y"
        },
        {
         "alignmentgroup": "True",
         "hovertemplate": "Generos=%{text}<br>Plataforma=%{x}<br>Peso=%{y}<extra></extra>",
         "legendgroup": "scifi",
         "marker": {
          "color": "#FECB52",
          "pattern": {
           "shape": ""
          }
         },
         "name": "scifi",
         "offsetgroup": "scifi",
         "orientation": "v",
         "showlegend": true,
         "text": [
          "scifi",
          "scifi",
          "scifi",
          "scifi",
          "scifi",
          "scifi"
         ],
         "textposition": "auto",
         "type": "bar",
         "x": [
          "Amazon",
          "Netflix",
          "HBO",
          "Hulu",
          "Disney",
          "Paramount"
         ],
         "xaxis": "x",
         "y": [
          7.83,
          11.12,
          10.3,
          16.81,
          13.6,
          7.59
         ],
         "yaxis": "y"
        },
        {
         "alignmentgroup": "True",
         "hovertemplate": "Generos=%{text}<br>Plataforma=%{x}<br>Peso=%{y}<extra></extra>",
         "legendgroup": "reality",
         "marker": {
          "color": "#636efa",
          "pattern": {
           "shape": ""
          }
         },
         "name": "reality",
         "offsetgroup": "reality",
         "orientation": "v",
         "showlegend": true,
         "text": [
          "reality",
          "reality",
          "reality",
          "reality",
          "reality",
          "reality"
         ],
         "textposition": "auto",
         "type": "bar",
         "x": [
          "Amazon",
          "Netflix",
          "HBO",
          "Hulu",
          "Disney",
          "Paramount"
         ],
         "xaxis": "x",
         "y": [
          7.83,
          8.64,
          7.18,
          13.06,
          7.3,
          14.36
         ],
         "yaxis": "y"
        }
       ],
       "layout": {
        "barmode": "relative",
        "font": {
         "color": "#FFFFFF",
         "family": "Arial"
        },
        "legend": {
         "title": {
          "text": "Generos"
         },
         "tracegroupgap": 0
        },
        "paper_bgcolor": "#000000",
        "plot_bgcolor": "#000000",
        "showlegend": false,
        "template": {
         "data": {
          "bar": [
           {
            "error_x": {
             "color": "#2a3f5f"
            },
            "error_y": {
             "color": "#2a3f5f"
            },
            "marker": {
             "line": {
              "color": "#E5ECF6",
              "width": 0.5
             },
             "pattern": {
              "fillmode": "overlay",
              "size": 10,
              "solidity": 0.2
             }
            },
            "type": "bar"
           }
          ],
          "barpolar": [
           {
            "marker": {
             "line": {
              "color": "#E5ECF6",
              "width": 0.5
             },
             "pattern": {
              "fillmode": "overlay",
              "size": 10,
              "solidity": 0.2
             }
            },
            "type": "barpolar"
           }
          ],
          "carpet": [
           {
            "aaxis": {
             "endlinecolor": "#2a3f5f",
             "gridcolor": "white",
             "linecolor": "white",
             "minorgridcolor": "white",
             "startlinecolor": "#2a3f5f"
            },
            "baxis": {
             "endlinecolor": "#2a3f5f",
             "gridcolor": "white",
             "linecolor": "white",
             "minorgridcolor": "white",
             "startlinecolor": "#2a3f5f"
            },
            "type": "carpet"
           }
          ],
          "choropleth": [
           {
            "colorbar": {
             "outlinewidth": 0,
             "ticks": ""
            },
            "type": "choropleth"
           }
          ],
          "contour": [
           {
            "colorbar": {
             "outlinewidth": 0,
             "ticks": ""
            },
            "colorscale": [
             [
              0,
              "#0d0887"
             ],
             [
              0.1111111111111111,
              "#46039f"
             ],
             [
              0.2222222222222222,
              "#7201a8"
             ],
             [
              0.3333333333333333,
              "#9c179e"
             ],
             [
              0.4444444444444444,
              "#bd3786"
             ],
             [
              0.5555555555555556,
              "#d8576b"
             ],
             [
              0.6666666666666666,
              "#ed7953"
             ],
             [
              0.7777777777777778,
              "#fb9f3a"
             ],
             [
              0.8888888888888888,
              "#fdca26"
             ],
             [
              1,
              "#f0f921"
             ]
            ],
            "type": "contour"
           }
          ],
          "contourcarpet": [
           {
            "colorbar": {
             "outlinewidth": 0,
             "ticks": ""
            },
            "type": "contourcarpet"
           }
          ],
          "heatmap": [
           {
            "colorbar": {
             "outlinewidth": 0,
             "ticks": ""
            },
            "colorscale": [
             [
              0,
              "#0d0887"
             ],
             [
              0.1111111111111111,
              "#46039f"
             ],
             [
              0.2222222222222222,
              "#7201a8"
             ],
             [
              0.3333333333333333,
              "#9c179e"
             ],
             [
              0.4444444444444444,
              "#bd3786"
             ],
             [
              0.5555555555555556,
              "#d8576b"
             ],
             [
              0.6666666666666666,
              "#ed7953"
             ],
             [
              0.7777777777777778,
              "#fb9f3a"
             ],
             [
              0.8888888888888888,
              "#fdca26"
             ],
             [
              1,
              "#f0f921"
             ]
            ],
            "type": "heatmap"
           }
          ],
          "heatmapgl": [
           {
            "colorbar": {
             "outlinewidth": 0,
             "ticks": ""
            },
            "colorscale": [
             [
              0,
              "#0d0887"
             ],
             [
              0.1111111111111111,
              "#46039f"
             ],
             [
              0.2222222222222222,
              "#7201a8"
             ],
             [
              0.3333333333333333,
              "#9c179e"
             ],
             [
              0.4444444444444444,
              "#bd3786"
             ],
             [
              0.5555555555555556,
              "#d8576b"
             ],
             [
              0.6666666666666666,
              "#ed7953"
             ],
             [
              0.7777777777777778,
              "#fb9f3a"
             ],
             [
              0.8888888888888888,
              "#fdca26"
             ],
             [
              1,
              "#f0f921"
             ]
            ],
            "type": "heatmapgl"
           }
          ],
          "histogram": [
           {
            "marker": {
             "pattern": {
              "fillmode": "overlay",
              "size": 10,
              "solidity": 0.2
             }
            },
            "type": "histogram"
           }
          ],
          "histogram2d": [
           {
            "colorbar": {
             "outlinewidth": 0,
             "ticks": ""
            },
            "colorscale": [
             [
              0,
              "#0d0887"
             ],
             [
              0.1111111111111111,
              "#46039f"
             ],
             [
              0.2222222222222222,
              "#7201a8"
             ],
             [
              0.3333333333333333,
              "#9c179e"
             ],
             [
              0.4444444444444444,
              "#bd3786"
             ],
             [
              0.5555555555555556,
              "#d8576b"
             ],
             [
              0.6666666666666666,
              "#ed7953"
             ],
             [
              0.7777777777777778,
              "#fb9f3a"
             ],
             [
              0.8888888888888888,
              "#fdca26"
             ],
             [
              1,
              "#f0f921"
             ]
            ],
            "type": "histogram2d"
           }
          ],
          "histogram2dcontour": [
           {
            "colorbar": {
             "outlinewidth": 0,
             "ticks": ""
            },
            "colorscale": [
             [
              0,
              "#0d0887"
             ],
             [
              0.1111111111111111,
              "#46039f"
             ],
             [
              0.2222222222222222,
              "#7201a8"
             ],
             [
              0.3333333333333333,
              "#9c179e"
             ],
             [
              0.4444444444444444,
              "#bd3786"
             ],
             [
              0.5555555555555556,
              "#d8576b"
             ],
             [
              0.6666666666666666,
              "#ed7953"
             ],
             [
              0.7777777777777778,
              "#fb9f3a"
             ],
             [
              0.8888888888888888,
              "#fdca26"
             ],
             [
              1,
              "#f0f921"
             ]
            ],
            "type": "histogram2dcontour"
           }
          ],
          "mesh3d": [
           {
            "colorbar": {
             "outlinewidth": 0,
             "ticks": ""
            },
            "type": "mesh3d"
           }
          ],
          "parcoords": [
           {
            "line": {
             "colorbar": {
              "outlinewidth": 0,
              "ticks": ""
             }
            },
            "type": "parcoords"
           }
          ],
          "pie": [
           {
            "automargin": true,
            "type": "pie"
           }
          ],
          "scatter": [
           {
            "fillpattern": {
             "fillmode": "overlay",
             "size": 10,
             "solidity": 0.2
            },
            "type": "scatter"
           }
          ],
          "scatter3d": [
           {
            "line": {
             "colorbar": {
              "outlinewidth": 0,
              "ticks": ""
             }
            },
            "marker": {
             "colorbar": {
              "outlinewidth": 0,
              "ticks": ""
             }
            },
            "type": "scatter3d"
           }
          ],
          "scattercarpet": [
           {
            "marker": {
             "colorbar": {
              "outlinewidth": 0,
              "ticks": ""
             }
            },
            "type": "scattercarpet"
           }
          ],
          "scattergeo": [
           {
            "marker": {
             "colorbar": {
              "outlinewidth": 0,
              "ticks": ""
             }
            },
            "type": "scattergeo"
           }
          ],
          "scattergl": [
           {
            "marker": {
             "colorbar": {
              "outlinewidth": 0,
              "ticks": ""
             }
            },
            "type": "scattergl"
           }
          ],
          "scattermapbox": [
           {
            "marker": {
             "colorbar": {
              "outlinewidth": 0,
              "ticks": ""
             }
            },
            "type": "scattermapbox"
           }
          ],
          "scatterpolar": [
           {
            "marker": {
             "colorbar": {
              "outlinewidth": 0,
              "ticks": ""
             }
            },
            "type": "scatterpolar"
           }
          ],
          "scatterpolargl": [
           {
            "marker": {
             "colorbar": {
              "outlinewidth": 0,
              "ticks": ""
             }
            },
            "type": "scatterpolargl"
           }
          ],
          "scatterternary": [
           {
            "marker": {
             "colorbar": {
              "outlinewidth": 0,
              "ticks": ""
             }
            },
            "type": "scatterternary"
           }
          ],
          "surface": [
           {
            "colorbar": {
             "outlinewidth": 0,
             "ticks": ""
            },
            "colorscale": [
             [
              0,
              "#0d0887"
             ],
             [
              0.1111111111111111,
              "#46039f"
             ],
             [
              0.2222222222222222,
              "#7201a8"
             ],
             [
              0.3333333333333333,
              "#9c179e"
             ],
             [
              0.4444444444444444,
              "#bd3786"
             ],
             [
              0.5555555555555556,
              "#d8576b"
             ],
             [
              0.6666666666666666,
              "#ed7953"
             ],
             [
              0.7777777777777778,
              "#fb9f3a"
             ],
             [
              0.8888888888888888,
              "#fdca26"
             ],
             [
              1,
              "#f0f921"
             ]
            ],
            "type": "surface"
           }
          ],
          "table": [
           {
            "cells": {
             "fill": {
              "color": "#EBF0F8"
             },
             "line": {
              "color": "white"
             }
            },
            "header": {
             "fill": {
              "color": "#C8D4E3"
             },
             "line": {
              "color": "white"
             }
            },
            "type": "table"
           }
          ]
         },
         "layout": {
          "annotationdefaults": {
           "arrowcolor": "#2a3f5f",
           "arrowhead": 0,
           "arrowwidth": 1
          },
          "autotypenumbers": "strict",
          "coloraxis": {
           "colorbar": {
            "outlinewidth": 0,
            "ticks": ""
           }
          },
          "colorscale": {
           "diverging": [
            [
             0,
             "#8e0152"
            ],
            [
             0.1,
             "#c51b7d"
            ],
            [
             0.2,
             "#de77ae"
            ],
            [
             0.3,
             "#f1b6da"
            ],
            [
             0.4,
             "#fde0ef"
            ],
            [
             0.5,
             "#f7f7f7"
            ],
            [
             0.6,
             "#e6f5d0"
            ],
            [
             0.7,
             "#b8e186"
            ],
            [
             0.8,
             "#7fbc41"
            ],
            [
             0.9,
             "#4d9221"
            ],
            [
             1,
             "#276419"
            ]
           ],
           "sequential": [
            [
             0,
             "#0d0887"
            ],
            [
             0.1111111111111111,
             "#46039f"
            ],
            [
             0.2222222222222222,
             "#7201a8"
            ],
            [
             0.3333333333333333,
             "#9c179e"
            ],
            [
             0.4444444444444444,
             "#bd3786"
            ],
            [
             0.5555555555555556,
             "#d8576b"
            ],
            [
             0.6666666666666666,
             "#ed7953"
            ],
            [
             0.7777777777777778,
             "#fb9f3a"
            ],
            [
             0.8888888888888888,
             "#fdca26"
            ],
            [
             1,
             "#f0f921"
            ]
           ],
           "sequentialminus": [
            [
             0,
             "#0d0887"
            ],
            [
             0.1111111111111111,
             "#46039f"
            ],
            [
             0.2222222222222222,
             "#7201a8"
            ],
            [
             0.3333333333333333,
             "#9c179e"
            ],
            [
             0.4444444444444444,
             "#bd3786"
            ],
            [
             0.5555555555555556,
             "#d8576b"
            ],
            [
             0.6666666666666666,
             "#ed7953"
            ],
            [
             0.7777777777777778,
             "#fb9f3a"
            ],
            [
             0.8888888888888888,
             "#fdca26"
            ],
            [
             1,
             "#f0f921"
            ]
           ]
          },
          "colorway": [
           "#636efa",
           "#EF553B",
           "#00cc96",
           "#ab63fa",
           "#FFA15A",
           "#19d3f3",
           "#FF6692",
           "#B6E880",
           "#FF97FF",
           "#FECB52"
          ],
          "font": {
           "color": "#2a3f5f"
          },
          "geo": {
           "bgcolor": "white",
           "lakecolor": "white",
           "landcolor": "#E5ECF6",
           "showlakes": true,
           "showland": true,
           "subunitcolor": "white"
          },
          "hoverlabel": {
           "align": "left"
          },
          "hovermode": "closest",
          "mapbox": {
           "style": "light"
          },
          "paper_bgcolor": "white",
          "plot_bgcolor": "#E5ECF6",
          "polar": {
           "angularaxis": {
            "gridcolor": "white",
            "linecolor": "white",
            "ticks": ""
           },
           "bgcolor": "#E5ECF6",
           "radialaxis": {
            "gridcolor": "white",
            "linecolor": "white",
            "ticks": ""
           }
          },
          "scene": {
           "xaxis": {
            "backgroundcolor": "#E5ECF6",
            "gridcolor": "white",
            "gridwidth": 2,
            "linecolor": "white",
            "showbackground": true,
            "ticks": "",
            "zerolinecolor": "white"
           },
           "yaxis": {
            "backgroundcolor": "#E5ECF6",
            "gridcolor": "white",
            "gridwidth": 2,
            "linecolor": "white",
            "showbackground": true,
            "ticks": "",
            "zerolinecolor": "white"
           },
           "zaxis": {
            "backgroundcolor": "#E5ECF6",
            "gridcolor": "white",
            "gridwidth": 2,
            "linecolor": "white",
            "showbackground": true,
            "ticks": "",
            "zerolinecolor": "white"
           }
          },
          "shapedefaults": {
           "line": {
            "color": "#2a3f5f"
           }
          },
          "ternary": {
           "aaxis": {
            "gridcolor": "white",
            "linecolor": "white",
            "ticks": ""
           },
           "baxis": {
            "gridcolor": "white",
            "linecolor": "white",
            "ticks": ""
           },
           "bgcolor": "#E5ECF6",
           "caxis": {
            "gridcolor": "white",
            "linecolor": "white",
            "ticks": ""
           }
          },
          "title": {
           "x": 0.05
          },
          "xaxis": {
           "automargin": true,
           "gridcolor": "white",
           "linecolor": "white",
           "ticks": "",
           "title": {
            "standoff": 15
           },
           "zerolinecolor": "white",
           "zerolinewidth": 2
          },
          "yaxis": {
           "automargin": true,
           "gridcolor": "white",
           "linecolor": "white",
           "ticks": "",
           "title": {
            "standoff": 15
           },
           "zerolinecolor": "white",
           "zerolinewidth": 2
          }
         }
        },
        "title": {
         "font": {
          "family": "Arial"
         },
         "text": "<b>Plataforma - Generos<b>"
        },
        "xaxis": {
         "anchor": "y",
         "domain": [
          0,
          1
         ],
         "showgrid": false,
         "showticklabels": true,
         "title": {},
         "zeroline": false
        },
        "yaxis": {
         "anchor": "x",
         "domain": [
          0,
          1
         ],
         "ticklabelposition": "inside",
         "title": {},
         "visible": false
        }
       }
      }
     },
     "metadata": {},
     "output_type": "display_data"
    }
   ],
   "source": [
    "# GRAFICO: \n",
    "# NO INCLUIR! Mucho peor - no se aprecian tan bien las diferencias como en Generos - Plataformas\n",
    "\n",
    "fig = px.bar(top5_generos, x=\"Plataforma\", y=\"Peso\", color=\"Generos\",\n",
    "color_discrete_map={'Amazon': '#9B9B9B', 'Netflix': '#D10600', \n",
    "'HBO': '#460076', 'hulu': '#98FF93', 'Disney':'#3800C2', 'Paramount':'#FFFFFF'}, # No coge los colores??¿\n",
    "text = \"Generos\",\n",
    "title=\"<b>Plataforma - Generos<b>\")\n",
    "\n",
    "#fig.add_vline(x=50, line_width=2, line_dash = 'dash', line_color=\"white\")\n",
    "\n",
    "#fig.update_traces(texttemplate='%{text:.2f}')\n",
    "\n",
    "fig.update_layout(font_family = 'Arial', title_font_family='Arial', font_color = '#FFFFFF', \n",
    "plot_bgcolor='#000000', paper_bgcolor='#000000',showlegend=False)\n",
    "\n",
    "fig.update_xaxes(\n",
    "    showticklabels=True,\n",
    "    zeroline = False,\n",
    "    showgrid = False, title_text=None,\n",
    "    \n",
    "    \n",
    ")\n",
    "\n",
    "\n",
    "fig.update_yaxes(visible = False, title_text=None, ticklabelposition = 'inside',\n",
    ")\n",
    "\n",
    "fig.show()"
   ]
  },
  {
   "cell_type": "markdown",
   "metadata": {},
   "source": [
    "---"
   ]
  },
  {
   "cell_type": "markdown",
   "metadata": {},
   "source": [
    "**2.6.: Por Duración**"
   ]
  },
  {
   "cell_type": "code",
   "execution_count": 178,
   "metadata": {},
   "outputs": [
    {
     "name": "stdout",
     "output_type": "stream",
     "text": [
      "Estadisticos duracion:            Duracion                                                    \n",
      "              count       mean        std  min   25%   50%   75%    max\n",
      "Plataforma                                                             \n",
      "Amazon       1357.0  35.801032  17.702438  1.0  23.0  33.0  47.0  153.0\n",
      "Disney        415.0  27.906024  15.978800  1.0  21.0  24.0  43.0  156.0\n",
      "HBO           756.0  36.298942  18.528605  3.0  23.0  31.0  51.0  124.0\n",
      "Hulu         1329.0  34.340858  13.907574  0.0  23.0  30.0  44.0   92.0\n",
      "Netflix      2047.0  38.821202  18.591043  0.0  25.0  41.0  49.0  225.0\n",
      "Paramount     626.0  34.043131  13.163941  1.0  22.0  33.0  45.0   77.0\n"
     ]
    }
   ],
   "source": [
    "# DURACION CONTENIDO \n",
    "\n",
    "duracion = df_todos[['Plataforma','Duracion']]\n",
    "print('Estadisticos duracion:', duracion.groupby(by='Plataforma').describe())\n",
    "\n",
    "# Vemos que la media ronda en todos los 35 +- minutos, pero destacamos Disney, que como en las películas, tiene una media de duración menor\n",
    "# Si vemos los percentiles, disney está más alineada en el Q1, pero es el Q2 donde se ve más alejada del resto\n",
    "# También destacamos el Q2 de Netflix, con una duración casi 10 min más queel resto\n",
    "# El 25% en disney duran 44 minutos (y en el maximo la diferencia es mucho mayor) "
   ]
  },
  {
   "cell_type": "code",
   "execution_count": 179,
   "metadata": {},
   "outputs": [
    {
     "name": "stderr",
     "output_type": "stream",
     "text": [
      "/Library/Frameworks/Python.framework/Versions/3.7/lib/python3.7/site-packages/ipykernel_launcher.py:1: FutureWarning:\n",
      "\n",
      "Dropping of nuisance columns in DataFrame reductions (with 'numeric_only=None') is deprecated; in a future version this will raise TypeError.  Select only valid columns before calling the reduction.\n",
      "\n"
     ]
    },
    {
     "data": {
      "text/plain": [
       "Duracion    35.837979\n",
       "dtype: float64"
      ]
     },
     "execution_count": 179,
     "metadata": {},
     "output_type": "execute_result"
    }
   ],
   "source": [
    "duracion.mean() # media general"
   ]
  },
  {
   "cell_type": "code",
   "execution_count": 180,
   "metadata": {},
   "outputs": [
    {
     "data": {
      "application/vnd.plotly.v1+json": {
       "config": {
        "plotlyServerURL": "https://plot.ly"
       },
       "data": [
        {
         "alignmentgroup": "True",
         "boxpoints": "outliers",
         "hovertemplate": "Plataforma=%{y}<br>Duracion=%{x}<extra></extra>",
         "legendgroup": "Amazon",
         "marker": {
          "color": "#FFBD00"
         },
         "name": "Amazon",
         "notched": false,
         "offsetgroup": "Amazon",
         "orientation": "h",
         "quartilemethod": "exclusive",
         "showlegend": true,
         "type": "box",
         "x": [
          19,
          30,
          30,
          29,
          23,
          24,
          57,
          30,
          26,
          25,
          116,
          54,
          25,
          56,
          13,
          30,
          51,
          30,
          30,
          30,
          30,
          52,
          153,
          57,
          29,
          63,
          28,
          29,
          30,
          23,
          25,
          24,
          24,
          19,
          30,
          30,
          14,
          27,
          1,
          28,
          24,
          21,
          23,
          28,
          28,
          10,
          46,
          24,
          54,
          22,
          24,
          24,
          22,
          24,
          28,
          9,
          21,
          51,
          21,
          10,
          43,
          24,
          61,
          29,
          24,
          97,
          27,
          100,
          24,
          23,
          26,
          15,
          24,
          25,
          28,
          22,
          22,
          48,
          19,
          52,
          22,
          48,
          34,
          22,
          23,
          44,
          25,
          22,
          25,
          26,
          24,
          26,
          42,
          28,
          22,
          56,
          48,
          49,
          23,
          30,
          26,
          48,
          24,
          21,
          21,
          34,
          22,
          47,
          25,
          21,
          30,
          43,
          49,
          21,
          25,
          8,
          50,
          44,
          62,
          24,
          45,
          30,
          24,
          27,
          50,
          24,
          24,
          44,
          89,
          53,
          51,
          26,
          24,
          26,
          92,
          10,
          29,
          25,
          48,
          21,
          26,
          58,
          24,
          44,
          24,
          53,
          23,
          28,
          44,
          43,
          7,
          21,
          22,
          46,
          24,
          44,
          24,
          44,
          4,
          23,
          51,
          26,
          45,
          55,
          58,
          40,
          52,
          46,
          23,
          45,
          19,
          31,
          47,
          44,
          25,
          1,
          22,
          63,
          37,
          39,
          64,
          21,
          23,
          44,
          26,
          30,
          25,
          46,
          7,
          22,
          59,
          44,
          23,
          85,
          52,
          44,
          29,
          25,
          45,
          25,
          22,
          55,
          45,
          22,
          11,
          27,
          24,
          58,
          45,
          38,
          44,
          29,
          48,
          26,
          23,
          24,
          45,
          24,
          30,
          11,
          58,
          56,
          17,
          51,
          21,
          23,
          59,
          53,
          56,
          25,
          47,
          46,
          21,
          19,
          13,
          27,
          21,
          62,
          24,
          47,
          22,
          25,
          23,
          7,
          27,
          24,
          36,
          46,
          21,
          25,
          29,
          26,
          27,
          24,
          25,
          57,
          46,
          20,
          43,
          53,
          28,
          44,
          107,
          23,
          24,
          53,
          10,
          12,
          44,
          40,
          16,
          47,
          22,
          22,
          54,
          47,
          46,
          23,
          22,
          48,
          24,
          23,
          59,
          53,
          50,
          21,
          22,
          74,
          11,
          14,
          22,
          19,
          14,
          54,
          25,
          73,
          2,
          29,
          13,
          27,
          27,
          27,
          46,
          22,
          52,
          59,
          24,
          11,
          10,
          28,
          59,
          29,
          45,
          22,
          27,
          47,
          28,
          59,
          15,
          45,
          46,
          22,
          26,
          30,
          46,
          11,
          16,
          24,
          55,
          45,
          24,
          23,
          23,
          22,
          22,
          12,
          49,
          43,
          46,
          55,
          13,
          56,
          22,
          48,
          44,
          26,
          55,
          27,
          25,
          94,
          28,
          17,
          24,
          25,
          52,
          28,
          54,
          7,
          24,
          22,
          27,
          79,
          27,
          60,
          44,
          45,
          22,
          42,
          22,
          47,
          20,
          24,
          27,
          41,
          26,
          52,
          45,
          61,
          24,
          17,
          22,
          21,
          58,
          40,
          47,
          52,
          60,
          24,
          23,
          47,
          58,
          44,
          41,
          26,
          44,
          49,
          44,
          53,
          42,
          44,
          59,
          24,
          30,
          47,
          49,
          55,
          45,
          22,
          22,
          45,
          50,
          22,
          1,
          42,
          29,
          11,
          31,
          23,
          5,
          58,
          46,
          44,
          47,
          23,
          33,
          13,
          12,
          17,
          12,
          14,
          59,
          22,
          7,
          50,
          23,
          44,
          48,
          32,
          45,
          20,
          21,
          11,
          11,
          45,
          21,
          40,
          59,
          23,
          25,
          23,
          45,
          22,
          24,
          43,
          42,
          12,
          80,
          45,
          56,
          48,
          61,
          25,
          90,
          53,
          60,
          29,
          58,
          52,
          51,
          59,
          47,
          43,
          22,
          54,
          51,
          59,
          50,
          56,
          54,
          44,
          57,
          92,
          45,
          46,
          44,
          42,
          91,
          26,
          28,
          53,
          45,
          47,
          57,
          46,
          29,
          23,
          47,
          24,
          43,
          90,
          47,
          27,
          19,
          35,
          43,
          43,
          45,
          12,
          47,
          89,
          61,
          24,
          57,
          28,
          49,
          42,
          19,
          23,
          43,
          53,
          61,
          46,
          24,
          57,
          46,
          41,
          43,
          45,
          61,
          28,
          22,
          22,
          31,
          21,
          26,
          49,
          60,
          48,
          43,
          43,
          56,
          22,
          4,
          59,
          13,
          56,
          32,
          4,
          25,
          53,
          47,
          6,
          47,
          23,
          49,
          29,
          58,
          51,
          21,
          22,
          24,
          24,
          21,
          44,
          4,
          45,
          48,
          43,
          27,
          54,
          21,
          4,
          47,
          19,
          39,
          55,
          44,
          5,
          43,
          59,
          52,
          13,
          25,
          3,
          23,
          13,
          49,
          57,
          46,
          49,
          42,
          49,
          30,
          25,
          60,
          56,
          44,
          58,
          55,
          25,
          55,
          40,
          52,
          46,
          47,
          52,
          21,
          43,
          25,
          60,
          22,
          49,
          59,
          43,
          66,
          27,
          57,
          26,
          41,
          27,
          56,
          51,
          30,
          26,
          43,
          27,
          46,
          8,
          30,
          55,
          21,
          30,
          68,
          65,
          24,
          22,
          22,
          24,
          28,
          45,
          44,
          44,
          20,
          44,
          44,
          45,
          85,
          43,
          64,
          32,
          24,
          24,
          19,
          25,
          10,
          2,
          22,
          47,
          1,
          22,
          44,
          22,
          27,
          25,
          46,
          22,
          8,
          30,
          15,
          45,
          24,
          26,
          23,
          22,
          52,
          20,
          48,
          21,
          51,
          23,
          23,
          7,
          59,
          27,
          22,
          44,
          43,
          64,
          15,
          47,
          27,
          22,
          7,
          11,
          10,
          50,
          13,
          6,
          9,
          12,
          43,
          51,
          12,
          17,
          6,
          15,
          12,
          52,
          8,
          17,
          22,
          48,
          14,
          43,
          52,
          10,
          18,
          8,
          26,
          3,
          22,
          21,
          1,
          25,
          25,
          49,
          52,
          11,
          58,
          11,
          26,
          84,
          11,
          46,
          11,
          13,
          13,
          42,
          54,
          54,
          56,
          57,
          48,
          58,
          45,
          26,
          30,
          60,
          47,
          56,
          42,
          35,
          23,
          55,
          48,
          37,
          54,
          48,
          31,
          22,
          29,
          45,
          80,
          42,
          38,
          42,
          52,
          30,
          45,
          24,
          46,
          59,
          51,
          6,
          23,
          62,
          22,
          52,
          58,
          80,
          41,
          5,
          9,
          50,
          24,
          50,
          24,
          22,
          24,
          80,
          24,
          24,
          22,
          39,
          24,
          68,
          24,
          26,
          25,
          66,
          25,
          24,
          43,
          25,
          48,
          45,
          51,
          24,
          44,
          54,
          22,
          56,
          23,
          43,
          37,
          27,
          25,
          45,
          24,
          59,
          19,
          23,
          39,
          5,
          61,
          24,
          23,
          56,
          11,
          40,
          6,
          45,
          24,
          20,
          24,
          85,
          44,
          39,
          24,
          1,
          48,
          18,
          31,
          49,
          47,
          24,
          22,
          36,
          25,
          55,
          2,
          23,
          26,
          45,
          22,
          60,
          32,
          45,
          10,
          18,
          24,
          53,
          24,
          21,
          42,
          45,
          42,
          29,
          24,
          26,
          60,
          3,
          26,
          22,
          45,
          25,
          44,
          27,
          1,
          27,
          43,
          23,
          14,
          24,
          19,
          61,
          38,
          5,
          26,
          79,
          43,
          24,
          43,
          26,
          47,
          25,
          45,
          64,
          25,
          25,
          11,
          25,
          5,
          9,
          40,
          21,
          24,
          21,
          28,
          70,
          21,
          47,
          39,
          58,
          1,
          14,
          40,
          39,
          28,
          23,
          24,
          12,
          52,
          22,
          46,
          34,
          30,
          58,
          3,
          13,
          45,
          9,
          27,
          8,
          22,
          43,
          12,
          9,
          9,
          69,
          26,
          25,
          45,
          26,
          19,
          26,
          1,
          24,
          25,
          47,
          49,
          54,
          23,
          60,
          31,
          57,
          56,
          24,
          57,
          49,
          57,
          57,
          53,
          56,
          29,
          33,
          56,
          57,
          57,
          24,
          64,
          62,
          75,
          55,
          32,
          51,
          49,
          28,
          8,
          46,
          57,
          55,
          81,
          50,
          50,
          30,
          53,
          47,
          33,
          28,
          46,
          44,
          55,
          46,
          42,
          13,
          6,
          49,
          46,
          12,
          55,
          28,
          50,
          14,
          51,
          54,
          38,
          45,
          55,
          45,
          59,
          40,
          48,
          33,
          46,
          10,
          24,
          17,
          45,
          32,
          63,
          45,
          46,
          22,
          56,
          38,
          46,
          48,
          13,
          50,
          57,
          20,
          42,
          44,
          77,
          30,
          58,
          88,
          6,
          43,
          29,
          46,
          47,
          47,
          38,
          43,
          29,
          31,
          43,
          53,
          24,
          41,
          81,
          23,
          48,
          30,
          23,
          46,
          50,
          50,
          70,
          23,
          8,
          11,
          2,
          43,
          14,
          52,
          14,
          47,
          52,
          32,
          21,
          37,
          47,
          23,
          22,
          14,
          25,
          48,
          33,
          15,
          42,
          44,
          45,
          11,
          67,
          46,
          33,
          25,
          27,
          24,
          38,
          44,
          23,
          88,
          45,
          42,
          23,
          87,
          29,
          38,
          25,
          13,
          54,
          20,
          4,
          47,
          41,
          9,
          16,
          33,
          24,
          24,
          13,
          48,
          45,
          23,
          5,
          25,
          26,
          69,
          43,
          13,
          56,
          27,
          3,
          39,
          22,
          18,
          45,
          36,
          52,
          11,
          47,
          41,
          47,
          45,
          19,
          21,
          24,
          22,
          10,
          12,
          30,
          34,
          6,
          34,
          42,
          15,
          1,
          44,
          6,
          29,
          43,
          18,
          39,
          45,
          45,
          4,
          46,
          30,
          43,
          31,
          33,
          17,
          18,
          45,
          2,
          47,
          43,
          36,
          47,
          17,
          22,
          46,
          27,
          50,
          59,
          50,
          55,
          53,
          58,
          47,
          55,
          59,
          58,
          49,
          49,
          50,
          53,
          51,
          45,
          48,
          59,
          85,
          52,
          45,
          24,
          58,
          40,
          26,
          28,
          33,
          14,
          59,
          59,
          54,
          43,
          48,
          48,
          46,
          47,
          44,
          28,
          46,
          31,
          46,
          43,
          41,
          7,
          52,
          30,
          56,
          26,
          55,
          22,
          33,
          48,
          13,
          43,
          23,
          33,
          22,
          49,
          34,
          30,
          38,
          27,
          28,
          52,
          59,
          30,
          46,
          35,
          45,
          34,
          46,
          25,
          28,
          36,
          52,
          33,
          57,
          46,
          32,
          52,
          27,
          48,
          50,
          25,
          24,
          40,
          43,
          45,
          50,
          6,
          46,
          61,
          50,
          34,
          55,
          50,
          41,
          51,
          40,
          27,
          42,
          49,
          32,
          45,
          43,
          42,
          46,
          40,
          50,
          10,
          29,
          40,
          33,
          30,
          47,
          43,
          29,
          34,
          46,
          22,
          44,
          48,
          51,
          52,
          27,
          32,
          40,
          30,
          23,
          27,
          34,
          47,
          66,
          14,
          24,
          29,
          33,
          17,
          29,
          46,
          28,
          46,
          37,
          47,
          88,
          44,
          46,
          41,
          36,
          43,
          30,
          28,
          38,
          1,
          24,
          27,
          24,
          26,
          11,
          40,
          27,
          76,
          29,
          21,
          2,
          20,
          60,
          44,
          40,
          45,
          44,
          32,
          9,
          25,
          30,
          25,
          28,
          46,
          17,
          10
         ],
         "x0": " ",
         "xaxis": "x",
         "y": [
          "Amazon",
          "Amazon",
          "Amazon",
          "Amazon",
          "Amazon",
          "Amazon",
          "Amazon",
          "Amazon",
          "Amazon",
          "Amazon",
          "Amazon",
          "Amazon",
          "Amazon",
          "Amazon",
          "Amazon",
          "Amazon",
          "Amazon",
          "Amazon",
          "Amazon",
          "Amazon",
          "Amazon",
          "Amazon",
          "Amazon",
          "Amazon",
          "Amazon",
          "Amazon",
          "Amazon",
          "Amazon",
          "Amazon",
          "Amazon",
          "Amazon",
          "Amazon",
          "Amazon",
          "Amazon",
          "Amazon",
          "Amazon",
          "Amazon",
          "Amazon",
          "Amazon",
          "Amazon",
          "Amazon",
          "Amazon",
          "Amazon",
          "Amazon",
          "Amazon",
          "Amazon",
          "Amazon",
          "Amazon",
          "Amazon",
          "Amazon",
          "Amazon",
          "Amazon",
          "Amazon",
          "Amazon",
          "Amazon",
          "Amazon",
          "Amazon",
          "Amazon",
          "Amazon",
          "Amazon",
          "Amazon",
          "Amazon",
          "Amazon",
          "Amazon",
          "Amazon",
          "Amazon",
          "Amazon",
          "Amazon",
          "Amazon",
          "Amazon",
          "Amazon",
          "Amazon",
          "Amazon",
          "Amazon",
          "Amazon",
          "Amazon",
          "Amazon",
          "Amazon",
          "Amazon",
          "Amazon",
          "Amazon",
          "Amazon",
          "Amazon",
          "Amazon",
          "Amazon",
          "Amazon",
          "Amazon",
          "Amazon",
          "Amazon",
          "Amazon",
          "Amazon",
          "Amazon",
          "Amazon",
          "Amazon",
          "Amazon",
          "Amazon",
          "Amazon",
          "Amazon",
          "Amazon",
          "Amazon",
          "Amazon",
          "Amazon",
          "Amazon",
          "Amazon",
          "Amazon",
          "Amazon",
          "Amazon",
          "Amazon",
          "Amazon",
          "Amazon",
          "Amazon",
          "Amazon",
          "Amazon",
          "Amazon",
          "Amazon",
          "Amazon",
          "Amazon",
          "Amazon",
          "Amazon",
          "Amazon",
          "Amazon",
          "Amazon",
          "Amazon",
          "Amazon",
          "Amazon",
          "Amazon",
          "Amazon",
          "Amazon",
          "Amazon",
          "Amazon",
          "Amazon",
          "Amazon",
          "Amazon",
          "Amazon",
          "Amazon",
          "Amazon",
          "Amazon",
          "Amazon",
          "Amazon",
          "Amazon",
          "Amazon",
          "Amazon",
          "Amazon",
          "Amazon",
          "Amazon",
          "Amazon",
          "Amazon",
          "Amazon",
          "Amazon",
          "Amazon",
          "Amazon",
          "Amazon",
          "Amazon",
          "Amazon",
          "Amazon",
          "Amazon",
          "Amazon",
          "Amazon",
          "Amazon",
          "Amazon",
          "Amazon",
          "Amazon",
          "Amazon",
          "Amazon",
          "Amazon",
          "Amazon",
          "Amazon",
          "Amazon",
          "Amazon",
          "Amazon",
          "Amazon",
          "Amazon",
          "Amazon",
          "Amazon",
          "Amazon",
          "Amazon",
          "Amazon",
          "Amazon",
          "Amazon",
          "Amazon",
          "Amazon",
          "Amazon",
          "Amazon",
          "Amazon",
          "Amazon",
          "Amazon",
          "Amazon",
          "Amazon",
          "Amazon",
          "Amazon",
          "Amazon",
          "Amazon",
          "Amazon",
          "Amazon",
          "Amazon",
          "Amazon",
          "Amazon",
          "Amazon",
          "Amazon",
          "Amazon",
          "Amazon",
          "Amazon",
          "Amazon",
          "Amazon",
          "Amazon",
          "Amazon",
          "Amazon",
          "Amazon",
          "Amazon",
          "Amazon",
          "Amazon",
          "Amazon",
          "Amazon",
          "Amazon",
          "Amazon",
          "Amazon",
          "Amazon",
          "Amazon",
          "Amazon",
          "Amazon",
          "Amazon",
          "Amazon",
          "Amazon",
          "Amazon",
          "Amazon",
          "Amazon",
          "Amazon",
          "Amazon",
          "Amazon",
          "Amazon",
          "Amazon",
          "Amazon",
          "Amazon",
          "Amazon",
          "Amazon",
          "Amazon",
          "Amazon",
          "Amazon",
          "Amazon",
          "Amazon",
          "Amazon",
          "Amazon",
          "Amazon",
          "Amazon",
          "Amazon",
          "Amazon",
          "Amazon",
          "Amazon",
          "Amazon",
          "Amazon",
          "Amazon",
          "Amazon",
          "Amazon",
          "Amazon",
          "Amazon",
          "Amazon",
          "Amazon",
          "Amazon",
          "Amazon",
          "Amazon",
          "Amazon",
          "Amazon",
          "Amazon",
          "Amazon",
          "Amazon",
          "Amazon",
          "Amazon",
          "Amazon",
          "Amazon",
          "Amazon",
          "Amazon",
          "Amazon",
          "Amazon",
          "Amazon",
          "Amazon",
          "Amazon",
          "Amazon",
          "Amazon",
          "Amazon",
          "Amazon",
          "Amazon",
          "Amazon",
          "Amazon",
          "Amazon",
          "Amazon",
          "Amazon",
          "Amazon",
          "Amazon",
          "Amazon",
          "Amazon",
          "Amazon",
          "Amazon",
          "Amazon",
          "Amazon",
          "Amazon",
          "Amazon",
          "Amazon",
          "Amazon",
          "Amazon",
          "Amazon",
          "Amazon",
          "Amazon",
          "Amazon",
          "Amazon",
          "Amazon",
          "Amazon",
          "Amazon",
          "Amazon",
          "Amazon",
          "Amazon",
          "Amazon",
          "Amazon",
          "Amazon",
          "Amazon",
          "Amazon",
          "Amazon",
          "Amazon",
          "Amazon",
          "Amazon",
          "Amazon",
          "Amazon",
          "Amazon",
          "Amazon",
          "Amazon",
          "Amazon",
          "Amazon",
          "Amazon",
          "Amazon",
          "Amazon",
          "Amazon",
          "Amazon",
          "Amazon",
          "Amazon",
          "Amazon",
          "Amazon",
          "Amazon",
          "Amazon",
          "Amazon",
          "Amazon",
          "Amazon",
          "Amazon",
          "Amazon",
          "Amazon",
          "Amazon",
          "Amazon",
          "Amazon",
          "Amazon",
          "Amazon",
          "Amazon",
          "Amazon",
          "Amazon",
          "Amazon",
          "Amazon",
          "Amazon",
          "Amazon",
          "Amazon",
          "Amazon",
          "Amazon",
          "Amazon",
          "Amazon",
          "Amazon",
          "Amazon",
          "Amazon",
          "Amazon",
          "Amazon",
          "Amazon",
          "Amazon",
          "Amazon",
          "Amazon",
          "Amazon",
          "Amazon",
          "Amazon",
          "Amazon",
          "Amazon",
          "Amazon",
          "Amazon",
          "Amazon",
          "Amazon",
          "Amazon",
          "Amazon",
          "Amazon",
          "Amazon",
          "Amazon",
          "Amazon",
          "Amazon",
          "Amazon",
          "Amazon",
          "Amazon",
          "Amazon",
          "Amazon",
          "Amazon",
          "Amazon",
          "Amazon",
          "Amazon",
          "Amazon",
          "Amazon",
          "Amazon",
          "Amazon",
          "Amazon",
          "Amazon",
          "Amazon",
          "Amazon",
          "Amazon",
          "Amazon",
          "Amazon",
          "Amazon",
          "Amazon",
          "Amazon",
          "Amazon",
          "Amazon",
          "Amazon",
          "Amazon",
          "Amazon",
          "Amazon",
          "Amazon",
          "Amazon",
          "Amazon",
          "Amazon",
          "Amazon",
          "Amazon",
          "Amazon",
          "Amazon",
          "Amazon",
          "Amazon",
          "Amazon",
          "Amazon",
          "Amazon",
          "Amazon",
          "Amazon",
          "Amazon",
          "Amazon",
          "Amazon",
          "Amazon",
          "Amazon",
          "Amazon",
          "Amazon",
          "Amazon",
          "Amazon",
          "Amazon",
          "Amazon",
          "Amazon",
          "Amazon",
          "Amazon",
          "Amazon",
          "Amazon",
          "Amazon",
          "Amazon",
          "Amazon",
          "Amazon",
          "Amazon",
          "Amazon",
          "Amazon",
          "Amazon",
          "Amazon",
          "Amazon",
          "Amazon",
          "Amazon",
          "Amazon",
          "Amazon",
          "Amazon",
          "Amazon",
          "Amazon",
          "Amazon",
          "Amazon",
          "Amazon",
          "Amazon",
          "Amazon",
          "Amazon",
          "Amazon",
          "Amazon",
          "Amazon",
          "Amazon",
          "Amazon",
          "Amazon",
          "Amazon",
          "Amazon",
          "Amazon",
          "Amazon",
          "Amazon",
          "Amazon",
          "Amazon",
          "Amazon",
          "Amazon",
          "Amazon",
          "Amazon",
          "Amazon",
          "Amazon",
          "Amazon",
          "Amazon",
          "Amazon",
          "Amazon",
          "Amazon",
          "Amazon",
          "Amazon",
          "Amazon",
          "Amazon",
          "Amazon",
          "Amazon",
          "Amazon",
          "Amazon",
          "Amazon",
          "Amazon",
          "Amazon",
          "Amazon",
          "Amazon",
          "Amazon",
          "Amazon",
          "Amazon",
          "Amazon",
          "Amazon",
          "Amazon",
          "Amazon",
          "Amazon",
          "Amazon",
          "Amazon",
          "Amazon",
          "Amazon",
          "Amazon",
          "Amazon",
          "Amazon",
          "Amazon",
          "Amazon",
          "Amazon",
          "Amazon",
          "Amazon",
          "Amazon",
          "Amazon",
          "Amazon",
          "Amazon",
          "Amazon",
          "Amazon",
          "Amazon",
          "Amazon",
          "Amazon",
          "Amazon",
          "Amazon",
          "Amazon",
          "Amazon",
          "Amazon",
          "Amazon",
          "Amazon",
          "Amazon",
          "Amazon",
          "Amazon",
          "Amazon",
          "Amazon",
          "Amazon",
          "Amazon",
          "Amazon",
          "Amazon",
          "Amazon",
          "Amazon",
          "Amazon",
          "Amazon",
          "Amazon",
          "Amazon",
          "Amazon",
          "Amazon",
          "Amazon",
          "Amazon",
          "Amazon",
          "Amazon",
          "Amazon",
          "Amazon",
          "Amazon",
          "Amazon",
          "Amazon",
          "Amazon",
          "Amazon",
          "Amazon",
          "Amazon",
          "Amazon",
          "Amazon",
          "Amazon",
          "Amazon",
          "Amazon",
          "Amazon",
          "Amazon",
          "Amazon",
          "Amazon",
          "Amazon",
          "Amazon",
          "Amazon",
          "Amazon",
          "Amazon",
          "Amazon",
          "Amazon",
          "Amazon",
          "Amazon",
          "Amazon",
          "Amazon",
          "Amazon",
          "Amazon",
          "Amazon",
          "Amazon",
          "Amazon",
          "Amazon",
          "Amazon",
          "Amazon",
          "Amazon",
          "Amazon",
          "Amazon",
          "Amazon",
          "Amazon",
          "Amazon",
          "Amazon",
          "Amazon",
          "Amazon",
          "Amazon",
          "Amazon",
          "Amazon",
          "Amazon",
          "Amazon",
          "Amazon",
          "Amazon",
          "Amazon",
          "Amazon",
          "Amazon",
          "Amazon",
          "Amazon",
          "Amazon",
          "Amazon",
          "Amazon",
          "Amazon",
          "Amazon",
          "Amazon",
          "Amazon",
          "Amazon",
          "Amazon",
          "Amazon",
          "Amazon",
          "Amazon",
          "Amazon",
          "Amazon",
          "Amazon",
          "Amazon",
          "Amazon",
          "Amazon",
          "Amazon",
          "Amazon",
          "Amazon",
          "Amazon",
          "Amazon",
          "Amazon",
          "Amazon",
          "Amazon",
          "Amazon",
          "Amazon",
          "Amazon",
          "Amazon",
          "Amazon",
          "Amazon",
          "Amazon",
          "Amazon",
          "Amazon",
          "Amazon",
          "Amazon",
          "Amazon",
          "Amazon",
          "Amazon",
          "Amazon",
          "Amazon",
          "Amazon",
          "Amazon",
          "Amazon",
          "Amazon",
          "Amazon",
          "Amazon",
          "Amazon",
          "Amazon",
          "Amazon",
          "Amazon",
          "Amazon",
          "Amazon",
          "Amazon",
          "Amazon",
          "Amazon",
          "Amazon",
          "Amazon",
          "Amazon",
          "Amazon",
          "Amazon",
          "Amazon",
          "Amazon",
          "Amazon",
          "Amazon",
          "Amazon",
          "Amazon",
          "Amazon",
          "Amazon",
          "Amazon",
          "Amazon",
          "Amazon",
          "Amazon",
          "Amazon",
          "Amazon",
          "Amazon",
          "Amazon",
          "Amazon",
          "Amazon",
          "Amazon",
          "Amazon",
          "Amazon",
          "Amazon",
          "Amazon",
          "Amazon",
          "Amazon",
          "Amazon",
          "Amazon",
          "Amazon",
          "Amazon",
          "Amazon",
          "Amazon",
          "Amazon",
          "Amazon",
          "Amazon",
          "Amazon",
          "Amazon",
          "Amazon",
          "Amazon",
          "Amazon",
          "Amazon",
          "Amazon",
          "Amazon",
          "Amazon",
          "Amazon",
          "Amazon",
          "Amazon",
          "Amazon",
          "Amazon",
          "Amazon",
          "Amazon",
          "Amazon",
          "Amazon",
          "Amazon",
          "Amazon",
          "Amazon",
          "Amazon",
          "Amazon",
          "Amazon",
          "Amazon",
          "Amazon",
          "Amazon",
          "Amazon",
          "Amazon",
          "Amazon",
          "Amazon",
          "Amazon",
          "Amazon",
          "Amazon",
          "Amazon",
          "Amazon",
          "Amazon",
          "Amazon",
          "Amazon",
          "Amazon",
          "Amazon",
          "Amazon",
          "Amazon",
          "Amazon",
          "Amazon",
          "Amazon",
          "Amazon",
          "Amazon",
          "Amazon",
          "Amazon",
          "Amazon",
          "Amazon",
          "Amazon",
          "Amazon",
          "Amazon",
          "Amazon",
          "Amazon",
          "Amazon",
          "Amazon",
          "Amazon",
          "Amazon",
          "Amazon",
          "Amazon",
          "Amazon",
          "Amazon",
          "Amazon",
          "Amazon",
          "Amazon",
          "Amazon",
          "Amazon",
          "Amazon",
          "Amazon",
          "Amazon",
          "Amazon",
          "Amazon",
          "Amazon",
          "Amazon",
          "Amazon",
          "Amazon",
          "Amazon",
          "Amazon",
          "Amazon",
          "Amazon",
          "Amazon",
          "Amazon",
          "Amazon",
          "Amazon",
          "Amazon",
          "Amazon",
          "Amazon",
          "Amazon",
          "Amazon",
          "Amazon",
          "Amazon",
          "Amazon",
          "Amazon",
          "Amazon",
          "Amazon",
          "Amazon",
          "Amazon",
          "Amazon",
          "Amazon",
          "Amazon",
          "Amazon",
          "Amazon",
          "Amazon",
          "Amazon",
          "Amazon",
          "Amazon",
          "Amazon",
          "Amazon",
          "Amazon",
          "Amazon",
          "Amazon",
          "Amazon",
          "Amazon",
          "Amazon",
          "Amazon",
          "Amazon",
          "Amazon",
          "Amazon",
          "Amazon",
          "Amazon",
          "Amazon",
          "Amazon",
          "Amazon",
          "Amazon",
          "Amazon",
          "Amazon",
          "Amazon",
          "Amazon",
          "Amazon",
          "Amazon",
          "Amazon",
          "Amazon",
          "Amazon",
          "Amazon",
          "Amazon",
          "Amazon",
          "Amazon",
          "Amazon",
          "Amazon",
          "Amazon",
          "Amazon",
          "Amazon",
          "Amazon",
          "Amazon",
          "Amazon",
          "Amazon",
          "Amazon",
          "Amazon",
          "Amazon",
          "Amazon",
          "Amazon",
          "Amazon",
          "Amazon",
          "Amazon",
          "Amazon",
          "Amazon",
          "Amazon",
          "Amazon",
          "Amazon",
          "Amazon",
          "Amazon",
          "Amazon",
          "Amazon",
          "Amazon",
          "Amazon",
          "Amazon",
          "Amazon",
          "Amazon",
          "Amazon",
          "Amazon",
          "Amazon",
          "Amazon",
          "Amazon",
          "Amazon",
          "Amazon",
          "Amazon",
          "Amazon",
          "Amazon",
          "Amazon",
          "Amazon",
          "Amazon",
          "Amazon",
          "Amazon",
          "Amazon",
          "Amazon",
          "Amazon",
          "Amazon",
          "Amazon",
          "Amazon",
          "Amazon",
          "Amazon",
          "Amazon",
          "Amazon",
          "Amazon",
          "Amazon",
          "Amazon",
          "Amazon",
          "Amazon",
          "Amazon",
          "Amazon",
          "Amazon",
          "Amazon",
          "Amazon",
          "Amazon",
          "Amazon",
          "Amazon",
          "Amazon",
          "Amazon",
          "Amazon",
          "Amazon",
          "Amazon",
          "Amazon",
          "Amazon",
          "Amazon",
          "Amazon",
          "Amazon",
          "Amazon",
          "Amazon",
          "Amazon",
          "Amazon",
          "Amazon",
          "Amazon",
          "Amazon",
          "Amazon",
          "Amazon",
          "Amazon",
          "Amazon",
          "Amazon",
          "Amazon",
          "Amazon",
          "Amazon",
          "Amazon",
          "Amazon",
          "Amazon",
          "Amazon",
          "Amazon",
          "Amazon",
          "Amazon",
          "Amazon",
          "Amazon",
          "Amazon",
          "Amazon",
          "Amazon",
          "Amazon",
          "Amazon",
          "Amazon",
          "Amazon",
          "Amazon",
          "Amazon",
          "Amazon",
          "Amazon",
          "Amazon",
          "Amazon",
          "Amazon",
          "Amazon",
          "Amazon",
          "Amazon",
          "Amazon",
          "Amazon",
          "Amazon",
          "Amazon",
          "Amazon",
          "Amazon",
          "Amazon",
          "Amazon",
          "Amazon",
          "Amazon",
          "Amazon",
          "Amazon",
          "Amazon",
          "Amazon",
          "Amazon",
          "Amazon",
          "Amazon",
          "Amazon",
          "Amazon",
          "Amazon",
          "Amazon",
          "Amazon",
          "Amazon",
          "Amazon",
          "Amazon",
          "Amazon",
          "Amazon",
          "Amazon",
          "Amazon",
          "Amazon",
          "Amazon",
          "Amazon",
          "Amazon",
          "Amazon",
          "Amazon",
          "Amazon",
          "Amazon",
          "Amazon",
          "Amazon",
          "Amazon",
          "Amazon",
          "Amazon",
          "Amazon",
          "Amazon",
          "Amazon",
          "Amazon",
          "Amazon",
          "Amazon",
          "Amazon",
          "Amazon",
          "Amazon",
          "Amazon",
          "Amazon",
          "Amazon",
          "Amazon",
          "Amazon",
          "Amazon",
          "Amazon",
          "Amazon",
          "Amazon",
          "Amazon",
          "Amazon",
          "Amazon",
          "Amazon",
          "Amazon",
          "Amazon",
          "Amazon",
          "Amazon",
          "Amazon",
          "Amazon",
          "Amazon",
          "Amazon",
          "Amazon",
          "Amazon",
          "Amazon",
          "Amazon",
          "Amazon",
          "Amazon",
          "Amazon",
          "Amazon",
          "Amazon",
          "Amazon",
          "Amazon",
          "Amazon",
          "Amazon",
          "Amazon",
          "Amazon",
          "Amazon",
          "Amazon",
          "Amazon",
          "Amazon",
          "Amazon",
          "Amazon",
          "Amazon",
          "Amazon",
          "Amazon",
          "Amazon",
          "Amazon",
          "Amazon",
          "Amazon",
          "Amazon",
          "Amazon",
          "Amazon",
          "Amazon",
          "Amazon",
          "Amazon",
          "Amazon",
          "Amazon",
          "Amazon",
          "Amazon",
          "Amazon",
          "Amazon",
          "Amazon",
          "Amazon",
          "Amazon",
          "Amazon",
          "Amazon",
          "Amazon",
          "Amazon",
          "Amazon",
          "Amazon",
          "Amazon",
          "Amazon",
          "Amazon",
          "Amazon",
          "Amazon",
          "Amazon",
          "Amazon",
          "Amazon",
          "Amazon",
          "Amazon",
          "Amazon",
          "Amazon",
          "Amazon",
          "Amazon",
          "Amazon",
          "Amazon",
          "Amazon",
          "Amazon",
          "Amazon",
          "Amazon",
          "Amazon",
          "Amazon",
          "Amazon",
          "Amazon",
          "Amazon",
          "Amazon",
          "Amazon",
          "Amazon",
          "Amazon",
          "Amazon",
          "Amazon",
          "Amazon",
          "Amazon",
          "Amazon",
          "Amazon",
          "Amazon",
          "Amazon",
          "Amazon",
          "Amazon",
          "Amazon",
          "Amazon",
          "Amazon",
          "Amazon",
          "Amazon",
          "Amazon",
          "Amazon",
          "Amazon",
          "Amazon",
          "Amazon",
          "Amazon",
          "Amazon",
          "Amazon",
          "Amazon",
          "Amazon",
          "Amazon",
          "Amazon",
          "Amazon",
          "Amazon",
          "Amazon",
          "Amazon",
          "Amazon",
          "Amazon",
          "Amazon",
          "Amazon",
          "Amazon",
          "Amazon",
          "Amazon",
          "Amazon",
          "Amazon",
          "Amazon",
          "Amazon",
          "Amazon",
          "Amazon",
          "Amazon",
          "Amazon",
          "Amazon",
          "Amazon",
          "Amazon",
          "Amazon",
          "Amazon",
          "Amazon",
          "Amazon",
          "Amazon",
          "Amazon",
          "Amazon",
          "Amazon",
          "Amazon",
          "Amazon",
          "Amazon",
          "Amazon",
          "Amazon",
          "Amazon",
          "Amazon",
          "Amazon",
          "Amazon",
          "Amazon",
          "Amazon",
          "Amazon",
          "Amazon",
          "Amazon",
          "Amazon",
          "Amazon",
          "Amazon",
          "Amazon",
          "Amazon",
          "Amazon",
          "Amazon",
          "Amazon",
          "Amazon",
          "Amazon",
          "Amazon",
          "Amazon",
          "Amazon",
          "Amazon",
          "Amazon",
          "Amazon",
          "Amazon",
          "Amazon",
          "Amazon",
          "Amazon",
          "Amazon",
          "Amazon",
          "Amazon",
          "Amazon",
          "Amazon",
          "Amazon",
          "Amazon",
          "Amazon",
          "Amazon",
          "Amazon",
          "Amazon",
          "Amazon",
          "Amazon",
          "Amazon",
          "Amazon",
          "Amazon",
          "Amazon",
          "Amazon",
          "Amazon",
          "Amazon",
          "Amazon",
          "Amazon",
          "Amazon",
          "Amazon",
          "Amazon",
          "Amazon",
          "Amazon",
          "Amazon",
          "Amazon",
          "Amazon",
          "Amazon",
          "Amazon",
          "Amazon",
          "Amazon",
          "Amazon",
          "Amazon",
          "Amazon",
          "Amazon",
          "Amazon",
          "Amazon",
          "Amazon",
          "Amazon",
          "Amazon",
          "Amazon",
          "Amazon",
          "Amazon",
          "Amazon",
          "Amazon",
          "Amazon",
          "Amazon",
          "Amazon",
          "Amazon",
          "Amazon",
          "Amazon",
          "Amazon",
          "Amazon",
          "Amazon",
          "Amazon",
          "Amazon",
          "Amazon",
          "Amazon",
          "Amazon",
          "Amazon",
          "Amazon",
          "Amazon",
          "Amazon",
          "Amazon",
          "Amazon",
          "Amazon",
          "Amazon",
          "Amazon",
          "Amazon",
          "Amazon",
          "Amazon",
          "Amazon",
          "Amazon",
          "Amazon",
          "Amazon",
          "Amazon",
          "Amazon",
          "Amazon",
          "Amazon",
          "Amazon",
          "Amazon",
          "Amazon",
          "Amazon",
          "Amazon",
          "Amazon",
          "Amazon",
          "Amazon",
          "Amazon",
          "Amazon",
          "Amazon",
          "Amazon",
          "Amazon",
          "Amazon",
          "Amazon",
          "Amazon",
          "Amazon",
          "Amazon",
          "Amazon",
          "Amazon",
          "Amazon",
          "Amazon",
          "Amazon",
          "Amazon",
          "Amazon",
          "Amazon",
          "Amazon",
          "Amazon",
          "Amazon",
          "Amazon",
          "Amazon",
          "Amazon",
          "Amazon",
          "Amazon",
          "Amazon",
          "Amazon",
          "Amazon",
          "Amazon",
          "Amazon",
          "Amazon",
          "Amazon",
          "Amazon",
          "Amazon",
          "Amazon",
          "Amazon",
          "Amazon",
          "Amazon",
          "Amazon",
          "Amazon",
          "Amazon",
          "Amazon",
          "Amazon",
          "Amazon",
          "Amazon",
          "Amazon",
          "Amazon",
          "Amazon",
          "Amazon"
         ],
         "y0": " ",
         "yaxis": "y"
        },
        {
         "alignmentgroup": "True",
         "boxpoints": "outliers",
         "hovertemplate": "Plataforma=%{y}<br>Duracion=%{x}<extra></extra>",
         "legendgroup": "Netflix",
         "marker": {
          "color": "#D10600"
         },
         "name": "Netflix",
         "notched": false,
         "offsetgroup": "Netflix",
         "orientation": "h",
         "quartilemethod": "exclusive",
         "showlegend": true,
         "type": "box",
         "x": [
          48,
          30,
          43,
          24,
          51,
          10,
          23,
          26,
          24,
          10,
          15,
          50,
          48,
          44,
          22,
          23,
          25,
          47,
          40,
          46,
          24,
          26,
          22,
          22,
          22,
          22,
          25,
          19,
          28,
          21,
          22,
          25,
          21,
          19,
          21,
          9,
          25,
          47,
          44,
          40,
          48,
          46,
          49,
          58,
          49,
          57,
          44,
          44,
          23,
          44,
          45,
          28,
          25,
          25,
          24,
          43,
          22,
          24,
          21,
          24,
          42,
          23,
          44,
          21,
          25,
          58,
          26,
          25,
          44,
          44,
          24,
          24,
          22,
          52,
          44,
          29,
          27,
          25,
          25,
          15,
          23,
          23,
          64,
          23,
          25,
          141,
          30,
          84,
          7,
          22,
          24,
          11,
          22,
          26,
          6,
          55,
          45,
          23,
          44,
          35,
          18,
          24,
          61,
          24,
          14,
          17,
          22,
          21,
          25,
          25,
          9,
          20,
          44,
          43,
          12,
          22,
          44,
          0,
          0,
          21,
          46,
          14,
          72,
          9,
          3,
          11,
          58,
          26,
          49,
          67,
          44,
          43,
          22,
          0,
          56,
          44,
          44,
          49,
          20,
          59,
          39,
          48,
          20,
          225,
          45,
          37,
          44,
          44,
          44,
          44,
          59,
          69,
          15,
          44,
          45,
          13,
          63,
          56,
          21,
          59,
          53,
          54,
          21,
          59,
          42,
          48,
          23,
          42,
          23,
          23,
          51,
          17,
          24,
          22,
          41,
          20,
          45,
          26,
          25,
          24,
          23,
          6,
          23,
          24,
          27,
          27,
          22,
          24,
          40,
          24,
          4,
          22,
          44,
          16,
          42,
          44,
          2,
          45,
          62,
          22,
          22,
          14,
          5,
          43,
          47,
          5,
          45,
          15,
          44,
          25,
          44,
          43,
          46,
          45,
          0,
          46,
          17,
          44,
          47,
          60,
          58,
          24,
          43,
          64,
          42,
          43,
          41,
          42,
          43,
          42,
          26,
          52,
          24,
          59,
          43,
          42,
          55,
          46,
          43,
          25,
          43,
          45,
          26,
          24,
          49,
          24,
          24,
          24,
          24,
          48,
          44,
          42,
          24,
          57,
          20,
          24,
          57,
          17,
          10,
          19,
          42,
          43,
          11,
          30,
          24,
          24,
          59,
          21,
          23,
          24,
          90,
          2,
          25,
          23,
          43,
          22,
          45,
          41,
          23,
          28,
          18,
          4,
          45,
          53,
          23,
          13,
          5,
          23,
          25,
          73,
          29,
          63,
          44,
          44,
          19,
          14,
          45,
          44,
          44,
          44,
          26,
          24,
          49,
          55,
          52,
          22,
          48,
          30,
          23,
          30,
          24,
          41,
          42,
          56,
          55,
          29,
          22,
          42,
          42,
          24,
          47,
          42,
          44,
          55,
          22,
          62,
          30,
          30,
          57,
          46,
          45,
          52,
          22,
          44,
          46,
          43,
          42,
          43,
          43,
          43,
          54,
          46,
          42,
          42,
          54,
          15,
          45,
          59,
          40,
          54,
          46,
          45,
          22,
          25,
          32,
          43,
          30,
          44,
          30,
          41,
          42,
          52,
          45,
          32,
          30,
          50,
          27,
          30,
          45,
          62,
          24,
          43,
          28,
          50,
          43,
          24,
          18,
          45,
          43,
          48,
          24,
          10,
          24,
          50,
          22,
          25,
          23,
          92,
          51,
          27,
          48,
          62,
          22,
          32,
          27,
          24,
          21,
          43,
          30,
          47,
          42,
          7,
          52,
          30,
          46,
          122,
          23,
          55,
          3,
          71,
          25,
          28,
          95,
          3,
          61,
          5,
          43,
          24,
          58,
          44,
          25,
          23,
          24,
          46,
          11,
          60,
          51,
          23,
          23,
          17,
          23,
          21,
          27,
          12,
          30,
          97,
          29,
          65,
          23,
          63,
          23,
          21,
          23,
          35,
          47,
          53,
          42,
          51,
          31,
          24,
          44,
          49,
          45,
          48,
          48,
          15,
          63,
          69,
          22,
          22,
          45,
          26,
          41,
          23,
          8,
          27,
          22,
          23,
          30,
          27,
          31,
          25,
          70,
          27,
          62,
          48,
          24,
          36,
          43,
          25,
          42,
          49,
          26,
          16,
          5,
          47,
          11,
          43,
          69,
          44,
          57,
          21,
          48,
          46,
          45,
          44,
          60,
          31,
          21,
          36,
          29,
          20,
          30,
          45,
          46,
          24,
          18,
          28,
          11,
          13,
          22,
          89,
          28,
          10,
          13,
          10,
          53,
          84,
          45,
          24,
          18,
          44,
          61,
          13,
          41,
          45,
          40,
          39,
          60,
          45,
          42,
          45,
          44,
          25,
          37,
          87,
          40,
          60,
          25,
          45,
          56,
          42,
          42,
          53,
          42,
          42,
          48,
          31,
          47,
          49,
          50,
          42,
          60,
          65,
          52,
          39,
          44,
          49,
          42,
          58,
          43,
          22,
          67,
          52,
          27,
          42,
          43,
          46,
          43,
          29,
          23,
          29,
          21,
          45,
          34,
          21,
          57,
          26,
          26,
          44,
          31,
          44,
          46,
          47,
          33,
          50,
          86,
          57,
          25,
          56,
          29,
          24,
          27,
          62,
          25,
          6,
          22,
          55,
          45,
          24,
          46,
          65,
          47,
          52,
          56,
          58,
          56,
          44,
          42,
          58,
          27,
          29,
          23,
          58,
          43,
          29,
          48,
          21,
          23,
          24,
          64,
          43,
          47,
          25,
          63,
          42,
          25,
          30,
          24,
          46,
          52,
          50,
          24,
          24,
          11,
          57,
          46,
          24,
          23,
          55,
          15,
          43,
          25,
          57,
          25,
          60,
          40,
          21,
          41,
          45,
          20,
          24,
          5,
          50,
          52,
          21,
          76,
          16,
          79,
          24,
          30,
          57,
          48,
          51,
          59,
          46,
          33,
          16,
          28,
          29,
          41,
          59,
          25,
          71,
          42,
          12,
          32,
          45,
          30,
          45,
          45,
          27,
          23,
          29,
          63,
          49,
          24,
          52,
          56,
          56,
          20,
          76,
          11,
          52,
          49,
          44,
          68,
          36,
          48,
          35,
          73,
          24,
          51,
          31,
          42,
          19,
          64,
          48,
          15,
          49,
          75,
          24,
          11,
          22,
          23,
          45,
          80,
          28,
          24,
          51,
          46,
          12,
          24,
          29,
          68,
          24,
          22,
          66,
          22,
          47,
          24,
          68,
          22,
          52,
          25,
          46,
          25,
          51,
          44,
          50,
          27,
          43,
          47,
          44,
          42,
          48,
          27,
          24,
          64,
          53,
          46,
          49,
          49,
          43,
          28,
          28,
          47,
          54,
          64,
          67,
          25,
          55,
          21,
          70,
          57,
          43,
          44,
          47,
          71,
          11,
          25,
          43,
          45,
          16,
          60,
          42,
          42,
          47,
          24,
          60,
          28,
          56,
          24,
          67,
          34,
          46,
          47,
          50,
          23,
          27,
          22,
          52,
          30,
          39,
          53,
          23,
          22,
          40,
          52,
          25,
          27,
          25,
          49,
          48,
          45,
          24,
          45,
          13,
          23,
          23,
          71,
          25,
          41,
          27,
          59,
          32,
          90,
          26,
          59,
          26,
          61,
          15,
          43,
          38,
          25,
          70,
          64,
          108,
          30,
          24,
          45,
          75,
          22,
          61,
          59,
          54,
          25,
          46,
          52,
          18,
          42,
          91,
          36,
          43,
          39,
          55,
          57,
          67,
          21,
          41,
          45,
          30,
          63,
          21,
          75,
          45,
          25,
          25,
          7,
          24,
          21,
          49,
          24,
          54,
          12,
          25,
          51,
          45,
          48,
          69,
          45,
          51,
          42,
          32,
          30,
          22,
          21,
          15,
          24,
          36,
          40,
          23,
          23,
          78,
          12,
          35,
          58,
          22,
          69,
          45,
          18,
          13,
          30,
          45,
          39,
          45,
          45,
          28,
          17,
          18,
          60,
          24,
          60,
          8,
          20,
          25,
          24,
          69,
          0,
          18,
          45,
          0,
          59,
          35,
          47,
          26,
          39,
          41,
          23,
          43,
          43,
          40,
          41,
          29,
          29,
          55,
          46,
          25,
          24,
          28,
          100,
          26,
          29,
          27,
          58,
          46,
          47,
          43,
          48,
          36,
          24,
          23,
          50,
          23,
          12,
          68,
          13,
          49,
          33,
          27,
          12,
          59,
          46,
          68,
          58,
          42,
          24,
          45,
          24,
          51,
          40,
          16,
          53,
          24,
          45,
          83,
          23,
          40,
          50,
          31,
          89,
          55,
          24,
          30,
          84,
          44,
          68,
          57,
          11,
          26,
          23,
          39,
          37,
          45,
          23,
          63,
          22,
          26,
          32,
          42,
          22,
          30,
          45,
          34,
          24,
          41,
          34,
          19,
          24,
          40,
          44,
          24,
          80,
          20,
          30,
          28,
          24,
          23,
          3,
          34,
          11,
          24,
          0,
          35,
          44,
          22,
          27,
          85,
          0,
          30,
          24,
          28,
          62,
          25,
          52,
          28,
          13,
          52,
          58,
          30,
          38,
          56,
          35,
          31,
          16,
          50,
          45,
          29,
          48,
          24,
          24,
          44,
          49,
          48,
          52,
          44,
          41,
          45,
          24,
          25,
          44,
          54,
          36,
          44,
          28,
          19,
          62,
          42,
          50,
          47,
          43,
          48,
          39,
          23,
          88,
          51,
          74,
          8,
          42,
          86,
          26,
          47,
          58,
          62,
          46,
          199,
          47,
          49,
          55,
          42,
          50,
          25,
          55,
          43,
          22,
          54,
          59,
          21,
          44,
          54,
          43,
          47,
          48,
          42,
          50,
          54,
          52,
          25,
          43,
          56,
          44,
          50,
          26,
          53,
          49,
          44,
          43,
          82,
          48,
          42,
          54,
          10,
          34,
          49,
          48,
          59,
          76,
          26,
          45,
          23,
          24,
          49,
          17,
          56,
          44,
          50,
          22,
          28,
          53,
          48,
          39,
          57,
          43,
          47,
          38,
          27,
          57,
          32,
          25,
          43,
          45,
          41,
          20,
          25,
          24,
          38,
          55,
          46,
          80,
          61,
          51,
          47,
          56,
          49,
          46,
          49,
          24,
          43,
          42,
          24,
          43,
          86,
          29,
          48,
          50,
          41,
          34,
          20,
          56,
          29,
          46,
          45,
          52,
          40,
          67,
          60,
          50,
          27,
          44,
          21,
          24,
          26,
          45,
          45,
          23,
          32,
          42,
          96,
          52,
          30,
          80,
          44,
          74,
          36,
          23,
          28,
          29,
          46,
          22,
          6,
          29,
          26,
          36,
          69,
          26,
          59,
          30,
          13,
          49,
          24,
          61,
          55,
          22,
          46,
          50,
          48,
          67,
          50,
          35,
          45,
          71,
          2,
          50,
          64,
          54,
          47,
          42,
          51,
          27,
          47,
          80,
          56,
          40,
          64,
          30,
          57,
          22,
          23,
          23,
          49,
          62,
          44,
          49,
          58,
          29,
          80,
          45,
          44,
          23,
          40,
          40,
          50,
          31,
          50,
          58,
          35,
          26,
          50,
          61,
          49,
          9,
          40,
          63,
          61,
          23,
          45,
          46,
          39,
          24,
          30,
          90,
          47,
          53,
          27,
          12,
          52,
          11,
          26,
          30,
          29,
          54,
          29,
          70,
          44,
          47,
          38,
          29,
          52,
          28,
          44,
          19,
          26,
          50,
          52,
          44,
          46,
          43,
          22,
          48,
          36,
          45,
          48,
          60,
          23,
          48,
          17,
          44,
          0,
          24,
          57,
          60,
          47,
          34,
          54,
          35,
          24,
          25,
          75,
          29,
          45,
          42,
          48,
          25,
          45,
          22,
          27,
          69,
          45,
          58,
          6,
          62,
          30,
          47,
          37,
          20,
          61,
          52,
          12,
          45,
          59,
          64,
          52,
          51,
          8,
          42,
          178,
          51,
          44,
          50,
          30,
          6,
          13,
          29,
          73,
          45,
          53,
          30,
          34,
          42,
          68,
          22,
          32,
          33,
          44,
          40,
          57,
          12,
          40,
          47,
          26,
          45,
          20,
          62,
          27,
          49,
          45,
          49,
          49,
          40,
          45,
          31,
          31,
          41,
          27,
          50,
          22,
          50,
          46,
          89,
          33,
          44,
          75,
          26,
          36,
          45,
          37,
          29,
          10,
          57,
          25,
          53,
          26,
          34,
          28,
          67,
          59,
          25,
          29,
          60,
          48,
          26,
          72,
          43,
          45,
          46,
          26,
          43,
          30,
          30,
          44,
          45,
          36,
          26,
          0,
          60,
          14,
          25,
          40,
          47,
          0,
          74,
          24,
          28,
          53,
          20,
          34,
          25,
          55,
          0,
          22,
          45,
          24,
          44,
          55,
          46,
          42,
          46,
          59,
          6,
          51,
          43,
          37,
          3,
          44,
          43,
          57,
          56,
          47,
          45,
          30,
          24,
          14,
          16,
          23,
          37,
          11,
          49,
          24,
          27,
          23,
          69,
          25,
          21,
          40,
          44,
          20,
          51,
          41,
          40,
          30,
          49,
          52,
          56,
          60,
          45,
          43,
          62,
          37,
          36,
          47,
          45,
          30,
          45,
          32,
          12,
          13,
          65,
          46,
          62,
          34,
          55,
          44,
          34,
          11,
          48,
          14,
          3,
          30,
          46,
          36,
          32,
          50,
          50,
          30,
          50,
          26,
          29,
          31,
          20,
          53,
          46,
          58,
          20,
          28,
          37,
          40,
          50,
          45,
          50,
          45,
          45,
          52,
          24,
          25,
          19,
          25,
          9,
          29,
          42,
          0,
          30,
          13,
          40,
          49,
          29,
          55,
          38,
          30,
          41,
          40,
          13,
          38,
          36,
          42,
          41,
          118,
          70,
          13,
          32,
          24,
          6,
          68,
          23,
          51,
          29,
          23,
          32,
          62,
          42,
          0,
          23,
          44,
          39,
          37,
          48,
          36,
          0,
          44,
          48,
          25,
          13,
          23,
          23,
          46,
          12,
          44,
          9,
          7,
          30,
          33,
          31,
          22,
          15,
          6,
          84,
          35,
          21,
          24,
          13,
          36,
          34,
          40,
          13,
          56,
          45,
          8,
          58,
          29,
          46,
          44,
          40,
          39,
          64,
          24,
          46,
          43,
          31,
          8,
          17,
          51,
          0,
          26,
          48,
          40,
          51,
          3,
          39,
          41,
          4,
          45,
          42,
          24,
          24,
          47,
          23,
          45,
          28,
          27,
          52,
          68,
          52,
          61,
          24,
          51,
          41,
          47,
          52,
          64,
          34,
          61,
          50,
          26,
          26,
          54,
          85,
          54,
          48,
          41,
          47,
          54,
          44,
          44,
          52,
          46,
          29,
          43,
          27,
          61,
          54,
          50,
          38,
          66,
          15,
          45,
          41,
          45,
          45,
          46,
          47,
          52,
          49,
          24,
          60,
          0,
          54,
          28,
          46,
          9,
          30,
          48,
          55,
          62,
          93,
          39,
          47,
          29,
          45,
          27,
          68,
          57,
          49,
          57,
          30,
          53,
          46,
          35,
          52,
          42,
          76,
          52,
          67,
          51,
          51,
          41,
          53,
          50,
          62,
          27,
          41,
          58,
          26,
          131,
          47,
          31,
          25,
          81,
          42,
          50,
          44,
          20,
          45,
          25,
          29,
          55,
          30,
          43,
          40,
          45,
          78,
          48,
          69,
          44,
          34,
          55,
          46,
          44,
          61,
          50,
          44,
          53,
          43,
          21,
          29,
          69,
          47,
          26,
          26,
          32,
          60,
          49,
          49,
          25,
          24,
          23,
          17,
          50,
          23,
          43,
          29,
          23,
          45,
          54,
          73,
          7,
          71,
          24,
          97,
          40,
          32,
          40,
          24,
          66,
          61,
          19,
          26,
          25,
          47,
          48,
          38,
          44,
          24,
          43,
          53,
          51,
          24,
          81,
          30,
          69,
          55,
          69,
          25,
          47,
          23,
          65,
          43,
          39,
          54,
          59,
          51,
          49,
          66,
          29,
          21,
          60,
          45,
          47,
          0,
          42,
          19,
          42,
          0,
          25,
          40,
          29,
          46,
          45,
          47,
          34,
          35,
          11,
          20,
          12,
          12,
          43,
          26,
          32,
          52,
          23,
          42,
          64,
          69,
          60,
          30,
          71,
          57,
          39,
          32,
          24,
          30,
          41,
          46,
          11,
          30,
          22,
          30,
          54,
          30,
          44,
          51,
          44,
          24,
          13,
          50,
          66,
          47,
          59,
          24,
          40,
          30,
          24,
          57,
          52,
          28,
          53,
          2,
          30,
          12,
          45,
          12,
          43,
          14,
          23,
          31,
          48,
          41,
          49,
          38,
          36,
          41,
          14,
          43,
          27,
          35,
          69,
          63,
          23,
          53,
          50,
          50,
          37,
          44,
          30,
          54,
          36,
          13,
          56,
          23,
          30,
          23,
          30,
          51,
          32,
          43,
          48,
          24,
          23,
          29,
          35,
          27,
          63,
          38,
          50,
          48,
          36,
          38,
          62,
          37,
          25,
          69,
          35,
          0,
          32,
          60,
          56,
          30,
          38,
          24,
          30,
          19,
          25,
          24,
          19,
          32,
          31,
          59,
          37,
          64,
          45,
          30,
          32,
          61,
          43,
          28,
          44,
          23,
          22,
          52,
          22,
          39,
          28,
          52,
          35,
          63,
          47,
          70,
          37,
          30,
          39,
          11,
          31,
          46,
          25,
          59,
          67,
          35,
          53,
          26,
          5,
          70,
          32,
          40,
          33,
          47,
          32,
          33,
          27,
          23,
          45,
          0,
          49,
          38,
          61,
          15,
          32,
          51,
          38,
          68,
          15,
          35,
          47,
          36,
          0,
          25,
          34,
          23,
          65,
          48,
          25,
          46,
          39,
          60,
          40,
          40,
          13,
          6,
          26,
          60,
          41,
          49,
          20,
          49,
          47,
          56,
          0,
          26,
          72,
          27,
          25,
          30,
          20,
          33,
          48,
          41,
          34,
          45,
          34,
          25,
          30,
          22,
          50,
          49,
          37,
          4,
          23,
          45,
          24,
          0
         ],
         "x0": " ",
         "xaxis": "x",
         "y": [
          "Netflix",
          "Netflix",
          "Netflix",
          "Netflix",
          "Netflix",
          "Netflix",
          "Netflix",
          "Netflix",
          "Netflix",
          "Netflix",
          "Netflix",
          "Netflix",
          "Netflix",
          "Netflix",
          "Netflix",
          "Netflix",
          "Netflix",
          "Netflix",
          "Netflix",
          "Netflix",
          "Netflix",
          "Netflix",
          "Netflix",
          "Netflix",
          "Netflix",
          "Netflix",
          "Netflix",
          "Netflix",
          "Netflix",
          "Netflix",
          "Netflix",
          "Netflix",
          "Netflix",
          "Netflix",
          "Netflix",
          "Netflix",
          "Netflix",
          "Netflix",
          "Netflix",
          "Netflix",
          "Netflix",
          "Netflix",
          "Netflix",
          "Netflix",
          "Netflix",
          "Netflix",
          "Netflix",
          "Netflix",
          "Netflix",
          "Netflix",
          "Netflix",
          "Netflix",
          "Netflix",
          "Netflix",
          "Netflix",
          "Netflix",
          "Netflix",
          "Netflix",
          "Netflix",
          "Netflix",
          "Netflix",
          "Netflix",
          "Netflix",
          "Netflix",
          "Netflix",
          "Netflix",
          "Netflix",
          "Netflix",
          "Netflix",
          "Netflix",
          "Netflix",
          "Netflix",
          "Netflix",
          "Netflix",
          "Netflix",
          "Netflix",
          "Netflix",
          "Netflix",
          "Netflix",
          "Netflix",
          "Netflix",
          "Netflix",
          "Netflix",
          "Netflix",
          "Netflix",
          "Netflix",
          "Netflix",
          "Netflix",
          "Netflix",
          "Netflix",
          "Netflix",
          "Netflix",
          "Netflix",
          "Netflix",
          "Netflix",
          "Netflix",
          "Netflix",
          "Netflix",
          "Netflix",
          "Netflix",
          "Netflix",
          "Netflix",
          "Netflix",
          "Netflix",
          "Netflix",
          "Netflix",
          "Netflix",
          "Netflix",
          "Netflix",
          "Netflix",
          "Netflix",
          "Netflix",
          "Netflix",
          "Netflix",
          "Netflix",
          "Netflix",
          "Netflix",
          "Netflix",
          "Netflix",
          "Netflix",
          "Netflix",
          "Netflix",
          "Netflix",
          "Netflix",
          "Netflix",
          "Netflix",
          "Netflix",
          "Netflix",
          "Netflix",
          "Netflix",
          "Netflix",
          "Netflix",
          "Netflix",
          "Netflix",
          "Netflix",
          "Netflix",
          "Netflix",
          "Netflix",
          "Netflix",
          "Netflix",
          "Netflix",
          "Netflix",
          "Netflix",
          "Netflix",
          "Netflix",
          "Netflix",
          "Netflix",
          "Netflix",
          "Netflix",
          "Netflix",
          "Netflix",
          "Netflix",
          "Netflix",
          "Netflix",
          "Netflix",
          "Netflix",
          "Netflix",
          "Netflix",
          "Netflix",
          "Netflix",
          "Netflix",
          "Netflix",
          "Netflix",
          "Netflix",
          "Netflix",
          "Netflix",
          "Netflix",
          "Netflix",
          "Netflix",
          "Netflix",
          "Netflix",
          "Netflix",
          "Netflix",
          "Netflix",
          "Netflix",
          "Netflix",
          "Netflix",
          "Netflix",
          "Netflix",
          "Netflix",
          "Netflix",
          "Netflix",
          "Netflix",
          "Netflix",
          "Netflix",
          "Netflix",
          "Netflix",
          "Netflix",
          "Netflix",
          "Netflix",
          "Netflix",
          "Netflix",
          "Netflix",
          "Netflix",
          "Netflix",
          "Netflix",
          "Netflix",
          "Netflix",
          "Netflix",
          "Netflix",
          "Netflix",
          "Netflix",
          "Netflix",
          "Netflix",
          "Netflix",
          "Netflix",
          "Netflix",
          "Netflix",
          "Netflix",
          "Netflix",
          "Netflix",
          "Netflix",
          "Netflix",
          "Netflix",
          "Netflix",
          "Netflix",
          "Netflix",
          "Netflix",
          "Netflix",
          "Netflix",
          "Netflix",
          "Netflix",
          "Netflix",
          "Netflix",
          "Netflix",
          "Netflix",
          "Netflix",
          "Netflix",
          "Netflix",
          "Netflix",
          "Netflix",
          "Netflix",
          "Netflix",
          "Netflix",
          "Netflix",
          "Netflix",
          "Netflix",
          "Netflix",
          "Netflix",
          "Netflix",
          "Netflix",
          "Netflix",
          "Netflix",
          "Netflix",
          "Netflix",
          "Netflix",
          "Netflix",
          "Netflix",
          "Netflix",
          "Netflix",
          "Netflix",
          "Netflix",
          "Netflix",
          "Netflix",
          "Netflix",
          "Netflix",
          "Netflix",
          "Netflix",
          "Netflix",
          "Netflix",
          "Netflix",
          "Netflix",
          "Netflix",
          "Netflix",
          "Netflix",
          "Netflix",
          "Netflix",
          "Netflix",
          "Netflix",
          "Netflix",
          "Netflix",
          "Netflix",
          "Netflix",
          "Netflix",
          "Netflix",
          "Netflix",
          "Netflix",
          "Netflix",
          "Netflix",
          "Netflix",
          "Netflix",
          "Netflix",
          "Netflix",
          "Netflix",
          "Netflix",
          "Netflix",
          "Netflix",
          "Netflix",
          "Netflix",
          "Netflix",
          "Netflix",
          "Netflix",
          "Netflix",
          "Netflix",
          "Netflix",
          "Netflix",
          "Netflix",
          "Netflix",
          "Netflix",
          "Netflix",
          "Netflix",
          "Netflix",
          "Netflix",
          "Netflix",
          "Netflix",
          "Netflix",
          "Netflix",
          "Netflix",
          "Netflix",
          "Netflix",
          "Netflix",
          "Netflix",
          "Netflix",
          "Netflix",
          "Netflix",
          "Netflix",
          "Netflix",
          "Netflix",
          "Netflix",
          "Netflix",
          "Netflix",
          "Netflix",
          "Netflix",
          "Netflix",
          "Netflix",
          "Netflix",
          "Netflix",
          "Netflix",
          "Netflix",
          "Netflix",
          "Netflix",
          "Netflix",
          "Netflix",
          "Netflix",
          "Netflix",
          "Netflix",
          "Netflix",
          "Netflix",
          "Netflix",
          "Netflix",
          "Netflix",
          "Netflix",
          "Netflix",
          "Netflix",
          "Netflix",
          "Netflix",
          "Netflix",
          "Netflix",
          "Netflix",
          "Netflix",
          "Netflix",
          "Netflix",
          "Netflix",
          "Netflix",
          "Netflix",
          "Netflix",
          "Netflix",
          "Netflix",
          "Netflix",
          "Netflix",
          "Netflix",
          "Netflix",
          "Netflix",
          "Netflix",
          "Netflix",
          "Netflix",
          "Netflix",
          "Netflix",
          "Netflix",
          "Netflix",
          "Netflix",
          "Netflix",
          "Netflix",
          "Netflix",
          "Netflix",
          "Netflix",
          "Netflix",
          "Netflix",
          "Netflix",
          "Netflix",
          "Netflix",
          "Netflix",
          "Netflix",
          "Netflix",
          "Netflix",
          "Netflix",
          "Netflix",
          "Netflix",
          "Netflix",
          "Netflix",
          "Netflix",
          "Netflix",
          "Netflix",
          "Netflix",
          "Netflix",
          "Netflix",
          "Netflix",
          "Netflix",
          "Netflix",
          "Netflix",
          "Netflix",
          "Netflix",
          "Netflix",
          "Netflix",
          "Netflix",
          "Netflix",
          "Netflix",
          "Netflix",
          "Netflix",
          "Netflix",
          "Netflix",
          "Netflix",
          "Netflix",
          "Netflix",
          "Netflix",
          "Netflix",
          "Netflix",
          "Netflix",
          "Netflix",
          "Netflix",
          "Netflix",
          "Netflix",
          "Netflix",
          "Netflix",
          "Netflix",
          "Netflix",
          "Netflix",
          "Netflix",
          "Netflix",
          "Netflix",
          "Netflix",
          "Netflix",
          "Netflix",
          "Netflix",
          "Netflix",
          "Netflix",
          "Netflix",
          "Netflix",
          "Netflix",
          "Netflix",
          "Netflix",
          "Netflix",
          "Netflix",
          "Netflix",
          "Netflix",
          "Netflix",
          "Netflix",
          "Netflix",
          "Netflix",
          "Netflix",
          "Netflix",
          "Netflix",
          "Netflix",
          "Netflix",
          "Netflix",
          "Netflix",
          "Netflix",
          "Netflix",
          "Netflix",
          "Netflix",
          "Netflix",
          "Netflix",
          "Netflix",
          "Netflix",
          "Netflix",
          "Netflix",
          "Netflix",
          "Netflix",
          "Netflix",
          "Netflix",
          "Netflix",
          "Netflix",
          "Netflix",
          "Netflix",
          "Netflix",
          "Netflix",
          "Netflix",
          "Netflix",
          "Netflix",
          "Netflix",
          "Netflix",
          "Netflix",
          "Netflix",
          "Netflix",
          "Netflix",
          "Netflix",
          "Netflix",
          "Netflix",
          "Netflix",
          "Netflix",
          "Netflix",
          "Netflix",
          "Netflix",
          "Netflix",
          "Netflix",
          "Netflix",
          "Netflix",
          "Netflix",
          "Netflix",
          "Netflix",
          "Netflix",
          "Netflix",
          "Netflix",
          "Netflix",
          "Netflix",
          "Netflix",
          "Netflix",
          "Netflix",
          "Netflix",
          "Netflix",
          "Netflix",
          "Netflix",
          "Netflix",
          "Netflix",
          "Netflix",
          "Netflix",
          "Netflix",
          "Netflix",
          "Netflix",
          "Netflix",
          "Netflix",
          "Netflix",
          "Netflix",
          "Netflix",
          "Netflix",
          "Netflix",
          "Netflix",
          "Netflix",
          "Netflix",
          "Netflix",
          "Netflix",
          "Netflix",
          "Netflix",
          "Netflix",
          "Netflix",
          "Netflix",
          "Netflix",
          "Netflix",
          "Netflix",
          "Netflix",
          "Netflix",
          "Netflix",
          "Netflix",
          "Netflix",
          "Netflix",
          "Netflix",
          "Netflix",
          "Netflix",
          "Netflix",
          "Netflix",
          "Netflix",
          "Netflix",
          "Netflix",
          "Netflix",
          "Netflix",
          "Netflix",
          "Netflix",
          "Netflix",
          "Netflix",
          "Netflix",
          "Netflix",
          "Netflix",
          "Netflix",
          "Netflix",
          "Netflix",
          "Netflix",
          "Netflix",
          "Netflix",
          "Netflix",
          "Netflix",
          "Netflix",
          "Netflix",
          "Netflix",
          "Netflix",
          "Netflix",
          "Netflix",
          "Netflix",
          "Netflix",
          "Netflix",
          "Netflix",
          "Netflix",
          "Netflix",
          "Netflix",
          "Netflix",
          "Netflix",
          "Netflix",
          "Netflix",
          "Netflix",
          "Netflix",
          "Netflix",
          "Netflix",
          "Netflix",
          "Netflix",
          "Netflix",
          "Netflix",
          "Netflix",
          "Netflix",
          "Netflix",
          "Netflix",
          "Netflix",
          "Netflix",
          "Netflix",
          "Netflix",
          "Netflix",
          "Netflix",
          "Netflix",
          "Netflix",
          "Netflix",
          "Netflix",
          "Netflix",
          "Netflix",
          "Netflix",
          "Netflix",
          "Netflix",
          "Netflix",
          "Netflix",
          "Netflix",
          "Netflix",
          "Netflix",
          "Netflix",
          "Netflix",
          "Netflix",
          "Netflix",
          "Netflix",
          "Netflix",
          "Netflix",
          "Netflix",
          "Netflix",
          "Netflix",
          "Netflix",
          "Netflix",
          "Netflix",
          "Netflix",
          "Netflix",
          "Netflix",
          "Netflix",
          "Netflix",
          "Netflix",
          "Netflix",
          "Netflix",
          "Netflix",
          "Netflix",
          "Netflix",
          "Netflix",
          "Netflix",
          "Netflix",
          "Netflix",
          "Netflix",
          "Netflix",
          "Netflix",
          "Netflix",
          "Netflix",
          "Netflix",
          "Netflix",
          "Netflix",
          "Netflix",
          "Netflix",
          "Netflix",
          "Netflix",
          "Netflix",
          "Netflix",
          "Netflix",
          "Netflix",
          "Netflix",
          "Netflix",
          "Netflix",
          "Netflix",
          "Netflix",
          "Netflix",
          "Netflix",
          "Netflix",
          "Netflix",
          "Netflix",
          "Netflix",
          "Netflix",
          "Netflix",
          "Netflix",
          "Netflix",
          "Netflix",
          "Netflix",
          "Netflix",
          "Netflix",
          "Netflix",
          "Netflix",
          "Netflix",
          "Netflix",
          "Netflix",
          "Netflix",
          "Netflix",
          "Netflix",
          "Netflix",
          "Netflix",
          "Netflix",
          "Netflix",
          "Netflix",
          "Netflix",
          "Netflix",
          "Netflix",
          "Netflix",
          "Netflix",
          "Netflix",
          "Netflix",
          "Netflix",
          "Netflix",
          "Netflix",
          "Netflix",
          "Netflix",
          "Netflix",
          "Netflix",
          "Netflix",
          "Netflix",
          "Netflix",
          "Netflix",
          "Netflix",
          "Netflix",
          "Netflix",
          "Netflix",
          "Netflix",
          "Netflix",
          "Netflix",
          "Netflix",
          "Netflix",
          "Netflix",
          "Netflix",
          "Netflix",
          "Netflix",
          "Netflix",
          "Netflix",
          "Netflix",
          "Netflix",
          "Netflix",
          "Netflix",
          "Netflix",
          "Netflix",
          "Netflix",
          "Netflix",
          "Netflix",
          "Netflix",
          "Netflix",
          "Netflix",
          "Netflix",
          "Netflix",
          "Netflix",
          "Netflix",
          "Netflix",
          "Netflix",
          "Netflix",
          "Netflix",
          "Netflix",
          "Netflix",
          "Netflix",
          "Netflix",
          "Netflix",
          "Netflix",
          "Netflix",
          "Netflix",
          "Netflix",
          "Netflix",
          "Netflix",
          "Netflix",
          "Netflix",
          "Netflix",
          "Netflix",
          "Netflix",
          "Netflix",
          "Netflix",
          "Netflix",
          "Netflix",
          "Netflix",
          "Netflix",
          "Netflix",
          "Netflix",
          "Netflix",
          "Netflix",
          "Netflix",
          "Netflix",
          "Netflix",
          "Netflix",
          "Netflix",
          "Netflix",
          "Netflix",
          "Netflix",
          "Netflix",
          "Netflix",
          "Netflix",
          "Netflix",
          "Netflix",
          "Netflix",
          "Netflix",
          "Netflix",
          "Netflix",
          "Netflix",
          "Netflix",
          "Netflix",
          "Netflix",
          "Netflix",
          "Netflix",
          "Netflix",
          "Netflix",
          "Netflix",
          "Netflix",
          "Netflix",
          "Netflix",
          "Netflix",
          "Netflix",
          "Netflix",
          "Netflix",
          "Netflix",
          "Netflix",
          "Netflix",
          "Netflix",
          "Netflix",
          "Netflix",
          "Netflix",
          "Netflix",
          "Netflix",
          "Netflix",
          "Netflix",
          "Netflix",
          "Netflix",
          "Netflix",
          "Netflix",
          "Netflix",
          "Netflix",
          "Netflix",
          "Netflix",
          "Netflix",
          "Netflix",
          "Netflix",
          "Netflix",
          "Netflix",
          "Netflix",
          "Netflix",
          "Netflix",
          "Netflix",
          "Netflix",
          "Netflix",
          "Netflix",
          "Netflix",
          "Netflix",
          "Netflix",
          "Netflix",
          "Netflix",
          "Netflix",
          "Netflix",
          "Netflix",
          "Netflix",
          "Netflix",
          "Netflix",
          "Netflix",
          "Netflix",
          "Netflix",
          "Netflix",
          "Netflix",
          "Netflix",
          "Netflix",
          "Netflix",
          "Netflix",
          "Netflix",
          "Netflix",
          "Netflix",
          "Netflix",
          "Netflix",
          "Netflix",
          "Netflix",
          "Netflix",
          "Netflix",
          "Netflix",
          "Netflix",
          "Netflix",
          "Netflix",
          "Netflix",
          "Netflix",
          "Netflix",
          "Netflix",
          "Netflix",
          "Netflix",
          "Netflix",
          "Netflix",
          "Netflix",
          "Netflix",
          "Netflix",
          "Netflix",
          "Netflix",
          "Netflix",
          "Netflix",
          "Netflix",
          "Netflix",
          "Netflix",
          "Netflix",
          "Netflix",
          "Netflix",
          "Netflix",
          "Netflix",
          "Netflix",
          "Netflix",
          "Netflix",
          "Netflix",
          "Netflix",
          "Netflix",
          "Netflix",
          "Netflix",
          "Netflix",
          "Netflix",
          "Netflix",
          "Netflix",
          "Netflix",
          "Netflix",
          "Netflix",
          "Netflix",
          "Netflix",
          "Netflix",
          "Netflix",
          "Netflix",
          "Netflix",
          "Netflix",
          "Netflix",
          "Netflix",
          "Netflix",
          "Netflix",
          "Netflix",
          "Netflix",
          "Netflix",
          "Netflix",
          "Netflix",
          "Netflix",
          "Netflix",
          "Netflix",
          "Netflix",
          "Netflix",
          "Netflix",
          "Netflix",
          "Netflix",
          "Netflix",
          "Netflix",
          "Netflix",
          "Netflix",
          "Netflix",
          "Netflix",
          "Netflix",
          "Netflix",
          "Netflix",
          "Netflix",
          "Netflix",
          "Netflix",
          "Netflix",
          "Netflix",
          "Netflix",
          "Netflix",
          "Netflix",
          "Netflix",
          "Netflix",
          "Netflix",
          "Netflix",
          "Netflix",
          "Netflix",
          "Netflix",
          "Netflix",
          "Netflix",
          "Netflix",
          "Netflix",
          "Netflix",
          "Netflix",
          "Netflix",
          "Netflix",
          "Netflix",
          "Netflix",
          "Netflix",
          "Netflix",
          "Netflix",
          "Netflix",
          "Netflix",
          "Netflix",
          "Netflix",
          "Netflix",
          "Netflix",
          "Netflix",
          "Netflix",
          "Netflix",
          "Netflix",
          "Netflix",
          "Netflix",
          "Netflix",
          "Netflix",
          "Netflix",
          "Netflix",
          "Netflix",
          "Netflix",
          "Netflix",
          "Netflix",
          "Netflix",
          "Netflix",
          "Netflix",
          "Netflix",
          "Netflix",
          "Netflix",
          "Netflix",
          "Netflix",
          "Netflix",
          "Netflix",
          "Netflix",
          "Netflix",
          "Netflix",
          "Netflix",
          "Netflix",
          "Netflix",
          "Netflix",
          "Netflix",
          "Netflix",
          "Netflix",
          "Netflix",
          "Netflix",
          "Netflix",
          "Netflix",
          "Netflix",
          "Netflix",
          "Netflix",
          "Netflix",
          "Netflix",
          "Netflix",
          "Netflix",
          "Netflix",
          "Netflix",
          "Netflix",
          "Netflix",
          "Netflix",
          "Netflix",
          "Netflix",
          "Netflix",
          "Netflix",
          "Netflix",
          "Netflix",
          "Netflix",
          "Netflix",
          "Netflix",
          "Netflix",
          "Netflix",
          "Netflix",
          "Netflix",
          "Netflix",
          "Netflix",
          "Netflix",
          "Netflix",
          "Netflix",
          "Netflix",
          "Netflix",
          "Netflix",
          "Netflix",
          "Netflix",
          "Netflix",
          "Netflix",
          "Netflix",
          "Netflix",
          "Netflix",
          "Netflix",
          "Netflix",
          "Netflix",
          "Netflix",
          "Netflix",
          "Netflix",
          "Netflix",
          "Netflix",
          "Netflix",
          "Netflix",
          "Netflix",
          "Netflix",
          "Netflix",
          "Netflix",
          "Netflix",
          "Netflix",
          "Netflix",
          "Netflix",
          "Netflix",
          "Netflix",
          "Netflix",
          "Netflix",
          "Netflix",
          "Netflix",
          "Netflix",
          "Netflix",
          "Netflix",
          "Netflix",
          "Netflix",
          "Netflix",
          "Netflix",
          "Netflix",
          "Netflix",
          "Netflix",
          "Netflix",
          "Netflix",
          "Netflix",
          "Netflix",
          "Netflix",
          "Netflix",
          "Netflix",
          "Netflix",
          "Netflix",
          "Netflix",
          "Netflix",
          "Netflix",
          "Netflix",
          "Netflix",
          "Netflix",
          "Netflix",
          "Netflix",
          "Netflix",
          "Netflix",
          "Netflix",
          "Netflix",
          "Netflix",
          "Netflix",
          "Netflix",
          "Netflix",
          "Netflix",
          "Netflix",
          "Netflix",
          "Netflix",
          "Netflix",
          "Netflix",
          "Netflix",
          "Netflix",
          "Netflix",
          "Netflix",
          "Netflix",
          "Netflix",
          "Netflix",
          "Netflix",
          "Netflix",
          "Netflix",
          "Netflix",
          "Netflix",
          "Netflix",
          "Netflix",
          "Netflix",
          "Netflix",
          "Netflix",
          "Netflix",
          "Netflix",
          "Netflix",
          "Netflix",
          "Netflix",
          "Netflix",
          "Netflix",
          "Netflix",
          "Netflix",
          "Netflix",
          "Netflix",
          "Netflix",
          "Netflix",
          "Netflix",
          "Netflix",
          "Netflix",
          "Netflix",
          "Netflix",
          "Netflix",
          "Netflix",
          "Netflix",
          "Netflix",
          "Netflix",
          "Netflix",
          "Netflix",
          "Netflix",
          "Netflix",
          "Netflix",
          "Netflix",
          "Netflix",
          "Netflix",
          "Netflix",
          "Netflix",
          "Netflix",
          "Netflix",
          "Netflix",
          "Netflix",
          "Netflix",
          "Netflix",
          "Netflix",
          "Netflix",
          "Netflix",
          "Netflix",
          "Netflix",
          "Netflix",
          "Netflix",
          "Netflix",
          "Netflix",
          "Netflix",
          "Netflix",
          "Netflix",
          "Netflix",
          "Netflix",
          "Netflix",
          "Netflix",
          "Netflix",
          "Netflix",
          "Netflix",
          "Netflix",
          "Netflix",
          "Netflix",
          "Netflix",
          "Netflix",
          "Netflix",
          "Netflix",
          "Netflix",
          "Netflix",
          "Netflix",
          "Netflix",
          "Netflix",
          "Netflix",
          "Netflix",
          "Netflix",
          "Netflix",
          "Netflix",
          "Netflix",
          "Netflix",
          "Netflix",
          "Netflix",
          "Netflix",
          "Netflix",
          "Netflix",
          "Netflix",
          "Netflix",
          "Netflix",
          "Netflix",
          "Netflix",
          "Netflix",
          "Netflix",
          "Netflix",
          "Netflix",
          "Netflix",
          "Netflix",
          "Netflix",
          "Netflix",
          "Netflix",
          "Netflix",
          "Netflix",
          "Netflix",
          "Netflix",
          "Netflix",
          "Netflix",
          "Netflix",
          "Netflix",
          "Netflix",
          "Netflix",
          "Netflix",
          "Netflix",
          "Netflix",
          "Netflix",
          "Netflix",
          "Netflix",
          "Netflix",
          "Netflix",
          "Netflix",
          "Netflix",
          "Netflix",
          "Netflix",
          "Netflix",
          "Netflix",
          "Netflix",
          "Netflix",
          "Netflix",
          "Netflix",
          "Netflix",
          "Netflix",
          "Netflix",
          "Netflix",
          "Netflix",
          "Netflix",
          "Netflix",
          "Netflix",
          "Netflix",
          "Netflix",
          "Netflix",
          "Netflix",
          "Netflix",
          "Netflix",
          "Netflix",
          "Netflix",
          "Netflix",
          "Netflix",
          "Netflix",
          "Netflix",
          "Netflix",
          "Netflix",
          "Netflix",
          "Netflix",
          "Netflix",
          "Netflix",
          "Netflix",
          "Netflix",
          "Netflix",
          "Netflix",
          "Netflix",
          "Netflix",
          "Netflix",
          "Netflix",
          "Netflix",
          "Netflix",
          "Netflix",
          "Netflix",
          "Netflix",
          "Netflix",
          "Netflix",
          "Netflix",
          "Netflix",
          "Netflix",
          "Netflix",
          "Netflix",
          "Netflix",
          "Netflix",
          "Netflix",
          "Netflix",
          "Netflix",
          "Netflix",
          "Netflix",
          "Netflix",
          "Netflix",
          "Netflix",
          "Netflix",
          "Netflix",
          "Netflix",
          "Netflix",
          "Netflix",
          "Netflix",
          "Netflix",
          "Netflix",
          "Netflix",
          "Netflix",
          "Netflix",
          "Netflix",
          "Netflix",
          "Netflix",
          "Netflix",
          "Netflix",
          "Netflix",
          "Netflix",
          "Netflix",
          "Netflix",
          "Netflix",
          "Netflix",
          "Netflix",
          "Netflix",
          "Netflix",
          "Netflix",
          "Netflix",
          "Netflix",
          "Netflix",
          "Netflix",
          "Netflix",
          "Netflix",
          "Netflix",
          "Netflix",
          "Netflix",
          "Netflix",
          "Netflix",
          "Netflix",
          "Netflix",
          "Netflix",
          "Netflix",
          "Netflix",
          "Netflix",
          "Netflix",
          "Netflix",
          "Netflix",
          "Netflix",
          "Netflix",
          "Netflix",
          "Netflix",
          "Netflix",
          "Netflix",
          "Netflix",
          "Netflix",
          "Netflix",
          "Netflix",
          "Netflix",
          "Netflix",
          "Netflix",
          "Netflix",
          "Netflix",
          "Netflix",
          "Netflix",
          "Netflix",
          "Netflix",
          "Netflix",
          "Netflix",
          "Netflix",
          "Netflix",
          "Netflix",
          "Netflix",
          "Netflix",
          "Netflix",
          "Netflix",
          "Netflix",
          "Netflix",
          "Netflix",
          "Netflix",
          "Netflix",
          "Netflix",
          "Netflix",
          "Netflix",
          "Netflix",
          "Netflix",
          "Netflix",
          "Netflix",
          "Netflix",
          "Netflix",
          "Netflix",
          "Netflix",
          "Netflix",
          "Netflix",
          "Netflix",
          "Netflix",
          "Netflix",
          "Netflix",
          "Netflix",
          "Netflix",
          "Netflix",
          "Netflix",
          "Netflix",
          "Netflix",
          "Netflix",
          "Netflix",
          "Netflix",
          "Netflix",
          "Netflix",
          "Netflix",
          "Netflix",
          "Netflix",
          "Netflix",
          "Netflix",
          "Netflix",
          "Netflix",
          "Netflix",
          "Netflix",
          "Netflix",
          "Netflix",
          "Netflix",
          "Netflix",
          "Netflix",
          "Netflix",
          "Netflix",
          "Netflix",
          "Netflix",
          "Netflix",
          "Netflix",
          "Netflix",
          "Netflix",
          "Netflix",
          "Netflix",
          "Netflix",
          "Netflix",
          "Netflix",
          "Netflix",
          "Netflix",
          "Netflix",
          "Netflix",
          "Netflix",
          "Netflix",
          "Netflix",
          "Netflix",
          "Netflix",
          "Netflix",
          "Netflix",
          "Netflix",
          "Netflix",
          "Netflix",
          "Netflix",
          "Netflix",
          "Netflix",
          "Netflix",
          "Netflix",
          "Netflix",
          "Netflix",
          "Netflix",
          "Netflix",
          "Netflix",
          "Netflix",
          "Netflix",
          "Netflix",
          "Netflix",
          "Netflix",
          "Netflix",
          "Netflix",
          "Netflix",
          "Netflix",
          "Netflix",
          "Netflix",
          "Netflix",
          "Netflix",
          "Netflix",
          "Netflix",
          "Netflix",
          "Netflix",
          "Netflix",
          "Netflix",
          "Netflix",
          "Netflix",
          "Netflix",
          "Netflix",
          "Netflix",
          "Netflix",
          "Netflix",
          "Netflix",
          "Netflix",
          "Netflix",
          "Netflix",
          "Netflix",
          "Netflix",
          "Netflix",
          "Netflix",
          "Netflix",
          "Netflix",
          "Netflix",
          "Netflix",
          "Netflix",
          "Netflix",
          "Netflix",
          "Netflix",
          "Netflix",
          "Netflix",
          "Netflix",
          "Netflix",
          "Netflix",
          "Netflix",
          "Netflix",
          "Netflix",
          "Netflix",
          "Netflix",
          "Netflix",
          "Netflix",
          "Netflix",
          "Netflix",
          "Netflix",
          "Netflix",
          "Netflix",
          "Netflix",
          "Netflix",
          "Netflix",
          "Netflix",
          "Netflix",
          "Netflix",
          "Netflix",
          "Netflix",
          "Netflix",
          "Netflix",
          "Netflix",
          "Netflix",
          "Netflix",
          "Netflix",
          "Netflix",
          "Netflix",
          "Netflix",
          "Netflix",
          "Netflix",
          "Netflix",
          "Netflix",
          "Netflix",
          "Netflix",
          "Netflix",
          "Netflix",
          "Netflix",
          "Netflix",
          "Netflix",
          "Netflix",
          "Netflix",
          "Netflix",
          "Netflix",
          "Netflix",
          "Netflix",
          "Netflix",
          "Netflix",
          "Netflix",
          "Netflix",
          "Netflix",
          "Netflix",
          "Netflix",
          "Netflix",
          "Netflix",
          "Netflix",
          "Netflix",
          "Netflix",
          "Netflix",
          "Netflix",
          "Netflix",
          "Netflix",
          "Netflix",
          "Netflix",
          "Netflix",
          "Netflix",
          "Netflix",
          "Netflix",
          "Netflix",
          "Netflix",
          "Netflix",
          "Netflix",
          "Netflix",
          "Netflix",
          "Netflix",
          "Netflix",
          "Netflix",
          "Netflix",
          "Netflix",
          "Netflix",
          "Netflix",
          "Netflix",
          "Netflix",
          "Netflix",
          "Netflix",
          "Netflix",
          "Netflix",
          "Netflix",
          "Netflix",
          "Netflix",
          "Netflix",
          "Netflix",
          "Netflix",
          "Netflix",
          "Netflix",
          "Netflix",
          "Netflix",
          "Netflix",
          "Netflix",
          "Netflix",
          "Netflix",
          "Netflix",
          "Netflix",
          "Netflix",
          "Netflix",
          "Netflix",
          "Netflix",
          "Netflix",
          "Netflix",
          "Netflix",
          "Netflix",
          "Netflix",
          "Netflix",
          "Netflix",
          "Netflix",
          "Netflix",
          "Netflix",
          "Netflix",
          "Netflix",
          "Netflix",
          "Netflix",
          "Netflix",
          "Netflix",
          "Netflix",
          "Netflix",
          "Netflix",
          "Netflix",
          "Netflix",
          "Netflix",
          "Netflix",
          "Netflix",
          "Netflix",
          "Netflix",
          "Netflix",
          "Netflix",
          "Netflix",
          "Netflix",
          "Netflix",
          "Netflix",
          "Netflix",
          "Netflix",
          "Netflix",
          "Netflix",
          "Netflix",
          "Netflix",
          "Netflix",
          "Netflix",
          "Netflix",
          "Netflix",
          "Netflix",
          "Netflix",
          "Netflix",
          "Netflix",
          "Netflix",
          "Netflix",
          "Netflix",
          "Netflix",
          "Netflix",
          "Netflix",
          "Netflix",
          "Netflix",
          "Netflix",
          "Netflix",
          "Netflix",
          "Netflix",
          "Netflix",
          "Netflix",
          "Netflix",
          "Netflix",
          "Netflix",
          "Netflix",
          "Netflix",
          "Netflix",
          "Netflix",
          "Netflix",
          "Netflix",
          "Netflix",
          "Netflix",
          "Netflix",
          "Netflix",
          "Netflix",
          "Netflix",
          "Netflix",
          "Netflix",
          "Netflix",
          "Netflix",
          "Netflix",
          "Netflix",
          "Netflix",
          "Netflix",
          "Netflix",
          "Netflix",
          "Netflix",
          "Netflix",
          "Netflix",
          "Netflix",
          "Netflix",
          "Netflix",
          "Netflix",
          "Netflix",
          "Netflix",
          "Netflix",
          "Netflix",
          "Netflix",
          "Netflix",
          "Netflix",
          "Netflix",
          "Netflix",
          "Netflix",
          "Netflix",
          "Netflix",
          "Netflix",
          "Netflix",
          "Netflix",
          "Netflix",
          "Netflix",
          "Netflix",
          "Netflix",
          "Netflix",
          "Netflix",
          "Netflix",
          "Netflix",
          "Netflix",
          "Netflix",
          "Netflix",
          "Netflix",
          "Netflix",
          "Netflix",
          "Netflix",
          "Netflix",
          "Netflix",
          "Netflix",
          "Netflix",
          "Netflix",
          "Netflix",
          "Netflix",
          "Netflix",
          "Netflix",
          "Netflix",
          "Netflix",
          "Netflix",
          "Netflix",
          "Netflix",
          "Netflix",
          "Netflix",
          "Netflix",
          "Netflix",
          "Netflix",
          "Netflix",
          "Netflix",
          "Netflix",
          "Netflix",
          "Netflix",
          "Netflix",
          "Netflix",
          "Netflix",
          "Netflix",
          "Netflix",
          "Netflix",
          "Netflix",
          "Netflix",
          "Netflix",
          "Netflix",
          "Netflix",
          "Netflix",
          "Netflix",
          "Netflix",
          "Netflix",
          "Netflix",
          "Netflix",
          "Netflix",
          "Netflix",
          "Netflix",
          "Netflix",
          "Netflix",
          "Netflix",
          "Netflix",
          "Netflix",
          "Netflix",
          "Netflix",
          "Netflix",
          "Netflix",
          "Netflix",
          "Netflix",
          "Netflix",
          "Netflix",
          "Netflix",
          "Netflix",
          "Netflix",
          "Netflix",
          "Netflix",
          "Netflix",
          "Netflix",
          "Netflix",
          "Netflix",
          "Netflix",
          "Netflix",
          "Netflix",
          "Netflix",
          "Netflix",
          "Netflix",
          "Netflix",
          "Netflix",
          "Netflix",
          "Netflix",
          "Netflix",
          "Netflix",
          "Netflix",
          "Netflix",
          "Netflix",
          "Netflix",
          "Netflix",
          "Netflix",
          "Netflix",
          "Netflix",
          "Netflix",
          "Netflix",
          "Netflix",
          "Netflix",
          "Netflix",
          "Netflix",
          "Netflix",
          "Netflix",
          "Netflix",
          "Netflix",
          "Netflix",
          "Netflix",
          "Netflix",
          "Netflix",
          "Netflix",
          "Netflix",
          "Netflix",
          "Netflix",
          "Netflix",
          "Netflix",
          "Netflix",
          "Netflix",
          "Netflix",
          "Netflix",
          "Netflix",
          "Netflix",
          "Netflix",
          "Netflix",
          "Netflix",
          "Netflix",
          "Netflix",
          "Netflix",
          "Netflix",
          "Netflix",
          "Netflix",
          "Netflix",
          "Netflix",
          "Netflix",
          "Netflix",
          "Netflix",
          "Netflix",
          "Netflix",
          "Netflix",
          "Netflix",
          "Netflix",
          "Netflix",
          "Netflix",
          "Netflix",
          "Netflix",
          "Netflix",
          "Netflix",
          "Netflix",
          "Netflix",
          "Netflix",
          "Netflix",
          "Netflix",
          "Netflix",
          "Netflix",
          "Netflix",
          "Netflix",
          "Netflix",
          "Netflix",
          "Netflix",
          "Netflix",
          "Netflix",
          "Netflix",
          "Netflix",
          "Netflix",
          "Netflix",
          "Netflix",
          "Netflix",
          "Netflix",
          "Netflix",
          "Netflix",
          "Netflix",
          "Netflix",
          "Netflix",
          "Netflix",
          "Netflix",
          "Netflix",
          "Netflix",
          "Netflix",
          "Netflix",
          "Netflix",
          "Netflix",
          "Netflix",
          "Netflix",
          "Netflix",
          "Netflix",
          "Netflix",
          "Netflix",
          "Netflix",
          "Netflix",
          "Netflix",
          "Netflix",
          "Netflix",
          "Netflix",
          "Netflix",
          "Netflix",
          "Netflix",
          "Netflix",
          "Netflix",
          "Netflix",
          "Netflix",
          "Netflix",
          "Netflix",
          "Netflix",
          "Netflix",
          "Netflix",
          "Netflix",
          "Netflix",
          "Netflix",
          "Netflix",
          "Netflix",
          "Netflix",
          "Netflix",
          "Netflix",
          "Netflix",
          "Netflix",
          "Netflix",
          "Netflix",
          "Netflix",
          "Netflix",
          "Netflix",
          "Netflix",
          "Netflix",
          "Netflix",
          "Netflix",
          "Netflix",
          "Netflix",
          "Netflix",
          "Netflix",
          "Netflix",
          "Netflix",
          "Netflix",
          "Netflix",
          "Netflix",
          "Netflix",
          "Netflix",
          "Netflix",
          "Netflix",
          "Netflix",
          "Netflix",
          "Netflix",
          "Netflix",
          "Netflix",
          "Netflix",
          "Netflix",
          "Netflix",
          "Netflix",
          "Netflix",
          "Netflix",
          "Netflix",
          "Netflix",
          "Netflix",
          "Netflix",
          "Netflix",
          "Netflix",
          "Netflix",
          "Netflix",
          "Netflix",
          "Netflix",
          "Netflix",
          "Netflix",
          "Netflix",
          "Netflix",
          "Netflix",
          "Netflix",
          "Netflix",
          "Netflix",
          "Netflix",
          "Netflix",
          "Netflix",
          "Netflix",
          "Netflix",
          "Netflix",
          "Netflix",
          "Netflix",
          "Netflix",
          "Netflix",
          "Netflix",
          "Netflix",
          "Netflix",
          "Netflix",
          "Netflix",
          "Netflix",
          "Netflix",
          "Netflix",
          "Netflix",
          "Netflix",
          "Netflix",
          "Netflix",
          "Netflix",
          "Netflix",
          "Netflix",
          "Netflix",
          "Netflix",
          "Netflix",
          "Netflix",
          "Netflix",
          "Netflix",
          "Netflix",
          "Netflix",
          "Netflix",
          "Netflix",
          "Netflix",
          "Netflix",
          "Netflix",
          "Netflix",
          "Netflix",
          "Netflix"
         ],
         "y0": " ",
         "yaxis": "y"
        },
        {
         "alignmentgroup": "True",
         "boxpoints": "outliers",
         "hovertemplate": "Plataforma=%{y}<br>Duracion=%{x}<extra></extra>",
         "legendgroup": "HBO",
         "marker": {
          "color": "#460076"
         },
         "name": "HBO",
         "notched": false,
         "offsetgroup": "HBO",
         "orientation": "h",
         "quartilemethod": "exclusive",
         "showlegend": true,
         "type": "box",
         "x": [
          8,
          23,
          29,
          51,
          30,
          49,
          34,
          11,
          16,
          26,
          25,
          24,
          24,
          20,
          33,
          23,
          23,
          57,
          25,
          22,
          55,
          45,
          28,
          52,
          21,
          22,
          33,
          44,
          49,
          44,
          30,
          12,
          17,
          30,
          46,
          22,
          29,
          58,
          25,
          28,
          25,
          18,
          25,
          16,
          12,
          23,
          23,
          27,
          46,
          53,
          12,
          17,
          21,
          11,
          12,
          21,
          45,
          22,
          23,
          22,
          26,
          26,
          18,
          28,
          60,
          50,
          23,
          22,
          26,
          11,
          22,
          27,
          48,
          20,
          59,
          48,
          44,
          59,
          32,
          58,
          29,
          43,
          20,
          53,
          57,
          13,
          60,
          54,
          22,
          45,
          46,
          28,
          24,
          27,
          43,
          90,
          48,
          21,
          42,
          56,
          70,
          54,
          43,
          21,
          11,
          22,
          44,
          28,
          54,
          23,
          46,
          47,
          23,
          49,
          23,
          22,
          12,
          25,
          23,
          28,
          51,
          67,
          56,
          21,
          60,
          14,
          78,
          54,
          50,
          45,
          45,
          23,
          12,
          11,
          56,
          32,
          27,
          62,
          12,
          23,
          24,
          46,
          52,
          45,
          22,
          18,
          22,
          21,
          26,
          29,
          31,
          20,
          24,
          45,
          78,
          10,
          65,
          43,
          12,
          12,
          58,
          11,
          17,
          44,
          17,
          11,
          23,
          37,
          12,
          28,
          48,
          49,
          27,
          20,
          29,
          23,
          11,
          19,
          71,
          20,
          86,
          26,
          11,
          61,
          29,
          56,
          60,
          47,
          25,
          72,
          55,
          50,
          58,
          31,
          27,
          58,
          44,
          29,
          24,
          57,
          21,
          42,
          22,
          23,
          46,
          29,
          22,
          10,
          24,
          43,
          47,
          59,
          23,
          22,
          27,
          24,
          67,
          12,
          10,
          24,
          103,
          45,
          20,
          22,
          13,
          59,
          53,
          12,
          13,
          49,
          46,
          22,
          5,
          51,
          34,
          31,
          20,
          54,
          22,
          21,
          30,
          27,
          15,
          22,
          43,
          60,
          25,
          51,
          29,
          58,
          31,
          11,
          11,
          54,
          47,
          12,
          11,
          22,
          21,
          25,
          60,
          29,
          61,
          79,
          13,
          28,
          11,
          22,
          21,
          22,
          14,
          28,
          22,
          15,
          53,
          53,
          20,
          38,
          24,
          53,
          24,
          42,
          28,
          7,
          55,
          24,
          22,
          54,
          11,
          39,
          44,
          35,
          51,
          49,
          63,
          54,
          25,
          65,
          24,
          24,
          25,
          45,
          23,
          21,
          31,
          22,
          24,
          32,
          27,
          60,
          22,
          29,
          23,
          13,
          59,
          24,
          43,
          24,
          59,
          23,
          22,
          25,
          43,
          27,
          23,
          25,
          31,
          53,
          12,
          26,
          42,
          27,
          14,
          42,
          46,
          23,
          22,
          29,
          29,
          57,
          54,
          24,
          23,
          38,
          60,
          58,
          52,
          14,
          54,
          9,
          50,
          22,
          53,
          11,
          49,
          56,
          27,
          23,
          11,
          11,
          15,
          51,
          52,
          23,
          36,
          51,
          11,
          58,
          23,
          32,
          19,
          63,
          58,
          50,
          22,
          60,
          46,
          55,
          24,
          47,
          65,
          12,
          26,
          21,
          20,
          11,
          24,
          59,
          25,
          30,
          11,
          3,
          124,
          103,
          4,
          59,
          11,
          53,
          30,
          13,
          41,
          50,
          30,
          31,
          11,
          51,
          50,
          34,
          22,
          42,
          60,
          28,
          32,
          11,
          24,
          24,
          27,
          55,
          48,
          29,
          60,
          3,
          48,
          53,
          17,
          11,
          11,
          58,
          51,
          24,
          15,
          52,
          60,
          44,
          51,
          11,
          11,
          48,
          11,
          27,
          29,
          24,
          53,
          12,
          28,
          76,
          23,
          24,
          45,
          59,
          29,
          47,
          58,
          49,
          65,
          38,
          24,
          20,
          59,
          58,
          58,
          52,
          68,
          51,
          24,
          56,
          55,
          12,
          47,
          21,
          42,
          40,
          61,
          23,
          24,
          27,
          18,
          63,
          21,
          61,
          11,
          29,
          29,
          61,
          27,
          54,
          25,
          21,
          27,
          42,
          43,
          59,
          24,
          24,
          11,
          57,
          23,
          9,
          62,
          31,
          56,
          45,
          58,
          47,
          61,
          34,
          66,
          10,
          65,
          43,
          90,
          23,
          58,
          61,
          50,
          48,
          53,
          58,
          28,
          57,
          48,
          36,
          13,
          23,
          23,
          45,
          43,
          41,
          52,
          59,
          42,
          35,
          34,
          24,
          57,
          25,
          59,
          51,
          89,
          28,
          52,
          68,
          26,
          30,
          45,
          26,
          23,
          57,
          44,
          49,
          57,
          45,
          60,
          30,
          49,
          43,
          53,
          31,
          119,
          22,
          52,
          27,
          12,
          78,
          53,
          21,
          44,
          28,
          60,
          46,
          55,
          44,
          48,
          11,
          34,
          11,
          29,
          45,
          33,
          21,
          29,
          47,
          11,
          11,
          23,
          11,
          48,
          40,
          10,
          11,
          42,
          14,
          37,
          7,
          31,
          28,
          29,
          15,
          12,
          59,
          21,
          39,
          11,
          44,
          36,
          7,
          49,
          49,
          9,
          11,
          55,
          28,
          37,
          58,
          60,
          29,
          46,
          64,
          57,
          29,
          29,
          30,
          54,
          28,
          51,
          56,
          43,
          58,
          46,
          59,
          45,
          60,
          26,
          22,
          23,
          42,
          59,
          30,
          49,
          41,
          48,
          48,
          33,
          59,
          59,
          41,
          43,
          39,
          116,
          56,
          78,
          21,
          54,
          24,
          63,
          44,
          57,
          25,
          59,
          23,
          45,
          57,
          26,
          31,
          23,
          22,
          59,
          58,
          56,
          43,
          40,
          23,
          23,
          64,
          50,
          54,
          46,
          46,
          47,
          22,
          21,
          29,
          39,
          33,
          15,
          26,
          26,
          46,
          59,
          25,
          24,
          48,
          11,
          48,
          56,
          25,
          11,
          23,
          45,
          27,
          10,
          22,
          13,
          48,
          21,
          39,
          43,
          98,
          38,
          57,
          22,
          27,
          26,
          53,
          59,
          20,
          52,
          44,
          23,
          26,
          54,
          26,
          34,
          50,
          110,
          43,
          45,
          11,
          28,
          22,
          53,
          12,
          38,
          33,
          39,
          44,
          25,
          46,
          44,
          43,
          26,
          36,
          46,
          17,
          33,
          34,
          42,
          24,
          11,
          51,
          67,
          31,
          30,
          25,
          52,
          24
         ],
         "x0": " ",
         "xaxis": "x",
         "y": [
          "HBO",
          "HBO",
          "HBO",
          "HBO",
          "HBO",
          "HBO",
          "HBO",
          "HBO",
          "HBO",
          "HBO",
          "HBO",
          "HBO",
          "HBO",
          "HBO",
          "HBO",
          "HBO",
          "HBO",
          "HBO",
          "HBO",
          "HBO",
          "HBO",
          "HBO",
          "HBO",
          "HBO",
          "HBO",
          "HBO",
          "HBO",
          "HBO",
          "HBO",
          "HBO",
          "HBO",
          "HBO",
          "HBO",
          "HBO",
          "HBO",
          "HBO",
          "HBO",
          "HBO",
          "HBO",
          "HBO",
          "HBO",
          "HBO",
          "HBO",
          "HBO",
          "HBO",
          "HBO",
          "HBO",
          "HBO",
          "HBO",
          "HBO",
          "HBO",
          "HBO",
          "HBO",
          "HBO",
          "HBO",
          "HBO",
          "HBO",
          "HBO",
          "HBO",
          "HBO",
          "HBO",
          "HBO",
          "HBO",
          "HBO",
          "HBO",
          "HBO",
          "HBO",
          "HBO",
          "HBO",
          "HBO",
          "HBO",
          "HBO",
          "HBO",
          "HBO",
          "HBO",
          "HBO",
          "HBO",
          "HBO",
          "HBO",
          "HBO",
          "HBO",
          "HBO",
          "HBO",
          "HBO",
          "HBO",
          "HBO",
          "HBO",
          "HBO",
          "HBO",
          "HBO",
          "HBO",
          "HBO",
          "HBO",
          "HBO",
          "HBO",
          "HBO",
          "HBO",
          "HBO",
          "HBO",
          "HBO",
          "HBO",
          "HBO",
          "HBO",
          "HBO",
          "HBO",
          "HBO",
          "HBO",
          "HBO",
          "HBO",
          "HBO",
          "HBO",
          "HBO",
          "HBO",
          "HBO",
          "HBO",
          "HBO",
          "HBO",
          "HBO",
          "HBO",
          "HBO",
          "HBO",
          "HBO",
          "HBO",
          "HBO",
          "HBO",
          "HBO",
          "HBO",
          "HBO",
          "HBO",
          "HBO",
          "HBO",
          "HBO",
          "HBO",
          "HBO",
          "HBO",
          "HBO",
          "HBO",
          "HBO",
          "HBO",
          "HBO",
          "HBO",
          "HBO",
          "HBO",
          "HBO",
          "HBO",
          "HBO",
          "HBO",
          "HBO",
          "HBO",
          "HBO",
          "HBO",
          "HBO",
          "HBO",
          "HBO",
          "HBO",
          "HBO",
          "HBO",
          "HBO",
          "HBO",
          "HBO",
          "HBO",
          "HBO",
          "HBO",
          "HBO",
          "HBO",
          "HBO",
          "HBO",
          "HBO",
          "HBO",
          "HBO",
          "HBO",
          "HBO",
          "HBO",
          "HBO",
          "HBO",
          "HBO",
          "HBO",
          "HBO",
          "HBO",
          "HBO",
          "HBO",
          "HBO",
          "HBO",
          "HBO",
          "HBO",
          "HBO",
          "HBO",
          "HBO",
          "HBO",
          "HBO",
          "HBO",
          "HBO",
          "HBO",
          "HBO",
          "HBO",
          "HBO",
          "HBO",
          "HBO",
          "HBO",
          "HBO",
          "HBO",
          "HBO",
          "HBO",
          "HBO",
          "HBO",
          "HBO",
          "HBO",
          "HBO",
          "HBO",
          "HBO",
          "HBO",
          "HBO",
          "HBO",
          "HBO",
          "HBO",
          "HBO",
          "HBO",
          "HBO",
          "HBO",
          "HBO",
          "HBO",
          "HBO",
          "HBO",
          "HBO",
          "HBO",
          "HBO",
          "HBO",
          "HBO",
          "HBO",
          "HBO",
          "HBO",
          "HBO",
          "HBO",
          "HBO",
          "HBO",
          "HBO",
          "HBO",
          "HBO",
          "HBO",
          "HBO",
          "HBO",
          "HBO",
          "HBO",
          "HBO",
          "HBO",
          "HBO",
          "HBO",
          "HBO",
          "HBO",
          "HBO",
          "HBO",
          "HBO",
          "HBO",
          "HBO",
          "HBO",
          "HBO",
          "HBO",
          "HBO",
          "HBO",
          "HBO",
          "HBO",
          "HBO",
          "HBO",
          "HBO",
          "HBO",
          "HBO",
          "HBO",
          "HBO",
          "HBO",
          "HBO",
          "HBO",
          "HBO",
          "HBO",
          "HBO",
          "HBO",
          "HBO",
          "HBO",
          "HBO",
          "HBO",
          "HBO",
          "HBO",
          "HBO",
          "HBO",
          "HBO",
          "HBO",
          "HBO",
          "HBO",
          "HBO",
          "HBO",
          "HBO",
          "HBO",
          "HBO",
          "HBO",
          "HBO",
          "HBO",
          "HBO",
          "HBO",
          "HBO",
          "HBO",
          "HBO",
          "HBO",
          "HBO",
          "HBO",
          "HBO",
          "HBO",
          "HBO",
          "HBO",
          "HBO",
          "HBO",
          "HBO",
          "HBO",
          "HBO",
          "HBO",
          "HBO",
          "HBO",
          "HBO",
          "HBO",
          "HBO",
          "HBO",
          "HBO",
          "HBO",
          "HBO",
          "HBO",
          "HBO",
          "HBO",
          "HBO",
          "HBO",
          "HBO",
          "HBO",
          "HBO",
          "HBO",
          "HBO",
          "HBO",
          "HBO",
          "HBO",
          "HBO",
          "HBO",
          "HBO",
          "HBO",
          "HBO",
          "HBO",
          "HBO",
          "HBO",
          "HBO",
          "HBO",
          "HBO",
          "HBO",
          "HBO",
          "HBO",
          "HBO",
          "HBO",
          "HBO",
          "HBO",
          "HBO",
          "HBO",
          "HBO",
          "HBO",
          "HBO",
          "HBO",
          "HBO",
          "HBO",
          "HBO",
          "HBO",
          "HBO",
          "HBO",
          "HBO",
          "HBO",
          "HBO",
          "HBO",
          "HBO",
          "HBO",
          "HBO",
          "HBO",
          "HBO",
          "HBO",
          "HBO",
          "HBO",
          "HBO",
          "HBO",
          "HBO",
          "HBO",
          "HBO",
          "HBO",
          "HBO",
          "HBO",
          "HBO",
          "HBO",
          "HBO",
          "HBO",
          "HBO",
          "HBO",
          "HBO",
          "HBO",
          "HBO",
          "HBO",
          "HBO",
          "HBO",
          "HBO",
          "HBO",
          "HBO",
          "HBO",
          "HBO",
          "HBO",
          "HBO",
          "HBO",
          "HBO",
          "HBO",
          "HBO",
          "HBO",
          "HBO",
          "HBO",
          "HBO",
          "HBO",
          "HBO",
          "HBO",
          "HBO",
          "HBO",
          "HBO",
          "HBO",
          "HBO",
          "HBO",
          "HBO",
          "HBO",
          "HBO",
          "HBO",
          "HBO",
          "HBO",
          "HBO",
          "HBO",
          "HBO",
          "HBO",
          "HBO",
          "HBO",
          "HBO",
          "HBO",
          "HBO",
          "HBO",
          "HBO",
          "HBO",
          "HBO",
          "HBO",
          "HBO",
          "HBO",
          "HBO",
          "HBO",
          "HBO",
          "HBO",
          "HBO",
          "HBO",
          "HBO",
          "HBO",
          "HBO",
          "HBO",
          "HBO",
          "HBO",
          "HBO",
          "HBO",
          "HBO",
          "HBO",
          "HBO",
          "HBO",
          "HBO",
          "HBO",
          "HBO",
          "HBO",
          "HBO",
          "HBO",
          "HBO",
          "HBO",
          "HBO",
          "HBO",
          "HBO",
          "HBO",
          "HBO",
          "HBO",
          "HBO",
          "HBO",
          "HBO",
          "HBO",
          "HBO",
          "HBO",
          "HBO",
          "HBO",
          "HBO",
          "HBO",
          "HBO",
          "HBO",
          "HBO",
          "HBO",
          "HBO",
          "HBO",
          "HBO",
          "HBO",
          "HBO",
          "HBO",
          "HBO",
          "HBO",
          "HBO",
          "HBO",
          "HBO",
          "HBO",
          "HBO",
          "HBO",
          "HBO",
          "HBO",
          "HBO",
          "HBO",
          "HBO",
          "HBO",
          "HBO",
          "HBO",
          "HBO",
          "HBO",
          "HBO",
          "HBO",
          "HBO",
          "HBO",
          "HBO",
          "HBO",
          "HBO",
          "HBO",
          "HBO",
          "HBO",
          "HBO",
          "HBO",
          "HBO",
          "HBO",
          "HBO",
          "HBO",
          "HBO",
          "HBO",
          "HBO",
          "HBO",
          "HBO",
          "HBO",
          "HBO",
          "HBO",
          "HBO",
          "HBO",
          "HBO",
          "HBO",
          "HBO",
          "HBO",
          "HBO",
          "HBO",
          "HBO",
          "HBO",
          "HBO",
          "HBO",
          "HBO",
          "HBO",
          "HBO",
          "HBO",
          "HBO",
          "HBO",
          "HBO",
          "HBO",
          "HBO",
          "HBO",
          "HBO",
          "HBO",
          "HBO",
          "HBO",
          "HBO",
          "HBO",
          "HBO",
          "HBO",
          "HBO",
          "HBO",
          "HBO",
          "HBO",
          "HBO",
          "HBO",
          "HBO",
          "HBO",
          "HBO",
          "HBO",
          "HBO",
          "HBO",
          "HBO",
          "HBO",
          "HBO",
          "HBO",
          "HBO",
          "HBO",
          "HBO",
          "HBO",
          "HBO",
          "HBO",
          "HBO",
          "HBO",
          "HBO",
          "HBO",
          "HBO",
          "HBO",
          "HBO",
          "HBO",
          "HBO",
          "HBO",
          "HBO",
          "HBO",
          "HBO",
          "HBO",
          "HBO",
          "HBO",
          "HBO",
          "HBO",
          "HBO",
          "HBO",
          "HBO",
          "HBO",
          "HBO",
          "HBO",
          "HBO",
          "HBO",
          "HBO",
          "HBO",
          "HBO",
          "HBO",
          "HBO",
          "HBO",
          "HBO",
          "HBO",
          "HBO",
          "HBO",
          "HBO",
          "HBO",
          "HBO",
          "HBO",
          "HBO",
          "HBO",
          "HBO",
          "HBO",
          "HBO",
          "HBO",
          "HBO",
          "HBO",
          "HBO",
          "HBO",
          "HBO",
          "HBO",
          "HBO",
          "HBO",
          "HBO",
          "HBO",
          "HBO",
          "HBO",
          "HBO",
          "HBO",
          "HBO",
          "HBO",
          "HBO",
          "HBO",
          "HBO",
          "HBO",
          "HBO",
          "HBO",
          "HBO",
          "HBO",
          "HBO",
          "HBO",
          "HBO",
          "HBO",
          "HBO",
          "HBO",
          "HBO",
          "HBO",
          "HBO",
          "HBO",
          "HBO",
          "HBO",
          "HBO",
          "HBO",
          "HBO",
          "HBO",
          "HBO",
          "HBO",
          "HBO",
          "HBO",
          "HBO",
          "HBO",
          "HBO",
          "HBO",
          "HBO",
          "HBO",
          "HBO",
          "HBO",
          "HBO",
          "HBO",
          "HBO",
          "HBO",
          "HBO",
          "HBO",
          "HBO",
          "HBO",
          "HBO",
          "HBO",
          "HBO",
          "HBO",
          "HBO",
          "HBO",
          "HBO",
          "HBO",
          "HBO",
          "HBO",
          "HBO",
          "HBO",
          "HBO",
          "HBO",
          "HBO",
          "HBO",
          "HBO",
          "HBO",
          "HBO",
          "HBO",
          "HBO",
          "HBO",
          "HBO",
          "HBO",
          "HBO",
          "HBO",
          "HBO",
          "HBO",
          "HBO",
          "HBO",
          "HBO",
          "HBO",
          "HBO",
          "HBO",
          "HBO",
          "HBO",
          "HBO",
          "HBO",
          "HBO",
          "HBO",
          "HBO",
          "HBO",
          "HBO",
          "HBO",
          "HBO",
          "HBO",
          "HBO",
          "HBO",
          "HBO",
          "HBO",
          "HBO",
          "HBO",
          "HBO",
          "HBO",
          "HBO",
          "HBO",
          "HBO",
          "HBO",
          "HBO",
          "HBO",
          "HBO"
         ],
         "y0": " ",
         "yaxis": "y"
        },
        {
         "alignmentgroup": "True",
         "boxpoints": "outliers",
         "hovertemplate": "Plataforma=%{y}<br>Duracion=%{x}<extra></extra>",
         "legendgroup": "Hulu",
         "marker": {
          "color": "#FF6692"
         },
         "name": "Hulu",
         "notched": false,
         "offsetgroup": "Hulu",
         "orientation": "h",
         "quartilemethod": "exclusive",
         "showlegend": true,
         "type": "box",
         "x": [
          89,
          26,
          30,
          25,
          28,
          25,
          27,
          50,
          27,
          43,
          30,
          54,
          27,
          30,
          30,
          24,
          32,
          23,
          25,
          21,
          47,
          22,
          30,
          23,
          49,
          53,
          46,
          25,
          25,
          23,
          52,
          23,
          49,
          24,
          22,
          23,
          60,
          24,
          45,
          48,
          23,
          52,
          22,
          23,
          25,
          23,
          52,
          46,
          23,
          44,
          25,
          40,
          22,
          49,
          47,
          44,
          20,
          23,
          31,
          25,
          23,
          30,
          48,
          23,
          22,
          45,
          22,
          44,
          25,
          26,
          25,
          44,
          46,
          20,
          22,
          21,
          42,
          24,
          18,
          25,
          47,
          22,
          44,
          47,
          21,
          28,
          45,
          25,
          23,
          24,
          24,
          24,
          24,
          24,
          21,
          22,
          69,
          22,
          45,
          23,
          21,
          50,
          22,
          36,
          20,
          52,
          43,
          22,
          19,
          22,
          23,
          21,
          44,
          43,
          51,
          24,
          47,
          47,
          24,
          49,
          55,
          44,
          23,
          28,
          44,
          48,
          32,
          46,
          42,
          22,
          45,
          44,
          28,
          25,
          29,
          43,
          43,
          44,
          45,
          59,
          23,
          47,
          56,
          44,
          57,
          13,
          43,
          44,
          43,
          22,
          23,
          50,
          39,
          29,
          44,
          22,
          23,
          21,
          24,
          48,
          23,
          43,
          48,
          58,
          25,
          47,
          23,
          44,
          44,
          46,
          44,
          46,
          44,
          47,
          44,
          43,
          24,
          48,
          23,
          48,
          44,
          24,
          45,
          45,
          12,
          23,
          22,
          44,
          29,
          23,
          51,
          59,
          25,
          44,
          21,
          25,
          60,
          44,
          47,
          48,
          45,
          58,
          48,
          78,
          44,
          44,
          27,
          24,
          50,
          26,
          47,
          43,
          53,
          44,
          21,
          42,
          45,
          24,
          45,
          24,
          28,
          22,
          24,
          24,
          43,
          24,
          40,
          52,
          44,
          46,
          23,
          44,
          44,
          49,
          71,
          28,
          25,
          45,
          51,
          42,
          79,
          25,
          20,
          46,
          12,
          44,
          31,
          50,
          44,
          22,
          43,
          25,
          25,
          27,
          43,
          43,
          24,
          25,
          45,
          24,
          24,
          44,
          45,
          14,
          47,
          78,
          37,
          22,
          42,
          64,
          44,
          24,
          43,
          23,
          24,
          44,
          44,
          48,
          44,
          54,
          24,
          22,
          23,
          48,
          24,
          22,
          43,
          49,
          22,
          22,
          45,
          45,
          24,
          23,
          51,
          54,
          24,
          17,
          50,
          24,
          22,
          45,
          17,
          45,
          12,
          46,
          23,
          24,
          20,
          43,
          24,
          23,
          22,
          44,
          23,
          24,
          24,
          35,
          22,
          24,
          27,
          23,
          46,
          27,
          24,
          55,
          25,
          44,
          58,
          24,
          23,
          25,
          25,
          22,
          49,
          24,
          24,
          24,
          23,
          42,
          24,
          24,
          25,
          23,
          24,
          23,
          48,
          23,
          25,
          25,
          5,
          23,
          25,
          25,
          54,
          24,
          23,
          24,
          25,
          44,
          24,
          22,
          24,
          45,
          23,
          24,
          23,
          24,
          26,
          24,
          23,
          44,
          27,
          43,
          22,
          24,
          39,
          25,
          24,
          44,
          24,
          11,
          27,
          42,
          23,
          42,
          24,
          25,
          43,
          24,
          24,
          24,
          44,
          25,
          22,
          44,
          24,
          41,
          21,
          60,
          22,
          45,
          52,
          41,
          46,
          42,
          22,
          21,
          43,
          42,
          23,
          22,
          23,
          23,
          50,
          43,
          24,
          24,
          43,
          21,
          27,
          12,
          41,
          22,
          23,
          72,
          24,
          43,
          25,
          10,
          24,
          47,
          22,
          49,
          44,
          25,
          22,
          26,
          47,
          43,
          44,
          25,
          25,
          58,
          24,
          44,
          21,
          43,
          23,
          59,
          24,
          45,
          22,
          24,
          22,
          43,
          44,
          22,
          45,
          41,
          24,
          43,
          22,
          23,
          22,
          26,
          59,
          25,
          24,
          25,
          43,
          24,
          30,
          26,
          25,
          43,
          24,
          22,
          22,
          22,
          22,
          23,
          24,
          26,
          23,
          24,
          25,
          43,
          5,
          42,
          44,
          26,
          23,
          32,
          50,
          45,
          24,
          26,
          41,
          42,
          45,
          24,
          22,
          22,
          56,
          54,
          64,
          43,
          25,
          41,
          42,
          11,
          21,
          11,
          45,
          48,
          58,
          22,
          21,
          11,
          21,
          43,
          60,
          43,
          43,
          42,
          25,
          20,
          46,
          24,
          12,
          22,
          44,
          11,
          24,
          22,
          56,
          23,
          22,
          43,
          26,
          25,
          11,
          46,
          42,
          44,
          57,
          47,
          45,
          24,
          13,
          45,
          24,
          42,
          42,
          24,
          43,
          24,
          22,
          79,
          11,
          21,
          43,
          46,
          49,
          42,
          24,
          44,
          44,
          23,
          24,
          21,
          43,
          24,
          21,
          24,
          30,
          22,
          14,
          25,
          44,
          43,
          42,
          24,
          43,
          42,
          15,
          23,
          41,
          43,
          23,
          14,
          22,
          43,
          44,
          24,
          54,
          44,
          24,
          48,
          18,
          25,
          23,
          41,
          44,
          24,
          22,
          11,
          46,
          23,
          24,
          22,
          43,
          50,
          22,
          44,
          24,
          41,
          23,
          25,
          24,
          23,
          43,
          45,
          45,
          24,
          41,
          12,
          45,
          44,
          41,
          23,
          24,
          22,
          7,
          24,
          43,
          41,
          13,
          23,
          23,
          24,
          29,
          22,
          21,
          30,
          35,
          43,
          43,
          23,
          44,
          48,
          23,
          22,
          45,
          28,
          43,
          28,
          46,
          48,
          55,
          23,
          43,
          24,
          41,
          24,
          21,
          44,
          42,
          24,
          22,
          44,
          23,
          53,
          21,
          42,
          24,
          45,
          21,
          42,
          43,
          21,
          43,
          46,
          21,
          21,
          43,
          46,
          24,
          22,
          23,
          48,
          23,
          49,
          23,
          21,
          62,
          22,
          21,
          45,
          55,
          43,
          13,
          21,
          22,
          44,
          22,
          23,
          29,
          44,
          42,
          43,
          43,
          24,
          46,
          21,
          27,
          24,
          44,
          23,
          44,
          45,
          42,
          46,
          50,
          44,
          24,
          73,
          23,
          23,
          42,
          47,
          58,
          59,
          24,
          24,
          71,
          24,
          24,
          25,
          44,
          21,
          5,
          24,
          13,
          23,
          24,
          22,
          23,
          24,
          21,
          60,
          25,
          17,
          42,
          46,
          43,
          18,
          43,
          55,
          54,
          24,
          24,
          22,
          48,
          28,
          44,
          14,
          44,
          19,
          23,
          18,
          21,
          43,
          23,
          42,
          40,
          67,
          46,
          44,
          12,
          15,
          25,
          59,
          24,
          23,
          45,
          25,
          24,
          31,
          23,
          40,
          22,
          43,
          23,
          24,
          19,
          43,
          43,
          22,
          41,
          27,
          43,
          14,
          47,
          23,
          49,
          20,
          8,
          49,
          24,
          24,
          21,
          43,
          23,
          23,
          43,
          43,
          22,
          23,
          44,
          15,
          25,
          25,
          46,
          41,
          13,
          21,
          4,
          45,
          52,
          36,
          44,
          23,
          43,
          42,
          58,
          56,
          52,
          49,
          43,
          45,
          46,
          42,
          42,
          58,
          44,
          43,
          45,
          42,
          41,
          54,
          26,
          44,
          43,
          21,
          58,
          49,
          47,
          42,
          41,
          41,
          22,
          42,
          46,
          49,
          22,
          92,
          28,
          23,
          29,
          47,
          44,
          43,
          46,
          51,
          22,
          50,
          30,
          43,
          44,
          42,
          42,
          20,
          42,
          69,
          25,
          21,
          55,
          23,
          27,
          43,
          24,
          21,
          45,
          28,
          51,
          44,
          55,
          45,
          58,
          50,
          42,
          43,
          24,
          50,
          21,
          57,
          24,
          47,
          47,
          44,
          58,
          56,
          28,
          23,
          21,
          21,
          43,
          20,
          44,
          51,
          25,
          44,
          30,
          44,
          11,
          22,
          40,
          53,
          43,
          11,
          51,
          23,
          41,
          6,
          42,
          21,
          67,
          41,
          22,
          27,
          29,
          22,
          29,
          21,
          24,
          22,
          11,
          22,
          48,
          44,
          45,
          23,
          24,
          43,
          43,
          24,
          42,
          15,
          50,
          21,
          22,
          40,
          47,
          19,
          14,
          43,
          23,
          22,
          44,
          42,
          3,
          22,
          22,
          43,
          31,
          23,
          29,
          45,
          9,
          17,
          45,
          52,
          24,
          25,
          53,
          29,
          51,
          43,
          24,
          24,
          42,
          46,
          53,
          26,
          46,
          44,
          42,
          24,
          42,
          43,
          42,
          43,
          44,
          53,
          29,
          49,
          21,
          49,
          48,
          31,
          23,
          45,
          58,
          43,
          45,
          24,
          26,
          42,
          24,
          43,
          29,
          23,
          42,
          8,
          51,
          28,
          24,
          14,
          50,
          24,
          30,
          25,
          43,
          43,
          50,
          24,
          39,
          16,
          53,
          23,
          39,
          42,
          46,
          21,
          50,
          45,
          47,
          43,
          56,
          56,
          43,
          50,
          65,
          23,
          24,
          46,
          21,
          48,
          23,
          47,
          43,
          42,
          24,
          21,
          24,
          42,
          44,
          46,
          23,
          23,
          50,
          23,
          55,
          24,
          71,
          24,
          23,
          51,
          27,
          44,
          32,
          42,
          22,
          44,
          45,
          67,
          51,
          50,
          23,
          24,
          60,
          45,
          23,
          44,
          41,
          24,
          42,
          23,
          23,
          24,
          39,
          23,
          21,
          24,
          22,
          64,
          23,
          44,
          44,
          23,
          43,
          47,
          12,
          22,
          24,
          23,
          24,
          59,
          43,
          61,
          21,
          44,
          12,
          23,
          24,
          23,
          22,
          44,
          45,
          21,
          41,
          64,
          21,
          6,
          2,
          44,
          61,
          24,
          43,
          29,
          24,
          20,
          40,
          44,
          24,
          43,
          23,
          41,
          47,
          45,
          23,
          68,
          23,
          44,
          27,
          23,
          11,
          23,
          23,
          47,
          12,
          24,
          23,
          43,
          34,
          23,
          23,
          24,
          47,
          20,
          24,
          23,
          48,
          57,
          43,
          62,
          23,
          4,
          13,
          23,
          36,
          24,
          47,
          41,
          24,
          44,
          9,
          46,
          24,
          43,
          43,
          3,
          84,
          24,
          42,
          46,
          44,
          11,
          3,
          22,
          23,
          42,
          44,
          2,
          13,
          43,
          65,
          21,
          43,
          50,
          0,
          45,
          24,
          32,
          46,
          42,
          62,
          22,
          29,
          23,
          49,
          43,
          47,
          27,
          41,
          49,
          22,
          21,
          51,
          43,
          26,
          21,
          21,
          42,
          21,
          43,
          43,
          21,
          51,
          21,
          42,
          42,
          43,
          46,
          23,
          24,
          21,
          45,
          76,
          23,
          42,
          42,
          24,
          24,
          24,
          56,
          47,
          44,
          44,
          24,
          31,
          21,
          29,
          49,
          23,
          41,
          57,
          23,
          45,
          21,
          43,
          40,
          44,
          40,
          38,
          43,
          7,
          44,
          24,
          47,
          33,
          42,
          46,
          43,
          44,
          49,
          44,
          51,
          84,
          35,
          42,
          38,
          11,
          45,
          44,
          25,
          59,
          43,
          23,
          41,
          57,
          55,
          85,
          44,
          25,
          58,
          33,
          5,
          48,
          30,
          41,
          43,
          44,
          22,
          33,
          33,
          49,
          4,
          77,
          40,
          24,
          43,
          15,
          3,
          11,
          6,
          42
         ],
         "x0": " ",
         "xaxis": "x",
         "y": [
          "Hulu",
          "Hulu",
          "Hulu",
          "Hulu",
          "Hulu",
          "Hulu",
          "Hulu",
          "Hulu",
          "Hulu",
          "Hulu",
          "Hulu",
          "Hulu",
          "Hulu",
          "Hulu",
          "Hulu",
          "Hulu",
          "Hulu",
          "Hulu",
          "Hulu",
          "Hulu",
          "Hulu",
          "Hulu",
          "Hulu",
          "Hulu",
          "Hulu",
          "Hulu",
          "Hulu",
          "Hulu",
          "Hulu",
          "Hulu",
          "Hulu",
          "Hulu",
          "Hulu",
          "Hulu",
          "Hulu",
          "Hulu",
          "Hulu",
          "Hulu",
          "Hulu",
          "Hulu",
          "Hulu",
          "Hulu",
          "Hulu",
          "Hulu",
          "Hulu",
          "Hulu",
          "Hulu",
          "Hulu",
          "Hulu",
          "Hulu",
          "Hulu",
          "Hulu",
          "Hulu",
          "Hulu",
          "Hulu",
          "Hulu",
          "Hulu",
          "Hulu",
          "Hulu",
          "Hulu",
          "Hulu",
          "Hulu",
          "Hulu",
          "Hulu",
          "Hulu",
          "Hulu",
          "Hulu",
          "Hulu",
          "Hulu",
          "Hulu",
          "Hulu",
          "Hulu",
          "Hulu",
          "Hulu",
          "Hulu",
          "Hulu",
          "Hulu",
          "Hulu",
          "Hulu",
          "Hulu",
          "Hulu",
          "Hulu",
          "Hulu",
          "Hulu",
          "Hulu",
          "Hulu",
          "Hulu",
          "Hulu",
          "Hulu",
          "Hulu",
          "Hulu",
          "Hulu",
          "Hulu",
          "Hulu",
          "Hulu",
          "Hulu",
          "Hulu",
          "Hulu",
          "Hulu",
          "Hulu",
          "Hulu",
          "Hulu",
          "Hulu",
          "Hulu",
          "Hulu",
          "Hulu",
          "Hulu",
          "Hulu",
          "Hulu",
          "Hulu",
          "Hulu",
          "Hulu",
          "Hulu",
          "Hulu",
          "Hulu",
          "Hulu",
          "Hulu",
          "Hulu",
          "Hulu",
          "Hulu",
          "Hulu",
          "Hulu",
          "Hulu",
          "Hulu",
          "Hulu",
          "Hulu",
          "Hulu",
          "Hulu",
          "Hulu",
          "Hulu",
          "Hulu",
          "Hulu",
          "Hulu",
          "Hulu",
          "Hulu",
          "Hulu",
          "Hulu",
          "Hulu",
          "Hulu",
          "Hulu",
          "Hulu",
          "Hulu",
          "Hulu",
          "Hulu",
          "Hulu",
          "Hulu",
          "Hulu",
          "Hulu",
          "Hulu",
          "Hulu",
          "Hulu",
          "Hulu",
          "Hulu",
          "Hulu",
          "Hulu",
          "Hulu",
          "Hulu",
          "Hulu",
          "Hulu",
          "Hulu",
          "Hulu",
          "Hulu",
          "Hulu",
          "Hulu",
          "Hulu",
          "Hulu",
          "Hulu",
          "Hulu",
          "Hulu",
          "Hulu",
          "Hulu",
          "Hulu",
          "Hulu",
          "Hulu",
          "Hulu",
          "Hulu",
          "Hulu",
          "Hulu",
          "Hulu",
          "Hulu",
          "Hulu",
          "Hulu",
          "Hulu",
          "Hulu",
          "Hulu",
          "Hulu",
          "Hulu",
          "Hulu",
          "Hulu",
          "Hulu",
          "Hulu",
          "Hulu",
          "Hulu",
          "Hulu",
          "Hulu",
          "Hulu",
          "Hulu",
          "Hulu",
          "Hulu",
          "Hulu",
          "Hulu",
          "Hulu",
          "Hulu",
          "Hulu",
          "Hulu",
          "Hulu",
          "Hulu",
          "Hulu",
          "Hulu",
          "Hulu",
          "Hulu",
          "Hulu",
          "Hulu",
          "Hulu",
          "Hulu",
          "Hulu",
          "Hulu",
          "Hulu",
          "Hulu",
          "Hulu",
          "Hulu",
          "Hulu",
          "Hulu",
          "Hulu",
          "Hulu",
          "Hulu",
          "Hulu",
          "Hulu",
          "Hulu",
          "Hulu",
          "Hulu",
          "Hulu",
          "Hulu",
          "Hulu",
          "Hulu",
          "Hulu",
          "Hulu",
          "Hulu",
          "Hulu",
          "Hulu",
          "Hulu",
          "Hulu",
          "Hulu",
          "Hulu",
          "Hulu",
          "Hulu",
          "Hulu",
          "Hulu",
          "Hulu",
          "Hulu",
          "Hulu",
          "Hulu",
          "Hulu",
          "Hulu",
          "Hulu",
          "Hulu",
          "Hulu",
          "Hulu",
          "Hulu",
          "Hulu",
          "Hulu",
          "Hulu",
          "Hulu",
          "Hulu",
          "Hulu",
          "Hulu",
          "Hulu",
          "Hulu",
          "Hulu",
          "Hulu",
          "Hulu",
          "Hulu",
          "Hulu",
          "Hulu",
          "Hulu",
          "Hulu",
          "Hulu",
          "Hulu",
          "Hulu",
          "Hulu",
          "Hulu",
          "Hulu",
          "Hulu",
          "Hulu",
          "Hulu",
          "Hulu",
          "Hulu",
          "Hulu",
          "Hulu",
          "Hulu",
          "Hulu",
          "Hulu",
          "Hulu",
          "Hulu",
          "Hulu",
          "Hulu",
          "Hulu",
          "Hulu",
          "Hulu",
          "Hulu",
          "Hulu",
          "Hulu",
          "Hulu",
          "Hulu",
          "Hulu",
          "Hulu",
          "Hulu",
          "Hulu",
          "Hulu",
          "Hulu",
          "Hulu",
          "Hulu",
          "Hulu",
          "Hulu",
          "Hulu",
          "Hulu",
          "Hulu",
          "Hulu",
          "Hulu",
          "Hulu",
          "Hulu",
          "Hulu",
          "Hulu",
          "Hulu",
          "Hulu",
          "Hulu",
          "Hulu",
          "Hulu",
          "Hulu",
          "Hulu",
          "Hulu",
          "Hulu",
          "Hulu",
          "Hulu",
          "Hulu",
          "Hulu",
          "Hulu",
          "Hulu",
          "Hulu",
          "Hulu",
          "Hulu",
          "Hulu",
          "Hulu",
          "Hulu",
          "Hulu",
          "Hulu",
          "Hulu",
          "Hulu",
          "Hulu",
          "Hulu",
          "Hulu",
          "Hulu",
          "Hulu",
          "Hulu",
          "Hulu",
          "Hulu",
          "Hulu",
          "Hulu",
          "Hulu",
          "Hulu",
          "Hulu",
          "Hulu",
          "Hulu",
          "Hulu",
          "Hulu",
          "Hulu",
          "Hulu",
          "Hulu",
          "Hulu",
          "Hulu",
          "Hulu",
          "Hulu",
          "Hulu",
          "Hulu",
          "Hulu",
          "Hulu",
          "Hulu",
          "Hulu",
          "Hulu",
          "Hulu",
          "Hulu",
          "Hulu",
          "Hulu",
          "Hulu",
          "Hulu",
          "Hulu",
          "Hulu",
          "Hulu",
          "Hulu",
          "Hulu",
          "Hulu",
          "Hulu",
          "Hulu",
          "Hulu",
          "Hulu",
          "Hulu",
          "Hulu",
          "Hulu",
          "Hulu",
          "Hulu",
          "Hulu",
          "Hulu",
          "Hulu",
          "Hulu",
          "Hulu",
          "Hulu",
          "Hulu",
          "Hulu",
          "Hulu",
          "Hulu",
          "Hulu",
          "Hulu",
          "Hulu",
          "Hulu",
          "Hulu",
          "Hulu",
          "Hulu",
          "Hulu",
          "Hulu",
          "Hulu",
          "Hulu",
          "Hulu",
          "Hulu",
          "Hulu",
          "Hulu",
          "Hulu",
          "Hulu",
          "Hulu",
          "Hulu",
          "Hulu",
          "Hulu",
          "Hulu",
          "Hulu",
          "Hulu",
          "Hulu",
          "Hulu",
          "Hulu",
          "Hulu",
          "Hulu",
          "Hulu",
          "Hulu",
          "Hulu",
          "Hulu",
          "Hulu",
          "Hulu",
          "Hulu",
          "Hulu",
          "Hulu",
          "Hulu",
          "Hulu",
          "Hulu",
          "Hulu",
          "Hulu",
          "Hulu",
          "Hulu",
          "Hulu",
          "Hulu",
          "Hulu",
          "Hulu",
          "Hulu",
          "Hulu",
          "Hulu",
          "Hulu",
          "Hulu",
          "Hulu",
          "Hulu",
          "Hulu",
          "Hulu",
          "Hulu",
          "Hulu",
          "Hulu",
          "Hulu",
          "Hulu",
          "Hulu",
          "Hulu",
          "Hulu",
          "Hulu",
          "Hulu",
          "Hulu",
          "Hulu",
          "Hulu",
          "Hulu",
          "Hulu",
          "Hulu",
          "Hulu",
          "Hulu",
          "Hulu",
          "Hulu",
          "Hulu",
          "Hulu",
          "Hulu",
          "Hulu",
          "Hulu",
          "Hulu",
          "Hulu",
          "Hulu",
          "Hulu",
          "Hulu",
          "Hulu",
          "Hulu",
          "Hulu",
          "Hulu",
          "Hulu",
          "Hulu",
          "Hulu",
          "Hulu",
          "Hulu",
          "Hulu",
          "Hulu",
          "Hulu",
          "Hulu",
          "Hulu",
          "Hulu",
          "Hulu",
          "Hulu",
          "Hulu",
          "Hulu",
          "Hulu",
          "Hulu",
          "Hulu",
          "Hulu",
          "Hulu",
          "Hulu",
          "Hulu",
          "Hulu",
          "Hulu",
          "Hulu",
          "Hulu",
          "Hulu",
          "Hulu",
          "Hulu",
          "Hulu",
          "Hulu",
          "Hulu",
          "Hulu",
          "Hulu",
          "Hulu",
          "Hulu",
          "Hulu",
          "Hulu",
          "Hulu",
          "Hulu",
          "Hulu",
          "Hulu",
          "Hulu",
          "Hulu",
          "Hulu",
          "Hulu",
          "Hulu",
          "Hulu",
          "Hulu",
          "Hulu",
          "Hulu",
          "Hulu",
          "Hulu",
          "Hulu",
          "Hulu",
          "Hulu",
          "Hulu",
          "Hulu",
          "Hulu",
          "Hulu",
          "Hulu",
          "Hulu",
          "Hulu",
          "Hulu",
          "Hulu",
          "Hulu",
          "Hulu",
          "Hulu",
          "Hulu",
          "Hulu",
          "Hulu",
          "Hulu",
          "Hulu",
          "Hulu",
          "Hulu",
          "Hulu",
          "Hulu",
          "Hulu",
          "Hulu",
          "Hulu",
          "Hulu",
          "Hulu",
          "Hulu",
          "Hulu",
          "Hulu",
          "Hulu",
          "Hulu",
          "Hulu",
          "Hulu",
          "Hulu",
          "Hulu",
          "Hulu",
          "Hulu",
          "Hulu",
          "Hulu",
          "Hulu",
          "Hulu",
          "Hulu",
          "Hulu",
          "Hulu",
          "Hulu",
          "Hulu",
          "Hulu",
          "Hulu",
          "Hulu",
          "Hulu",
          "Hulu",
          "Hulu",
          "Hulu",
          "Hulu",
          "Hulu",
          "Hulu",
          "Hulu",
          "Hulu",
          "Hulu",
          "Hulu",
          "Hulu",
          "Hulu",
          "Hulu",
          "Hulu",
          "Hulu",
          "Hulu",
          "Hulu",
          "Hulu",
          "Hulu",
          "Hulu",
          "Hulu",
          "Hulu",
          "Hulu",
          "Hulu",
          "Hulu",
          "Hulu",
          "Hulu",
          "Hulu",
          "Hulu",
          "Hulu",
          "Hulu",
          "Hulu",
          "Hulu",
          "Hulu",
          "Hulu",
          "Hulu",
          "Hulu",
          "Hulu",
          "Hulu",
          "Hulu",
          "Hulu",
          "Hulu",
          "Hulu",
          "Hulu",
          "Hulu",
          "Hulu",
          "Hulu",
          "Hulu",
          "Hulu",
          "Hulu",
          "Hulu",
          "Hulu",
          "Hulu",
          "Hulu",
          "Hulu",
          "Hulu",
          "Hulu",
          "Hulu",
          "Hulu",
          "Hulu",
          "Hulu",
          "Hulu",
          "Hulu",
          "Hulu",
          "Hulu",
          "Hulu",
          "Hulu",
          "Hulu",
          "Hulu",
          "Hulu",
          "Hulu",
          "Hulu",
          "Hulu",
          "Hulu",
          "Hulu",
          "Hulu",
          "Hulu",
          "Hulu",
          "Hulu",
          "Hulu",
          "Hulu",
          "Hulu",
          "Hulu",
          "Hulu",
          "Hulu",
          "Hulu",
          "Hulu",
          "Hulu",
          "Hulu",
          "Hulu",
          "Hulu",
          "Hulu",
          "Hulu",
          "Hulu",
          "Hulu",
          "Hulu",
          "Hulu",
          "Hulu",
          "Hulu",
          "Hulu",
          "Hulu",
          "Hulu",
          "Hulu",
          "Hulu",
          "Hulu",
          "Hulu",
          "Hulu",
          "Hulu",
          "Hulu",
          "Hulu",
          "Hulu",
          "Hulu",
          "Hulu",
          "Hulu",
          "Hulu",
          "Hulu",
          "Hulu",
          "Hulu",
          "Hulu",
          "Hulu",
          "Hulu",
          "Hulu",
          "Hulu",
          "Hulu",
          "Hulu",
          "Hulu",
          "Hulu",
          "Hulu",
          "Hulu",
          "Hulu",
          "Hulu",
          "Hulu",
          "Hulu",
          "Hulu",
          "Hulu",
          "Hulu",
          "Hulu",
          "Hulu",
          "Hulu",
          "Hulu",
          "Hulu",
          "Hulu",
          "Hulu",
          "Hulu",
          "Hulu",
          "Hulu",
          "Hulu",
          "Hulu",
          "Hulu",
          "Hulu",
          "Hulu",
          "Hulu",
          "Hulu",
          "Hulu",
          "Hulu",
          "Hulu",
          "Hulu",
          "Hulu",
          "Hulu",
          "Hulu",
          "Hulu",
          "Hulu",
          "Hulu",
          "Hulu",
          "Hulu",
          "Hulu",
          "Hulu",
          "Hulu",
          "Hulu",
          "Hulu",
          "Hulu",
          "Hulu",
          "Hulu",
          "Hulu",
          "Hulu",
          "Hulu",
          "Hulu",
          "Hulu",
          "Hulu",
          "Hulu",
          "Hulu",
          "Hulu",
          "Hulu",
          "Hulu",
          "Hulu",
          "Hulu",
          "Hulu",
          "Hulu",
          "Hulu",
          "Hulu",
          "Hulu",
          "Hulu",
          "Hulu",
          "Hulu",
          "Hulu",
          "Hulu",
          "Hulu",
          "Hulu",
          "Hulu",
          "Hulu",
          "Hulu",
          "Hulu",
          "Hulu",
          "Hulu",
          "Hulu",
          "Hulu",
          "Hulu",
          "Hulu",
          "Hulu",
          "Hulu",
          "Hulu",
          "Hulu",
          "Hulu",
          "Hulu",
          "Hulu",
          "Hulu",
          "Hulu",
          "Hulu",
          "Hulu",
          "Hulu",
          "Hulu",
          "Hulu",
          "Hulu",
          "Hulu",
          "Hulu",
          "Hulu",
          "Hulu",
          "Hulu",
          "Hulu",
          "Hulu",
          "Hulu",
          "Hulu",
          "Hulu",
          "Hulu",
          "Hulu",
          "Hulu",
          "Hulu",
          "Hulu",
          "Hulu",
          "Hulu",
          "Hulu",
          "Hulu",
          "Hulu",
          "Hulu",
          "Hulu",
          "Hulu",
          "Hulu",
          "Hulu",
          "Hulu",
          "Hulu",
          "Hulu",
          "Hulu",
          "Hulu",
          "Hulu",
          "Hulu",
          "Hulu",
          "Hulu",
          "Hulu",
          "Hulu",
          "Hulu",
          "Hulu",
          "Hulu",
          "Hulu",
          "Hulu",
          "Hulu",
          "Hulu",
          "Hulu",
          "Hulu",
          "Hulu",
          "Hulu",
          "Hulu",
          "Hulu",
          "Hulu",
          "Hulu",
          "Hulu",
          "Hulu",
          "Hulu",
          "Hulu",
          "Hulu",
          "Hulu",
          "Hulu",
          "Hulu",
          "Hulu",
          "Hulu",
          "Hulu",
          "Hulu",
          "Hulu",
          "Hulu",
          "Hulu",
          "Hulu",
          "Hulu",
          "Hulu",
          "Hulu",
          "Hulu",
          "Hulu",
          "Hulu",
          "Hulu",
          "Hulu",
          "Hulu",
          "Hulu",
          "Hulu",
          "Hulu",
          "Hulu",
          "Hulu",
          "Hulu",
          "Hulu",
          "Hulu",
          "Hulu",
          "Hulu",
          "Hulu",
          "Hulu",
          "Hulu",
          "Hulu",
          "Hulu",
          "Hulu",
          "Hulu",
          "Hulu",
          "Hulu",
          "Hulu",
          "Hulu",
          "Hulu",
          "Hulu",
          "Hulu",
          "Hulu",
          "Hulu",
          "Hulu",
          "Hulu",
          "Hulu",
          "Hulu",
          "Hulu",
          "Hulu",
          "Hulu",
          "Hulu",
          "Hulu",
          "Hulu",
          "Hulu",
          "Hulu",
          "Hulu",
          "Hulu",
          "Hulu",
          "Hulu",
          "Hulu",
          "Hulu",
          "Hulu",
          "Hulu",
          "Hulu",
          "Hulu",
          "Hulu",
          "Hulu",
          "Hulu",
          "Hulu",
          "Hulu",
          "Hulu",
          "Hulu",
          "Hulu",
          "Hulu",
          "Hulu",
          "Hulu",
          "Hulu",
          "Hulu",
          "Hulu",
          "Hulu",
          "Hulu",
          "Hulu",
          "Hulu",
          "Hulu",
          "Hulu",
          "Hulu",
          "Hulu",
          "Hulu",
          "Hulu",
          "Hulu",
          "Hulu",
          "Hulu",
          "Hulu",
          "Hulu",
          "Hulu",
          "Hulu",
          "Hulu",
          "Hulu",
          "Hulu",
          "Hulu",
          "Hulu",
          "Hulu",
          "Hulu",
          "Hulu",
          "Hulu",
          "Hulu",
          "Hulu",
          "Hulu",
          "Hulu",
          "Hulu",
          "Hulu",
          "Hulu",
          "Hulu",
          "Hulu",
          "Hulu",
          "Hulu",
          "Hulu",
          "Hulu",
          "Hulu",
          "Hulu",
          "Hulu",
          "Hulu",
          "Hulu",
          "Hulu",
          "Hulu",
          "Hulu",
          "Hulu",
          "Hulu",
          "Hulu",
          "Hulu",
          "Hulu",
          "Hulu",
          "Hulu",
          "Hulu",
          "Hulu",
          "Hulu",
          "Hulu",
          "Hulu",
          "Hulu",
          "Hulu",
          "Hulu",
          "Hulu",
          "Hulu",
          "Hulu",
          "Hulu",
          "Hulu",
          "Hulu",
          "Hulu",
          "Hulu",
          "Hulu",
          "Hulu",
          "Hulu",
          "Hulu",
          "Hulu",
          "Hulu",
          "Hulu",
          "Hulu",
          "Hulu",
          "Hulu",
          "Hulu",
          "Hulu",
          "Hulu",
          "Hulu",
          "Hulu",
          "Hulu",
          "Hulu",
          "Hulu",
          "Hulu",
          "Hulu",
          "Hulu",
          "Hulu",
          "Hulu",
          "Hulu",
          "Hulu",
          "Hulu",
          "Hulu",
          "Hulu",
          "Hulu",
          "Hulu",
          "Hulu",
          "Hulu",
          "Hulu",
          "Hulu",
          "Hulu",
          "Hulu",
          "Hulu",
          "Hulu",
          "Hulu",
          "Hulu",
          "Hulu",
          "Hulu",
          "Hulu",
          "Hulu",
          "Hulu",
          "Hulu",
          "Hulu",
          "Hulu",
          "Hulu",
          "Hulu",
          "Hulu",
          "Hulu",
          "Hulu",
          "Hulu",
          "Hulu",
          "Hulu",
          "Hulu",
          "Hulu",
          "Hulu",
          "Hulu",
          "Hulu",
          "Hulu",
          "Hulu",
          "Hulu",
          "Hulu",
          "Hulu",
          "Hulu",
          "Hulu",
          "Hulu",
          "Hulu",
          "Hulu",
          "Hulu",
          "Hulu",
          "Hulu",
          "Hulu",
          "Hulu",
          "Hulu",
          "Hulu",
          "Hulu",
          "Hulu",
          "Hulu",
          "Hulu",
          "Hulu",
          "Hulu",
          "Hulu",
          "Hulu",
          "Hulu",
          "Hulu",
          "Hulu",
          "Hulu",
          "Hulu",
          "Hulu",
          "Hulu",
          "Hulu",
          "Hulu",
          "Hulu",
          "Hulu",
          "Hulu",
          "Hulu",
          "Hulu",
          "Hulu",
          "Hulu",
          "Hulu",
          "Hulu",
          "Hulu",
          "Hulu",
          "Hulu",
          "Hulu",
          "Hulu",
          "Hulu",
          "Hulu",
          "Hulu",
          "Hulu",
          "Hulu",
          "Hulu",
          "Hulu",
          "Hulu",
          "Hulu",
          "Hulu",
          "Hulu",
          "Hulu",
          "Hulu",
          "Hulu",
          "Hulu",
          "Hulu",
          "Hulu",
          "Hulu",
          "Hulu",
          "Hulu",
          "Hulu",
          "Hulu",
          "Hulu",
          "Hulu",
          "Hulu",
          "Hulu",
          "Hulu",
          "Hulu",
          "Hulu",
          "Hulu",
          "Hulu",
          "Hulu",
          "Hulu",
          "Hulu",
          "Hulu",
          "Hulu",
          "Hulu",
          "Hulu",
          "Hulu",
          "Hulu",
          "Hulu",
          "Hulu",
          "Hulu",
          "Hulu",
          "Hulu",
          "Hulu",
          "Hulu",
          "Hulu",
          "Hulu",
          "Hulu",
          "Hulu",
          "Hulu",
          "Hulu",
          "Hulu",
          "Hulu",
          "Hulu",
          "Hulu",
          "Hulu",
          "Hulu",
          "Hulu",
          "Hulu",
          "Hulu",
          "Hulu",
          "Hulu",
          "Hulu",
          "Hulu",
          "Hulu",
          "Hulu",
          "Hulu",
          "Hulu",
          "Hulu",
          "Hulu",
          "Hulu",
          "Hulu",
          "Hulu",
          "Hulu",
          "Hulu",
          "Hulu",
          "Hulu",
          "Hulu",
          "Hulu",
          "Hulu",
          "Hulu",
          "Hulu",
          "Hulu",
          "Hulu",
          "Hulu",
          "Hulu",
          "Hulu",
          "Hulu",
          "Hulu",
          "Hulu",
          "Hulu",
          "Hulu",
          "Hulu",
          "Hulu",
          "Hulu",
          "Hulu",
          "Hulu",
          "Hulu",
          "Hulu",
          "Hulu",
          "Hulu",
          "Hulu",
          "Hulu",
          "Hulu",
          "Hulu",
          "Hulu",
          "Hulu",
          "Hulu",
          "Hulu",
          "Hulu",
          "Hulu",
          "Hulu",
          "Hulu",
          "Hulu",
          "Hulu",
          "Hulu",
          "Hulu",
          "Hulu",
          "Hulu",
          "Hulu",
          "Hulu",
          "Hulu",
          "Hulu",
          "Hulu",
          "Hulu",
          "Hulu",
          "Hulu",
          "Hulu",
          "Hulu",
          "Hulu",
          "Hulu",
          "Hulu",
          "Hulu",
          "Hulu",
          "Hulu",
          "Hulu",
          "Hulu",
          "Hulu",
          "Hulu",
          "Hulu",
          "Hulu",
          "Hulu",
          "Hulu",
          "Hulu",
          "Hulu",
          "Hulu",
          "Hulu",
          "Hulu",
          "Hulu",
          "Hulu",
          "Hulu",
          "Hulu",
          "Hulu",
          "Hulu",
          "Hulu",
          "Hulu",
          "Hulu",
          "Hulu",
          "Hulu",
          "Hulu",
          "Hulu",
          "Hulu",
          "Hulu",
          "Hulu",
          "Hulu",
          "Hulu",
          "Hulu",
          "Hulu",
          "Hulu",
          "Hulu",
          "Hulu",
          "Hulu",
          "Hulu",
          "Hulu",
          "Hulu",
          "Hulu",
          "Hulu",
          "Hulu",
          "Hulu"
         ],
         "y0": " ",
         "yaxis": "y"
        },
        {
         "alignmentgroup": "True",
         "boxpoints": "outliers",
         "hovertemplate": "Plataforma=%{y}<br>Duracion=%{x}<extra></extra>",
         "legendgroup": "Disney",
         "marker": {
          "color": "#3800C2"
         },
         "name": "Disney",
         "notched": false,
         "offsetgroup": "Disney",
         "orientation": "h",
         "quartilemethod": "exclusive",
         "showlegend": true,
         "type": "box",
         "x": [
          25,
          3,
          31,
          21,
          12,
          27,
          49,
          21,
          23,
          22,
          25,
          22,
          22,
          23,
          22,
          25,
          23,
          21,
          22,
          24,
          24,
          22,
          22,
          16,
          21,
          22,
          22,
          15,
          21,
          22,
          22,
          22,
          23,
          20,
          22,
          25,
          22,
          23,
          24,
          28,
          24,
          22,
          22,
          22,
          22,
          22,
          21,
          23,
          10,
          21,
          43,
          22,
          25,
          21,
          24,
          24,
          23,
          27,
          21,
          24,
          22,
          23,
          23,
          23,
          23,
          26,
          25,
          22,
          27,
          23,
          23,
          20,
          24,
          22,
          20,
          22,
          26,
          24,
          23,
          24,
          23,
          22,
          22,
          22,
          22,
          24,
          21,
          50,
          44,
          3,
          43,
          23,
          32,
          45,
          23,
          22,
          44,
          22,
          26,
          23,
          43,
          24,
          26,
          45,
          23,
          23,
          17,
          23,
          3,
          44,
          25,
          44,
          23,
          49,
          2,
          3,
          50,
          21,
          42,
          43,
          43,
          23,
          46,
          43,
          23,
          23,
          22,
          23,
          43,
          44,
          22,
          44,
          18,
          5,
          24,
          22,
          44,
          21,
          46,
          43,
          45,
          44,
          22,
          25,
          25,
          44,
          3,
          53,
          51,
          42,
          22,
          15,
          56,
          22,
          48,
          43,
          40,
          25,
          18,
          21,
          22,
          23,
          23,
          24,
          24,
          24,
          24,
          44,
          22,
          19,
          47,
          24,
          22,
          23,
          6,
          54,
          46,
          1,
          22,
          20,
          44,
          23,
          54,
          24,
          44,
          45,
          44,
          22,
          23,
          22,
          11,
          3,
          6,
          4,
          7,
          53,
          42,
          54,
          50,
          28,
          23,
          47,
          20,
          24,
          23,
          22,
          24,
          24,
          4,
          20,
          18,
          46,
          23,
          1,
          43,
          25,
          20,
          25,
          23,
          23,
          21,
          47,
          29,
          1,
          2,
          52,
          20,
          4,
          4,
          49,
          44,
          4,
          4,
          44,
          16,
          2,
          2,
          23,
          38,
          39,
          22,
          44,
          2,
          44,
          2,
          2,
          2,
          30,
          44,
          25,
          3,
          4,
          6,
          40,
          24,
          19,
          43,
          45,
          44,
          26,
          44,
          32,
          44,
          44,
          42,
          33,
          22,
          63,
          44,
          52,
          42,
          47,
          44,
          24,
          21,
          43,
          20,
          44,
          45,
          5,
          37,
          26,
          43,
          44,
          37,
          11,
          13,
          4,
          3,
          44,
          17,
          38,
          8,
          6,
          43,
          44,
          44,
          19,
          44,
          54,
          44,
          23,
          10,
          44,
          23,
          44,
          26,
          44,
          32,
          4,
          32,
          22,
          36,
          37,
          2,
          24,
          24,
          3,
          24,
          23,
          34,
          22,
          30,
          25,
          43,
          23,
          44,
          44,
          59,
          1,
          44,
          44,
          1,
          24,
          2,
          3,
          2,
          22,
          7,
          44,
          2,
          4,
          43,
          48,
          156,
          47,
          39,
          48,
          47,
          51,
          32,
          21,
          51,
          31,
          3,
          16,
          7,
          28,
          85,
          22,
          31,
          24,
          38,
          49,
          10,
          26,
          23,
          12,
          43,
          43,
          48,
          48,
          42,
          42,
          27,
          58,
          44,
          46,
          23,
          35,
          4,
          45,
          34,
          24,
          44,
          44,
          7,
          3,
          46,
          4,
          44,
          43,
          13,
          14,
          22,
          30,
          5,
          22,
          14,
          27,
          44,
          53,
          2,
          44,
          44,
          11,
          46,
          2,
          42,
          4,
          42,
          22,
          44,
          27,
          44
         ],
         "x0": " ",
         "xaxis": "x",
         "y": [
          "Disney",
          "Disney",
          "Disney",
          "Disney",
          "Disney",
          "Disney",
          "Disney",
          "Disney",
          "Disney",
          "Disney",
          "Disney",
          "Disney",
          "Disney",
          "Disney",
          "Disney",
          "Disney",
          "Disney",
          "Disney",
          "Disney",
          "Disney",
          "Disney",
          "Disney",
          "Disney",
          "Disney",
          "Disney",
          "Disney",
          "Disney",
          "Disney",
          "Disney",
          "Disney",
          "Disney",
          "Disney",
          "Disney",
          "Disney",
          "Disney",
          "Disney",
          "Disney",
          "Disney",
          "Disney",
          "Disney",
          "Disney",
          "Disney",
          "Disney",
          "Disney",
          "Disney",
          "Disney",
          "Disney",
          "Disney",
          "Disney",
          "Disney",
          "Disney",
          "Disney",
          "Disney",
          "Disney",
          "Disney",
          "Disney",
          "Disney",
          "Disney",
          "Disney",
          "Disney",
          "Disney",
          "Disney",
          "Disney",
          "Disney",
          "Disney",
          "Disney",
          "Disney",
          "Disney",
          "Disney",
          "Disney",
          "Disney",
          "Disney",
          "Disney",
          "Disney",
          "Disney",
          "Disney",
          "Disney",
          "Disney",
          "Disney",
          "Disney",
          "Disney",
          "Disney",
          "Disney",
          "Disney",
          "Disney",
          "Disney",
          "Disney",
          "Disney",
          "Disney",
          "Disney",
          "Disney",
          "Disney",
          "Disney",
          "Disney",
          "Disney",
          "Disney",
          "Disney",
          "Disney",
          "Disney",
          "Disney",
          "Disney",
          "Disney",
          "Disney",
          "Disney",
          "Disney",
          "Disney",
          "Disney",
          "Disney",
          "Disney",
          "Disney",
          "Disney",
          "Disney",
          "Disney",
          "Disney",
          "Disney",
          "Disney",
          "Disney",
          "Disney",
          "Disney",
          "Disney",
          "Disney",
          "Disney",
          "Disney",
          "Disney",
          "Disney",
          "Disney",
          "Disney",
          "Disney",
          "Disney",
          "Disney",
          "Disney",
          "Disney",
          "Disney",
          "Disney",
          "Disney",
          "Disney",
          "Disney",
          "Disney",
          "Disney",
          "Disney",
          "Disney",
          "Disney",
          "Disney",
          "Disney",
          "Disney",
          "Disney",
          "Disney",
          "Disney",
          "Disney",
          "Disney",
          "Disney",
          "Disney",
          "Disney",
          "Disney",
          "Disney",
          "Disney",
          "Disney",
          "Disney",
          "Disney",
          "Disney",
          "Disney",
          "Disney",
          "Disney",
          "Disney",
          "Disney",
          "Disney",
          "Disney",
          "Disney",
          "Disney",
          "Disney",
          "Disney",
          "Disney",
          "Disney",
          "Disney",
          "Disney",
          "Disney",
          "Disney",
          "Disney",
          "Disney",
          "Disney",
          "Disney",
          "Disney",
          "Disney",
          "Disney",
          "Disney",
          "Disney",
          "Disney",
          "Disney",
          "Disney",
          "Disney",
          "Disney",
          "Disney",
          "Disney",
          "Disney",
          "Disney",
          "Disney",
          "Disney",
          "Disney",
          "Disney",
          "Disney",
          "Disney",
          "Disney",
          "Disney",
          "Disney",
          "Disney",
          "Disney",
          "Disney",
          "Disney",
          "Disney",
          "Disney",
          "Disney",
          "Disney",
          "Disney",
          "Disney",
          "Disney",
          "Disney",
          "Disney",
          "Disney",
          "Disney",
          "Disney",
          "Disney",
          "Disney",
          "Disney",
          "Disney",
          "Disney",
          "Disney",
          "Disney",
          "Disney",
          "Disney",
          "Disney",
          "Disney",
          "Disney",
          "Disney",
          "Disney",
          "Disney",
          "Disney",
          "Disney",
          "Disney",
          "Disney",
          "Disney",
          "Disney",
          "Disney",
          "Disney",
          "Disney",
          "Disney",
          "Disney",
          "Disney",
          "Disney",
          "Disney",
          "Disney",
          "Disney",
          "Disney",
          "Disney",
          "Disney",
          "Disney",
          "Disney",
          "Disney",
          "Disney",
          "Disney",
          "Disney",
          "Disney",
          "Disney",
          "Disney",
          "Disney",
          "Disney",
          "Disney",
          "Disney",
          "Disney",
          "Disney",
          "Disney",
          "Disney",
          "Disney",
          "Disney",
          "Disney",
          "Disney",
          "Disney",
          "Disney",
          "Disney",
          "Disney",
          "Disney",
          "Disney",
          "Disney",
          "Disney",
          "Disney",
          "Disney",
          "Disney",
          "Disney",
          "Disney",
          "Disney",
          "Disney",
          "Disney",
          "Disney",
          "Disney",
          "Disney",
          "Disney",
          "Disney",
          "Disney",
          "Disney",
          "Disney",
          "Disney",
          "Disney",
          "Disney",
          "Disney",
          "Disney",
          "Disney",
          "Disney",
          "Disney",
          "Disney",
          "Disney",
          "Disney",
          "Disney",
          "Disney",
          "Disney",
          "Disney",
          "Disney",
          "Disney",
          "Disney",
          "Disney",
          "Disney",
          "Disney",
          "Disney",
          "Disney",
          "Disney",
          "Disney",
          "Disney",
          "Disney",
          "Disney",
          "Disney",
          "Disney",
          "Disney",
          "Disney",
          "Disney",
          "Disney",
          "Disney",
          "Disney",
          "Disney",
          "Disney",
          "Disney",
          "Disney",
          "Disney",
          "Disney",
          "Disney",
          "Disney",
          "Disney",
          "Disney",
          "Disney",
          "Disney",
          "Disney",
          "Disney",
          "Disney",
          "Disney",
          "Disney",
          "Disney",
          "Disney",
          "Disney",
          "Disney",
          "Disney",
          "Disney",
          "Disney",
          "Disney",
          "Disney",
          "Disney",
          "Disney",
          "Disney",
          "Disney",
          "Disney",
          "Disney",
          "Disney",
          "Disney",
          "Disney",
          "Disney",
          "Disney",
          "Disney",
          "Disney",
          "Disney",
          "Disney",
          "Disney",
          "Disney",
          "Disney",
          "Disney",
          "Disney",
          "Disney",
          "Disney",
          "Disney",
          "Disney",
          "Disney",
          "Disney",
          "Disney",
          "Disney",
          "Disney",
          "Disney",
          "Disney",
          "Disney",
          "Disney",
          "Disney",
          "Disney",
          "Disney",
          "Disney",
          "Disney",
          "Disney",
          "Disney",
          "Disney",
          "Disney",
          "Disney",
          "Disney",
          "Disney",
          "Disney",
          "Disney",
          "Disney",
          "Disney",
          "Disney",
          "Disney",
          "Disney",
          "Disney",
          "Disney"
         ],
         "y0": " ",
         "yaxis": "y"
        },
        {
         "alignmentgroup": "True",
         "boxpoints": "outliers",
         "hovertemplate": "Plataforma=%{y}<br>Duracion=%{x}<extra></extra>",
         "legendgroup": "Paramount",
         "marker": {
          "color": "#FFFFFF"
         },
         "name": "Paramount",
         "notched": false,
         "offsetgroup": "Paramount",
         "orientation": "h",
         "quartilemethod": "exclusive",
         "showlegend": true,
         "type": "box",
         "x": [
          28,
          50,
          30,
          24,
          49,
          60,
          25,
          60,
          47,
          51,
          24,
          27,
          31,
          34,
          22,
          52,
          46,
          30,
          51,
          47,
          27,
          55,
          23,
          16,
          25,
          21,
          23,
          24,
          22,
          48,
          19,
          25,
          22,
          46,
          44,
          47,
          40,
          17,
          47,
          24,
          23,
          20,
          34,
          19,
          22,
          23,
          30,
          25,
          22,
          23,
          69,
          58,
          32,
          26,
          20,
          20,
          24,
          24,
          47,
          11,
          46,
          17,
          45,
          43,
          27,
          22,
          21,
          27,
          18,
          25,
          24,
          17,
          22,
          28,
          19,
          20,
          23,
          27,
          21,
          22,
          25,
          24,
          24,
          24,
          22,
          20,
          23,
          24,
          26,
          30,
          24,
          22,
          51,
          44,
          44,
          48,
          42,
          24,
          45,
          20,
          24,
          7,
          44,
          44,
          43,
          21,
          22,
          22,
          26,
          26,
          25,
          25,
          21,
          47,
          27,
          44,
          42,
          45,
          22,
          22,
          47,
          25,
          23,
          25,
          66,
          42,
          22,
          15,
          22,
          22,
          22,
          25,
          22,
          50,
          25,
          25,
          23,
          36,
          44,
          52,
          21,
          23,
          22,
          22,
          57,
          42,
          22,
          53,
          25,
          22,
          21,
          51,
          46,
          25,
          29,
          25,
          40,
          23,
          25,
          22,
          19,
          25,
          25,
          22,
          25,
          23,
          19,
          39,
          44,
          47,
          27,
          21,
          44,
          25,
          45,
          24,
          21,
          22,
          27,
          21,
          22,
          48,
          24,
          37,
          24,
          24,
          23,
          22,
          1,
          54,
          25,
          27,
          21,
          56,
          47,
          22,
          27,
          22,
          30,
          41,
          22,
          42,
          42,
          22,
          50,
          44,
          23,
          24,
          22,
          21,
          24,
          41,
          24,
          41,
          21,
          32,
          21,
          21,
          43,
          42,
          23,
          42,
          21,
          25,
          21,
          22,
          47,
          21,
          24,
          21,
          49,
          20,
          43,
          21,
          27,
          51,
          19,
          25,
          41,
          42,
          29,
          43,
          42,
          22,
          22,
          19,
          24,
          43,
          21,
          21,
          24,
          45,
          42,
          24,
          41,
          24,
          48,
          41,
          18,
          45,
          23,
          21,
          23,
          24,
          48,
          21,
          21,
          19,
          45,
          41,
          21,
          17,
          22,
          41,
          21,
          25,
          41,
          32,
          42,
          21,
          52,
          41,
          39,
          48,
          24,
          46,
          45,
          46,
          23,
          1,
          20,
          43,
          43,
          24,
          42,
          21,
          46,
          22,
          17,
          42,
          21,
          20,
          21,
          43,
          41,
          22,
          21,
          40,
          49,
          21,
          45,
          22,
          16,
          21,
          47,
          22,
          60,
          23,
          52,
          20,
          25,
          45,
          21,
          12,
          23,
          32,
          21,
          44,
          46,
          23,
          71,
          23,
          46,
          17,
          50,
          22,
          28,
          22,
          41,
          22,
          24,
          22,
          46,
          48,
          47,
          47,
          48,
          47,
          45,
          46,
          23,
          46,
          20,
          24,
          22,
          48,
          46,
          50,
          29,
          51,
          23,
          22,
          46,
          48,
          45,
          48,
          48,
          46,
          48,
          21,
          23,
          48,
          47,
          22,
          47,
          48,
          47,
          46,
          46,
          46,
          25,
          46,
          48,
          47,
          48,
          46,
          23,
          43,
          46,
          48,
          22,
          46,
          37,
          45,
          48,
          21,
          47,
          46,
          48,
          19,
          21,
          50,
          42,
          48,
          43,
          42,
          21,
          51,
          43,
          41,
          42,
          42,
          23,
          21,
          16,
          45,
          49,
          50,
          42,
          41,
          22,
          25,
          22,
          53,
          77,
          20,
          22,
          41,
          58,
          51,
          11,
          43,
          22,
          21,
          48,
          48,
          21,
          41,
          44,
          48,
          54,
          18,
          43,
          43,
          59,
          42,
          24,
          56,
          48,
          13,
          44,
          51,
          41,
          51,
          21,
          44,
          22,
          48,
          40,
          45,
          48,
          49,
          43,
          44,
          22,
          51,
          33,
          21,
          41,
          15,
          22,
          51,
          22,
          3,
          46,
          21,
          46,
          20,
          40,
          44,
          48,
          3,
          21,
          21,
          41,
          10,
          44,
          51,
          45,
          43,
          48,
          44,
          42,
          20,
          44,
          48,
          48,
          48,
          2,
          48,
          57,
          45,
          43,
          42,
          26,
          49,
          19,
          44,
          61,
          22,
          20,
          50,
          21,
          23,
          13,
          21,
          23,
          14,
          45,
          41,
          16,
          40,
          43,
          21,
          22,
          39,
          38,
          22,
          39,
          41,
          12,
          13,
          48,
          52,
          40,
          34,
          33,
          43,
          44,
          40,
          18,
          43,
          51,
          21,
          12,
          22,
          21,
          23,
          48,
          44,
          16,
          46,
          23,
          44,
          46,
          48,
          49,
          44,
          51,
          51,
          40,
          44,
          44,
          6,
          44,
          51,
          27,
          45,
          43,
          6,
          41,
          44,
          51,
          44,
          42,
          44,
          44,
          59,
          52,
          56,
          53,
          21,
          55,
          52,
          43,
          21,
          44,
          42,
          45,
          24,
          42,
          43,
          33,
          19,
          48,
          22,
          45,
          65,
          47,
          23,
          50,
          48,
          38,
          24,
          32,
          45,
          44,
          52,
          44,
          44,
          17,
          28,
          44,
          20,
          51,
          43,
          49,
          44,
          43,
          24,
          44,
          21,
          44,
          44,
          43,
          40
         ],
         "x0": " ",
         "xaxis": "x",
         "y": [
          "Paramount",
          "Paramount",
          "Paramount",
          "Paramount",
          "Paramount",
          "Paramount",
          "Paramount",
          "Paramount",
          "Paramount",
          "Paramount",
          "Paramount",
          "Paramount",
          "Paramount",
          "Paramount",
          "Paramount",
          "Paramount",
          "Paramount",
          "Paramount",
          "Paramount",
          "Paramount",
          "Paramount",
          "Paramount",
          "Paramount",
          "Paramount",
          "Paramount",
          "Paramount",
          "Paramount",
          "Paramount",
          "Paramount",
          "Paramount",
          "Paramount",
          "Paramount",
          "Paramount",
          "Paramount",
          "Paramount",
          "Paramount",
          "Paramount",
          "Paramount",
          "Paramount",
          "Paramount",
          "Paramount",
          "Paramount",
          "Paramount",
          "Paramount",
          "Paramount",
          "Paramount",
          "Paramount",
          "Paramount",
          "Paramount",
          "Paramount",
          "Paramount",
          "Paramount",
          "Paramount",
          "Paramount",
          "Paramount",
          "Paramount",
          "Paramount",
          "Paramount",
          "Paramount",
          "Paramount",
          "Paramount",
          "Paramount",
          "Paramount",
          "Paramount",
          "Paramount",
          "Paramount",
          "Paramount",
          "Paramount",
          "Paramount",
          "Paramount",
          "Paramount",
          "Paramount",
          "Paramount",
          "Paramount",
          "Paramount",
          "Paramount",
          "Paramount",
          "Paramount",
          "Paramount",
          "Paramount",
          "Paramount",
          "Paramount",
          "Paramount",
          "Paramount",
          "Paramount",
          "Paramount",
          "Paramount",
          "Paramount",
          "Paramount",
          "Paramount",
          "Paramount",
          "Paramount",
          "Paramount",
          "Paramount",
          "Paramount",
          "Paramount",
          "Paramount",
          "Paramount",
          "Paramount",
          "Paramount",
          "Paramount",
          "Paramount",
          "Paramount",
          "Paramount",
          "Paramount",
          "Paramount",
          "Paramount",
          "Paramount",
          "Paramount",
          "Paramount",
          "Paramount",
          "Paramount",
          "Paramount",
          "Paramount",
          "Paramount",
          "Paramount",
          "Paramount",
          "Paramount",
          "Paramount",
          "Paramount",
          "Paramount",
          "Paramount",
          "Paramount",
          "Paramount",
          "Paramount",
          "Paramount",
          "Paramount",
          "Paramount",
          "Paramount",
          "Paramount",
          "Paramount",
          "Paramount",
          "Paramount",
          "Paramount",
          "Paramount",
          "Paramount",
          "Paramount",
          "Paramount",
          "Paramount",
          "Paramount",
          "Paramount",
          "Paramount",
          "Paramount",
          "Paramount",
          "Paramount",
          "Paramount",
          "Paramount",
          "Paramount",
          "Paramount",
          "Paramount",
          "Paramount",
          "Paramount",
          "Paramount",
          "Paramount",
          "Paramount",
          "Paramount",
          "Paramount",
          "Paramount",
          "Paramount",
          "Paramount",
          "Paramount",
          "Paramount",
          "Paramount",
          "Paramount",
          "Paramount",
          "Paramount",
          "Paramount",
          "Paramount",
          "Paramount",
          "Paramount",
          "Paramount",
          "Paramount",
          "Paramount",
          "Paramount",
          "Paramount",
          "Paramount",
          "Paramount",
          "Paramount",
          "Paramount",
          "Paramount",
          "Paramount",
          "Paramount",
          "Paramount",
          "Paramount",
          "Paramount",
          "Paramount",
          "Paramount",
          "Paramount",
          "Paramount",
          "Paramount",
          "Paramount",
          "Paramount",
          "Paramount",
          "Paramount",
          "Paramount",
          "Paramount",
          "Paramount",
          "Paramount",
          "Paramount",
          "Paramount",
          "Paramount",
          "Paramount",
          "Paramount",
          "Paramount",
          "Paramount",
          "Paramount",
          "Paramount",
          "Paramount",
          "Paramount",
          "Paramount",
          "Paramount",
          "Paramount",
          "Paramount",
          "Paramount",
          "Paramount",
          "Paramount",
          "Paramount",
          "Paramount",
          "Paramount",
          "Paramount",
          "Paramount",
          "Paramount",
          "Paramount",
          "Paramount",
          "Paramount",
          "Paramount",
          "Paramount",
          "Paramount",
          "Paramount",
          "Paramount",
          "Paramount",
          "Paramount",
          "Paramount",
          "Paramount",
          "Paramount",
          "Paramount",
          "Paramount",
          "Paramount",
          "Paramount",
          "Paramount",
          "Paramount",
          "Paramount",
          "Paramount",
          "Paramount",
          "Paramount",
          "Paramount",
          "Paramount",
          "Paramount",
          "Paramount",
          "Paramount",
          "Paramount",
          "Paramount",
          "Paramount",
          "Paramount",
          "Paramount",
          "Paramount",
          "Paramount",
          "Paramount",
          "Paramount",
          "Paramount",
          "Paramount",
          "Paramount",
          "Paramount",
          "Paramount",
          "Paramount",
          "Paramount",
          "Paramount",
          "Paramount",
          "Paramount",
          "Paramount",
          "Paramount",
          "Paramount",
          "Paramount",
          "Paramount",
          "Paramount",
          "Paramount",
          "Paramount",
          "Paramount",
          "Paramount",
          "Paramount",
          "Paramount",
          "Paramount",
          "Paramount",
          "Paramount",
          "Paramount",
          "Paramount",
          "Paramount",
          "Paramount",
          "Paramount",
          "Paramount",
          "Paramount",
          "Paramount",
          "Paramount",
          "Paramount",
          "Paramount",
          "Paramount",
          "Paramount",
          "Paramount",
          "Paramount",
          "Paramount",
          "Paramount",
          "Paramount",
          "Paramount",
          "Paramount",
          "Paramount",
          "Paramount",
          "Paramount",
          "Paramount",
          "Paramount",
          "Paramount",
          "Paramount",
          "Paramount",
          "Paramount",
          "Paramount",
          "Paramount",
          "Paramount",
          "Paramount",
          "Paramount",
          "Paramount",
          "Paramount",
          "Paramount",
          "Paramount",
          "Paramount",
          "Paramount",
          "Paramount",
          "Paramount",
          "Paramount",
          "Paramount",
          "Paramount",
          "Paramount",
          "Paramount",
          "Paramount",
          "Paramount",
          "Paramount",
          "Paramount",
          "Paramount",
          "Paramount",
          "Paramount",
          "Paramount",
          "Paramount",
          "Paramount",
          "Paramount",
          "Paramount",
          "Paramount",
          "Paramount",
          "Paramount",
          "Paramount",
          "Paramount",
          "Paramount",
          "Paramount",
          "Paramount",
          "Paramount",
          "Paramount",
          "Paramount",
          "Paramount",
          "Paramount",
          "Paramount",
          "Paramount",
          "Paramount",
          "Paramount",
          "Paramount",
          "Paramount",
          "Paramount",
          "Paramount",
          "Paramount",
          "Paramount",
          "Paramount",
          "Paramount",
          "Paramount",
          "Paramount",
          "Paramount",
          "Paramount",
          "Paramount",
          "Paramount",
          "Paramount",
          "Paramount",
          "Paramount",
          "Paramount",
          "Paramount",
          "Paramount",
          "Paramount",
          "Paramount",
          "Paramount",
          "Paramount",
          "Paramount",
          "Paramount",
          "Paramount",
          "Paramount",
          "Paramount",
          "Paramount",
          "Paramount",
          "Paramount",
          "Paramount",
          "Paramount",
          "Paramount",
          "Paramount",
          "Paramount",
          "Paramount",
          "Paramount",
          "Paramount",
          "Paramount",
          "Paramount",
          "Paramount",
          "Paramount",
          "Paramount",
          "Paramount",
          "Paramount",
          "Paramount",
          "Paramount",
          "Paramount",
          "Paramount",
          "Paramount",
          "Paramount",
          "Paramount",
          "Paramount",
          "Paramount",
          "Paramount",
          "Paramount",
          "Paramount",
          "Paramount",
          "Paramount",
          "Paramount",
          "Paramount",
          "Paramount",
          "Paramount",
          "Paramount",
          "Paramount",
          "Paramount",
          "Paramount",
          "Paramount",
          "Paramount",
          "Paramount",
          "Paramount",
          "Paramount",
          "Paramount",
          "Paramount",
          "Paramount",
          "Paramount",
          "Paramount",
          "Paramount",
          "Paramount",
          "Paramount",
          "Paramount",
          "Paramount",
          "Paramount",
          "Paramount",
          "Paramount",
          "Paramount",
          "Paramount",
          "Paramount",
          "Paramount",
          "Paramount",
          "Paramount",
          "Paramount",
          "Paramount",
          "Paramount",
          "Paramount",
          "Paramount",
          "Paramount",
          "Paramount",
          "Paramount",
          "Paramount",
          "Paramount",
          "Paramount",
          "Paramount",
          "Paramount",
          "Paramount",
          "Paramount",
          "Paramount",
          "Paramount",
          "Paramount",
          "Paramount",
          "Paramount",
          "Paramount",
          "Paramount",
          "Paramount",
          "Paramount",
          "Paramount",
          "Paramount",
          "Paramount",
          "Paramount",
          "Paramount",
          "Paramount",
          "Paramount",
          "Paramount",
          "Paramount",
          "Paramount",
          "Paramount",
          "Paramount",
          "Paramount",
          "Paramount",
          "Paramount",
          "Paramount",
          "Paramount",
          "Paramount",
          "Paramount",
          "Paramount",
          "Paramount",
          "Paramount",
          "Paramount",
          "Paramount",
          "Paramount",
          "Paramount",
          "Paramount",
          "Paramount",
          "Paramount",
          "Paramount",
          "Paramount",
          "Paramount",
          "Paramount",
          "Paramount",
          "Paramount",
          "Paramount",
          "Paramount",
          "Paramount",
          "Paramount",
          "Paramount",
          "Paramount",
          "Paramount",
          "Paramount",
          "Paramount",
          "Paramount",
          "Paramount",
          "Paramount",
          "Paramount",
          "Paramount",
          "Paramount",
          "Paramount",
          "Paramount",
          "Paramount",
          "Paramount",
          "Paramount",
          "Paramount",
          "Paramount",
          "Paramount",
          "Paramount",
          "Paramount",
          "Paramount",
          "Paramount",
          "Paramount",
          "Paramount",
          "Paramount",
          "Paramount",
          "Paramount",
          "Paramount",
          "Paramount",
          "Paramount",
          "Paramount",
          "Paramount",
          "Paramount",
          "Paramount",
          "Paramount",
          "Paramount",
          "Paramount",
          "Paramount",
          "Paramount",
          "Paramount",
          "Paramount",
          "Paramount",
          "Paramount",
          "Paramount",
          "Paramount",
          "Paramount",
          "Paramount",
          "Paramount",
          "Paramount",
          "Paramount",
          "Paramount",
          "Paramount",
          "Paramount",
          "Paramount",
          "Paramount",
          "Paramount",
          "Paramount",
          "Paramount",
          "Paramount",
          "Paramount",
          "Paramount",
          "Paramount",
          "Paramount",
          "Paramount",
          "Paramount",
          "Paramount",
          "Paramount",
          "Paramount",
          "Paramount",
          "Paramount",
          "Paramount",
          "Paramount",
          "Paramount",
          "Paramount",
          "Paramount",
          "Paramount",
          "Paramount",
          "Paramount",
          "Paramount",
          "Paramount",
          "Paramount",
          "Paramount",
          "Paramount",
          "Paramount",
          "Paramount",
          "Paramount",
          "Paramount",
          "Paramount",
          "Paramount",
          "Paramount",
          "Paramount",
          "Paramount",
          "Paramount",
          "Paramount",
          "Paramount",
          "Paramount",
          "Paramount",
          "Paramount",
          "Paramount",
          "Paramount",
          "Paramount",
          "Paramount",
          "Paramount",
          "Paramount",
          "Paramount",
          "Paramount",
          "Paramount",
          "Paramount",
          "Paramount"
         ],
         "y0": " ",
         "yaxis": "y"
        }
       ],
       "layout": {
        "boxmode": "overlay",
        "font": {
         "color": "#FFFFFF",
         "family": "Arial"
        },
        "legend": {
         "title": {
          "text": "Plataforma"
         },
         "tracegroupgap": 0
        },
        "paper_bgcolor": "#000000",
        "plot_bgcolor": "#000000",
        "shapes": [
         {
          "line": {
           "color": "white",
           "dash": "dot",
           "width": 1
          },
          "type": "line",
          "x0": 35,
          "x1": 35,
          "xref": "x",
          "y0": 0,
          "y1": 1,
          "yref": "y domain"
         }
        ],
        "showlegend": true,
        "template": {
         "data": {
          "bar": [
           {
            "error_x": {
             "color": "#2a3f5f"
            },
            "error_y": {
             "color": "#2a3f5f"
            },
            "marker": {
             "line": {
              "color": "#E5ECF6",
              "width": 0.5
             },
             "pattern": {
              "fillmode": "overlay",
              "size": 10,
              "solidity": 0.2
             }
            },
            "type": "bar"
           }
          ],
          "barpolar": [
           {
            "marker": {
             "line": {
              "color": "#E5ECF6",
              "width": 0.5
             },
             "pattern": {
              "fillmode": "overlay",
              "size": 10,
              "solidity": 0.2
             }
            },
            "type": "barpolar"
           }
          ],
          "carpet": [
           {
            "aaxis": {
             "endlinecolor": "#2a3f5f",
             "gridcolor": "white",
             "linecolor": "white",
             "minorgridcolor": "white",
             "startlinecolor": "#2a3f5f"
            },
            "baxis": {
             "endlinecolor": "#2a3f5f",
             "gridcolor": "white",
             "linecolor": "white",
             "minorgridcolor": "white",
             "startlinecolor": "#2a3f5f"
            },
            "type": "carpet"
           }
          ],
          "choropleth": [
           {
            "colorbar": {
             "outlinewidth": 0,
             "ticks": ""
            },
            "type": "choropleth"
           }
          ],
          "contour": [
           {
            "colorbar": {
             "outlinewidth": 0,
             "ticks": ""
            },
            "colorscale": [
             [
              0,
              "#0d0887"
             ],
             [
              0.1111111111111111,
              "#46039f"
             ],
             [
              0.2222222222222222,
              "#7201a8"
             ],
             [
              0.3333333333333333,
              "#9c179e"
             ],
             [
              0.4444444444444444,
              "#bd3786"
             ],
             [
              0.5555555555555556,
              "#d8576b"
             ],
             [
              0.6666666666666666,
              "#ed7953"
             ],
             [
              0.7777777777777778,
              "#fb9f3a"
             ],
             [
              0.8888888888888888,
              "#fdca26"
             ],
             [
              1,
              "#f0f921"
             ]
            ],
            "type": "contour"
           }
          ],
          "contourcarpet": [
           {
            "colorbar": {
             "outlinewidth": 0,
             "ticks": ""
            },
            "type": "contourcarpet"
           }
          ],
          "heatmap": [
           {
            "colorbar": {
             "outlinewidth": 0,
             "ticks": ""
            },
            "colorscale": [
             [
              0,
              "#0d0887"
             ],
             [
              0.1111111111111111,
              "#46039f"
             ],
             [
              0.2222222222222222,
              "#7201a8"
             ],
             [
              0.3333333333333333,
              "#9c179e"
             ],
             [
              0.4444444444444444,
              "#bd3786"
             ],
             [
              0.5555555555555556,
              "#d8576b"
             ],
             [
              0.6666666666666666,
              "#ed7953"
             ],
             [
              0.7777777777777778,
              "#fb9f3a"
             ],
             [
              0.8888888888888888,
              "#fdca26"
             ],
             [
              1,
              "#f0f921"
             ]
            ],
            "type": "heatmap"
           }
          ],
          "heatmapgl": [
           {
            "colorbar": {
             "outlinewidth": 0,
             "ticks": ""
            },
            "colorscale": [
             [
              0,
              "#0d0887"
             ],
             [
              0.1111111111111111,
              "#46039f"
             ],
             [
              0.2222222222222222,
              "#7201a8"
             ],
             [
              0.3333333333333333,
              "#9c179e"
             ],
             [
              0.4444444444444444,
              "#bd3786"
             ],
             [
              0.5555555555555556,
              "#d8576b"
             ],
             [
              0.6666666666666666,
              "#ed7953"
             ],
             [
              0.7777777777777778,
              "#fb9f3a"
             ],
             [
              0.8888888888888888,
              "#fdca26"
             ],
             [
              1,
              "#f0f921"
             ]
            ],
            "type": "heatmapgl"
           }
          ],
          "histogram": [
           {
            "marker": {
             "pattern": {
              "fillmode": "overlay",
              "size": 10,
              "solidity": 0.2
             }
            },
            "type": "histogram"
           }
          ],
          "histogram2d": [
           {
            "colorbar": {
             "outlinewidth": 0,
             "ticks": ""
            },
            "colorscale": [
             [
              0,
              "#0d0887"
             ],
             [
              0.1111111111111111,
              "#46039f"
             ],
             [
              0.2222222222222222,
              "#7201a8"
             ],
             [
              0.3333333333333333,
              "#9c179e"
             ],
             [
              0.4444444444444444,
              "#bd3786"
             ],
             [
              0.5555555555555556,
              "#d8576b"
             ],
             [
              0.6666666666666666,
              "#ed7953"
             ],
             [
              0.7777777777777778,
              "#fb9f3a"
             ],
             [
              0.8888888888888888,
              "#fdca26"
             ],
             [
              1,
              "#f0f921"
             ]
            ],
            "type": "histogram2d"
           }
          ],
          "histogram2dcontour": [
           {
            "colorbar": {
             "outlinewidth": 0,
             "ticks": ""
            },
            "colorscale": [
             [
              0,
              "#0d0887"
             ],
             [
              0.1111111111111111,
              "#46039f"
             ],
             [
              0.2222222222222222,
              "#7201a8"
             ],
             [
              0.3333333333333333,
              "#9c179e"
             ],
             [
              0.4444444444444444,
              "#bd3786"
             ],
             [
              0.5555555555555556,
              "#d8576b"
             ],
             [
              0.6666666666666666,
              "#ed7953"
             ],
             [
              0.7777777777777778,
              "#fb9f3a"
             ],
             [
              0.8888888888888888,
              "#fdca26"
             ],
             [
              1,
              "#f0f921"
             ]
            ],
            "type": "histogram2dcontour"
           }
          ],
          "mesh3d": [
           {
            "colorbar": {
             "outlinewidth": 0,
             "ticks": ""
            },
            "type": "mesh3d"
           }
          ],
          "parcoords": [
           {
            "line": {
             "colorbar": {
              "outlinewidth": 0,
              "ticks": ""
             }
            },
            "type": "parcoords"
           }
          ],
          "pie": [
           {
            "automargin": true,
            "type": "pie"
           }
          ],
          "scatter": [
           {
            "fillpattern": {
             "fillmode": "overlay",
             "size": 10,
             "solidity": 0.2
            },
            "type": "scatter"
           }
          ],
          "scatter3d": [
           {
            "line": {
             "colorbar": {
              "outlinewidth": 0,
              "ticks": ""
             }
            },
            "marker": {
             "colorbar": {
              "outlinewidth": 0,
              "ticks": ""
             }
            },
            "type": "scatter3d"
           }
          ],
          "scattercarpet": [
           {
            "marker": {
             "colorbar": {
              "outlinewidth": 0,
              "ticks": ""
             }
            },
            "type": "scattercarpet"
           }
          ],
          "scattergeo": [
           {
            "marker": {
             "colorbar": {
              "outlinewidth": 0,
              "ticks": ""
             }
            },
            "type": "scattergeo"
           }
          ],
          "scattergl": [
           {
            "marker": {
             "colorbar": {
              "outlinewidth": 0,
              "ticks": ""
             }
            },
            "type": "scattergl"
           }
          ],
          "scattermapbox": [
           {
            "marker": {
             "colorbar": {
              "outlinewidth": 0,
              "ticks": ""
             }
            },
            "type": "scattermapbox"
           }
          ],
          "scatterpolar": [
           {
            "marker": {
             "colorbar": {
              "outlinewidth": 0,
              "ticks": ""
             }
            },
            "type": "scatterpolar"
           }
          ],
          "scatterpolargl": [
           {
            "marker": {
             "colorbar": {
              "outlinewidth": 0,
              "ticks": ""
             }
            },
            "type": "scatterpolargl"
           }
          ],
          "scatterternary": [
           {
            "marker": {
             "colorbar": {
              "outlinewidth": 0,
              "ticks": ""
             }
            },
            "type": "scatterternary"
           }
          ],
          "surface": [
           {
            "colorbar": {
             "outlinewidth": 0,
             "ticks": ""
            },
            "colorscale": [
             [
              0,
              "#0d0887"
             ],
             [
              0.1111111111111111,
              "#46039f"
             ],
             [
              0.2222222222222222,
              "#7201a8"
             ],
             [
              0.3333333333333333,
              "#9c179e"
             ],
             [
              0.4444444444444444,
              "#bd3786"
             ],
             [
              0.5555555555555556,
              "#d8576b"
             ],
             [
              0.6666666666666666,
              "#ed7953"
             ],
             [
              0.7777777777777778,
              "#fb9f3a"
             ],
             [
              0.8888888888888888,
              "#fdca26"
             ],
             [
              1,
              "#f0f921"
             ]
            ],
            "type": "surface"
           }
          ],
          "table": [
           {
            "cells": {
             "fill": {
              "color": "#EBF0F8"
             },
             "line": {
              "color": "white"
             }
            },
            "header": {
             "fill": {
              "color": "#C8D4E3"
             },
             "line": {
              "color": "white"
             }
            },
            "type": "table"
           }
          ]
         },
         "layout": {
          "annotationdefaults": {
           "arrowcolor": "#2a3f5f",
           "arrowhead": 0,
           "arrowwidth": 1
          },
          "autotypenumbers": "strict",
          "coloraxis": {
           "colorbar": {
            "outlinewidth": 0,
            "ticks": ""
           }
          },
          "colorscale": {
           "diverging": [
            [
             0,
             "#8e0152"
            ],
            [
             0.1,
             "#c51b7d"
            ],
            [
             0.2,
             "#de77ae"
            ],
            [
             0.3,
             "#f1b6da"
            ],
            [
             0.4,
             "#fde0ef"
            ],
            [
             0.5,
             "#f7f7f7"
            ],
            [
             0.6,
             "#e6f5d0"
            ],
            [
             0.7,
             "#b8e186"
            ],
            [
             0.8,
             "#7fbc41"
            ],
            [
             0.9,
             "#4d9221"
            ],
            [
             1,
             "#276419"
            ]
           ],
           "sequential": [
            [
             0,
             "#0d0887"
            ],
            [
             0.1111111111111111,
             "#46039f"
            ],
            [
             0.2222222222222222,
             "#7201a8"
            ],
            [
             0.3333333333333333,
             "#9c179e"
            ],
            [
             0.4444444444444444,
             "#bd3786"
            ],
            [
             0.5555555555555556,
             "#d8576b"
            ],
            [
             0.6666666666666666,
             "#ed7953"
            ],
            [
             0.7777777777777778,
             "#fb9f3a"
            ],
            [
             0.8888888888888888,
             "#fdca26"
            ],
            [
             1,
             "#f0f921"
            ]
           ],
           "sequentialminus": [
            [
             0,
             "#0d0887"
            ],
            [
             0.1111111111111111,
             "#46039f"
            ],
            [
             0.2222222222222222,
             "#7201a8"
            ],
            [
             0.3333333333333333,
             "#9c179e"
            ],
            [
             0.4444444444444444,
             "#bd3786"
            ],
            [
             0.5555555555555556,
             "#d8576b"
            ],
            [
             0.6666666666666666,
             "#ed7953"
            ],
            [
             0.7777777777777778,
             "#fb9f3a"
            ],
            [
             0.8888888888888888,
             "#fdca26"
            ],
            [
             1,
             "#f0f921"
            ]
           ]
          },
          "colorway": [
           "#636efa",
           "#EF553B",
           "#00cc96",
           "#ab63fa",
           "#FFA15A",
           "#19d3f3",
           "#FF6692",
           "#B6E880",
           "#FF97FF",
           "#FECB52"
          ],
          "font": {
           "color": "#2a3f5f"
          },
          "geo": {
           "bgcolor": "white",
           "lakecolor": "white",
           "landcolor": "#E5ECF6",
           "showlakes": true,
           "showland": true,
           "subunitcolor": "white"
          },
          "hoverlabel": {
           "align": "left"
          },
          "hovermode": "closest",
          "mapbox": {
           "style": "light"
          },
          "paper_bgcolor": "white",
          "plot_bgcolor": "#E5ECF6",
          "polar": {
           "angularaxis": {
            "gridcolor": "white",
            "linecolor": "white",
            "ticks": ""
           },
           "bgcolor": "#E5ECF6",
           "radialaxis": {
            "gridcolor": "white",
            "linecolor": "white",
            "ticks": ""
           }
          },
          "scene": {
           "xaxis": {
            "backgroundcolor": "#E5ECF6",
            "gridcolor": "white",
            "gridwidth": 2,
            "linecolor": "white",
            "showbackground": true,
            "ticks": "",
            "zerolinecolor": "white"
           },
           "yaxis": {
            "backgroundcolor": "#E5ECF6",
            "gridcolor": "white",
            "gridwidth": 2,
            "linecolor": "white",
            "showbackground": true,
            "ticks": "",
            "zerolinecolor": "white"
           },
           "zaxis": {
            "backgroundcolor": "#E5ECF6",
            "gridcolor": "white",
            "gridwidth": 2,
            "linecolor": "white",
            "showbackground": true,
            "ticks": "",
            "zerolinecolor": "white"
           }
          },
          "shapedefaults": {
           "line": {
            "color": "#2a3f5f"
           }
          },
          "ternary": {
           "aaxis": {
            "gridcolor": "white",
            "linecolor": "white",
            "ticks": ""
           },
           "baxis": {
            "gridcolor": "white",
            "linecolor": "white",
            "ticks": ""
           },
           "bgcolor": "#E5ECF6",
           "caxis": {
            "gridcolor": "white",
            "linecolor": "white",
            "ticks": ""
           }
          },
          "title": {
           "x": 0.05
          },
          "xaxis": {
           "automargin": true,
           "gridcolor": "white",
           "linecolor": "white",
           "ticks": "",
           "title": {
            "standoff": 15
           },
           "zerolinecolor": "white",
           "zerolinewidth": 2
          },
          "yaxis": {
           "automargin": true,
           "gridcolor": "white",
           "linecolor": "white",
           "ticks": "",
           "title": {
            "standoff": 15
           },
           "zerolinecolor": "white",
           "zerolinewidth": 2
          }
         }
        },
        "title": {
         "font": {
          "family": "Arial"
         },
         "text": "<b>Duracion - Plataformas"
        },
        "xaxis": {
         "anchor": "y",
         "domain": [
          0,
          1
         ],
         "range": [
          0,
          250
         ],
         "showticklabels": true,
         "title": {
          "text": "Duracion"
         },
         "visible": false
        },
        "yaxis": {
         "anchor": "x",
         "categoryarray": [
          "Paramount",
          "Disney",
          "Hulu",
          "HBO",
          "Netflix",
          "Amazon"
         ],
         "categoryorder": "array",
         "domain": [
          0,
          1
         ],
         "title": {
          "text": "Plataforma"
         },
         "visible": false
        }
       }
      }
     },
     "metadata": {},
     "output_type": "display_data"
    }
   ],
   "source": [
    "# BOX PLOT DURACION x Plataforma:\n",
    "\n",
    "fig = px.box(duracion, x='Duracion', y='Plataforma', color='Plataforma',\n",
    "color_discrete_map={'Amazon': '#FFBD00', 'Netflix': '#D10600', \n",
    "'HBO': '#460076', 'hulu':'#98FF93', 'Disney':'#3800C2', 'Paramount':'#FFFFFF'}, # No se porque hulu aparece en rosa\n",
    "title = \"<b>Duracion - Plataformas\",\n",
    "points='outliers', range_x=(0, 250))  # Para quitar los outliers de + de 300 min de Amazon -- se veía mal el gráfico\n",
    "\n",
    "fig.update_layout(font_family = 'Arial', title_font_family='Arial', font_color = '#FFFFFF', \n",
    "plot_bgcolor='#000000', paper_bgcolor='#000000',showlegend=True)\n",
    "\n",
    "fig.update_traces(quartilemethod=\"exclusive\") # or \"inclusive\", or \"linear\" by default\n",
    "\n",
    "fig.add_vline(x=35, line_width=1, line_dash=\"dot\", line_color=\"white\")\n",
    "\n",
    "fig.update_xaxes(visible = False,\n",
    "    showticklabels=True)\n",
    "\n",
    "fig.update_yaxes(visible = False)\n",
    "\n",
    "fig.show()"
   ]
  },
  {
   "cell_type": "code",
   "execution_count": 183,
   "metadata": {},
   "outputs": [],
   "source": [
    "# EVOLUCION DE LA DURACION DEL CONTENIDO A LO LARGO DE LAS DECADAS\n",
    "\n",
    "evol_duracion = df_todos[['Plataforma','Duracion', 'Decada']]\n",
    "evol_duracion = round(evol_duracion.groupby(['Plataforma', 'Decada']).mean(), 2)\n",
    "evol_duracion.columns = ['Media']\n",
    "evol_duracion = evol_duracion.reset_index()\n",
    "evol_duracion = evol_duracion.sort_values(by='Decada', ascending=True)"
   ]
  },
  {
   "cell_type": "code",
   "execution_count": 184,
   "metadata": {},
   "outputs": [
    {
     "data": {
      "application/vnd.plotly.v1+json": {
       "config": {
        "plotlyServerURL": "https://plot.ly"
       },
       "data": [
        {
         "alignmentgroup": "True",
         "hovertemplate": "Plataforma=Amazon<br>Decada=%{x}<br>Media=%{text}<extra></extra>",
         "legendgroup": "Amazon",
         "marker": {
          "color": "#9B9B9B",
          "line": {
           "color": "black",
           "width": 0.5
          },
          "pattern": {
           "shape": ""
          }
         },
         "name": "Amazon",
         "offsetgroup": "Amazon",
         "orientation": "v",
         "showlegend": true,
         "text": [
          19,
          26.45,
          31.82,
          49.69,
          31.39,
          34.14,
          33.69,
          35.44,
          38.82
         ],
         "textposition": "auto",
         "texttemplate": "%{text:.f}",
         "type": "bar",
         "x": [
          "1930s",
          "1950s",
          "1960s",
          "1970s",
          "1980s",
          "1990s",
          "2000s",
          "2010s",
          "2020s"
         ],
         "xaxis": "x",
         "y": [
          19,
          26.45,
          31.82,
          49.69,
          31.39,
          34.14,
          33.69,
          35.44,
          38.82
         ],
         "yaxis": "y"
        },
        {
         "alignmentgroup": "True",
         "hovertemplate": "Plataforma=Netflix<br>Decada=%{x}<br>Media=%{text}<extra></extra>",
         "legendgroup": "Netflix",
         "marker": {
          "color": "#D10600",
          "line": {
           "color": "black",
           "width": 0.5
          },
          "pattern": {
           "shape": ""
          }
         },
         "name": "Netflix",
         "offsetgroup": "Netflix",
         "orientation": "v",
         "showlegend": true,
         "text": [
          48,
          30,
          43,
          25.89,
          26.91,
          36.42,
          38.66,
          39.97
         ],
         "textposition": "auto",
         "texttemplate": "%{text:.f}",
         "type": "bar",
         "x": [
          "1940s",
          "1960s",
          "1970s",
          "1980s",
          "1990s",
          "2000s",
          "2010s",
          "2020s"
         ],
         "xaxis": "x",
         "y": [
          48,
          30,
          43,
          25.89,
          26.91,
          36.42,
          38.66,
          39.97
         ],
         "yaxis": "y"
        },
        {
         "alignmentgroup": "True",
         "hovertemplate": "Plataforma=HBO<br>Decada=%{x}<br>Media=%{text}<extra></extra>",
         "legendgroup": "HBO",
         "marker": {
          "color": "#460076",
          "line": {
           "color": "black",
           "width": 0.5
          },
          "pattern": {
           "shape": ""
          }
         },
         "name": "HBO",
         "offsetgroup": "HBO",
         "orientation": "v",
         "showlegend": true,
         "text": [
          8,
          28.33,
          33,
          29.29,
          30.21,
          35.56,
          35.33,
          39.85
         ],
         "textposition": "auto",
         "texttemplate": "%{text:.f}",
         "type": "bar",
         "x": [
          "1940s",
          "1960s",
          "1970s",
          "1980s",
          "1990s",
          "2000s",
          "2010s",
          "2020s"
         ],
         "xaxis": "x",
         "y": [
          8,
          28.33,
          33,
          29.29,
          30.21,
          35.56,
          35.33,
          39.85
         ],
         "yaxis": "y"
        },
        {
         "alignmentgroup": "True",
         "hovertemplate": "Plataforma=Hulu<br>Decada=%{x}<br>Media=%{text}<extra></extra>",
         "legendgroup": "Hulu",
         "marker": {
          "color": "#FF6692",
          "line": {
           "color": "black",
           "width": 0.5
          },
          "pattern": {
           "shape": ""
          }
         },
         "name": "Hulu",
         "offsetgroup": "Hulu",
         "orientation": "v",
         "showlegend": true,
         "text": [
          36.5,
          35,
          37,
          33.14,
          31.82,
          34.46,
          33.85,
          36.61
         ],
         "textposition": "auto",
         "texttemplate": "%{text:.f}",
         "type": "bar",
         "x": [
          "1950s",
          "1960s",
          "1970s",
          "1980s",
          "1990s",
          "2000s",
          "2010s",
          "2020s"
         ],
         "xaxis": "x",
         "y": [
          36.5,
          35,
          37,
          33.14,
          31.82,
          34.46,
          33.85,
          36.61
         ],
         "yaxis": "y"
        },
        {
         "alignmentgroup": "True",
         "hovertemplate": "Plataforma=Paramount<br>Decada=%{x}<br>Media=%{text}<extra></extra>",
         "legendgroup": "Paramount",
         "marker": {
          "color": "#FFFFFF",
          "line": {
           "color": "black",
           "width": 0.5
          },
          "pattern": {
           "shape": ""
          }
         },
         "name": "Paramount",
         "offsetgroup": "Paramount",
         "orientation": "v",
         "showlegend": true,
         "text": [
          35.67,
          46.6,
          33.33,
          30.75,
          27.64,
          30.45,
          35.11,
          37.73
         ],
         "textposition": "auto",
         "texttemplate": "%{text:.f}",
         "type": "bar",
         "x": [
          "1950s",
          "1960s",
          "1970s",
          "1980s",
          "1990s",
          "2000s",
          "2010s",
          "2020s"
         ],
         "xaxis": "x",
         "y": [
          35.67,
          46.6,
          33.33,
          30.75,
          27.64,
          30.45,
          35.11,
          37.73
         ],
         "yaxis": "y"
        },
        {
         "alignmentgroup": "True",
         "hovertemplate": "Plataforma=Disney<br>Decada=%{x}<br>Media=%{text}<extra></extra>",
         "legendgroup": "Disney",
         "marker": {
          "color": "#3800C2",
          "line": {
           "color": "black",
           "width": 0.5
          },
          "pattern": {
           "shape": ""
          }
         },
         "name": "Disney",
         "offsetgroup": "Disney",
         "orientation": "v",
         "showlegend": true,
         "text": [
          21.5,
          16.33,
          25.9,
          22.07,
          23.61,
          26.94,
          33.01
         ],
         "textposition": "auto",
         "texttemplate": "%{text:.f}",
         "type": "bar",
         "x": [
          "1950s",
          "1970s",
          "1980s",
          "1990s",
          "2000s",
          "2010s",
          "2020s"
         ],
         "xaxis": "x",
         "y": [
          21.5,
          16.33,
          25.9,
          22.07,
          23.61,
          26.94,
          33.01
         ],
         "yaxis": "y"
        }
       ],
       "layout": {
        "barmode": "group",
        "font": {
         "color": "#FFFFFF",
         "family": "Arial"
        },
        "legend": {
         "title": {
          "text": "Plataforma"
         },
         "tracegroupgap": 0
        },
        "paper_bgcolor": "#000000",
        "plot_bgcolor": "#000000",
        "showlegend": false,
        "template": {
         "data": {
          "bar": [
           {
            "error_x": {
             "color": "#2a3f5f"
            },
            "error_y": {
             "color": "#2a3f5f"
            },
            "marker": {
             "line": {
              "color": "#E5ECF6",
              "width": 0.5
             },
             "pattern": {
              "fillmode": "overlay",
              "size": 10,
              "solidity": 0.2
             }
            },
            "type": "bar"
           }
          ],
          "barpolar": [
           {
            "marker": {
             "line": {
              "color": "#E5ECF6",
              "width": 0.5
             },
             "pattern": {
              "fillmode": "overlay",
              "size": 10,
              "solidity": 0.2
             }
            },
            "type": "barpolar"
           }
          ],
          "carpet": [
           {
            "aaxis": {
             "endlinecolor": "#2a3f5f",
             "gridcolor": "white",
             "linecolor": "white",
             "minorgridcolor": "white",
             "startlinecolor": "#2a3f5f"
            },
            "baxis": {
             "endlinecolor": "#2a3f5f",
             "gridcolor": "white",
             "linecolor": "white",
             "minorgridcolor": "white",
             "startlinecolor": "#2a3f5f"
            },
            "type": "carpet"
           }
          ],
          "choropleth": [
           {
            "colorbar": {
             "outlinewidth": 0,
             "ticks": ""
            },
            "type": "choropleth"
           }
          ],
          "contour": [
           {
            "colorbar": {
             "outlinewidth": 0,
             "ticks": ""
            },
            "colorscale": [
             [
              0,
              "#0d0887"
             ],
             [
              0.1111111111111111,
              "#46039f"
             ],
             [
              0.2222222222222222,
              "#7201a8"
             ],
             [
              0.3333333333333333,
              "#9c179e"
             ],
             [
              0.4444444444444444,
              "#bd3786"
             ],
             [
              0.5555555555555556,
              "#d8576b"
             ],
             [
              0.6666666666666666,
              "#ed7953"
             ],
             [
              0.7777777777777778,
              "#fb9f3a"
             ],
             [
              0.8888888888888888,
              "#fdca26"
             ],
             [
              1,
              "#f0f921"
             ]
            ],
            "type": "contour"
           }
          ],
          "contourcarpet": [
           {
            "colorbar": {
             "outlinewidth": 0,
             "ticks": ""
            },
            "type": "contourcarpet"
           }
          ],
          "heatmap": [
           {
            "colorbar": {
             "outlinewidth": 0,
             "ticks": ""
            },
            "colorscale": [
             [
              0,
              "#0d0887"
             ],
             [
              0.1111111111111111,
              "#46039f"
             ],
             [
              0.2222222222222222,
              "#7201a8"
             ],
             [
              0.3333333333333333,
              "#9c179e"
             ],
             [
              0.4444444444444444,
              "#bd3786"
             ],
             [
              0.5555555555555556,
              "#d8576b"
             ],
             [
              0.6666666666666666,
              "#ed7953"
             ],
             [
              0.7777777777777778,
              "#fb9f3a"
             ],
             [
              0.8888888888888888,
              "#fdca26"
             ],
             [
              1,
              "#f0f921"
             ]
            ],
            "type": "heatmap"
           }
          ],
          "heatmapgl": [
           {
            "colorbar": {
             "outlinewidth": 0,
             "ticks": ""
            },
            "colorscale": [
             [
              0,
              "#0d0887"
             ],
             [
              0.1111111111111111,
              "#46039f"
             ],
             [
              0.2222222222222222,
              "#7201a8"
             ],
             [
              0.3333333333333333,
              "#9c179e"
             ],
             [
              0.4444444444444444,
              "#bd3786"
             ],
             [
              0.5555555555555556,
              "#d8576b"
             ],
             [
              0.6666666666666666,
              "#ed7953"
             ],
             [
              0.7777777777777778,
              "#fb9f3a"
             ],
             [
              0.8888888888888888,
              "#fdca26"
             ],
             [
              1,
              "#f0f921"
             ]
            ],
            "type": "heatmapgl"
           }
          ],
          "histogram": [
           {
            "marker": {
             "pattern": {
              "fillmode": "overlay",
              "size": 10,
              "solidity": 0.2
             }
            },
            "type": "histogram"
           }
          ],
          "histogram2d": [
           {
            "colorbar": {
             "outlinewidth": 0,
             "ticks": ""
            },
            "colorscale": [
             [
              0,
              "#0d0887"
             ],
             [
              0.1111111111111111,
              "#46039f"
             ],
             [
              0.2222222222222222,
              "#7201a8"
             ],
             [
              0.3333333333333333,
              "#9c179e"
             ],
             [
              0.4444444444444444,
              "#bd3786"
             ],
             [
              0.5555555555555556,
              "#d8576b"
             ],
             [
              0.6666666666666666,
              "#ed7953"
             ],
             [
              0.7777777777777778,
              "#fb9f3a"
             ],
             [
              0.8888888888888888,
              "#fdca26"
             ],
             [
              1,
              "#f0f921"
             ]
            ],
            "type": "histogram2d"
           }
          ],
          "histogram2dcontour": [
           {
            "colorbar": {
             "outlinewidth": 0,
             "ticks": ""
            },
            "colorscale": [
             [
              0,
              "#0d0887"
             ],
             [
              0.1111111111111111,
              "#46039f"
             ],
             [
              0.2222222222222222,
              "#7201a8"
             ],
             [
              0.3333333333333333,
              "#9c179e"
             ],
             [
              0.4444444444444444,
              "#bd3786"
             ],
             [
              0.5555555555555556,
              "#d8576b"
             ],
             [
              0.6666666666666666,
              "#ed7953"
             ],
             [
              0.7777777777777778,
              "#fb9f3a"
             ],
             [
              0.8888888888888888,
              "#fdca26"
             ],
             [
              1,
              "#f0f921"
             ]
            ],
            "type": "histogram2dcontour"
           }
          ],
          "mesh3d": [
           {
            "colorbar": {
             "outlinewidth": 0,
             "ticks": ""
            },
            "type": "mesh3d"
           }
          ],
          "parcoords": [
           {
            "line": {
             "colorbar": {
              "outlinewidth": 0,
              "ticks": ""
             }
            },
            "type": "parcoords"
           }
          ],
          "pie": [
           {
            "automargin": true,
            "type": "pie"
           }
          ],
          "scatter": [
           {
            "fillpattern": {
             "fillmode": "overlay",
             "size": 10,
             "solidity": 0.2
            },
            "type": "scatter"
           }
          ],
          "scatter3d": [
           {
            "line": {
             "colorbar": {
              "outlinewidth": 0,
              "ticks": ""
             }
            },
            "marker": {
             "colorbar": {
              "outlinewidth": 0,
              "ticks": ""
             }
            },
            "type": "scatter3d"
           }
          ],
          "scattercarpet": [
           {
            "marker": {
             "colorbar": {
              "outlinewidth": 0,
              "ticks": ""
             }
            },
            "type": "scattercarpet"
           }
          ],
          "scattergeo": [
           {
            "marker": {
             "colorbar": {
              "outlinewidth": 0,
              "ticks": ""
             }
            },
            "type": "scattergeo"
           }
          ],
          "scattergl": [
           {
            "marker": {
             "colorbar": {
              "outlinewidth": 0,
              "ticks": ""
             }
            },
            "type": "scattergl"
           }
          ],
          "scattermapbox": [
           {
            "marker": {
             "colorbar": {
              "outlinewidth": 0,
              "ticks": ""
             }
            },
            "type": "scattermapbox"
           }
          ],
          "scatterpolar": [
           {
            "marker": {
             "colorbar": {
              "outlinewidth": 0,
              "ticks": ""
             }
            },
            "type": "scatterpolar"
           }
          ],
          "scatterpolargl": [
           {
            "marker": {
             "colorbar": {
              "outlinewidth": 0,
              "ticks": ""
             }
            },
            "type": "scatterpolargl"
           }
          ],
          "scatterternary": [
           {
            "marker": {
             "colorbar": {
              "outlinewidth": 0,
              "ticks": ""
             }
            },
            "type": "scatterternary"
           }
          ],
          "surface": [
           {
            "colorbar": {
             "outlinewidth": 0,
             "ticks": ""
            },
            "colorscale": [
             [
              0,
              "#0d0887"
             ],
             [
              0.1111111111111111,
              "#46039f"
             ],
             [
              0.2222222222222222,
              "#7201a8"
             ],
             [
              0.3333333333333333,
              "#9c179e"
             ],
             [
              0.4444444444444444,
              "#bd3786"
             ],
             [
              0.5555555555555556,
              "#d8576b"
             ],
             [
              0.6666666666666666,
              "#ed7953"
             ],
             [
              0.7777777777777778,
              "#fb9f3a"
             ],
             [
              0.8888888888888888,
              "#fdca26"
             ],
             [
              1,
              "#f0f921"
             ]
            ],
            "type": "surface"
           }
          ],
          "table": [
           {
            "cells": {
             "fill": {
              "color": "#EBF0F8"
             },
             "line": {
              "color": "white"
             }
            },
            "header": {
             "fill": {
              "color": "#C8D4E3"
             },
             "line": {
              "color": "white"
             }
            },
            "type": "table"
           }
          ]
         },
         "layout": {
          "annotationdefaults": {
           "arrowcolor": "#2a3f5f",
           "arrowhead": 0,
           "arrowwidth": 1
          },
          "autotypenumbers": "strict",
          "coloraxis": {
           "colorbar": {
            "outlinewidth": 0,
            "ticks": ""
           }
          },
          "colorscale": {
           "diverging": [
            [
             0,
             "#8e0152"
            ],
            [
             0.1,
             "#c51b7d"
            ],
            [
             0.2,
             "#de77ae"
            ],
            [
             0.3,
             "#f1b6da"
            ],
            [
             0.4,
             "#fde0ef"
            ],
            [
             0.5,
             "#f7f7f7"
            ],
            [
             0.6,
             "#e6f5d0"
            ],
            [
             0.7,
             "#b8e186"
            ],
            [
             0.8,
             "#7fbc41"
            ],
            [
             0.9,
             "#4d9221"
            ],
            [
             1,
             "#276419"
            ]
           ],
           "sequential": [
            [
             0,
             "#0d0887"
            ],
            [
             0.1111111111111111,
             "#46039f"
            ],
            [
             0.2222222222222222,
             "#7201a8"
            ],
            [
             0.3333333333333333,
             "#9c179e"
            ],
            [
             0.4444444444444444,
             "#bd3786"
            ],
            [
             0.5555555555555556,
             "#d8576b"
            ],
            [
             0.6666666666666666,
             "#ed7953"
            ],
            [
             0.7777777777777778,
             "#fb9f3a"
            ],
            [
             0.8888888888888888,
             "#fdca26"
            ],
            [
             1,
             "#f0f921"
            ]
           ],
           "sequentialminus": [
            [
             0,
             "#0d0887"
            ],
            [
             0.1111111111111111,
             "#46039f"
            ],
            [
             0.2222222222222222,
             "#7201a8"
            ],
            [
             0.3333333333333333,
             "#9c179e"
            ],
            [
             0.4444444444444444,
             "#bd3786"
            ],
            [
             0.5555555555555556,
             "#d8576b"
            ],
            [
             0.6666666666666666,
             "#ed7953"
            ],
            [
             0.7777777777777778,
             "#fb9f3a"
            ],
            [
             0.8888888888888888,
             "#fdca26"
            ],
            [
             1,
             "#f0f921"
            ]
           ]
          },
          "colorway": [
           "#636efa",
           "#EF553B",
           "#00cc96",
           "#ab63fa",
           "#FFA15A",
           "#19d3f3",
           "#FF6692",
           "#B6E880",
           "#FF97FF",
           "#FECB52"
          ],
          "font": {
           "color": "#2a3f5f"
          },
          "geo": {
           "bgcolor": "white",
           "lakecolor": "white",
           "landcolor": "#E5ECF6",
           "showlakes": true,
           "showland": true,
           "subunitcolor": "white"
          },
          "hoverlabel": {
           "align": "left"
          },
          "hovermode": "closest",
          "mapbox": {
           "style": "light"
          },
          "paper_bgcolor": "white",
          "plot_bgcolor": "#E5ECF6",
          "polar": {
           "angularaxis": {
            "gridcolor": "white",
            "linecolor": "white",
            "ticks": ""
           },
           "bgcolor": "#E5ECF6",
           "radialaxis": {
            "gridcolor": "white",
            "linecolor": "white",
            "ticks": ""
           }
          },
          "scene": {
           "xaxis": {
            "backgroundcolor": "#E5ECF6",
            "gridcolor": "white",
            "gridwidth": 2,
            "linecolor": "white",
            "showbackground": true,
            "ticks": "",
            "zerolinecolor": "white"
           },
           "yaxis": {
            "backgroundcolor": "#E5ECF6",
            "gridcolor": "white",
            "gridwidth": 2,
            "linecolor": "white",
            "showbackground": true,
            "ticks": "",
            "zerolinecolor": "white"
           },
           "zaxis": {
            "backgroundcolor": "#E5ECF6",
            "gridcolor": "white",
            "gridwidth": 2,
            "linecolor": "white",
            "showbackground": true,
            "ticks": "",
            "zerolinecolor": "white"
           }
          },
          "shapedefaults": {
           "line": {
            "color": "#2a3f5f"
           }
          },
          "ternary": {
           "aaxis": {
            "gridcolor": "white",
            "linecolor": "white",
            "ticks": ""
           },
           "baxis": {
            "gridcolor": "white",
            "linecolor": "white",
            "ticks": ""
           },
           "bgcolor": "#E5ECF6",
           "caxis": {
            "gridcolor": "white",
            "linecolor": "white",
            "ticks": ""
           }
          },
          "title": {
           "x": 0.05
          },
          "xaxis": {
           "automargin": true,
           "gridcolor": "white",
           "linecolor": "white",
           "ticks": "",
           "title": {
            "standoff": 15
           },
           "zerolinecolor": "white",
           "zerolinewidth": 2
          },
          "yaxis": {
           "automargin": true,
           "gridcolor": "white",
           "linecolor": "white",
           "ticks": "",
           "title": {
            "standoff": 15
           },
           "zerolinecolor": "white",
           "zerolinewidth": 2
          }
         }
        },
        "title": {
         "font": {
          "family": "Arial"
         },
         "text": "<b>Duración del Contenido por Decada"
        },
        "uniformtext": {
         "minsize": 12,
         "mode": "hide"
        },
        "xaxis": {
         "anchor": "y",
         "domain": [
          0,
          1
         ],
         "title": {
          "text": "Decada"
         }
        },
        "yaxis": {
         "anchor": "x",
         "domain": [
          0,
          1
         ],
         "title": {
          "text": "Media"
         },
         "visible": false
        }
       }
      }
     },
     "metadata": {},
     "output_type": "display_data"
    }
   ],
   "source": [
    "# GRAFICO   ----> lo pongo al revés porque al ordenarlo ascendente, ordena la tabla, pero el gráfico sale desordenado\n",
    "\n",
    "fig = px.bar(evol_duracion, x='Decada', y='Media', color = 'Plataforma',\n",
    "color_discrete_map={'Amazon': '#9B9B9B', 'Netflix': '#D10600', \n",
    "'HBO': '#460076', 'hulu': '#98FF93', 'Disney':'#3800C2', 'Paramount':'#FFFFFF'},\n",
    "barmode='group',\n",
    "title = \"<b>Duración del Contenido por Decada\",\n",
    "text='Media' \n",
    ")\n",
    "\n",
    "fig.update_traces(marker=dict(line=dict(color='black', width=0.5)),\n",
    "                  #hovertemplate = values, textinfo = 'label+text',\n",
    "                  #textposition='inside'\n",
    "                  )\n",
    "\n",
    "fig.update_layout(uniformtext_minsize=12, uniformtext_mode='hide', font_family = 'Arial', title_font_family='Arial', font_color = '#FFFFFF', \n",
    "plot_bgcolor='#000000', paper_bgcolor='#000000',showlegend=False)\n",
    "\n",
    "fig.update_traces(texttemplate='%{text:.f}')\n",
    "\n",
    "fig.update_yaxes(visible = False)\n",
    "\n",
    "fig.show()\n"
   ]
  },
  {
   "cell_type": "markdown",
   "metadata": {},
   "source": [
    "-----"
   ]
  },
  {
   "cell_type": "markdown",
   "metadata": {},
   "source": [
    "**2.7.: Por Edades**"
   ]
  },
  {
   "cell_type": "code",
   "execution_count": 186,
   "metadata": {},
   "outputs": [
    {
     "name": "stderr",
     "output_type": "stream",
     "text": [
      "/Library/Frameworks/Python.framework/Versions/3.7/lib/python3.7/site-packages/ipykernel_launcher.py:8: SettingWithCopyWarning:\n",
      "\n",
      "\n",
      "A value is trying to be set on a copy of a slice from a DataFrame.\n",
      "Try using .loc[row_indexer,col_indexer] = value instead\n",
      "\n",
      "See the caveats in the documentation: https://pandas.pydata.org/pandas-docs/stable/user_guide/indexing.html#returning-a-view-versus-a-copy\n",
      "\n"
     ]
    }
   ],
   "source": [
    "# EDADES\n",
    "edades = df_todos[['Plataforma', 'Edad_Recom', 'Titulo']]\n",
    "edades = edades.groupby(by=['Plataforma', 'Edad_Recom']).count().reset_index()\n",
    "\n",
    "def edades_plat(df, plataforma):\n",
    "\n",
    "    edades_plataforma = df[df['Plataforma'] == plataforma]\n",
    "    edades_plataforma['Titulo'] = round(edades_plataforma['Titulo'] / edades_plataforma['Titulo'].sum() *100, 2)\n",
    "    edades_plataforma.columns = ['Plataforma', 'Edad_Recom', 'Peso_edades']\n",
    "    #eliminamos nulos:\n",
    "    edades_plataforma = edades_plataforma.loc[edades_plataforma['Edad_Recom'] < 9000]\n",
    "\n",
    "    return edades_plataforma\n",
    "\n",
    "edades_amazon = edades_plat(edades, 'Amazon')\n",
    "edades_netflix = edades_plat(edades, 'Netflix')\n",
    "edades_hbo = edades_plat(edades, 'HBO')\n",
    "edades_hulu = edades_plat(edades, 'Hulu')\n",
    "edades_disney = edades_plat(edades, 'Disney')\n",
    "edades_paramount = edades_plat(edades, 'Paramount') "
   ]
  },
  {
   "cell_type": "code",
   "execution_count": 187,
   "metadata": {},
   "outputs": [
    {
     "data": {
      "application/vnd.plotly.v1+json": {
       "config": {
        "plotlyServerURL": "https://plot.ly"
       },
       "data": [
        {
         "alignmentgroup": "True",
         "hovertemplate": "<b>%{hovertext}</b><br><br>Plataforma=Disney<br>Edad_Recom=%{x}<br>Peso_edades=%{y}<extra></extra>",
         "hovertext": [
          "Disney",
          "Disney",
          "Disney",
          "Disney"
         ],
         "legendgroup": "Disney",
         "marker": {
          "color": "#3800C2",
          "line": {
           "color": "black",
           "width": 0.5
          },
          "pattern": {
           "shape": ""
          }
         },
         "name": "Disney",
         "offsetgroup": "Disney",
         "orientation": "v",
         "showlegend": true,
         "textposition": "auto",
         "type": "bar",
         "x": [
          17,
          13,
          0,
          7
         ],
         "xaxis": "x",
         "y": [
          1.45,
          11.81,
          22.17,
          48.43
         ],
         "yaxis": "y"
        },
        {
         "alignmentgroup": "True",
         "hovertemplate": "<b>%{hovertext}</b><br><br>Plataforma=Hulu<br>Edad_Recom=%{x}<br>Peso_edades=%{y}<extra></extra>",
         "hovertext": [
          "Hulu",
          "Hulu",
          "Hulu",
          "Hulu"
         ],
         "legendgroup": "Hulu",
         "marker": {
          "color": "#FF6692",
          "line": {
           "color": "black",
           "width": 0.5
          },
          "pattern": {
           "shape": ""
          }
         },
         "name": "Hulu",
         "offsetgroup": "Hulu",
         "orientation": "v",
         "showlegend": true,
         "textposition": "auto",
         "type": "bar",
         "x": [
          0,
          7,
          17,
          13
         ],
         "xaxis": "x",
         "y": [
          2.11,
          19.34,
          21.75,
          41.76
         ],
         "yaxis": "y"
        },
        {
         "alignmentgroup": "True",
         "hovertemplate": "<b>%{hovertext}</b><br><br>Plataforma=HBO<br>Edad_Recom=%{x}<br>Peso_edades=%{y}<extra></extra>",
         "hovertext": [
          "HBO",
          "HBO",
          "HBO",
          "HBO"
         ],
         "legendgroup": "HBO",
         "marker": {
          "color": "#460076",
          "line": {
           "color": "black",
           "width": 0.5
          },
          "pattern": {
           "shape": ""
          }
         },
         "name": "HBO",
         "offsetgroup": "HBO",
         "orientation": "v",
         "showlegend": true,
         "textposition": "auto",
         "type": "bar",
         "x": [
          0,
          7,
          13,
          17
         ],
         "xaxis": "x",
         "y": [
          2.65,
          18.78,
          19.31,
          41.4
         ],
         "yaxis": "y"
        },
        {
         "alignmentgroup": "True",
         "hovertemplate": "<b>%{hovertext}</b><br><br>Plataforma=Netflix<br>Edad_Recom=%{x}<br>Peso_edades=%{y}<extra></extra>",
         "hovertext": [
          "Netflix",
          "Netflix",
          "Netflix",
          "Netflix"
         ],
         "legendgroup": "Netflix",
         "marker": {
          "color": "#D10600",
          "line": {
           "color": "black",
           "width": 0.5
          },
          "pattern": {
           "shape": ""
          }
         },
         "name": "Netflix",
         "offsetgroup": "Netflix",
         "orientation": "v",
         "showlegend": true,
         "textposition": "auto",
         "type": "bar",
         "x": [
          0,
          7,
          13,
          17
         ],
         "xaxis": "x",
         "y": [
          3.71,
          19.69,
          22.96,
          41.08
         ],
         "yaxis": "y"
        },
        {
         "alignmentgroup": "True",
         "hovertemplate": "<b>%{hovertext}</b><br><br>Plataforma=Amazon<br>Edad_Recom=%{x}<br>Peso_edades=%{y}<extra></extra>",
         "hovertext": [
          "Amazon",
          "Amazon",
          "Amazon",
          "Amazon"
         ],
         "legendgroup": "Amazon",
         "marker": {
          "color": "#9B9B9B",
          "line": {
           "color": "black",
           "width": 0.5
          },
          "pattern": {
           "shape": ""
          }
         },
         "name": "Amazon",
         "offsetgroup": "Amazon",
         "orientation": "v",
         "showlegend": true,
         "textposition": "auto",
         "type": "bar",
         "x": [
          0,
          13,
          17,
          7
         ],
         "xaxis": "x",
         "y": [
          4.2,
          13.85,
          15.99,
          16.29
         ],
         "yaxis": "y"
        },
        {
         "alignmentgroup": "True",
         "hovertemplate": "<b>%{hovertext}</b><br><br>Plataforma=Paramount<br>Edad_Recom=%{x}<br>Peso_edades=%{y}<extra></extra>",
         "hovertext": [
          "Paramount",
          "Paramount",
          "Paramount",
          "Paramount"
         ],
         "legendgroup": "Paramount",
         "marker": {
          "color": "#FFFFFF",
          "line": {
           "color": "black",
           "width": 0.5
          },
          "pattern": {
           "shape": ""
          }
         },
         "name": "Paramount",
         "offsetgroup": "Paramount",
         "orientation": "v",
         "showlegend": true,
         "textposition": "auto",
         "type": "bar",
         "x": [
          17,
          0,
          13,
          7
         ],
         "xaxis": "x",
         "y": [
          8.95,
          15.18,
          26.36,
          39.14
         ],
         "yaxis": "y"
        }
       ],
       "layout": {
        "barmode": "group",
        "font": {
         "color": "#FFFFFF",
         "family": "Arial"
        },
        "legend": {
         "title": {
          "text": "Plataforma"
         },
         "tracegroupgap": 0
        },
        "paper_bgcolor": "#000000",
        "plot_bgcolor": "#000000",
        "showlegend": false,
        "template": {
         "data": {
          "bar": [
           {
            "error_x": {
             "color": "#2a3f5f"
            },
            "error_y": {
             "color": "#2a3f5f"
            },
            "marker": {
             "line": {
              "color": "#E5ECF6",
              "width": 0.5
             },
             "pattern": {
              "fillmode": "overlay",
              "size": 10,
              "solidity": 0.2
             }
            },
            "type": "bar"
           }
          ],
          "barpolar": [
           {
            "marker": {
             "line": {
              "color": "#E5ECF6",
              "width": 0.5
             },
             "pattern": {
              "fillmode": "overlay",
              "size": 10,
              "solidity": 0.2
             }
            },
            "type": "barpolar"
           }
          ],
          "carpet": [
           {
            "aaxis": {
             "endlinecolor": "#2a3f5f",
             "gridcolor": "white",
             "linecolor": "white",
             "minorgridcolor": "white",
             "startlinecolor": "#2a3f5f"
            },
            "baxis": {
             "endlinecolor": "#2a3f5f",
             "gridcolor": "white",
             "linecolor": "white",
             "minorgridcolor": "white",
             "startlinecolor": "#2a3f5f"
            },
            "type": "carpet"
           }
          ],
          "choropleth": [
           {
            "colorbar": {
             "outlinewidth": 0,
             "ticks": ""
            },
            "type": "choropleth"
           }
          ],
          "contour": [
           {
            "colorbar": {
             "outlinewidth": 0,
             "ticks": ""
            },
            "colorscale": [
             [
              0,
              "#0d0887"
             ],
             [
              0.1111111111111111,
              "#46039f"
             ],
             [
              0.2222222222222222,
              "#7201a8"
             ],
             [
              0.3333333333333333,
              "#9c179e"
             ],
             [
              0.4444444444444444,
              "#bd3786"
             ],
             [
              0.5555555555555556,
              "#d8576b"
             ],
             [
              0.6666666666666666,
              "#ed7953"
             ],
             [
              0.7777777777777778,
              "#fb9f3a"
             ],
             [
              0.8888888888888888,
              "#fdca26"
             ],
             [
              1,
              "#f0f921"
             ]
            ],
            "type": "contour"
           }
          ],
          "contourcarpet": [
           {
            "colorbar": {
             "outlinewidth": 0,
             "ticks": ""
            },
            "type": "contourcarpet"
           }
          ],
          "heatmap": [
           {
            "colorbar": {
             "outlinewidth": 0,
             "ticks": ""
            },
            "colorscale": [
             [
              0,
              "#0d0887"
             ],
             [
              0.1111111111111111,
              "#46039f"
             ],
             [
              0.2222222222222222,
              "#7201a8"
             ],
             [
              0.3333333333333333,
              "#9c179e"
             ],
             [
              0.4444444444444444,
              "#bd3786"
             ],
             [
              0.5555555555555556,
              "#d8576b"
             ],
             [
              0.6666666666666666,
              "#ed7953"
             ],
             [
              0.7777777777777778,
              "#fb9f3a"
             ],
             [
              0.8888888888888888,
              "#fdca26"
             ],
             [
              1,
              "#f0f921"
             ]
            ],
            "type": "heatmap"
           }
          ],
          "heatmapgl": [
           {
            "colorbar": {
             "outlinewidth": 0,
             "ticks": ""
            },
            "colorscale": [
             [
              0,
              "#0d0887"
             ],
             [
              0.1111111111111111,
              "#46039f"
             ],
             [
              0.2222222222222222,
              "#7201a8"
             ],
             [
              0.3333333333333333,
              "#9c179e"
             ],
             [
              0.4444444444444444,
              "#bd3786"
             ],
             [
              0.5555555555555556,
              "#d8576b"
             ],
             [
              0.6666666666666666,
              "#ed7953"
             ],
             [
              0.7777777777777778,
              "#fb9f3a"
             ],
             [
              0.8888888888888888,
              "#fdca26"
             ],
             [
              1,
              "#f0f921"
             ]
            ],
            "type": "heatmapgl"
           }
          ],
          "histogram": [
           {
            "marker": {
             "pattern": {
              "fillmode": "overlay",
              "size": 10,
              "solidity": 0.2
             }
            },
            "type": "histogram"
           }
          ],
          "histogram2d": [
           {
            "colorbar": {
             "outlinewidth": 0,
             "ticks": ""
            },
            "colorscale": [
             [
              0,
              "#0d0887"
             ],
             [
              0.1111111111111111,
              "#46039f"
             ],
             [
              0.2222222222222222,
              "#7201a8"
             ],
             [
              0.3333333333333333,
              "#9c179e"
             ],
             [
              0.4444444444444444,
              "#bd3786"
             ],
             [
              0.5555555555555556,
              "#d8576b"
             ],
             [
              0.6666666666666666,
              "#ed7953"
             ],
             [
              0.7777777777777778,
              "#fb9f3a"
             ],
             [
              0.8888888888888888,
              "#fdca26"
             ],
             [
              1,
              "#f0f921"
             ]
            ],
            "type": "histogram2d"
           }
          ],
          "histogram2dcontour": [
           {
            "colorbar": {
             "outlinewidth": 0,
             "ticks": ""
            },
            "colorscale": [
             [
              0,
              "#0d0887"
             ],
             [
              0.1111111111111111,
              "#46039f"
             ],
             [
              0.2222222222222222,
              "#7201a8"
             ],
             [
              0.3333333333333333,
              "#9c179e"
             ],
             [
              0.4444444444444444,
              "#bd3786"
             ],
             [
              0.5555555555555556,
              "#d8576b"
             ],
             [
              0.6666666666666666,
              "#ed7953"
             ],
             [
              0.7777777777777778,
              "#fb9f3a"
             ],
             [
              0.8888888888888888,
              "#fdca26"
             ],
             [
              1,
              "#f0f921"
             ]
            ],
            "type": "histogram2dcontour"
           }
          ],
          "mesh3d": [
           {
            "colorbar": {
             "outlinewidth": 0,
             "ticks": ""
            },
            "type": "mesh3d"
           }
          ],
          "parcoords": [
           {
            "line": {
             "colorbar": {
              "outlinewidth": 0,
              "ticks": ""
             }
            },
            "type": "parcoords"
           }
          ],
          "pie": [
           {
            "automargin": true,
            "type": "pie"
           }
          ],
          "scatter": [
           {
            "fillpattern": {
             "fillmode": "overlay",
             "size": 10,
             "solidity": 0.2
            },
            "type": "scatter"
           }
          ],
          "scatter3d": [
           {
            "line": {
             "colorbar": {
              "outlinewidth": 0,
              "ticks": ""
             }
            },
            "marker": {
             "colorbar": {
              "outlinewidth": 0,
              "ticks": ""
             }
            },
            "type": "scatter3d"
           }
          ],
          "scattercarpet": [
           {
            "marker": {
             "colorbar": {
              "outlinewidth": 0,
              "ticks": ""
             }
            },
            "type": "scattercarpet"
           }
          ],
          "scattergeo": [
           {
            "marker": {
             "colorbar": {
              "outlinewidth": 0,
              "ticks": ""
             }
            },
            "type": "scattergeo"
           }
          ],
          "scattergl": [
           {
            "marker": {
             "colorbar": {
              "outlinewidth": 0,
              "ticks": ""
             }
            },
            "type": "scattergl"
           }
          ],
          "scattermapbox": [
           {
            "marker": {
             "colorbar": {
              "outlinewidth": 0,
              "ticks": ""
             }
            },
            "type": "scattermapbox"
           }
          ],
          "scatterpolar": [
           {
            "marker": {
             "colorbar": {
              "outlinewidth": 0,
              "ticks": ""
             }
            },
            "type": "scatterpolar"
           }
          ],
          "scatterpolargl": [
           {
            "marker": {
             "colorbar": {
              "outlinewidth": 0,
              "ticks": ""
             }
            },
            "type": "scatterpolargl"
           }
          ],
          "scatterternary": [
           {
            "marker": {
             "colorbar": {
              "outlinewidth": 0,
              "ticks": ""
             }
            },
            "type": "scatterternary"
           }
          ],
          "surface": [
           {
            "colorbar": {
             "outlinewidth": 0,
             "ticks": ""
            },
            "colorscale": [
             [
              0,
              "#0d0887"
             ],
             [
              0.1111111111111111,
              "#46039f"
             ],
             [
              0.2222222222222222,
              "#7201a8"
             ],
             [
              0.3333333333333333,
              "#9c179e"
             ],
             [
              0.4444444444444444,
              "#bd3786"
             ],
             [
              0.5555555555555556,
              "#d8576b"
             ],
             [
              0.6666666666666666,
              "#ed7953"
             ],
             [
              0.7777777777777778,
              "#fb9f3a"
             ],
             [
              0.8888888888888888,
              "#fdca26"
             ],
             [
              1,
              "#f0f921"
             ]
            ],
            "type": "surface"
           }
          ],
          "table": [
           {
            "cells": {
             "fill": {
              "color": "#EBF0F8"
             },
             "line": {
              "color": "white"
             }
            },
            "header": {
             "fill": {
              "color": "#C8D4E3"
             },
             "line": {
              "color": "white"
             }
            },
            "type": "table"
           }
          ]
         },
         "layout": {
          "annotationdefaults": {
           "arrowcolor": "#2a3f5f",
           "arrowhead": 0,
           "arrowwidth": 1
          },
          "autotypenumbers": "strict",
          "coloraxis": {
           "colorbar": {
            "outlinewidth": 0,
            "ticks": ""
           }
          },
          "colorscale": {
           "diverging": [
            [
             0,
             "#8e0152"
            ],
            [
             0.1,
             "#c51b7d"
            ],
            [
             0.2,
             "#de77ae"
            ],
            [
             0.3,
             "#f1b6da"
            ],
            [
             0.4,
             "#fde0ef"
            ],
            [
             0.5,
             "#f7f7f7"
            ],
            [
             0.6,
             "#e6f5d0"
            ],
            [
             0.7,
             "#b8e186"
            ],
            [
             0.8,
             "#7fbc41"
            ],
            [
             0.9,
             "#4d9221"
            ],
            [
             1,
             "#276419"
            ]
           ],
           "sequential": [
            [
             0,
             "#0d0887"
            ],
            [
             0.1111111111111111,
             "#46039f"
            ],
            [
             0.2222222222222222,
             "#7201a8"
            ],
            [
             0.3333333333333333,
             "#9c179e"
            ],
            [
             0.4444444444444444,
             "#bd3786"
            ],
            [
             0.5555555555555556,
             "#d8576b"
            ],
            [
             0.6666666666666666,
             "#ed7953"
            ],
            [
             0.7777777777777778,
             "#fb9f3a"
            ],
            [
             0.8888888888888888,
             "#fdca26"
            ],
            [
             1,
             "#f0f921"
            ]
           ],
           "sequentialminus": [
            [
             0,
             "#0d0887"
            ],
            [
             0.1111111111111111,
             "#46039f"
            ],
            [
             0.2222222222222222,
             "#7201a8"
            ],
            [
             0.3333333333333333,
             "#9c179e"
            ],
            [
             0.4444444444444444,
             "#bd3786"
            ],
            [
             0.5555555555555556,
             "#d8576b"
            ],
            [
             0.6666666666666666,
             "#ed7953"
            ],
            [
             0.7777777777777778,
             "#fb9f3a"
            ],
            [
             0.8888888888888888,
             "#fdca26"
            ],
            [
             1,
             "#f0f921"
            ]
           ]
          },
          "colorway": [
           "#636efa",
           "#EF553B",
           "#00cc96",
           "#ab63fa",
           "#FFA15A",
           "#19d3f3",
           "#FF6692",
           "#B6E880",
           "#FF97FF",
           "#FECB52"
          ],
          "font": {
           "color": "#2a3f5f"
          },
          "geo": {
           "bgcolor": "white",
           "lakecolor": "white",
           "landcolor": "#E5ECF6",
           "showlakes": true,
           "showland": true,
           "subunitcolor": "white"
          },
          "hoverlabel": {
           "align": "left"
          },
          "hovermode": "closest",
          "mapbox": {
           "style": "light"
          },
          "paper_bgcolor": "white",
          "plot_bgcolor": "#E5ECF6",
          "polar": {
           "angularaxis": {
            "gridcolor": "white",
            "linecolor": "white",
            "ticks": ""
           },
           "bgcolor": "#E5ECF6",
           "radialaxis": {
            "gridcolor": "white",
            "linecolor": "white",
            "ticks": ""
           }
          },
          "scene": {
           "xaxis": {
            "backgroundcolor": "#E5ECF6",
            "gridcolor": "white",
            "gridwidth": 2,
            "linecolor": "white",
            "showbackground": true,
            "ticks": "",
            "zerolinecolor": "white"
           },
           "yaxis": {
            "backgroundcolor": "#E5ECF6",
            "gridcolor": "white",
            "gridwidth": 2,
            "linecolor": "white",
            "showbackground": true,
            "ticks": "",
            "zerolinecolor": "white"
           },
           "zaxis": {
            "backgroundcolor": "#E5ECF6",
            "gridcolor": "white",
            "gridwidth": 2,
            "linecolor": "white",
            "showbackground": true,
            "ticks": "",
            "zerolinecolor": "white"
           }
          },
          "shapedefaults": {
           "line": {
            "color": "#2a3f5f"
           }
          },
          "ternary": {
           "aaxis": {
            "gridcolor": "white",
            "linecolor": "white",
            "ticks": ""
           },
           "baxis": {
            "gridcolor": "white",
            "linecolor": "white",
            "ticks": ""
           },
           "bgcolor": "#E5ECF6",
           "caxis": {
            "gridcolor": "white",
            "linecolor": "white",
            "ticks": ""
           }
          },
          "title": {
           "x": 0.05
          },
          "xaxis": {
           "automargin": true,
           "gridcolor": "white",
           "linecolor": "white",
           "ticks": "",
           "title": {
            "standoff": 15
           },
           "zerolinecolor": "white",
           "zerolinewidth": 2
          },
          "yaxis": {
           "automargin": true,
           "gridcolor": "white",
           "linecolor": "white",
           "ticks": "",
           "title": {
            "standoff": 15
           },
           "zerolinecolor": "white",
           "zerolinewidth": 2
          }
         }
        },
        "title": {
         "font": {
          "family": "Arial"
         },
         "text": "<b>Edades x Plataforma"
        },
        "uniformtext": {
         "minsize": 12,
         "mode": "hide"
        },
        "xaxis": {
         "anchor": "y",
         "domain": [
          0,
          1
         ],
         "tickvals": [
          0,
          7,
          13,
          17
         ],
         "title": {
          "text": "Edad_Recom"
         },
         "visible": true
        },
        "yaxis": {
         "anchor": "x",
         "domain": [
          0,
          1
         ],
         "title": {
          "text": "Peso_edades"
         },
         "visible": false
        }
       }
      }
     },
     "metadata": {},
     "output_type": "display_data"
    }
   ],
   "source": [
    "# PREPARACION DATA - GRAFICO EDADES x PLATAFORMA\n",
    "data = data = pd.concat([edades_amazon, edades_netflix, edades_hbo, edades_disney, edades_hulu, edades_paramount], axis = 0)\\\n",
    "    .sort_values(by='Peso_edades', ascending = True)\n",
    "\n",
    "\n",
    "fig = px.bar(data, x='Edad_Recom', y='Peso_edades', color = 'Plataforma',\n",
    "color_discrete_map={'Amazon': '#9B9B9B', 'Netflix': '#D10600', \n",
    "'HBO': '#460076', 'hulu': '#98FF93', 'Disney':'#3800C2', 'Paramount':'#FFFFFF'},\n",
    "barmode='group',\n",
    "title = \"<b>Edades x Plataforma\",\n",
    "#text='Edad_Recom',\n",
    "hover_name = 'Plataforma', hover_data = ['Peso_edades']\n",
    ")\n",
    "\n",
    "fig.update_layout(uniformtext_minsize=12, uniformtext_mode='hide',font_family = 'Arial', title_font_family='Arial', font_color = '#FFFFFF', \n",
    "plot_bgcolor='#000000', paper_bgcolor='#000000',showlegend=False)\n",
    "\n",
    "fig.update_traces(marker=dict(line=dict(color='black', width=0.5)),\n",
    "                  #hovertemplate = values, textinfo = 'label+text',\n",
    "                  #textposition='inside'\n",
    "                  )\n",
    "\n",
    "\n",
    "#fig.update_traces(texttemplate='%{text:.f}')\n",
    "fig.update_xaxes(tickvals= [0, 7, 13, 17], visible=True)\n",
    "fig.update_yaxes(visible = False)\n",
    "\n",
    "\n",
    "fig.show()\n",
    "\n",
    "# DISNEY -- destaca en contenido para todas las edades y niños\n",
    "#           es el que más sobresale de todos -- relacion contraria al resto, que destacan sobre todo en contenido para mayores de 17\n",
    "#           siendo Hulu la plataforma que más destaca en > 17 años\n",
    "# Como en genero, vemos que Disney sigue el patrón contrario al resto --> hacemos análisis correlacion Edades y Genero"
   ]
  },
  {
   "cell_type": "markdown",
   "metadata": {},
   "source": [
    "---"
   ]
  },
  {
   "cell_type": "markdown",
   "metadata": {},
   "source": [
    "**2.8.: Por Países**"
   ]
  },
  {
   "cell_type": "code",
   "execution_count": 188,
   "metadata": {},
   "outputs": [
    {
     "name": "stdout",
     "output_type": "stream",
     "text": [
      "Paises total: 62\n",
      "Paises con menos de 100 peliculas producidas: 49\n"
     ]
    }
   ],
   "source": [
    "# PAISES PRODUCCION \n",
    "paises = df_todos[['Plataforma', 'Paises_Prod', 'Titulo']].dropna().reset_index() # eliminamos los valores nulos porque serían de la columna paises prod, y sin esa info no podemos hacer nada --> nos quedamos con 18128 filas\n",
    "paises.isna().sum() # --> Vemos que no hay nulos\n",
    "paises['Paises_Prod'].unique()\n",
    "\n",
    "paises = paises.groupby(by=['Plataforma', 'Paises_Prod']).count()\n",
    "del paises['index']\n",
    "paises.columns = ['n_peliculas']\n",
    "paises = paises.reset_index()\n",
    "paises.head()\n",
    "\n",
    "# En el caso de los países, solo de un vistazo, podemos ver todas las plataformas producen la mayoría de su contenido en EE.UU,\n",
    "# De un total de 128 países, 104 tienen menos de 50 peliculas entre todas las plataformas\n",
    "\n",
    "print('Paises total:', len(paises.groupby(by='Paises_Prod')))\n",
    "outliers = paises[['Paises_Prod', 'n_peliculas']]\n",
    "outliers = outliers.groupby(by='Paises_Prod').sum()\n",
    "outliers = outliers.loc[outliers['n_peliculas'] < 50]\n",
    "print('Paises con menos de 100 peliculas producidas:', len(outliers))"
   ]
  },
  {
   "cell_type": "code",
   "execution_count": 189,
   "metadata": {},
   "outputs": [
    {
     "data": {
      "text/plain": [
       "62"
      ]
     },
     "execution_count": 189,
     "metadata": {},
     "output_type": "execute_result"
    }
   ],
   "source": [
    "# Calculamos peso pais x plataforma \n",
    "\n",
    "def pais_plataforma(df, plataforma):\n",
    "\n",
    "    pais_plataforma = df[df['Plataforma'] == plataforma].reset_index(drop=True)\n",
    "    pais_plataforma_total = pais_plataforma['n_peliculas'].sum()\n",
    "    pais_plataforma = pais_plataforma.sort_values(by= 'n_peliculas', ascending = False)\n",
    "\n",
    "    return pais_plataforma\n",
    "\n",
    "paises_amazon = pais_plataforma(paises, 'Amazon')    \n",
    "paises_netflix = pais_plataforma(paises, 'Netflix')\n",
    "paises_hbo = pais_plataforma(paises, 'HBO')    \n",
    "paises_hulu = pais_plataforma(paises, 'Hulu')     \n",
    "paises_disney = pais_plataforma(paises, 'Disney')    \n",
    "paises_paramount = pais_plataforma(paises, 'Paramount')\n",
    "\n",
    "#UNIMOS LOS GRAFICOS\n",
    "data = pd.concat([paises_amazon, paises_netflix, paises_hbo, paises_disney, paises_hulu, paises_paramount], axis = 0)\\\n",
    "    .sort_values(by='n_peliculas', ascending = False)\n",
    "\n",
    "len(data['Paises_Prod'].unique()) # ---> tenemos 128 paises"
   ]
  },
  {
   "cell_type": "code",
   "execution_count": 190,
   "metadata": {},
   "outputs": [
    {
     "data": {
      "application/vnd.plotly.v1+json": {
       "config": {
        "plotlyServerURL": "https://plot.ly"
       },
       "data": [
        {
         "alignmentgroup": "True",
         "cliponaxis": false,
         "hovertemplate": "Paises_Prod=%{x}<br>n_peliculas=%{text}<extra></extra>",
         "legendgroup": "",
         "marker": {
          "color": "#9B9B9B",
          "line": {
           "color": "black",
           "width": 0.5
          },
          "pattern": {
           "shape": ""
          }
         },
         "name": "",
         "offsetgroup": "",
         "orientation": "v",
         "showlegend": false,
         "text": [
          438,
          250,
          103,
          71,
          69,
          58,
          38,
          24,
          24,
          22
         ],
         "textangle": 0,
         "textfont": {
          "size": 12
         },
         "textposition": "outside",
         "texttemplate": "%{text:.1f}",
         "type": "bar",
         "x": [
          "US",
          "GB",
          "JP",
          "CA",
          "CN",
          "AU",
          "IN",
          "ES",
          "KR",
          "FR"
         ],
         "xaxis": "x",
         "y": [
          438,
          250,
          103,
          71,
          69,
          58,
          38,
          24,
          24,
          22
         ],
         "yaxis": "y"
        }
       ],
       "layout": {
        "barmode": "group",
        "font": {
         "color": "#FFFFFF",
         "family": "Arial"
        },
        "height": 400,
        "legend": {
         "tracegroupgap": 0
        },
        "paper_bgcolor": "#000000",
        "plot_bgcolor": "#000000",
        "showlegend": false,
        "template": {
         "data": {
          "bar": [
           {
            "error_x": {
             "color": "#2a3f5f"
            },
            "error_y": {
             "color": "#2a3f5f"
            },
            "marker": {
             "line": {
              "color": "#E5ECF6",
              "width": 0.5
             },
             "pattern": {
              "fillmode": "overlay",
              "size": 10,
              "solidity": 0.2
             }
            },
            "type": "bar"
           }
          ],
          "barpolar": [
           {
            "marker": {
             "line": {
              "color": "#E5ECF6",
              "width": 0.5
             },
             "pattern": {
              "fillmode": "overlay",
              "size": 10,
              "solidity": 0.2
             }
            },
            "type": "barpolar"
           }
          ],
          "carpet": [
           {
            "aaxis": {
             "endlinecolor": "#2a3f5f",
             "gridcolor": "white",
             "linecolor": "white",
             "minorgridcolor": "white",
             "startlinecolor": "#2a3f5f"
            },
            "baxis": {
             "endlinecolor": "#2a3f5f",
             "gridcolor": "white",
             "linecolor": "white",
             "minorgridcolor": "white",
             "startlinecolor": "#2a3f5f"
            },
            "type": "carpet"
           }
          ],
          "choropleth": [
           {
            "colorbar": {
             "outlinewidth": 0,
             "ticks": ""
            },
            "type": "choropleth"
           }
          ],
          "contour": [
           {
            "colorbar": {
             "outlinewidth": 0,
             "ticks": ""
            },
            "colorscale": [
             [
              0,
              "#0d0887"
             ],
             [
              0.1111111111111111,
              "#46039f"
             ],
             [
              0.2222222222222222,
              "#7201a8"
             ],
             [
              0.3333333333333333,
              "#9c179e"
             ],
             [
              0.4444444444444444,
              "#bd3786"
             ],
             [
              0.5555555555555556,
              "#d8576b"
             ],
             [
              0.6666666666666666,
              "#ed7953"
             ],
             [
              0.7777777777777778,
              "#fb9f3a"
             ],
             [
              0.8888888888888888,
              "#fdca26"
             ],
             [
              1,
              "#f0f921"
             ]
            ],
            "type": "contour"
           }
          ],
          "contourcarpet": [
           {
            "colorbar": {
             "outlinewidth": 0,
             "ticks": ""
            },
            "type": "contourcarpet"
           }
          ],
          "heatmap": [
           {
            "colorbar": {
             "outlinewidth": 0,
             "ticks": ""
            },
            "colorscale": [
             [
              0,
              "#0d0887"
             ],
             [
              0.1111111111111111,
              "#46039f"
             ],
             [
              0.2222222222222222,
              "#7201a8"
             ],
             [
              0.3333333333333333,
              "#9c179e"
             ],
             [
              0.4444444444444444,
              "#bd3786"
             ],
             [
              0.5555555555555556,
              "#d8576b"
             ],
             [
              0.6666666666666666,
              "#ed7953"
             ],
             [
              0.7777777777777778,
              "#fb9f3a"
             ],
             [
              0.8888888888888888,
              "#fdca26"
             ],
             [
              1,
              "#f0f921"
             ]
            ],
            "type": "heatmap"
           }
          ],
          "heatmapgl": [
           {
            "colorbar": {
             "outlinewidth": 0,
             "ticks": ""
            },
            "colorscale": [
             [
              0,
              "#0d0887"
             ],
             [
              0.1111111111111111,
              "#46039f"
             ],
             [
              0.2222222222222222,
              "#7201a8"
             ],
             [
              0.3333333333333333,
              "#9c179e"
             ],
             [
              0.4444444444444444,
              "#bd3786"
             ],
             [
              0.5555555555555556,
              "#d8576b"
             ],
             [
              0.6666666666666666,
              "#ed7953"
             ],
             [
              0.7777777777777778,
              "#fb9f3a"
             ],
             [
              0.8888888888888888,
              "#fdca26"
             ],
             [
              1,
              "#f0f921"
             ]
            ],
            "type": "heatmapgl"
           }
          ],
          "histogram": [
           {
            "marker": {
             "pattern": {
              "fillmode": "overlay",
              "size": 10,
              "solidity": 0.2
             }
            },
            "type": "histogram"
           }
          ],
          "histogram2d": [
           {
            "colorbar": {
             "outlinewidth": 0,
             "ticks": ""
            },
            "colorscale": [
             [
              0,
              "#0d0887"
             ],
             [
              0.1111111111111111,
              "#46039f"
             ],
             [
              0.2222222222222222,
              "#7201a8"
             ],
             [
              0.3333333333333333,
              "#9c179e"
             ],
             [
              0.4444444444444444,
              "#bd3786"
             ],
             [
              0.5555555555555556,
              "#d8576b"
             ],
             [
              0.6666666666666666,
              "#ed7953"
             ],
             [
              0.7777777777777778,
              "#fb9f3a"
             ],
             [
              0.8888888888888888,
              "#fdca26"
             ],
             [
              1,
              "#f0f921"
             ]
            ],
            "type": "histogram2d"
           }
          ],
          "histogram2dcontour": [
           {
            "colorbar": {
             "outlinewidth": 0,
             "ticks": ""
            },
            "colorscale": [
             [
              0,
              "#0d0887"
             ],
             [
              0.1111111111111111,
              "#46039f"
             ],
             [
              0.2222222222222222,
              "#7201a8"
             ],
             [
              0.3333333333333333,
              "#9c179e"
             ],
             [
              0.4444444444444444,
              "#bd3786"
             ],
             [
              0.5555555555555556,
              "#d8576b"
             ],
             [
              0.6666666666666666,
              "#ed7953"
             ],
             [
              0.7777777777777778,
              "#fb9f3a"
             ],
             [
              0.8888888888888888,
              "#fdca26"
             ],
             [
              1,
              "#f0f921"
             ]
            ],
            "type": "histogram2dcontour"
           }
          ],
          "mesh3d": [
           {
            "colorbar": {
             "outlinewidth": 0,
             "ticks": ""
            },
            "type": "mesh3d"
           }
          ],
          "parcoords": [
           {
            "line": {
             "colorbar": {
              "outlinewidth": 0,
              "ticks": ""
             }
            },
            "type": "parcoords"
           }
          ],
          "pie": [
           {
            "automargin": true,
            "type": "pie"
           }
          ],
          "scatter": [
           {
            "fillpattern": {
             "fillmode": "overlay",
             "size": 10,
             "solidity": 0.2
            },
            "type": "scatter"
           }
          ],
          "scatter3d": [
           {
            "line": {
             "colorbar": {
              "outlinewidth": 0,
              "ticks": ""
             }
            },
            "marker": {
             "colorbar": {
              "outlinewidth": 0,
              "ticks": ""
             }
            },
            "type": "scatter3d"
           }
          ],
          "scattercarpet": [
           {
            "marker": {
             "colorbar": {
              "outlinewidth": 0,
              "ticks": ""
             }
            },
            "type": "scattercarpet"
           }
          ],
          "scattergeo": [
           {
            "marker": {
             "colorbar": {
              "outlinewidth": 0,
              "ticks": ""
             }
            },
            "type": "scattergeo"
           }
          ],
          "scattergl": [
           {
            "marker": {
             "colorbar": {
              "outlinewidth": 0,
              "ticks": ""
             }
            },
            "type": "scattergl"
           }
          ],
          "scattermapbox": [
           {
            "marker": {
             "colorbar": {
              "outlinewidth": 0,
              "ticks": ""
             }
            },
            "type": "scattermapbox"
           }
          ],
          "scatterpolar": [
           {
            "marker": {
             "colorbar": {
              "outlinewidth": 0,
              "ticks": ""
             }
            },
            "type": "scatterpolar"
           }
          ],
          "scatterpolargl": [
           {
            "marker": {
             "colorbar": {
              "outlinewidth": 0,
              "ticks": ""
             }
            },
            "type": "scatterpolargl"
           }
          ],
          "scatterternary": [
           {
            "marker": {
             "colorbar": {
              "outlinewidth": 0,
              "ticks": ""
             }
            },
            "type": "scatterternary"
           }
          ],
          "surface": [
           {
            "colorbar": {
             "outlinewidth": 0,
             "ticks": ""
            },
            "colorscale": [
             [
              0,
              "#0d0887"
             ],
             [
              0.1111111111111111,
              "#46039f"
             ],
             [
              0.2222222222222222,
              "#7201a8"
             ],
             [
              0.3333333333333333,
              "#9c179e"
             ],
             [
              0.4444444444444444,
              "#bd3786"
             ],
             [
              0.5555555555555556,
              "#d8576b"
             ],
             [
              0.6666666666666666,
              "#ed7953"
             ],
             [
              0.7777777777777778,
              "#fb9f3a"
             ],
             [
              0.8888888888888888,
              "#fdca26"
             ],
             [
              1,
              "#f0f921"
             ]
            ],
            "type": "surface"
           }
          ],
          "table": [
           {
            "cells": {
             "fill": {
              "color": "#EBF0F8"
             },
             "line": {
              "color": "white"
             }
            },
            "header": {
             "fill": {
              "color": "#C8D4E3"
             },
             "line": {
              "color": "white"
             }
            },
            "type": "table"
           }
          ]
         },
         "layout": {
          "annotationdefaults": {
           "arrowcolor": "#2a3f5f",
           "arrowhead": 0,
           "arrowwidth": 1
          },
          "autotypenumbers": "strict",
          "coloraxis": {
           "colorbar": {
            "outlinewidth": 0,
            "ticks": ""
           }
          },
          "colorscale": {
           "diverging": [
            [
             0,
             "#8e0152"
            ],
            [
             0.1,
             "#c51b7d"
            ],
            [
             0.2,
             "#de77ae"
            ],
            [
             0.3,
             "#f1b6da"
            ],
            [
             0.4,
             "#fde0ef"
            ],
            [
             0.5,
             "#f7f7f7"
            ],
            [
             0.6,
             "#e6f5d0"
            ],
            [
             0.7,
             "#b8e186"
            ],
            [
             0.8,
             "#7fbc41"
            ],
            [
             0.9,
             "#4d9221"
            ],
            [
             1,
             "#276419"
            ]
           ],
           "sequential": [
            [
             0,
             "#0d0887"
            ],
            [
             0.1111111111111111,
             "#46039f"
            ],
            [
             0.2222222222222222,
             "#7201a8"
            ],
            [
             0.3333333333333333,
             "#9c179e"
            ],
            [
             0.4444444444444444,
             "#bd3786"
            ],
            [
             0.5555555555555556,
             "#d8576b"
            ],
            [
             0.6666666666666666,
             "#ed7953"
            ],
            [
             0.7777777777777778,
             "#fb9f3a"
            ],
            [
             0.8888888888888888,
             "#fdca26"
            ],
            [
             1,
             "#f0f921"
            ]
           ],
           "sequentialminus": [
            [
             0,
             "#0d0887"
            ],
            [
             0.1111111111111111,
             "#46039f"
            ],
            [
             0.2222222222222222,
             "#7201a8"
            ],
            [
             0.3333333333333333,
             "#9c179e"
            ],
            [
             0.4444444444444444,
             "#bd3786"
            ],
            [
             0.5555555555555556,
             "#d8576b"
            ],
            [
             0.6666666666666666,
             "#ed7953"
            ],
            [
             0.7777777777777778,
             "#fb9f3a"
            ],
            [
             0.8888888888888888,
             "#fdca26"
            ],
            [
             1,
             "#f0f921"
            ]
           ]
          },
          "colorway": [
           "#636efa",
           "#EF553B",
           "#00cc96",
           "#ab63fa",
           "#FFA15A",
           "#19d3f3",
           "#FF6692",
           "#B6E880",
           "#FF97FF",
           "#FECB52"
          ],
          "font": {
           "color": "#2a3f5f"
          },
          "geo": {
           "bgcolor": "white",
           "lakecolor": "white",
           "landcolor": "#E5ECF6",
           "showlakes": true,
           "showland": true,
           "subunitcolor": "white"
          },
          "hoverlabel": {
           "align": "left"
          },
          "hovermode": "closest",
          "mapbox": {
           "style": "light"
          },
          "paper_bgcolor": "white",
          "plot_bgcolor": "#E5ECF6",
          "polar": {
           "angularaxis": {
            "gridcolor": "white",
            "linecolor": "white",
            "ticks": ""
           },
           "bgcolor": "#E5ECF6",
           "radialaxis": {
            "gridcolor": "white",
            "linecolor": "white",
            "ticks": ""
           }
          },
          "scene": {
           "xaxis": {
            "backgroundcolor": "#E5ECF6",
            "gridcolor": "white",
            "gridwidth": 2,
            "linecolor": "white",
            "showbackground": true,
            "ticks": "",
            "zerolinecolor": "white"
           },
           "yaxis": {
            "backgroundcolor": "#E5ECF6",
            "gridcolor": "white",
            "gridwidth": 2,
            "linecolor": "white",
            "showbackground": true,
            "ticks": "",
            "zerolinecolor": "white"
           },
           "zaxis": {
            "backgroundcolor": "#E5ECF6",
            "gridcolor": "white",
            "gridwidth": 2,
            "linecolor": "white",
            "showbackground": true,
            "ticks": "",
            "zerolinecolor": "white"
           }
          },
          "shapedefaults": {
           "line": {
            "color": "#2a3f5f"
           }
          },
          "ternary": {
           "aaxis": {
            "gridcolor": "white",
            "linecolor": "white",
            "ticks": ""
           },
           "baxis": {
            "gridcolor": "white",
            "linecolor": "white",
            "ticks": ""
           },
           "bgcolor": "#E5ECF6",
           "caxis": {
            "gridcolor": "white",
            "linecolor": "white",
            "ticks": ""
           }
          },
          "title": {
           "x": 0.05
          },
          "xaxis": {
           "automargin": true,
           "gridcolor": "white",
           "linecolor": "white",
           "ticks": "",
           "title": {
            "standoff": 15
           },
           "zerolinecolor": "white",
           "zerolinewidth": 2
          },
          "yaxis": {
           "automargin": true,
           "gridcolor": "white",
           "linecolor": "white",
           "ticks": "",
           "title": {
            "standoff": 15
           },
           "zerolinecolor": "white",
           "zerolinewidth": 2
          }
         }
        },
        "title": {
         "font": {
          "family": "Arial"
         },
         "text": "<b>Peso Paises Amazon"
        },
        "uniformtext": {
         "minsize": 12,
         "mode": "hide"
        },
        "width": 550,
        "xaxis": {
         "anchor": "y",
         "domain": [
          0,
          1
         ],
         "title": {
          "text": "Paises_Prod"
         }
        },
        "yaxis": {
         "anchor": "x",
         "domain": [
          0,
          1
         ],
         "title": {
          "text": "n_peliculas"
         },
         "visible": false
        }
       }
      }
     },
     "metadata": {},
     "output_type": "display_data"
    }
   ],
   "source": [
    "# Al final hago graficos de paises por separados porque juntos no me salían bien, no se veía ok\n",
    "\n",
    "# AMAZON\n",
    "\n",
    "fig = px.bar(paises_amazon[:10], x='Paises_Prod', y='n_peliculas', \n",
    "color_discrete_sequence =['#9B9B9B']*len(paises_amazon[:10]),\n",
    "text = \"n_peliculas\",\n",
    "barmode='group',\n",
    "title = \"<b>Peso Paises Amazon\",\n",
    "width = 550, height=400,\n",
    "#hover_name = 'Plataforma', hover_data = ['Peso_edades']\n",
    ")\n",
    "\n",
    "fig.update_layout(uniformtext_minsize=12, uniformtext_mode='hide', font_family = 'Arial', title_font_family='Arial', font_color = '#FFFFFF', \n",
    "plot_bgcolor='#000000', paper_bgcolor='#000000',showlegend=False)\n",
    "\n",
    "fig.update_traces(marker=dict(line=dict(color='black', width=0.5)),\n",
    "                  texttemplate='%{text:.1f}',\n",
    "                  textfont_size=12, textangle=0, textposition=\"outside\", cliponaxis=False\n",
    "                  )\n",
    "\n",
    "fig.update_yaxes(visible = False)\n",
    "\n",
    "\n",
    "fig.show()"
   ]
  },
  {
   "cell_type": "code",
   "execution_count": 191,
   "metadata": {},
   "outputs": [
    {
     "data": {
      "application/vnd.plotly.v1+json": {
       "config": {
        "plotlyServerURL": "https://plot.ly"
       },
       "data": [
        {
         "alignmentgroup": "True",
         "cliponaxis": false,
         "hovertemplate": "Paises_Prod=%{x}<br>n_peliculas=%{text}<extra></extra>",
         "legendgroup": "",
         "marker": {
          "color": "#D10600",
          "line": {
           "color": "black",
           "width": 0.5
          },
          "pattern": {
           "shape": ""
          }
         },
         "name": "",
         "offsetgroup": "",
         "orientation": "v",
         "showlegend": false,
         "text": [
          764,
          168,
          166,
          135,
          70,
          59,
          54,
          47,
          44,
          41
         ],
         "textangle": 0,
         "textfont": {
          "size": 12
         },
         "textposition": "outside",
         "texttemplate": "%{text:.1f}",
         "type": "bar",
         "x": [
          "US",
          "JP",
          "KR",
          "GB",
          "ES",
          "FR",
          "CA",
          "CN",
          "IN",
          "AU"
         ],
         "xaxis": "x",
         "y": [
          764,
          168,
          166,
          135,
          70,
          59,
          54,
          47,
          44,
          41
         ],
         "yaxis": "y"
        }
       ],
       "layout": {
        "barmode": "group",
        "font": {
         "color": "#FFFFFF",
         "family": "Arial"
        },
        "height": 400,
        "legend": {
         "tracegroupgap": 0
        },
        "paper_bgcolor": "#000000",
        "plot_bgcolor": "#000000",
        "showlegend": false,
        "template": {
         "data": {
          "bar": [
           {
            "error_x": {
             "color": "#2a3f5f"
            },
            "error_y": {
             "color": "#2a3f5f"
            },
            "marker": {
             "line": {
              "color": "#E5ECF6",
              "width": 0.5
             },
             "pattern": {
              "fillmode": "overlay",
              "size": 10,
              "solidity": 0.2
             }
            },
            "type": "bar"
           }
          ],
          "barpolar": [
           {
            "marker": {
             "line": {
              "color": "#E5ECF6",
              "width": 0.5
             },
             "pattern": {
              "fillmode": "overlay",
              "size": 10,
              "solidity": 0.2
             }
            },
            "type": "barpolar"
           }
          ],
          "carpet": [
           {
            "aaxis": {
             "endlinecolor": "#2a3f5f",
             "gridcolor": "white",
             "linecolor": "white",
             "minorgridcolor": "white",
             "startlinecolor": "#2a3f5f"
            },
            "baxis": {
             "endlinecolor": "#2a3f5f",
             "gridcolor": "white",
             "linecolor": "white",
             "minorgridcolor": "white",
             "startlinecolor": "#2a3f5f"
            },
            "type": "carpet"
           }
          ],
          "choropleth": [
           {
            "colorbar": {
             "outlinewidth": 0,
             "ticks": ""
            },
            "type": "choropleth"
           }
          ],
          "contour": [
           {
            "colorbar": {
             "outlinewidth": 0,
             "ticks": ""
            },
            "colorscale": [
             [
              0,
              "#0d0887"
             ],
             [
              0.1111111111111111,
              "#46039f"
             ],
             [
              0.2222222222222222,
              "#7201a8"
             ],
             [
              0.3333333333333333,
              "#9c179e"
             ],
             [
              0.4444444444444444,
              "#bd3786"
             ],
             [
              0.5555555555555556,
              "#d8576b"
             ],
             [
              0.6666666666666666,
              "#ed7953"
             ],
             [
              0.7777777777777778,
              "#fb9f3a"
             ],
             [
              0.8888888888888888,
              "#fdca26"
             ],
             [
              1,
              "#f0f921"
             ]
            ],
            "type": "contour"
           }
          ],
          "contourcarpet": [
           {
            "colorbar": {
             "outlinewidth": 0,
             "ticks": ""
            },
            "type": "contourcarpet"
           }
          ],
          "heatmap": [
           {
            "colorbar": {
             "outlinewidth": 0,
             "ticks": ""
            },
            "colorscale": [
             [
              0,
              "#0d0887"
             ],
             [
              0.1111111111111111,
              "#46039f"
             ],
             [
              0.2222222222222222,
              "#7201a8"
             ],
             [
              0.3333333333333333,
              "#9c179e"
             ],
             [
              0.4444444444444444,
              "#bd3786"
             ],
             [
              0.5555555555555556,
              "#d8576b"
             ],
             [
              0.6666666666666666,
              "#ed7953"
             ],
             [
              0.7777777777777778,
              "#fb9f3a"
             ],
             [
              0.8888888888888888,
              "#fdca26"
             ],
             [
              1,
              "#f0f921"
             ]
            ],
            "type": "heatmap"
           }
          ],
          "heatmapgl": [
           {
            "colorbar": {
             "outlinewidth": 0,
             "ticks": ""
            },
            "colorscale": [
             [
              0,
              "#0d0887"
             ],
             [
              0.1111111111111111,
              "#46039f"
             ],
             [
              0.2222222222222222,
              "#7201a8"
             ],
             [
              0.3333333333333333,
              "#9c179e"
             ],
             [
              0.4444444444444444,
              "#bd3786"
             ],
             [
              0.5555555555555556,
              "#d8576b"
             ],
             [
              0.6666666666666666,
              "#ed7953"
             ],
             [
              0.7777777777777778,
              "#fb9f3a"
             ],
             [
              0.8888888888888888,
              "#fdca26"
             ],
             [
              1,
              "#f0f921"
             ]
            ],
            "type": "heatmapgl"
           }
          ],
          "histogram": [
           {
            "marker": {
             "pattern": {
              "fillmode": "overlay",
              "size": 10,
              "solidity": 0.2
             }
            },
            "type": "histogram"
           }
          ],
          "histogram2d": [
           {
            "colorbar": {
             "outlinewidth": 0,
             "ticks": ""
            },
            "colorscale": [
             [
              0,
              "#0d0887"
             ],
             [
              0.1111111111111111,
              "#46039f"
             ],
             [
              0.2222222222222222,
              "#7201a8"
             ],
             [
              0.3333333333333333,
              "#9c179e"
             ],
             [
              0.4444444444444444,
              "#bd3786"
             ],
             [
              0.5555555555555556,
              "#d8576b"
             ],
             [
              0.6666666666666666,
              "#ed7953"
             ],
             [
              0.7777777777777778,
              "#fb9f3a"
             ],
             [
              0.8888888888888888,
              "#fdca26"
             ],
             [
              1,
              "#f0f921"
             ]
            ],
            "type": "histogram2d"
           }
          ],
          "histogram2dcontour": [
           {
            "colorbar": {
             "outlinewidth": 0,
             "ticks": ""
            },
            "colorscale": [
             [
              0,
              "#0d0887"
             ],
             [
              0.1111111111111111,
              "#46039f"
             ],
             [
              0.2222222222222222,
              "#7201a8"
             ],
             [
              0.3333333333333333,
              "#9c179e"
             ],
             [
              0.4444444444444444,
              "#bd3786"
             ],
             [
              0.5555555555555556,
              "#d8576b"
             ],
             [
              0.6666666666666666,
              "#ed7953"
             ],
             [
              0.7777777777777778,
              "#fb9f3a"
             ],
             [
              0.8888888888888888,
              "#fdca26"
             ],
             [
              1,
              "#f0f921"
             ]
            ],
            "type": "histogram2dcontour"
           }
          ],
          "mesh3d": [
           {
            "colorbar": {
             "outlinewidth": 0,
             "ticks": ""
            },
            "type": "mesh3d"
           }
          ],
          "parcoords": [
           {
            "line": {
             "colorbar": {
              "outlinewidth": 0,
              "ticks": ""
             }
            },
            "type": "parcoords"
           }
          ],
          "pie": [
           {
            "automargin": true,
            "type": "pie"
           }
          ],
          "scatter": [
           {
            "fillpattern": {
             "fillmode": "overlay",
             "size": 10,
             "solidity": 0.2
            },
            "type": "scatter"
           }
          ],
          "scatter3d": [
           {
            "line": {
             "colorbar": {
              "outlinewidth": 0,
              "ticks": ""
             }
            },
            "marker": {
             "colorbar": {
              "outlinewidth": 0,
              "ticks": ""
             }
            },
            "type": "scatter3d"
           }
          ],
          "scattercarpet": [
           {
            "marker": {
             "colorbar": {
              "outlinewidth": 0,
              "ticks": ""
             }
            },
            "type": "scattercarpet"
           }
          ],
          "scattergeo": [
           {
            "marker": {
             "colorbar": {
              "outlinewidth": 0,
              "ticks": ""
             }
            },
            "type": "scattergeo"
           }
          ],
          "scattergl": [
           {
            "marker": {
             "colorbar": {
              "outlinewidth": 0,
              "ticks": ""
             }
            },
            "type": "scattergl"
           }
          ],
          "scattermapbox": [
           {
            "marker": {
             "colorbar": {
              "outlinewidth": 0,
              "ticks": ""
             }
            },
            "type": "scattermapbox"
           }
          ],
          "scatterpolar": [
           {
            "marker": {
             "colorbar": {
              "outlinewidth": 0,
              "ticks": ""
             }
            },
            "type": "scatterpolar"
           }
          ],
          "scatterpolargl": [
           {
            "marker": {
             "colorbar": {
              "outlinewidth": 0,
              "ticks": ""
             }
            },
            "type": "scatterpolargl"
           }
          ],
          "scatterternary": [
           {
            "marker": {
             "colorbar": {
              "outlinewidth": 0,
              "ticks": ""
             }
            },
            "type": "scatterternary"
           }
          ],
          "surface": [
           {
            "colorbar": {
             "outlinewidth": 0,
             "ticks": ""
            },
            "colorscale": [
             [
              0,
              "#0d0887"
             ],
             [
              0.1111111111111111,
              "#46039f"
             ],
             [
              0.2222222222222222,
              "#7201a8"
             ],
             [
              0.3333333333333333,
              "#9c179e"
             ],
             [
              0.4444444444444444,
              "#bd3786"
             ],
             [
              0.5555555555555556,
              "#d8576b"
             ],
             [
              0.6666666666666666,
              "#ed7953"
             ],
             [
              0.7777777777777778,
              "#fb9f3a"
             ],
             [
              0.8888888888888888,
              "#fdca26"
             ],
             [
              1,
              "#f0f921"
             ]
            ],
            "type": "surface"
           }
          ],
          "table": [
           {
            "cells": {
             "fill": {
              "color": "#EBF0F8"
             },
             "line": {
              "color": "white"
             }
            },
            "header": {
             "fill": {
              "color": "#C8D4E3"
             },
             "line": {
              "color": "white"
             }
            },
            "type": "table"
           }
          ]
         },
         "layout": {
          "annotationdefaults": {
           "arrowcolor": "#2a3f5f",
           "arrowhead": 0,
           "arrowwidth": 1
          },
          "autotypenumbers": "strict",
          "coloraxis": {
           "colorbar": {
            "outlinewidth": 0,
            "ticks": ""
           }
          },
          "colorscale": {
           "diverging": [
            [
             0,
             "#8e0152"
            ],
            [
             0.1,
             "#c51b7d"
            ],
            [
             0.2,
             "#de77ae"
            ],
            [
             0.3,
             "#f1b6da"
            ],
            [
             0.4,
             "#fde0ef"
            ],
            [
             0.5,
             "#f7f7f7"
            ],
            [
             0.6,
             "#e6f5d0"
            ],
            [
             0.7,
             "#b8e186"
            ],
            [
             0.8,
             "#7fbc41"
            ],
            [
             0.9,
             "#4d9221"
            ],
            [
             1,
             "#276419"
            ]
           ],
           "sequential": [
            [
             0,
             "#0d0887"
            ],
            [
             0.1111111111111111,
             "#46039f"
            ],
            [
             0.2222222222222222,
             "#7201a8"
            ],
            [
             0.3333333333333333,
             "#9c179e"
            ],
            [
             0.4444444444444444,
             "#bd3786"
            ],
            [
             0.5555555555555556,
             "#d8576b"
            ],
            [
             0.6666666666666666,
             "#ed7953"
            ],
            [
             0.7777777777777778,
             "#fb9f3a"
            ],
            [
             0.8888888888888888,
             "#fdca26"
            ],
            [
             1,
             "#f0f921"
            ]
           ],
           "sequentialminus": [
            [
             0,
             "#0d0887"
            ],
            [
             0.1111111111111111,
             "#46039f"
            ],
            [
             0.2222222222222222,
             "#7201a8"
            ],
            [
             0.3333333333333333,
             "#9c179e"
            ],
            [
             0.4444444444444444,
             "#bd3786"
            ],
            [
             0.5555555555555556,
             "#d8576b"
            ],
            [
             0.6666666666666666,
             "#ed7953"
            ],
            [
             0.7777777777777778,
             "#fb9f3a"
            ],
            [
             0.8888888888888888,
             "#fdca26"
            ],
            [
             1,
             "#f0f921"
            ]
           ]
          },
          "colorway": [
           "#636efa",
           "#EF553B",
           "#00cc96",
           "#ab63fa",
           "#FFA15A",
           "#19d3f3",
           "#FF6692",
           "#B6E880",
           "#FF97FF",
           "#FECB52"
          ],
          "font": {
           "color": "#2a3f5f"
          },
          "geo": {
           "bgcolor": "white",
           "lakecolor": "white",
           "landcolor": "#E5ECF6",
           "showlakes": true,
           "showland": true,
           "subunitcolor": "white"
          },
          "hoverlabel": {
           "align": "left"
          },
          "hovermode": "closest",
          "mapbox": {
           "style": "light"
          },
          "paper_bgcolor": "white",
          "plot_bgcolor": "#E5ECF6",
          "polar": {
           "angularaxis": {
            "gridcolor": "white",
            "linecolor": "white",
            "ticks": ""
           },
           "bgcolor": "#E5ECF6",
           "radialaxis": {
            "gridcolor": "white",
            "linecolor": "white",
            "ticks": ""
           }
          },
          "scene": {
           "xaxis": {
            "backgroundcolor": "#E5ECF6",
            "gridcolor": "white",
            "gridwidth": 2,
            "linecolor": "white",
            "showbackground": true,
            "ticks": "",
            "zerolinecolor": "white"
           },
           "yaxis": {
            "backgroundcolor": "#E5ECF6",
            "gridcolor": "white",
            "gridwidth": 2,
            "linecolor": "white",
            "showbackground": true,
            "ticks": "",
            "zerolinecolor": "white"
           },
           "zaxis": {
            "backgroundcolor": "#E5ECF6",
            "gridcolor": "white",
            "gridwidth": 2,
            "linecolor": "white",
            "showbackground": true,
            "ticks": "",
            "zerolinecolor": "white"
           }
          },
          "shapedefaults": {
           "line": {
            "color": "#2a3f5f"
           }
          },
          "ternary": {
           "aaxis": {
            "gridcolor": "white",
            "linecolor": "white",
            "ticks": ""
           },
           "baxis": {
            "gridcolor": "white",
            "linecolor": "white",
            "ticks": ""
           },
           "bgcolor": "#E5ECF6",
           "caxis": {
            "gridcolor": "white",
            "linecolor": "white",
            "ticks": ""
           }
          },
          "title": {
           "x": 0.05
          },
          "xaxis": {
           "automargin": true,
           "gridcolor": "white",
           "linecolor": "white",
           "ticks": "",
           "title": {
            "standoff": 15
           },
           "zerolinecolor": "white",
           "zerolinewidth": 2
          },
          "yaxis": {
           "automargin": true,
           "gridcolor": "white",
           "linecolor": "white",
           "ticks": "",
           "title": {
            "standoff": 15
           },
           "zerolinecolor": "white",
           "zerolinewidth": 2
          }
         }
        },
        "title": {
         "font": {
          "family": "Arial"
         },
         "text": "<b>Peso Paises Netflix"
        },
        "uniformtext": {
         "minsize": 12,
         "mode": "hide"
        },
        "width": 550,
        "xaxis": {
         "anchor": "y",
         "domain": [
          0,
          1
         ],
         "title": {
          "text": "Paises_Prod"
         }
        },
        "yaxis": {
         "anchor": "x",
         "domain": [
          0,
          1
         ],
         "title": {
          "text": "n_peliculas"
         },
         "visible": false
        }
       }
      }
     },
     "metadata": {},
     "output_type": "display_data"
    }
   ],
   "source": [
    "# NETFLIX\n",
    "\n",
    "\n",
    "fig = px.bar(paises_netflix[:10], x='Paises_Prod', y='n_peliculas', \n",
    "color_discrete_sequence =['#D10600']*len(paises_netflix[:10]),\n",
    "text = \"n_peliculas\",\n",
    "barmode='group',\n",
    "title = \"<b>Peso Paises Netflix\",\n",
    "width = 550, height=400,\n",
    "#hover_name = 'Plataforma', hover_data = ['Peso_edades']\n",
    ")\n",
    "\n",
    "fig.update_layout(uniformtext_minsize=12, uniformtext_mode='hide', font_family = 'Arial', title_font_family='Arial', font_color = '#FFFFFF', \n",
    "plot_bgcolor='#000000', paper_bgcolor='#000000',showlegend=False)\n",
    "\n",
    "fig.update_traces(marker=dict(line=dict(color='black', width=0.5)),\n",
    "                  texttemplate='%{text:.1f}',\n",
    "                  textfont_size=12, textangle=0, textposition=\"outside\", cliponaxis=False\n",
    "                  )\n",
    "\n",
    "fig.update_yaxes(visible = False)\n",
    "\n",
    "\n",
    "fig.show()"
   ]
  },
  {
   "cell_type": "code",
   "execution_count": 192,
   "metadata": {},
   "outputs": [
    {
     "data": {
      "application/vnd.plotly.v1+json": {
       "config": {
        "plotlyServerURL": "https://plot.ly"
       },
       "data": [
        {
         "alignmentgroup": "True",
         "cliponaxis": false,
         "hovertemplate": "Paises_Prod=%{x}<br>n_peliculas=%{text}<extra></extra>",
         "legendgroup": "",
         "marker": {
          "color": "#460076",
          "line": {
           "color": "black",
           "width": 0.5
          },
          "pattern": {
           "shape": ""
          }
         },
         "name": "",
         "offsetgroup": "",
         "orientation": "v",
         "showlegend": false,
         "text": [
          526,
          58,
          35,
          16,
          14,
          8,
          7,
          6,
          6,
          6
         ],
         "textangle": 0,
         "textfont": {
          "size": 12
         },
         "textposition": "outside",
         "texttemplate": "%{text:.1f}",
         "type": "bar",
         "x": [
          "US",
          "GB",
          "JP",
          "ES",
          "BR",
          "FR",
          "MX",
          "TW",
          "RO",
          "AR"
         ],
         "xaxis": "x",
         "y": [
          526,
          58,
          35,
          16,
          14,
          8,
          7,
          6,
          6,
          6
         ],
         "yaxis": "y"
        }
       ],
       "layout": {
        "barmode": "group",
        "font": {
         "color": "#FFFFFF",
         "family": "Arial"
        },
        "height": 400,
        "legend": {
         "tracegroupgap": 0
        },
        "paper_bgcolor": "#000000",
        "plot_bgcolor": "#000000",
        "showlegend": false,
        "template": {
         "data": {
          "bar": [
           {
            "error_x": {
             "color": "#2a3f5f"
            },
            "error_y": {
             "color": "#2a3f5f"
            },
            "marker": {
             "line": {
              "color": "#E5ECF6",
              "width": 0.5
             },
             "pattern": {
              "fillmode": "overlay",
              "size": 10,
              "solidity": 0.2
             }
            },
            "type": "bar"
           }
          ],
          "barpolar": [
           {
            "marker": {
             "line": {
              "color": "#E5ECF6",
              "width": 0.5
             },
             "pattern": {
              "fillmode": "overlay",
              "size": 10,
              "solidity": 0.2
             }
            },
            "type": "barpolar"
           }
          ],
          "carpet": [
           {
            "aaxis": {
             "endlinecolor": "#2a3f5f",
             "gridcolor": "white",
             "linecolor": "white",
             "minorgridcolor": "white",
             "startlinecolor": "#2a3f5f"
            },
            "baxis": {
             "endlinecolor": "#2a3f5f",
             "gridcolor": "white",
             "linecolor": "white",
             "minorgridcolor": "white",
             "startlinecolor": "#2a3f5f"
            },
            "type": "carpet"
           }
          ],
          "choropleth": [
           {
            "colorbar": {
             "outlinewidth": 0,
             "ticks": ""
            },
            "type": "choropleth"
           }
          ],
          "contour": [
           {
            "colorbar": {
             "outlinewidth": 0,
             "ticks": ""
            },
            "colorscale": [
             [
              0,
              "#0d0887"
             ],
             [
              0.1111111111111111,
              "#46039f"
             ],
             [
              0.2222222222222222,
              "#7201a8"
             ],
             [
              0.3333333333333333,
              "#9c179e"
             ],
             [
              0.4444444444444444,
              "#bd3786"
             ],
             [
              0.5555555555555556,
              "#d8576b"
             ],
             [
              0.6666666666666666,
              "#ed7953"
             ],
             [
              0.7777777777777778,
              "#fb9f3a"
             ],
             [
              0.8888888888888888,
              "#fdca26"
             ],
             [
              1,
              "#f0f921"
             ]
            ],
            "type": "contour"
           }
          ],
          "contourcarpet": [
           {
            "colorbar": {
             "outlinewidth": 0,
             "ticks": ""
            },
            "type": "contourcarpet"
           }
          ],
          "heatmap": [
           {
            "colorbar": {
             "outlinewidth": 0,
             "ticks": ""
            },
            "colorscale": [
             [
              0,
              "#0d0887"
             ],
             [
              0.1111111111111111,
              "#46039f"
             ],
             [
              0.2222222222222222,
              "#7201a8"
             ],
             [
              0.3333333333333333,
              "#9c179e"
             ],
             [
              0.4444444444444444,
              "#bd3786"
             ],
             [
              0.5555555555555556,
              "#d8576b"
             ],
             [
              0.6666666666666666,
              "#ed7953"
             ],
             [
              0.7777777777777778,
              "#fb9f3a"
             ],
             [
              0.8888888888888888,
              "#fdca26"
             ],
             [
              1,
              "#f0f921"
             ]
            ],
            "type": "heatmap"
           }
          ],
          "heatmapgl": [
           {
            "colorbar": {
             "outlinewidth": 0,
             "ticks": ""
            },
            "colorscale": [
             [
              0,
              "#0d0887"
             ],
             [
              0.1111111111111111,
              "#46039f"
             ],
             [
              0.2222222222222222,
              "#7201a8"
             ],
             [
              0.3333333333333333,
              "#9c179e"
             ],
             [
              0.4444444444444444,
              "#bd3786"
             ],
             [
              0.5555555555555556,
              "#d8576b"
             ],
             [
              0.6666666666666666,
              "#ed7953"
             ],
             [
              0.7777777777777778,
              "#fb9f3a"
             ],
             [
              0.8888888888888888,
              "#fdca26"
             ],
             [
              1,
              "#f0f921"
             ]
            ],
            "type": "heatmapgl"
           }
          ],
          "histogram": [
           {
            "marker": {
             "pattern": {
              "fillmode": "overlay",
              "size": 10,
              "solidity": 0.2
             }
            },
            "type": "histogram"
           }
          ],
          "histogram2d": [
           {
            "colorbar": {
             "outlinewidth": 0,
             "ticks": ""
            },
            "colorscale": [
             [
              0,
              "#0d0887"
             ],
             [
              0.1111111111111111,
              "#46039f"
             ],
             [
              0.2222222222222222,
              "#7201a8"
             ],
             [
              0.3333333333333333,
              "#9c179e"
             ],
             [
              0.4444444444444444,
              "#bd3786"
             ],
             [
              0.5555555555555556,
              "#d8576b"
             ],
             [
              0.6666666666666666,
              "#ed7953"
             ],
             [
              0.7777777777777778,
              "#fb9f3a"
             ],
             [
              0.8888888888888888,
              "#fdca26"
             ],
             [
              1,
              "#f0f921"
             ]
            ],
            "type": "histogram2d"
           }
          ],
          "histogram2dcontour": [
           {
            "colorbar": {
             "outlinewidth": 0,
             "ticks": ""
            },
            "colorscale": [
             [
              0,
              "#0d0887"
             ],
             [
              0.1111111111111111,
              "#46039f"
             ],
             [
              0.2222222222222222,
              "#7201a8"
             ],
             [
              0.3333333333333333,
              "#9c179e"
             ],
             [
              0.4444444444444444,
              "#bd3786"
             ],
             [
              0.5555555555555556,
              "#d8576b"
             ],
             [
              0.6666666666666666,
              "#ed7953"
             ],
             [
              0.7777777777777778,
              "#fb9f3a"
             ],
             [
              0.8888888888888888,
              "#fdca26"
             ],
             [
              1,
              "#f0f921"
             ]
            ],
            "type": "histogram2dcontour"
           }
          ],
          "mesh3d": [
           {
            "colorbar": {
             "outlinewidth": 0,
             "ticks": ""
            },
            "type": "mesh3d"
           }
          ],
          "parcoords": [
           {
            "line": {
             "colorbar": {
              "outlinewidth": 0,
              "ticks": ""
             }
            },
            "type": "parcoords"
           }
          ],
          "pie": [
           {
            "automargin": true,
            "type": "pie"
           }
          ],
          "scatter": [
           {
            "fillpattern": {
             "fillmode": "overlay",
             "size": 10,
             "solidity": 0.2
            },
            "type": "scatter"
           }
          ],
          "scatter3d": [
           {
            "line": {
             "colorbar": {
              "outlinewidth": 0,
              "ticks": ""
             }
            },
            "marker": {
             "colorbar": {
              "outlinewidth": 0,
              "ticks": ""
             }
            },
            "type": "scatter3d"
           }
          ],
          "scattercarpet": [
           {
            "marker": {
             "colorbar": {
              "outlinewidth": 0,
              "ticks": ""
             }
            },
            "type": "scattercarpet"
           }
          ],
          "scattergeo": [
           {
            "marker": {
             "colorbar": {
              "outlinewidth": 0,
              "ticks": ""
             }
            },
            "type": "scattergeo"
           }
          ],
          "scattergl": [
           {
            "marker": {
             "colorbar": {
              "outlinewidth": 0,
              "ticks": ""
             }
            },
            "type": "scattergl"
           }
          ],
          "scattermapbox": [
           {
            "marker": {
             "colorbar": {
              "outlinewidth": 0,
              "ticks": ""
             }
            },
            "type": "scattermapbox"
           }
          ],
          "scatterpolar": [
           {
            "marker": {
             "colorbar": {
              "outlinewidth": 0,
              "ticks": ""
             }
            },
            "type": "scatterpolar"
           }
          ],
          "scatterpolargl": [
           {
            "marker": {
             "colorbar": {
              "outlinewidth": 0,
              "ticks": ""
             }
            },
            "type": "scatterpolargl"
           }
          ],
          "scatterternary": [
           {
            "marker": {
             "colorbar": {
              "outlinewidth": 0,
              "ticks": ""
             }
            },
            "type": "scatterternary"
           }
          ],
          "surface": [
           {
            "colorbar": {
             "outlinewidth": 0,
             "ticks": ""
            },
            "colorscale": [
             [
              0,
              "#0d0887"
             ],
             [
              0.1111111111111111,
              "#46039f"
             ],
             [
              0.2222222222222222,
              "#7201a8"
             ],
             [
              0.3333333333333333,
              "#9c179e"
             ],
             [
              0.4444444444444444,
              "#bd3786"
             ],
             [
              0.5555555555555556,
              "#d8576b"
             ],
             [
              0.6666666666666666,
              "#ed7953"
             ],
             [
              0.7777777777777778,
              "#fb9f3a"
             ],
             [
              0.8888888888888888,
              "#fdca26"
             ],
             [
              1,
              "#f0f921"
             ]
            ],
            "type": "surface"
           }
          ],
          "table": [
           {
            "cells": {
             "fill": {
              "color": "#EBF0F8"
             },
             "line": {
              "color": "white"
             }
            },
            "header": {
             "fill": {
              "color": "#C8D4E3"
             },
             "line": {
              "color": "white"
             }
            },
            "type": "table"
           }
          ]
         },
         "layout": {
          "annotationdefaults": {
           "arrowcolor": "#2a3f5f",
           "arrowhead": 0,
           "arrowwidth": 1
          },
          "autotypenumbers": "strict",
          "coloraxis": {
           "colorbar": {
            "outlinewidth": 0,
            "ticks": ""
           }
          },
          "colorscale": {
           "diverging": [
            [
             0,
             "#8e0152"
            ],
            [
             0.1,
             "#c51b7d"
            ],
            [
             0.2,
             "#de77ae"
            ],
            [
             0.3,
             "#f1b6da"
            ],
            [
             0.4,
             "#fde0ef"
            ],
            [
             0.5,
             "#f7f7f7"
            ],
            [
             0.6,
             "#e6f5d0"
            ],
            [
             0.7,
             "#b8e186"
            ],
            [
             0.8,
             "#7fbc41"
            ],
            [
             0.9,
             "#4d9221"
            ],
            [
             1,
             "#276419"
            ]
           ],
           "sequential": [
            [
             0,
             "#0d0887"
            ],
            [
             0.1111111111111111,
             "#46039f"
            ],
            [
             0.2222222222222222,
             "#7201a8"
            ],
            [
             0.3333333333333333,
             "#9c179e"
            ],
            [
             0.4444444444444444,
             "#bd3786"
            ],
            [
             0.5555555555555556,
             "#d8576b"
            ],
            [
             0.6666666666666666,
             "#ed7953"
            ],
            [
             0.7777777777777778,
             "#fb9f3a"
            ],
            [
             0.8888888888888888,
             "#fdca26"
            ],
            [
             1,
             "#f0f921"
            ]
           ],
           "sequentialminus": [
            [
             0,
             "#0d0887"
            ],
            [
             0.1111111111111111,
             "#46039f"
            ],
            [
             0.2222222222222222,
             "#7201a8"
            ],
            [
             0.3333333333333333,
             "#9c179e"
            ],
            [
             0.4444444444444444,
             "#bd3786"
            ],
            [
             0.5555555555555556,
             "#d8576b"
            ],
            [
             0.6666666666666666,
             "#ed7953"
            ],
            [
             0.7777777777777778,
             "#fb9f3a"
            ],
            [
             0.8888888888888888,
             "#fdca26"
            ],
            [
             1,
             "#f0f921"
            ]
           ]
          },
          "colorway": [
           "#636efa",
           "#EF553B",
           "#00cc96",
           "#ab63fa",
           "#FFA15A",
           "#19d3f3",
           "#FF6692",
           "#B6E880",
           "#FF97FF",
           "#FECB52"
          ],
          "font": {
           "color": "#2a3f5f"
          },
          "geo": {
           "bgcolor": "white",
           "lakecolor": "white",
           "landcolor": "#E5ECF6",
           "showlakes": true,
           "showland": true,
           "subunitcolor": "white"
          },
          "hoverlabel": {
           "align": "left"
          },
          "hovermode": "closest",
          "mapbox": {
           "style": "light"
          },
          "paper_bgcolor": "white",
          "plot_bgcolor": "#E5ECF6",
          "polar": {
           "angularaxis": {
            "gridcolor": "white",
            "linecolor": "white",
            "ticks": ""
           },
           "bgcolor": "#E5ECF6",
           "radialaxis": {
            "gridcolor": "white",
            "linecolor": "white",
            "ticks": ""
           }
          },
          "scene": {
           "xaxis": {
            "backgroundcolor": "#E5ECF6",
            "gridcolor": "white",
            "gridwidth": 2,
            "linecolor": "white",
            "showbackground": true,
            "ticks": "",
            "zerolinecolor": "white"
           },
           "yaxis": {
            "backgroundcolor": "#E5ECF6",
            "gridcolor": "white",
            "gridwidth": 2,
            "linecolor": "white",
            "showbackground": true,
            "ticks": "",
            "zerolinecolor": "white"
           },
           "zaxis": {
            "backgroundcolor": "#E5ECF6",
            "gridcolor": "white",
            "gridwidth": 2,
            "linecolor": "white",
            "showbackground": true,
            "ticks": "",
            "zerolinecolor": "white"
           }
          },
          "shapedefaults": {
           "line": {
            "color": "#2a3f5f"
           }
          },
          "ternary": {
           "aaxis": {
            "gridcolor": "white",
            "linecolor": "white",
            "ticks": ""
           },
           "baxis": {
            "gridcolor": "white",
            "linecolor": "white",
            "ticks": ""
           },
           "bgcolor": "#E5ECF6",
           "caxis": {
            "gridcolor": "white",
            "linecolor": "white",
            "ticks": ""
           }
          },
          "title": {
           "x": 0.05
          },
          "xaxis": {
           "automargin": true,
           "gridcolor": "white",
           "linecolor": "white",
           "ticks": "",
           "title": {
            "standoff": 15
           },
           "zerolinecolor": "white",
           "zerolinewidth": 2
          },
          "yaxis": {
           "automargin": true,
           "gridcolor": "white",
           "linecolor": "white",
           "ticks": "",
           "title": {
            "standoff": 15
           },
           "zerolinecolor": "white",
           "zerolinewidth": 2
          }
         }
        },
        "title": {
         "font": {
          "family": "Arial"
         },
         "text": "<b>Peso Paises HBO"
        },
        "uniformtext": {
         "minsize": 12,
         "mode": "hide"
        },
        "width": 550,
        "xaxis": {
         "anchor": "y",
         "domain": [
          0,
          1
         ],
         "title": {
          "text": "Paises_Prod"
         }
        },
        "yaxis": {
         "anchor": "x",
         "domain": [
          0,
          1
         ],
         "title": {
          "text": "n_peliculas"
         },
         "visible": false
        }
       }
      }
     },
     "metadata": {},
     "output_type": "display_data"
    }
   ],
   "source": [
    "# HBO\n",
    "\n",
    "fig = px.bar(paises_hbo[:10], x='Paises_Prod', y='n_peliculas', \n",
    "color_discrete_sequence =['#460076'],\n",
    "text = \"n_peliculas\",\n",
    "barmode='group',\n",
    "title = \"<b>Peso Paises HBO\",\n",
    "width = 550, height=400,\n",
    "#hover_name = 'Plataforma', hover_data = ['Peso_edades']\n",
    ")\n",
    "\n",
    "fig.update_layout(uniformtext_minsize=12, uniformtext_mode='hide', font_family = 'Arial', title_font_family='Arial', font_color = '#FFFFFF', \n",
    "plot_bgcolor='#000000', paper_bgcolor='#000000',showlegend=False)\n",
    "\n",
    "\n",
    "\n",
    "fig.update_traces(marker=dict(line=dict(color='black', width=0.5)),\n",
    "                  texttemplate='%{text:.1f}',\n",
    "                  textfont_size=12, textangle=0, textposition=\"outside\", cliponaxis=False\n",
    "                  )\n",
    "\n",
    "\n",
    "fig.update_yaxes(visible = False)\n",
    "\n",
    "\n",
    "fig.show()"
   ]
  },
  {
   "cell_type": "code",
   "execution_count": 193,
   "metadata": {},
   "outputs": [
    {
     "data": {
      "application/vnd.plotly.v1+json": {
       "config": {
        "plotlyServerURL": "https://plot.ly"
       },
       "data": [
        {
         "alignmentgroup": "True",
         "cliponaxis": false,
         "hovertemplate": "Paises_Prod=%{x}<br>n_peliculas=%{text}<extra></extra>",
         "legendgroup": "",
         "marker": {
          "color": "#98FF93",
          "line": {
           "color": "white",
           "width": 0.5
          },
          "pattern": {
           "shape": ""
          }
         },
         "name": "",
         "offsetgroup": "",
         "orientation": "v",
         "showlegend": false,
         "text": [
          784,
          291,
          97,
          35,
          20,
          15,
          7,
          6,
          4,
          3
         ],
         "textangle": 0,
         "textfont": {
          "size": 12
         },
         "textposition": "outside",
         "texttemplate": "%{text:.1f}",
         "type": "bar",
         "x": [
          "US",
          "JP",
          "GB",
          "CA",
          "AU",
          "KR",
          "DE",
          "MX",
          "FR",
          "BR"
         ],
         "xaxis": "x",
         "y": [
          784,
          291,
          97,
          35,
          20,
          15,
          7,
          6,
          4,
          3
         ],
         "yaxis": "y"
        }
       ],
       "layout": {
        "barmode": "group",
        "font": {
         "color": "#FFFFFF",
         "family": "Arial"
        },
        "height": 400,
        "legend": {
         "tracegroupgap": 0
        },
        "paper_bgcolor": "#000000",
        "plot_bgcolor": "#000000",
        "showlegend": false,
        "template": {
         "data": {
          "bar": [
           {
            "error_x": {
             "color": "#2a3f5f"
            },
            "error_y": {
             "color": "#2a3f5f"
            },
            "marker": {
             "line": {
              "color": "#E5ECF6",
              "width": 0.5
             },
             "pattern": {
              "fillmode": "overlay",
              "size": 10,
              "solidity": 0.2
             }
            },
            "type": "bar"
           }
          ],
          "barpolar": [
           {
            "marker": {
             "line": {
              "color": "#E5ECF6",
              "width": 0.5
             },
             "pattern": {
              "fillmode": "overlay",
              "size": 10,
              "solidity": 0.2
             }
            },
            "type": "barpolar"
           }
          ],
          "carpet": [
           {
            "aaxis": {
             "endlinecolor": "#2a3f5f",
             "gridcolor": "white",
             "linecolor": "white",
             "minorgridcolor": "white",
             "startlinecolor": "#2a3f5f"
            },
            "baxis": {
             "endlinecolor": "#2a3f5f",
             "gridcolor": "white",
             "linecolor": "white",
             "minorgridcolor": "white",
             "startlinecolor": "#2a3f5f"
            },
            "type": "carpet"
           }
          ],
          "choropleth": [
           {
            "colorbar": {
             "outlinewidth": 0,
             "ticks": ""
            },
            "type": "choropleth"
           }
          ],
          "contour": [
           {
            "colorbar": {
             "outlinewidth": 0,
             "ticks": ""
            },
            "colorscale": [
             [
              0,
              "#0d0887"
             ],
             [
              0.1111111111111111,
              "#46039f"
             ],
             [
              0.2222222222222222,
              "#7201a8"
             ],
             [
              0.3333333333333333,
              "#9c179e"
             ],
             [
              0.4444444444444444,
              "#bd3786"
             ],
             [
              0.5555555555555556,
              "#d8576b"
             ],
             [
              0.6666666666666666,
              "#ed7953"
             ],
             [
              0.7777777777777778,
              "#fb9f3a"
             ],
             [
              0.8888888888888888,
              "#fdca26"
             ],
             [
              1,
              "#f0f921"
             ]
            ],
            "type": "contour"
           }
          ],
          "contourcarpet": [
           {
            "colorbar": {
             "outlinewidth": 0,
             "ticks": ""
            },
            "type": "contourcarpet"
           }
          ],
          "heatmap": [
           {
            "colorbar": {
             "outlinewidth": 0,
             "ticks": ""
            },
            "colorscale": [
             [
              0,
              "#0d0887"
             ],
             [
              0.1111111111111111,
              "#46039f"
             ],
             [
              0.2222222222222222,
              "#7201a8"
             ],
             [
              0.3333333333333333,
              "#9c179e"
             ],
             [
              0.4444444444444444,
              "#bd3786"
             ],
             [
              0.5555555555555556,
              "#d8576b"
             ],
             [
              0.6666666666666666,
              "#ed7953"
             ],
             [
              0.7777777777777778,
              "#fb9f3a"
             ],
             [
              0.8888888888888888,
              "#fdca26"
             ],
             [
              1,
              "#f0f921"
             ]
            ],
            "type": "heatmap"
           }
          ],
          "heatmapgl": [
           {
            "colorbar": {
             "outlinewidth": 0,
             "ticks": ""
            },
            "colorscale": [
             [
              0,
              "#0d0887"
             ],
             [
              0.1111111111111111,
              "#46039f"
             ],
             [
              0.2222222222222222,
              "#7201a8"
             ],
             [
              0.3333333333333333,
              "#9c179e"
             ],
             [
              0.4444444444444444,
              "#bd3786"
             ],
             [
              0.5555555555555556,
              "#d8576b"
             ],
             [
              0.6666666666666666,
              "#ed7953"
             ],
             [
              0.7777777777777778,
              "#fb9f3a"
             ],
             [
              0.8888888888888888,
              "#fdca26"
             ],
             [
              1,
              "#f0f921"
             ]
            ],
            "type": "heatmapgl"
           }
          ],
          "histogram": [
           {
            "marker": {
             "pattern": {
              "fillmode": "overlay",
              "size": 10,
              "solidity": 0.2
             }
            },
            "type": "histogram"
           }
          ],
          "histogram2d": [
           {
            "colorbar": {
             "outlinewidth": 0,
             "ticks": ""
            },
            "colorscale": [
             [
              0,
              "#0d0887"
             ],
             [
              0.1111111111111111,
              "#46039f"
             ],
             [
              0.2222222222222222,
              "#7201a8"
             ],
             [
              0.3333333333333333,
              "#9c179e"
             ],
             [
              0.4444444444444444,
              "#bd3786"
             ],
             [
              0.5555555555555556,
              "#d8576b"
             ],
             [
              0.6666666666666666,
              "#ed7953"
             ],
             [
              0.7777777777777778,
              "#fb9f3a"
             ],
             [
              0.8888888888888888,
              "#fdca26"
             ],
             [
              1,
              "#f0f921"
             ]
            ],
            "type": "histogram2d"
           }
          ],
          "histogram2dcontour": [
           {
            "colorbar": {
             "outlinewidth": 0,
             "ticks": ""
            },
            "colorscale": [
             [
              0,
              "#0d0887"
             ],
             [
              0.1111111111111111,
              "#46039f"
             ],
             [
              0.2222222222222222,
              "#7201a8"
             ],
             [
              0.3333333333333333,
              "#9c179e"
             ],
             [
              0.4444444444444444,
              "#bd3786"
             ],
             [
              0.5555555555555556,
              "#d8576b"
             ],
             [
              0.6666666666666666,
              "#ed7953"
             ],
             [
              0.7777777777777778,
              "#fb9f3a"
             ],
             [
              0.8888888888888888,
              "#fdca26"
             ],
             [
              1,
              "#f0f921"
             ]
            ],
            "type": "histogram2dcontour"
           }
          ],
          "mesh3d": [
           {
            "colorbar": {
             "outlinewidth": 0,
             "ticks": ""
            },
            "type": "mesh3d"
           }
          ],
          "parcoords": [
           {
            "line": {
             "colorbar": {
              "outlinewidth": 0,
              "ticks": ""
             }
            },
            "type": "parcoords"
           }
          ],
          "pie": [
           {
            "automargin": true,
            "type": "pie"
           }
          ],
          "scatter": [
           {
            "fillpattern": {
             "fillmode": "overlay",
             "size": 10,
             "solidity": 0.2
            },
            "type": "scatter"
           }
          ],
          "scatter3d": [
           {
            "line": {
             "colorbar": {
              "outlinewidth": 0,
              "ticks": ""
             }
            },
            "marker": {
             "colorbar": {
              "outlinewidth": 0,
              "ticks": ""
             }
            },
            "type": "scatter3d"
           }
          ],
          "scattercarpet": [
           {
            "marker": {
             "colorbar": {
              "outlinewidth": 0,
              "ticks": ""
             }
            },
            "type": "scattercarpet"
           }
          ],
          "scattergeo": [
           {
            "marker": {
             "colorbar": {
              "outlinewidth": 0,
              "ticks": ""
             }
            },
            "type": "scattergeo"
           }
          ],
          "scattergl": [
           {
            "marker": {
             "colorbar": {
              "outlinewidth": 0,
              "ticks": ""
             }
            },
            "type": "scattergl"
           }
          ],
          "scattermapbox": [
           {
            "marker": {
             "colorbar": {
              "outlinewidth": 0,
              "ticks": ""
             }
            },
            "type": "scattermapbox"
           }
          ],
          "scatterpolar": [
           {
            "marker": {
             "colorbar": {
              "outlinewidth": 0,
              "ticks": ""
             }
            },
            "type": "scatterpolar"
           }
          ],
          "scatterpolargl": [
           {
            "marker": {
             "colorbar": {
              "outlinewidth": 0,
              "ticks": ""
             }
            },
            "type": "scatterpolargl"
           }
          ],
          "scatterternary": [
           {
            "marker": {
             "colorbar": {
              "outlinewidth": 0,
              "ticks": ""
             }
            },
            "type": "scatterternary"
           }
          ],
          "surface": [
           {
            "colorbar": {
             "outlinewidth": 0,
             "ticks": ""
            },
            "colorscale": [
             [
              0,
              "#0d0887"
             ],
             [
              0.1111111111111111,
              "#46039f"
             ],
             [
              0.2222222222222222,
              "#7201a8"
             ],
             [
              0.3333333333333333,
              "#9c179e"
             ],
             [
              0.4444444444444444,
              "#bd3786"
             ],
             [
              0.5555555555555556,
              "#d8576b"
             ],
             [
              0.6666666666666666,
              "#ed7953"
             ],
             [
              0.7777777777777778,
              "#fb9f3a"
             ],
             [
              0.8888888888888888,
              "#fdca26"
             ],
             [
              1,
              "#f0f921"
             ]
            ],
            "type": "surface"
           }
          ],
          "table": [
           {
            "cells": {
             "fill": {
              "color": "#EBF0F8"
             },
             "line": {
              "color": "white"
             }
            },
            "header": {
             "fill": {
              "color": "#C8D4E3"
             },
             "line": {
              "color": "white"
             }
            },
            "type": "table"
           }
          ]
         },
         "layout": {
          "annotationdefaults": {
           "arrowcolor": "#2a3f5f",
           "arrowhead": 0,
           "arrowwidth": 1
          },
          "autotypenumbers": "strict",
          "coloraxis": {
           "colorbar": {
            "outlinewidth": 0,
            "ticks": ""
           }
          },
          "colorscale": {
           "diverging": [
            [
             0,
             "#8e0152"
            ],
            [
             0.1,
             "#c51b7d"
            ],
            [
             0.2,
             "#de77ae"
            ],
            [
             0.3,
             "#f1b6da"
            ],
            [
             0.4,
             "#fde0ef"
            ],
            [
             0.5,
             "#f7f7f7"
            ],
            [
             0.6,
             "#e6f5d0"
            ],
            [
             0.7,
             "#b8e186"
            ],
            [
             0.8,
             "#7fbc41"
            ],
            [
             0.9,
             "#4d9221"
            ],
            [
             1,
             "#276419"
            ]
           ],
           "sequential": [
            [
             0,
             "#0d0887"
            ],
            [
             0.1111111111111111,
             "#46039f"
            ],
            [
             0.2222222222222222,
             "#7201a8"
            ],
            [
             0.3333333333333333,
             "#9c179e"
            ],
            [
             0.4444444444444444,
             "#bd3786"
            ],
            [
             0.5555555555555556,
             "#d8576b"
            ],
            [
             0.6666666666666666,
             "#ed7953"
            ],
            [
             0.7777777777777778,
             "#fb9f3a"
            ],
            [
             0.8888888888888888,
             "#fdca26"
            ],
            [
             1,
             "#f0f921"
            ]
           ],
           "sequentialminus": [
            [
             0,
             "#0d0887"
            ],
            [
             0.1111111111111111,
             "#46039f"
            ],
            [
             0.2222222222222222,
             "#7201a8"
            ],
            [
             0.3333333333333333,
             "#9c179e"
            ],
            [
             0.4444444444444444,
             "#bd3786"
            ],
            [
             0.5555555555555556,
             "#d8576b"
            ],
            [
             0.6666666666666666,
             "#ed7953"
            ],
            [
             0.7777777777777778,
             "#fb9f3a"
            ],
            [
             0.8888888888888888,
             "#fdca26"
            ],
            [
             1,
             "#f0f921"
            ]
           ]
          },
          "colorway": [
           "#636efa",
           "#EF553B",
           "#00cc96",
           "#ab63fa",
           "#FFA15A",
           "#19d3f3",
           "#FF6692",
           "#B6E880",
           "#FF97FF",
           "#FECB52"
          ],
          "font": {
           "color": "#2a3f5f"
          },
          "geo": {
           "bgcolor": "white",
           "lakecolor": "white",
           "landcolor": "#E5ECF6",
           "showlakes": true,
           "showland": true,
           "subunitcolor": "white"
          },
          "hoverlabel": {
           "align": "left"
          },
          "hovermode": "closest",
          "mapbox": {
           "style": "light"
          },
          "paper_bgcolor": "white",
          "plot_bgcolor": "#E5ECF6",
          "polar": {
           "angularaxis": {
            "gridcolor": "white",
            "linecolor": "white",
            "ticks": ""
           },
           "bgcolor": "#E5ECF6",
           "radialaxis": {
            "gridcolor": "white",
            "linecolor": "white",
            "ticks": ""
           }
          },
          "scene": {
           "xaxis": {
            "backgroundcolor": "#E5ECF6",
            "gridcolor": "white",
            "gridwidth": 2,
            "linecolor": "white",
            "showbackground": true,
            "ticks": "",
            "zerolinecolor": "white"
           },
           "yaxis": {
            "backgroundcolor": "#E5ECF6",
            "gridcolor": "white",
            "gridwidth": 2,
            "linecolor": "white",
            "showbackground": true,
            "ticks": "",
            "zerolinecolor": "white"
           },
           "zaxis": {
            "backgroundcolor": "#E5ECF6",
            "gridcolor": "white",
            "gridwidth": 2,
            "linecolor": "white",
            "showbackground": true,
            "ticks": "",
            "zerolinecolor": "white"
           }
          },
          "shapedefaults": {
           "line": {
            "color": "#2a3f5f"
           }
          },
          "ternary": {
           "aaxis": {
            "gridcolor": "white",
            "linecolor": "white",
            "ticks": ""
           },
           "baxis": {
            "gridcolor": "white",
            "linecolor": "white",
            "ticks": ""
           },
           "bgcolor": "#E5ECF6",
           "caxis": {
            "gridcolor": "white",
            "linecolor": "white",
            "ticks": ""
           }
          },
          "title": {
           "x": 0.05
          },
          "xaxis": {
           "automargin": true,
           "gridcolor": "white",
           "linecolor": "white",
           "ticks": "",
           "title": {
            "standoff": 15
           },
           "zerolinecolor": "white",
           "zerolinewidth": 2
          },
          "yaxis": {
           "automargin": true,
           "gridcolor": "white",
           "linecolor": "white",
           "ticks": "",
           "title": {
            "standoff": 15
           },
           "zerolinecolor": "white",
           "zerolinewidth": 2
          }
         }
        },
        "title": {
         "font": {
          "family": "Arial"
         },
         "text": "<b>Peso Paises hulu"
        },
        "uniformtext": {
         "minsize": 12,
         "mode": "hide"
        },
        "width": 550,
        "xaxis": {
         "anchor": "y",
         "domain": [
          0,
          1
         ],
         "title": {
          "text": "Paises_Prod"
         }
        },
        "yaxis": {
         "anchor": "x",
         "domain": [
          0,
          1
         ],
         "title": {
          "text": "n_peliculas"
         },
         "visible": false
        }
       }
      }
     },
     "metadata": {},
     "output_type": "display_data"
    }
   ],
   "source": [
    "# HULU\n",
    "\n",
    "fig = px.bar(paises_hulu[:10], x='Paises_Prod', y='n_peliculas', \n",
    "color_discrete_sequence =['#98FF93'],\n",
    "text = \"n_peliculas\",\n",
    "barmode='group',\n",
    "title = \"<b>Peso Paises hulu\",\n",
    "width = 550, height=400,\n",
    "#hover_name = 'Plataforma', hover_data = ['Peso_edades']\n",
    ")\n",
    "\n",
    "fig.update_traces(marker=dict(line=dict(color='white', width=0.5)),\n",
    "                  texttemplate='%{text:.1f}',\n",
    "                  textfont_size=12, textangle=0, textposition=\"outside\", cliponaxis=False\n",
    "                  )\n",
    "\n",
    "fig.update_layout(uniformtext_minsize=12, uniformtext_mode='hide', font_family = 'Arial', title_font_family='Arial', font_color = '#FFFFFF', \n",
    "plot_bgcolor='#000000', paper_bgcolor='#000000',showlegend=False)\n",
    "\n",
    "\n",
    "fig.update_yaxes(visible = False)\n",
    "\n",
    "\n",
    "fig.show()"
   ]
  },
  {
   "cell_type": "code",
   "execution_count": 194,
   "metadata": {},
   "outputs": [
    {
     "data": {
      "application/vnd.plotly.v1+json": {
       "config": {
        "plotlyServerURL": "https://plot.ly"
       },
       "data": [
        {
         "alignmentgroup": "True",
         "cliponaxis": false,
         "hovertemplate": "Paises_Prod=%{x}<br>n_peliculas=%{text}<extra></extra>",
         "legendgroup": "",
         "marker": {
          "color": "#3800C2",
          "line": {
           "color": "black",
           "width": 0.5
          },
          "pattern": {
           "shape": ""
          }
         },
         "name": "",
         "offsetgroup": "",
         "orientation": "v",
         "showlegend": false,
         "text": [
          358,
          21,
          8,
          4,
          4,
          3,
          2,
          2,
          2,
          1
         ],
         "textangle": 0,
         "textfont": {
          "size": 12
         },
         "textposition": "outside",
         "texttemplate": "%{text:.1f}",
         "type": "bar",
         "x": [
          "US",
          "GB",
          "FR",
          "AR",
          "CA",
          "DE",
          "JP",
          "NZ",
          "PH",
          "AU"
         ],
         "xaxis": "x",
         "y": [
          358,
          21,
          8,
          4,
          4,
          3,
          2,
          2,
          2,
          1
         ],
         "yaxis": "y"
        }
       ],
       "layout": {
        "barmode": "group",
        "font": {
         "color": "#FFFFFF",
         "family": "Arial"
        },
        "height": 400,
        "legend": {
         "tracegroupgap": 0
        },
        "paper_bgcolor": "#000000",
        "plot_bgcolor": "#000000",
        "showlegend": false,
        "template": {
         "data": {
          "bar": [
           {
            "error_x": {
             "color": "#2a3f5f"
            },
            "error_y": {
             "color": "#2a3f5f"
            },
            "marker": {
             "line": {
              "color": "#E5ECF6",
              "width": 0.5
             },
             "pattern": {
              "fillmode": "overlay",
              "size": 10,
              "solidity": 0.2
             }
            },
            "type": "bar"
           }
          ],
          "barpolar": [
           {
            "marker": {
             "line": {
              "color": "#E5ECF6",
              "width": 0.5
             },
             "pattern": {
              "fillmode": "overlay",
              "size": 10,
              "solidity": 0.2
             }
            },
            "type": "barpolar"
           }
          ],
          "carpet": [
           {
            "aaxis": {
             "endlinecolor": "#2a3f5f",
             "gridcolor": "white",
             "linecolor": "white",
             "minorgridcolor": "white",
             "startlinecolor": "#2a3f5f"
            },
            "baxis": {
             "endlinecolor": "#2a3f5f",
             "gridcolor": "white",
             "linecolor": "white",
             "minorgridcolor": "white",
             "startlinecolor": "#2a3f5f"
            },
            "type": "carpet"
           }
          ],
          "choropleth": [
           {
            "colorbar": {
             "outlinewidth": 0,
             "ticks": ""
            },
            "type": "choropleth"
           }
          ],
          "contour": [
           {
            "colorbar": {
             "outlinewidth": 0,
             "ticks": ""
            },
            "colorscale": [
             [
              0,
              "#0d0887"
             ],
             [
              0.1111111111111111,
              "#46039f"
             ],
             [
              0.2222222222222222,
              "#7201a8"
             ],
             [
              0.3333333333333333,
              "#9c179e"
             ],
             [
              0.4444444444444444,
              "#bd3786"
             ],
             [
              0.5555555555555556,
              "#d8576b"
             ],
             [
              0.6666666666666666,
              "#ed7953"
             ],
             [
              0.7777777777777778,
              "#fb9f3a"
             ],
             [
              0.8888888888888888,
              "#fdca26"
             ],
             [
              1,
              "#f0f921"
             ]
            ],
            "type": "contour"
           }
          ],
          "contourcarpet": [
           {
            "colorbar": {
             "outlinewidth": 0,
             "ticks": ""
            },
            "type": "contourcarpet"
           }
          ],
          "heatmap": [
           {
            "colorbar": {
             "outlinewidth": 0,
             "ticks": ""
            },
            "colorscale": [
             [
              0,
              "#0d0887"
             ],
             [
              0.1111111111111111,
              "#46039f"
             ],
             [
              0.2222222222222222,
              "#7201a8"
             ],
             [
              0.3333333333333333,
              "#9c179e"
             ],
             [
              0.4444444444444444,
              "#bd3786"
             ],
             [
              0.5555555555555556,
              "#d8576b"
             ],
             [
              0.6666666666666666,
              "#ed7953"
             ],
             [
              0.7777777777777778,
              "#fb9f3a"
             ],
             [
              0.8888888888888888,
              "#fdca26"
             ],
             [
              1,
              "#f0f921"
             ]
            ],
            "type": "heatmap"
           }
          ],
          "heatmapgl": [
           {
            "colorbar": {
             "outlinewidth": 0,
             "ticks": ""
            },
            "colorscale": [
             [
              0,
              "#0d0887"
             ],
             [
              0.1111111111111111,
              "#46039f"
             ],
             [
              0.2222222222222222,
              "#7201a8"
             ],
             [
              0.3333333333333333,
              "#9c179e"
             ],
             [
              0.4444444444444444,
              "#bd3786"
             ],
             [
              0.5555555555555556,
              "#d8576b"
             ],
             [
              0.6666666666666666,
              "#ed7953"
             ],
             [
              0.7777777777777778,
              "#fb9f3a"
             ],
             [
              0.8888888888888888,
              "#fdca26"
             ],
             [
              1,
              "#f0f921"
             ]
            ],
            "type": "heatmapgl"
           }
          ],
          "histogram": [
           {
            "marker": {
             "pattern": {
              "fillmode": "overlay",
              "size": 10,
              "solidity": 0.2
             }
            },
            "type": "histogram"
           }
          ],
          "histogram2d": [
           {
            "colorbar": {
             "outlinewidth": 0,
             "ticks": ""
            },
            "colorscale": [
             [
              0,
              "#0d0887"
             ],
             [
              0.1111111111111111,
              "#46039f"
             ],
             [
              0.2222222222222222,
              "#7201a8"
             ],
             [
              0.3333333333333333,
              "#9c179e"
             ],
             [
              0.4444444444444444,
              "#bd3786"
             ],
             [
              0.5555555555555556,
              "#d8576b"
             ],
             [
              0.6666666666666666,
              "#ed7953"
             ],
             [
              0.7777777777777778,
              "#fb9f3a"
             ],
             [
              0.8888888888888888,
              "#fdca26"
             ],
             [
              1,
              "#f0f921"
             ]
            ],
            "type": "histogram2d"
           }
          ],
          "histogram2dcontour": [
           {
            "colorbar": {
             "outlinewidth": 0,
             "ticks": ""
            },
            "colorscale": [
             [
              0,
              "#0d0887"
             ],
             [
              0.1111111111111111,
              "#46039f"
             ],
             [
              0.2222222222222222,
              "#7201a8"
             ],
             [
              0.3333333333333333,
              "#9c179e"
             ],
             [
              0.4444444444444444,
              "#bd3786"
             ],
             [
              0.5555555555555556,
              "#d8576b"
             ],
             [
              0.6666666666666666,
              "#ed7953"
             ],
             [
              0.7777777777777778,
              "#fb9f3a"
             ],
             [
              0.8888888888888888,
              "#fdca26"
             ],
             [
              1,
              "#f0f921"
             ]
            ],
            "type": "histogram2dcontour"
           }
          ],
          "mesh3d": [
           {
            "colorbar": {
             "outlinewidth": 0,
             "ticks": ""
            },
            "type": "mesh3d"
           }
          ],
          "parcoords": [
           {
            "line": {
             "colorbar": {
              "outlinewidth": 0,
              "ticks": ""
             }
            },
            "type": "parcoords"
           }
          ],
          "pie": [
           {
            "automargin": true,
            "type": "pie"
           }
          ],
          "scatter": [
           {
            "fillpattern": {
             "fillmode": "overlay",
             "size": 10,
             "solidity": 0.2
            },
            "type": "scatter"
           }
          ],
          "scatter3d": [
           {
            "line": {
             "colorbar": {
              "outlinewidth": 0,
              "ticks": ""
             }
            },
            "marker": {
             "colorbar": {
              "outlinewidth": 0,
              "ticks": ""
             }
            },
            "type": "scatter3d"
           }
          ],
          "scattercarpet": [
           {
            "marker": {
             "colorbar": {
              "outlinewidth": 0,
              "ticks": ""
             }
            },
            "type": "scattercarpet"
           }
          ],
          "scattergeo": [
           {
            "marker": {
             "colorbar": {
              "outlinewidth": 0,
              "ticks": ""
             }
            },
            "type": "scattergeo"
           }
          ],
          "scattergl": [
           {
            "marker": {
             "colorbar": {
              "outlinewidth": 0,
              "ticks": ""
             }
            },
            "type": "scattergl"
           }
          ],
          "scattermapbox": [
           {
            "marker": {
             "colorbar": {
              "outlinewidth": 0,
              "ticks": ""
             }
            },
            "type": "scattermapbox"
           }
          ],
          "scatterpolar": [
           {
            "marker": {
             "colorbar": {
              "outlinewidth": 0,
              "ticks": ""
             }
            },
            "type": "scatterpolar"
           }
          ],
          "scatterpolargl": [
           {
            "marker": {
             "colorbar": {
              "outlinewidth": 0,
              "ticks": ""
             }
            },
            "type": "scatterpolargl"
           }
          ],
          "scatterternary": [
           {
            "marker": {
             "colorbar": {
              "outlinewidth": 0,
              "ticks": ""
             }
            },
            "type": "scatterternary"
           }
          ],
          "surface": [
           {
            "colorbar": {
             "outlinewidth": 0,
             "ticks": ""
            },
            "colorscale": [
             [
              0,
              "#0d0887"
             ],
             [
              0.1111111111111111,
              "#46039f"
             ],
             [
              0.2222222222222222,
              "#7201a8"
             ],
             [
              0.3333333333333333,
              "#9c179e"
             ],
             [
              0.4444444444444444,
              "#bd3786"
             ],
             [
              0.5555555555555556,
              "#d8576b"
             ],
             [
              0.6666666666666666,
              "#ed7953"
             ],
             [
              0.7777777777777778,
              "#fb9f3a"
             ],
             [
              0.8888888888888888,
              "#fdca26"
             ],
             [
              1,
              "#f0f921"
             ]
            ],
            "type": "surface"
           }
          ],
          "table": [
           {
            "cells": {
             "fill": {
              "color": "#EBF0F8"
             },
             "line": {
              "color": "white"
             }
            },
            "header": {
             "fill": {
              "color": "#C8D4E3"
             },
             "line": {
              "color": "white"
             }
            },
            "type": "table"
           }
          ]
         },
         "layout": {
          "annotationdefaults": {
           "arrowcolor": "#2a3f5f",
           "arrowhead": 0,
           "arrowwidth": 1
          },
          "autotypenumbers": "strict",
          "coloraxis": {
           "colorbar": {
            "outlinewidth": 0,
            "ticks": ""
           }
          },
          "colorscale": {
           "diverging": [
            [
             0,
             "#8e0152"
            ],
            [
             0.1,
             "#c51b7d"
            ],
            [
             0.2,
             "#de77ae"
            ],
            [
             0.3,
             "#f1b6da"
            ],
            [
             0.4,
             "#fde0ef"
            ],
            [
             0.5,
             "#f7f7f7"
            ],
            [
             0.6,
             "#e6f5d0"
            ],
            [
             0.7,
             "#b8e186"
            ],
            [
             0.8,
             "#7fbc41"
            ],
            [
             0.9,
             "#4d9221"
            ],
            [
             1,
             "#276419"
            ]
           ],
           "sequential": [
            [
             0,
             "#0d0887"
            ],
            [
             0.1111111111111111,
             "#46039f"
            ],
            [
             0.2222222222222222,
             "#7201a8"
            ],
            [
             0.3333333333333333,
             "#9c179e"
            ],
            [
             0.4444444444444444,
             "#bd3786"
            ],
            [
             0.5555555555555556,
             "#d8576b"
            ],
            [
             0.6666666666666666,
             "#ed7953"
            ],
            [
             0.7777777777777778,
             "#fb9f3a"
            ],
            [
             0.8888888888888888,
             "#fdca26"
            ],
            [
             1,
             "#f0f921"
            ]
           ],
           "sequentialminus": [
            [
             0,
             "#0d0887"
            ],
            [
             0.1111111111111111,
             "#46039f"
            ],
            [
             0.2222222222222222,
             "#7201a8"
            ],
            [
             0.3333333333333333,
             "#9c179e"
            ],
            [
             0.4444444444444444,
             "#bd3786"
            ],
            [
             0.5555555555555556,
             "#d8576b"
            ],
            [
             0.6666666666666666,
             "#ed7953"
            ],
            [
             0.7777777777777778,
             "#fb9f3a"
            ],
            [
             0.8888888888888888,
             "#fdca26"
            ],
            [
             1,
             "#f0f921"
            ]
           ]
          },
          "colorway": [
           "#636efa",
           "#EF553B",
           "#00cc96",
           "#ab63fa",
           "#FFA15A",
           "#19d3f3",
           "#FF6692",
           "#B6E880",
           "#FF97FF",
           "#FECB52"
          ],
          "font": {
           "color": "#2a3f5f"
          },
          "geo": {
           "bgcolor": "white",
           "lakecolor": "white",
           "landcolor": "#E5ECF6",
           "showlakes": true,
           "showland": true,
           "subunitcolor": "white"
          },
          "hoverlabel": {
           "align": "left"
          },
          "hovermode": "closest",
          "mapbox": {
           "style": "light"
          },
          "paper_bgcolor": "white",
          "plot_bgcolor": "#E5ECF6",
          "polar": {
           "angularaxis": {
            "gridcolor": "white",
            "linecolor": "white",
            "ticks": ""
           },
           "bgcolor": "#E5ECF6",
           "radialaxis": {
            "gridcolor": "white",
            "linecolor": "white",
            "ticks": ""
           }
          },
          "scene": {
           "xaxis": {
            "backgroundcolor": "#E5ECF6",
            "gridcolor": "white",
            "gridwidth": 2,
            "linecolor": "white",
            "showbackground": true,
            "ticks": "",
            "zerolinecolor": "white"
           },
           "yaxis": {
            "backgroundcolor": "#E5ECF6",
            "gridcolor": "white",
            "gridwidth": 2,
            "linecolor": "white",
            "showbackground": true,
            "ticks": "",
            "zerolinecolor": "white"
           },
           "zaxis": {
            "backgroundcolor": "#E5ECF6",
            "gridcolor": "white",
            "gridwidth": 2,
            "linecolor": "white",
            "showbackground": true,
            "ticks": "",
            "zerolinecolor": "white"
           }
          },
          "shapedefaults": {
           "line": {
            "color": "#2a3f5f"
           }
          },
          "ternary": {
           "aaxis": {
            "gridcolor": "white",
            "linecolor": "white",
            "ticks": ""
           },
           "baxis": {
            "gridcolor": "white",
            "linecolor": "white",
            "ticks": ""
           },
           "bgcolor": "#E5ECF6",
           "caxis": {
            "gridcolor": "white",
            "linecolor": "white",
            "ticks": ""
           }
          },
          "title": {
           "x": 0.05
          },
          "xaxis": {
           "automargin": true,
           "gridcolor": "white",
           "linecolor": "white",
           "ticks": "",
           "title": {
            "standoff": 15
           },
           "zerolinecolor": "white",
           "zerolinewidth": 2
          },
          "yaxis": {
           "automargin": true,
           "gridcolor": "white",
           "linecolor": "white",
           "ticks": "",
           "title": {
            "standoff": 15
           },
           "zerolinecolor": "white",
           "zerolinewidth": 2
          }
         }
        },
        "title": {
         "font": {
          "family": "Arial"
         },
         "text": "<b>Peso Paises Disney"
        },
        "uniformtext": {
         "minsize": 12,
         "mode": "hide"
        },
        "width": 550,
        "xaxis": {
         "anchor": "y",
         "domain": [
          0,
          1
         ],
         "title": {
          "text": "Paises_Prod"
         }
        },
        "yaxis": {
         "anchor": "x",
         "domain": [
          0,
          1
         ],
         "title": {
          "text": "n_peliculas"
         },
         "visible": false
        }
       }
      }
     },
     "metadata": {},
     "output_type": "display_data"
    }
   ],
   "source": [
    "# DISNEY\n",
    "\n",
    "fig = px.bar(paises_disney[:10], x='Paises_Prod', y='n_peliculas', \n",
    "color_discrete_sequence =['#3800C2'],\n",
    "text = \"n_peliculas\",\n",
    "barmode='group',\n",
    "title = \"<b>Peso Paises Disney\",\n",
    "width = 550, height=400,\n",
    "#hover_name = 'Plataforma', hover_data = ['Peso_edades']\n",
    ")\n",
    "\n",
    "fig.update_layout(uniformtext_minsize=12, uniformtext_mode='hide', font_family = 'Arial', title_font_family='Arial', font_color = '#FFFFFF', \n",
    "plot_bgcolor='#000000', paper_bgcolor='#000000',showlegend=False)\n",
    "\n",
    "fig.update_traces(marker=dict(line=dict(color='black', width=0.5)),\n",
    "                  texttemplate='%{text:.1f}',\n",
    "                  textfont_size=12, textangle=0, textposition=\"outside\", cliponaxis=False\n",
    "                  )\n",
    "\n",
    "fig.update_yaxes(visible = False)\n",
    "\n",
    "\n",
    "fig.show()"
   ]
  },
  {
   "cell_type": "code",
   "execution_count": 195,
   "metadata": {},
   "outputs": [
    {
     "data": {
      "application/vnd.plotly.v1+json": {
       "config": {
        "plotlyServerURL": "https://plot.ly"
       },
       "data": [
        {
         "alignmentgroup": "True",
         "cliponaxis": false,
         "hovertemplate": "Paises_Prod=%{x}<br>n_peliculas=%{text}<extra></extra>",
         "legendgroup": "",
         "marker": {
          "color": "#FFFFFF",
          "line": {
           "color": "black",
           "width": 0.5
          },
          "pattern": {
           "shape": ""
          }
         },
         "name": "",
         "offsetgroup": "",
         "orientation": "v",
         "showlegend": false,
         "text": [
          498,
          40,
          39,
          5,
          4,
          3,
          3,
          2,
          2,
          2
         ],
         "textangle": 0,
         "textfont": {
          "size": 12
         },
         "textposition": "outside",
         "texttemplate": "%{text:.1f}",
         "type": "bar",
         "x": [
          "US",
          "CA",
          "GB",
          "MX",
          "AU",
          "ZA",
          "IE",
          "FR",
          "KR",
          "DE"
         ],
         "xaxis": "x",
         "y": [
          498,
          40,
          39,
          5,
          4,
          3,
          3,
          2,
          2,
          2
         ],
         "yaxis": "y"
        }
       ],
       "layout": {
        "barmode": "group",
        "font": {
         "color": "#FFFFFF",
         "family": "Arial"
        },
        "height": 400,
        "legend": {
         "tracegroupgap": 0
        },
        "paper_bgcolor": "#000000",
        "plot_bgcolor": "#000000",
        "showlegend": false,
        "template": {
         "data": {
          "bar": [
           {
            "error_x": {
             "color": "#2a3f5f"
            },
            "error_y": {
             "color": "#2a3f5f"
            },
            "marker": {
             "line": {
              "color": "#E5ECF6",
              "width": 0.5
             },
             "pattern": {
              "fillmode": "overlay",
              "size": 10,
              "solidity": 0.2
             }
            },
            "type": "bar"
           }
          ],
          "barpolar": [
           {
            "marker": {
             "line": {
              "color": "#E5ECF6",
              "width": 0.5
             },
             "pattern": {
              "fillmode": "overlay",
              "size": 10,
              "solidity": 0.2
             }
            },
            "type": "barpolar"
           }
          ],
          "carpet": [
           {
            "aaxis": {
             "endlinecolor": "#2a3f5f",
             "gridcolor": "white",
             "linecolor": "white",
             "minorgridcolor": "white",
             "startlinecolor": "#2a3f5f"
            },
            "baxis": {
             "endlinecolor": "#2a3f5f",
             "gridcolor": "white",
             "linecolor": "white",
             "minorgridcolor": "white",
             "startlinecolor": "#2a3f5f"
            },
            "type": "carpet"
           }
          ],
          "choropleth": [
           {
            "colorbar": {
             "outlinewidth": 0,
             "ticks": ""
            },
            "type": "choropleth"
           }
          ],
          "contour": [
           {
            "colorbar": {
             "outlinewidth": 0,
             "ticks": ""
            },
            "colorscale": [
             [
              0,
              "#0d0887"
             ],
             [
              0.1111111111111111,
              "#46039f"
             ],
             [
              0.2222222222222222,
              "#7201a8"
             ],
             [
              0.3333333333333333,
              "#9c179e"
             ],
             [
              0.4444444444444444,
              "#bd3786"
             ],
             [
              0.5555555555555556,
              "#d8576b"
             ],
             [
              0.6666666666666666,
              "#ed7953"
             ],
             [
              0.7777777777777778,
              "#fb9f3a"
             ],
             [
              0.8888888888888888,
              "#fdca26"
             ],
             [
              1,
              "#f0f921"
             ]
            ],
            "type": "contour"
           }
          ],
          "contourcarpet": [
           {
            "colorbar": {
             "outlinewidth": 0,
             "ticks": ""
            },
            "type": "contourcarpet"
           }
          ],
          "heatmap": [
           {
            "colorbar": {
             "outlinewidth": 0,
             "ticks": ""
            },
            "colorscale": [
             [
              0,
              "#0d0887"
             ],
             [
              0.1111111111111111,
              "#46039f"
             ],
             [
              0.2222222222222222,
              "#7201a8"
             ],
             [
              0.3333333333333333,
              "#9c179e"
             ],
             [
              0.4444444444444444,
              "#bd3786"
             ],
             [
              0.5555555555555556,
              "#d8576b"
             ],
             [
              0.6666666666666666,
              "#ed7953"
             ],
             [
              0.7777777777777778,
              "#fb9f3a"
             ],
             [
              0.8888888888888888,
              "#fdca26"
             ],
             [
              1,
              "#f0f921"
             ]
            ],
            "type": "heatmap"
           }
          ],
          "heatmapgl": [
           {
            "colorbar": {
             "outlinewidth": 0,
             "ticks": ""
            },
            "colorscale": [
             [
              0,
              "#0d0887"
             ],
             [
              0.1111111111111111,
              "#46039f"
             ],
             [
              0.2222222222222222,
              "#7201a8"
             ],
             [
              0.3333333333333333,
              "#9c179e"
             ],
             [
              0.4444444444444444,
              "#bd3786"
             ],
             [
              0.5555555555555556,
              "#d8576b"
             ],
             [
              0.6666666666666666,
              "#ed7953"
             ],
             [
              0.7777777777777778,
              "#fb9f3a"
             ],
             [
              0.8888888888888888,
              "#fdca26"
             ],
             [
              1,
              "#f0f921"
             ]
            ],
            "type": "heatmapgl"
           }
          ],
          "histogram": [
           {
            "marker": {
             "pattern": {
              "fillmode": "overlay",
              "size": 10,
              "solidity": 0.2
             }
            },
            "type": "histogram"
           }
          ],
          "histogram2d": [
           {
            "colorbar": {
             "outlinewidth": 0,
             "ticks": ""
            },
            "colorscale": [
             [
              0,
              "#0d0887"
             ],
             [
              0.1111111111111111,
              "#46039f"
             ],
             [
              0.2222222222222222,
              "#7201a8"
             ],
             [
              0.3333333333333333,
              "#9c179e"
             ],
             [
              0.4444444444444444,
              "#bd3786"
             ],
             [
              0.5555555555555556,
              "#d8576b"
             ],
             [
              0.6666666666666666,
              "#ed7953"
             ],
             [
              0.7777777777777778,
              "#fb9f3a"
             ],
             [
              0.8888888888888888,
              "#fdca26"
             ],
             [
              1,
              "#f0f921"
             ]
            ],
            "type": "histogram2d"
           }
          ],
          "histogram2dcontour": [
           {
            "colorbar": {
             "outlinewidth": 0,
             "ticks": ""
            },
            "colorscale": [
             [
              0,
              "#0d0887"
             ],
             [
              0.1111111111111111,
              "#46039f"
             ],
             [
              0.2222222222222222,
              "#7201a8"
             ],
             [
              0.3333333333333333,
              "#9c179e"
             ],
             [
              0.4444444444444444,
              "#bd3786"
             ],
             [
              0.5555555555555556,
              "#d8576b"
             ],
             [
              0.6666666666666666,
              "#ed7953"
             ],
             [
              0.7777777777777778,
              "#fb9f3a"
             ],
             [
              0.8888888888888888,
              "#fdca26"
             ],
             [
              1,
              "#f0f921"
             ]
            ],
            "type": "histogram2dcontour"
           }
          ],
          "mesh3d": [
           {
            "colorbar": {
             "outlinewidth": 0,
             "ticks": ""
            },
            "type": "mesh3d"
           }
          ],
          "parcoords": [
           {
            "line": {
             "colorbar": {
              "outlinewidth": 0,
              "ticks": ""
             }
            },
            "type": "parcoords"
           }
          ],
          "pie": [
           {
            "automargin": true,
            "type": "pie"
           }
          ],
          "scatter": [
           {
            "fillpattern": {
             "fillmode": "overlay",
             "size": 10,
             "solidity": 0.2
            },
            "type": "scatter"
           }
          ],
          "scatter3d": [
           {
            "line": {
             "colorbar": {
              "outlinewidth": 0,
              "ticks": ""
             }
            },
            "marker": {
             "colorbar": {
              "outlinewidth": 0,
              "ticks": ""
             }
            },
            "type": "scatter3d"
           }
          ],
          "scattercarpet": [
           {
            "marker": {
             "colorbar": {
              "outlinewidth": 0,
              "ticks": ""
             }
            },
            "type": "scattercarpet"
           }
          ],
          "scattergeo": [
           {
            "marker": {
             "colorbar": {
              "outlinewidth": 0,
              "ticks": ""
             }
            },
            "type": "scattergeo"
           }
          ],
          "scattergl": [
           {
            "marker": {
             "colorbar": {
              "outlinewidth": 0,
              "ticks": ""
             }
            },
            "type": "scattergl"
           }
          ],
          "scattermapbox": [
           {
            "marker": {
             "colorbar": {
              "outlinewidth": 0,
              "ticks": ""
             }
            },
            "type": "scattermapbox"
           }
          ],
          "scatterpolar": [
           {
            "marker": {
             "colorbar": {
              "outlinewidth": 0,
              "ticks": ""
             }
            },
            "type": "scatterpolar"
           }
          ],
          "scatterpolargl": [
           {
            "marker": {
             "colorbar": {
              "outlinewidth": 0,
              "ticks": ""
             }
            },
            "type": "scatterpolargl"
           }
          ],
          "scatterternary": [
           {
            "marker": {
             "colorbar": {
              "outlinewidth": 0,
              "ticks": ""
             }
            },
            "type": "scatterternary"
           }
          ],
          "surface": [
           {
            "colorbar": {
             "outlinewidth": 0,
             "ticks": ""
            },
            "colorscale": [
             [
              0,
              "#0d0887"
             ],
             [
              0.1111111111111111,
              "#46039f"
             ],
             [
              0.2222222222222222,
              "#7201a8"
             ],
             [
              0.3333333333333333,
              "#9c179e"
             ],
             [
              0.4444444444444444,
              "#bd3786"
             ],
             [
              0.5555555555555556,
              "#d8576b"
             ],
             [
              0.6666666666666666,
              "#ed7953"
             ],
             [
              0.7777777777777778,
              "#fb9f3a"
             ],
             [
              0.8888888888888888,
              "#fdca26"
             ],
             [
              1,
              "#f0f921"
             ]
            ],
            "type": "surface"
           }
          ],
          "table": [
           {
            "cells": {
             "fill": {
              "color": "#EBF0F8"
             },
             "line": {
              "color": "white"
             }
            },
            "header": {
             "fill": {
              "color": "#C8D4E3"
             },
             "line": {
              "color": "white"
             }
            },
            "type": "table"
           }
          ]
         },
         "layout": {
          "annotationdefaults": {
           "arrowcolor": "#2a3f5f",
           "arrowhead": 0,
           "arrowwidth": 1
          },
          "autotypenumbers": "strict",
          "coloraxis": {
           "colorbar": {
            "outlinewidth": 0,
            "ticks": ""
           }
          },
          "colorscale": {
           "diverging": [
            [
             0,
             "#8e0152"
            ],
            [
             0.1,
             "#c51b7d"
            ],
            [
             0.2,
             "#de77ae"
            ],
            [
             0.3,
             "#f1b6da"
            ],
            [
             0.4,
             "#fde0ef"
            ],
            [
             0.5,
             "#f7f7f7"
            ],
            [
             0.6,
             "#e6f5d0"
            ],
            [
             0.7,
             "#b8e186"
            ],
            [
             0.8,
             "#7fbc41"
            ],
            [
             0.9,
             "#4d9221"
            ],
            [
             1,
             "#276419"
            ]
           ],
           "sequential": [
            [
             0,
             "#0d0887"
            ],
            [
             0.1111111111111111,
             "#46039f"
            ],
            [
             0.2222222222222222,
             "#7201a8"
            ],
            [
             0.3333333333333333,
             "#9c179e"
            ],
            [
             0.4444444444444444,
             "#bd3786"
            ],
            [
             0.5555555555555556,
             "#d8576b"
            ],
            [
             0.6666666666666666,
             "#ed7953"
            ],
            [
             0.7777777777777778,
             "#fb9f3a"
            ],
            [
             0.8888888888888888,
             "#fdca26"
            ],
            [
             1,
             "#f0f921"
            ]
           ],
           "sequentialminus": [
            [
             0,
             "#0d0887"
            ],
            [
             0.1111111111111111,
             "#46039f"
            ],
            [
             0.2222222222222222,
             "#7201a8"
            ],
            [
             0.3333333333333333,
             "#9c179e"
            ],
            [
             0.4444444444444444,
             "#bd3786"
            ],
            [
             0.5555555555555556,
             "#d8576b"
            ],
            [
             0.6666666666666666,
             "#ed7953"
            ],
            [
             0.7777777777777778,
             "#fb9f3a"
            ],
            [
             0.8888888888888888,
             "#fdca26"
            ],
            [
             1,
             "#f0f921"
            ]
           ]
          },
          "colorway": [
           "#636efa",
           "#EF553B",
           "#00cc96",
           "#ab63fa",
           "#FFA15A",
           "#19d3f3",
           "#FF6692",
           "#B6E880",
           "#FF97FF",
           "#FECB52"
          ],
          "font": {
           "color": "#2a3f5f"
          },
          "geo": {
           "bgcolor": "white",
           "lakecolor": "white",
           "landcolor": "#E5ECF6",
           "showlakes": true,
           "showland": true,
           "subunitcolor": "white"
          },
          "hoverlabel": {
           "align": "left"
          },
          "hovermode": "closest",
          "mapbox": {
           "style": "light"
          },
          "paper_bgcolor": "white",
          "plot_bgcolor": "#E5ECF6",
          "polar": {
           "angularaxis": {
            "gridcolor": "white",
            "linecolor": "white",
            "ticks": ""
           },
           "bgcolor": "#E5ECF6",
           "radialaxis": {
            "gridcolor": "white",
            "linecolor": "white",
            "ticks": ""
           }
          },
          "scene": {
           "xaxis": {
            "backgroundcolor": "#E5ECF6",
            "gridcolor": "white",
            "gridwidth": 2,
            "linecolor": "white",
            "showbackground": true,
            "ticks": "",
            "zerolinecolor": "white"
           },
           "yaxis": {
            "backgroundcolor": "#E5ECF6",
            "gridcolor": "white",
            "gridwidth": 2,
            "linecolor": "white",
            "showbackground": true,
            "ticks": "",
            "zerolinecolor": "white"
           },
           "zaxis": {
            "backgroundcolor": "#E5ECF6",
            "gridcolor": "white",
            "gridwidth": 2,
            "linecolor": "white",
            "showbackground": true,
            "ticks": "",
            "zerolinecolor": "white"
           }
          },
          "shapedefaults": {
           "line": {
            "color": "#2a3f5f"
           }
          },
          "ternary": {
           "aaxis": {
            "gridcolor": "white",
            "linecolor": "white",
            "ticks": ""
           },
           "baxis": {
            "gridcolor": "white",
            "linecolor": "white",
            "ticks": ""
           },
           "bgcolor": "#E5ECF6",
           "caxis": {
            "gridcolor": "white",
            "linecolor": "white",
            "ticks": ""
           }
          },
          "title": {
           "x": 0.05
          },
          "xaxis": {
           "automargin": true,
           "gridcolor": "white",
           "linecolor": "white",
           "ticks": "",
           "title": {
            "standoff": 15
           },
           "zerolinecolor": "white",
           "zerolinewidth": 2
          },
          "yaxis": {
           "automargin": true,
           "gridcolor": "white",
           "linecolor": "white",
           "ticks": "",
           "title": {
            "standoff": 15
           },
           "zerolinecolor": "white",
           "zerolinewidth": 2
          }
         }
        },
        "title": {
         "font": {
          "family": "Arial"
         },
         "text": "<b>Peso Paises Paramount"
        },
        "uniformtext": {
         "minsize": 12,
         "mode": "hide"
        },
        "width": 550,
        "xaxis": {
         "anchor": "y",
         "domain": [
          0,
          1
         ],
         "title": {
          "text": "Paises_Prod"
         }
        },
        "yaxis": {
         "anchor": "x",
         "domain": [
          0,
          1
         ],
         "title": {
          "text": "n_peliculas"
         },
         "visible": false
        }
       }
      }
     },
     "metadata": {},
     "output_type": "display_data"
    }
   ],
   "source": [
    "# PARAMOUNT\n",
    "\n",
    "fig = px.bar(paises_paramount[:10], x='Paises_Prod', y='n_peliculas', \n",
    "color_discrete_sequence =['#FFFFFF'],\n",
    "text = \"n_peliculas\",\n",
    "barmode='group',\n",
    "title = \"<b>Peso Paises Paramount\",\n",
    "width = 550, height=400,\n",
    "#hover_name = 'Plataforma', hover_data = ['Peso_edades']\n",
    ")\n",
    "\n",
    "fig.update_layout(uniformtext_minsize=12, uniformtext_mode='hide', font_family = 'Arial', title_font_family='Arial', font_color = '#FFFFFF', \n",
    "plot_bgcolor='#000000', paper_bgcolor='#000000',showlegend=False)\n",
    "\n",
    "fig.update_traces(marker=dict(line=dict(color='black', width=0.5)),\n",
    "                  texttemplate='%{text:.1f}',\n",
    "                  textfont_size=12, textangle=0, textposition=\"outside\", cliponaxis=False\n",
    "                  )\n",
    "\n",
    "\n",
    "fig.update_yaxes(visible = False)\n",
    "\n",
    "\n",
    "fig.show()"
   ]
  },
  {
   "cell_type": "markdown",
   "metadata": {},
   "source": [
    "---"
   ]
  }
 ],
 "metadata": {
  "interpreter": {
   "hash": "aee8b7b246df8f9039afb4144a1f6fd8d2ca17a180786b69acc140d282b71a49"
  },
  "kernelspec": {
   "display_name": "Python 3.7.4 64-bit",
   "language": "python",
   "name": "python3"
  },
  "language_info": {
   "codemirror_mode": {
    "name": "ipython",
    "version": 3
   },
   "file_extension": ".py",
   "mimetype": "text/x-python",
   "name": "python",
   "nbconvert_exporter": "python",
   "pygments_lexer": "ipython3",
   "version": "3.7.4"
  },
  "orig_nbformat": 4
 },
 "nbformat": 4,
 "nbformat_minor": 2
}
