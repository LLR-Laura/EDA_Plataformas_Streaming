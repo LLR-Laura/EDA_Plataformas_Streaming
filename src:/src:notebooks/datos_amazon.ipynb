{
 "cells": [
  {
   "cell_type": "markdown",
   "metadata": {},
   "source": [
    "## **Prime Video**\n",
    "\n",
    "### 1. Exploración y Preparación de los Datos\n",
    "\n",
    "Datos descargados de Kaggle\n",
    "\n",
    "(Mismo código en todos los notebooks de datos)"
   ]
  },
  {
   "cell_type": "code",
   "execution_count": 1,
   "metadata": {},
   "outputs": [
    {
     "data": {
      "text/html": [
       "        <script type=\"text/javascript\">\n",
       "        window.PlotlyConfig = {MathJaxConfig: 'local'};\n",
       "        if (window.MathJax && window.MathJax.Hub && window.MathJax.Hub.Config) {window.MathJax.Hub.Config({SVG: {font: \"STIX-Web\"}});}\n",
       "        if (typeof require !== 'undefined') {\n",
       "        require.undef(\"plotly\");\n",
       "        requirejs.config({\n",
       "            paths: {\n",
       "                'plotly': ['https://cdn.plot.ly/plotly-2.12.1.min']\n",
       "            }\n",
       "        });\n",
       "        require(['plotly'], function(Plotly) {\n",
       "            window._Plotly = Plotly;\n",
       "        });\n",
       "        }\n",
       "        </script>\n",
       "        "
      ]
     },
     "metadata": {},
     "output_type": "display_data"
    }
   ],
   "source": [
    "import pandas as pd\n",
    "import numpy as np\n",
    "import seaborn as sns\n",
    "\n",
    "# plotly\n",
    "# import plotly.plotly as py\n",
    "from plotly.offline import init_notebook_mode, iplot, plot\n",
    "import plotly as py\n",
    "init_notebook_mode(connected=True)\n",
    "import plotly.graph_objs as go\n",
    "import plotly.express as px\n",
    "from plotly.subplots import make_subplots\n"
   ]
  },
  {
   "cell_type": "markdown",
   "metadata": {},
   "source": [
    "1.1 Visual general de los datos"
   ]
  },
  {
   "cell_type": "code",
   "execution_count": 2,
   "metadata": {},
   "outputs": [
    {
     "name": "stdout",
     "output_type": "stream",
     "text": [
      "Filas, columnas: (9871, 15)\n"
     ]
    },
    {
     "data": {
      "text/html": [
       "<div>\n",
       "<style scoped>\n",
       "    .dataframe tbody tr th:only-of-type {\n",
       "        vertical-align: middle;\n",
       "    }\n",
       "\n",
       "    .dataframe tbody tr th {\n",
       "        vertical-align: top;\n",
       "    }\n",
       "\n",
       "    .dataframe thead th {\n",
       "        text-align: right;\n",
       "    }\n",
       "</style>\n",
       "<table border=\"1\" class=\"dataframe\">\n",
       "  <thead>\n",
       "    <tr style=\"text-align: right;\">\n",
       "      <th></th>\n",
       "      <th>id</th>\n",
       "      <th>title</th>\n",
       "      <th>type</th>\n",
       "      <th>description</th>\n",
       "      <th>release_year</th>\n",
       "      <th>age_certification</th>\n",
       "      <th>runtime</th>\n",
       "      <th>genres</th>\n",
       "      <th>production_countries</th>\n",
       "      <th>seasons</th>\n",
       "      <th>imdb_id</th>\n",
       "      <th>imdb_score</th>\n",
       "      <th>imdb_votes</th>\n",
       "      <th>tmdb_popularity</th>\n",
       "      <th>tmdb_score</th>\n",
       "    </tr>\n",
       "  </thead>\n",
       "  <tbody>\n",
       "    <tr>\n",
       "      <th>0</th>\n",
       "      <td>ts20945</td>\n",
       "      <td>The Three Stooges</td>\n",
       "      <td>SHOW</td>\n",
       "      <td>The Three Stooges were an American vaudeville ...</td>\n",
       "      <td>1934</td>\n",
       "      <td>TV-PG</td>\n",
       "      <td>19</td>\n",
       "      <td>['comedy', 'family', 'animation', 'action', 'f...</td>\n",
       "      <td>['US']</td>\n",
       "      <td>26.0</td>\n",
       "      <td>tt0850645</td>\n",
       "      <td>8.6</td>\n",
       "      <td>1092.0</td>\n",
       "      <td>15.424</td>\n",
       "      <td>7.6</td>\n",
       "    </tr>\n",
       "    <tr>\n",
       "      <th>1</th>\n",
       "      <td>tm19248</td>\n",
       "      <td>The General</td>\n",
       "      <td>MOVIE</td>\n",
       "      <td>During America’s Civil War, Union spies steal ...</td>\n",
       "      <td>1926</td>\n",
       "      <td>NaN</td>\n",
       "      <td>78</td>\n",
       "      <td>['action', 'drama', 'war', 'western', 'comedy'...</td>\n",
       "      <td>['US']</td>\n",
       "      <td>NaN</td>\n",
       "      <td>tt0017925</td>\n",
       "      <td>8.2</td>\n",
       "      <td>89766.0</td>\n",
       "      <td>8.647</td>\n",
       "      <td>8.0</td>\n",
       "    </tr>\n",
       "    <tr>\n",
       "      <th>2</th>\n",
       "      <td>tm82253</td>\n",
       "      <td>The Best Years of Our Lives</td>\n",
       "      <td>MOVIE</td>\n",
       "      <td>It's the hope that sustains the spirit of ever...</td>\n",
       "      <td>1946</td>\n",
       "      <td>NaN</td>\n",
       "      <td>171</td>\n",
       "      <td>['romance', 'war', 'drama']</td>\n",
       "      <td>['US']</td>\n",
       "      <td>NaN</td>\n",
       "      <td>tt0036868</td>\n",
       "      <td>8.1</td>\n",
       "      <td>63026.0</td>\n",
       "      <td>8.435</td>\n",
       "      <td>7.8</td>\n",
       "    </tr>\n",
       "    <tr>\n",
       "      <th>3</th>\n",
       "      <td>tm83884</td>\n",
       "      <td>His Girl Friday</td>\n",
       "      <td>MOVIE</td>\n",
       "      <td>Hildy, the journalist former wife of newspaper...</td>\n",
       "      <td>1940</td>\n",
       "      <td>NaN</td>\n",
       "      <td>92</td>\n",
       "      <td>['comedy', 'drama', 'romance']</td>\n",
       "      <td>['US']</td>\n",
       "      <td>NaN</td>\n",
       "      <td>tt0032599</td>\n",
       "      <td>7.8</td>\n",
       "      <td>57835.0</td>\n",
       "      <td>11.270</td>\n",
       "      <td>7.4</td>\n",
       "    </tr>\n",
       "    <tr>\n",
       "      <th>4</th>\n",
       "      <td>tm56584</td>\n",
       "      <td>In a Lonely Place</td>\n",
       "      <td>MOVIE</td>\n",
       "      <td>An aspiring actress begins to suspect that her...</td>\n",
       "      <td>1950</td>\n",
       "      <td>NaN</td>\n",
       "      <td>94</td>\n",
       "      <td>['thriller', 'drama', 'romance']</td>\n",
       "      <td>['US']</td>\n",
       "      <td>NaN</td>\n",
       "      <td>tt0042593</td>\n",
       "      <td>7.9</td>\n",
       "      <td>30924.0</td>\n",
       "      <td>8.273</td>\n",
       "      <td>7.6</td>\n",
       "    </tr>\n",
       "  </tbody>\n",
       "</table>\n",
       "</div>"
      ],
      "text/plain": [
       "        id                        title   type  \\\n",
       "0  ts20945            The Three Stooges   SHOW   \n",
       "1  tm19248                  The General  MOVIE   \n",
       "2  tm82253  The Best Years of Our Lives  MOVIE   \n",
       "3  tm83884              His Girl Friday  MOVIE   \n",
       "4  tm56584            In a Lonely Place  MOVIE   \n",
       "\n",
       "                                         description  release_year  \\\n",
       "0  The Three Stooges were an American vaudeville ...          1934   \n",
       "1  During America’s Civil War, Union spies steal ...          1926   \n",
       "2  It's the hope that sustains the spirit of ever...          1946   \n",
       "3  Hildy, the journalist former wife of newspaper...          1940   \n",
       "4  An aspiring actress begins to suspect that her...          1950   \n",
       "\n",
       "  age_certification  runtime  \\\n",
       "0             TV-PG       19   \n",
       "1               NaN       78   \n",
       "2               NaN      171   \n",
       "3               NaN       92   \n",
       "4               NaN       94   \n",
       "\n",
       "                                              genres production_countries  \\\n",
       "0  ['comedy', 'family', 'animation', 'action', 'f...               ['US']   \n",
       "1  ['action', 'drama', 'war', 'western', 'comedy'...               ['US']   \n",
       "2                        ['romance', 'war', 'drama']               ['US']   \n",
       "3                     ['comedy', 'drama', 'romance']               ['US']   \n",
       "4                   ['thriller', 'drama', 'romance']               ['US']   \n",
       "\n",
       "   seasons    imdb_id  imdb_score  imdb_votes  tmdb_popularity  tmdb_score  \n",
       "0     26.0  tt0850645         8.6      1092.0           15.424         7.6  \n",
       "1      NaN  tt0017925         8.2     89766.0            8.647         8.0  \n",
       "2      NaN  tt0036868         8.1     63026.0            8.435         7.8  \n",
       "3      NaN  tt0032599         7.8     57835.0           11.270         7.4  \n",
       "4      NaN  tt0042593         7.9     30924.0            8.273         7.6  "
      ]
     },
     "execution_count": 2,
     "metadata": {},
     "output_type": "execute_result"
    }
   ],
   "source": [
    "data_amazon = pd.read_csv('../src:data/Data_Amazon/datos_amazon.csv')\n",
    "\n",
    "print(\"Filas, columnas:\", data_amazon.shape)\n",
    "data_amazon.head()"
   ]
  },
  {
   "cell_type": "code",
   "execution_count": 3,
   "metadata": {},
   "outputs": [
    {
     "data": {
      "text/plain": [
       "id                       object\n",
       "title                    object\n",
       "type                     object\n",
       "description              object\n",
       "release_year              int64\n",
       "age_certification        object\n",
       "runtime                   int64\n",
       "genres                   object\n",
       "production_countries     object\n",
       "seasons                 float64\n",
       "imdb_id                  object\n",
       "imdb_score              float64\n",
       "imdb_votes              float64\n",
       "tmdb_popularity         float64\n",
       "tmdb_score              float64\n",
       "dtype: object"
      ]
     },
     "execution_count": 3,
     "metadata": {},
     "output_type": "execute_result"
    }
   ],
   "source": [
    "# Tipo de dato\n",
    "data_amazon.dtypes"
   ]
  },
  {
   "cell_type": "code",
   "execution_count": 4,
   "metadata": {},
   "outputs": [
    {
     "data": {
      "text/plain": [
       "id                         0\n",
       "title                      0\n",
       "type                       0\n",
       "description              119\n",
       "release_year               0\n",
       "age_certification       6487\n",
       "runtime                    0\n",
       "genres                     0\n",
       "production_countries       0\n",
       "seasons                 8514\n",
       "imdb_id                  667\n",
       "imdb_score              1021\n",
       "imdb_votes              1031\n",
       "tmdb_popularity          547\n",
       "tmdb_score              2082\n",
       "dtype: int64"
      ]
     },
     "execution_count": 4,
     "metadata": {},
     "output_type": "execute_result"
    }
   ],
   "source": [
    "# Missings\n",
    "\n",
    "data_amazon.isna().sum()"
   ]
  },
  {
   "cell_type": "code",
   "execution_count": 5,
   "metadata": {},
   "outputs": [
    {
     "name": "stdout",
     "output_type": "stream",
     "text": [
      "0.0\n",
      "0.0\n",
      "0.0\n",
      "1.2055516158443926\n",
      "0.0\n",
      "65.71775909229055\n",
      "0.0\n",
      "0.0\n",
      "0.0\n",
      "86.25265930503495\n",
      "6.757167460237058\n",
      "10.343430250227941\n",
      "10.44473710870226\n",
      "5.541485158545234\n",
      "21.092087934353156\n"
     ]
    }
   ],
   "source": [
    "#Nulls en porcentaje\n",
    "for i in data_amazon.isna().sum():\n",
    "\n",
    "    print((i/data_amazon.shape[0])*100)\n",
    "\n",
    "#Destacamos que el 86% de los valores de la columna season son nulos, pero como representan el numero de temporadas, no nos importa mucho, y podría tener sentido\n",
    "#También destacamos que el 65% de los valores de age_certification son nulos, podría no ser muy útil esta columna"
   ]
  },
  {
   "cell_type": "code",
   "execution_count": 6,
   "metadata": {},
   "outputs": [
    {
     "data": {
      "text/plain": [
       "<AxesSubplot:>"
      ]
     },
     "execution_count": 6,
     "metadata": {},
     "output_type": "execute_result"
    },
    {
     "data": {
      "image/png": "[encoded data removed]",
      "text/plain": [
       "<Figure size 432x288 with 1 Axes>"
      ]
     },
     "metadata": {
      "needs_background": "light"
     },
     "output_type": "display_data"
    }
   ],
   "source": [
    "sns.heatmap(data_amazon.isnull(),cbar=False,cmap='viridis')"
   ]
  },
  {
   "cell_type": "markdown",
   "metadata": {},
   "source": [
    "1.2. Columnas\n",
    "\n",
    "- ID: (object - string) ID del título en JustWatch\n",
    "\n",
    "- title: nombre del título\n",
    "\n",
    "- show type: SHOW o MOVIE - diferenciación entre pelicula o serie\n",
    "\n",
    "- description: breve descripción\n",
    "\n",
    "- release year: año de estreno\n",
    "\n",
    "- age certification: orientacion a padres de edad mínima recomendada\n",
    "\n",
    "- runtime: duración\n",
    "\n",
    "- genres: lista de géneros\n",
    "\n",
    "- production countries: lista de países que produjeron el título\n",
    "\n",
    "- seasons: número de temporadas\n",
    "\n",
    "- IMDB ID: ID del título en IMDB\n",
    "\n",
    "- IMDB Score: puntuación en IMDB\n",
    "\n",
    "- IMDB Votes: votos en IMDB\n",
    "\n",
    "- TMDB Score: puntuación en TMDB\n",
    "\n",
    "- TMDB Popularity: popularidad en TMDB\n",
    "\n",
    "    La métrica de popularidad de TMDB se mide -diariamente- en función de los parámetros:\n",
    "    - N de votos al día\n",
    "    - N vistas de pág al día    \n",
    "    - N usuarios que marcan el título como favorito    \n",
    "    - Fecha de estreno +  fecha de emisión del último/nuevo episodio    \n",
    "    - N total de votos\n",
    "    - Puntuación de los días anteriores\n"
   ]
  },
  {
   "cell_type": "code",
   "execution_count": 7,
   "metadata": {},
   "outputs": [
    {
     "name": "stdout",
     "output_type": "stream",
     "text": [
      "Index(['id', 'title', 'type', 'description', 'release_year',\n",
      "       'age_certification', 'runtime', 'genres', 'production_countries',\n",
      "       'seasons', 'imdb_id', 'imdb_score', 'imdb_votes', 'tmdb_popularity',\n",
      "       'tmdb_score'],\n",
      "      dtype='object')\n",
      "N columnas: 15\n"
     ]
    }
   ],
   "source": [
    "print(data_amazon.columns)\n",
    "print(\"N columnas:\", len(data_amazon.columns))"
   ]
  },
  {
   "cell_type": "code",
   "execution_count": 8,
   "metadata": {},
   "outputs": [
    {
     "name": "stdout",
     "output_type": "stream",
     "text": [
      "Tipo de dato: object\n",
      "n valores nulos: 0\n",
      "n titulos duplicados: 134\n",
      "valores repetidos: 134\n"
     ]
    }
   ],
   "source": [
    "# Título\n",
    "# Cada título representa un contenido 'único' de la plataforma\n",
    "# Comprobamos que no haya duplicados o valores nulos \n",
    "# -- si hubiese valores nulo en el campo título tendríamos que escrapear el titulo por los ids de JustWatch o imdb:\n",
    "\n",
    "print('Tipo de dato:', data_amazon['title'].dtype)\n",
    "print(\"n valores nulos:\", data_amazon['title'].isnull().sum())\n",
    "titulos_duplicados = data_amazon.loc[data_amazon.duplicated(['title'])]\n",
    "print(\"n titulos duplicados:\", titulos_duplicados.shape[0])\n",
    "titulos_unicos = data_amazon['title'].nunique()\n",
    "print(\"valores repetidos:\", data_amazon.shape[0] - titulos_unicos)"
   ]
  },
  {
   "cell_type": "code",
   "execution_count": 9,
   "metadata": {},
   "outputs": [
    {
     "name": "stdout",
     "output_type": "stream",
     "text": [
      "n duplicados: 4\n"
     ]
    },
    {
     "data": {
      "text/html": [
       "<div>\n",
       "<style scoped>\n",
       "    .dataframe tbody tr th:only-of-type {\n",
       "        vertical-align: middle;\n",
       "    }\n",
       "\n",
       "    .dataframe tbody tr th {\n",
       "        vertical-align: top;\n",
       "    }\n",
       "\n",
       "    .dataframe thead th {\n",
       "        text-align: right;\n",
       "    }\n",
       "</style>\n",
       "<table border=\"1\" class=\"dataframe\">\n",
       "  <thead>\n",
       "    <tr style=\"text-align: right;\">\n",
       "      <th></th>\n",
       "      <th>id</th>\n",
       "      <th>title</th>\n",
       "      <th>type</th>\n",
       "      <th>description</th>\n",
       "      <th>release_year</th>\n",
       "      <th>age_certification</th>\n",
       "      <th>runtime</th>\n",
       "      <th>genres</th>\n",
       "      <th>production_countries</th>\n",
       "      <th>seasons</th>\n",
       "      <th>imdb_id</th>\n",
       "      <th>imdb_score</th>\n",
       "      <th>imdb_votes</th>\n",
       "      <th>tmdb_popularity</th>\n",
       "      <th>tmdb_score</th>\n",
       "    </tr>\n",
       "  </thead>\n",
       "  <tbody>\n",
       "    <tr>\n",
       "      <th>480</th>\n",
       "      <td>tm89134</td>\n",
       "      <td>The Gunman From Bodie</td>\n",
       "      <td>MOVIE</td>\n",
       "      <td>The Rough Riders are after a gang of rustlers....</td>\n",
       "      <td>1941</td>\n",
       "      <td>NaN</td>\n",
       "      <td>62</td>\n",
       "      <td>['western']</td>\n",
       "      <td>['US']</td>\n",
       "      <td>NaN</td>\n",
       "      <td>tt0033683</td>\n",
       "      <td>5.9</td>\n",
       "      <td>133.0</td>\n",
       "      <td>0.991</td>\n",
       "      <td>7.0</td>\n",
       "    </tr>\n",
       "    <tr>\n",
       "      <th>720</th>\n",
       "      <td>tm66674</td>\n",
       "      <td>Dynamite</td>\n",
       "      <td>MOVIE</td>\n",
       "      <td>Two members of a dynamite crew--a rugged veter...</td>\n",
       "      <td>1949</td>\n",
       "      <td>NaN</td>\n",
       "      <td>68</td>\n",
       "      <td>['drama', 'crime']</td>\n",
       "      <td>['US']</td>\n",
       "      <td>NaN</td>\n",
       "      <td>tt0039343</td>\n",
       "      <td>5.0</td>\n",
       "      <td>24.0</td>\n",
       "      <td>0.841</td>\n",
       "      <td>NaN</td>\n",
       "    </tr>\n",
       "    <tr>\n",
       "      <th>722</th>\n",
       "      <td>tm137955</td>\n",
       "      <td>Broken Dreams</td>\n",
       "      <td>MOVIE</td>\n",
       "      <td>Medical intern Robert Morley is distraught aft...</td>\n",
       "      <td>1933</td>\n",
       "      <td>NaN</td>\n",
       "      <td>68</td>\n",
       "      <td>['drama', 'romance']</td>\n",
       "      <td>['US']</td>\n",
       "      <td>NaN</td>\n",
       "      <td>tt0023849</td>\n",
       "      <td>5.8</td>\n",
       "      <td>74.0</td>\n",
       "      <td>0.600</td>\n",
       "      <td>NaN</td>\n",
       "    </tr>\n",
       "    <tr>\n",
       "      <th>9761</th>\n",
       "      <td>tm1102439</td>\n",
       "      <td>Udanpirappe</td>\n",
       "      <td>MOVIE</td>\n",
       "      <td>A woman hopes for the reunion of two families ...</td>\n",
       "      <td>2021</td>\n",
       "      <td>NaN</td>\n",
       "      <td>137</td>\n",
       "      <td>['drama']</td>\n",
       "      <td>['IN']</td>\n",
       "      <td>NaN</td>\n",
       "      <td>NaN</td>\n",
       "      <td>NaN</td>\n",
       "      <td>NaN</td>\n",
       "      <td>1.579</td>\n",
       "      <td>5.0</td>\n",
       "    </tr>\n",
       "  </tbody>\n",
       "</table>\n",
       "</div>"
      ],
      "text/plain": [
       "             id                  title   type  \\\n",
       "480     tm89134  The Gunman From Bodie  MOVIE   \n",
       "720     tm66674               Dynamite  MOVIE   \n",
       "722    tm137955          Broken Dreams  MOVIE   \n",
       "9761  tm1102439            Udanpirappe  MOVIE   \n",
       "\n",
       "                                            description  release_year  \\\n",
       "480   The Rough Riders are after a gang of rustlers....          1941   \n",
       "720   Two members of a dynamite crew--a rugged veter...          1949   \n",
       "722   Medical intern Robert Morley is distraught aft...          1933   \n",
       "9761  A woman hopes for the reunion of two families ...          2021   \n",
       "\n",
       "     age_certification  runtime                genres production_countries  \\\n",
       "480                NaN       62           ['western']               ['US']   \n",
       "720                NaN       68    ['drama', 'crime']               ['US']   \n",
       "722                NaN       68  ['drama', 'romance']               ['US']   \n",
       "9761               NaN      137             ['drama']               ['IN']   \n",
       "\n",
       "      seasons    imdb_id  imdb_score  imdb_votes  tmdb_popularity  tmdb_score  \n",
       "480       NaN  tt0033683         5.9       133.0            0.991         7.0  \n",
       "720       NaN  tt0039343         5.0        24.0            0.841         NaN  \n",
       "722       NaN  tt0023849         5.8        74.0            0.600         NaN  \n",
       "9761      NaN        NaN         NaN         NaN            1.579         5.0  "
      ]
     },
     "execution_count": 9,
     "metadata": {},
     "output_type": "execute_result"
    }
   ],
   "source": [
    "# Tenemos 134 titulos duplicados, pero esto no indica que sean la misma película/serie\n",
    "# Comprobamos duplicados que coincidan en título, tipo de contenido, año de estreno y contenido:\n",
    "\n",
    "print(\"n duplicados:\", data_amazon[data_amazon.duplicated(subset=['title', 'type', 'release_year', 'runtime'])].shape[0])\n",
    "data_amazon[data_amazon.duplicated(subset=['title', 'type', 'release_year', 'runtime'])]"
   ]
  },
  {
   "cell_type": "code",
   "execution_count": 10,
   "metadata": {},
   "outputs": [],
   "source": [
    "# Eliminamos los 4 duplicados y reseteamos el indice para que no haya saltos\n",
    "data_amazon1 = data_amazon.drop_duplicates(subset=None, keep=\"first\").reset_index(drop = True).copy()"
   ]
  },
  {
   "cell_type": "code",
   "execution_count": 11,
   "metadata": {},
   "outputs": [
    {
     "name": "stdout",
     "output_type": "stream",
     "text": [
      "n duplicados: 1\n"
     ]
    }
   ],
   "source": [
    "# Comprobamos que ya no tenemos duplicados:\n",
    "print(\"n duplicados:\", data_amazon1[data_amazon1.duplicated(subset=['title', 'type', 'release_year', 'runtime'])].shape[0])"
   ]
  },
  {
   "cell_type": "code",
   "execution_count": 12,
   "metadata": {},
   "outputs": [
    {
     "data": {
      "text/html": [
       "<div>\n",
       "<style scoped>\n",
       "    .dataframe tbody tr th:only-of-type {\n",
       "        vertical-align: middle;\n",
       "    }\n",
       "\n",
       "    .dataframe tbody tr th {\n",
       "        vertical-align: top;\n",
       "    }\n",
       "\n",
       "    .dataframe thead th {\n",
       "        text-align: right;\n",
       "    }\n",
       "</style>\n",
       "<table border=\"1\" class=\"dataframe\">\n",
       "  <thead>\n",
       "    <tr style=\"text-align: right;\">\n",
       "      <th></th>\n",
       "      <th>id</th>\n",
       "      <th>title</th>\n",
       "      <th>type</th>\n",
       "      <th>description</th>\n",
       "      <th>release_year</th>\n",
       "      <th>age_certification</th>\n",
       "      <th>runtime</th>\n",
       "      <th>genres</th>\n",
       "      <th>production_countries</th>\n",
       "      <th>seasons</th>\n",
       "      <th>imdb_id</th>\n",
       "      <th>imdb_score</th>\n",
       "      <th>imdb_votes</th>\n",
       "      <th>tmdb_popularity</th>\n",
       "      <th>tmdb_score</th>\n",
       "    </tr>\n",
       "  </thead>\n",
       "  <tbody>\n",
       "    <tr>\n",
       "      <th>9557</th>\n",
       "      <td>tm1090237</td>\n",
       "      <td>Udanpirappe</td>\n",
       "      <td>MOVIE</td>\n",
       "      <td>A woman hopes for the reunion of two families ...</td>\n",
       "      <td>2021</td>\n",
       "      <td>NaN</td>\n",
       "      <td>137</td>\n",
       "      <td>['drama']</td>\n",
       "      <td>[]</td>\n",
       "      <td>NaN</td>\n",
       "      <td>tt15175418</td>\n",
       "      <td>5.1</td>\n",
       "      <td>871.0</td>\n",
       "      <td>NaN</td>\n",
       "      <td>NaN</td>\n",
       "    </tr>\n",
       "    <tr>\n",
       "      <th>9758</th>\n",
       "      <td>tm1102439</td>\n",
       "      <td>Udanpirappe</td>\n",
       "      <td>MOVIE</td>\n",
       "      <td>A woman hopes for the reunion of two families ...</td>\n",
       "      <td>2021</td>\n",
       "      <td>NaN</td>\n",
       "      <td>137</td>\n",
       "      <td>['drama']</td>\n",
       "      <td>['IN']</td>\n",
       "      <td>NaN</td>\n",
       "      <td>NaN</td>\n",
       "      <td>NaN</td>\n",
       "      <td>NaN</td>\n",
       "      <td>1.579</td>\n",
       "      <td>5.0</td>\n",
       "    </tr>\n",
       "  </tbody>\n",
       "</table>\n",
       "</div>"
      ],
      "text/plain": [
       "             id        title   type  \\\n",
       "9557  tm1090237  Udanpirappe  MOVIE   \n",
       "9758  tm1102439  Udanpirappe  MOVIE   \n",
       "\n",
       "                                            description  release_year  \\\n",
       "9557  A woman hopes for the reunion of two families ...          2021   \n",
       "9758  A woman hopes for the reunion of two families ...          2021   \n",
       "\n",
       "     age_certification  runtime     genres production_countries  seasons  \\\n",
       "9557               NaN      137  ['drama']                   []      NaN   \n",
       "9758               NaN      137  ['drama']               ['IN']      NaN   \n",
       "\n",
       "         imdb_id  imdb_score  imdb_votes  tmdb_popularity  tmdb_score  \n",
       "9557  tt15175418         5.1       871.0              NaN         NaN  \n",
       "9758         NaN         NaN         NaN            1.579         5.0  "
      ]
     },
     "execution_count": 12,
     "metadata": {},
     "output_type": "execute_result"
    }
   ],
   "source": [
    "# Vemos el título del duplicado que no se ha eliminado:\n",
    "data_amazon1[data_amazon1.duplicated(subset=['title', 'type', 'release_year', 'runtime'])]\n",
    "\n",
    "# Comprobamos -visualmente- si es un duplicado:\n",
    "data_amazon1[data_amazon1['title'] == 'Udanpirappe']"
   ]
  },
  {
   "cell_type": "code",
   "execution_count": 13,
   "metadata": {},
   "outputs": [
    {
     "name": "stdout",
     "output_type": "stream",
     "text": [
      "object\n",
      "                 id          title           type    description  \\\n",
      "9557  <class 'str'>  <class 'str'>  <class 'str'>  <class 'str'>   \n",
      "9758  <class 'str'>  <class 'str'>  <class 'str'>  <class 'str'>   \n",
      "\n",
      "     age_certification         genres production_countries          imdb_id  \n",
      "9557   <class 'float'>  <class 'str'>        <class 'str'>    <class 'str'>  \n",
      "9758   <class 'float'>  <class 'str'>        <class 'str'>  <class 'float'>  \n",
      "int64\n",
      "int64\n"
     ]
    },
    {
     "data": {
      "text/html": [
       "<div>\n",
       "<style scoped>\n",
       "    .dataframe tbody tr th:only-of-type {\n",
       "        vertical-align: middle;\n",
       "    }\n",
       "\n",
       "    .dataframe tbody tr th {\n",
       "        vertical-align: top;\n",
       "    }\n",
       "\n",
       "    .dataframe thead th {\n",
       "        text-align: right;\n",
       "    }\n",
       "</style>\n",
       "<table border=\"1\" class=\"dataframe\">\n",
       "  <thead>\n",
       "    <tr style=\"text-align: right;\">\n",
       "      <th></th>\n",
       "      <th>id</th>\n",
       "      <th>title</th>\n",
       "      <th>type</th>\n",
       "      <th>description</th>\n",
       "      <th>release_year</th>\n",
       "      <th>age_certification</th>\n",
       "      <th>runtime</th>\n",
       "      <th>genres</th>\n",
       "      <th>production_countries</th>\n",
       "      <th>seasons</th>\n",
       "      <th>imdb_id</th>\n",
       "      <th>imdb_score</th>\n",
       "      <th>imdb_votes</th>\n",
       "      <th>tmdb_popularity</th>\n",
       "      <th>tmdb_score</th>\n",
       "    </tr>\n",
       "  </thead>\n",
       "  <tbody>\n",
       "    <tr>\n",
       "      <th>9557</th>\n",
       "      <td>tm1090237</td>\n",
       "      <td>Udanpirappe</td>\n",
       "      <td>MOVIE</td>\n",
       "      <td>A woman hopes for the reunion of two families ...</td>\n",
       "      <td>2021</td>\n",
       "      <td>NaN</td>\n",
       "      <td>137</td>\n",
       "      <td>['drama']</td>\n",
       "      <td>[]</td>\n",
       "      <td>NaN</td>\n",
       "      <td>tt15175418</td>\n",
       "      <td>5.1</td>\n",
       "      <td>871.0</td>\n",
       "      <td>NaN</td>\n",
       "      <td>NaN</td>\n",
       "    </tr>\n",
       "  </tbody>\n",
       "</table>\n",
       "</div>"
      ],
      "text/plain": [
       "             id        title   type  \\\n",
       "9557  tm1090237  Udanpirappe  MOVIE   \n",
       "\n",
       "                                            description  release_year  \\\n",
       "9557  A woman hopes for the reunion of two families ...          2021   \n",
       "\n",
       "     age_certification  runtime     genres production_countries  seasons  \\\n",
       "9557               NaN      137  ['drama']                   []      NaN   \n",
       "\n",
       "         imdb_id  imdb_score  imdb_votes  tmdb_popularity  tmdb_score  \n",
       "9557  tt15175418         5.1       871.0              NaN         NaN  "
      ]
     },
     "execution_count": 13,
     "metadata": {},
     "output_type": "execute_result"
    }
   ],
   "source": [
    "# Nos aseguramos que todos los valores de esas columnas tengan el mismo tipo\n",
    "\n",
    "data_amazon1['title'] = data_amazon1['title'].astype(str)\n",
    "data_amazon1['release_year'] = data_amazon1['release_year'].astype(int)\n",
    "data_amazon['runtime'] = data_amazon['runtime'].astype(float)\n",
    "\n",
    "print(data_amazon1['title'].dtype)\n",
    "\n",
    "# Nos aseguramos que data_amazon1['title'] es un string\n",
    "print(data_amazon1[data_amazon1['title'] == 'Udanpirappe'].select_dtypes(include=['object']).applymap(type))\n",
    "\n",
    "print(data_amazon1['release_year'].dtype)\n",
    "print(data_amazon1['runtime'].dtype)\n",
    "\n",
    "# Volvemos a intentar eliminar el duplicado\n",
    "data_amazon2 = data_amazon1.drop_duplicates(subset=['title', 'type', 'release_year', 'runtime'], keep=\"first\").copy()\n",
    "\n",
    "# Comprobamos que solo hay una fila con la película Udanpirappe de 2021:\n",
    "data_amazon2[data_amazon2['title'] == 'Udanpirappe']"
   ]
  },
  {
   "cell_type": "code",
   "execution_count": 14,
   "metadata": {},
   "outputs": [
    {
     "name": "stdout",
     "output_type": "stream",
     "text": [
      "n duplicados: 0\n"
     ]
    }
   ],
   "source": [
    "# Comprobamos que ya no tenemos duplicados:\n",
    "print(\"n duplicados:\", data_amazon2[data_amazon2.duplicated(subset=['title', 'type', 'release_year', 'runtime'])].shape[0])"
   ]
  },
  {
   "cell_type": "code",
   "execution_count": 15,
   "metadata": {},
   "outputs": [
    {
     "name": "stdout",
     "output_type": "stream",
     "text": [
      "N columnas: 13\n"
     ]
    },
    {
     "data": {
      "text/html": [
       "<div>\n",
       "<style scoped>\n",
       "    .dataframe tbody tr th:only-of-type {\n",
       "        vertical-align: middle;\n",
       "    }\n",
       "\n",
       "    .dataframe tbody tr th {\n",
       "        vertical-align: top;\n",
       "    }\n",
       "\n",
       "    .dataframe thead th {\n",
       "        text-align: right;\n",
       "    }\n",
       "</style>\n",
       "<table border=\"1\" class=\"dataframe\">\n",
       "  <thead>\n",
       "    <tr style=\"text-align: right;\">\n",
       "      <th></th>\n",
       "      <th>id</th>\n",
       "      <th>title</th>\n",
       "      <th>type</th>\n",
       "      <th>release_year</th>\n",
       "      <th>age_certification</th>\n",
       "      <th>runtime</th>\n",
       "      <th>genres</th>\n",
       "      <th>production_countries</th>\n",
       "      <th>seasons</th>\n",
       "      <th>imdb_score</th>\n",
       "      <th>imdb_votes</th>\n",
       "      <th>tmdb_popularity</th>\n",
       "      <th>tmdb_score</th>\n",
       "    </tr>\n",
       "  </thead>\n",
       "  <tbody>\n",
       "    <tr>\n",
       "      <th>0</th>\n",
       "      <td>ts20945</td>\n",
       "      <td>The Three Stooges</td>\n",
       "      <td>SHOW</td>\n",
       "      <td>1934</td>\n",
       "      <td>TV-PG</td>\n",
       "      <td>19</td>\n",
       "      <td>['comedy', 'family', 'animation', 'action', 'f...</td>\n",
       "      <td>['US']</td>\n",
       "      <td>26.0</td>\n",
       "      <td>8.6</td>\n",
       "      <td>1092.0</td>\n",
       "      <td>15.424</td>\n",
       "      <td>7.6</td>\n",
       "    </tr>\n",
       "    <tr>\n",
       "      <th>1</th>\n",
       "      <td>tm19248</td>\n",
       "      <td>The General</td>\n",
       "      <td>MOVIE</td>\n",
       "      <td>1926</td>\n",
       "      <td>NaN</td>\n",
       "      <td>78</td>\n",
       "      <td>['action', 'drama', 'war', 'western', 'comedy'...</td>\n",
       "      <td>['US']</td>\n",
       "      <td>NaN</td>\n",
       "      <td>8.2</td>\n",
       "      <td>89766.0</td>\n",
       "      <td>8.647</td>\n",
       "      <td>8.0</td>\n",
       "    </tr>\n",
       "    <tr>\n",
       "      <th>2</th>\n",
       "      <td>tm82253</td>\n",
       "      <td>The Best Years of Our Lives</td>\n",
       "      <td>MOVIE</td>\n",
       "      <td>1946</td>\n",
       "      <td>NaN</td>\n",
       "      <td>171</td>\n",
       "      <td>['romance', 'war', 'drama']</td>\n",
       "      <td>['US']</td>\n",
       "      <td>NaN</td>\n",
       "      <td>8.1</td>\n",
       "      <td>63026.0</td>\n",
       "      <td>8.435</td>\n",
       "      <td>7.8</td>\n",
       "    </tr>\n",
       "    <tr>\n",
       "      <th>3</th>\n",
       "      <td>tm83884</td>\n",
       "      <td>His Girl Friday</td>\n",
       "      <td>MOVIE</td>\n",
       "      <td>1940</td>\n",
       "      <td>NaN</td>\n",
       "      <td>92</td>\n",
       "      <td>['comedy', 'drama', 'romance']</td>\n",
       "      <td>['US']</td>\n",
       "      <td>NaN</td>\n",
       "      <td>7.8</td>\n",
       "      <td>57835.0</td>\n",
       "      <td>11.270</td>\n",
       "      <td>7.4</td>\n",
       "    </tr>\n",
       "    <tr>\n",
       "      <th>4</th>\n",
       "      <td>tm56584</td>\n",
       "      <td>In a Lonely Place</td>\n",
       "      <td>MOVIE</td>\n",
       "      <td>1950</td>\n",
       "      <td>NaN</td>\n",
       "      <td>94</td>\n",
       "      <td>['thriller', 'drama', 'romance']</td>\n",
       "      <td>['US']</td>\n",
       "      <td>NaN</td>\n",
       "      <td>7.9</td>\n",
       "      <td>30924.0</td>\n",
       "      <td>8.273</td>\n",
       "      <td>7.6</td>\n",
       "    </tr>\n",
       "  </tbody>\n",
       "</table>\n",
       "</div>"
      ],
      "text/plain": [
       "        id                        title   type  release_year  \\\n",
       "0  ts20945            The Three Stooges   SHOW          1934   \n",
       "1  tm19248                  The General  MOVIE          1926   \n",
       "2  tm82253  The Best Years of Our Lives  MOVIE          1946   \n",
       "3  tm83884              His Girl Friday  MOVIE          1940   \n",
       "4  tm56584            In a Lonely Place  MOVIE          1950   \n",
       "\n",
       "  age_certification  runtime  \\\n",
       "0             TV-PG       19   \n",
       "1               NaN       78   \n",
       "2               NaN      171   \n",
       "3               NaN       92   \n",
       "4               NaN       94   \n",
       "\n",
       "                                              genres production_countries  \\\n",
       "0  ['comedy', 'family', 'animation', 'action', 'f...               ['US']   \n",
       "1  ['action', 'drama', 'war', 'western', 'comedy'...               ['US']   \n",
       "2                        ['romance', 'war', 'drama']               ['US']   \n",
       "3                     ['comedy', 'drama', 'romance']               ['US']   \n",
       "4                   ['thriller', 'drama', 'romance']               ['US']   \n",
       "\n",
       "   seasons  imdb_score  imdb_votes  tmdb_popularity  tmdb_score  \n",
       "0     26.0         8.6      1092.0           15.424         7.6  \n",
       "1      NaN         8.2     89766.0            8.647         8.0  \n",
       "2      NaN         8.1     63026.0            8.435         7.8  \n",
       "3      NaN         7.8     57835.0           11.270         7.4  \n",
       "4      NaN         7.9     30924.0            8.273         7.6  "
      ]
     },
     "execution_count": 15,
     "metadata": {},
     "output_type": "execute_result"
    }
   ],
   "source": [
    "# Eliminamos las columnas con el id de Imdb ya que no hemos sacado informacion de estas webs - más allá de la ya dada en el dataset\n",
    "# Tampoco vamos a utilizar en este análisis la descripción de las películas\n",
    "# Mantenemos tanto la valoración de imdb como de tndm porque al pertenecer imdb a amazon podría haber datos sesgados\n",
    "\n",
    "data_amazon3 = data_amazon2.drop(['imdb_id', 'description'], axis=1).copy()\n",
    "print(\"N columnas:\", data_amazon3.shape[1])\n",
    "data_amazon3.head()"
   ]
  },
  {
   "cell_type": "code",
   "execution_count": 16,
   "metadata": {},
   "outputs": [
    {
     "data": {
      "text/plain": [
       "Index(['id', 'title', 'type', 'release_year', 'age_certification', 'runtime',\n",
       "       'genres', 'production_countries', 'seasons', 'imdb_score', 'imdb_votes',\n",
       "       'tmdb_popularity', 'tmdb_score'],\n",
       "      dtype='object')"
      ]
     },
     "execution_count": 16,
     "metadata": {},
     "output_type": "execute_result"
    }
   ],
   "source": [
    "data_amazon3.columns"
   ]
  },
  {
   "cell_type": "code",
   "execution_count": 17,
   "metadata": {},
   "outputs": [
    {
     "name": "stdout",
     "output_type": "stream",
     "text": [
      "Valores unicos: 9867\n",
      "n filas: 9867\n"
     ]
    }
   ],
   "source": [
    "# Comprobamos que la columna id tiene valores únicos para cada título \n",
    "# --> por si lo necesitásemos a la hora de juntar las tablas de todas las plataformas y diferenciar por contenido exclusivo \n",
    "# (por eso no eliminamos esta columna)\n",
    "\n",
    "print(\"Valores unicos:\", data_amazon3['id'].nunique())\n",
    "print(\"n filas:\", data_amazon3['id'].shape[0])"
   ]
  },
  {
   "cell_type": "code",
   "execution_count": 18,
   "metadata": {},
   "outputs": [
    {
     "data": {
      "text/plain": [
       "array(['SHOW', 'MOVIE'], dtype=object)"
      ]
     },
     "execution_count": 18,
     "metadata": {},
     "output_type": "execute_result"
    }
   ],
   "source": [
    "# Comprobamos los valores de la vble type y nos aseguramos que es de tipo string\n",
    "# --> La utilizaremos para diferenciar los títulos: lo hacemos al final, para cambiar las columnas del resto de vbles a la vez\n",
    "data_amazon3['type'] = data_amazon3['type'].astype(str)\n",
    "data_amazon3['type'].unique()"
   ]
  },
  {
   "cell_type": "code",
   "execution_count": 19,
   "metadata": {},
   "outputs": [],
   "source": [
    "#Creamos la columna década (tiene más sentido para clasificar el contenido)\n",
    "\n",
    "decadas = (10 * (data_amazon3['release_year'] // 10)).astype(str) + 's'\n",
    "data_amazon3.insert(4, 'Decada', decadas)\n",
    "\n",
    "#Eliminamos la columna release_year\n",
    "del data_amazon3['release_year']"
   ]
  },
  {
   "cell_type": "code",
   "execution_count": 20,
   "metadata": {},
   "outputs": [
    {
     "data": {
      "text/html": [
       "<div>\n",
       "<style scoped>\n",
       "    .dataframe tbody tr th:only-of-type {\n",
       "        vertical-align: middle;\n",
       "    }\n",
       "\n",
       "    .dataframe tbody tr th {\n",
       "        vertical-align: top;\n",
       "    }\n",
       "\n",
       "    .dataframe thead th {\n",
       "        text-align: right;\n",
       "    }\n",
       "</style>\n",
       "<table border=\"1\" class=\"dataframe\">\n",
       "  <thead>\n",
       "    <tr style=\"text-align: right;\">\n",
       "      <th></th>\n",
       "      <th>id</th>\n",
       "      <th>title</th>\n",
       "      <th>type</th>\n",
       "      <th>Decada</th>\n",
       "      <th>age_certification</th>\n",
       "      <th>runtime</th>\n",
       "      <th>genres</th>\n",
       "      <th>production_countries</th>\n",
       "      <th>seasons</th>\n",
       "      <th>imdb_score</th>\n",
       "      <th>imdb_votes</th>\n",
       "      <th>tmdb_popularity</th>\n",
       "      <th>tmdb_score</th>\n",
       "    </tr>\n",
       "  </thead>\n",
       "  <tbody>\n",
       "    <tr>\n",
       "      <th>0</th>\n",
       "      <td>ts20945</td>\n",
       "      <td>The Three Stooges</td>\n",
       "      <td>SHOW</td>\n",
       "      <td>1930s</td>\n",
       "      <td>TV-PG</td>\n",
       "      <td>19</td>\n",
       "      <td>['comedy', 'family', 'animation', 'action', 'f...</td>\n",
       "      <td>['US']</td>\n",
       "      <td>26.0</td>\n",
       "      <td>8.6</td>\n",
       "      <td>1092.0</td>\n",
       "      <td>15.424</td>\n",
       "      <td>7.6</td>\n",
       "    </tr>\n",
       "    <tr>\n",
       "      <th>1</th>\n",
       "      <td>tm19248</td>\n",
       "      <td>The General</td>\n",
       "      <td>MOVIE</td>\n",
       "      <td>1920s</td>\n",
       "      <td>NaN</td>\n",
       "      <td>78</td>\n",
       "      <td>['action', 'drama', 'war', 'western', 'comedy'...</td>\n",
       "      <td>['US']</td>\n",
       "      <td>NaN</td>\n",
       "      <td>8.2</td>\n",
       "      <td>89766.0</td>\n",
       "      <td>8.647</td>\n",
       "      <td>8.0</td>\n",
       "    </tr>\n",
       "    <tr>\n",
       "      <th>2</th>\n",
       "      <td>tm82253</td>\n",
       "      <td>The Best Years of Our Lives</td>\n",
       "      <td>MOVIE</td>\n",
       "      <td>1940s</td>\n",
       "      <td>NaN</td>\n",
       "      <td>171</td>\n",
       "      <td>['romance', 'war', 'drama']</td>\n",
       "      <td>['US']</td>\n",
       "      <td>NaN</td>\n",
       "      <td>8.1</td>\n",
       "      <td>63026.0</td>\n",
       "      <td>8.435</td>\n",
       "      <td>7.8</td>\n",
       "    </tr>\n",
       "    <tr>\n",
       "      <th>3</th>\n",
       "      <td>tm83884</td>\n",
       "      <td>His Girl Friday</td>\n",
       "      <td>MOVIE</td>\n",
       "      <td>1940s</td>\n",
       "      <td>NaN</td>\n",
       "      <td>92</td>\n",
       "      <td>['comedy', 'drama', 'romance']</td>\n",
       "      <td>['US']</td>\n",
       "      <td>NaN</td>\n",
       "      <td>7.8</td>\n",
       "      <td>57835.0</td>\n",
       "      <td>11.270</td>\n",
       "      <td>7.4</td>\n",
       "    </tr>\n",
       "    <tr>\n",
       "      <th>4</th>\n",
       "      <td>tm56584</td>\n",
       "      <td>In a Lonely Place</td>\n",
       "      <td>MOVIE</td>\n",
       "      <td>1950s</td>\n",
       "      <td>NaN</td>\n",
       "      <td>94</td>\n",
       "      <td>['thriller', 'drama', 'romance']</td>\n",
       "      <td>['US']</td>\n",
       "      <td>NaN</td>\n",
       "      <td>7.9</td>\n",
       "      <td>30924.0</td>\n",
       "      <td>8.273</td>\n",
       "      <td>7.6</td>\n",
       "    </tr>\n",
       "  </tbody>\n",
       "</table>\n",
       "</div>"
      ],
      "text/plain": [
       "        id                        title   type Decada age_certification  \\\n",
       "0  ts20945            The Three Stooges   SHOW  1930s             TV-PG   \n",
       "1  tm19248                  The General  MOVIE  1920s               NaN   \n",
       "2  tm82253  The Best Years of Our Lives  MOVIE  1940s               NaN   \n",
       "3  tm83884              His Girl Friday  MOVIE  1940s               NaN   \n",
       "4  tm56584            In a Lonely Place  MOVIE  1950s               NaN   \n",
       "\n",
       "   runtime                                             genres  \\\n",
       "0       19  ['comedy', 'family', 'animation', 'action', 'f...   \n",
       "1       78  ['action', 'drama', 'war', 'western', 'comedy'...   \n",
       "2      171                        ['romance', 'war', 'drama']   \n",
       "3       92                     ['comedy', 'drama', 'romance']   \n",
       "4       94                   ['thriller', 'drama', 'romance']   \n",
       "\n",
       "  production_countries  seasons  imdb_score  imdb_votes  tmdb_popularity  \\\n",
       "0               ['US']     26.0         8.6      1092.0           15.424   \n",
       "1               ['US']      NaN         8.2     89766.0            8.647   \n",
       "2               ['US']      NaN         8.1     63026.0            8.435   \n",
       "3               ['US']      NaN         7.8     57835.0           11.270   \n",
       "4               ['US']      NaN         7.9     30924.0            8.273   \n",
       "\n",
       "   tmdb_score  \n",
       "0         7.6  \n",
       "1         8.0  \n",
       "2         7.8  \n",
       "3         7.4  \n",
       "4         7.6  "
      ]
     },
     "execution_count": 20,
     "metadata": {},
     "output_type": "execute_result"
    }
   ],
   "source": [
    "data_amazon3.head()"
   ]
  },
  {
   "cell_type": "code",
   "execution_count": 21,
   "metadata": {},
   "outputs": [
    {
     "data": {
      "text/html": [
       "<div>\n",
       "<style scoped>\n",
       "    .dataframe tbody tr th:only-of-type {\n",
       "        vertical-align: middle;\n",
       "    }\n",
       "\n",
       "    .dataframe tbody tr th {\n",
       "        vertical-align: top;\n",
       "    }\n",
       "\n",
       "    .dataframe thead th {\n",
       "        text-align: right;\n",
       "    }\n",
       "</style>\n",
       "<table border=\"1\" class=\"dataframe\">\n",
       "  <thead>\n",
       "    <tr style=\"text-align: right;\">\n",
       "      <th></th>\n",
       "      <th>Decada</th>\n",
       "      <th>total</th>\n",
       "    </tr>\n",
       "  </thead>\n",
       "  <tbody>\n",
       "    <tr>\n",
       "      <th>2010s</th>\n",
       "      <td>4315</td>\n",
       "      <td>43.73</td>\n",
       "    </tr>\n",
       "    <tr>\n",
       "      <th>2020s</th>\n",
       "      <td>1642</td>\n",
       "      <td>16.64</td>\n",
       "    </tr>\n",
       "    <tr>\n",
       "      <th>2000s</th>\n",
       "      <td>1189</td>\n",
       "      <td>12.05</td>\n",
       "    </tr>\n",
       "    <tr>\n",
       "      <th>1990s</th>\n",
       "      <td>546</td>\n",
       "      <td>5.53</td>\n",
       "    </tr>\n",
       "    <tr>\n",
       "      <th>1940s</th>\n",
       "      <td>420</td>\n",
       "      <td>4.26</td>\n",
       "    </tr>\n",
       "    <tr>\n",
       "      <th>1930s</th>\n",
       "      <td>414</td>\n",
       "      <td>4.20</td>\n",
       "    </tr>\n",
       "    <tr>\n",
       "      <th>1980s</th>\n",
       "      <td>408</td>\n",
       "      <td>4.13</td>\n",
       "    </tr>\n",
       "    <tr>\n",
       "      <th>1970s</th>\n",
       "      <td>355</td>\n",
       "      <td>3.60</td>\n",
       "    </tr>\n",
       "    <tr>\n",
       "      <th>1950s</th>\n",
       "      <td>254</td>\n",
       "      <td>2.57</td>\n",
       "    </tr>\n",
       "    <tr>\n",
       "      <th>1960s</th>\n",
       "      <td>239</td>\n",
       "      <td>2.42</td>\n",
       "    </tr>\n",
       "    <tr>\n",
       "      <th>1920s</th>\n",
       "      <td>65</td>\n",
       "      <td>0.66</td>\n",
       "    </tr>\n",
       "    <tr>\n",
       "      <th>1910s</th>\n",
       "      <td>20</td>\n",
       "      <td>0.20</td>\n",
       "    </tr>\n",
       "  </tbody>\n",
       "</table>\n",
       "</div>"
      ],
      "text/plain": [
       "       Decada  total\n",
       "2010s    4315  43.73\n",
       "2020s    1642  16.64\n",
       "2000s    1189  12.05\n",
       "1990s     546   5.53\n",
       "1940s     420   4.26\n",
       "1930s     414   4.20\n",
       "1980s     408   4.13\n",
       "1970s     355   3.60\n",
       "1950s     254   2.57\n",
       "1960s     239   2.42\n",
       "1920s      65   0.66\n",
       "1910s      20   0.20"
      ]
     },
     "execution_count": 21,
     "metadata": {},
     "output_type": "execute_result"
    }
   ],
   "source": [
    "df_decadas_amazon = pd.DataFrame(data_amazon3['Decada'].value_counts())\n",
    "total = df_decadas_amazon['Decada'].sum()\n",
    "df_decadas_amazon['total'] = [round((i/total)*100, 2) for i in df_decadas_amazon['Decada']]\n",
    "df_decadas_amazon\n",
    "\n",
    "# Tiene sentido que 2020s sea solo el 16.64% ya que solo hay 2 años, pero viendo el crecimiento de 2000 a 2010, prob prevision superar 2010"
   ]
  },
  {
   "cell_type": "code",
   "execution_count": 22,
   "metadata": {},
   "outputs": [
    {
     "name": "stdout",
     "output_type": "stream",
     "text": [
      "Valores Columna Edad: ['TV-PG' nan 'PG' 'G' 'PG-13' 'R' 'TV-G' 'TV-Y' 'TV-14' 'NC-17' 'TV-Y7'\n",
      " 'TV-MA']\n"
     ]
    }
   ],
   "source": [
    "# age_certification -> vemos variables para redefinirlas\n",
    "print(\"Valores Columna Edad:\", data_amazon3['age_certification'].unique())"
   ]
  },
  {
   "cell_type": "code",
   "execution_count": 23,
   "metadata": {},
   "outputs": [
    {
     "name": "stdout",
     "output_type": "stream",
     "text": [
      "Valores Columna Edad: [   7 9999    0   13   17]\n"
     ]
    }
   ],
   "source": [
    "# Redefinimos los valores\n",
    "\n",
    "\"\"\"\n",
    "- G:        > 0 - Todas las edades\n",
    "- TV-G:     > 0 publico general \n",
    "- TV-Y:     < 6 años \n",
    "- TV-Y7:    < 7 años \n",
    "- TV-PG:    < Puede ser inadecuado para niños sin la guía de un padre  (lo definimos como para mayores de 13) \n",
    "- PG:       < Puede ser inadecuado para niños sin la guía de un padre  (lo definimos como para mayores de 13) \n",
    "- PG-13:    > 13\n",
    "- TV-14:    > 14 \n",
    "- R:        > 17 - Restringido\n",
    "- NC-17:    > 17 - No se admiten menores de 17\n",
    "- TV-MA     > 17 \n",
    "\n",
    "- Límites:\n",
    "    0 (años) = todos los públicos\n",
    "    7 (años) = + 7 años\n",
    "    13 (años) = + 13 años\n",
    "    17 (años) = + 17 años\n",
    "\n",
    "Tenemos 6487 NaN --> le asignamos el numero 9999 (no podemos eliminarlos)\n",
    "\"\"\"\n",
    "\n",
    "data_amazon3['age_certification'] = np.where(data_amazon3['age_certification'] == \"G\", 0, data_amazon3['age_certification'])\n",
    "data_amazon3['age_certification'] = np.where(data_amazon3['age_certification'] == \"TV-G\", 0, data_amazon3['age_certification'])\n",
    "data_amazon3['age_certification'] = np.where(data_amazon3['age_certification'] == \"TV-Y\", 7, data_amazon3['age_certification'])\n",
    "data_amazon3['age_certification'] = np.where(data_amazon3['age_certification'] == \"TV-Y7\", 7, data_amazon3['age_certification'])\n",
    "data_amazon3['age_certification'] = np.where(data_amazon3['age_certification'] == \"TV-PG\", 7, data_amazon3['age_certification'])\n",
    "data_amazon3['age_certification'] = np.where(data_amazon3['age_certification'] == \"PG\", 7, data_amazon3['age_certification'])\n",
    "data_amazon3['age_certification'] = np.where(data_amazon3['age_certification'] == \"PG-13\", 13, data_amazon3['age_certification'])\n",
    "data_amazon3['age_certification'] = np.where(data_amazon3['age_certification'] == \"TV-14\", 13, data_amazon3['age_certification'])\n",
    "data_amazon3['age_certification'] = np.where(data_amazon3['age_certification'] == \"R\", 17, data_amazon3['age_certification'])\n",
    "data_amazon3['age_certification'] = np.where(data_amazon3['age_certification'] == \"NC-17\", 17, data_amazon3['age_certification'])\n",
    "data_amazon3['age_certification'] = np.where(data_amazon3['age_certification'] == \"TV-MA\", 17, data_amazon3['age_certification'])\n",
    "\n",
    "# Asignamos el numero 9999 a los valores nulos:\n",
    "data_amazon3['age_certification'] = data_amazon3['age_certification'].fillna(9999)\n",
    "\n",
    "print(\"Valores Columna Edad:\", data_amazon3['age_certification'].unique())"
   ]
  },
  {
   "cell_type": "code",
   "execution_count": 24,
   "metadata": {},
   "outputs": [
    {
     "data": {
      "text/html": [
       "<div>\n",
       "<style scoped>\n",
       "    .dataframe tbody tr th:only-of-type {\n",
       "        vertical-align: middle;\n",
       "    }\n",
       "\n",
       "    .dataframe tbody tr th {\n",
       "        vertical-align: top;\n",
       "    }\n",
       "\n",
       "    .dataframe thead th {\n",
       "        text-align: right;\n",
       "    }\n",
       "</style>\n",
       "<table border=\"1\" class=\"dataframe\">\n",
       "  <thead>\n",
       "    <tr style=\"text-align: right;\">\n",
       "      <th></th>\n",
       "      <th>age_certification</th>\n",
       "      <th>total</th>\n",
       "    </tr>\n",
       "  </thead>\n",
       "  <tbody>\n",
       "    <tr>\n",
       "      <th>9999</th>\n",
       "      <td>6483</td>\n",
       "      <td>65.70</td>\n",
       "    </tr>\n",
       "    <tr>\n",
       "      <th>17</th>\n",
       "      <td>1479</td>\n",
       "      <td>14.99</td>\n",
       "    </tr>\n",
       "    <tr>\n",
       "      <th>7</th>\n",
       "      <td>803</td>\n",
       "      <td>8.14</td>\n",
       "    </tr>\n",
       "    <tr>\n",
       "      <th>13</th>\n",
       "      <td>776</td>\n",
       "      <td>7.86</td>\n",
       "    </tr>\n",
       "    <tr>\n",
       "      <th>0</th>\n",
       "      <td>326</td>\n",
       "      <td>3.30</td>\n",
       "    </tr>\n",
       "  </tbody>\n",
       "</table>\n",
       "</div>"
      ],
      "text/plain": [
       "      age_certification  total\n",
       "9999               6483  65.70\n",
       "17                 1479  14.99\n",
       "7                   803   8.14\n",
       "13                  776   7.86\n",
       "0                   326   3.30"
      ]
     },
     "execution_count": 24,
     "metadata": {},
     "output_type": "execute_result"
    }
   ],
   "source": [
    "df_edades_amazon = pd.DataFrame(data_amazon3['age_certification'].value_counts())\n",
    "total = data_amazon3['age_certification'].value_counts().sum()\n",
    "df_edades_amazon['total'] = [round((i/total)*100, 2) for i in df_edades_amazon['age_certification']]\n",
    "df_edades_amazon"
   ]
  },
  {
   "cell_type": "code",
   "execution_count": 25,
   "metadata": {},
   "outputs": [
    {
     "name": "stdout",
     "output_type": "stream",
     "text": [
      "N NaN en 'genres': 209\n",
      "% NaN en 'genres': 2.12\n"
     ]
    }
   ],
   "source": [
    "#Comprobamos numero de listas vacías en columna genres\n",
    "\n",
    "nan_genres = 0\n",
    "for i in data_amazon3['genres']:\n",
    "    if \"[]\" in i:\n",
    "        nan_genres +=1\n",
    "        \n",
    "print(\"N NaN en 'genres':\", nan_genres)\n",
    "print(\"% NaN en 'genres':\", round(nan_genres / data_amazon3.shape[0] *100, 2))"
   ]
  },
  {
   "cell_type": "code",
   "execution_count": 26,
   "metadata": {},
   "outputs": [],
   "source": [
    "# Sacamos todos los generos que incluye la columna para agruparlos\n",
    "\n",
    "otra_lista = []\n",
    "for lista in data_amazon3['genres'].apply(eval):\n",
    "    for x in lista:\n",
    "        otra_lista.append(x)"
   ]
  },
  {
   "cell_type": "code",
   "execution_count": 27,
   "metadata": {},
   "outputs": [
    {
     "name": "stdout",
     "output_type": "stream",
     "text": [
      "generos: ['comedy' 'family' 'animation' 'action' 'fantasy' 'horror' 'drama' 'war'\n",
      " 'western' 'european' 'romance' 'thriller' 'crime' 'history' 'sport'\n",
      " 'scifi' 'documentation' 'music' 'reality']\n",
      "n generos: 19\n"
     ]
    }
   ],
   "source": [
    "# Pasamos a serie para ver valores únicos\n",
    "generos = pd.Series(otra_lista)\n",
    "print(\"generos:\", generos.unique())\n",
    "print(\"n generos:\", len(generos.unique()))"
   ]
  },
  {
   "cell_type": "code",
   "execution_count": 28,
   "metadata": {},
   "outputs": [
    {
     "name": "stdout",
     "output_type": "stream",
     "text": [
      "object\n",
      "['comedy', 'family', 'animation', 'action', 'fantasy', 'horror']\n",
      "[\n"
     ]
    }
   ],
   "source": [
    "print(data_amazon3['genres'].dtype) # --> object\n",
    "print(data_amazon3['genres'].iloc[0])\n",
    "type(data_amazon3['genres'].iloc[0]) #-->str\n",
    "print(data_amazon3['genres'].iloc[0][0]) #--> interpreta el primer elemento de la lista como el primer caracter\n",
    "\n",
    "#Aunque tiene un formato visualmente de lista --> es un string"
   ]
  },
  {
   "cell_type": "code",
   "execution_count": 29,
   "metadata": {},
   "outputs": [
    {
     "name": "stderr",
     "output_type": "stream",
     "text": [
      "/Library/Frameworks/Python.framework/Versions/3.7/lib/python3.7/site-packages/ipykernel_launcher.py:3: FutureWarning:\n",
      "\n",
      "The default value of regex will change from True to False in a future version. In addition, single character regular expressions will *not* be treated as literal strings when regex=True.\n",
      "\n"
     ]
    },
    {
     "data": {
      "text/plain": [
       "'comedy'"
      ]
     },
     "execution_count": 29,
     "metadata": {},
     "output_type": "execute_result"
    }
   ],
   "source": [
    "# Eliminamos caracteres y separamos por la coma para poder acceder a cada genero de la lista\n",
    "\n",
    "data_amazon3['genres'] = data_amazon3['genres'].str.replace(\"[\", \"\").str.replace(\"]\",\"\").str.replace(\"'\", \"\").str.replace('\"',\"\")\n",
    "data_amazon3['genres'] = data_amazon3['genres'].str.rsplit(pat=\", \")\n",
    "data_amazon3['genres'][0][0]"
   ]
  },
  {
   "cell_type": "code",
   "execution_count": 30,
   "metadata": {},
   "outputs": [],
   "source": [
    "# Bajo la suposicion de que el genero principal de cada titulo es el primero que aparece, definimos la columna['genres'] por el primer genero que aparezca en su lista\n",
    "\n",
    "data_amazon3['genres'] = [fila[0] for fila in data_amazon3['genres']]"
   ]
  },
  {
   "cell_type": "code",
   "execution_count": 31,
   "metadata": {},
   "outputs": [
    {
     "name": "stdout",
     "output_type": "stream",
     "text": [
      "N generos: 9867\n"
     ]
    },
    {
     "data": {
      "text/html": [
       "<div>\n",
       "<style scoped>\n",
       "    .dataframe tbody tr th:only-of-type {\n",
       "        vertical-align: middle;\n",
       "    }\n",
       "\n",
       "    .dataframe tbody tr th {\n",
       "        vertical-align: top;\n",
       "    }\n",
       "\n",
       "    .dataframe thead th {\n",
       "        text-align: right;\n",
       "    }\n",
       "</style>\n",
       "<table border=\"1\" class=\"dataframe\">\n",
       "  <thead>\n",
       "    <tr style=\"text-align: right;\">\n",
       "      <th></th>\n",
       "      <th>genres</th>\n",
       "      <th>total</th>\n",
       "    </tr>\n",
       "  </thead>\n",
       "  <tbody>\n",
       "    <tr>\n",
       "      <th>drama</th>\n",
       "      <td>2625</td>\n",
       "      <td>26.60</td>\n",
       "    </tr>\n",
       "    <tr>\n",
       "      <th>comedy</th>\n",
       "      <td>1608</td>\n",
       "      <td>16.30</td>\n",
       "    </tr>\n",
       "    <tr>\n",
       "      <th>thriller</th>\n",
       "      <td>1101</td>\n",
       "      <td>11.16</td>\n",
       "    </tr>\n",
       "    <tr>\n",
       "      <th>documentation</th>\n",
       "      <td>776</td>\n",
       "      <td>7.86</td>\n",
       "    </tr>\n",
       "    <tr>\n",
       "      <th>horror</th>\n",
       "      <td>610</td>\n",
       "      <td>6.18</td>\n",
       "    </tr>\n",
       "    <tr>\n",
       "      <th>action</th>\n",
       "      <td>527</td>\n",
       "      <td>5.34</td>\n",
       "    </tr>\n",
       "    <tr>\n",
       "      <th>romance</th>\n",
       "      <td>492</td>\n",
       "      <td>4.99</td>\n",
       "    </tr>\n",
       "    <tr>\n",
       "      <th>western</th>\n",
       "      <td>413</td>\n",
       "      <td>4.19</td>\n",
       "    </tr>\n",
       "    <tr>\n",
       "      <th>scifi</th>\n",
       "      <td>325</td>\n",
       "      <td>3.29</td>\n",
       "    </tr>\n",
       "    <tr>\n",
       "      <th>crime</th>\n",
       "      <td>300</td>\n",
       "      <td>3.04</td>\n",
       "    </tr>\n",
       "    <tr>\n",
       "      <th>animation</th>\n",
       "      <td>232</td>\n",
       "      <td>2.35</td>\n",
       "    </tr>\n",
       "    <tr>\n",
       "      <th></th>\n",
       "      <td>209</td>\n",
       "      <td>2.12</td>\n",
       "    </tr>\n",
       "    <tr>\n",
       "      <th>fantasy</th>\n",
       "      <td>198</td>\n",
       "      <td>2.01</td>\n",
       "    </tr>\n",
       "    <tr>\n",
       "      <th>family</th>\n",
       "      <td>134</td>\n",
       "      <td>1.36</td>\n",
       "    </tr>\n",
       "    <tr>\n",
       "      <th>reality</th>\n",
       "      <td>102</td>\n",
       "      <td>1.03</td>\n",
       "    </tr>\n",
       "    <tr>\n",
       "      <th>music</th>\n",
       "      <td>93</td>\n",
       "      <td>0.94</td>\n",
       "    </tr>\n",
       "    <tr>\n",
       "      <th>war</th>\n",
       "      <td>51</td>\n",
       "      <td>0.52</td>\n",
       "    </tr>\n",
       "    <tr>\n",
       "      <th>history</th>\n",
       "      <td>46</td>\n",
       "      <td>0.47</td>\n",
       "    </tr>\n",
       "    <tr>\n",
       "      <th>sport</th>\n",
       "      <td>19</td>\n",
       "      <td>0.19</td>\n",
       "    </tr>\n",
       "    <tr>\n",
       "      <th>european</th>\n",
       "      <td>6</td>\n",
       "      <td>0.06</td>\n",
       "    </tr>\n",
       "  </tbody>\n",
       "</table>\n",
       "</div>"
      ],
      "text/plain": [
       "               genres  total\n",
       "drama            2625  26.60\n",
       "comedy           1608  16.30\n",
       "thriller         1101  11.16\n",
       "documentation     776   7.86\n",
       "horror            610   6.18\n",
       "action            527   5.34\n",
       "romance           492   4.99\n",
       "western           413   4.19\n",
       "scifi             325   3.29\n",
       "crime             300   3.04\n",
       "animation         232   2.35\n",
       "                  209   2.12\n",
       "fantasy           198   2.01\n",
       "family            134   1.36\n",
       "reality           102   1.03\n",
       "music              93   0.94\n",
       "war                51   0.52\n",
       "history            46   0.47\n",
       "sport              19   0.19\n",
       "european            6   0.06"
      ]
     },
     "execution_count": 31,
     "metadata": {},
     "output_type": "execute_result"
    }
   ],
   "source": [
    "df_generos_amazon = pd.DataFrame(data_amazon3['genres'].value_counts())\n",
    "total = df_generos_amazon['genres'].sum()\n",
    "print(\"N generos:\", total)\n",
    "df_generos_amazon['total'] = [round((i/total)*100, 2) for i in df_generos_amazon['genres']]\n",
    "df_generos_amazon"
   ]
  },
  {
   "cell_type": "code",
   "execution_count": 32,
   "metadata": {},
   "outputs": [
    {
     "data": {
      "text/plain": [
       "drama            2625\n",
       "comedy           1608\n",
       "thriller         1101\n",
       "documentation     776\n",
       "horror            610\n",
       "action            527\n",
       "romance           492\n",
       "western           413\n",
       "scifi             325\n",
       "crime             300\n",
       "animation         232\n",
       "                  209\n",
       "fantasy           198\n",
       "family            134\n",
       "reality           102\n",
       "music              93\n",
       "war                51\n",
       "history            46\n",
       "sport              19\n",
       "european            6\n",
       "Name: genres, dtype: object"
      ]
     },
     "execution_count": 32,
     "metadata": {},
     "output_type": "execute_result"
    }
   ],
   "source": [
    "df_generos_amazon['genres'].astype(str)"
   ]
  },
  {
   "cell_type": "code",
   "execution_count": 33,
   "metadata": {},
   "outputs": [
    {
     "data": {
      "text/plain": [
       "0"
      ]
     },
     "execution_count": 33,
     "metadata": {},
     "output_type": "execute_result"
    }
   ],
   "source": [
    "len(df_generos_amazon['genres'][df_generos_amazon['genres'] == \"\"])"
   ]
  },
  {
   "cell_type": "code",
   "execution_count": 34,
   "metadata": {},
   "outputs": [
    {
     "name": "stdout",
     "output_type": "stream",
     "text": [
      "N NaN en 'production_countries': 821\n",
      "% NaN en 'production_countries': 8.32\n"
     ]
    }
   ],
   "source": [
    "#Comprobamos numero de listas vacías en columna production countries\n",
    "\n",
    "nan_countries = 0\n",
    "for i in data_amazon3['production_countries']:\n",
    "    if \"[]\" in i:\n",
    "        nan_countries +=1\n",
    "\n",
    "print(\"N NaN en 'production_countries':\", nan_countries)\n",
    "print(\"% NaN en 'production_countries':\", round(nan_countries / data_amazon3.shape[0] *100, 2))"
   ]
  },
  {
   "cell_type": "code",
   "execution_count": 35,
   "metadata": {},
   "outputs": [],
   "source": [
    "# Sacamos todos los países que incluye la columna para agruparlos\n",
    "\n",
    "otra_lista_paises = []\n",
    "for lista in data_amazon3['production_countries'].apply(eval):\n",
    "    for x in lista:\n",
    "        otra_lista_paises.append(x)"
   ]
  },
  {
   "cell_type": "code",
   "execution_count": 36,
   "metadata": {},
   "outputs": [
    {
     "name": "stdout",
     "output_type": "stream",
     "text": [
      "paises: ['US' 'GB' 'MX' 'CA' 'DE' 'SU' 'IN' 'XX' 'IT' 'JP' 'FR' 'HK' 'ES' 'IL'\n",
      " 'AU' 'CH' 'IE' 'GR' 'CN' 'PH' 'NL' 'YU' 'CI' 'PR' 'LI' 'KR' 'XC' 'HU'\n",
      " 'TW' 'AN' 'MC' 'CO' 'RO' 'EG' 'TR' 'BE' 'ZA' 'PT' 'CL' 'SE' 'BR' 'DK'\n",
      " 'NZ' 'RU' 'LU' 'CZ' 'FI' 'AT' 'SK' 'AR' 'VE' 'TH' 'PL' 'AE' 'SI' 'BA'\n",
      " 'ID' 'NO' 'AF' 'IR' 'IS' 'BG' 'JM' 'RS' 'SZ' 'LT' 'TC' 'SG' 'UY' 'BO'\n",
      " 'UA' 'MY' 'TN' 'QA' 'NG' 'KZ' 'GQ' 'MT' 'SO' 'KE'\n",
      " 'United States of America' 'MA' 'VN' 'BD' 'FJ' 'MN' 'UG' 'TT' 'PK' 'XK'\n",
      " 'PE' 'DO' 'SV' 'GE' 'PS' 'HR' 'LV' 'AQ' 'LB' 'KH' 'CR' 'BM' 'JO' 'PA'\n",
      " 'AL' 'CY' 'CU' 'PY' 'EE' 'ET' 'PF' 'EC' 'IO' 'AM' 'SY' 'CM' 'LY']\n",
      "n paises: 117\n"
     ]
    }
   ],
   "source": [
    "# Pasamos a serie para ver valores únicos\n",
    "paises = pd.Series(otra_lista_paises)\n",
    "print(\"paises:\", paises.unique())\n",
    "print(\"n paises:\", len(paises.unique()))"
   ]
  },
  {
   "cell_type": "code",
   "execution_count": 37,
   "metadata": {},
   "outputs": [
    {
     "name": "stderr",
     "output_type": "stream",
     "text": [
      "/Library/Frameworks/Python.framework/Versions/3.7/lib/python3.7/site-packages/pandas/core/indexing.py:1732: SettingWithCopyWarning:\n",
      "\n",
      "\n",
      "A value is trying to be set on a copy of a slice from a DataFrame\n",
      "\n",
      "See the caveats in the documentation: https://pandas.pydata.org/pandas-docs/stable/user_guide/indexing.html#returning-a-view-versus-a-copy\n",
      "\n"
     ]
    }
   ],
   "source": [
    "#Cambiamos ''United States of America' por 'US'\n",
    "data_amazon3['production_countries'].loc[data_amazon3['production_countries'] == 'United States of America'] = 'US'"
   ]
  },
  {
   "cell_type": "code",
   "execution_count": 38,
   "metadata": {},
   "outputs": [
    {
     "data": {
      "text/plain": [
       "\"['US']\""
      ]
     },
     "execution_count": 38,
     "metadata": {},
     "output_type": "execute_result"
    }
   ],
   "source": [
    "data_amazon3['production_countries'][0]"
   ]
  },
  {
   "cell_type": "code",
   "execution_count": 39,
   "metadata": {},
   "outputs": [
    {
     "name": "stderr",
     "output_type": "stream",
     "text": [
      "/Library/Frameworks/Python.framework/Versions/3.7/lib/python3.7/site-packages/ipykernel_launcher.py:2: FutureWarning:\n",
      "\n",
      "The default value of regex will change from True to False in a future version. In addition, single character regular expressions will *not* be treated as literal strings when regex=True.\n",
      "\n"
     ]
    },
    {
     "data": {
      "text/plain": [
       "'US'"
      ]
     },
     "execution_count": 39,
     "metadata": {},
     "output_type": "execute_result"
    }
   ],
   "source": [
    "#Eliminamos corchetes y comillas\n",
    "data_amazon3['production_countries'] = data_amazon3['production_countries'].str.replace(\"[\", \"\").str.replace(\"]\",\"\").str.replace(\"'\",\"\").str.replace('\"',\"\")\n",
    "data_amazon3['production_countries'][0]"
   ]
  },
  {
   "cell_type": "code",
   "execution_count": 40,
   "metadata": {},
   "outputs": [
    {
     "name": "stdout",
     "output_type": "stream",
     "text": [
      "N paises produccion: 9867\n"
     ]
    },
    {
     "data": {
      "text/html": [
       "<div>\n",
       "<style scoped>\n",
       "    .dataframe tbody tr th:only-of-type {\n",
       "        vertical-align: middle;\n",
       "    }\n",
       "\n",
       "    .dataframe tbody tr th {\n",
       "        vertical-align: top;\n",
       "    }\n",
       "\n",
       "    .dataframe thead th {\n",
       "        text-align: right;\n",
       "    }\n",
       "</style>\n",
       "<table border=\"1\" class=\"dataframe\">\n",
       "  <thead>\n",
       "    <tr style=\"text-align: right;\">\n",
       "      <th></th>\n",
       "      <th>production_countries</th>\n",
       "      <th>total</th>\n",
       "    </tr>\n",
       "  </thead>\n",
       "  <tbody>\n",
       "    <tr>\n",
       "      <th>US</th>\n",
       "      <td>4807</td>\n",
       "      <td>48.72</td>\n",
       "    </tr>\n",
       "    <tr>\n",
       "      <th>IN</th>\n",
       "      <td>1047</td>\n",
       "      <td>10.61</td>\n",
       "    </tr>\n",
       "    <tr>\n",
       "      <th></th>\n",
       "      <td>821</td>\n",
       "      <td>8.32</td>\n",
       "    </tr>\n",
       "    <tr>\n",
       "      <th>GB</th>\n",
       "      <td>667</td>\n",
       "      <td>6.76</td>\n",
       "    </tr>\n",
       "    <tr>\n",
       "      <th>CA</th>\n",
       "      <td>321</td>\n",
       "      <td>3.25</td>\n",
       "    </tr>\n",
       "    <tr>\n",
       "      <th>...</th>\n",
       "      <td>...</td>\n",
       "      <td>...</td>\n",
       "    </tr>\n",
       "    <tr>\n",
       "      <th>TC</th>\n",
       "      <td>1</td>\n",
       "      <td>0.01</td>\n",
       "    </tr>\n",
       "    <tr>\n",
       "      <th>FR, US, DE</th>\n",
       "      <td>1</td>\n",
       "      <td>0.01</td>\n",
       "    </tr>\n",
       "    <tr>\n",
       "      <th>PL, SK, CZ</th>\n",
       "      <td>1</td>\n",
       "      <td>0.01</td>\n",
       "    </tr>\n",
       "    <tr>\n",
       "      <th>PL, IL</th>\n",
       "      <td>1</td>\n",
       "      <td>0.01</td>\n",
       "    </tr>\n",
       "    <tr>\n",
       "      <th>US, PR</th>\n",
       "      <td>1</td>\n",
       "      <td>0.01</td>\n",
       "    </tr>\n",
       "  </tbody>\n",
       "</table>\n",
       "<p>497 rows × 2 columns</p>\n",
       "</div>"
      ],
      "text/plain": [
       "            production_countries  total\n",
       "US                          4807  48.72\n",
       "IN                          1047  10.61\n",
       "                             821   8.32\n",
       "GB                           667   6.76\n",
       "CA                           321   3.25\n",
       "...                          ...    ...\n",
       "TC                             1   0.01\n",
       "FR, US, DE                     1   0.01\n",
       "PL, SK, CZ                     1   0.01\n",
       "PL, IL                         1   0.01\n",
       "US, PR                         1   0.01\n",
       "\n",
       "[497 rows x 2 columns]"
      ]
     },
     "execution_count": 40,
     "metadata": {},
     "output_type": "execute_result"
    }
   ],
   "source": [
    "df_paises_amazon = pd.DataFrame(data_amazon3['production_countries'].value_counts())\n",
    "total_paises = df_paises_amazon['production_countries'].sum()\n",
    "print(\"N paises produccion:\", total_paises)\n",
    "df_paises_amazon['total'] = [round((i/total_paises)*100, 2) for i in df_paises_amazon['production_countries']]\n",
    "df_paises_amazon"
   ]
  },
  {
   "cell_type": "code",
   "execution_count": 41,
   "metadata": {},
   "outputs": [
    {
     "name": "stdout",
     "output_type": "stream",
     "text": [
      "Peliculas con varios paises: 876\n",
      "Porcentaje: 8.88\n"
     ]
    }
   ],
   "source": [
    "n_varios_paises = 0\n",
    "\n",
    "for fila in data_amazon3['production_countries']:\n",
    "    if len(fila) > 2:\n",
    "        n_varios_paises += 1\n",
    "        \n",
    "print(\"Peliculas con varios paises:\", n_varios_paises)\n",
    "perc_varios_paises = round(n_varios_paises/total_paises *100, 2)\n",
    "print(\"Porcentaje:\", perc_varios_paises)"
   ]
  },
  {
   "cell_type": "code",
   "execution_count": 42,
   "metadata": {},
   "outputs": [],
   "source": [
    "# Como, en algunos casos, hay más de un pais por titulo, \n",
    "# hacemos como con la columna genero, presuponemos que el principal es el primero de la fila\n",
    "data_amazon3['production_countries'] = [i[:2] for i in data_amazon3['production_countries'] if int(len(data_amazon3['production_countries']) > 2)]"
   ]
  },
  {
   "cell_type": "code",
   "execution_count": 43,
   "metadata": {},
   "outputs": [
    {
     "name": "stdout",
     "output_type": "stream",
     "text": [
      "N paises produccion: 9867\n"
     ]
    },
    {
     "data": {
      "text/html": [
       "<div>\n",
       "<style scoped>\n",
       "    .dataframe tbody tr th:only-of-type {\n",
       "        vertical-align: middle;\n",
       "    }\n",
       "\n",
       "    .dataframe tbody tr th {\n",
       "        vertical-align: top;\n",
       "    }\n",
       "\n",
       "    .dataframe thead th {\n",
       "        text-align: right;\n",
       "    }\n",
       "</style>\n",
       "<table border=\"1\" class=\"dataframe\">\n",
       "  <thead>\n",
       "    <tr style=\"text-align: right;\">\n",
       "      <th></th>\n",
       "      <th>production_countries</th>\n",
       "      <th>total</th>\n",
       "    </tr>\n",
       "  </thead>\n",
       "  <tbody>\n",
       "    <tr>\n",
       "      <th>US</th>\n",
       "      <td>4999</td>\n",
       "      <td>50.66</td>\n",
       "    </tr>\n",
       "    <tr>\n",
       "      <th>IN</th>\n",
       "      <td>1057</td>\n",
       "      <td>10.71</td>\n",
       "    </tr>\n",
       "    <tr>\n",
       "      <th></th>\n",
       "      <td>821</td>\n",
       "      <td>8.32</td>\n",
       "    </tr>\n",
       "    <tr>\n",
       "      <th>GB</th>\n",
       "      <td>777</td>\n",
       "      <td>7.87</td>\n",
       "    </tr>\n",
       "    <tr>\n",
       "      <th>CA</th>\n",
       "      <td>430</td>\n",
       "      <td>4.36</td>\n",
       "    </tr>\n",
       "    <tr>\n",
       "      <th>...</th>\n",
       "      <td>...</td>\n",
       "      <td>...</td>\n",
       "    </tr>\n",
       "    <tr>\n",
       "      <th>UG</th>\n",
       "      <td>1</td>\n",
       "      <td>0.01</td>\n",
       "    </tr>\n",
       "    <tr>\n",
       "      <th>AN</th>\n",
       "      <td>1</td>\n",
       "      <td>0.01</td>\n",
       "    </tr>\n",
       "    <tr>\n",
       "      <th>LT</th>\n",
       "      <td>1</td>\n",
       "      <td>0.01</td>\n",
       "    </tr>\n",
       "    <tr>\n",
       "      <th>SO</th>\n",
       "      <td>1</td>\n",
       "      <td>0.01</td>\n",
       "    </tr>\n",
       "    <tr>\n",
       "      <th>KZ</th>\n",
       "      <td>1</td>\n",
       "      <td>0.01</td>\n",
       "    </tr>\n",
       "  </tbody>\n",
       "</table>\n",
       "<p>102 rows × 2 columns</p>\n",
       "</div>"
      ],
      "text/plain": [
       "    production_countries  total\n",
       "US                  4999  50.66\n",
       "IN                  1057  10.71\n",
       "                     821   8.32\n",
       "GB                   777   7.87\n",
       "CA                   430   4.36\n",
       "..                   ...    ...\n",
       "UG                     1   0.01\n",
       "AN                     1   0.01\n",
       "LT                     1   0.01\n",
       "SO                     1   0.01\n",
       "KZ                     1   0.01\n",
       "\n",
       "[102 rows x 2 columns]"
      ]
     },
     "execution_count": 43,
     "metadata": {},
     "output_type": "execute_result"
    }
   ],
   "source": [
    "df_paises_un_amazon = pd.DataFrame(data_amazon3['production_countries'].value_counts())\n",
    "total_un_paises = df_paises_un_amazon['production_countries'].sum()\n",
    "print(\"N paises produccion:\", total_un_paises)\n",
    "df_paises_un_amazon['total'] = [round((i/total_paises)*100, 2) for i in df_paises_un_amazon['production_countries']]\n",
    "df_paises_un_amazon"
   ]
  },
  {
   "cell_type": "code",
   "execution_count": 44,
   "metadata": {},
   "outputs": [
    {
     "name": "stdout",
     "output_type": "stream",
     "text": [
      "['US' 'GB' 'MX' 'DE' 'SU' '' 'IN' 'CA' 'XX' 'JP' 'IT' 'HK' 'FR' 'ES' 'IL'\n",
      " 'AU' 'CH' 'GR' 'PH' 'NL' 'PR' 'YU' 'XC' 'TW' 'AN' 'RO' 'EG' 'BE' 'ZA'\n",
      " 'KR' 'PT' 'SE' 'BR' 'DK' 'NZ' 'CN' 'RU' 'FI' 'AT' 'IE' 'SK' 'VE' 'TH'\n",
      " 'ID' 'NO' 'IS' 'AR' 'BG' 'JM' 'RS' 'LU' 'CL' 'SZ' 'PL' 'TC' 'SG' 'CZ'\n",
      " 'UY' 'UA' 'HU' 'BO' 'MY' 'TR' 'TN' 'AF' 'NG' 'LT' 'SO' 'Un' 'MA' 'VN'\n",
      " 'BD' 'MN' 'KE' 'UG' 'TT' 'PK' 'XK' 'PE' 'DO' 'CO' 'SV' 'HR' 'LV' 'LB'\n",
      " 'KH' 'CR' 'IR' 'BM' 'JO' 'PA' 'AL' 'PY' 'PS' 'SI' 'PF' 'IO' 'CU' 'SY'\n",
      " 'CM' 'EE' 'KZ']\n",
      "102\n"
     ]
    }
   ],
   "source": [
    "# Sacamos el los paises y el n paises final\n",
    "print(data_amazon3['production_countries'].unique())\n",
    "print(data_amazon3['production_countries'].nunique())"
   ]
  },
  {
   "cell_type": "code",
   "execution_count": 45,
   "metadata": {},
   "outputs": [],
   "source": [
    "# Los nulos de la columna season significa que son 1 película o que tienen solo 1 temporada, por lo que los cambiamos a 1\n",
    "# A tener en cuenta en el análisis --> no sabemos si la columna representa las temporadas existestes del título, \n",
    "# o sólo las que están disponibles en la plataforma\n",
    "\n",
    "data_amazon3['seasons'] = data_amazon3['seasons'].fillna(1)\n",
    "data_amazon3['seasons'] = data_amazon3['seasons'].astype(int)"
   ]
  },
  {
   "cell_type": "code",
   "execution_count": 46,
   "metadata": {},
   "outputs": [
    {
     "name": "stdout",
     "output_type": "stream",
     "text": [
      "1020\n"
     ]
    }
   ],
   "source": [
    "# comprobamos cuantos votos nulos, tambien tienen puntuaciones nulas \n",
    "print(len(data_amazon3[data_amazon3['imdb_score'].isna() == True]['imdb_votes']))"
   ]
  },
  {
   "cell_type": "code",
   "execution_count": 47,
   "metadata": {},
   "outputs": [
    {
     "data": {
      "text/plain": [
       "0"
      ]
     },
     "execution_count": 47,
     "metadata": {},
     "output_type": "execute_result"
    }
   ],
   "source": [
    "# columna imdb_score --> 1020 nulos: \n",
    "# Al definir la opinion de los usuarios sobre cada título, no tiene sentido rellenar con un estadístico -con los datos que tenemos ahora mismo\n",
    "# Intentamos rellenar con la columna de tmdb\n",
    "\n",
    "data_amazon3['imdb_score'] = data_amazon3['imdb_score'].fillna(data_amazon3['tmdb_popularity'])\n",
    "len(data_amazon3[data_amazon3['imdb_score'].isna() == True])\n",
    "\n",
    "# Quedan 219 datos NaN por rellenar --> rellenamos con 0 --> poner otro número asignaría una puntuación no real a un título\n",
    "data_amazon3['imdb_score'] = data_amazon3['imdb_score'].fillna(0)\n",
    "data_amazon3['imdb_score'] = data_amazon3['imdb_score'].astype(float)\n",
    "len(data_amazon3[data_amazon3['imdb_score'].isna() == True])"
   ]
  },
  {
   "cell_type": "markdown",
   "metadata": {},
   "source": [
    "Al final no voy a incluir las columnas tmdb popularity, var_votos ni imdb votos en el analisis\n",
    "--dejo las celdas por si cambiase de opinion "
   ]
  },
  {
   "cell_type": "code",
   "execution_count": 48,
   "metadata": {},
   "outputs": [
    {
     "name": "stdout",
     "output_type": "stream",
     "text": [
      "Rellenamos null con la media de votos: 8536.485119384406\n"
     ]
    }
   ],
   "source": [
    "\n",
    "#columna ibdb_votes --> 1030 nulos\n",
    "# de 1030 nulos, 1020 tampoco tenían puntuación\n",
    "# por lo que solo afectará a 10 titulos el relleno de los nulos\n",
    "# Como se trata del número de votos de una película -medida de cantidad-, rellenamos con la media de votos\n",
    "\n",
    "print('Rellenamos null con la media de votos:', data_amazon3['imdb_votes'].mean())\n",
    "data_amazon3['imdb_votes'] = data_amazon3['imdb_votes'].fillna(data_amazon3['imdb_votes'].mean())\n",
    "data_amazon3['imdb_votes'] = data_amazon3['imdb_votes'].astype(int)\n"
   ]
  },
  {
   "cell_type": "code",
   "execution_count": 49,
   "metadata": {},
   "outputs": [],
   "source": [
    "# Creamos columna con la variacion, respecto a la media, del numero de votos:\n",
    "var_votos = [round(i / data_amazon3['imdb_votes'].mean(), 2) for i in data_amazon3['imdb_votes']]\n",
    "data_amazon3.insert(11, 'Var_Votos', var_votos)\n",
    "\n"
   ]
  },
  {
   "cell_type": "code",
   "execution_count": 50,
   "metadata": {},
   "outputs": [],
   "source": [
    "# columna tmdb_score --> 2080 nulos: \n",
    "# Al definir la opinion de los usuarios sobre cada título, no tiene sentido rellenar con un estadístico\n",
    "# No le asignamos la puntuación de imdb porque el objetivo de mantener esta puntuación es comparar y ver que no están sesgados los datos de Imbd\n",
    "# Le designamos el valor 0 para que no afecte\n",
    "data_amazon3['tmdb_score'] = data_amazon3['tmdb_score'].fillna(0)\n",
    "data_amazon3['tmdb_score'] = data_amazon3['tmdb_score'].astype(float)\n"
   ]
  },
  {
   "cell_type": "code",
   "execution_count": 51,
   "metadata": {},
   "outputs": [],
   "source": [
    "\n",
    "# columna tmdb_popularity --> 547 nulos: \n",
    "# La popularidad es una métrica (DIARIA) creada en función del comportamiento de los usuarios con cada título\n",
    "# No se considera rellenar por estadístico, ya que se trata de una métrica que engloba diferentes vbles -y muchas de ellas representan opiniones subjetivas \n",
    "# Le designamos el valor 6666 para saber que esos datos son los nulos\n",
    "data_amazon3['tmdb_popularity'] = data_amazon3['tmdb_popularity'].fillna(0)\n",
    "data_amazon3['tmdb_popularity'] = data_amazon3['tmdb_popularity'].astype(float)\n"
   ]
  },
  {
   "cell_type": "code",
   "execution_count": 52,
   "metadata": {},
   "outputs": [],
   "source": [
    "data_amazon4 = data_amazon3.drop(['imdb_votes','Var_Votos', 'tmdb_popularity'], axis=1).copy()"
   ]
  },
  {
   "cell_type": "code",
   "execution_count": 53,
   "metadata": {},
   "outputs": [
    {
     "data": {
      "text/plain": [
       "Index(['id', 'title', 'type', 'Decada', 'age_certification', 'runtime',\n",
       "       'genres', 'production_countries', 'seasons', 'imdb_score',\n",
       "       'tmdb_score'],\n",
       "      dtype='object')"
      ]
     },
     "execution_count": 53,
     "metadata": {},
     "output_type": "execute_result"
    }
   ],
   "source": [
    "data_amazon4.columns"
   ]
  },
  {
   "cell_type": "code",
   "execution_count": 54,
   "metadata": {},
   "outputs": [],
   "source": [
    "# renombramos las columnas\n",
    "\n",
    "data_amazon4.columns = ['ID', 'Titulo', 'Tipo', 'Decada', 'Edad_Recom', 'Duracion', 'Generos', 'Paises_Prod', 'Temporadas', 'Imdb_Puntos', 'Tmdb_Puntos']"
   ]
  },
  {
   "cell_type": "code",
   "execution_count": 55,
   "metadata": {},
   "outputs": [
    {
     "name": "stdout",
     "output_type": "stream",
     "text": [
      "Filas, columnas: (9867, 11)\n",
      "<class 'pandas.core.frame.DataFrame'>\n",
      "Int64Index: 9867 entries, 0 to 9867\n",
      "Data columns (total 11 columns):\n",
      " #   Column       Non-Null Count  Dtype  \n",
      "---  ------       --------------  -----  \n",
      " 0   ID           9867 non-null   object \n",
      " 1   Titulo       9867 non-null   object \n",
      " 2   Tipo         9867 non-null   object \n",
      " 3   Decada       9867 non-null   object \n",
      " 4   Edad_Recom   9867 non-null   int64  \n",
      " 5   Duracion     9867 non-null   int64  \n",
      " 6   Generos      9867 non-null   object \n",
      " 7   Paises_Prod  9867 non-null   object \n",
      " 8   Temporadas   9867 non-null   int64  \n",
      " 9   Imdb_Puntos  9867 non-null   float64\n",
      " 10  Tmdb_Puntos  9867 non-null   float64\n",
      "dtypes: float64(2), int64(3), object(6)\n",
      "memory usage: 1.2+ MB\n"
     ]
    }
   ],
   "source": [
    "# recordamos tipo de cada columna y nos aseguramos que ya no hay nulos\n",
    "print(\"Filas, columnas:\", data_amazon4.shape)\n",
    "data_amazon4.info()"
   ]
  },
  {
   "cell_type": "code",
   "execution_count": 56,
   "metadata": {},
   "outputs": [
    {
     "name": "stdout",
     "output_type": "stream",
     "text": [
      "4\n",
      "0.04\n"
     ]
    }
   ],
   "source": [
    "# Hemos eliminado 4 filas por duplicados: de un csv de 9871 titulos, pasamos a uno con 9867\n",
    "n_titulos_sacados = data_amazon.shape[0] - data_amazon4.shape[0]\n",
    "print(n_titulos_sacados)\n",
    "perc_n_titulos_sacados = n_titulos_sacados / data_amazon.shape[0]\n",
    "print(round(perc_n_titulos_sacados*100, 2))"
   ]
  },
  {
   "cell_type": "code",
   "execution_count": 57,
   "metadata": {},
   "outputs": [
    {
     "name": "stdout",
     "output_type": "stream",
     "text": [
      "n_filas_series: 1357\n"
     ]
    }
   ],
   "source": [
    "#Separamos el dataframe en dos:\n",
    "# Por un lado analizaremos el contenido de series y por otro el de películas\n",
    "\n",
    "amazon_series_df = data_amazon4[data_amazon4['Tipo']=='SHOW']\n",
    "amazon_series_df = amazon_series_df.reset_index(drop = True)\n",
    "print(\"n_filas_series:\", amazon_series_df.shape[0])"
   ]
  },
  {
   "cell_type": "code",
   "execution_count": 58,
   "metadata": {},
   "outputs": [],
   "source": [
    "# Eliminamos la columna de tipo porque ya no nos interesa\n",
    "del amazon_series_df['Tipo']"
   ]
  },
  {
   "cell_type": "code",
   "execution_count": 59,
   "metadata": {},
   "outputs": [
    {
     "data": {
      "text/html": [
       "<div>\n",
       "<style scoped>\n",
       "    .dataframe tbody tr th:only-of-type {\n",
       "        vertical-align: middle;\n",
       "    }\n",
       "\n",
       "    .dataframe tbody tr th {\n",
       "        vertical-align: top;\n",
       "    }\n",
       "\n",
       "    .dataframe thead th {\n",
       "        text-align: right;\n",
       "    }\n",
       "</style>\n",
       "<table border=\"1\" class=\"dataframe\">\n",
       "  <thead>\n",
       "    <tr style=\"text-align: right;\">\n",
       "      <th></th>\n",
       "      <th>ID</th>\n",
       "      <th>Titulo</th>\n",
       "      <th>Decada</th>\n",
       "      <th>Edad_Recom</th>\n",
       "      <th>Duracion</th>\n",
       "      <th>Generos</th>\n",
       "      <th>Paises_Prod</th>\n",
       "      <th>Temporadas</th>\n",
       "      <th>Imdb_Puntos</th>\n",
       "      <th>Tmdb_Puntos</th>\n",
       "    </tr>\n",
       "  </thead>\n",
       "  <tbody>\n",
       "    <tr>\n",
       "      <th>0</th>\n",
       "      <td>ts20945</td>\n",
       "      <td>The Three Stooges</td>\n",
       "      <td>1930s</td>\n",
       "      <td>7</td>\n",
       "      <td>19</td>\n",
       "      <td>comedy</td>\n",
       "      <td>US</td>\n",
       "      <td>26</td>\n",
       "      <td>8.6</td>\n",
       "      <td>7.6</td>\n",
       "    </tr>\n",
       "    <tr>\n",
       "      <th>1</th>\n",
       "      <td>ts55748</td>\n",
       "      <td>What's My Line?</td>\n",
       "      <td>1950s</td>\n",
       "      <td>9999</td>\n",
       "      <td>30</td>\n",
       "      <td>reality</td>\n",
       "      <td>US</td>\n",
       "      <td>18</td>\n",
       "      <td>8.6</td>\n",
       "      <td>6.9</td>\n",
       "    </tr>\n",
       "    <tr>\n",
       "      <th>2</th>\n",
       "      <td>ts20005</td>\n",
       "      <td>I Love Lucy</td>\n",
       "      <td>1950s</td>\n",
       "      <td>0</td>\n",
       "      <td>30</td>\n",
       "      <td>comedy</td>\n",
       "      <td>US</td>\n",
       "      <td>9</td>\n",
       "      <td>8.5</td>\n",
       "      <td>8.1</td>\n",
       "    </tr>\n",
       "    <tr>\n",
       "      <th>3</th>\n",
       "      <td>ts42867</td>\n",
       "      <td>Mister Rogers' Neighborhood</td>\n",
       "      <td>1960s</td>\n",
       "      <td>7</td>\n",
       "      <td>29</td>\n",
       "      <td>fantasy</td>\n",
       "      <td>US</td>\n",
       "      <td>31</td>\n",
       "      <td>8.7</td>\n",
       "      <td>4.7</td>\n",
       "    </tr>\n",
       "    <tr>\n",
       "      <th>4</th>\n",
       "      <td>ts21930</td>\n",
       "      <td>Lupin the Third</td>\n",
       "      <td>1970s</td>\n",
       "      <td>13</td>\n",
       "      <td>23</td>\n",
       "      <td>scifi</td>\n",
       "      <td>JP</td>\n",
       "      <td>6</td>\n",
       "      <td>7.9</td>\n",
       "      <td>8.0</td>\n",
       "    </tr>\n",
       "  </tbody>\n",
       "</table>\n",
       "</div>"
      ],
      "text/plain": [
       "        ID                       Titulo Decada  Edad_Recom  Duracion  Generos  \\\n",
       "0  ts20945            The Three Stooges  1930s           7        19   comedy   \n",
       "1  ts55748              What's My Line?  1950s        9999        30  reality   \n",
       "2  ts20005                  I Love Lucy  1950s           0        30   comedy   \n",
       "3  ts42867  Mister Rogers' Neighborhood  1960s           7        29  fantasy   \n",
       "4  ts21930              Lupin the Third  1970s          13        23    scifi   \n",
       "\n",
       "  Paises_Prod  Temporadas  Imdb_Puntos  Tmdb_Puntos  \n",
       "0          US          26          8.6          7.6  \n",
       "1          US          18          8.6          6.9  \n",
       "2          US           9          8.5          8.1  \n",
       "3          US          31          8.7          4.7  \n",
       "4          JP           6          7.9          8.0  "
      ]
     },
     "execution_count": 59,
     "metadata": {},
     "output_type": "execute_result"
    }
   ],
   "source": [
    "amazon_series_df.head()"
   ]
  },
  {
   "cell_type": "code",
   "execution_count": 60,
   "metadata": {},
   "outputs": [
    {
     "data": {
      "text/html": [
       "<div>\n",
       "<style scoped>\n",
       "    .dataframe tbody tr th:only-of-type {\n",
       "        vertical-align: middle;\n",
       "    }\n",
       "\n",
       "    .dataframe tbody tr th {\n",
       "        vertical-align: top;\n",
       "    }\n",
       "\n",
       "    .dataframe thead th {\n",
       "        text-align: right;\n",
       "    }\n",
       "</style>\n",
       "<table border=\"1\" class=\"dataframe\">\n",
       "  <thead>\n",
       "    <tr style=\"text-align: right;\">\n",
       "      <th></th>\n",
       "      <th>ID</th>\n",
       "      <th>Titulo</th>\n",
       "      <th>Decada</th>\n",
       "      <th>Edad_Recom</th>\n",
       "      <th>Duracion</th>\n",
       "      <th>Generos</th>\n",
       "      <th>Paises_Prod</th>\n",
       "      <th>Temporadas</th>\n",
       "      <th>Imdb_Puntos</th>\n",
       "      <th>Tmdb_Puntos</th>\n",
       "    </tr>\n",
       "  </thead>\n",
       "  <tbody>\n",
       "    <tr>\n",
       "      <th>1352</th>\n",
       "      <td>ts302433</td>\n",
       "      <td>Aham Bhramhasmi</td>\n",
       "      <td>2020s</td>\n",
       "      <td>9999</td>\n",
       "      <td>25</td>\n",
       "      <td></td>\n",
       "      <td></td>\n",
       "      <td>1</td>\n",
       "      <td>1.816</td>\n",
       "      <td>0.0</td>\n",
       "    </tr>\n",
       "    <tr>\n",
       "      <th>1353</th>\n",
       "      <td>ts320425</td>\n",
       "      <td>Funny Little Stories</td>\n",
       "      <td>2020s</td>\n",
       "      <td>9999</td>\n",
       "      <td>28</td>\n",
       "      <td>comedy</td>\n",
       "      <td>PT</td>\n",
       "      <td>1</td>\n",
       "      <td>0.600</td>\n",
       "      <td>0.0</td>\n",
       "    </tr>\n",
       "    <tr>\n",
       "      <th>1354</th>\n",
       "      <td>ts273173</td>\n",
       "      <td>Exquisite Wolf Heart</td>\n",
       "      <td>2020s</td>\n",
       "      <td>9999</td>\n",
       "      <td>46</td>\n",
       "      <td>drama</td>\n",
       "      <td>CN</td>\n",
       "      <td>1</td>\n",
       "      <td>12.879</td>\n",
       "      <td>6.0</td>\n",
       "    </tr>\n",
       "    <tr>\n",
       "      <th>1355</th>\n",
       "      <td>ts295958</td>\n",
       "      <td>GameOn Titans</td>\n",
       "      <td>2020s</td>\n",
       "      <td>9999</td>\n",
       "      <td>17</td>\n",
       "      <td></td>\n",
       "      <td></td>\n",
       "      <td>1</td>\n",
       "      <td>0.000</td>\n",
       "      <td>0.0</td>\n",
       "    </tr>\n",
       "    <tr>\n",
       "      <th>1356</th>\n",
       "      <td>ts275838</td>\n",
       "      <td>Waking Up Eighty</td>\n",
       "      <td>2020s</td>\n",
       "      <td>9999</td>\n",
       "      <td>10</td>\n",
       "      <td>drama</td>\n",
       "      <td></td>\n",
       "      <td>1</td>\n",
       "      <td>0.000</td>\n",
       "      <td>0.0</td>\n",
       "    </tr>\n",
       "  </tbody>\n",
       "</table>\n",
       "</div>"
      ],
      "text/plain": [
       "            ID                Titulo Decada  Edad_Recom  Duracion Generos  \\\n",
       "1352  ts302433       Aham Bhramhasmi  2020s        9999        25           \n",
       "1353  ts320425  Funny Little Stories  2020s        9999        28  comedy   \n",
       "1354  ts273173  Exquisite Wolf Heart  2020s        9999        46   drama   \n",
       "1355  ts295958         GameOn Titans  2020s        9999        17           \n",
       "1356  ts275838      Waking Up Eighty  2020s        9999        10   drama   \n",
       "\n",
       "     Paises_Prod  Temporadas  Imdb_Puntos  Tmdb_Puntos  \n",
       "1352                       1        1.816          0.0  \n",
       "1353          PT           1        0.600          0.0  \n",
       "1354          CN           1       12.879          6.0  \n",
       "1355                       1        0.000          0.0  \n",
       "1356                       1        0.000          0.0  "
      ]
     },
     "execution_count": 60,
     "metadata": {},
     "output_type": "execute_result"
    }
   ],
   "source": [
    "amazon_series_df.tail()"
   ]
  },
  {
   "cell_type": "code",
   "execution_count": 61,
   "metadata": {},
   "outputs": [
    {
     "name": "stdout",
     "output_type": "stream",
     "text": [
      "n_filas_peliculas: 8510\n"
     ]
    }
   ],
   "source": [
    "amazon_peliculas_df = data_amazon4[data_amazon4['Tipo']=='MOVIE']\n",
    "amazon_peliculas_df = amazon_peliculas_df.reset_index(drop = True)\n",
    "print(\"n_filas_peliculas:\", amazon_peliculas_df.shape[0])\n",
    "amazon_peliculas_df.head()\n",
    "\n",
    "# Eliminamos la columna de tipo porque ya no nos interesa\n",
    "# Al ser peliculas, tambien eliminamos la columna de temporadas\n",
    "del amazon_peliculas_df['Tipo']\n",
    "del amazon_peliculas_df['Temporadas']"
   ]
  },
  {
   "cell_type": "code",
   "execution_count": 62,
   "metadata": {},
   "outputs": [
    {
     "data": {
      "text/html": [
       "<div>\n",
       "<style scoped>\n",
       "    .dataframe tbody tr th:only-of-type {\n",
       "        vertical-align: middle;\n",
       "    }\n",
       "\n",
       "    .dataframe tbody tr th {\n",
       "        vertical-align: top;\n",
       "    }\n",
       "\n",
       "    .dataframe thead th {\n",
       "        text-align: right;\n",
       "    }\n",
       "</style>\n",
       "<table border=\"1\" class=\"dataframe\">\n",
       "  <thead>\n",
       "    <tr style=\"text-align: right;\">\n",
       "      <th></th>\n",
       "      <th>ID</th>\n",
       "      <th>Titulo</th>\n",
       "      <th>Decada</th>\n",
       "      <th>Edad_Recom</th>\n",
       "      <th>Duracion</th>\n",
       "      <th>Generos</th>\n",
       "      <th>Paises_Prod</th>\n",
       "      <th>Imdb_Puntos</th>\n",
       "      <th>Tmdb_Puntos</th>\n",
       "    </tr>\n",
       "  </thead>\n",
       "  <tbody>\n",
       "    <tr>\n",
       "      <th>0</th>\n",
       "      <td>tm19248</td>\n",
       "      <td>The General</td>\n",
       "      <td>1920s</td>\n",
       "      <td>9999</td>\n",
       "      <td>78</td>\n",
       "      <td>action</td>\n",
       "      <td>US</td>\n",
       "      <td>8.2</td>\n",
       "      <td>8.0</td>\n",
       "    </tr>\n",
       "    <tr>\n",
       "      <th>1</th>\n",
       "      <td>tm82253</td>\n",
       "      <td>The Best Years of Our Lives</td>\n",
       "      <td>1940s</td>\n",
       "      <td>9999</td>\n",
       "      <td>171</td>\n",
       "      <td>romance</td>\n",
       "      <td>US</td>\n",
       "      <td>8.1</td>\n",
       "      <td>7.8</td>\n",
       "    </tr>\n",
       "    <tr>\n",
       "      <th>2</th>\n",
       "      <td>tm83884</td>\n",
       "      <td>His Girl Friday</td>\n",
       "      <td>1940s</td>\n",
       "      <td>9999</td>\n",
       "      <td>92</td>\n",
       "      <td>comedy</td>\n",
       "      <td>US</td>\n",
       "      <td>7.8</td>\n",
       "      <td>7.4</td>\n",
       "    </tr>\n",
       "    <tr>\n",
       "      <th>3</th>\n",
       "      <td>tm56584</td>\n",
       "      <td>In a Lonely Place</td>\n",
       "      <td>1950s</td>\n",
       "      <td>9999</td>\n",
       "      <td>94</td>\n",
       "      <td>thriller</td>\n",
       "      <td>US</td>\n",
       "      <td>7.9</td>\n",
       "      <td>7.6</td>\n",
       "    </tr>\n",
       "    <tr>\n",
       "      <th>4</th>\n",
       "      <td>tm160494</td>\n",
       "      <td>Stagecoach</td>\n",
       "      <td>1930s</td>\n",
       "      <td>9999</td>\n",
       "      <td>96</td>\n",
       "      <td>western</td>\n",
       "      <td>US</td>\n",
       "      <td>7.8</td>\n",
       "      <td>7.7</td>\n",
       "    </tr>\n",
       "  </tbody>\n",
       "</table>\n",
       "</div>"
      ],
      "text/plain": [
       "         ID                       Titulo Decada  Edad_Recom  Duracion  \\\n",
       "0   tm19248                  The General  1920s        9999        78   \n",
       "1   tm82253  The Best Years of Our Lives  1940s        9999       171   \n",
       "2   tm83884              His Girl Friday  1940s        9999        92   \n",
       "3   tm56584            In a Lonely Place  1950s        9999        94   \n",
       "4  tm160494                   Stagecoach  1930s        9999        96   \n",
       "\n",
       "    Generos Paises_Prod  Imdb_Puntos  Tmdb_Puntos  \n",
       "0    action          US          8.2          8.0  \n",
       "1   romance          US          8.1          7.8  \n",
       "2    comedy          US          7.8          7.4  \n",
       "3  thriller          US          7.9          7.6  \n",
       "4   western          US          7.8          7.7  "
      ]
     },
     "execution_count": 62,
     "metadata": {},
     "output_type": "execute_result"
    }
   ],
   "source": [
    "amazon_peliculas_df.head()"
   ]
  },
  {
   "cell_type": "code",
   "execution_count": 63,
   "metadata": {},
   "outputs": [
    {
     "data": {
      "text/html": [
       "<div>\n",
       "<style scoped>\n",
       "    .dataframe tbody tr th:only-of-type {\n",
       "        vertical-align: middle;\n",
       "    }\n",
       "\n",
       "    .dataframe tbody tr th {\n",
       "        vertical-align: top;\n",
       "    }\n",
       "\n",
       "    .dataframe thead th {\n",
       "        text-align: right;\n",
       "    }\n",
       "</style>\n",
       "<table border=\"1\" class=\"dataframe\">\n",
       "  <thead>\n",
       "    <tr style=\"text-align: right;\">\n",
       "      <th></th>\n",
       "      <th>ID</th>\n",
       "      <th>Titulo</th>\n",
       "      <th>Decada</th>\n",
       "      <th>Edad_Recom</th>\n",
       "      <th>Duracion</th>\n",
       "      <th>Generos</th>\n",
       "      <th>Paises_Prod</th>\n",
       "      <th>Imdb_Puntos</th>\n",
       "      <th>Tmdb_Puntos</th>\n",
       "    </tr>\n",
       "  </thead>\n",
       "  <tbody>\n",
       "    <tr>\n",
       "      <th>8505</th>\n",
       "      <td>tm822572</td>\n",
       "      <td>Gun and a Hotel Bible</td>\n",
       "      <td>2020s</td>\n",
       "      <td>9999</td>\n",
       "      <td>58</td>\n",
       "      <td>drama</td>\n",
       "      <td></td>\n",
       "      <td>4.00</td>\n",
       "      <td>6.5</td>\n",
       "    </tr>\n",
       "    <tr>\n",
       "      <th>8506</th>\n",
       "      <td>tm510327</td>\n",
       "      <td>Lily Is Here</td>\n",
       "      <td>2020s</td>\n",
       "      <td>9999</td>\n",
       "      <td>93</td>\n",
       "      <td>drama</td>\n",
       "      <td>US</td>\n",
       "      <td>5.30</td>\n",
       "      <td>0.0</td>\n",
       "    </tr>\n",
       "    <tr>\n",
       "      <th>8507</th>\n",
       "      <td>tm1079144</td>\n",
       "      <td>Jay Nog: Something from Nothing</td>\n",
       "      <td>2020s</td>\n",
       "      <td>9999</td>\n",
       "      <td>55</td>\n",
       "      <td>comedy</td>\n",
       "      <td>US</td>\n",
       "      <td>0.60</td>\n",
       "      <td>0.0</td>\n",
       "    </tr>\n",
       "    <tr>\n",
       "      <th>8508</th>\n",
       "      <td>tm847725</td>\n",
       "      <td>Chasing</td>\n",
       "      <td>2020s</td>\n",
       "      <td>9999</td>\n",
       "      <td>116</td>\n",
       "      <td>crime</td>\n",
       "      <td>IN</td>\n",
       "      <td>1.96</td>\n",
       "      <td>0.0</td>\n",
       "    </tr>\n",
       "    <tr>\n",
       "      <th>8509</th>\n",
       "      <td>tm1054116</td>\n",
       "      <td>Baikunth</td>\n",
       "      <td>2020s</td>\n",
       "      <td>9999</td>\n",
       "      <td>72</td>\n",
       "      <td>family</td>\n",
       "      <td></td>\n",
       "      <td>8.40</td>\n",
       "      <td>0.0</td>\n",
       "    </tr>\n",
       "  </tbody>\n",
       "</table>\n",
       "</div>"
      ],
      "text/plain": [
       "             ID                           Titulo Decada  Edad_Recom  Duracion  \\\n",
       "8505   tm822572            Gun and a Hotel Bible  2020s        9999        58   \n",
       "8506   tm510327                     Lily Is Here  2020s        9999        93   \n",
       "8507  tm1079144  Jay Nog: Something from Nothing  2020s        9999        55   \n",
       "8508   tm847725                          Chasing  2020s        9999       116   \n",
       "8509  tm1054116                         Baikunth  2020s        9999        72   \n",
       "\n",
       "     Generos Paises_Prod  Imdb_Puntos  Tmdb_Puntos  \n",
       "8505   drama                     4.00          6.5  \n",
       "8506   drama          US         5.30          0.0  \n",
       "8507  comedy          US         0.60          0.0  \n",
       "8508   crime          IN         1.96          0.0  \n",
       "8509  family                     8.40          0.0  "
      ]
     },
     "execution_count": 63,
     "metadata": {},
     "output_type": "execute_result"
    }
   ],
   "source": [
    "amazon_peliculas_df.tail()"
   ]
  },
  {
   "cell_type": "code",
   "execution_count": 64,
   "metadata": {},
   "outputs": [
    {
     "data": {
      "text/plain": [
       "True"
      ]
     },
     "execution_count": 64,
     "metadata": {},
     "output_type": "execute_result"
    }
   ],
   "source": [
    "#Comprobamos\n",
    "data_amazon3.shape[0] == amazon_peliculas_df.shape[0] + amazon_series_df.shape[0]"
   ]
  },
  {
   "cell_type": "code",
   "execution_count": 65,
   "metadata": {},
   "outputs": [
    {
     "data": {
      "application/vnd.plotly.v1+json": {
       "config": {
        "plotlyServerURL": "https://plot.ly"
       },
       "data": [
        {
         "customdata": [
          [
           "Peliculas"
          ],
          [
           "Series"
          ]
         ],
         "domain": {
          "x": [
           0,
           1
          ],
          "y": [
           0,
           1
          ]
         },
         "hovertemplate": [
          "Peliculas",
          "Series"
         ],
         "legendgroup": "",
         "marker": {
          "colors": [
           "grey",
           "black"
          ],
          "line": {
           "color": "white",
           "width": 2.4
          }
         },
         "name": "",
         "showlegend": false,
         "type": "pie",
         "values": [
          8510,
          1357
         ]
        }
       ],
       "layout": {
        "font": {
         "family": "Arial"
        },
        "height": 450,
        "legend": {
         "tracegroupgap": 0
        },
        "template": {
         "data": {
          "bar": [
           {
            "error_x": {
             "color": "#2a3f5f"
            },
            "error_y": {
             "color": "#2a3f5f"
            },
            "marker": {
             "line": {
              "color": "#E5ECF6",
              "width": 0.5
             },
             "pattern": {
              "fillmode": "overlay",
              "size": 10,
              "solidity": 0.2
             }
            },
            "type": "bar"
           }
          ],
          "barpolar": [
           {
            "marker": {
             "line": {
              "color": "#E5ECF6",
              "width": 0.5
             },
             "pattern": {
              "fillmode": "overlay",
              "size": 10,
              "solidity": 0.2
             }
            },
            "type": "barpolar"
           }
          ],
          "carpet": [
           {
            "aaxis": {
             "endlinecolor": "#2a3f5f",
             "gridcolor": "white",
             "linecolor": "white",
             "minorgridcolor": "white",
             "startlinecolor": "#2a3f5f"
            },
            "baxis": {
             "endlinecolor": "#2a3f5f",
             "gridcolor": "white",
             "linecolor": "white",
             "minorgridcolor": "white",
             "startlinecolor": "#2a3f5f"
            },
            "type": "carpet"
           }
          ],
          "choropleth": [
           {
            "colorbar": {
             "outlinewidth": 0,
             "ticks": ""
            },
            "type": "choropleth"
           }
          ],
          "contour": [
           {
            "colorbar": {
             "outlinewidth": 0,
             "ticks": ""
            },
            "colorscale": [
             [
              0,
              "#0d0887"
             ],
             [
              0.1111111111111111,
              "#46039f"
             ],
             [
              0.2222222222222222,
              "#7201a8"
             ],
             [
              0.3333333333333333,
              "#9c179e"
             ],
             [
              0.4444444444444444,
              "#bd3786"
             ],
             [
              0.5555555555555556,
              "#d8576b"
             ],
             [
              0.6666666666666666,
              "#ed7953"
             ],
             [
              0.7777777777777778,
              "#fb9f3a"
             ],
             [
              0.8888888888888888,
              "#fdca26"
             ],
             [
              1,
              "#f0f921"
             ]
            ],
            "type": "contour"
           }
          ],
          "contourcarpet": [
           {
            "colorbar": {
             "outlinewidth": 0,
             "ticks": ""
            },
            "type": "contourcarpet"
           }
          ],
          "heatmap": [
           {
            "colorbar": {
             "outlinewidth": 0,
             "ticks": ""
            },
            "colorscale": [
             [
              0,
              "#0d0887"
             ],
             [
              0.1111111111111111,
              "#46039f"
             ],
             [
              0.2222222222222222,
              "#7201a8"
             ],
             [
              0.3333333333333333,
              "#9c179e"
             ],
             [
              0.4444444444444444,
              "#bd3786"
             ],
             [
              0.5555555555555556,
              "#d8576b"
             ],
             [
              0.6666666666666666,
              "#ed7953"
             ],
             [
              0.7777777777777778,
              "#fb9f3a"
             ],
             [
              0.8888888888888888,
              "#fdca26"
             ],
             [
              1,
              "#f0f921"
             ]
            ],
            "type": "heatmap"
           }
          ],
          "heatmapgl": [
           {
            "colorbar": {
             "outlinewidth": 0,
             "ticks": ""
            },
            "colorscale": [
             [
              0,
              "#0d0887"
             ],
             [
              0.1111111111111111,
              "#46039f"
             ],
             [
              0.2222222222222222,
              "#7201a8"
             ],
             [
              0.3333333333333333,
              "#9c179e"
             ],
             [
              0.4444444444444444,
              "#bd3786"
             ],
             [
              0.5555555555555556,
              "#d8576b"
             ],
             [
              0.6666666666666666,
              "#ed7953"
             ],
             [
              0.7777777777777778,
              "#fb9f3a"
             ],
             [
              0.8888888888888888,
              "#fdca26"
             ],
             [
              1,
              "#f0f921"
             ]
            ],
            "type": "heatmapgl"
           }
          ],
          "histogram": [
           {
            "marker": {
             "pattern": {
              "fillmode": "overlay",
              "size": 10,
              "solidity": 0.2
             }
            },
            "type": "histogram"
           }
          ],
          "histogram2d": [
           {
            "colorbar": {
             "outlinewidth": 0,
             "ticks": ""
            },
            "colorscale": [
             [
              0,
              "#0d0887"
             ],
             [
              0.1111111111111111,
              "#46039f"
             ],
             [
              0.2222222222222222,
              "#7201a8"
             ],
             [
              0.3333333333333333,
              "#9c179e"
             ],
             [
              0.4444444444444444,
              "#bd3786"
             ],
             [
              0.5555555555555556,
              "#d8576b"
             ],
             [
              0.6666666666666666,
              "#ed7953"
             ],
             [
              0.7777777777777778,
              "#fb9f3a"
             ],
             [
              0.8888888888888888,
              "#fdca26"
             ],
             [
              1,
              "#f0f921"
             ]
            ],
            "type": "histogram2d"
           }
          ],
          "histogram2dcontour": [
           {
            "colorbar": {
             "outlinewidth": 0,
             "ticks": ""
            },
            "colorscale": [
             [
              0,
              "#0d0887"
             ],
             [
              0.1111111111111111,
              "#46039f"
             ],
             [
              0.2222222222222222,
              "#7201a8"
             ],
             [
              0.3333333333333333,
              "#9c179e"
             ],
             [
              0.4444444444444444,
              "#bd3786"
             ],
             [
              0.5555555555555556,
              "#d8576b"
             ],
             [
              0.6666666666666666,
              "#ed7953"
             ],
             [
              0.7777777777777778,
              "#fb9f3a"
             ],
             [
              0.8888888888888888,
              "#fdca26"
             ],
             [
              1,
              "#f0f921"
             ]
            ],
            "type": "histogram2dcontour"
           }
          ],
          "mesh3d": [
           {
            "colorbar": {
             "outlinewidth": 0,
             "ticks": ""
            },
            "type": "mesh3d"
           }
          ],
          "parcoords": [
           {
            "line": {
             "colorbar": {
              "outlinewidth": 0,
              "ticks": ""
             }
            },
            "type": "parcoords"
           }
          ],
          "pie": [
           {
            "automargin": true,
            "type": "pie"
           }
          ],
          "scatter": [
           {
            "fillpattern": {
             "fillmode": "overlay",
             "size": 10,
             "solidity": 0.2
            },
            "type": "scatter"
           }
          ],
          "scatter3d": [
           {
            "line": {
             "colorbar": {
              "outlinewidth": 0,
              "ticks": ""
             }
            },
            "marker": {
             "colorbar": {
              "outlinewidth": 0,
              "ticks": ""
             }
            },
            "type": "scatter3d"
           }
          ],
          "scattercarpet": [
           {
            "marker": {
             "colorbar": {
              "outlinewidth": 0,
              "ticks": ""
             }
            },
            "type": "scattercarpet"
           }
          ],
          "scattergeo": [
           {
            "marker": {
             "colorbar": {
              "outlinewidth": 0,
              "ticks": ""
             }
            },
            "type": "scattergeo"
           }
          ],
          "scattergl": [
           {
            "marker": {
             "colorbar": {
              "outlinewidth": 0,
              "ticks": ""
             }
            },
            "type": "scattergl"
           }
          ],
          "scattermapbox": [
           {
            "marker": {
             "colorbar": {
              "outlinewidth": 0,
              "ticks": ""
             }
            },
            "type": "scattermapbox"
           }
          ],
          "scatterpolar": [
           {
            "marker": {
             "colorbar": {
              "outlinewidth": 0,
              "ticks": ""
             }
            },
            "type": "scatterpolar"
           }
          ],
          "scatterpolargl": [
           {
            "marker": {
             "colorbar": {
              "outlinewidth": 0,
              "ticks": ""
             }
            },
            "type": "scatterpolargl"
           }
          ],
          "scatterternary": [
           {
            "marker": {
             "colorbar": {
              "outlinewidth": 0,
              "ticks": ""
             }
            },
            "type": "scatterternary"
           }
          ],
          "surface": [
           {
            "colorbar": {
             "outlinewidth": 0,
             "ticks": ""
            },
            "colorscale": [
             [
              0,
              "#0d0887"
             ],
             [
              0.1111111111111111,
              "#46039f"
             ],
             [
              0.2222222222222222,
              "#7201a8"
             ],
             [
              0.3333333333333333,
              "#9c179e"
             ],
             [
              0.4444444444444444,
              "#bd3786"
             ],
             [
              0.5555555555555556,
              "#d8576b"
             ],
             [
              0.6666666666666666,
              "#ed7953"
             ],
             [
              0.7777777777777778,
              "#fb9f3a"
             ],
             [
              0.8888888888888888,
              "#fdca26"
             ],
             [
              1,
              "#f0f921"
             ]
            ],
            "type": "surface"
           }
          ],
          "table": [
           {
            "cells": {
             "fill": {
              "color": "#EBF0F8"
             },
             "line": {
              "color": "white"
             }
            },
            "header": {
             "fill": {
              "color": "#C8D4E3"
             },
             "line": {
              "color": "white"
             }
            },
            "type": "table"
           }
          ]
         },
         "layout": {
          "annotationdefaults": {
           "arrowcolor": "#2a3f5f",
           "arrowhead": 0,
           "arrowwidth": 1
          },
          "autotypenumbers": "strict",
          "coloraxis": {
           "colorbar": {
            "outlinewidth": 0,
            "ticks": ""
           }
          },
          "colorscale": {
           "diverging": [
            [
             0,
             "#8e0152"
            ],
            [
             0.1,
             "#c51b7d"
            ],
            [
             0.2,
             "#de77ae"
            ],
            [
             0.3,
             "#f1b6da"
            ],
            [
             0.4,
             "#fde0ef"
            ],
            [
             0.5,
             "#f7f7f7"
            ],
            [
             0.6,
             "#e6f5d0"
            ],
            [
             0.7,
             "#b8e186"
            ],
            [
             0.8,
             "#7fbc41"
            ],
            [
             0.9,
             "#4d9221"
            ],
            [
             1,
             "#276419"
            ]
           ],
           "sequential": [
            [
             0,
             "#0d0887"
            ],
            [
             0.1111111111111111,
             "#46039f"
            ],
            [
             0.2222222222222222,
             "#7201a8"
            ],
            [
             0.3333333333333333,
             "#9c179e"
            ],
            [
             0.4444444444444444,
             "#bd3786"
            ],
            [
             0.5555555555555556,
             "#d8576b"
            ],
            [
             0.6666666666666666,
             "#ed7953"
            ],
            [
             0.7777777777777778,
             "#fb9f3a"
            ],
            [
             0.8888888888888888,
             "#fdca26"
            ],
            [
             1,
             "#f0f921"
            ]
           ],
           "sequentialminus": [
            [
             0,
             "#0d0887"
            ],
            [
             0.1111111111111111,
             "#46039f"
            ],
            [
             0.2222222222222222,
             "#7201a8"
            ],
            [
             0.3333333333333333,
             "#9c179e"
            ],
            [
             0.4444444444444444,
             "#bd3786"
            ],
            [
             0.5555555555555556,
             "#d8576b"
            ],
            [
             0.6666666666666666,
             "#ed7953"
            ],
            [
             0.7777777777777778,
             "#fb9f3a"
            ],
            [
             0.8888888888888888,
             "#fdca26"
            ],
            [
             1,
             "#f0f921"
            ]
           ]
          },
          "colorway": [
           "#636efa",
           "#EF553B",
           "#00cc96",
           "#ab63fa",
           "#FFA15A",
           "#19d3f3",
           "#FF6692",
           "#B6E880",
           "#FF97FF",
           "#FECB52"
          ],
          "font": {
           "color": "#2a3f5f"
          },
          "geo": {
           "bgcolor": "white",
           "lakecolor": "white",
           "landcolor": "#E5ECF6",
           "showlakes": true,
           "showland": true,
           "subunitcolor": "white"
          },
          "hoverlabel": {
           "align": "left"
          },
          "hovermode": "closest",
          "mapbox": {
           "style": "light"
          },
          "paper_bgcolor": "white",
          "plot_bgcolor": "#E5ECF6",
          "polar": {
           "angularaxis": {
            "gridcolor": "white",
            "linecolor": "white",
            "ticks": ""
           },
           "bgcolor": "#E5ECF6",
           "radialaxis": {
            "gridcolor": "white",
            "linecolor": "white",
            "ticks": ""
           }
          },
          "scene": {
           "xaxis": {
            "backgroundcolor": "#E5ECF6",
            "gridcolor": "white",
            "gridwidth": 2,
            "linecolor": "white",
            "showbackground": true,
            "ticks": "",
            "zerolinecolor": "white"
           },
           "yaxis": {
            "backgroundcolor": "#E5ECF6",
            "gridcolor": "white",
            "gridwidth": 2,
            "linecolor": "white",
            "showbackground": true,
            "ticks": "",
            "zerolinecolor": "white"
           },
           "zaxis": {
            "backgroundcolor": "#E5ECF6",
            "gridcolor": "white",
            "gridwidth": 2,
            "linecolor": "white",
            "showbackground": true,
            "ticks": "",
            "zerolinecolor": "white"
           }
          },
          "shapedefaults": {
           "line": {
            "color": "#2a3f5f"
           }
          },
          "ternary": {
           "aaxis": {
            "gridcolor": "white",
            "linecolor": "white",
            "ticks": ""
           },
           "baxis": {
            "gridcolor": "white",
            "linecolor": "white",
            "ticks": ""
           },
           "bgcolor": "#E5ECF6",
           "caxis": {
            "gridcolor": "white",
            "linecolor": "white",
            "ticks": ""
           }
          },
          "title": {
           "x": 0.05
          },
          "xaxis": {
           "automargin": true,
           "gridcolor": "white",
           "linecolor": "white",
           "ticks": "",
           "title": {
            "standoff": 15
           },
           "zerolinecolor": "white",
           "zerolinewidth": 2
          },
          "yaxis": {
           "automargin": true,
           "gridcolor": "white",
           "linecolor": "white",
           "ticks": "",
           "title": {
            "standoff": 15
           },
           "zerolinecolor": "white",
           "zerolinewidth": 2
          }
         }
        },
        "title": {
         "font": {
          "family": "Arial"
         },
         "text": "<b>Peso Contenido<b>"
        },
        "width": 600
       }
      },
      "text/html": [
       "<div>                            <div id=\"e93de6a0-7306-404b-90ed-a3a3348f385d\" class=\"plotly-graph-div\" style=\"height:450px; width:600px;\"></div>            <script type=\"text/javascript\">                require([\"plotly\"], function(Plotly) {                    window.PLOTLYENV=window.PLOTLYENV || {};                                    if (document.getElementById(\"e93de6a0-7306-404b-90ed-a3a3348f385d\")) {                    Plotly.newPlot(                        \"e93de6a0-7306-404b-90ed-a3a3348f385d\",                        [{\"customdata\":[[\"Peliculas\"],[\"Series\"]],\"domain\":{\"x\":[0.0,1.0],\"y\":[0.0,1.0]},\"hovertemplate\":[\"Peliculas\",\"Series\"],\"legendgroup\":\"\",\"marker\":{\"colors\":[\"grey\",\"black\"],\"line\":{\"color\":\"white\",\"width\":2.4}},\"name\":\"\",\"showlegend\":false,\"values\":[8510,1357],\"type\":\"pie\"}],                        {\"template\":{\"data\":{\"histogram2dcontour\":[{\"type\":\"histogram2dcontour\",\"colorbar\":{\"outlinewidth\":0,\"ticks\":\"\"},\"colorscale\":[[0.0,\"#0d0887\"],[0.1111111111111111,\"#46039f\"],[0.2222222222222222,\"#7201a8\"],[0.3333333333333333,\"#9c179e\"],[0.4444444444444444,\"#bd3786\"],[0.5555555555555556,\"#d8576b\"],[0.6666666666666666,\"#ed7953\"],[0.7777777777777778,\"#fb9f3a\"],[0.8888888888888888,\"#fdca26\"],[1.0,\"#f0f921\"]]}],\"choropleth\":[{\"type\":\"choropleth\",\"colorbar\":{\"outlinewidth\":0,\"ticks\":\"\"}}],\"histogram2d\":[{\"type\":\"histogram2d\",\"colorbar\":{\"outlinewidth\":0,\"ticks\":\"\"},\"colorscale\":[[0.0,\"#0d0887\"],[0.1111111111111111,\"#46039f\"],[0.2222222222222222,\"#7201a8\"],[0.3333333333333333,\"#9c179e\"],[0.4444444444444444,\"#bd3786\"],[0.5555555555555556,\"#d8576b\"],[0.6666666666666666,\"#ed7953\"],[0.7777777777777778,\"#fb9f3a\"],[0.8888888888888888,\"#fdca26\"],[1.0,\"#f0f921\"]]}],\"heatmap\":[{\"type\":\"heatmap\",\"colorbar\":{\"outlinewidth\":0,\"ticks\":\"\"},\"colorscale\":[[0.0,\"#0d0887\"],[0.1111111111111111,\"#46039f\"],[0.2222222222222222,\"#7201a8\"],[0.3333333333333333,\"#9c179e\"],[0.4444444444444444,\"#bd3786\"],[0.5555555555555556,\"#d8576b\"],[0.6666666666666666,\"#ed7953\"],[0.7777777777777778,\"#fb9f3a\"],[0.8888888888888888,\"#fdca26\"],[1.0,\"#f0f921\"]]}],\"heatmapgl\":[{\"type\":\"heatmapgl\",\"colorbar\":{\"outlinewidth\":0,\"ticks\":\"\"},\"colorscale\":[[0.0,\"#0d0887\"],[0.1111111111111111,\"#46039f\"],[0.2222222222222222,\"#7201a8\"],[0.3333333333333333,\"#9c179e\"],[0.4444444444444444,\"#bd3786\"],[0.5555555555555556,\"#d8576b\"],[0.6666666666666666,\"#ed7953\"],[0.7777777777777778,\"#fb9f3a\"],[0.8888888888888888,\"#fdca26\"],[1.0,\"#f0f921\"]]}],\"contourcarpet\":[{\"type\":\"contourcarpet\",\"colorbar\":{\"outlinewidth\":0,\"ticks\":\"\"}}],\"contour\":[{\"type\":\"contour\",\"colorbar\":{\"outlinewidth\":0,\"ticks\":\"\"},\"colorscale\":[[0.0,\"#0d0887\"],[0.1111111111111111,\"#46039f\"],[0.2222222222222222,\"#7201a8\"],[0.3333333333333333,\"#9c179e\"],[0.4444444444444444,\"#bd3786\"],[0.5555555555555556,\"#d8576b\"],[0.6666666666666666,\"#ed7953\"],[0.7777777777777778,\"#fb9f3a\"],[0.8888888888888888,\"#fdca26\"],[1.0,\"#f0f921\"]]}],\"surface\":[{\"type\":\"surface\",\"colorbar\":{\"outlinewidth\":0,\"ticks\":\"\"},\"colorscale\":[[0.0,\"#0d0887\"],[0.1111111111111111,\"#46039f\"],[0.2222222222222222,\"#7201a8\"],[0.3333333333333333,\"#9c179e\"],[0.4444444444444444,\"#bd3786\"],[0.5555555555555556,\"#d8576b\"],[0.6666666666666666,\"#ed7953\"],[0.7777777777777778,\"#fb9f3a\"],[0.8888888888888888,\"#fdca26\"],[1.0,\"#f0f921\"]]}],\"mesh3d\":[{\"type\":\"mesh3d\",\"colorbar\":{\"outlinewidth\":0,\"ticks\":\"\"}}],\"scatter\":[{\"fillpattern\":{\"fillmode\":\"overlay\",\"size\":10,\"solidity\":0.2},\"type\":\"scatter\"}],\"parcoords\":[{\"type\":\"parcoords\",\"line\":{\"colorbar\":{\"outlinewidth\":0,\"ticks\":\"\"}}}],\"scatterpolargl\":[{\"type\":\"scatterpolargl\",\"marker\":{\"colorbar\":{\"outlinewidth\":0,\"ticks\":\"\"}}}],\"bar\":[{\"error_x\":{\"color\":\"#2a3f5f\"},\"error_y\":{\"color\":\"#2a3f5f\"},\"marker\":{\"line\":{\"color\":\"#E5ECF6\",\"width\":0.5},\"pattern\":{\"fillmode\":\"overlay\",\"size\":10,\"solidity\":0.2}},\"type\":\"bar\"}],\"scattergeo\":[{\"type\":\"scattergeo\",\"marker\":{\"colorbar\":{\"outlinewidth\":0,\"ticks\":\"\"}}}],\"scatterpolar\":[{\"type\":\"scatterpolar\",\"marker\":{\"colorbar\":{\"outlinewidth\":0,\"ticks\":\"\"}}}],\"histogram\":[{\"marker\":{\"pattern\":{\"fillmode\":\"overlay\",\"size\":10,\"solidity\":0.2}},\"type\":\"histogram\"}],\"scattergl\":[{\"type\":\"scattergl\",\"marker\":{\"colorbar\":{\"outlinewidth\":0,\"ticks\":\"\"}}}],\"scatter3d\":[{\"type\":\"scatter3d\",\"line\":{\"colorbar\":{\"outlinewidth\":0,\"ticks\":\"\"}},\"marker\":{\"colorbar\":{\"outlinewidth\":0,\"ticks\":\"\"}}}],\"scattermapbox\":[{\"type\":\"scattermapbox\",\"marker\":{\"colorbar\":{\"outlinewidth\":0,\"ticks\":\"\"}}}],\"scatterternary\":[{\"type\":\"scatterternary\",\"marker\":{\"colorbar\":{\"outlinewidth\":0,\"ticks\":\"\"}}}],\"scattercarpet\":[{\"type\":\"scattercarpet\",\"marker\":{\"colorbar\":{\"outlinewidth\":0,\"ticks\":\"\"}}}],\"carpet\":[{\"aaxis\":{\"endlinecolor\":\"#2a3f5f\",\"gridcolor\":\"white\",\"linecolor\":\"white\",\"minorgridcolor\":\"white\",\"startlinecolor\":\"#2a3f5f\"},\"baxis\":{\"endlinecolor\":\"#2a3f5f\",\"gridcolor\":\"white\",\"linecolor\":\"white\",\"minorgridcolor\":\"white\",\"startlinecolor\":\"#2a3f5f\"},\"type\":\"carpet\"}],\"table\":[{\"cells\":{\"fill\":{\"color\":\"#EBF0F8\"},\"line\":{\"color\":\"white\"}},\"header\":{\"fill\":{\"color\":\"#C8D4E3\"},\"line\":{\"color\":\"white\"}},\"type\":\"table\"}],\"barpolar\":[{\"marker\":{\"line\":{\"color\":\"#E5ECF6\",\"width\":0.5},\"pattern\":{\"fillmode\":\"overlay\",\"size\":10,\"solidity\":0.2}},\"type\":\"barpolar\"}],\"pie\":[{\"automargin\":true,\"type\":\"pie\"}]},\"layout\":{\"autotypenumbers\":\"strict\",\"colorway\":[\"#636efa\",\"#EF553B\",\"#00cc96\",\"#ab63fa\",\"#FFA15A\",\"#19d3f3\",\"#FF6692\",\"#B6E880\",\"#FF97FF\",\"#FECB52\"],\"font\":{\"color\":\"#2a3f5f\"},\"hovermode\":\"closest\",\"hoverlabel\":{\"align\":\"left\"},\"paper_bgcolor\":\"white\",\"plot_bgcolor\":\"#E5ECF6\",\"polar\":{\"bgcolor\":\"#E5ECF6\",\"angularaxis\":{\"gridcolor\":\"white\",\"linecolor\":\"white\",\"ticks\":\"\"},\"radialaxis\":{\"gridcolor\":\"white\",\"linecolor\":\"white\",\"ticks\":\"\"}},\"ternary\":{\"bgcolor\":\"#E5ECF6\",\"aaxis\":{\"gridcolor\":\"white\",\"linecolor\":\"white\",\"ticks\":\"\"},\"baxis\":{\"gridcolor\":\"white\",\"linecolor\":\"white\",\"ticks\":\"\"},\"caxis\":{\"gridcolor\":\"white\",\"linecolor\":\"white\",\"ticks\":\"\"}},\"coloraxis\":{\"colorbar\":{\"outlinewidth\":0,\"ticks\":\"\"}},\"colorscale\":{\"sequential\":[[0.0,\"#0d0887\"],[0.1111111111111111,\"#46039f\"],[0.2222222222222222,\"#7201a8\"],[0.3333333333333333,\"#9c179e\"],[0.4444444444444444,\"#bd3786\"],[0.5555555555555556,\"#d8576b\"],[0.6666666666666666,\"#ed7953\"],[0.7777777777777778,\"#fb9f3a\"],[0.8888888888888888,\"#fdca26\"],[1.0,\"#f0f921\"]],\"sequentialminus\":[[0.0,\"#0d0887\"],[0.1111111111111111,\"#46039f\"],[0.2222222222222222,\"#7201a8\"],[0.3333333333333333,\"#9c179e\"],[0.4444444444444444,\"#bd3786\"],[0.5555555555555556,\"#d8576b\"],[0.6666666666666666,\"#ed7953\"],[0.7777777777777778,\"#fb9f3a\"],[0.8888888888888888,\"#fdca26\"],[1.0,\"#f0f921\"]],\"diverging\":[[0,\"#8e0152\"],[0.1,\"#c51b7d\"],[0.2,\"#de77ae\"],[0.3,\"#f1b6da\"],[0.4,\"#fde0ef\"],[0.5,\"#f7f7f7\"],[0.6,\"#e6f5d0\"],[0.7,\"#b8e186\"],[0.8,\"#7fbc41\"],[0.9,\"#4d9221\"],[1,\"#276419\"]]},\"xaxis\":{\"gridcolor\":\"white\",\"linecolor\":\"white\",\"ticks\":\"\",\"title\":{\"standoff\":15},\"zerolinecolor\":\"white\",\"automargin\":true,\"zerolinewidth\":2},\"yaxis\":{\"gridcolor\":\"white\",\"linecolor\":\"white\",\"ticks\":\"\",\"title\":{\"standoff\":15},\"zerolinecolor\":\"white\",\"automargin\":true,\"zerolinewidth\":2},\"scene\":{\"xaxis\":{\"backgroundcolor\":\"#E5ECF6\",\"gridcolor\":\"white\",\"linecolor\":\"white\",\"showbackground\":true,\"ticks\":\"\",\"zerolinecolor\":\"white\",\"gridwidth\":2},\"yaxis\":{\"backgroundcolor\":\"#E5ECF6\",\"gridcolor\":\"white\",\"linecolor\":\"white\",\"showbackground\":true,\"ticks\":\"\",\"zerolinecolor\":\"white\",\"gridwidth\":2},\"zaxis\":{\"backgroundcolor\":\"#E5ECF6\",\"gridcolor\":\"white\",\"linecolor\":\"white\",\"showbackground\":true,\"ticks\":\"\",\"zerolinecolor\":\"white\",\"gridwidth\":2}},\"shapedefaults\":{\"line\":{\"color\":\"#2a3f5f\"}},\"annotationdefaults\":{\"arrowcolor\":\"#2a3f5f\",\"arrowhead\":0,\"arrowwidth\":1},\"geo\":{\"bgcolor\":\"white\",\"landcolor\":\"#E5ECF6\",\"subunitcolor\":\"white\",\"showland\":true,\"showlakes\":true,\"lakecolor\":\"white\"},\"title\":{\"x\":0.05},\"mapbox\":{\"style\":\"light\"}}},\"legend\":{\"tracegroupgap\":0},\"title\":{\"text\":\"<b>Peso Contenido<b>\",\"font\":{\"family\":\"Arial\"}},\"height\":450,\"width\":600,\"font\":{\"family\":\"Arial\"}},                        {\"responsive\": true}                    ).then(function(){\n",
       "                            \n",
       "var gd = document.getElementById('e93de6a0-7306-404b-90ed-a3a3348f385d');\n",
       "var x = new MutationObserver(function (mutations, observer) {{\n",
       "        var display = window.getComputedStyle(gd).display;\n",
       "        if (!display || display === 'none') {{\n",
       "            console.log([gd, 'removed!']);\n",
       "            Plotly.purge(gd);\n",
       "            observer.disconnect();\n",
       "        }}\n",
       "}});\n",
       "\n",
       "// Listen for the removal of the full notebook cells\n",
       "var notebookContainer = gd.closest('#notebook-container');\n",
       "if (notebookContainer) {{\n",
       "    x.observe(notebookContainer, {childList: true});\n",
       "}}\n",
       "\n",
       "// Listen for the clearing of the current output cell\n",
       "var outputEl = gd.closest('.output');\n",
       "if (outputEl) {{\n",
       "    x.observe(outputEl, {childList: true});\n",
       "}}\n",
       "\n",
       "                        })                };                });            </script>        </div>"
      ]
     },
     "metadata": {},
     "output_type": "display_data"
    }
   ],
   "source": [
    "# GRÁFICO PIE SERIES - PELICULAS\n",
    "\n",
    "# Si tuviesemos el numero de capitulos por temporada podríamos estimar una comparacion más realista del contenido\n",
    "# --> (se podría haber sacado con webscrapping)\n",
    "\n",
    "\n",
    "labels = ['Peliculas', 'Series']\n",
    "values =  [amazon_peliculas_df.shape[0], amazon_series_df.shape[0]]\n",
    "\n",
    "fig = px.pie(values=values, labels=labels, #names= labels,\n",
    "width = 600, height=450,\n",
    "title = \"<b>Peso Contenido<b>\", #hoverinfo=values,\n",
    "color = labels, \n",
    "color_discrete_map={'Peliculas':'grey',\n",
    "                                 'Series':'black'}\n",
    ")\n",
    "\n",
    "fig.update_traces(marker=dict(line=dict(color='white', width=2.4)),\n",
    "                    hovertemplate = labels\n",
    ")\n",
    "                 \n",
    "\n",
    "fig.update_layout(font_family = 'Arial', title_font_family='Arial')\n",
    "\n",
    "#color=labels, )\n",
    "fig.show()\n",
    "\n",
    "#color_discrete_sequence=px.colors.sequential.Greys_r\n",
    "#hol=0.5"
   ]
  },
  {
   "cell_type": "markdown",
   "metadata": {},
   "source": [
    "1.3. Ficheros Contenidos PRIME VIDEO"
   ]
  },
  {
   "cell_type": "code",
   "execution_count": 66,
   "metadata": {},
   "outputs": [],
   "source": [
    "# Pasamos las tablas a un CSV:\n",
    "amazon_peliculas_df.to_csv('df_amazon_peliculas.csv', encoding='utf-8')\n",
    "amazon_series_df.to_csv('df_amazon_series.csv', encoding='utf-8')"
   ]
  }
 ],
 "metadata": {
  "interpreter": {
   "hash": "aee8b7b246df8f9039afb4144a1f6fd8d2ca17a180786b69acc140d282b71a49"
  },
  "kernelspec": {
   "display_name": "Python 3.7.4 64-bit",
   "language": "python",
   "name": "python3"
  },
  "language_info": {
   "codemirror_mode": {
    "name": "ipython",
    "version": 3
   },
   "file_extension": ".py",
   "mimetype": "text/x-python",
   "name": "python",
   "nbconvert_exporter": "python",
   "pygments_lexer": "ipython3",
   "version": "3.7.4"
  },
  "orig_nbformat": 4
 },
 "nbformat": 4,
 "nbformat_minor": 2
}
