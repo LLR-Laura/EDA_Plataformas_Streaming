{
 "cells": [
  {
   "cell_type": "markdown",
   "metadata": {},
   "source": [
    "## **HBO**\n",
    "\n",
    "### 1. Exploración y Preparación de los Datos\n",
    "\n",
    "Datos descargados de Kaggle\n",
    "\n",
    "(Mismo código en todos los notebooks de datos)"
   ]
  },
  {
   "cell_type": "code",
   "execution_count": 1,
   "metadata": {},
   "outputs": [
    {
     "data": {
      "text/html": [
       "        <script type=\"text/javascript\">\n",
       "        window.PlotlyConfig = {MathJaxConfig: 'local'};\n",
       "        if (window.MathJax && window.MathJax.Hub && window.MathJax.Hub.Config) {window.MathJax.Hub.Config({SVG: {font: \"STIX-Web\"}});}\n",
       "        if (typeof require !== 'undefined') {\n",
       "        require.undef(\"plotly\");\n",
       "        requirejs.config({\n",
       "            paths: {\n",
       "                'plotly': ['https://cdn.plot.ly/plotly-2.12.1.min']\n",
       "            }\n",
       "        });\n",
       "        require(['plotly'], function(Plotly) {\n",
       "            window._Plotly = Plotly;\n",
       "        });\n",
       "        }\n",
       "        </script>\n",
       "        "
      ]
     },
     "metadata": {},
     "output_type": "display_data"
    }
   ],
   "source": [
    "import pandas as pd\n",
    "import numpy as np\n",
    "import seaborn as sns\n",
    "\n",
    "# plotly\n",
    "# import plotly.plotly as py\n",
    "from plotly.offline import init_notebook_mode, iplot, plot\n",
    "import plotly as py\n",
    "init_notebook_mode(connected=True)\n",
    "import plotly.graph_objs as go\n",
    "import plotly.express as px\n",
    "from plotly.subplots import make_subplots\n"
   ]
  },
  {
   "cell_type": "markdown",
   "metadata": {},
   "source": [
    "1.1 Visual general de los datos"
   ]
  },
  {
   "cell_type": "code",
   "execution_count": 2,
   "metadata": {},
   "outputs": [
    {
     "name": "stdout",
     "output_type": "stream",
     "text": [
      "Filas, columnas: (3294, 15)\n"
     ]
    },
    {
     "data": {
      "text/html": [
       "<div>\n",
       "<style scoped>\n",
       "    .dataframe tbody tr th:only-of-type {\n",
       "        vertical-align: middle;\n",
       "    }\n",
       "\n",
       "    .dataframe tbody tr th {\n",
       "        vertical-align: top;\n",
       "    }\n",
       "\n",
       "    .dataframe thead th {\n",
       "        text-align: right;\n",
       "    }\n",
       "</style>\n",
       "<table border=\"1\" class=\"dataframe\">\n",
       "  <thead>\n",
       "    <tr style=\"text-align: right;\">\n",
       "      <th></th>\n",
       "      <th>id</th>\n",
       "      <th>title</th>\n",
       "      <th>type</th>\n",
       "      <th>description</th>\n",
       "      <th>release_year</th>\n",
       "      <th>age_certification</th>\n",
       "      <th>runtime</th>\n",
       "      <th>genres</th>\n",
       "      <th>production_countries</th>\n",
       "      <th>seasons</th>\n",
       "      <th>imdb_id</th>\n",
       "      <th>imdb_score</th>\n",
       "      <th>imdb_votes</th>\n",
       "      <th>tmdb_popularity</th>\n",
       "      <th>tmdb_score</th>\n",
       "    </tr>\n",
       "  </thead>\n",
       "  <tbody>\n",
       "    <tr>\n",
       "      <th>0</th>\n",
       "      <td>tm155702</td>\n",
       "      <td>The Wizard of Oz</td>\n",
       "      <td>MOVIE</td>\n",
       "      <td>Young Dorothy finds herself in a magical world...</td>\n",
       "      <td>1939</td>\n",
       "      <td>G</td>\n",
       "      <td>102</td>\n",
       "      <td>['fantasy', 'family']</td>\n",
       "      <td>['US']</td>\n",
       "      <td>NaN</td>\n",
       "      <td>tt0032138</td>\n",
       "      <td>8.1</td>\n",
       "      <td>389774.0</td>\n",
       "      <td>41.442</td>\n",
       "      <td>7.6</td>\n",
       "    </tr>\n",
       "    <tr>\n",
       "      <th>1</th>\n",
       "      <td>tm83648</td>\n",
       "      <td>Citizen Kane</td>\n",
       "      <td>MOVIE</td>\n",
       "      <td>Newspaper magnate, Charles Foster Kane is take...</td>\n",
       "      <td>1941</td>\n",
       "      <td>PG</td>\n",
       "      <td>119</td>\n",
       "      <td>['drama']</td>\n",
       "      <td>['US']</td>\n",
       "      <td>NaN</td>\n",
       "      <td>tt0033467</td>\n",
       "      <td>8.3</td>\n",
       "      <td>433804.0</td>\n",
       "      <td>14.383</td>\n",
       "      <td>8.0</td>\n",
       "    </tr>\n",
       "    <tr>\n",
       "      <th>2</th>\n",
       "      <td>tm77588</td>\n",
       "      <td>Casablanca</td>\n",
       "      <td>MOVIE</td>\n",
       "      <td>In Casablanca, Morocco in December 1941, a cyn...</td>\n",
       "      <td>1942</td>\n",
       "      <td>PG</td>\n",
       "      <td>102</td>\n",
       "      <td>['drama', 'romance', 'war']</td>\n",
       "      <td>['US']</td>\n",
       "      <td>NaN</td>\n",
       "      <td>tt0034583</td>\n",
       "      <td>8.5</td>\n",
       "      <td>558849.0</td>\n",
       "      <td>20.087</td>\n",
       "      <td>8.2</td>\n",
       "    </tr>\n",
       "    <tr>\n",
       "      <th>3</th>\n",
       "      <td>tm82363</td>\n",
       "      <td>The Big Sleep</td>\n",
       "      <td>MOVIE</td>\n",
       "      <td>Private Investigator Philip Marlowe is hired b...</td>\n",
       "      <td>1946</td>\n",
       "      <td>NaN</td>\n",
       "      <td>116</td>\n",
       "      <td>['thriller', 'crime']</td>\n",
       "      <td>['US']</td>\n",
       "      <td>NaN</td>\n",
       "      <td>tt0038355</td>\n",
       "      <td>7.9</td>\n",
       "      <td>84494.0</td>\n",
       "      <td>12.911</td>\n",
       "      <td>7.7</td>\n",
       "    </tr>\n",
       "    <tr>\n",
       "      <th>4</th>\n",
       "      <td>tm84701</td>\n",
       "      <td>The Maltese Falcon</td>\n",
       "      <td>MOVIE</td>\n",
       "      <td>A private detective takes on a case that invol...</td>\n",
       "      <td>1941</td>\n",
       "      <td>NaN</td>\n",
       "      <td>100</td>\n",
       "      <td>['thriller', 'romance', 'crime']</td>\n",
       "      <td>['US']</td>\n",
       "      <td>NaN</td>\n",
       "      <td>tt0033870</td>\n",
       "      <td>8.0</td>\n",
       "      <td>156603.0</td>\n",
       "      <td>12.788</td>\n",
       "      <td>7.8</td>\n",
       "    </tr>\n",
       "  </tbody>\n",
       "</table>\n",
       "</div>"
      ],
      "text/plain": [
       "         id               title   type  \\\n",
       "0  tm155702    The Wizard of Oz  MOVIE   \n",
       "1   tm83648        Citizen Kane  MOVIE   \n",
       "2   tm77588          Casablanca  MOVIE   \n",
       "3   tm82363       The Big Sleep  MOVIE   \n",
       "4   tm84701  The Maltese Falcon  MOVIE   \n",
       "\n",
       "                                         description  release_year  \\\n",
       "0  Young Dorothy finds herself in a magical world...          1939   \n",
       "1  Newspaper magnate, Charles Foster Kane is take...          1941   \n",
       "2  In Casablanca, Morocco in December 1941, a cyn...          1942   \n",
       "3  Private Investigator Philip Marlowe is hired b...          1946   \n",
       "4  A private detective takes on a case that invol...          1941   \n",
       "\n",
       "  age_certification  runtime                            genres  \\\n",
       "0                 G      102             ['fantasy', 'family']   \n",
       "1                PG      119                         ['drama']   \n",
       "2                PG      102       ['drama', 'romance', 'war']   \n",
       "3               NaN      116             ['thriller', 'crime']   \n",
       "4               NaN      100  ['thriller', 'romance', 'crime']   \n",
       "\n",
       "  production_countries  seasons    imdb_id  imdb_score  imdb_votes  \\\n",
       "0               ['US']      NaN  tt0032138         8.1    389774.0   \n",
       "1               ['US']      NaN  tt0033467         8.3    433804.0   \n",
       "2               ['US']      NaN  tt0034583         8.5    558849.0   \n",
       "3               ['US']      NaN  tt0038355         7.9     84494.0   \n",
       "4               ['US']      NaN  tt0033870         8.0    156603.0   \n",
       "\n",
       "   tmdb_popularity  tmdb_score  \n",
       "0           41.442         7.6  \n",
       "1           14.383         8.0  \n",
       "2           20.087         8.2  \n",
       "3           12.911         7.7  \n",
       "4           12.788         7.8  "
      ]
     },
     "execution_count": 2,
     "metadata": {},
     "output_type": "execute_result"
    }
   ],
   "source": [
    "data_hbo = pd.read_csv('../src:data/Data_hbo/datos_hbo.csv')\n",
    "\n",
    "print(\"Filas, columnas:\", data_hbo.shape)\n",
    "data_hbo.head()"
   ]
  },
  {
   "cell_type": "code",
   "execution_count": 3,
   "metadata": {},
   "outputs": [
    {
     "data": {
      "text/plain": [
       "id                       object\n",
       "title                    object\n",
       "type                     object\n",
       "description              object\n",
       "release_year              int64\n",
       "age_certification        object\n",
       "runtime                   int64\n",
       "genres                   object\n",
       "production_countries     object\n",
       "seasons                 float64\n",
       "imdb_id                  object\n",
       "imdb_score              float64\n",
       "imdb_votes              float64\n",
       "tmdb_popularity         float64\n",
       "tmdb_score              float64\n",
       "dtype: object"
      ]
     },
     "execution_count": 3,
     "metadata": {},
     "output_type": "execute_result"
    }
   ],
   "source": [
    "# Tipo de dato\n",
    "data_hbo.dtypes"
   ]
  },
  {
   "cell_type": "code",
   "execution_count": 4,
   "metadata": {},
   "outputs": [
    {
     "data": {
      "text/plain": [
       "id                         0\n",
       "title                      0\n",
       "type                       0\n",
       "description               12\n",
       "release_year               0\n",
       "age_certification       1208\n",
       "runtime                    0\n",
       "genres                     0\n",
       "production_countries       0\n",
       "seasons                 2538\n",
       "imdb_id                  326\n",
       "imdb_score               372\n",
       "imdb_votes               383\n",
       "tmdb_popularity           33\n",
       "tmdb_score               268\n",
       "dtype: int64"
      ]
     },
     "execution_count": 4,
     "metadata": {},
     "output_type": "execute_result"
    }
   ],
   "source": [
    "# Missings\n",
    "\n",
    "data_hbo.isna().sum()"
   ]
  },
  {
   "cell_type": "code",
   "execution_count": 5,
   "metadata": {},
   "outputs": [
    {
     "name": "stdout",
     "output_type": "stream",
     "text": [
      "0.0\n",
      "0.0\n",
      "0.0\n",
      "0.36429872495446264\n",
      "0.0\n",
      "36.67273831208257\n",
      "0.0\n",
      "0.0\n",
      "0.0\n",
      "77.04918032786885\n",
      "9.89678202792957\n",
      "11.293260473588344\n",
      "11.627200971463267\n",
      "1.0018214936247722\n",
      "8.136004857316333\n"
     ]
    }
   ],
   "source": [
    "#Nulls en porcentaje\n",
    "for i in data_hbo.isna().sum():\n",
    "    print((i/data_hbo.shape[0])*100)\n",
    "\n",
    "#Destacamos que el 77% de los valores de la columna season son nulos, pero como representan el numero de temporadas, no nos importa mucho, y podría tener sentido"
   ]
  },
  {
   "cell_type": "code",
   "execution_count": 6,
   "metadata": {},
   "outputs": [
    {
     "data": {
      "text/plain": [
       "<AxesSubplot:>"
      ]
     },
     "execution_count": 6,
     "metadata": {},
     "output_type": "execute_result"
    },
    {
     "data": {
      "image/png": "[encoded data removed]",
      "text/plain": [
       "<Figure size 432x288 with 1 Axes>"
      ]
     },
     "metadata": {
      "needs_background": "light"
     },
     "output_type": "display_data"
    }
   ],
   "source": [
    "sns.heatmap(data_hbo.isnull(),cbar=False,cmap='viridis')"
   ]
  },
  {
   "cell_type": "markdown",
   "metadata": {},
   "source": [
    "1.2. Columnas\n",
    "\n",
    "- ID: ID del título en JustWatch\n",
    "\n",
    "- title: nombre del título\n",
    "\n",
    "- show type: SHOW o MOVIE - diferenciación entre pelicula o serie\n",
    "\n",
    "- description: breve descripción\n",
    "\n",
    "- release year: año de estreno\n",
    "\n",
    "- age certification: orientacion a padres de edad mínima recomendada\n",
    "\n",
    "- runtime: duración\n",
    "\n",
    "- genres: lista de géneros\n",
    "\n",
    "- production countries: lista de países que produjeron el título\n",
    "\n",
    "- seasons: número de temporadas\n",
    "\n",
    "- IMDB ID: ID del título en IMDB\n",
    "\n",
    "- IMDB Score: puntuación en IMDB\n",
    "\n",
    "- IMDB Votes: votos en IMDB\n",
    "\n",
    "- TMDB Score: puntuación en TMDB\n",
    "\n",
    "- TMDB Popularity: popularidad en TMDB\n",
    "\n",
    "    La métrica de popularidad de TMDB se mide -diariamente- en función de los parámetros:\n",
    "    - N de votos al día\n",
    "    - N vistas de pág al día    \n",
    "    - N usuarios que marcan el título como favorito    \n",
    "    - Fecha de estreno +  fecha de emisión del último/nuevo episodio    \n",
    "    - N total de votos\n",
    "    - Puntuación de los días anteriores"
   ]
  },
  {
   "cell_type": "code",
   "execution_count": 7,
   "metadata": {},
   "outputs": [
    {
     "name": "stdout",
     "output_type": "stream",
     "text": [
      "Index(['id', 'title', 'type', 'description', 'release_year',\n",
      "       'age_certification', 'runtime', 'genres', 'production_countries',\n",
      "       'seasons', 'imdb_id', 'imdb_score', 'imdb_votes', 'tmdb_popularity',\n",
      "       'tmdb_score'],\n",
      "      dtype='object')\n",
      "N columnas: 15\n"
     ]
    }
   ],
   "source": [
    "print(data_hbo.columns)\n",
    "print(\"N columnas:\", len(data_hbo.columns))"
   ]
  },
  {
   "cell_type": "code",
   "execution_count": 8,
   "metadata": {},
   "outputs": [
    {
     "name": "stdout",
     "output_type": "stream",
     "text": [
      "Tipo de dato: object\n",
      "n titulos duplicados: 31\n",
      "valores repetidos: 31\n"
     ]
    }
   ],
   "source": [
    "# Título\n",
    "# Cada título representa un contenido 'único' de la plataforma\n",
    "# Comprobamos que no haya duplicados (ya sabemos que no hay nulos)\n",
    "\n",
    "print('Tipo de dato:', data_hbo['title'].dtype)\n",
    "titulos_duplicados = data_hbo.loc[data_hbo.duplicated(['title'])]\n",
    "print(\"n titulos duplicados:\", titulos_duplicados.shape[0])\n",
    "titulos_unicos = data_hbo['title'].nunique()\n",
    "print(\"valores repetidos:\", data_hbo.shape[0] - titulos_unicos)"
   ]
  },
  {
   "cell_type": "code",
   "execution_count": 9,
   "metadata": {},
   "outputs": [
    {
     "name": "stdout",
     "output_type": "stream",
     "text": [
      "n duplicados: 0\n"
     ]
    },
    {
     "data": {
      "text/html": [
       "<div>\n",
       "<style scoped>\n",
       "    .dataframe tbody tr th:only-of-type {\n",
       "        vertical-align: middle;\n",
       "    }\n",
       "\n",
       "    .dataframe tbody tr th {\n",
       "        vertical-align: top;\n",
       "    }\n",
       "\n",
       "    .dataframe thead th {\n",
       "        text-align: right;\n",
       "    }\n",
       "</style>\n",
       "<table border=\"1\" class=\"dataframe\">\n",
       "  <thead>\n",
       "    <tr style=\"text-align: right;\">\n",
       "      <th></th>\n",
       "      <th>id</th>\n",
       "      <th>title</th>\n",
       "      <th>type</th>\n",
       "      <th>description</th>\n",
       "      <th>release_year</th>\n",
       "      <th>age_certification</th>\n",
       "      <th>runtime</th>\n",
       "      <th>genres</th>\n",
       "      <th>production_countries</th>\n",
       "      <th>seasons</th>\n",
       "      <th>imdb_id</th>\n",
       "      <th>imdb_score</th>\n",
       "      <th>imdb_votes</th>\n",
       "      <th>tmdb_popularity</th>\n",
       "      <th>tmdb_score</th>\n",
       "    </tr>\n",
       "  </thead>\n",
       "  <tbody>\n",
       "  </tbody>\n",
       "</table>\n",
       "</div>"
      ],
      "text/plain": [
       "Empty DataFrame\n",
       "Columns: [id, title, type, description, release_year, age_certification, runtime, genres, production_countries, seasons, imdb_id, imdb_score, imdb_votes, tmdb_popularity, tmdb_score]\n",
       "Index: []"
      ]
     },
     "execution_count": 9,
     "metadata": {},
     "output_type": "execute_result"
    }
   ],
   "source": [
    "# Tenemos 31 titulos duplicados, pero esto no indica que sean la misma película/serie\n",
    "# Comprobamos duplicados que coincidan en título, tipo de contenido, año de estreno y duración:\n",
    "\n",
    "print(\"n duplicados:\", data_hbo[data_hbo.duplicated(subset=['title', 'type', 'release_year', 'runtime'])].shape[0])\n",
    "data_hbo[data_hbo.duplicated(subset=['title', 'type', 'release_year', 'runtime'])]\n",
    "\n",
    "# Ningún duplicado en este dataset"
   ]
  },
  {
   "cell_type": "code",
   "execution_count": 10,
   "metadata": {},
   "outputs": [
    {
     "name": "stdout",
     "output_type": "stream",
     "text": [
      "N columnas: 13\n"
     ]
    },
    {
     "data": {
      "text/html": [
       "<div>\n",
       "<style scoped>\n",
       "    .dataframe tbody tr th:only-of-type {\n",
       "        vertical-align: middle;\n",
       "    }\n",
       "\n",
       "    .dataframe tbody tr th {\n",
       "        vertical-align: top;\n",
       "    }\n",
       "\n",
       "    .dataframe thead th {\n",
       "        text-align: right;\n",
       "    }\n",
       "</style>\n",
       "<table border=\"1\" class=\"dataframe\">\n",
       "  <thead>\n",
       "    <tr style=\"text-align: right;\">\n",
       "      <th></th>\n",
       "      <th>id</th>\n",
       "      <th>title</th>\n",
       "      <th>type</th>\n",
       "      <th>release_year</th>\n",
       "      <th>age_certification</th>\n",
       "      <th>runtime</th>\n",
       "      <th>genres</th>\n",
       "      <th>production_countries</th>\n",
       "      <th>seasons</th>\n",
       "      <th>imdb_score</th>\n",
       "      <th>imdb_votes</th>\n",
       "      <th>tmdb_popularity</th>\n",
       "      <th>tmdb_score</th>\n",
       "    </tr>\n",
       "  </thead>\n",
       "  <tbody>\n",
       "    <tr>\n",
       "      <th>0</th>\n",
       "      <td>tm155702</td>\n",
       "      <td>The Wizard of Oz</td>\n",
       "      <td>MOVIE</td>\n",
       "      <td>1939</td>\n",
       "      <td>G</td>\n",
       "      <td>102</td>\n",
       "      <td>['fantasy', 'family']</td>\n",
       "      <td>['US']</td>\n",
       "      <td>NaN</td>\n",
       "      <td>8.1</td>\n",
       "      <td>389774.0</td>\n",
       "      <td>41.442</td>\n",
       "      <td>7.6</td>\n",
       "    </tr>\n",
       "    <tr>\n",
       "      <th>1</th>\n",
       "      <td>tm83648</td>\n",
       "      <td>Citizen Kane</td>\n",
       "      <td>MOVIE</td>\n",
       "      <td>1941</td>\n",
       "      <td>PG</td>\n",
       "      <td>119</td>\n",
       "      <td>['drama']</td>\n",
       "      <td>['US']</td>\n",
       "      <td>NaN</td>\n",
       "      <td>8.3</td>\n",
       "      <td>433804.0</td>\n",
       "      <td>14.383</td>\n",
       "      <td>8.0</td>\n",
       "    </tr>\n",
       "    <tr>\n",
       "      <th>2</th>\n",
       "      <td>tm77588</td>\n",
       "      <td>Casablanca</td>\n",
       "      <td>MOVIE</td>\n",
       "      <td>1942</td>\n",
       "      <td>PG</td>\n",
       "      <td>102</td>\n",
       "      <td>['drama', 'romance', 'war']</td>\n",
       "      <td>['US']</td>\n",
       "      <td>NaN</td>\n",
       "      <td>8.5</td>\n",
       "      <td>558849.0</td>\n",
       "      <td>20.087</td>\n",
       "      <td>8.2</td>\n",
       "    </tr>\n",
       "    <tr>\n",
       "      <th>3</th>\n",
       "      <td>tm82363</td>\n",
       "      <td>The Big Sleep</td>\n",
       "      <td>MOVIE</td>\n",
       "      <td>1946</td>\n",
       "      <td>NaN</td>\n",
       "      <td>116</td>\n",
       "      <td>['thriller', 'crime']</td>\n",
       "      <td>['US']</td>\n",
       "      <td>NaN</td>\n",
       "      <td>7.9</td>\n",
       "      <td>84494.0</td>\n",
       "      <td>12.911</td>\n",
       "      <td>7.7</td>\n",
       "    </tr>\n",
       "    <tr>\n",
       "      <th>4</th>\n",
       "      <td>tm84701</td>\n",
       "      <td>The Maltese Falcon</td>\n",
       "      <td>MOVIE</td>\n",
       "      <td>1941</td>\n",
       "      <td>NaN</td>\n",
       "      <td>100</td>\n",
       "      <td>['thriller', 'romance', 'crime']</td>\n",
       "      <td>['US']</td>\n",
       "      <td>NaN</td>\n",
       "      <td>8.0</td>\n",
       "      <td>156603.0</td>\n",
       "      <td>12.788</td>\n",
       "      <td>7.8</td>\n",
       "    </tr>\n",
       "  </tbody>\n",
       "</table>\n",
       "</div>"
      ],
      "text/plain": [
       "         id               title   type  release_year age_certification  \\\n",
       "0  tm155702    The Wizard of Oz  MOVIE          1939                 G   \n",
       "1   tm83648        Citizen Kane  MOVIE          1941                PG   \n",
       "2   tm77588          Casablanca  MOVIE          1942                PG   \n",
       "3   tm82363       The Big Sleep  MOVIE          1946               NaN   \n",
       "4   tm84701  The Maltese Falcon  MOVIE          1941               NaN   \n",
       "\n",
       "   runtime                            genres production_countries  seasons  \\\n",
       "0      102             ['fantasy', 'family']               ['US']      NaN   \n",
       "1      119                         ['drama']               ['US']      NaN   \n",
       "2      102       ['drama', 'romance', 'war']               ['US']      NaN   \n",
       "3      116             ['thriller', 'crime']               ['US']      NaN   \n",
       "4      100  ['thriller', 'romance', 'crime']               ['US']      NaN   \n",
       "\n",
       "   imdb_score  imdb_votes  tmdb_popularity  tmdb_score  \n",
       "0         8.1    389774.0           41.442         7.6  \n",
       "1         8.3    433804.0           14.383         8.0  \n",
       "2         8.5    558849.0           20.087         8.2  \n",
       "3         7.9     84494.0           12.911         7.7  \n",
       "4         8.0    156603.0           12.788         7.8  "
      ]
     },
     "execution_count": 10,
     "metadata": {},
     "output_type": "execute_result"
    }
   ],
   "source": [
    "# Eliminamos las columnas con el id de Imdb ya que no hemos sacado informacion de estas webs - más allá de la ya dada en el dataset\n",
    "# Tampoco vamos a utilizar en este análisis la descripción de las películas\n",
    "# Mantenemos tanto la valoración de imdb como de tndm porque al pertenecer imdb a amazon podría haber datos sesgados\n",
    "\n",
    "data_hbo1 = data_hbo.drop(['imdb_id', 'description'], axis=1).copy()\n",
    "print(\"N columnas:\", data_hbo1.shape[1])\n",
    "data_hbo1.head()"
   ]
  },
  {
   "cell_type": "code",
   "execution_count": 11,
   "metadata": {},
   "outputs": [
    {
     "data": {
      "text/plain": [
       "Index(['id', 'title', 'type', 'description', 'release_year',\n",
       "       'age_certification', 'runtime', 'genres', 'production_countries',\n",
       "       'seasons', 'imdb_id', 'imdb_score', 'imdb_votes', 'tmdb_popularity',\n",
       "       'tmdb_score'],\n",
       "      dtype='object')"
      ]
     },
     "execution_count": 11,
     "metadata": {},
     "output_type": "execute_result"
    }
   ],
   "source": [
    "data_hbo.columns"
   ]
  },
  {
   "cell_type": "code",
   "execution_count": 12,
   "metadata": {},
   "outputs": [
    {
     "name": "stdout",
     "output_type": "stream",
     "text": [
      "Valores unicos: 3294\n",
      "n filas: 3294\n"
     ]
    }
   ],
   "source": [
    "# Comprobamos que la columna id tiene valores únicos para cada título \n",
    "# --> por si lo necesitásemos a la hora de juntar las tablas de todas las plataformas y diferenciar por contenido exclusivo \n",
    "# (por eso no eliminamos esta columna)\n",
    "print(\"Valores unicos:\", data_hbo1['id'].nunique())\n",
    "print(\"n filas:\", data_hbo1['id'].shape[0])"
   ]
  },
  {
   "cell_type": "code",
   "execution_count": 13,
   "metadata": {},
   "outputs": [
    {
     "data": {
      "text/plain": [
       "array(['MOVIE', 'SHOW'], dtype=object)"
      ]
     },
     "execution_count": 13,
     "metadata": {},
     "output_type": "execute_result"
    }
   ],
   "source": [
    "# Comprobamos los valores de la vble type y nos aseguramos que es de tipo string\n",
    "# --> La utilizaremos para diferenciar los títulos\n",
    "data_hbo1['type'] = data_hbo1['type'].astype(str)\n",
    "data_hbo1['type'].unique()"
   ]
  },
  {
   "cell_type": "code",
   "execution_count": 14,
   "metadata": {},
   "outputs": [],
   "source": [
    "#Creamos la columna década (tiene más sentido para clasificar el contenido)\n",
    "\n",
    "decadas = (10 * (data_hbo1['release_year'] // 10)).astype(str) + 's'\n",
    "data_hbo1.insert(4, 'Decada', decadas)\n",
    "\n",
    "#Eliminamos la columna release_year\n",
    "del data_hbo1['release_year']"
   ]
  },
  {
   "cell_type": "code",
   "execution_count": 15,
   "metadata": {},
   "outputs": [
    {
     "data": {
      "text/html": [
       "<div>\n",
       "<style scoped>\n",
       "    .dataframe tbody tr th:only-of-type {\n",
       "        vertical-align: middle;\n",
       "    }\n",
       "\n",
       "    .dataframe tbody tr th {\n",
       "        vertical-align: top;\n",
       "    }\n",
       "\n",
       "    .dataframe thead th {\n",
       "        text-align: right;\n",
       "    }\n",
       "</style>\n",
       "<table border=\"1\" class=\"dataframe\">\n",
       "  <thead>\n",
       "    <tr style=\"text-align: right;\">\n",
       "      <th></th>\n",
       "      <th>id</th>\n",
       "      <th>title</th>\n",
       "      <th>type</th>\n",
       "      <th>Decada</th>\n",
       "      <th>age_certification</th>\n",
       "      <th>runtime</th>\n",
       "      <th>genres</th>\n",
       "      <th>production_countries</th>\n",
       "      <th>seasons</th>\n",
       "      <th>imdb_score</th>\n",
       "      <th>imdb_votes</th>\n",
       "      <th>tmdb_popularity</th>\n",
       "      <th>tmdb_score</th>\n",
       "    </tr>\n",
       "  </thead>\n",
       "  <tbody>\n",
       "    <tr>\n",
       "      <th>0</th>\n",
       "      <td>tm155702</td>\n",
       "      <td>The Wizard of Oz</td>\n",
       "      <td>MOVIE</td>\n",
       "      <td>1930s</td>\n",
       "      <td>G</td>\n",
       "      <td>102</td>\n",
       "      <td>['fantasy', 'family']</td>\n",
       "      <td>['US']</td>\n",
       "      <td>NaN</td>\n",
       "      <td>8.1</td>\n",
       "      <td>389774.0</td>\n",
       "      <td>41.442</td>\n",
       "      <td>7.6</td>\n",
       "    </tr>\n",
       "    <tr>\n",
       "      <th>1</th>\n",
       "      <td>tm83648</td>\n",
       "      <td>Citizen Kane</td>\n",
       "      <td>MOVIE</td>\n",
       "      <td>1940s</td>\n",
       "      <td>PG</td>\n",
       "      <td>119</td>\n",
       "      <td>['drama']</td>\n",
       "      <td>['US']</td>\n",
       "      <td>NaN</td>\n",
       "      <td>8.3</td>\n",
       "      <td>433804.0</td>\n",
       "      <td>14.383</td>\n",
       "      <td>8.0</td>\n",
       "    </tr>\n",
       "    <tr>\n",
       "      <th>2</th>\n",
       "      <td>tm77588</td>\n",
       "      <td>Casablanca</td>\n",
       "      <td>MOVIE</td>\n",
       "      <td>1940s</td>\n",
       "      <td>PG</td>\n",
       "      <td>102</td>\n",
       "      <td>['drama', 'romance', 'war']</td>\n",
       "      <td>['US']</td>\n",
       "      <td>NaN</td>\n",
       "      <td>8.5</td>\n",
       "      <td>558849.0</td>\n",
       "      <td>20.087</td>\n",
       "      <td>8.2</td>\n",
       "    </tr>\n",
       "    <tr>\n",
       "      <th>3</th>\n",
       "      <td>tm82363</td>\n",
       "      <td>The Big Sleep</td>\n",
       "      <td>MOVIE</td>\n",
       "      <td>1940s</td>\n",
       "      <td>NaN</td>\n",
       "      <td>116</td>\n",
       "      <td>['thriller', 'crime']</td>\n",
       "      <td>['US']</td>\n",
       "      <td>NaN</td>\n",
       "      <td>7.9</td>\n",
       "      <td>84494.0</td>\n",
       "      <td>12.911</td>\n",
       "      <td>7.7</td>\n",
       "    </tr>\n",
       "    <tr>\n",
       "      <th>4</th>\n",
       "      <td>tm84701</td>\n",
       "      <td>The Maltese Falcon</td>\n",
       "      <td>MOVIE</td>\n",
       "      <td>1940s</td>\n",
       "      <td>NaN</td>\n",
       "      <td>100</td>\n",
       "      <td>['thriller', 'romance', 'crime']</td>\n",
       "      <td>['US']</td>\n",
       "      <td>NaN</td>\n",
       "      <td>8.0</td>\n",
       "      <td>156603.0</td>\n",
       "      <td>12.788</td>\n",
       "      <td>7.8</td>\n",
       "    </tr>\n",
       "  </tbody>\n",
       "</table>\n",
       "</div>"
      ],
      "text/plain": [
       "         id               title   type Decada age_certification  runtime  \\\n",
       "0  tm155702    The Wizard of Oz  MOVIE  1930s                 G      102   \n",
       "1   tm83648        Citizen Kane  MOVIE  1940s                PG      119   \n",
       "2   tm77588          Casablanca  MOVIE  1940s                PG      102   \n",
       "3   tm82363       The Big Sleep  MOVIE  1940s               NaN      116   \n",
       "4   tm84701  The Maltese Falcon  MOVIE  1940s               NaN      100   \n",
       "\n",
       "                             genres production_countries  seasons  imdb_score  \\\n",
       "0             ['fantasy', 'family']               ['US']      NaN         8.1   \n",
       "1                         ['drama']               ['US']      NaN         8.3   \n",
       "2       ['drama', 'romance', 'war']               ['US']      NaN         8.5   \n",
       "3             ['thriller', 'crime']               ['US']      NaN         7.9   \n",
       "4  ['thriller', 'romance', 'crime']               ['US']      NaN         8.0   \n",
       "\n",
       "   imdb_votes  tmdb_popularity  tmdb_score  \n",
       "0    389774.0           41.442         7.6  \n",
       "1    433804.0           14.383         8.0  \n",
       "2    558849.0           20.087         8.2  \n",
       "3     84494.0           12.911         7.7  \n",
       "4    156603.0           12.788         7.8  "
      ]
     },
     "execution_count": 15,
     "metadata": {},
     "output_type": "execute_result"
    }
   ],
   "source": [
    "data_hbo1.head()"
   ]
  },
  {
   "cell_type": "code",
   "execution_count": 16,
   "metadata": {},
   "outputs": [
    {
     "data": {
      "text/html": [
       "<div>\n",
       "<style scoped>\n",
       "    .dataframe tbody tr th:only-of-type {\n",
       "        vertical-align: middle;\n",
       "    }\n",
       "\n",
       "    .dataframe tbody tr th {\n",
       "        vertical-align: top;\n",
       "    }\n",
       "\n",
       "    .dataframe thead th {\n",
       "        text-align: right;\n",
       "    }\n",
       "</style>\n",
       "<table border=\"1\" class=\"dataframe\">\n",
       "  <thead>\n",
       "    <tr style=\"text-align: right;\">\n",
       "      <th></th>\n",
       "      <th>Decada</th>\n",
       "      <th>total</th>\n",
       "    </tr>\n",
       "  </thead>\n",
       "  <tbody>\n",
       "    <tr>\n",
       "      <th>2010s</th>\n",
       "      <td>1099</td>\n",
       "      <td>33.36</td>\n",
       "    </tr>\n",
       "    <tr>\n",
       "      <th>2000s</th>\n",
       "      <td>630</td>\n",
       "      <td>19.13</td>\n",
       "    </tr>\n",
       "    <tr>\n",
       "      <th>2020s</th>\n",
       "      <td>575</td>\n",
       "      <td>17.46</td>\n",
       "    </tr>\n",
       "    <tr>\n",
       "      <th>1990s</th>\n",
       "      <td>311</td>\n",
       "      <td>9.44</td>\n",
       "    </tr>\n",
       "    <tr>\n",
       "      <th>1980s</th>\n",
       "      <td>159</td>\n",
       "      <td>4.83</td>\n",
       "    </tr>\n",
       "    <tr>\n",
       "      <th>1960s</th>\n",
       "      <td>123</td>\n",
       "      <td>3.73</td>\n",
       "    </tr>\n",
       "    <tr>\n",
       "      <th>1970s</th>\n",
       "      <td>116</td>\n",
       "      <td>3.52</td>\n",
       "    </tr>\n",
       "    <tr>\n",
       "      <th>1950s</th>\n",
       "      <td>96</td>\n",
       "      <td>2.91</td>\n",
       "    </tr>\n",
       "    <tr>\n",
       "      <th>1940s</th>\n",
       "      <td>69</td>\n",
       "      <td>2.09</td>\n",
       "    </tr>\n",
       "    <tr>\n",
       "      <th>1930s</th>\n",
       "      <td>59</td>\n",
       "      <td>1.79</td>\n",
       "    </tr>\n",
       "    <tr>\n",
       "      <th>1920s</th>\n",
       "      <td>37</td>\n",
       "      <td>1.12</td>\n",
       "    </tr>\n",
       "    <tr>\n",
       "      <th>1910s</th>\n",
       "      <td>12</td>\n",
       "      <td>0.36</td>\n",
       "    </tr>\n",
       "    <tr>\n",
       "      <th>1900s</th>\n",
       "      <td>8</td>\n",
       "      <td>0.24</td>\n",
       "    </tr>\n",
       "  </tbody>\n",
       "</table>\n",
       "</div>"
      ],
      "text/plain": [
       "       Decada  total\n",
       "2010s    1099  33.36\n",
       "2000s     630  19.13\n",
       "2020s     575  17.46\n",
       "1990s     311   9.44\n",
       "1980s     159   4.83\n",
       "1960s     123   3.73\n",
       "1970s     116   3.52\n",
       "1950s      96   2.91\n",
       "1940s      69   2.09\n",
       "1930s      59   1.79\n",
       "1920s      37   1.12\n",
       "1910s      12   0.36\n",
       "1900s       8   0.24"
      ]
     },
     "execution_count": 16,
     "metadata": {},
     "output_type": "execute_result"
    }
   ],
   "source": [
    "df_decadas_hbo = pd.DataFrame(data_hbo1['Decada'].value_counts())\n",
    "total = df_decadas_hbo['Decada'].sum()\n",
    "df_decadas_hbo['total'] = [round((i/total)*100, 2) for i in df_decadas_hbo['Decada']]\n",
    "df_decadas_hbo\n",
    "\n",
    "# Tiene sentido que 2000 supere a 2020s ya que solo hay 2 años"
   ]
  },
  {
   "cell_type": "code",
   "execution_count": 17,
   "metadata": {},
   "outputs": [
    {
     "name": "stdout",
     "output_type": "stream",
     "text": [
      "Valores NaN: 1208\n",
      "Valores: 2086\n",
      "Valores Columna Edad: ['G' 'PG' nan 'PG-13' 'R' 'TV-G' 'TV-Y' 'TV-PG' 'TV-Y7' 'NC-17' 'TV-14'\n",
      " 'TV-MA']\n"
     ]
    }
   ],
   "source": [
    "# age_certificacion --> 36% valores nulos\n",
    "print(\"Valores NaN:\", len(data_hbo1[data_hbo1['age_certification'].isna() == True]))\n",
    "print(\"Valores:\", len(data_hbo1[data_hbo1['age_certification'].isna() != True]))\n",
    "#vemos variables para redefinirlas\n",
    "print(\"Valores Columna Edad:\", data_hbo1['age_certification'].unique())"
   ]
  },
  {
   "cell_type": "code",
   "execution_count": 18,
   "metadata": {},
   "outputs": [
    {
     "name": "stdout",
     "output_type": "stream",
     "text": [
      "Valores Columna Edad: [   0    7 9999   13   17]\n"
     ]
    }
   ],
   "source": [
    "# Redefinimos los valores\n",
    "\n",
    "\"\"\"\n",
    "- G:        > 0 - Todas las edades\n",
    "- TV-G:     > 0 publico general \n",
    "- TV-Y:     < 6 años \n",
    "- TV-Y7:    < 7 años \n",
    "- TV-PG:    < Puede ser inadecuado para niños sin la guía de un padre  (lo definimos como para mayores de 13) \n",
    "- PG:       < Puede ser inadecuado para niños sin la guía de un padre  (lo definimos como para mayores de 13) \n",
    "- PG-13:    > 13\n",
    "- TV-14:    > 14 \n",
    "- R:        > 17 - Restringido\n",
    "- NC-17:    > 17 - No se admiten menores de 17\n",
    "- TV-MA     > 17 \n",
    "\n",
    "- Límites:\n",
    "    0 (años) = todos los públicos\n",
    "    7 (años) = + 7 años\n",
    "    13 (años) = + 13 años\n",
    "    17 (años) = + 17 años\n",
    "\n",
    "Tenemos 1208 NaN --> le asignamos el numero 9999 (no podemos eliminarlos)\n",
    "\"\"\"\n",
    "\n",
    "data_hbo1['age_certification'] = np.where(data_hbo1['age_certification'] == \"G\", 0, data_hbo1['age_certification'])\n",
    "data_hbo1['age_certification'] = np.where(data_hbo1['age_certification'] == \"TV-G\", 0, data_hbo1['age_certification'])\n",
    "data_hbo1['age_certification'] = np.where(data_hbo1['age_certification'] == \"TV-Y\", 7, data_hbo1['age_certification'])\n",
    "data_hbo1['age_certification'] = np.where(data_hbo1['age_certification'] == \"TV-Y7\", 7, data_hbo1['age_certification'])\n",
    "data_hbo1['age_certification'] = np.where(data_hbo1['age_certification'] == \"TV-PG\", 7, data_hbo1['age_certification'])\n",
    "data_hbo1['age_certification'] = np.where(data_hbo1['age_certification'] == \"PG\", 7, data_hbo1['age_certification'])\n",
    "data_hbo1['age_certification'] = np.where(data_hbo1['age_certification'] == \"PG-13\", 13, data_hbo1['age_certification'])\n",
    "data_hbo1['age_certification'] = np.where(data_hbo1['age_certification'] == \"TV-14\", 13, data_hbo1['age_certification'])\n",
    "data_hbo1['age_certification'] = np.where(data_hbo1['age_certification'] == \"R\", 17, data_hbo1['age_certification'])\n",
    "data_hbo1['age_certification'] = np.where(data_hbo1['age_certification'] == \"NC-17\", 17, data_hbo1['age_certification'])\n",
    "data_hbo1['age_certification'] = np.where(data_hbo1['age_certification'] == \"TV-MA\", 17, data_hbo1['age_certification'])\n",
    "\n",
    "# Asignamos el numero 9999 a los valores nulos:\n",
    "data_hbo1['age_certification'] = data_hbo1['age_certification'].fillna(9999)\n",
    "\n",
    "print(\"Valores Columna Edad:\", data_hbo1['age_certification'].unique())"
   ]
  },
  {
   "cell_type": "code",
   "execution_count": 19,
   "metadata": {},
   "outputs": [
    {
     "data": {
      "text/html": [
       "<div>\n",
       "<style scoped>\n",
       "    .dataframe tbody tr th:only-of-type {\n",
       "        vertical-align: middle;\n",
       "    }\n",
       "\n",
       "    .dataframe tbody tr th {\n",
       "        vertical-align: top;\n",
       "    }\n",
       "\n",
       "    .dataframe thead th {\n",
       "        text-align: right;\n",
       "    }\n",
       "</style>\n",
       "<table border=\"1\" class=\"dataframe\">\n",
       "  <thead>\n",
       "    <tr style=\"text-align: right;\">\n",
       "      <th></th>\n",
       "      <th>age_certification</th>\n",
       "      <th>total</th>\n",
       "    </tr>\n",
       "  </thead>\n",
       "  <tbody>\n",
       "    <tr>\n",
       "      <th>9999</th>\n",
       "      <td>1208</td>\n",
       "      <td>36.67</td>\n",
       "    </tr>\n",
       "    <tr>\n",
       "      <th>17</th>\n",
       "      <td>917</td>\n",
       "      <td>27.84</td>\n",
       "    </tr>\n",
       "    <tr>\n",
       "      <th>13</th>\n",
       "      <td>616</td>\n",
       "      <td>18.70</td>\n",
       "    </tr>\n",
       "    <tr>\n",
       "      <th>7</th>\n",
       "      <td>450</td>\n",
       "      <td>13.66</td>\n",
       "    </tr>\n",
       "    <tr>\n",
       "      <th>0</th>\n",
       "      <td>103</td>\n",
       "      <td>3.13</td>\n",
       "    </tr>\n",
       "  </tbody>\n",
       "</table>\n",
       "</div>"
      ],
      "text/plain": [
       "      age_certification  total\n",
       "9999               1208  36.67\n",
       "17                  917  27.84\n",
       "13                  616  18.70\n",
       "7                   450  13.66\n",
       "0                   103   3.13"
      ]
     },
     "execution_count": 19,
     "metadata": {},
     "output_type": "execute_result"
    }
   ],
   "source": [
    "df_edades_hbo = pd.DataFrame(data_hbo1['age_certification'].value_counts())\n",
    "total = data_hbo1['age_certification'].value_counts().sum()\n",
    "df_edades_hbo['total'] = [round((i/total)*100, 2) for i in df_edades_hbo['age_certification']]\n",
    "df_edades_hbo"
   ]
  },
  {
   "cell_type": "code",
   "execution_count": 20,
   "metadata": {},
   "outputs": [
    {
     "name": "stdout",
     "output_type": "stream",
     "text": [
      "N NaN en 'genres': 53\n",
      "% NaN en 'genres': 1.61\n"
     ]
    }
   ],
   "source": [
    "#Comprobamos numero de listas vacías en columna genres\n",
    "\n",
    "nan_genres = 0\n",
    "for i in data_hbo1['genres']:\n",
    "    if \"[]\" in i:\n",
    "        nan_genres +=1\n",
    "print(\"N NaN en 'genres':\", nan_genres)\n",
    "print(\"% NaN en 'genres':\", round(nan_genres / data_hbo1.shape[0] *100, 2))"
   ]
  },
  {
   "cell_type": "code",
   "execution_count": 21,
   "metadata": {},
   "outputs": [],
   "source": [
    "# Sacamos todos los generos que incluye la columna para agruparlos\n",
    "\n",
    "otra_lista = []\n",
    "for lista in data_hbo1['genres'].apply(eval):\n",
    "    for x in lista:\n",
    "        otra_lista.append(x)"
   ]
  },
  {
   "cell_type": "code",
   "execution_count": 22,
   "metadata": {},
   "outputs": [
    {
     "name": "stdout",
     "output_type": "stream",
     "text": [
      "generos: ['fantasy' 'family' 'drama' 'romance' 'war' 'thriller' 'crime' 'history'\n",
      " 'animation' 'comedy' 'action' 'western' 'music' 'european' 'horror'\n",
      " 'documentation' 'scifi' 'sport' 'reality']\n",
      "n generos: 19\n"
     ]
    }
   ],
   "source": [
    "# Pasamos a serie para ver valores únicos\n",
    "generos = pd.Series(otra_lista)\n",
    "print(\"generos:\", generos.unique())\n",
    "print(\"n generos:\", len(generos.unique()))"
   ]
  },
  {
   "cell_type": "code",
   "execution_count": 23,
   "metadata": {},
   "outputs": [
    {
     "name": "stdout",
     "output_type": "stream",
     "text": [
      "object\n",
      "['fantasy', 'family']\n",
      "[\n"
     ]
    }
   ],
   "source": [
    "print(data_hbo1['genres'].dtype) # --> object\n",
    "print(data_hbo1['genres'].iloc[0])\n",
    "type(data_hbo1['genres'].iloc[0]) #-->str\n",
    "print(data_hbo1['genres'].iloc[0][0]) #--> interpreta el primer elemento de la lista como el primer caracter\n",
    "\n",
    "#Aunque tiene un formato visualmente de lista --> es un string"
   ]
  },
  {
   "cell_type": "code",
   "execution_count": 24,
   "metadata": {},
   "outputs": [
    {
     "name": "stderr",
     "output_type": "stream",
     "text": [
      "/Library/Frameworks/Python.framework/Versions/3.7/lib/python3.7/site-packages/ipykernel_launcher.py:3: FutureWarning:\n",
      "\n",
      "The default value of regex will change from True to False in a future version. In addition, single character regular expressions will *not* be treated as literal strings when regex=True.\n",
      "\n"
     ]
    },
    {
     "data": {
      "text/plain": [
       "'fantasy'"
      ]
     },
     "execution_count": 24,
     "metadata": {},
     "output_type": "execute_result"
    }
   ],
   "source": [
    "# Eliminamos caracteres y separamos por la coma para poder acceder a cada genero de la lista\n",
    "\n",
    "data_hbo1['genres'] = data_hbo1['genres'].str.replace(\"[\", \"\").str.replace(\"]\",\"\").str.replace(\"'\", \"\").str.replace('\"',\"\")\n",
    "data_hbo1['genres'] = data_hbo1['genres'].str.rsplit(pat=\", \")\n",
    "data_hbo1['genres'][0][0]"
   ]
  },
  {
   "cell_type": "code",
   "execution_count": 25,
   "metadata": {},
   "outputs": [],
   "source": [
    "# Bajo la suposicion de que el genero principal de cada titulo es el primero que aparece, definimos la columna['genres'] por el primer genero que aparezca en su lista\n",
    "\n",
    "data_hbo1['genres'] = [fila[0] for fila in data_hbo1['genres']]"
   ]
  },
  {
   "cell_type": "code",
   "execution_count": 26,
   "metadata": {},
   "outputs": [
    {
     "name": "stdout",
     "output_type": "stream",
     "text": [
      "N generos: 3294\n"
     ]
    },
    {
     "data": {
      "text/html": [
       "<div>\n",
       "<style scoped>\n",
       "    .dataframe tbody tr th:only-of-type {\n",
       "        vertical-align: middle;\n",
       "    }\n",
       "\n",
       "    .dataframe tbody tr th {\n",
       "        vertical-align: top;\n",
       "    }\n",
       "\n",
       "    .dataframe thead th {\n",
       "        text-align: right;\n",
       "    }\n",
       "</style>\n",
       "<table border=\"1\" class=\"dataframe\">\n",
       "  <thead>\n",
       "    <tr style=\"text-align: right;\">\n",
       "      <th></th>\n",
       "      <th>genres</th>\n",
       "      <th>total</th>\n",
       "    </tr>\n",
       "  </thead>\n",
       "  <tbody>\n",
       "    <tr>\n",
       "      <th>drama</th>\n",
       "      <td>746</td>\n",
       "      <td>22.65</td>\n",
       "    </tr>\n",
       "    <tr>\n",
       "      <th>comedy</th>\n",
       "      <td>606</td>\n",
       "      <td>18.40</td>\n",
       "    </tr>\n",
       "    <tr>\n",
       "      <th>documentation</th>\n",
       "      <td>548</td>\n",
       "      <td>16.64</td>\n",
       "    </tr>\n",
       "    <tr>\n",
       "      <th>thriller</th>\n",
       "      <td>262</td>\n",
       "      <td>7.95</td>\n",
       "    </tr>\n",
       "    <tr>\n",
       "      <th>scifi</th>\n",
       "      <td>191</td>\n",
       "      <td>5.80</td>\n",
       "    </tr>\n",
       "    <tr>\n",
       "      <th>fantasy</th>\n",
       "      <td>162</td>\n",
       "      <td>4.92</td>\n",
       "    </tr>\n",
       "    <tr>\n",
       "      <th>romance</th>\n",
       "      <td>139</td>\n",
       "      <td>4.22</td>\n",
       "    </tr>\n",
       "    <tr>\n",
       "      <th>action</th>\n",
       "      <td>121</td>\n",
       "      <td>3.67</td>\n",
       "    </tr>\n",
       "    <tr>\n",
       "      <th>crime</th>\n",
       "      <td>110</td>\n",
       "      <td>3.34</td>\n",
       "    </tr>\n",
       "    <tr>\n",
       "      <th>animation</th>\n",
       "      <td>99</td>\n",
       "      <td>3.01</td>\n",
       "    </tr>\n",
       "    <tr>\n",
       "      <th>horror</th>\n",
       "      <td>69</td>\n",
       "      <td>2.09</td>\n",
       "    </tr>\n",
       "    <tr>\n",
       "      <th></th>\n",
       "      <td>53</td>\n",
       "      <td>1.61</td>\n",
       "    </tr>\n",
       "    <tr>\n",
       "      <th>reality</th>\n",
       "      <td>53</td>\n",
       "      <td>1.61</td>\n",
       "    </tr>\n",
       "    <tr>\n",
       "      <th>western</th>\n",
       "      <td>38</td>\n",
       "      <td>1.15</td>\n",
       "    </tr>\n",
       "    <tr>\n",
       "      <th>music</th>\n",
       "      <td>33</td>\n",
       "      <td>1.00</td>\n",
       "    </tr>\n",
       "    <tr>\n",
       "      <th>family</th>\n",
       "      <td>23</td>\n",
       "      <td>0.70</td>\n",
       "    </tr>\n",
       "    <tr>\n",
       "      <th>history</th>\n",
       "      <td>22</td>\n",
       "      <td>0.67</td>\n",
       "    </tr>\n",
       "    <tr>\n",
       "      <th>war</th>\n",
       "      <td>14</td>\n",
       "      <td>0.43</td>\n",
       "    </tr>\n",
       "    <tr>\n",
       "      <th>sport</th>\n",
       "      <td>3</td>\n",
       "      <td>0.09</td>\n",
       "    </tr>\n",
       "    <tr>\n",
       "      <th>european</th>\n",
       "      <td>2</td>\n",
       "      <td>0.06</td>\n",
       "    </tr>\n",
       "  </tbody>\n",
       "</table>\n",
       "</div>"
      ],
      "text/plain": [
       "               genres  total\n",
       "drama             746  22.65\n",
       "comedy            606  18.40\n",
       "documentation     548  16.64\n",
       "thriller          262   7.95\n",
       "scifi             191   5.80\n",
       "fantasy           162   4.92\n",
       "romance           139   4.22\n",
       "action            121   3.67\n",
       "crime             110   3.34\n",
       "animation          99   3.01\n",
       "horror             69   2.09\n",
       "                   53   1.61\n",
       "reality            53   1.61\n",
       "western            38   1.15\n",
       "music              33   1.00\n",
       "family             23   0.70\n",
       "history            22   0.67\n",
       "war                14   0.43\n",
       "sport               3   0.09\n",
       "european            2   0.06"
      ]
     },
     "execution_count": 26,
     "metadata": {},
     "output_type": "execute_result"
    }
   ],
   "source": [
    "df_generos_hbo = pd.DataFrame(data_hbo1['genres'].value_counts())\n",
    "total = df_generos_hbo['genres'].sum()\n",
    "print(\"N generos:\", total)\n",
    "df_generos_hbo['total'] = [round((i/total)*100, 2) for i in df_generos_hbo['genres']]\n",
    "df_generos_hbo"
   ]
  },
  {
   "cell_type": "code",
   "execution_count": 27,
   "metadata": {},
   "outputs": [
    {
     "data": {
      "text/plain": [
       "drama            746\n",
       "comedy           606\n",
       "documentation    548\n",
       "thriller         262\n",
       "scifi            191\n",
       "fantasy          162\n",
       "romance          139\n",
       "action           121\n",
       "crime            110\n",
       "animation         99\n",
       "horror            69\n",
       "                  53\n",
       "reality           53\n",
       "western           38\n",
       "music             33\n",
       "family            23\n",
       "history           22\n",
       "war               14\n",
       "sport              3\n",
       "european           2\n",
       "Name: genres, dtype: object"
      ]
     },
     "execution_count": 27,
     "metadata": {},
     "output_type": "execute_result"
    }
   ],
   "source": [
    "df_generos_hbo['genres'].astype(str)"
   ]
  },
  {
   "cell_type": "code",
   "execution_count": 28,
   "metadata": {},
   "outputs": [
    {
     "name": "stdout",
     "output_type": "stream",
     "text": [
      "N NaN en 'production_countries': 110\n",
      "% NaN en 'production_countries': 3.34\n"
     ]
    }
   ],
   "source": [
    "#Comprobamos numero de listas vacías en columna production countries\n",
    "\n",
    "nan_countries = 0\n",
    "for i in data_hbo1['production_countries']:\n",
    "    if \"[]\" in i:\n",
    "        nan_countries +=1\n",
    "print(\"N NaN en 'production_countries':\", nan_countries)\n",
    "print(\"% NaN en 'production_countries':\", round(nan_countries / data_hbo1.shape[0] *100, 2))"
   ]
  },
  {
   "cell_type": "code",
   "execution_count": 29,
   "metadata": {},
   "outputs": [],
   "source": [
    "# Sacamos todos los países que incluye la columna para agruparlos\n",
    "\n",
    "otra_lista_paises = []\n",
    "for lista in data_hbo1['production_countries'].apply(eval):\n",
    "    for x in lista:\n",
    "        otra_lista_paises.append(x)"
   ]
  },
  {
   "cell_type": "code",
   "execution_count": 30,
   "metadata": {},
   "outputs": [
    {
     "name": "stdout",
     "output_type": "stream",
     "text": [
      "paises: ['US' 'JP' 'GB' 'DE' 'IT' 'FR' 'SE' 'SU' 'CA' 'XG' 'CH' 'DK' 'XC' 'DZ'\n",
      " 'AU' 'IR' 'BE' 'IN' 'ES' 'BR' 'PL' 'SN' 'HK' 'MX' 'AT' 'NO' 'IL' 'NL'\n",
      " 'CN' 'IE' 'NZ' 'AR' 'XX' 'KR' 'IS' 'CU' 'PT' 'CZ' 'HU' 'AO' 'ZA' 'RO'\n",
      " 'FI' 'DO' 'EC' 'CO' 'AE' 'TR' 'RW' 'GT' 'CL' 'TW' 'PK' 'EG' 'ID' 'GR'\n",
      " 'AF' 'SG' 'LU' 'UY' 'RU' 'CY' 'VE' 'PY' 'PR' 'SY' 'HR' 'MY' 'BO' 'PE'\n",
      " 'PH' 'NG' 'PA']\n",
      "n paises: 73\n"
     ]
    }
   ],
   "source": [
    "# Pasamos a serie para ver valores únicos\n",
    "paises = pd.Series(otra_lista_paises)\n",
    "print(\"paises:\", paises.unique())\n",
    "print(\"n paises:\", len(paises.unique()))"
   ]
  },
  {
   "cell_type": "code",
   "execution_count": 31,
   "metadata": {},
   "outputs": [
    {
     "data": {
      "text/plain": [
       "\"['US']\""
      ]
     },
     "execution_count": 31,
     "metadata": {},
     "output_type": "execute_result"
    }
   ],
   "source": [
    "data_hbo1['production_countries'][0]"
   ]
  },
  {
   "cell_type": "code",
   "execution_count": 32,
   "metadata": {},
   "outputs": [
    {
     "name": "stderr",
     "output_type": "stream",
     "text": [
      "/Library/Frameworks/Python.framework/Versions/3.7/lib/python3.7/site-packages/ipykernel_launcher.py:2: FutureWarning:\n",
      "\n",
      "The default value of regex will change from True to False in a future version. In addition, single character regular expressions will *not* be treated as literal strings when regex=True.\n",
      "\n"
     ]
    },
    {
     "data": {
      "text/plain": [
       "'US'"
      ]
     },
     "execution_count": 32,
     "metadata": {},
     "output_type": "execute_result"
    }
   ],
   "source": [
    "#Eliminamos corchetes y comillas\n",
    "data_hbo1['production_countries'] = data_hbo1['production_countries'].str.replace(\"[\", \"\").str.replace(\"]\",\"\").str.replace(\"'\",\"\").str.replace('\"',\"\")\n",
    "data_hbo1['production_countries'][0]"
   ]
  },
  {
   "cell_type": "code",
   "execution_count": 33,
   "metadata": {},
   "outputs": [
    {
     "name": "stdout",
     "output_type": "stream",
     "text": [
      "N paises produccion: 3294\n"
     ]
    },
    {
     "data": {
      "text/html": [
       "<div>\n",
       "<style scoped>\n",
       "    .dataframe tbody tr th:only-of-type {\n",
       "        vertical-align: middle;\n",
       "    }\n",
       "\n",
       "    .dataframe tbody tr th {\n",
       "        vertical-align: top;\n",
       "    }\n",
       "\n",
       "    .dataframe thead th {\n",
       "        text-align: right;\n",
       "    }\n",
       "</style>\n",
       "<table border=\"1\" class=\"dataframe\">\n",
       "  <thead>\n",
       "    <tr style=\"text-align: right;\">\n",
       "      <th></th>\n",
       "      <th>production_countries</th>\n",
       "      <th>total</th>\n",
       "    </tr>\n",
       "  </thead>\n",
       "  <tbody>\n",
       "    <tr>\n",
       "      <th>US</th>\n",
       "      <td>2077</td>\n",
       "      <td>63.05</td>\n",
       "    </tr>\n",
       "    <tr>\n",
       "      <th>GB</th>\n",
       "      <td>147</td>\n",
       "      <td>4.46</td>\n",
       "    </tr>\n",
       "    <tr>\n",
       "      <th>JP</th>\n",
       "      <td>129</td>\n",
       "      <td>3.92</td>\n",
       "    </tr>\n",
       "    <tr>\n",
       "      <th></th>\n",
       "      <td>110</td>\n",
       "      <td>3.34</td>\n",
       "    </tr>\n",
       "    <tr>\n",
       "      <th>GB, US</th>\n",
       "      <td>64</td>\n",
       "      <td>1.94</td>\n",
       "    </tr>\n",
       "    <tr>\n",
       "      <th>...</th>\n",
       "      <td>...</td>\n",
       "      <td>...</td>\n",
       "    </tr>\n",
       "    <tr>\n",
       "      <th>AU, US, DE</th>\n",
       "      <td>1</td>\n",
       "      <td>0.03</td>\n",
       "    </tr>\n",
       "    <tr>\n",
       "      <th>IT, US, GB, RO</th>\n",
       "      <td>1</td>\n",
       "      <td>0.03</td>\n",
       "    </tr>\n",
       "    <tr>\n",
       "      <th>DE, GB, CZ</th>\n",
       "      <td>1</td>\n",
       "      <td>0.03</td>\n",
       "    </tr>\n",
       "    <tr>\n",
       "      <th>US, GB, FR, DE</th>\n",
       "      <td>1</td>\n",
       "      <td>0.03</td>\n",
       "    </tr>\n",
       "    <tr>\n",
       "      <th>PA</th>\n",
       "      <td>1</td>\n",
       "      <td>0.03</td>\n",
       "    </tr>\n",
       "  </tbody>\n",
       "</table>\n",
       "<p>268 rows × 2 columns</p>\n",
       "</div>"
      ],
      "text/plain": [
       "                production_countries  total\n",
       "US                              2077  63.05\n",
       "GB                               147   4.46\n",
       "JP                               129   3.92\n",
       "                                 110   3.34\n",
       "GB, US                            64   1.94\n",
       "...                              ...    ...\n",
       "AU, US, DE                         1   0.03\n",
       "IT, US, GB, RO                     1   0.03\n",
       "DE, GB, CZ                         1   0.03\n",
       "US, GB, FR, DE                     1   0.03\n",
       "PA                                 1   0.03\n",
       "\n",
       "[268 rows x 2 columns]"
      ]
     },
     "execution_count": 33,
     "metadata": {},
     "output_type": "execute_result"
    }
   ],
   "source": [
    "df_paises_hbo = pd.DataFrame(data_hbo1['production_countries'].value_counts())\n",
    "total_paises = df_paises_hbo['production_countries'].sum()\n",
    "print(\"N paises produccion:\", total_paises)\n",
    "df_paises_hbo['total'] = [round((i/total_paises)*100, 2) for i in df_paises_hbo['production_countries']]\n",
    "df_paises_hbo"
   ]
  },
  {
   "cell_type": "code",
   "execution_count": 34,
   "metadata": {},
   "outputs": [
    {
     "name": "stdout",
     "output_type": "stream",
     "text": [
      "Peliculas con varios paises: 488\n",
      "Porcentaje: 14.81\n"
     ]
    }
   ],
   "source": [
    "n_varios_paises = 0\n",
    "\n",
    "for fila in data_hbo1['production_countries']:\n",
    "    if len(fila) > 2:\n",
    "        n_varios_paises += 1\n",
    "        \n",
    "print(\"Peliculas con varios paises:\", n_varios_paises)\n",
    "perc_varios_paises = round(n_varios_paises/total_paises *100, 2)\n",
    "print(\"Porcentaje:\", perc_varios_paises)"
   ]
  },
  {
   "cell_type": "code",
   "execution_count": 35,
   "metadata": {},
   "outputs": [],
   "source": [
    "# Como, en algunos casos, hay más de un pais por titulo, \n",
    "# hacemos como con la columna genero, presuponemos que el principal es el primero de la fila\n",
    "data_hbo1['production_countries'] = [i[:2] for i in data_hbo1['production_countries'] if int(len(data_hbo1['production_countries']) > 2)]"
   ]
  },
  {
   "cell_type": "code",
   "execution_count": 36,
   "metadata": {},
   "outputs": [
    {
     "name": "stdout",
     "output_type": "stream",
     "text": [
      "N paises produccion: 3294\n"
     ]
    },
    {
     "data": {
      "text/html": [
       "<div>\n",
       "<style scoped>\n",
       "    .dataframe tbody tr th:only-of-type {\n",
       "        vertical-align: middle;\n",
       "    }\n",
       "\n",
       "    .dataframe tbody tr th {\n",
       "        vertical-align: top;\n",
       "    }\n",
       "\n",
       "    .dataframe thead th {\n",
       "        text-align: right;\n",
       "    }\n",
       "</style>\n",
       "<table border=\"1\" class=\"dataframe\">\n",
       "  <thead>\n",
       "    <tr style=\"text-align: right;\">\n",
       "      <th></th>\n",
       "      <th>production_countries</th>\n",
       "      <th>total</th>\n",
       "    </tr>\n",
       "  </thead>\n",
       "  <tbody>\n",
       "    <tr>\n",
       "      <th>US</th>\n",
       "      <td>2214</td>\n",
       "      <td>67.21</td>\n",
       "    </tr>\n",
       "    <tr>\n",
       "      <th>GB</th>\n",
       "      <td>240</td>\n",
       "      <td>7.29</td>\n",
       "    </tr>\n",
       "    <tr>\n",
       "      <th>JP</th>\n",
       "      <td>144</td>\n",
       "      <td>4.37</td>\n",
       "    </tr>\n",
       "    <tr>\n",
       "      <th>FR</th>\n",
       "      <td>115</td>\n",
       "      <td>3.49</td>\n",
       "    </tr>\n",
       "    <tr>\n",
       "      <th></th>\n",
       "      <td>110</td>\n",
       "      <td>3.34</td>\n",
       "    </tr>\n",
       "    <tr>\n",
       "      <th>...</th>\n",
       "      <td>...</td>\n",
       "      <td>...</td>\n",
       "    </tr>\n",
       "    <tr>\n",
       "      <th>AE</th>\n",
       "      <td>1</td>\n",
       "      <td>0.03</td>\n",
       "    </tr>\n",
       "    <tr>\n",
       "      <th>LU</th>\n",
       "      <td>1</td>\n",
       "      <td>0.03</td>\n",
       "    </tr>\n",
       "    <tr>\n",
       "      <th>AF</th>\n",
       "      <td>1</td>\n",
       "      <td>0.03</td>\n",
       "    </tr>\n",
       "    <tr>\n",
       "      <th>GR</th>\n",
       "      <td>1</td>\n",
       "      <td>0.03</td>\n",
       "    </tr>\n",
       "    <tr>\n",
       "      <th>PA</th>\n",
       "      <td>1</td>\n",
       "      <td>0.03</td>\n",
       "    </tr>\n",
       "  </tbody>\n",
       "</table>\n",
       "<p>61 rows × 2 columns</p>\n",
       "</div>"
      ],
      "text/plain": [
       "    production_countries  total\n",
       "US                  2214  67.21\n",
       "GB                   240   7.29\n",
       "JP                   144   4.37\n",
       "FR                   115   3.49\n",
       "                     110   3.34\n",
       "..                   ...    ...\n",
       "AE                     1   0.03\n",
       "LU                     1   0.03\n",
       "AF                     1   0.03\n",
       "GR                     1   0.03\n",
       "PA                     1   0.03\n",
       "\n",
       "[61 rows x 2 columns]"
      ]
     },
     "execution_count": 36,
     "metadata": {},
     "output_type": "execute_result"
    }
   ],
   "source": [
    "df_paises_un_hbo = pd.DataFrame(data_hbo1['production_countries'].value_counts())\n",
    "total_un_paises = df_paises_un_hbo['production_countries'].sum()\n",
    "print(\"N paises produccion:\", total_un_paises)\n",
    "df_paises_un_hbo['total'] = [round((i/total_paises)*100, 2) for i in df_paises_un_hbo['production_countries']]\n",
    "df_paises_un_hbo"
   ]
  },
  {
   "cell_type": "code",
   "execution_count": 37,
   "metadata": {},
   "outputs": [
    {
     "name": "stdout",
     "output_type": "stream",
     "text": [
      "['US' 'JP' 'GB' 'DE' 'IT' 'FR' 'SE' 'SU' '' 'CH' 'DK' 'CA' 'XC' 'AU' 'IN'\n",
      " 'ES' 'DZ' 'BR' 'PL' 'BE' 'SN' 'MX' 'AT' 'NO' 'HK' 'AR' 'XX' 'KR' 'CN'\n",
      " 'NZ' 'NL' 'PT' 'IE' 'ZA' 'CZ' 'RO' 'EC' 'AE' 'TR' 'RW' 'CL' 'EG' 'ID'\n",
      " 'HU' 'GR' 'AF' 'SG' 'LU' 'IL' 'CU' 'CO' 'RU' 'VE' 'PR' 'TW' 'HR' 'BO'\n",
      " 'PE' 'DO' 'PH' 'PA']\n",
      "61\n"
     ]
    }
   ],
   "source": [
    "# Sacamos el los paises y el n paises final\n",
    "print(data_hbo1['production_countries'].unique())\n",
    "print(data_hbo1['production_countries'].nunique())"
   ]
  },
  {
   "cell_type": "code",
   "execution_count": 38,
   "metadata": {},
   "outputs": [
    {
     "name": "stdout",
     "output_type": "stream",
     "text": [
      "Valores NaN: 0\n"
     ]
    }
   ],
   "source": [
    "# Los nulos de la columna season significa que son 1 película o que tienen solo 1 temporada, por lo que los cambiamos a 1\n",
    "# A tener en cuenta en el análisis --> no sabemos si la columna representa las temporadas existestes del título, \n",
    "# o sólo las que están disponibles en la plataforma\n",
    "data_hbo1['seasons'] = data_hbo1['seasons'].fillna(1)\n",
    "data_hbo1['seasons'] = data_hbo1['seasons'].astype(int)\n",
    "print(\"Valores NaN:\", len(data_hbo1[data_hbo1['seasons'].isna() == True]))"
   ]
  },
  {
   "cell_type": "code",
   "execution_count": 39,
   "metadata": {},
   "outputs": [
    {
     "name": "stdout",
     "output_type": "stream",
     "text": [
      "372\n"
     ]
    }
   ],
   "source": [
    "# comprobamos cuantos votos nulos, tambien tienen puntuaciones nulas\n",
    "print(len(data_hbo1[data_hbo1['imdb_score'].isna() == True]['imdb_votes']))"
   ]
  },
  {
   "cell_type": "code",
   "execution_count": 40,
   "metadata": {},
   "outputs": [
    {
     "data": {
      "text/plain": [
       "0"
      ]
     },
     "execution_count": 40,
     "metadata": {},
     "output_type": "execute_result"
    }
   ],
   "source": [
    "# columna imdb_score --> 372 nulos: \n",
    "# Al definir la opinion de los usuarios sobre cada título, no tiene sentido rellenar con un estadístico -con los datos que tenemos ahora mismo\n",
    "# Intentamos rellenar con la columna de tmdb\n",
    "\n",
    "data_hbo1['imdb_score'] = data_hbo1['imdb_score'].fillna(data_hbo1['tmdb_popularity'])\n",
    "len(data_hbo1[data_hbo1['imdb_score'].isna() == True])\n",
    "\n",
    "# Quedan 13 datos NaN por rellenar --> rellenamos con 0\n",
    "data_hbo1['imdb_score'] = data_hbo1['imdb_score'].fillna(0)\n",
    "data_hbo1['imdb_score'] = data_hbo1['imdb_score'].astype(float)\n",
    "len(data_hbo1[data_hbo1['imdb_score'].isna() == True])"
   ]
  },
  {
   "cell_type": "markdown",
   "metadata": {},
   "source": [
    "Al final no voy a incluir las columnas tmdb popularity, var_votos ni imdb votos en el analisis\n",
    "--dejo las celdas por si cambiase de opinion "
   ]
  },
  {
   "cell_type": "code",
   "execution_count": 41,
   "metadata": {},
   "outputs": [
    {
     "name": "stdout",
     "output_type": "stream",
     "text": [
      "Rellenamos null con la media de votos: 64618.34764685675\n"
     ]
    }
   ],
   "source": [
    "\n",
    "#columna ibdb_votes --> 383 nulos (todos los NaN de imdb_score, son también NaN en esta variable)\n",
    "# Como se trata del número de votos de una película -medida de cantidad-, rellenamos con la media de votos\n",
    "\n",
    "print('Rellenamos null con la media de votos:', data_hbo1['imdb_votes'].mean())\n",
    "data_hbo1['imdb_votes'] = data_hbo1['imdb_votes'].fillna(data_hbo1['imdb_votes'].mean())\n",
    "data_hbo1['imdb_votes'] = data_hbo1['imdb_votes'].astype(int)\n"
   ]
  },
  {
   "cell_type": "code",
   "execution_count": 42,
   "metadata": {},
   "outputs": [],
   "source": [
    "\n",
    "# Creamos columna con la variacion, respecto a la media, del numero de votos:\n",
    "var_votos = [round(i / data_hbo1['imdb_votes'].mean(), 2) for i in data_hbo1['imdb_votes']]\n",
    "data_hbo1.insert(11, 'Var_Votos', var_votos)\n"
   ]
  },
  {
   "cell_type": "code",
   "execution_count": 43,
   "metadata": {},
   "outputs": [],
   "source": [
    "# columna tmdb_score --> 268 nulos: \n",
    "# Al definir la opinion de los usuarios sobre cada título, no tiene sentido rellenar con un estadístico\n",
    "# No le asignamos la puntuación de imdb porque el objetivo de mantener la columna de tmdb es, en caso de sesgo, poder comprobar puntuacion de tmdb\n",
    "\n",
    "data_hbo1['tmdb_score'] = data_hbo1['tmdb_score'].fillna(0)\n",
    "data_hbo1['tmdb_score'] = data_hbo1['tmdb_score'].astype(float)"
   ]
  },
  {
   "cell_type": "code",
   "execution_count": 44,
   "metadata": {},
   "outputs": [],
   "source": [
    "\n",
    "# columna tmdb_popularity --> 33 nulos: \n",
    "# La popularidad es una métrica (DIARIA) creada en función del comportamiento de los usuarios con cada título\n",
    "# No se considera rellenar por estadístico, ya que se trata de una métrica que engloba diferentes vbles -y muchas de ellas representan opiniones subjetivas \n",
    "# Le designamos el valor 6666 para saber que esos datos son los nulos\n",
    "data_hbo1['tmdb_popularity'] = data_hbo1['tmdb_popularity'].fillna(0)\n",
    "data_hbo1['tmdb_popularity'] = data_hbo1['tmdb_popularity'].astype(float)\n"
   ]
  },
  {
   "cell_type": "code",
   "execution_count": 45,
   "metadata": {},
   "outputs": [],
   "source": [
    "data_hbo2 = data_hbo1.drop(['imdb_votes','Var_Votos', 'tmdb_popularity'], axis=1).copy()"
   ]
  },
  {
   "cell_type": "code",
   "execution_count": 46,
   "metadata": {},
   "outputs": [],
   "source": [
    "# renombramos las columnas\n",
    "\n",
    "data_hbo2.columns = ['ID', 'Titulo', 'Tipo', 'Decada', 'Edad_Recom', 'Duracion', 'Generos', 'Paises_Prod', 'Temporadas', 'Imdb_Puntos', 'Tmdb_Puntos']"
   ]
  },
  {
   "cell_type": "code",
   "execution_count": 47,
   "metadata": {},
   "outputs": [
    {
     "data": {
      "text/plain": [
       "Index(['ID', 'Titulo', 'Tipo', 'Decada', 'Edad_Recom', 'Duracion', 'Generos',\n",
       "       'Paises_Prod', 'Temporadas', 'Imdb_Puntos', 'Tmdb_Puntos'],\n",
       "      dtype='object')"
      ]
     },
     "execution_count": 47,
     "metadata": {},
     "output_type": "execute_result"
    }
   ],
   "source": [
    "data_hbo2.columns"
   ]
  },
  {
   "cell_type": "code",
   "execution_count": 48,
   "metadata": {},
   "outputs": [
    {
     "name": "stdout",
     "output_type": "stream",
     "text": [
      "Filas, columnas: (3294, 11)\n",
      "<class 'pandas.core.frame.DataFrame'>\n",
      "RangeIndex: 3294 entries, 0 to 3293\n",
      "Data columns (total 11 columns):\n",
      " #   Column       Non-Null Count  Dtype  \n",
      "---  ------       --------------  -----  \n",
      " 0   ID           3294 non-null   object \n",
      " 1   Titulo       3294 non-null   object \n",
      " 2   Tipo         3294 non-null   object \n",
      " 3   Decada       3294 non-null   object \n",
      " 4   Edad_Recom   3294 non-null   int64  \n",
      " 5   Duracion     3294 non-null   int64  \n",
      " 6   Generos      3294 non-null   object \n",
      " 7   Paises_Prod  3294 non-null   object \n",
      " 8   Temporadas   3294 non-null   int64  \n",
      " 9   Imdb_Puntos  3294 non-null   float64\n",
      " 10  Tmdb_Puntos  3294 non-null   float64\n",
      "dtypes: float64(2), int64(3), object(6)\n",
      "memory usage: 283.2+ KB\n"
     ]
    }
   ],
   "source": [
    "# recordamos tipo de cada columna y nos aseguramos que ya no hay nulos\n",
    "print(\"Filas, columnas:\", data_hbo2.shape)\n",
    "data_hbo2.info()"
   ]
  },
  {
   "cell_type": "code",
   "execution_count": 49,
   "metadata": {},
   "outputs": [
    {
     "name": "stdout",
     "output_type": "stream",
     "text": [
      "0\n",
      "0.0\n"
     ]
    }
   ],
   "source": [
    "# No hemos eliminado ninguna fila -> deberia coincidir\n",
    "n_titulos_sacados = data_hbo.shape[0] - data_hbo2.shape[0]\n",
    "print(n_titulos_sacados)\n",
    "perc_n_titulos_sacados = n_titulos_sacados / data_hbo.shape[0]\n",
    "print(round(perc_n_titulos_sacados*100, 2))"
   ]
  },
  {
   "cell_type": "code",
   "execution_count": 50,
   "metadata": {},
   "outputs": [
    {
     "name": "stdout",
     "output_type": "stream",
     "text": [
      "n_filas_series: 756\n"
     ]
    }
   ],
   "source": [
    "#Separamos el dataframe en dos:\n",
    "# Por un lado analizaremos el contenido de series y por otro el de películas\n",
    "\n",
    "hbo_series_df = data_hbo2[data_hbo2['Tipo']=='SHOW']\n",
    "hbo_series_df = hbo_series_df.reset_index(drop = True)\n",
    "print(\"n_filas_series:\", hbo_series_df.shape[0])"
   ]
  },
  {
   "cell_type": "code",
   "execution_count": 51,
   "metadata": {},
   "outputs": [],
   "source": [
    "# Eliminamos la columna de tipo porque ya no nos interesa\n",
    "del hbo_series_df['Tipo']"
   ]
  },
  {
   "cell_type": "code",
   "execution_count": 52,
   "metadata": {},
   "outputs": [
    {
     "data": {
      "text/html": [
       "<div>\n",
       "<style scoped>\n",
       "    .dataframe tbody tr th:only-of-type {\n",
       "        vertical-align: middle;\n",
       "    }\n",
       "\n",
       "    .dataframe tbody tr th {\n",
       "        vertical-align: top;\n",
       "    }\n",
       "\n",
       "    .dataframe thead th {\n",
       "        text-align: right;\n",
       "    }\n",
       "</style>\n",
       "<table border=\"1\" class=\"dataframe\">\n",
       "  <thead>\n",
       "    <tr style=\"text-align: right;\">\n",
       "      <th></th>\n",
       "      <th>ID</th>\n",
       "      <th>Titulo</th>\n",
       "      <th>Decada</th>\n",
       "      <th>Edad_Recom</th>\n",
       "      <th>Duracion</th>\n",
       "      <th>Generos</th>\n",
       "      <th>Paises_Prod</th>\n",
       "      <th>Temporadas</th>\n",
       "      <th>Imdb_Puntos</th>\n",
       "      <th>Tmdb_Puntos</th>\n",
       "    </tr>\n",
       "  </thead>\n",
       "  <tbody>\n",
       "    <tr>\n",
       "      <th>0</th>\n",
       "      <td>ts225761</td>\n",
       "      <td>Tom and Jerry</td>\n",
       "      <td>1940s</td>\n",
       "      <td>9999</td>\n",
       "      <td>8</td>\n",
       "      <td>animation</td>\n",
       "      <td>US</td>\n",
       "      <td>16</td>\n",
       "      <td>7.7</td>\n",
       "      <td>10.0</td>\n",
       "    </tr>\n",
       "    <tr>\n",
       "      <th>1</th>\n",
       "      <td>ts22230</td>\n",
       "      <td>Scooby-Doo, Where Are You!</td>\n",
       "      <td>1960s</td>\n",
       "      <td>0</td>\n",
       "      <td>23</td>\n",
       "      <td>animation</td>\n",
       "      <td>US</td>\n",
       "      <td>3</td>\n",
       "      <td>7.9</td>\n",
       "      <td>7.9</td>\n",
       "    </tr>\n",
       "    <tr>\n",
       "      <th>2</th>\n",
       "      <td>ts15523</td>\n",
       "      <td>The Flintstones</td>\n",
       "      <td>1960s</td>\n",
       "      <td>0</td>\n",
       "      <td>29</td>\n",
       "      <td>family</td>\n",
       "      <td>US</td>\n",
       "      <td>6</td>\n",
       "      <td>7.5</td>\n",
       "      <td>7.4</td>\n",
       "    </tr>\n",
       "    <tr>\n",
       "      <th>3</th>\n",
       "      <td>ts22243</td>\n",
       "      <td>Sesame Street</td>\n",
       "      <td>1960s</td>\n",
       "      <td>7</td>\n",
       "      <td>51</td>\n",
       "      <td>family</td>\n",
       "      <td>US</td>\n",
       "      <td>52</td>\n",
       "      <td>8.1</td>\n",
       "      <td>7.1</td>\n",
       "    </tr>\n",
       "    <tr>\n",
       "      <th>4</th>\n",
       "      <td>ts20028</td>\n",
       "      <td>The Jetsons</td>\n",
       "      <td>1960s</td>\n",
       "      <td>0</td>\n",
       "      <td>30</td>\n",
       "      <td>animation</td>\n",
       "      <td>US</td>\n",
       "      <td>3</td>\n",
       "      <td>7.0</td>\n",
       "      <td>7.3</td>\n",
       "    </tr>\n",
       "  </tbody>\n",
       "</table>\n",
       "</div>"
      ],
      "text/plain": [
       "         ID                      Titulo Decada  Edad_Recom  Duracion  \\\n",
       "0  ts225761               Tom and Jerry  1940s        9999         8   \n",
       "1   ts22230  Scooby-Doo, Where Are You!  1960s           0        23   \n",
       "2   ts15523             The Flintstones  1960s           0        29   \n",
       "3   ts22243               Sesame Street  1960s           7        51   \n",
       "4   ts20028                 The Jetsons  1960s           0        30   \n",
       "\n",
       "     Generos Paises_Prod  Temporadas  Imdb_Puntos  Tmdb_Puntos  \n",
       "0  animation          US          16          7.7         10.0  \n",
       "1  animation          US           3          7.9          7.9  \n",
       "2     family          US           6          7.5          7.4  \n",
       "3     family          US          52          8.1          7.1  \n",
       "4  animation          US           3          7.0          7.3  "
      ]
     },
     "execution_count": 52,
     "metadata": {},
     "output_type": "execute_result"
    }
   ],
   "source": [
    "hbo_series_df.head()"
   ]
  },
  {
   "cell_type": "code",
   "execution_count": 53,
   "metadata": {},
   "outputs": [
    {
     "data": {
      "text/html": [
       "<div>\n",
       "<style scoped>\n",
       "    .dataframe tbody tr th:only-of-type {\n",
       "        vertical-align: middle;\n",
       "    }\n",
       "\n",
       "    .dataframe tbody tr th {\n",
       "        vertical-align: top;\n",
       "    }\n",
       "\n",
       "    .dataframe thead th {\n",
       "        text-align: right;\n",
       "    }\n",
       "</style>\n",
       "<table border=\"1\" class=\"dataframe\">\n",
       "  <thead>\n",
       "    <tr style=\"text-align: right;\">\n",
       "      <th></th>\n",
       "      <th>ID</th>\n",
       "      <th>Titulo</th>\n",
       "      <th>Decada</th>\n",
       "      <th>Edad_Recom</th>\n",
       "      <th>Duracion</th>\n",
       "      <th>Generos</th>\n",
       "      <th>Paises_Prod</th>\n",
       "      <th>Temporadas</th>\n",
       "      <th>Imdb_Puntos</th>\n",
       "      <th>Tmdb_Puntos</th>\n",
       "    </tr>\n",
       "  </thead>\n",
       "  <tbody>\n",
       "    <tr>\n",
       "      <th>751</th>\n",
       "      <td>ts296776</td>\n",
       "      <td>4th and Forever: Alcoa</td>\n",
       "      <td>2020s</td>\n",
       "      <td>9999</td>\n",
       "      <td>31</td>\n",
       "      <td>documentation</td>\n",
       "      <td>US</td>\n",
       "      <td>1</td>\n",
       "      <td>8.000</td>\n",
       "      <td>0.0</td>\n",
       "    </tr>\n",
       "    <tr>\n",
       "      <th>752</th>\n",
       "      <td>ts306190</td>\n",
       "      <td>Doug to the Rescue</td>\n",
       "      <td>2020s</td>\n",
       "      <td>9999</td>\n",
       "      <td>30</td>\n",
       "      <td>documentation</td>\n",
       "      <td>US</td>\n",
       "      <td>1</td>\n",
       "      <td>1.791</td>\n",
       "      <td>0.0</td>\n",
       "    </tr>\n",
       "    <tr>\n",
       "      <th>753</th>\n",
       "      <td>ts317682</td>\n",
       "      <td>Juanpa + Chef</td>\n",
       "      <td>2020s</td>\n",
       "      <td>13</td>\n",
       "      <td>25</td>\n",
       "      <td>reality</td>\n",
       "      <td>MX</td>\n",
       "      <td>1</td>\n",
       "      <td>1.600</td>\n",
       "      <td>0.0</td>\n",
       "    </tr>\n",
       "    <tr>\n",
       "      <th>754</th>\n",
       "      <td>ts306106</td>\n",
       "      <td>Who's By Your Side</td>\n",
       "      <td>2020s</td>\n",
       "      <td>9999</td>\n",
       "      <td>52</td>\n",
       "      <td>drama</td>\n",
       "      <td>TW</td>\n",
       "      <td>1</td>\n",
       "      <td>5.039</td>\n",
       "      <td>0.0</td>\n",
       "    </tr>\n",
       "    <tr>\n",
       "      <th>755</th>\n",
       "      <td>ts272570</td>\n",
       "      <td>Double Cross with Blake Griffin</td>\n",
       "      <td>2020s</td>\n",
       "      <td>9999</td>\n",
       "      <td>24</td>\n",
       "      <td>reality</td>\n",
       "      <td>US</td>\n",
       "      <td>1</td>\n",
       "      <td>5.000</td>\n",
       "      <td>0.0</td>\n",
       "    </tr>\n",
       "  </tbody>\n",
       "</table>\n",
       "</div>"
      ],
      "text/plain": [
       "           ID                           Titulo Decada  Edad_Recom  Duracion  \\\n",
       "751  ts296776           4th and Forever: Alcoa  2020s        9999        31   \n",
       "752  ts306190               Doug to the Rescue  2020s        9999        30   \n",
       "753  ts317682                    Juanpa + Chef  2020s          13        25   \n",
       "754  ts306106               Who's By Your Side  2020s        9999        52   \n",
       "755  ts272570  Double Cross with Blake Griffin  2020s        9999        24   \n",
       "\n",
       "           Generos Paises_Prod  Temporadas  Imdb_Puntos  Tmdb_Puntos  \n",
       "751  documentation          US           1        8.000          0.0  \n",
       "752  documentation          US           1        1.791          0.0  \n",
       "753        reality          MX           1        1.600          0.0  \n",
       "754          drama          TW           1        5.039          0.0  \n",
       "755        reality          US           1        5.000          0.0  "
      ]
     },
     "execution_count": 53,
     "metadata": {},
     "output_type": "execute_result"
    }
   ],
   "source": [
    "hbo_series_df.tail()"
   ]
  },
  {
   "cell_type": "code",
   "execution_count": 54,
   "metadata": {},
   "outputs": [
    {
     "name": "stdout",
     "output_type": "stream",
     "text": [
      "n_filas_peliculas: 2538\n"
     ]
    }
   ],
   "source": [
    "hbo_peliculas_df = data_hbo2[data_hbo2['Tipo']=='MOVIE']\n",
    "hbo_peliculas_df = hbo_peliculas_df.reset_index(drop = True)\n",
    "print(\"n_filas_peliculas:\", hbo_peliculas_df.shape[0])\n",
    "hbo_peliculas_df.head()\n",
    "\n",
    "# Eliminamos la columna de tipo porque ya no nos interesa\n",
    "# Al ser peliculas, tambien eliminamos la columna de temporadas\n",
    "del hbo_peliculas_df['Tipo']\n",
    "del hbo_peliculas_df['Temporadas']"
   ]
  },
  {
   "cell_type": "code",
   "execution_count": 55,
   "metadata": {},
   "outputs": [
    {
     "data": {
      "text/html": [
       "<div>\n",
       "<style scoped>\n",
       "    .dataframe tbody tr th:only-of-type {\n",
       "        vertical-align: middle;\n",
       "    }\n",
       "\n",
       "    .dataframe tbody tr th {\n",
       "        vertical-align: top;\n",
       "    }\n",
       "\n",
       "    .dataframe thead th {\n",
       "        text-align: right;\n",
       "    }\n",
       "</style>\n",
       "<table border=\"1\" class=\"dataframe\">\n",
       "  <thead>\n",
       "    <tr style=\"text-align: right;\">\n",
       "      <th></th>\n",
       "      <th>ID</th>\n",
       "      <th>Titulo</th>\n",
       "      <th>Decada</th>\n",
       "      <th>Edad_Recom</th>\n",
       "      <th>Duracion</th>\n",
       "      <th>Generos</th>\n",
       "      <th>Paises_Prod</th>\n",
       "      <th>Imdb_Puntos</th>\n",
       "      <th>Tmdb_Puntos</th>\n",
       "    </tr>\n",
       "  </thead>\n",
       "  <tbody>\n",
       "    <tr>\n",
       "      <th>0</th>\n",
       "      <td>tm155702</td>\n",
       "      <td>The Wizard of Oz</td>\n",
       "      <td>1930s</td>\n",
       "      <td>0</td>\n",
       "      <td>102</td>\n",
       "      <td>fantasy</td>\n",
       "      <td>US</td>\n",
       "      <td>8.1</td>\n",
       "      <td>7.6</td>\n",
       "    </tr>\n",
       "    <tr>\n",
       "      <th>1</th>\n",
       "      <td>tm83648</td>\n",
       "      <td>Citizen Kane</td>\n",
       "      <td>1940s</td>\n",
       "      <td>7</td>\n",
       "      <td>119</td>\n",
       "      <td>drama</td>\n",
       "      <td>US</td>\n",
       "      <td>8.3</td>\n",
       "      <td>8.0</td>\n",
       "    </tr>\n",
       "    <tr>\n",
       "      <th>2</th>\n",
       "      <td>tm77588</td>\n",
       "      <td>Casablanca</td>\n",
       "      <td>1940s</td>\n",
       "      <td>7</td>\n",
       "      <td>102</td>\n",
       "      <td>drama</td>\n",
       "      <td>US</td>\n",
       "      <td>8.5</td>\n",
       "      <td>8.2</td>\n",
       "    </tr>\n",
       "    <tr>\n",
       "      <th>3</th>\n",
       "      <td>tm82363</td>\n",
       "      <td>The Big Sleep</td>\n",
       "      <td>1940s</td>\n",
       "      <td>9999</td>\n",
       "      <td>116</td>\n",
       "      <td>thriller</td>\n",
       "      <td>US</td>\n",
       "      <td>7.9</td>\n",
       "      <td>7.7</td>\n",
       "    </tr>\n",
       "    <tr>\n",
       "      <th>4</th>\n",
       "      <td>tm84701</td>\n",
       "      <td>The Maltese Falcon</td>\n",
       "      <td>1940s</td>\n",
       "      <td>9999</td>\n",
       "      <td>100</td>\n",
       "      <td>thriller</td>\n",
       "      <td>US</td>\n",
       "      <td>8.0</td>\n",
       "      <td>7.8</td>\n",
       "    </tr>\n",
       "  </tbody>\n",
       "</table>\n",
       "</div>"
      ],
      "text/plain": [
       "         ID              Titulo Decada  Edad_Recom  Duracion   Generos  \\\n",
       "0  tm155702    The Wizard of Oz  1930s           0       102   fantasy   \n",
       "1   tm83648        Citizen Kane  1940s           7       119     drama   \n",
       "2   tm77588          Casablanca  1940s           7       102     drama   \n",
       "3   tm82363       The Big Sleep  1940s        9999       116  thriller   \n",
       "4   tm84701  The Maltese Falcon  1940s        9999       100  thriller   \n",
       "\n",
       "  Paises_Prod  Imdb_Puntos  Tmdb_Puntos  \n",
       "0          US          8.1          7.6  \n",
       "1          US          8.3          8.0  \n",
       "2          US          8.5          8.2  \n",
       "3          US          7.9          7.7  \n",
       "4          US          8.0          7.8  "
      ]
     },
     "execution_count": 55,
     "metadata": {},
     "output_type": "execute_result"
    }
   ],
   "source": [
    "hbo_peliculas_df.head()"
   ]
  },
  {
   "cell_type": "code",
   "execution_count": 56,
   "metadata": {},
   "outputs": [
    {
     "data": {
      "text/html": [
       "<div>\n",
       "<style scoped>\n",
       "    .dataframe tbody tr th:only-of-type {\n",
       "        vertical-align: middle;\n",
       "    }\n",
       "\n",
       "    .dataframe tbody tr th {\n",
       "        vertical-align: top;\n",
       "    }\n",
       "\n",
       "    .dataframe thead th {\n",
       "        text-align: right;\n",
       "    }\n",
       "</style>\n",
       "<table border=\"1\" class=\"dataframe\">\n",
       "  <thead>\n",
       "    <tr style=\"text-align: right;\">\n",
       "      <th></th>\n",
       "      <th>ID</th>\n",
       "      <th>Titulo</th>\n",
       "      <th>Decada</th>\n",
       "      <th>Edad_Recom</th>\n",
       "      <th>Duracion</th>\n",
       "      <th>Generos</th>\n",
       "      <th>Paises_Prod</th>\n",
       "      <th>Imdb_Puntos</th>\n",
       "      <th>Tmdb_Puntos</th>\n",
       "    </tr>\n",
       "  </thead>\n",
       "  <tbody>\n",
       "    <tr>\n",
       "      <th>2533</th>\n",
       "      <td>tm1082718</td>\n",
       "      <td>Romeo Santos: Utopia Live from MetLife Stadium</td>\n",
       "      <td>2020s</td>\n",
       "      <td>9999</td>\n",
       "      <td>103</td>\n",
       "      <td>romance</td>\n",
       "      <td>PR</td>\n",
       "      <td>8.425</td>\n",
       "      <td>8.1</td>\n",
       "    </tr>\n",
       "    <tr>\n",
       "      <th>2534</th>\n",
       "      <td>tm1067128</td>\n",
       "      <td>Algo Azul</td>\n",
       "      <td>2020s</td>\n",
       "      <td>9999</td>\n",
       "      <td>90</td>\n",
       "      <td>comedy</td>\n",
       "      <td>PA</td>\n",
       "      <td>5.900</td>\n",
       "      <td>2.0</td>\n",
       "    </tr>\n",
       "    <tr>\n",
       "      <th>2535</th>\n",
       "      <td>tm1121489</td>\n",
       "      <td>Entre Nos: What She Said</td>\n",
       "      <td>2020s</td>\n",
       "      <td>9999</td>\n",
       "      <td>28</td>\n",
       "      <td>comedy</td>\n",
       "      <td></td>\n",
       "      <td>0.000</td>\n",
       "      <td>0.0</td>\n",
       "    </tr>\n",
       "    <tr>\n",
       "      <th>2536</th>\n",
       "      <td>tm1121486</td>\n",
       "      <td>Entre Nos: The Winners 2</td>\n",
       "      <td>2020s</td>\n",
       "      <td>9999</td>\n",
       "      <td>28</td>\n",
       "      <td>comedy</td>\n",
       "      <td></td>\n",
       "      <td>0.000</td>\n",
       "      <td>0.0</td>\n",
       "    </tr>\n",
       "    <tr>\n",
       "      <th>2537</th>\n",
       "      <td>tm989132</td>\n",
       "      <td>The Infamous Future</td>\n",
       "      <td>2020s</td>\n",
       "      <td>9999</td>\n",
       "      <td>40</td>\n",
       "      <td>documentation</td>\n",
       "      <td>US</td>\n",
       "      <td>1.101</td>\n",
       "      <td>5.3</td>\n",
       "    </tr>\n",
       "  </tbody>\n",
       "</table>\n",
       "</div>"
      ],
      "text/plain": [
       "             ID                                          Titulo Decada  \\\n",
       "2533  tm1082718  Romeo Santos: Utopia Live from MetLife Stadium  2020s   \n",
       "2534  tm1067128                                       Algo Azul  2020s   \n",
       "2535  tm1121489                        Entre Nos: What She Said  2020s   \n",
       "2536  tm1121486                        Entre Nos: The Winners 2  2020s   \n",
       "2537   tm989132                             The Infamous Future  2020s   \n",
       "\n",
       "      Edad_Recom  Duracion        Generos Paises_Prod  Imdb_Puntos  \\\n",
       "2533        9999       103        romance          PR        8.425   \n",
       "2534        9999        90         comedy          PA        5.900   \n",
       "2535        9999        28         comedy                    0.000   \n",
       "2536        9999        28         comedy                    0.000   \n",
       "2537        9999        40  documentation          US        1.101   \n",
       "\n",
       "      Tmdb_Puntos  \n",
       "2533          8.1  \n",
       "2534          2.0  \n",
       "2535          0.0  \n",
       "2536          0.0  \n",
       "2537          5.3  "
      ]
     },
     "execution_count": 56,
     "metadata": {},
     "output_type": "execute_result"
    }
   ],
   "source": [
    "hbo_peliculas_df.tail()"
   ]
  },
  {
   "cell_type": "code",
   "execution_count": 57,
   "metadata": {},
   "outputs": [
    {
     "data": {
      "text/plain": [
       "True"
      ]
     },
     "execution_count": 57,
     "metadata": {},
     "output_type": "execute_result"
    }
   ],
   "source": [
    "#Comprobamos\n",
    "data_hbo.shape[0] == hbo_peliculas_df.shape[0] + hbo_series_df.shape[0]"
   ]
  },
  {
   "cell_type": "code",
   "execution_count": 58,
   "metadata": {},
   "outputs": [
    {
     "data": {
      "application/vnd.plotly.v1+json": {
       "config": {
        "plotlyServerURL": "https://plot.ly"
       },
       "data": [
        {
         "customdata": [
          [
           "Peliculas"
          ],
          [
           "Series"
          ]
         ],
         "domain": {
          "x": [
           0,
           1
          ],
          "y": [
           0,
           1
          ]
         },
         "hovertemplate": [
          "Peliculas",
          "Series"
         ],
         "legendgroup": "",
         "marker": {
          "colors": [
           "black",
           "purple"
          ],
          "line": {
           "color": "white",
           "width": 2.4
          }
         },
         "name": "",
         "showlegend": false,
         "type": "pie",
         "values": [
          2538,
          756
         ]
        }
       ],
       "layout": {
        "font": {
         "family": "Arial"
        },
        "height": 450,
        "legend": {
         "tracegroupgap": 0
        },
        "template": {
         "data": {
          "bar": [
           {
            "error_x": {
             "color": "#2a3f5f"
            },
            "error_y": {
             "color": "#2a3f5f"
            },
            "marker": {
             "line": {
              "color": "#E5ECF6",
              "width": 0.5
             },
             "pattern": {
              "fillmode": "overlay",
              "size": 10,
              "solidity": 0.2
             }
            },
            "type": "bar"
           }
          ],
          "barpolar": [
           {
            "marker": {
             "line": {
              "color": "#E5ECF6",
              "width": 0.5
             },
             "pattern": {
              "fillmode": "overlay",
              "size": 10,
              "solidity": 0.2
             }
            },
            "type": "barpolar"
           }
          ],
          "carpet": [
           {
            "aaxis": {
             "endlinecolor": "#2a3f5f",
             "gridcolor": "white",
             "linecolor": "white",
             "minorgridcolor": "white",
             "startlinecolor": "#2a3f5f"
            },
            "baxis": {
             "endlinecolor": "#2a3f5f",
             "gridcolor": "white",
             "linecolor": "white",
             "minorgridcolor": "white",
             "startlinecolor": "#2a3f5f"
            },
            "type": "carpet"
           }
          ],
          "choropleth": [
           {
            "colorbar": {
             "outlinewidth": 0,
             "ticks": ""
            },
            "type": "choropleth"
           }
          ],
          "contour": [
           {
            "colorbar": {
             "outlinewidth": 0,
             "ticks": ""
            },
            "colorscale": [
             [
              0,
              "#0d0887"
             ],
             [
              0.1111111111111111,
              "#46039f"
             ],
             [
              0.2222222222222222,
              "#7201a8"
             ],
             [
              0.3333333333333333,
              "#9c179e"
             ],
             [
              0.4444444444444444,
              "#bd3786"
             ],
             [
              0.5555555555555556,
              "#d8576b"
             ],
             [
              0.6666666666666666,
              "#ed7953"
             ],
             [
              0.7777777777777778,
              "#fb9f3a"
             ],
             [
              0.8888888888888888,
              "#fdca26"
             ],
             [
              1,
              "#f0f921"
             ]
            ],
            "type": "contour"
           }
          ],
          "contourcarpet": [
           {
            "colorbar": {
             "outlinewidth": 0,
             "ticks": ""
            },
            "type": "contourcarpet"
           }
          ],
          "heatmap": [
           {
            "colorbar": {
             "outlinewidth": 0,
             "ticks": ""
            },
            "colorscale": [
             [
              0,
              "#0d0887"
             ],
             [
              0.1111111111111111,
              "#46039f"
             ],
             [
              0.2222222222222222,
              "#7201a8"
             ],
             [
              0.3333333333333333,
              "#9c179e"
             ],
             [
              0.4444444444444444,
              "#bd3786"
             ],
             [
              0.5555555555555556,
              "#d8576b"
             ],
             [
              0.6666666666666666,
              "#ed7953"
             ],
             [
              0.7777777777777778,
              "#fb9f3a"
             ],
             [
              0.8888888888888888,
              "#fdca26"
             ],
             [
              1,
              "#f0f921"
             ]
            ],
            "type": "heatmap"
           }
          ],
          "heatmapgl": [
           {
            "colorbar": {
             "outlinewidth": 0,
             "ticks": ""
            },
            "colorscale": [
             [
              0,
              "#0d0887"
             ],
             [
              0.1111111111111111,
              "#46039f"
             ],
             [
              0.2222222222222222,
              "#7201a8"
             ],
             [
              0.3333333333333333,
              "#9c179e"
             ],
             [
              0.4444444444444444,
              "#bd3786"
             ],
             [
              0.5555555555555556,
              "#d8576b"
             ],
             [
              0.6666666666666666,
              "#ed7953"
             ],
             [
              0.7777777777777778,
              "#fb9f3a"
             ],
             [
              0.8888888888888888,
              "#fdca26"
             ],
             [
              1,
              "#f0f921"
             ]
            ],
            "type": "heatmapgl"
           }
          ],
          "histogram": [
           {
            "marker": {
             "pattern": {
              "fillmode": "overlay",
              "size": 10,
              "solidity": 0.2
             }
            },
            "type": "histogram"
           }
          ],
          "histogram2d": [
           {
            "colorbar": {
             "outlinewidth": 0,
             "ticks": ""
            },
            "colorscale": [
             [
              0,
              "#0d0887"
             ],
             [
              0.1111111111111111,
              "#46039f"
             ],
             [
              0.2222222222222222,
              "#7201a8"
             ],
             [
              0.3333333333333333,
              "#9c179e"
             ],
             [
              0.4444444444444444,
              "#bd3786"
             ],
             [
              0.5555555555555556,
              "#d8576b"
             ],
             [
              0.6666666666666666,
              "#ed7953"
             ],
             [
              0.7777777777777778,
              "#fb9f3a"
             ],
             [
              0.8888888888888888,
              "#fdca26"
             ],
             [
              1,
              "#f0f921"
             ]
            ],
            "type": "histogram2d"
           }
          ],
          "histogram2dcontour": [
           {
            "colorbar": {
             "outlinewidth": 0,
             "ticks": ""
            },
            "colorscale": [
             [
              0,
              "#0d0887"
             ],
             [
              0.1111111111111111,
              "#46039f"
             ],
             [
              0.2222222222222222,
              "#7201a8"
             ],
             [
              0.3333333333333333,
              "#9c179e"
             ],
             [
              0.4444444444444444,
              "#bd3786"
             ],
             [
              0.5555555555555556,
              "#d8576b"
             ],
             [
              0.6666666666666666,
              "#ed7953"
             ],
             [
              0.7777777777777778,
              "#fb9f3a"
             ],
             [
              0.8888888888888888,
              "#fdca26"
             ],
             [
              1,
              "#f0f921"
             ]
            ],
            "type": "histogram2dcontour"
           }
          ],
          "mesh3d": [
           {
            "colorbar": {
             "outlinewidth": 0,
             "ticks": ""
            },
            "type": "mesh3d"
           }
          ],
          "parcoords": [
           {
            "line": {
             "colorbar": {
              "outlinewidth": 0,
              "ticks": ""
             }
            },
            "type": "parcoords"
           }
          ],
          "pie": [
           {
            "automargin": true,
            "type": "pie"
           }
          ],
          "scatter": [
           {
            "fillpattern": {
             "fillmode": "overlay",
             "size": 10,
             "solidity": 0.2
            },
            "type": "scatter"
           }
          ],
          "scatter3d": [
           {
            "line": {
             "colorbar": {
              "outlinewidth": 0,
              "ticks": ""
             }
            },
            "marker": {
             "colorbar": {
              "outlinewidth": 0,
              "ticks": ""
             }
            },
            "type": "scatter3d"
           }
          ],
          "scattercarpet": [
           {
            "marker": {
             "colorbar": {
              "outlinewidth": 0,
              "ticks": ""
             }
            },
            "type": "scattercarpet"
           }
          ],
          "scattergeo": [
           {
            "marker": {
             "colorbar": {
              "outlinewidth": 0,
              "ticks": ""
             }
            },
            "type": "scattergeo"
           }
          ],
          "scattergl": [
           {
            "marker": {
             "colorbar": {
              "outlinewidth": 0,
              "ticks": ""
             }
            },
            "type": "scattergl"
           }
          ],
          "scattermapbox": [
           {
            "marker": {
             "colorbar": {
              "outlinewidth": 0,
              "ticks": ""
             }
            },
            "type": "scattermapbox"
           }
          ],
          "scatterpolar": [
           {
            "marker": {
             "colorbar": {
              "outlinewidth": 0,
              "ticks": ""
             }
            },
            "type": "scatterpolar"
           }
          ],
          "scatterpolargl": [
           {
            "marker": {
             "colorbar": {
              "outlinewidth": 0,
              "ticks": ""
             }
            },
            "type": "scatterpolargl"
           }
          ],
          "scatterternary": [
           {
            "marker": {
             "colorbar": {
              "outlinewidth": 0,
              "ticks": ""
             }
            },
            "type": "scatterternary"
           }
          ],
          "surface": [
           {
            "colorbar": {
             "outlinewidth": 0,
             "ticks": ""
            },
            "colorscale": [
             [
              0,
              "#0d0887"
             ],
             [
              0.1111111111111111,
              "#46039f"
             ],
             [
              0.2222222222222222,
              "#7201a8"
             ],
             [
              0.3333333333333333,
              "#9c179e"
             ],
             [
              0.4444444444444444,
              "#bd3786"
             ],
             [
              0.5555555555555556,
              "#d8576b"
             ],
             [
              0.6666666666666666,
              "#ed7953"
             ],
             [
              0.7777777777777778,
              "#fb9f3a"
             ],
             [
              0.8888888888888888,
              "#fdca26"
             ],
             [
              1,
              "#f0f921"
             ]
            ],
            "type": "surface"
           }
          ],
          "table": [
           {
            "cells": {
             "fill": {
              "color": "#EBF0F8"
             },
             "line": {
              "color": "white"
             }
            },
            "header": {
             "fill": {
              "color": "#C8D4E3"
             },
             "line": {
              "color": "white"
             }
            },
            "type": "table"
           }
          ]
         },
         "layout": {
          "annotationdefaults": {
           "arrowcolor": "#2a3f5f",
           "arrowhead": 0,
           "arrowwidth": 1
          },
          "autotypenumbers": "strict",
          "coloraxis": {
           "colorbar": {
            "outlinewidth": 0,
            "ticks": ""
           }
          },
          "colorscale": {
           "diverging": [
            [
             0,
             "#8e0152"
            ],
            [
             0.1,
             "#c51b7d"
            ],
            [
             0.2,
             "#de77ae"
            ],
            [
             0.3,
             "#f1b6da"
            ],
            [
             0.4,
             "#fde0ef"
            ],
            [
             0.5,
             "#f7f7f7"
            ],
            [
             0.6,
             "#e6f5d0"
            ],
            [
             0.7,
             "#b8e186"
            ],
            [
             0.8,
             "#7fbc41"
            ],
            [
             0.9,
             "#4d9221"
            ],
            [
             1,
             "#276419"
            ]
           ],
           "sequential": [
            [
             0,
             "#0d0887"
            ],
            [
             0.1111111111111111,
             "#46039f"
            ],
            [
             0.2222222222222222,
             "#7201a8"
            ],
            [
             0.3333333333333333,
             "#9c179e"
            ],
            [
             0.4444444444444444,
             "#bd3786"
            ],
            [
             0.5555555555555556,
             "#d8576b"
            ],
            [
             0.6666666666666666,
             "#ed7953"
            ],
            [
             0.7777777777777778,
             "#fb9f3a"
            ],
            [
             0.8888888888888888,
             "#fdca26"
            ],
            [
             1,
             "#f0f921"
            ]
           ],
           "sequentialminus": [
            [
             0,
             "#0d0887"
            ],
            [
             0.1111111111111111,
             "#46039f"
            ],
            [
             0.2222222222222222,
             "#7201a8"
            ],
            [
             0.3333333333333333,
             "#9c179e"
            ],
            [
             0.4444444444444444,
             "#bd3786"
            ],
            [
             0.5555555555555556,
             "#d8576b"
            ],
            [
             0.6666666666666666,
             "#ed7953"
            ],
            [
             0.7777777777777778,
             "#fb9f3a"
            ],
            [
             0.8888888888888888,
             "#fdca26"
            ],
            [
             1,
             "#f0f921"
            ]
           ]
          },
          "colorway": [
           "#636efa",
           "#EF553B",
           "#00cc96",
           "#ab63fa",
           "#FFA15A",
           "#19d3f3",
           "#FF6692",
           "#B6E880",
           "#FF97FF",
           "#FECB52"
          ],
          "font": {
           "color": "#2a3f5f"
          },
          "geo": {
           "bgcolor": "white",
           "lakecolor": "white",
           "landcolor": "#E5ECF6",
           "showlakes": true,
           "showland": true,
           "subunitcolor": "white"
          },
          "hoverlabel": {
           "align": "left"
          },
          "hovermode": "closest",
          "mapbox": {
           "style": "light"
          },
          "paper_bgcolor": "white",
          "plot_bgcolor": "#E5ECF6",
          "polar": {
           "angularaxis": {
            "gridcolor": "white",
            "linecolor": "white",
            "ticks": ""
           },
           "bgcolor": "#E5ECF6",
           "radialaxis": {
            "gridcolor": "white",
            "linecolor": "white",
            "ticks": ""
           }
          },
          "scene": {
           "xaxis": {
            "backgroundcolor": "#E5ECF6",
            "gridcolor": "white",
            "gridwidth": 2,
            "linecolor": "white",
            "showbackground": true,
            "ticks": "",
            "zerolinecolor": "white"
           },
           "yaxis": {
            "backgroundcolor": "#E5ECF6",
            "gridcolor": "white",
            "gridwidth": 2,
            "linecolor": "white",
            "showbackground": true,
            "ticks": "",
            "zerolinecolor": "white"
           },
           "zaxis": {
            "backgroundcolor": "#E5ECF6",
            "gridcolor": "white",
            "gridwidth": 2,
            "linecolor": "white",
            "showbackground": true,
            "ticks": "",
            "zerolinecolor": "white"
           }
          },
          "shapedefaults": {
           "line": {
            "color": "#2a3f5f"
           }
          },
          "ternary": {
           "aaxis": {
            "gridcolor": "white",
            "linecolor": "white",
            "ticks": ""
           },
           "baxis": {
            "gridcolor": "white",
            "linecolor": "white",
            "ticks": ""
           },
           "bgcolor": "#E5ECF6",
           "caxis": {
            "gridcolor": "white",
            "linecolor": "white",
            "ticks": ""
           }
          },
          "title": {
           "x": 0.05
          },
          "xaxis": {
           "automargin": true,
           "gridcolor": "white",
           "linecolor": "white",
           "ticks": "",
           "title": {
            "standoff": 15
           },
           "zerolinecolor": "white",
           "zerolinewidth": 2
          },
          "yaxis": {
           "automargin": true,
           "gridcolor": "white",
           "linecolor": "white",
           "ticks": "",
           "title": {
            "standoff": 15
           },
           "zerolinecolor": "white",
           "zerolinewidth": 2
          }
         }
        },
        "title": {
         "font": {
          "family": "Arial"
         },
         "text": "<b>Peso Contenido<b>"
        },
        "width": 600
       }
      },
      "text/html": [
       "<div>                            <div id=\"5e5bd70f-19e9-4ebe-a87f-9981be0ec1d7\" class=\"plotly-graph-div\" style=\"height:450px; width:600px;\"></div>            <script type=\"text/javascript\">                require([\"plotly\"], function(Plotly) {                    window.PLOTLYENV=window.PLOTLYENV || {};                                    if (document.getElementById(\"5e5bd70f-19e9-4ebe-a87f-9981be0ec1d7\")) {                    Plotly.newPlot(                        \"5e5bd70f-19e9-4ebe-a87f-9981be0ec1d7\",                        [{\"customdata\":[[\"Peliculas\"],[\"Series\"]],\"domain\":{\"x\":[0.0,1.0],\"y\":[0.0,1.0]},\"hovertemplate\":[\"Peliculas\",\"Series\"],\"legendgroup\":\"\",\"marker\":{\"colors\":[\"black\",\"purple\"],\"line\":{\"color\":\"white\",\"width\":2.4}},\"name\":\"\",\"showlegend\":false,\"values\":[2538,756],\"type\":\"pie\"}],                        {\"template\":{\"data\":{\"histogram2dcontour\":[{\"type\":\"histogram2dcontour\",\"colorbar\":{\"outlinewidth\":0,\"ticks\":\"\"},\"colorscale\":[[0.0,\"#0d0887\"],[0.1111111111111111,\"#46039f\"],[0.2222222222222222,\"#7201a8\"],[0.3333333333333333,\"#9c179e\"],[0.4444444444444444,\"#bd3786\"],[0.5555555555555556,\"#d8576b\"],[0.6666666666666666,\"#ed7953\"],[0.7777777777777778,\"#fb9f3a\"],[0.8888888888888888,\"#fdca26\"],[1.0,\"#f0f921\"]]}],\"choropleth\":[{\"type\":\"choropleth\",\"colorbar\":{\"outlinewidth\":0,\"ticks\":\"\"}}],\"histogram2d\":[{\"type\":\"histogram2d\",\"colorbar\":{\"outlinewidth\":0,\"ticks\":\"\"},\"colorscale\":[[0.0,\"#0d0887\"],[0.1111111111111111,\"#46039f\"],[0.2222222222222222,\"#7201a8\"],[0.3333333333333333,\"#9c179e\"],[0.4444444444444444,\"#bd3786\"],[0.5555555555555556,\"#d8576b\"],[0.6666666666666666,\"#ed7953\"],[0.7777777777777778,\"#fb9f3a\"],[0.8888888888888888,\"#fdca26\"],[1.0,\"#f0f921\"]]}],\"heatmap\":[{\"type\":\"heatmap\",\"colorbar\":{\"outlinewidth\":0,\"ticks\":\"\"},\"colorscale\":[[0.0,\"#0d0887\"],[0.1111111111111111,\"#46039f\"],[0.2222222222222222,\"#7201a8\"],[0.3333333333333333,\"#9c179e\"],[0.4444444444444444,\"#bd3786\"],[0.5555555555555556,\"#d8576b\"],[0.6666666666666666,\"#ed7953\"],[0.7777777777777778,\"#fb9f3a\"],[0.8888888888888888,\"#fdca26\"],[1.0,\"#f0f921\"]]}],\"heatmapgl\":[{\"type\":\"heatmapgl\",\"colorbar\":{\"outlinewidth\":0,\"ticks\":\"\"},\"colorscale\":[[0.0,\"#0d0887\"],[0.1111111111111111,\"#46039f\"],[0.2222222222222222,\"#7201a8\"],[0.3333333333333333,\"#9c179e\"],[0.4444444444444444,\"#bd3786\"],[0.5555555555555556,\"#d8576b\"],[0.6666666666666666,\"#ed7953\"],[0.7777777777777778,\"#fb9f3a\"],[0.8888888888888888,\"#fdca26\"],[1.0,\"#f0f921\"]]}],\"contourcarpet\":[{\"type\":\"contourcarpet\",\"colorbar\":{\"outlinewidth\":0,\"ticks\":\"\"}}],\"contour\":[{\"type\":\"contour\",\"colorbar\":{\"outlinewidth\":0,\"ticks\":\"\"},\"colorscale\":[[0.0,\"#0d0887\"],[0.1111111111111111,\"#46039f\"],[0.2222222222222222,\"#7201a8\"],[0.3333333333333333,\"#9c179e\"],[0.4444444444444444,\"#bd3786\"],[0.5555555555555556,\"#d8576b\"],[0.6666666666666666,\"#ed7953\"],[0.7777777777777778,\"#fb9f3a\"],[0.8888888888888888,\"#fdca26\"],[1.0,\"#f0f921\"]]}],\"surface\":[{\"type\":\"surface\",\"colorbar\":{\"outlinewidth\":0,\"ticks\":\"\"},\"colorscale\":[[0.0,\"#0d0887\"],[0.1111111111111111,\"#46039f\"],[0.2222222222222222,\"#7201a8\"],[0.3333333333333333,\"#9c179e\"],[0.4444444444444444,\"#bd3786\"],[0.5555555555555556,\"#d8576b\"],[0.6666666666666666,\"#ed7953\"],[0.7777777777777778,\"#fb9f3a\"],[0.8888888888888888,\"#fdca26\"],[1.0,\"#f0f921\"]]}],\"mesh3d\":[{\"type\":\"mesh3d\",\"colorbar\":{\"outlinewidth\":0,\"ticks\":\"\"}}],\"scatter\":[{\"fillpattern\":{\"fillmode\":\"overlay\",\"size\":10,\"solidity\":0.2},\"type\":\"scatter\"}],\"parcoords\":[{\"type\":\"parcoords\",\"line\":{\"colorbar\":{\"outlinewidth\":0,\"ticks\":\"\"}}}],\"scatterpolargl\":[{\"type\":\"scatterpolargl\",\"marker\":{\"colorbar\":{\"outlinewidth\":0,\"ticks\":\"\"}}}],\"bar\":[{\"error_x\":{\"color\":\"#2a3f5f\"},\"error_y\":{\"color\":\"#2a3f5f\"},\"marker\":{\"line\":{\"color\":\"#E5ECF6\",\"width\":0.5},\"pattern\":{\"fillmode\":\"overlay\",\"size\":10,\"solidity\":0.2}},\"type\":\"bar\"}],\"scattergeo\":[{\"type\":\"scattergeo\",\"marker\":{\"colorbar\":{\"outlinewidth\":0,\"ticks\":\"\"}}}],\"scatterpolar\":[{\"type\":\"scatterpolar\",\"marker\":{\"colorbar\":{\"outlinewidth\":0,\"ticks\":\"\"}}}],\"histogram\":[{\"marker\":{\"pattern\":{\"fillmode\":\"overlay\",\"size\":10,\"solidity\":0.2}},\"type\":\"histogram\"}],\"scattergl\":[{\"type\":\"scattergl\",\"marker\":{\"colorbar\":{\"outlinewidth\":0,\"ticks\":\"\"}}}],\"scatter3d\":[{\"type\":\"scatter3d\",\"line\":{\"colorbar\":{\"outlinewidth\":0,\"ticks\":\"\"}},\"marker\":{\"colorbar\":{\"outlinewidth\":0,\"ticks\":\"\"}}}],\"scattermapbox\":[{\"type\":\"scattermapbox\",\"marker\":{\"colorbar\":{\"outlinewidth\":0,\"ticks\":\"\"}}}],\"scatterternary\":[{\"type\":\"scatterternary\",\"marker\":{\"colorbar\":{\"outlinewidth\":0,\"ticks\":\"\"}}}],\"scattercarpet\":[{\"type\":\"scattercarpet\",\"marker\":{\"colorbar\":{\"outlinewidth\":0,\"ticks\":\"\"}}}],\"carpet\":[{\"aaxis\":{\"endlinecolor\":\"#2a3f5f\",\"gridcolor\":\"white\",\"linecolor\":\"white\",\"minorgridcolor\":\"white\",\"startlinecolor\":\"#2a3f5f\"},\"baxis\":{\"endlinecolor\":\"#2a3f5f\",\"gridcolor\":\"white\",\"linecolor\":\"white\",\"minorgridcolor\":\"white\",\"startlinecolor\":\"#2a3f5f\"},\"type\":\"carpet\"}],\"table\":[{\"cells\":{\"fill\":{\"color\":\"#EBF0F8\"},\"line\":{\"color\":\"white\"}},\"header\":{\"fill\":{\"color\":\"#C8D4E3\"},\"line\":{\"color\":\"white\"}},\"type\":\"table\"}],\"barpolar\":[{\"marker\":{\"line\":{\"color\":\"#E5ECF6\",\"width\":0.5},\"pattern\":{\"fillmode\":\"overlay\",\"size\":10,\"solidity\":0.2}},\"type\":\"barpolar\"}],\"pie\":[{\"automargin\":true,\"type\":\"pie\"}]},\"layout\":{\"autotypenumbers\":\"strict\",\"colorway\":[\"#636efa\",\"#EF553B\",\"#00cc96\",\"#ab63fa\",\"#FFA15A\",\"#19d3f3\",\"#FF6692\",\"#B6E880\",\"#FF97FF\",\"#FECB52\"],\"font\":{\"color\":\"#2a3f5f\"},\"hovermode\":\"closest\",\"hoverlabel\":{\"align\":\"left\"},\"paper_bgcolor\":\"white\",\"plot_bgcolor\":\"#E5ECF6\",\"polar\":{\"bgcolor\":\"#E5ECF6\",\"angularaxis\":{\"gridcolor\":\"white\",\"linecolor\":\"white\",\"ticks\":\"\"},\"radialaxis\":{\"gridcolor\":\"white\",\"linecolor\":\"white\",\"ticks\":\"\"}},\"ternary\":{\"bgcolor\":\"#E5ECF6\",\"aaxis\":{\"gridcolor\":\"white\",\"linecolor\":\"white\",\"ticks\":\"\"},\"baxis\":{\"gridcolor\":\"white\",\"linecolor\":\"white\",\"ticks\":\"\"},\"caxis\":{\"gridcolor\":\"white\",\"linecolor\":\"white\",\"ticks\":\"\"}},\"coloraxis\":{\"colorbar\":{\"outlinewidth\":0,\"ticks\":\"\"}},\"colorscale\":{\"sequential\":[[0.0,\"#0d0887\"],[0.1111111111111111,\"#46039f\"],[0.2222222222222222,\"#7201a8\"],[0.3333333333333333,\"#9c179e\"],[0.4444444444444444,\"#bd3786\"],[0.5555555555555556,\"#d8576b\"],[0.6666666666666666,\"#ed7953\"],[0.7777777777777778,\"#fb9f3a\"],[0.8888888888888888,\"#fdca26\"],[1.0,\"#f0f921\"]],\"sequentialminus\":[[0.0,\"#0d0887\"],[0.1111111111111111,\"#46039f\"],[0.2222222222222222,\"#7201a8\"],[0.3333333333333333,\"#9c179e\"],[0.4444444444444444,\"#bd3786\"],[0.5555555555555556,\"#d8576b\"],[0.6666666666666666,\"#ed7953\"],[0.7777777777777778,\"#fb9f3a\"],[0.8888888888888888,\"#fdca26\"],[1.0,\"#f0f921\"]],\"diverging\":[[0,\"#8e0152\"],[0.1,\"#c51b7d\"],[0.2,\"#de77ae\"],[0.3,\"#f1b6da\"],[0.4,\"#fde0ef\"],[0.5,\"#f7f7f7\"],[0.6,\"#e6f5d0\"],[0.7,\"#b8e186\"],[0.8,\"#7fbc41\"],[0.9,\"#4d9221\"],[1,\"#276419\"]]},\"xaxis\":{\"gridcolor\":\"white\",\"linecolor\":\"white\",\"ticks\":\"\",\"title\":{\"standoff\":15},\"zerolinecolor\":\"white\",\"automargin\":true,\"zerolinewidth\":2},\"yaxis\":{\"gridcolor\":\"white\",\"linecolor\":\"white\",\"ticks\":\"\",\"title\":{\"standoff\":15},\"zerolinecolor\":\"white\",\"automargin\":true,\"zerolinewidth\":2},\"scene\":{\"xaxis\":{\"backgroundcolor\":\"#E5ECF6\",\"gridcolor\":\"white\",\"linecolor\":\"white\",\"showbackground\":true,\"ticks\":\"\",\"zerolinecolor\":\"white\",\"gridwidth\":2},\"yaxis\":{\"backgroundcolor\":\"#E5ECF6\",\"gridcolor\":\"white\",\"linecolor\":\"white\",\"showbackground\":true,\"ticks\":\"\",\"zerolinecolor\":\"white\",\"gridwidth\":2},\"zaxis\":{\"backgroundcolor\":\"#E5ECF6\",\"gridcolor\":\"white\",\"linecolor\":\"white\",\"showbackground\":true,\"ticks\":\"\",\"zerolinecolor\":\"white\",\"gridwidth\":2}},\"shapedefaults\":{\"line\":{\"color\":\"#2a3f5f\"}},\"annotationdefaults\":{\"arrowcolor\":\"#2a3f5f\",\"arrowhead\":0,\"arrowwidth\":1},\"geo\":{\"bgcolor\":\"white\",\"landcolor\":\"#E5ECF6\",\"subunitcolor\":\"white\",\"showland\":true,\"showlakes\":true,\"lakecolor\":\"white\"},\"title\":{\"x\":0.05},\"mapbox\":{\"style\":\"light\"}}},\"legend\":{\"tracegroupgap\":0},\"title\":{\"text\":\"<b>Peso Contenido<b>\",\"font\":{\"family\":\"Arial\"}},\"height\":450,\"width\":600,\"font\":{\"family\":\"Arial\"}},                        {\"responsive\": true}                    ).then(function(){\n",
       "                            \n",
       "var gd = document.getElementById('5e5bd70f-19e9-4ebe-a87f-9981be0ec1d7');\n",
       "var x = new MutationObserver(function (mutations, observer) {{\n",
       "        var display = window.getComputedStyle(gd).display;\n",
       "        if (!display || display === 'none') {{\n",
       "            console.log([gd, 'removed!']);\n",
       "            Plotly.purge(gd);\n",
       "            observer.disconnect();\n",
       "        }}\n",
       "}});\n",
       "\n",
       "// Listen for the removal of the full notebook cells\n",
       "var notebookContainer = gd.closest('#notebook-container');\n",
       "if (notebookContainer) {{\n",
       "    x.observe(notebookContainer, {childList: true});\n",
       "}}\n",
       "\n",
       "// Listen for the clearing of the current output cell\n",
       "var outputEl = gd.closest('.output');\n",
       "if (outputEl) {{\n",
       "    x.observe(outputEl, {childList: true});\n",
       "}}\n",
       "\n",
       "                        })                };                });            </script>        </div>"
      ]
     },
     "metadata": {},
     "output_type": "display_data"
    }
   ],
   "source": [
    "# GRÁFICO PIE SERIES - PELICULAS\n",
    "\n",
    "# Si tuviesemos el numero de capitulos por temporada podríamos estimar una comparacion más realista del contenido\n",
    "# --> (se podría haber sacado con webscrapping)\n",
    "\n",
    "\n",
    "labels = ['Peliculas', 'Series']\n",
    "values =  [hbo_peliculas_df.shape[0], hbo_series_df.shape[0]]\n",
    "\n",
    "fig = px.pie(values=values, labels=labels, #names= labels,\n",
    "width = 600, height=450,\n",
    "title = \"<b>Peso Contenido<b>\", #hoverinfo=values,\n",
    "color = labels, \n",
    "color_discrete_map={'Peliculas':'black',\n",
    "                                 'Series':'purple'}\n",
    ")\n",
    "\n",
    "fig.update_traces(marker=dict(line=dict(color='white', width=2.4)),\n",
    "                    hovertemplate = labels\n",
    ")\n",
    "                 \n",
    "\n",
    "fig.update_layout(font_family = 'Arial', title_font_family='Arial')\n",
    "\n",
    "#color=labels, )\n",
    "fig.show()\n",
    "\n",
    "#color_discrete_sequence=px.colors.sequential.Greys_r\n",
    "#hol=0.5"
   ]
  },
  {
   "cell_type": "markdown",
   "metadata": {},
   "source": [
    "1.3. Ficheros Contenidos HBO MAX"
   ]
  },
  {
   "cell_type": "code",
   "execution_count": 59,
   "metadata": {},
   "outputs": [],
   "source": [
    "#  Pasamos las tablas a un CSV:\n",
    "\n",
    "hbo_peliculas_df.to_csv('df_hbo_peliculas.csv', encoding='utf-8')\n",
    "hbo_series_df.to_csv('df_hbo_series.csv', encoding='utf-8')"
   ]
  }
 ],
 "metadata": {
  "interpreter": {
   "hash": "aee8b7b246df8f9039afb4144a1f6fd8d2ca17a180786b69acc140d282b71a49"
  },
  "kernelspec": {
   "display_name": "Python 3.7.4 64-bit",
   "language": "python",
   "name": "python3"
  },
  "language_info": {
   "codemirror_mode": {
    "name": "ipython",
    "version": 3
   },
   "file_extension": ".py",
   "mimetype": "text/x-python",
   "name": "python",
   "nbconvert_exporter": "python",
   "pygments_lexer": "ipython3",
   "version": "3.7.4"
  },
  "orig_nbformat": 4
 },
 "nbformat": 4,
 "nbformat_minor": 2
}
